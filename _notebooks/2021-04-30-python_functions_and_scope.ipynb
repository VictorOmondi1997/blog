{
  "nbformat": 4,
  "nbformat_minor": 0,
  "metadata": {
    "kernelspec": {
      "display_name": "Python 3",
      "language": "python",
      "name": "python3"
    },
    "language_info": {
      "codemirror_mode": {
        "name": "ipython",
        "version": 3
      },
      "file_extension": ".py",
      "mimetype": "text/x-python",
      "name": "python",
      "nbconvert_exporter": "python",
      "pygments_lexer": "ipython3",
      "version": "3.8.5"
    },
    "colab": {
      "name": "2021-04-30-python-functions-and-scope.ipynb",
      "provenance": [],
      "include_colab_link": true
    }
  },
  "cells": [
    {
      "cell_type": "markdown",
      "metadata": {
        "id": "view-in-github",
        "colab_type": "text"
      },
      "source": [
        "<a href=\"https://colab.research.google.com/github/VictorOmondi1997/blog/blob/master/_notebooks/2021-04-30-python_functions_and_scope.ipynb\" target=\"_parent\"><img src=\"https://colab.research.google.com/assets/colab-badge.svg\" alt=\"Open In Colab\"/></a>"
      ]
    },
    {
      "cell_type": "markdown",
      "metadata": {
        "id": "1B8bqBJ6nqkH"
      },
      "source": [
        "# Writing Reusable Code using Functions in Python\n",
        "\n",
        "> Learn how to create and use functions in python\n",
        "\n",
        "- author: Victor Omondi\n",
        "- toc: true\n",
        "- comments: true\n",
        "- categories: [python]\n",
        "- image: images/introduction-to-python.png\n",
        "\n",
        "![](https://i.imgur.com/TvNf5Jp.png)\n",
        "\n",
        "\n"
      ]
    },
    {
      "cell_type": "markdown",
      "metadata": {
        "id": "bZJbRFUwnqkM"
      },
      "source": [
        "This tutorial covers the following topics:\n",
        "\n",
        "- Creating and using functions in Python\n",
        "- Local variables, return values, and optional arguments\n",
        "- Reusing functions and using Python library functions\n",
        "- Exception handling using `try`-`except` blocks\n",
        "- Documenting functions using docstrings"
      ]
    },
    {
      "cell_type": "markdown",
      "metadata": {
        "id": "7CWqrFmenqkR"
      },
      "source": [
        "## Creating and using functions\n",
        "\n",
        "A function is a reusable set of instructions that takes one or more inputs, performs some operations, and often returns an output. Python contains many in-built functions like `print`, `len`, etc., and provides the ability to define new ones."
      ]
    },
    {
      "cell_type": "code",
      "metadata": {
        "colab": {
          "base_uri": "https://localhost:8080/"
        },
        "id": "u6chwB4CnqkS",
        "outputId": "86108275-5794-45b0-bfec-be24b9d7694d"
      },
      "source": [
        "today = \"Friday\"\n",
        "print(\"Today is\", today)"
      ],
      "execution_count": 1,
      "outputs": [
        {
          "output_type": "stream",
          "text": [
            "Today is Friday\n"
          ],
          "name": "stdout"
        }
      ]
    },
    {
      "cell_type": "markdown",
      "metadata": {
        "id": "HszUdfMPnqkY"
      },
      "source": [
        "You can define a new function using the `def` keyword."
      ]
    },
    {
      "cell_type": "code",
      "metadata": {
        "id": "EHfXe4jcnqkZ"
      },
      "source": [
        "def say_hello():\n",
        "    print('Hello there!')\n",
        "    print('How are you?')"
      ],
      "execution_count": 2,
      "outputs": []
    },
    {
      "cell_type": "markdown",
      "metadata": {
        "id": "LfchEsHonqka"
      },
      "source": [
        "Note the round brackets or parentheses `()` and colon `:` after the function's name. Both are essential parts of the syntax. The function's *body* contains an indented block of statements. The statements inside a function's body are not executed when the function is defined. To execute the statements, we need to *call* or *invoke* the function."
      ]
    },
    {
      "cell_type": "code",
      "metadata": {
        "colab": {
          "base_uri": "https://localhost:8080/"
        },
        "id": "ukWXpXJ7nqkb",
        "outputId": "94ceb51d-62e5-4722-e926-e2651511c108"
      },
      "source": [
        "say_hello()"
      ],
      "execution_count": 3,
      "outputs": [
        {
          "output_type": "stream",
          "text": [
            "Hello there!\n",
            "How are you?\n"
          ],
          "name": "stdout"
        }
      ]
    },
    {
      "cell_type": "markdown",
      "metadata": {
        "id": "I1oNwS6hnqkh"
      },
      "source": [
        "### Function arguments\n",
        "\n",
        "Functions can accept zero or more values as *inputs* (also knows as *arguments* or *parameters*). Arguments help us write flexible functions that can perform the same operations on different values. Further, functions can return a result that can be stored in a variable or used in other expressions.\n",
        "\n",
        "Here's a function that filters out the even numbers from a list and returns a new list using the `return` keyword."
      ]
    },
    {
      "cell_type": "code",
      "metadata": {
        "id": "qVajwCPPnqkj"
      },
      "source": [
        "def filter_even(number_list):\n",
        "    result_list = []\n",
        "    for number in number_list:\n",
        "        if number % 2 == 0:\n",
        "            result_list.append(number)\n",
        "    return result_list"
      ],
      "execution_count": 4,
      "outputs": []
    },
    {
      "cell_type": "markdown",
      "metadata": {
        "id": "CjyLiyiFnqkk"
      },
      "source": [
        "Can you understand what the function does by looking at the code? If not, try executing each line of the function's body separately within a code cell with an actual list of numbers in place of `number_list`."
      ]
    },
    {
      "cell_type": "code",
      "metadata": {
        "id": "s4wRnxkSnqkk"
      },
      "source": [
        "even_list = filter_even([1, 2, 3, 4, 5, 6, 7])"
      ],
      "execution_count": 5,
      "outputs": []
    },
    {
      "cell_type": "code",
      "metadata": {
        "colab": {
          "base_uri": "https://localhost:8080/"
        },
        "id": "vsN42Qganqkl",
        "outputId": "a3dae433-35fa-409b-e4b4-82f20b7c2cb6"
      },
      "source": [
        "even_list"
      ],
      "execution_count": 6,
      "outputs": [
        {
          "output_type": "execute_result",
          "data": {
            "text/plain": [
              "[2, 4, 6]"
            ]
          },
          "metadata": {
            "tags": []
          },
          "execution_count": 6
        }
      ]
    },
    {
      "cell_type": "markdown",
      "metadata": {
        "id": "2Eq497aOnqkm"
      },
      "source": [
        "## Writing great functions in Python\n",
        "\n",
        "As a programmer, you will spend most of your time writing and using functions. Python offers many features to make your functions powerful and flexible. Let's explore some of these by solving a problem:\n",
        "\n",
        "> Radha is planning to buy a house that costs `$1,260,000`. She considering two options to finance her purchase:\n",
        ">\n",
        "> * Option 1: Make an immediate down payment of `$300,000`, and take loan 8-year loan with an interest rate of 10% (compounded monthly) for the remaining amount.\n",
        "> * Option 2: Take a 10-year loan with an interest rate of 8% (compounded monthly) for the entire amount.\n",
        ">\n",
        "> Both these loans have to be paid back in equal monthly installments (EMIs). Which loan has a lower EMI among the two?\n",
        "\n",
        "\n",
        "Since we need to compare the EMIs for two loan options, defining a function to calculate the EMI for a loan would be a great idea.  The inputs to the function would be cost of the house, the down payment, duration of the loan, rate of interest etc. We'll build this function step by step.\n",
        "\n",
        "First, let's write a simple function that calculates the EMI on the entire cost of the house, assuming that the loan must be paid back in one year, and there is no interest or down payment."
      ]
    },
    {
      "cell_type": "code",
      "metadata": {
        "id": "jlZR4nqnnqko"
      },
      "source": [
        "def loan_emi(amount):\n",
        "    emi = amount / 12\n",
        "    print('The EMI is ${}'.format(emi))"
      ],
      "execution_count": 7,
      "outputs": []
    },
    {
      "cell_type": "code",
      "metadata": {
        "colab": {
          "base_uri": "https://localhost:8080/"
        },
        "id": "w3CzoRX1nqko",
        "outputId": "5560e9e0-7c5d-498d-df22-741950d0ee7a"
      },
      "source": [
        "loan_emi(1260000)"
      ],
      "execution_count": 8,
      "outputs": [
        {
          "output_type": "stream",
          "text": [
            "The EMI is $105000.0\n"
          ],
          "name": "stdout"
        }
      ]
    },
    {
      "cell_type": "markdown",
      "metadata": {
        "id": "7U-SQs9Dnqkp"
      },
      "source": [
        "### Local variables and scope\n",
        "\n",
        "Let's add a second argument to account for the duration of the loan in months."
      ]
    },
    {
      "cell_type": "code",
      "metadata": {
        "id": "Jx4RH0Exnqkq"
      },
      "source": [
        "def loan_emi(amount, duration):\n",
        "    emi = amount / duration\n",
        "    print('The EMI is ${}'.format(emi))"
      ],
      "execution_count": 9,
      "outputs": []
    },
    {
      "cell_type": "markdown",
      "metadata": {
        "id": "Ltpb_jjsnqkr"
      },
      "source": [
        "Note that the variable `emi` defined inside the function is not accessible outside. The same is true for the parameters `amount` and `duration`. These are all *local variables* that lie within the *scope* of the function.\n",
        "\n",
        "> **Scope**: Scope refers to the region within the code where a particular variable is visible. Every function (or class definition) defines a scope within Python. Variables defined in this scope are called *local variables*. Variables that are available everywhere are called *global variables*. Scope rules allow you to use the same variable names in different functions without sharing values from one to the other. "
      ]
    },
    {
      "cell_type": "code",
      "metadata": {
        "colab": {
          "base_uri": "https://localhost:8080/",
          "height": 163
        },
        "id": "cuo0dNaFnqks",
        "outputId": "c301fc1b-fb22-4b0a-a70e-da5a77b94c10"
      },
      "source": [
        "emi"
      ],
      "execution_count": 10,
      "outputs": [
        {
          "output_type": "error",
          "ename": "NameError",
          "evalue": "ignored",
          "traceback": [
            "\u001b[0;31m---------------------------------------------------------------------------\u001b[0m",
            "\u001b[0;31mNameError\u001b[0m                                 Traceback (most recent call last)",
            "\u001b[0;32m<ipython-input-10-e5795bfcf3c1>\u001b[0m in \u001b[0;36m<module>\u001b[0;34m()\u001b[0m\n\u001b[0;32m----> 1\u001b[0;31m \u001b[0memi\u001b[0m\u001b[0;34m\u001b[0m\u001b[0;34m\u001b[0m\u001b[0m\n\u001b[0m",
            "\u001b[0;31mNameError\u001b[0m: name 'emi' is not defined"
          ]
        }
      ]
    },
    {
      "cell_type": "code",
      "metadata": {
        "colab": {
          "base_uri": "https://localhost:8080/",
          "height": 163
        },
        "id": "_btFUSJCnqku",
        "outputId": "f24029d1-390a-432c-f6fe-edfdac638985"
      },
      "source": [
        "amount"
      ],
      "execution_count": 11,
      "outputs": [
        {
          "output_type": "error",
          "ename": "NameError",
          "evalue": "ignored",
          "traceback": [
            "\u001b[0;31m---------------------------------------------------------------------------\u001b[0m",
            "\u001b[0;31mNameError\u001b[0m                                 Traceback (most recent call last)",
            "\u001b[0;32m<ipython-input-11-9b8f90fabac0>\u001b[0m in \u001b[0;36m<module>\u001b[0;34m()\u001b[0m\n\u001b[0;32m----> 1\u001b[0;31m \u001b[0mamount\u001b[0m\u001b[0;34m\u001b[0m\u001b[0;34m\u001b[0m\u001b[0m\n\u001b[0m",
            "\u001b[0;31mNameError\u001b[0m: name 'amount' is not defined"
          ]
        }
      ]
    },
    {
      "cell_type": "code",
      "metadata": {
        "colab": {
          "base_uri": "https://localhost:8080/",
          "height": 163
        },
        "id": "uNUEsSGLnqkv",
        "outputId": "6558ae78-bebf-417e-e981-6178eea35484"
      },
      "source": [
        "duration"
      ],
      "execution_count": 12,
      "outputs": [
        {
          "output_type": "error",
          "ename": "NameError",
          "evalue": "ignored",
          "traceback": [
            "\u001b[0;31m---------------------------------------------------------------------------\u001b[0m",
            "\u001b[0;31mNameError\u001b[0m                                 Traceback (most recent call last)",
            "\u001b[0;32m<ipython-input-12-5b6659652103>\u001b[0m in \u001b[0;36m<module>\u001b[0;34m()\u001b[0m\n\u001b[0;32m----> 1\u001b[0;31m \u001b[0mduration\u001b[0m\u001b[0;34m\u001b[0m\u001b[0;34m\u001b[0m\u001b[0m\n\u001b[0m",
            "\u001b[0;31mNameError\u001b[0m: name 'duration' is not defined"
          ]
        }
      ]
    },
    {
      "cell_type": "markdown",
      "metadata": {
        "id": "1XC0OpFlnqky"
      },
      "source": [
        "We can now compare a 6-year loan vs. a 10-year loan (assuming no down payment or interest)."
      ]
    },
    {
      "cell_type": "code",
      "metadata": {
        "colab": {
          "base_uri": "https://localhost:8080/"
        },
        "id": "rlCx7pConqkz",
        "outputId": "f41a29a1-7f52-4989-c525-0121ffa3c216"
      },
      "source": [
        "loan_emi(1260000, 8*12)"
      ],
      "execution_count": 13,
      "outputs": [
        {
          "output_type": "stream",
          "text": [
            "The EMI is $13125.0\n"
          ],
          "name": "stdout"
        }
      ]
    },
    {
      "cell_type": "code",
      "metadata": {
        "scrolled": true,
        "colab": {
          "base_uri": "https://localhost:8080/"
        },
        "id": "HZjI-DUEnqk0",
        "outputId": "f83f2431-cd59-46a9-e0d9-de54aafb06a0"
      },
      "source": [
        "loan_emi(1260000, 10*12)"
      ],
      "execution_count": 14,
      "outputs": [
        {
          "output_type": "stream",
          "text": [
            "The EMI is $10500.0\n"
          ],
          "name": "stdout"
        }
      ]
    },
    {
      "cell_type": "markdown",
      "metadata": {
        "id": "O1Hhlv7Wnqk1"
      },
      "source": [
        "### Return values\n",
        "\n",
        "As you might expect, the EMI for the 6-year loan is higher compared to the 10-year loan. Right now, we're printing out the result. It would be better to return it and store the results in variables for easier comparison. We can do this using the `return` statement"
      ]
    },
    {
      "cell_type": "code",
      "metadata": {
        "id": "MGCa3gMHnqk2"
      },
      "source": [
        "def loan_emi(amount, duration):\n",
        "    emi = amount / duration\n",
        "    return emi"
      ],
      "execution_count": 15,
      "outputs": []
    },
    {
      "cell_type": "code",
      "metadata": {
        "id": "NrqfdGJrnqk3"
      },
      "source": [
        "emi1 = loan_emi(1260000, 8*12)"
      ],
      "execution_count": 16,
      "outputs": []
    },
    {
      "cell_type": "code",
      "metadata": {
        "id": "3ECtV1J5nqk4"
      },
      "source": [
        "emi2 = loan_emi(1260000, 10*12)"
      ],
      "execution_count": 17,
      "outputs": []
    },
    {
      "cell_type": "code",
      "metadata": {
        "scrolled": true,
        "colab": {
          "base_uri": "https://localhost:8080/"
        },
        "id": "qgGp-Lr7nqk5",
        "outputId": "a4318c26-b77b-4469-e68b-e263d90c0245"
      },
      "source": [
        "emi1"
      ],
      "execution_count": 18,
      "outputs": [
        {
          "output_type": "execute_result",
          "data": {
            "text/plain": [
              "13125.0"
            ]
          },
          "metadata": {
            "tags": []
          },
          "execution_count": 18
        }
      ]
    },
    {
      "cell_type": "code",
      "metadata": {
        "colab": {
          "base_uri": "https://localhost:8080/"
        },
        "id": "pSxC9Z_unqk7",
        "outputId": "9365e1da-53ca-4e96-9e67-b4c771709211"
      },
      "source": [
        "emi2"
      ],
      "execution_count": 19,
      "outputs": [
        {
          "output_type": "execute_result",
          "data": {
            "text/plain": [
              "10500.0"
            ]
          },
          "metadata": {
            "tags": []
          },
          "execution_count": 19
        }
      ]
    },
    {
      "cell_type": "markdown",
      "metadata": {
        "id": "Uowh4OMmnqk8"
      },
      "source": [
        "### Optional arguments\n",
        "\n",
        "Next, let's add another argument to account for the immediate down payment. We'll make this an *optional argument* with a default value of 0."
      ]
    },
    {
      "cell_type": "code",
      "metadata": {
        "id": "kqMFMgMvnqk9"
      },
      "source": [
        "def loan_emi(amount, duration, down_payment=0):\n",
        "    loan_amount = amount - down_payment\n",
        "    emi = loan_amount / duration\n",
        "    return emi"
      ],
      "execution_count": 20,
      "outputs": []
    },
    {
      "cell_type": "code",
      "metadata": {
        "id": "fWU7t8rDnqk-"
      },
      "source": [
        "emi1 = loan_emi(1260000, 8*12, 3e5)"
      ],
      "execution_count": 21,
      "outputs": []
    },
    {
      "cell_type": "code",
      "metadata": {
        "colab": {
          "base_uri": "https://localhost:8080/"
        },
        "id": "8sTRbJdpnqk_",
        "outputId": "f41f6e7f-5efb-4253-e6cd-40b413107bbe"
      },
      "source": [
        "emi1"
      ],
      "execution_count": 22,
      "outputs": [
        {
          "output_type": "execute_result",
          "data": {
            "text/plain": [
              "10000.0"
            ]
          },
          "metadata": {
            "tags": []
          },
          "execution_count": 22
        }
      ]
    },
    {
      "cell_type": "code",
      "metadata": {
        "id": "yk8wkNIenqlA"
      },
      "source": [
        "emi2 = loan_emi(1260000, 10*12)"
      ],
      "execution_count": 23,
      "outputs": []
    },
    {
      "cell_type": "code",
      "metadata": {
        "colab": {
          "base_uri": "https://localhost:8080/"
        },
        "id": "fqHTjDHbnqlC",
        "outputId": "7c56ebb9-4716-4dfa-885c-1d4dcfa1ab2c"
      },
      "source": [
        "emi2"
      ],
      "execution_count": 24,
      "outputs": [
        {
          "output_type": "execute_result",
          "data": {
            "text/plain": [
              "10500.0"
            ]
          },
          "metadata": {
            "tags": []
          },
          "execution_count": 24
        }
      ]
    },
    {
      "cell_type": "markdown",
      "metadata": {
        "id": "iqd1NydQnqlE"
      },
      "source": [
        "Next, let's add the interest calculation into the function. Here's the formula used to calculate the EMI for a loan:\n",
        "\n",
        "![Img](https://i.imgur.com/iKujHGK.png)\n",
        "\n",
        "where:\n",
        "\n",
        "* `P` is the loan amount (principal)\n",
        "* `n` is the no. of months\n",
        "* `r` is the rate of interest per month\n",
        "\n",
        "The derivation of this formula is beyond the scope of this tutorial. See this video for an explanation: https://youtu.be/Coxza9ugW4E ."
      ]
    },
    {
      "cell_type": "code",
      "metadata": {
        "id": "UF13l_fRnqlE"
      },
      "source": [
        "def loan_emi(amount, duration, rate, down_payment=0):\n",
        "    loan_amount = amount - down_payment\n",
        "    emi = loan_amount * rate * ((1+rate)**duration) / (((1+rate)**duration)-1)\n",
        "    return emi"
      ],
      "execution_count": 26,
      "outputs": []
    },
    {
      "cell_type": "markdown",
      "metadata": {
        "id": "anTP2Gx-nqlG"
      },
      "source": [
        "Note that while defining the function, required arguments like `cost`, `duration` and `rate` must appear before optional arguments like `down_payment`.\n",
        "\n",
        "Let's calculate the EMI for Option 1"
      ]
    },
    {
      "cell_type": "code",
      "metadata": {
        "scrolled": true,
        "colab": {
          "base_uri": "https://localhost:8080/"
        },
        "id": "Qi7Mrz90nqlI",
        "outputId": "8ca8ed5a-57b8-4576-99f5-2416b0a93be2"
      },
      "source": [
        "loan_emi(1260000, 8*12, 0.1/12, 3e5)"
      ],
      "execution_count": 27,
      "outputs": [
        {
          "output_type": "execute_result",
          "data": {
            "text/plain": [
              "14567.19753389219"
            ]
          },
          "metadata": {
            "tags": []
          },
          "execution_count": 27
        }
      ]
    },
    {
      "cell_type": "markdown",
      "metadata": {
        "id": "PKECL9rvnqlJ"
      },
      "source": [
        "While calculating the EMI for Option 2, we need not include the `down_payment` argument."
      ]
    },
    {
      "cell_type": "code",
      "metadata": {
        "colab": {
          "base_uri": "https://localhost:8080/"
        },
        "id": "XdXockDZnqlK",
        "outputId": "4d54937b-beb8-4a17-b169-2f9240fdfd9c"
      },
      "source": [
        "loan_emi(1260000, 10*12, 0.08/12)"
      ],
      "execution_count": 28,
      "outputs": [
        {
          "output_type": "execute_result",
          "data": {
            "text/plain": [
              "15287.276888775077"
            ]
          },
          "metadata": {
            "tags": []
          },
          "execution_count": 28
        }
      ]
    },
    {
      "cell_type": "markdown",
      "metadata": {
        "id": "qhQJ2Vy1nqlL"
      },
      "source": [
        "### Named arguments\n",
        "\n",
        "Invoking a function with many arguments can often get confusing and is prone to human errors. Python provides the option of invoking functions with *named* arguments for better clarity. You can also split function invocation into multiple lines."
      ]
    },
    {
      "cell_type": "code",
      "metadata": {
        "id": "_Ff7HolJnqlM"
      },
      "source": [
        "emi1 = loan_emi(\n",
        "    amount=1260000, \n",
        "    duration=8*12, \n",
        "    rate=0.1/12, \n",
        "    down_payment=3e5\n",
        ")"
      ],
      "execution_count": 30,
      "outputs": []
    },
    {
      "cell_type": "code",
      "metadata": {
        "colab": {
          "base_uri": "https://localhost:8080/"
        },
        "id": "Tgnql41EnqlM",
        "outputId": "b765b606-f839-44ad-9e73-b05e35379654"
      },
      "source": [
        "emi1"
      ],
      "execution_count": 31,
      "outputs": [
        {
          "output_type": "execute_result",
          "data": {
            "text/plain": [
              "14567.19753389219"
            ]
          },
          "metadata": {
            "tags": []
          },
          "execution_count": 31
        }
      ]
    },
    {
      "cell_type": "code",
      "metadata": {
        "id": "RU30jZzLnqlN"
      },
      "source": [
        "emi2 = loan_emi(amount=1260000, duration=10*12, rate=0.08/12)"
      ],
      "execution_count": 32,
      "outputs": []
    },
    {
      "cell_type": "code",
      "metadata": {
        "colab": {
          "base_uri": "https://localhost:8080/"
        },
        "id": "_OrRH7rRnqlO",
        "outputId": "68b0dd56-43e0-4b63-8277-a7237697e17c"
      },
      "source": [
        "emi2"
      ],
      "execution_count": 33,
      "outputs": [
        {
          "output_type": "execute_result",
          "data": {
            "text/plain": [
              "15287.276888775077"
            ]
          },
          "metadata": {
            "tags": []
          },
          "execution_count": 33
        }
      ]
    },
    {
      "cell_type": "markdown",
      "metadata": {
        "id": "KbVGUW5RnqlP"
      },
      "source": [
        "### Modules and library functions\n",
        "\n",
        "We can already see that the EMI for Option 1 is lower than the EMI for Option 2. However, it would be nice to round up the amount to full dollars, rather than showing digits after the decimal. To achieve this, we might want to write a function that can take a number and round it up to the next integer (e.g., 1.2 is rounded up to 2). That would be a great exercise to try out!\n",
        "\n",
        "However, since rounding numbers is a fairly common operation, Python provides a function for it (along with thousands of other functions) as part of the [Python Standard Library](https://docs.python.org/3/library/). Functions are organized into *modules* that need to be imported to use the functions they contain. \n",
        "\n",
        "> **Modules**: Modules are files containing Python code (variables, functions, classes, etc.). They provide a way of organizing the code for large Python projects into files and folders. The key benefit of using modules is _namespaces_: you must import the module to use its functions within a Python script or notebook. Namespaces provide encapsulation and avoid naming conflicts between your code and a module or across modules.\n",
        "\n",
        "We can use the `ceil` function (short for *ceiling*) from the `math` module to round up numbers. Let's import the module and use it to round up the number `1.2`. "
      ]
    },
    {
      "cell_type": "code",
      "metadata": {
        "id": "xbJ2YznTnqlQ"
      },
      "source": [
        "import math"
      ],
      "execution_count": 34,
      "outputs": []
    },
    {
      "cell_type": "code",
      "metadata": {
        "colab": {
          "base_uri": "https://localhost:8080/"
        },
        "id": "8b2tX75hnqlR",
        "outputId": "9674ce67-f446-4d8c-fc56-08970dbbe144"
      },
      "source": [
        "help(math.ceil)"
      ],
      "execution_count": 35,
      "outputs": [
        {
          "output_type": "stream",
          "text": [
            "Help on built-in function ceil in module math:\n",
            "\n",
            "ceil(x, /)\n",
            "    Return the ceiling of x as an Integral.\n",
            "    \n",
            "    This is the smallest integer >= x.\n",
            "\n"
          ],
          "name": "stdout"
        }
      ]
    },
    {
      "cell_type": "code",
      "metadata": {
        "colab": {
          "base_uri": "https://localhost:8080/"
        },
        "id": "wJVDaZSunqlT",
        "outputId": "3d6e7a31-dca1-4440-8af4-7d676ab87d30"
      },
      "source": [
        "math.ceil(1.2)"
      ],
      "execution_count": 36,
      "outputs": [
        {
          "output_type": "execute_result",
          "data": {
            "text/plain": [
              "2"
            ]
          },
          "metadata": {
            "tags": []
          },
          "execution_count": 36
        }
      ]
    },
    {
      "cell_type": "markdown",
      "metadata": {
        "id": "77EHxG0DnqlV"
      },
      "source": [
        "Let's now use the `math.ceil` function within the `home_loan_emi` function to round up the EMI amount. \n",
        "\n",
        "> Using functions to build other functions is a great way to reuse code and implement complex business logic while still keeping the code small, understandable, and manageable. Ideally, a function should do one thing and one thing only. If you find yourself writing a function that does too many things, consider splitting it into multiple smaller, independent functions. As a rule of thumb, try to limit your functions to 10 lines of code or less. Good programmers always write short, simple, and readable functions.\n",
        "\n"
      ]
    },
    {
      "cell_type": "code",
      "metadata": {
        "id": "QltQaNOAnqlW"
      },
      "source": [
        "def loan_emi(amount, duration, rate, down_payment=0):\n",
        "    loan_amount = amount - down_payment\n",
        "    emi = loan_amount * rate * ((1+rate)**duration) / (((1+rate)**duration)-1)\n",
        "    emi = math.ceil(emi)\n",
        "    return emi"
      ],
      "execution_count": 37,
      "outputs": []
    },
    {
      "cell_type": "code",
      "metadata": {
        "id": "Y-GIMtNSnqlW"
      },
      "source": [
        "emi1 = loan_emi(\n",
        "    amount=1260000, \n",
        "    duration=8*12, \n",
        "    rate=0.1/12, \n",
        "    down_payment=3e5\n",
        ")"
      ],
      "execution_count": 38,
      "outputs": []
    },
    {
      "cell_type": "code",
      "metadata": {
        "colab": {
          "base_uri": "https://localhost:8080/"
        },
        "id": "FxYLgduenqlX",
        "outputId": "c850e656-4ef4-46ae-8294-29170eaa916d"
      },
      "source": [
        "emi1"
      ],
      "execution_count": 39,
      "outputs": [
        {
          "output_type": "execute_result",
          "data": {
            "text/plain": [
              "14568"
            ]
          },
          "metadata": {
            "tags": []
          },
          "execution_count": 39
        }
      ]
    },
    {
      "cell_type": "code",
      "metadata": {
        "id": "YzVGjEEjnqlY"
      },
      "source": [
        "emi2 = loan_emi(amount=1260000, duration=10*12, rate=0.08/12)"
      ],
      "execution_count": 40,
      "outputs": []
    },
    {
      "cell_type": "code",
      "metadata": {
        "colab": {
          "base_uri": "https://localhost:8080/"
        },
        "id": "vZqpD5yonqlY",
        "outputId": "1ede90be-80fe-4188-c4e0-3c2702c01b11"
      },
      "source": [
        "emi2"
      ],
      "execution_count": 41,
      "outputs": [
        {
          "output_type": "execute_result",
          "data": {
            "text/plain": [
              "15288"
            ]
          },
          "metadata": {
            "tags": []
          },
          "execution_count": 41
        }
      ]
    },
    {
      "cell_type": "markdown",
      "metadata": {
        "id": "Nd21PK_4nqlZ"
      },
      "source": [
        "Let's compare the EMIs and display a message for the option with the lower EMI."
      ]
    },
    {
      "cell_type": "code",
      "metadata": {
        "colab": {
          "base_uri": "https://localhost:8080/"
        },
        "id": "NVwj4H3znqla",
        "outputId": "6f33f06c-c046-463e-8072-54f600742cb9"
      },
      "source": [
        "if emi1 < emi2:\n",
        "    print(\"Option 1 has the lower EMI: ${}\".format(emi1))\n",
        "else:\n",
        "    print(\"Option 2 has the lower EMI: ${}\".format(emi2))"
      ],
      "execution_count": 42,
      "outputs": [
        {
          "output_type": "stream",
          "text": [
            "Option 1 has the lower EMI: $14568\n"
          ],
          "name": "stdout"
        }
      ]
    },
    {
      "cell_type": "markdown",
      "metadata": {
        "id": "oIy9AP2inqlb"
      },
      "source": [
        "### Reusing and improving functions \n",
        "\n",
        "Now we know for sure that \"Option 1\" has the lower EMI among the two options. But what's even better is that we now have a handy function `loan_emi` that we can use to solve many other similar problems with just a few lines of code. Let's try it with a couple more questions."
      ]
    },
    {
      "cell_type": "markdown",
      "metadata": {
        "id": "x6gBpnEBnqlb"
      },
      "source": [
        "> **Q**: Shaun is currently paying back a home loan for a house he bought a few years ago. The cost of the house was `$800,000`. Shaun made a down payment of `25%` of the price. He financed the remaining amount using a 6-year loan with an interest rate of `7%` per annum (compounded monthly). Shaun is now buying a car worth `$60,000`, which he is planning to finance using a 1-year loan with an interest rate of `12%` per annum. Both loans are paid back in EMIs. What is the total monthly payment Shaun makes towards loan repayment?\n",
        "\n",
        "This question is now straightforward to solve, using the `loan_emi` function we've already defined."
      ]
    },
    {
      "cell_type": "code",
      "metadata": {
        "colab": {
          "base_uri": "https://localhost:8080/"
        },
        "id": "V7AawRhrnqlc",
        "outputId": "64a960cd-33ae-4b84-e415-452ac3b6f2bd"
      },
      "source": [
        "cost_of_house = 800000\n",
        "home_loan_duration = 6*12 # months\n",
        "home_loan_rate = 0.07/12 # monthly\n",
        "home_down_payment = .25 * 800000\n",
        "\n",
        "emi_house = loan_emi(amount=cost_of_house,\n",
        "                     duration=home_loan_duration,\n",
        "                     rate=home_loan_rate, \n",
        "                     down_payment=home_down_payment)\n",
        "\n",
        "emi_house"
      ],
      "execution_count": 43,
      "outputs": [
        {
          "output_type": "execute_result",
          "data": {
            "text/plain": [
              "10230"
            ]
          },
          "metadata": {
            "tags": []
          },
          "execution_count": 43
        }
      ]
    },
    {
      "cell_type": "code",
      "metadata": {
        "colab": {
          "base_uri": "https://localhost:8080/"
        },
        "id": "ey4D0UH9nqle",
        "outputId": "9c130d27-d19c-4e83-f6cb-9131427d883c"
      },
      "source": [
        "cost_of_car = 60000\n",
        "car_loan_duration = 1*12 # months\n",
        "car_loan_rate = .12/12 # monthly\n",
        "\n",
        "emi_car = loan_emi(amount=cost_of_car, \n",
        "                   duration=car_loan_duration, \n",
        "                   rate=car_loan_rate)\n",
        "\n",
        "emi_car"
      ],
      "execution_count": 44,
      "outputs": [
        {
          "output_type": "execute_result",
          "data": {
            "text/plain": [
              "5331"
            ]
          },
          "metadata": {
            "tags": []
          },
          "execution_count": 44
        }
      ]
    },
    {
      "cell_type": "code",
      "metadata": {
        "colab": {
          "base_uri": "https://localhost:8080/"
        },
        "id": "Hp-IE3iCnqlf",
        "outputId": "d2afc74c-7edc-41ea-b051-110ecb873b8f"
      },
      "source": [
        "print(\"Shaun makes a total monthly payment of ${} towards loan repayments.\".format(emi_house+emi_car))"
      ],
      "execution_count": 45,
      "outputs": [
        {
          "output_type": "stream",
          "text": [
            "Shaun makes a total monthly payment of $15561 towards loan repayments.\n"
          ],
          "name": "stdout"
        }
      ]
    },
    {
      "cell_type": "markdown",
      "metadata": {
        "id": "JehaxtrLnqlg"
      },
      "source": [
        "### Exceptions and `try`-`except`\n",
        "\n",
        "> Q: If you borrow `$100,000` using a 10-year loan with an interest rate of 9% per annum, what is the total amount you end up paying as interest?\n",
        "\n",
        "One way to solve this problem is to compare the EMIs for two loans: one with the given rate of interest and another with a 0% rate of interest. The total interest paid is then simply the sum of monthly differences over the duration of the loan."
      ]
    },
    {
      "cell_type": "code",
      "metadata": {
        "colab": {
          "base_uri": "https://localhost:8080/"
        },
        "id": "je41f7lqnqlh",
        "outputId": "374e6674-505c-472c-9d2d-e12c7b018b7d"
      },
      "source": [
        "emi_with_interest = loan_emi(amount=100000, duration=10*12, rate=0.09/12)\n",
        "emi_with_interest"
      ],
      "execution_count": 46,
      "outputs": [
        {
          "output_type": "execute_result",
          "data": {
            "text/plain": [
              "1267"
            ]
          },
          "metadata": {
            "tags": []
          },
          "execution_count": 46
        }
      ]
    },
    {
      "cell_type": "code",
      "metadata": {
        "colab": {
          "base_uri": "https://localhost:8080/",
          "height": 299
        },
        "id": "w5XQ0J4enqli",
        "outputId": "d88efe78-4fc8-493c-bb54-8fb8b12417e4"
      },
      "source": [
        "emi_without_interest = loan_emi(amount=100000, duration=10*12, rate=0./12)\n",
        "emi_without_interest"
      ],
      "execution_count": 47,
      "outputs": [
        {
          "output_type": "error",
          "ename": "ZeroDivisionError",
          "evalue": "ignored",
          "traceback": [
            "\u001b[0;31m---------------------------------------------------------------------------\u001b[0m",
            "\u001b[0;31mZeroDivisionError\u001b[0m                         Traceback (most recent call last)",
            "\u001b[0;32m<ipython-input-47-b684ffbee02d>\u001b[0m in \u001b[0;36m<module>\u001b[0;34m()\u001b[0m\n\u001b[0;32m----> 1\u001b[0;31m \u001b[0memi_without_interest\u001b[0m \u001b[0;34m=\u001b[0m \u001b[0mloan_emi\u001b[0m\u001b[0;34m(\u001b[0m\u001b[0mamount\u001b[0m\u001b[0;34m=\u001b[0m\u001b[0;36m100000\u001b[0m\u001b[0;34m,\u001b[0m \u001b[0mduration\u001b[0m\u001b[0;34m=\u001b[0m\u001b[0;36m10\u001b[0m\u001b[0;34m*\u001b[0m\u001b[0;36m12\u001b[0m\u001b[0;34m,\u001b[0m \u001b[0mrate\u001b[0m\u001b[0;34m=\u001b[0m\u001b[0;36m0.\u001b[0m\u001b[0;34m/\u001b[0m\u001b[0;36m12\u001b[0m\u001b[0;34m)\u001b[0m\u001b[0;34m\u001b[0m\u001b[0;34m\u001b[0m\u001b[0m\n\u001b[0m\u001b[1;32m      2\u001b[0m \u001b[0memi_without_interest\u001b[0m\u001b[0;34m\u001b[0m\u001b[0;34m\u001b[0m\u001b[0m\n",
            "\u001b[0;32m<ipython-input-37-ad16168becb0>\u001b[0m in \u001b[0;36mloan_emi\u001b[0;34m(amount, duration, rate, down_payment)\u001b[0m\n\u001b[1;32m      1\u001b[0m \u001b[0;32mdef\u001b[0m \u001b[0mloan_emi\u001b[0m\u001b[0;34m(\u001b[0m\u001b[0mamount\u001b[0m\u001b[0;34m,\u001b[0m \u001b[0mduration\u001b[0m\u001b[0;34m,\u001b[0m \u001b[0mrate\u001b[0m\u001b[0;34m,\u001b[0m \u001b[0mdown_payment\u001b[0m\u001b[0;34m=\u001b[0m\u001b[0;36m0\u001b[0m\u001b[0;34m)\u001b[0m\u001b[0;34m:\u001b[0m\u001b[0;34m\u001b[0m\u001b[0;34m\u001b[0m\u001b[0m\n\u001b[1;32m      2\u001b[0m     \u001b[0mloan_amount\u001b[0m \u001b[0;34m=\u001b[0m \u001b[0mamount\u001b[0m \u001b[0;34m-\u001b[0m \u001b[0mdown_payment\u001b[0m\u001b[0;34m\u001b[0m\u001b[0;34m\u001b[0m\u001b[0m\n\u001b[0;32m----> 3\u001b[0;31m     \u001b[0memi\u001b[0m \u001b[0;34m=\u001b[0m \u001b[0mloan_amount\u001b[0m \u001b[0;34m*\u001b[0m \u001b[0mrate\u001b[0m \u001b[0;34m*\u001b[0m \u001b[0;34m(\u001b[0m\u001b[0;34m(\u001b[0m\u001b[0;36m1\u001b[0m\u001b[0;34m+\u001b[0m\u001b[0mrate\u001b[0m\u001b[0;34m)\u001b[0m\u001b[0;34m**\u001b[0m\u001b[0mduration\u001b[0m\u001b[0;34m)\u001b[0m \u001b[0;34m/\u001b[0m \u001b[0;34m(\u001b[0m\u001b[0;34m(\u001b[0m\u001b[0;34m(\u001b[0m\u001b[0;36m1\u001b[0m\u001b[0;34m+\u001b[0m\u001b[0mrate\u001b[0m\u001b[0;34m)\u001b[0m\u001b[0;34m**\u001b[0m\u001b[0mduration\u001b[0m\u001b[0;34m)\u001b[0m\u001b[0;34m-\u001b[0m\u001b[0;36m1\u001b[0m\u001b[0;34m)\u001b[0m\u001b[0;34m\u001b[0m\u001b[0;34m\u001b[0m\u001b[0m\n\u001b[0m\u001b[1;32m      4\u001b[0m     \u001b[0memi\u001b[0m \u001b[0;34m=\u001b[0m \u001b[0mmath\u001b[0m\u001b[0;34m.\u001b[0m\u001b[0mceil\u001b[0m\u001b[0;34m(\u001b[0m\u001b[0memi\u001b[0m\u001b[0;34m)\u001b[0m\u001b[0;34m\u001b[0m\u001b[0;34m\u001b[0m\u001b[0m\n\u001b[1;32m      5\u001b[0m     \u001b[0;32mreturn\u001b[0m \u001b[0memi\u001b[0m\u001b[0;34m\u001b[0m\u001b[0;34m\u001b[0m\u001b[0m\n",
            "\u001b[0;31mZeroDivisionError\u001b[0m: float division by zero"
          ]
        }
      ]
    },
    {
      "cell_type": "markdown",
      "metadata": {
        "id": "XYFJS1KGnqlo"
      },
      "source": [
        "Something seems to have gone wrong! If you look at the error message above carefully, Python tells us precisely what is wrong. Python *throws* a `ZeroDivisionError` with a message indicating that we're trying to divide a number by zero. `ZeroDivisonError` is an *exception* that stops further execution of the program.\n",
        "\n",
        "> **Exception**: Even if a statement or expression is syntactically correct, it may cause an error when the Python interpreter tries to execute it. Errors detected during execution are called exceptions. Exceptions typically stop further execution of the program unless handled within the program using `try`-`except` statements.\n",
        "\n",
        "Python provides many built-in exceptions *thrown* when built-in operators, functions, or methods are used incorrectly: https://docs.python.org/3/library/exceptions.html#built-in-exceptions. You can also define your custom exception by extending the `Exception` class (more on that later).\n",
        "\n",
        "You can use the `try` and `except` statements to *handle* an exception. Here's an example:"
      ]
    },
    {
      "cell_type": "code",
      "metadata": {
        "colab": {
          "base_uri": "https://localhost:8080/"
        },
        "id": "Yomc1IRsnqlp",
        "outputId": "24d8ca4e-5478-4666-d66c-f60fa42fb122"
      },
      "source": [
        "try:\n",
        "    print(\"Now computing the result..\")\n",
        "    result = 5 / 0\n",
        "    print(\"Computation was completed successfully\")\n",
        "except ZeroDivisionError:\n",
        "    print(\"Failed to compute result because you were trying to divide by zero\")\n",
        "    result = None\n",
        "\n",
        "print(result)"
      ],
      "execution_count": 48,
      "outputs": [
        {
          "output_type": "stream",
          "text": [
            "Now computing the result..\n",
            "Failed to compute result because you were trying to divide by zero\n",
            "None\n"
          ],
          "name": "stdout"
        }
      ]
    },
    {
      "cell_type": "markdown",
      "metadata": {
        "id": "-YfAzdXcnqlq"
      },
      "source": [
        "When an exception occurs inside a `try` block, the block's remaining statements are skipped. The `except` block is executed if the type of exception thrown matches that of the exception being handled. After executing the `except` block, the program execution returns to the normal flow.\n",
        "\n",
        "You can also handle more than one type of exception using multiple `except` statements. Learn more about exceptions here: https://www.w3schools.com/python/python_try_except.asp .\n",
        "\n",
        "Let's enhance the `loan_emi` function to use `try`-`except` to handle the scenario where the interest rate is 0%. It's common practice to make changes/enhancements to functions over time as new scenarios and use cases come up. It makes functions more robust & versatile."
      ]
    },
    {
      "cell_type": "code",
      "metadata": {
        "id": "QsyQsVNInqlr"
      },
      "source": [
        "def loan_emi(amount, duration, rate, down_payment=0):\n",
        "    loan_amount = amount - down_payment\n",
        "    try:\n",
        "        emi = loan_amount * rate * ((1+rate)**duration) / (((1+rate)**duration)-1)\n",
        "    except ZeroDivisionError:\n",
        "        emi = loan_amount / duration\n",
        "    emi = math.ceil(emi)\n",
        "    return emi"
      ],
      "execution_count": 49,
      "outputs": []
    },
    {
      "cell_type": "markdown",
      "metadata": {
        "id": "uP7CD0manqls"
      },
      "source": [
        "We can use the updated `loan_emi` function to solve our problem.\n",
        "\n",
        "> **Q**: If you borrow `$100,000` using a 10-year loan with an interest rate of 9% per annum, what is the total amount you end up paying as interest?\n",
        "\n"
      ]
    },
    {
      "cell_type": "code",
      "metadata": {
        "colab": {
          "base_uri": "https://localhost:8080/"
        },
        "id": "lMkrnIt0nqlt",
        "outputId": "db266182-cda5-4b04-f3a5-9f5992e8e2cb"
      },
      "source": [
        "emi_with_interest = loan_emi(amount=100000, duration=10*12, rate=0.09/12)\n",
        "emi_with_interest"
      ],
      "execution_count": 50,
      "outputs": [
        {
          "output_type": "execute_result",
          "data": {
            "text/plain": [
              "1267"
            ]
          },
          "metadata": {
            "tags": []
          },
          "execution_count": 50
        }
      ]
    },
    {
      "cell_type": "code",
      "metadata": {
        "colab": {
          "base_uri": "https://localhost:8080/"
        },
        "id": "mBk62mqinqlu",
        "outputId": "3d5ebd98-05dd-4660-ade0-0ece6c85415a"
      },
      "source": [
        "emi_without_interest = loan_emi(amount=100000, duration=10*12, rate=0)\n",
        "emi_without_interest"
      ],
      "execution_count": 51,
      "outputs": [
        {
          "output_type": "execute_result",
          "data": {
            "text/plain": [
              "834"
            ]
          },
          "metadata": {
            "tags": []
          },
          "execution_count": 51
        }
      ]
    },
    {
      "cell_type": "code",
      "metadata": {
        "id": "gNGDjBYdnqlv"
      },
      "source": [
        "total_interest = (emi_with_interest - emi_without_interest) * 10*12"
      ],
      "execution_count": 52,
      "outputs": []
    },
    {
      "cell_type": "code",
      "metadata": {
        "colab": {
          "base_uri": "https://localhost:8080/"
        },
        "id": "MdIuGUn1nqlw",
        "outputId": "36737ddb-e653-4645-d04b-06a5f04d909f"
      },
      "source": [
        "print(\"The total interest paid is ${}.\".format(total_interest))"
      ],
      "execution_count": 53,
      "outputs": [
        {
          "output_type": "stream",
          "text": [
            "The total interest paid is $51960.\n"
          ],
          "name": "stdout"
        }
      ]
    },
    {
      "cell_type": "markdown",
      "metadata": {
        "id": "B1lKJ1pwnqlx"
      },
      "source": [
        "### Documenting functions using Docstrings\n",
        "\n",
        "We can add some documentation within our function using a *docstring*. A docstring is simply a string that appears as the first statement within the function body, and is used by the `help` function. A good docstring describes what the function does, and provides some explanation about the arguments."
      ]
    },
    {
      "cell_type": "code",
      "metadata": {
        "id": "eF8JFMPBnqly"
      },
      "source": [
        "def loan_emi(amount, duration, rate, down_payment=0):\n",
        "    \"\"\"Calculates the equal montly installment (EMI) for a loan.\n",
        "    \n",
        "    Arguments:\n",
        "        amount - Total amount to be spent (loan + down payment)\n",
        "        duration - Duration of the loan (in months)\n",
        "        rate - Rate of interest (monthly)\n",
        "        down_payment (optional) - Optional intial payment (deducted from amount)\n",
        "    \"\"\"\n",
        "    loan_amount = amount - down_payment\n",
        "    try:\n",
        "        emi = loan_amount * rate * ((1+rate)**duration) / (((1+rate)**duration)-1)\n",
        "    except ZeroDivisionError:\n",
        "        emi = loan_amount / duration\n",
        "    emi = math.ceil(emi)\n",
        "    return emi"
      ],
      "execution_count": 54,
      "outputs": []
    },
    {
      "cell_type": "markdown",
      "metadata": {
        "id": "wpr7Sb5Knql0"
      },
      "source": [
        "In the docstring above, we've provided some additional information that the `duration` and `rate` are measured in months. You might even consider naming the arguments `duration_months` and `rate_monthly`, to avoid any confusion whatsoever. Can you think of some other ways to improve the function?"
      ]
    },
    {
      "cell_type": "code",
      "metadata": {
        "colab": {
          "base_uri": "https://localhost:8080/"
        },
        "id": "Z5lEi9fDnql9",
        "outputId": "1aa3399b-8ab3-40ac-aa18-ed028725b00a"
      },
      "source": [
        "help(loan_emi)"
      ],
      "execution_count": 55,
      "outputs": [
        {
          "output_type": "stream",
          "text": [
            "Help on function loan_emi in module __main__:\n",
            "\n",
            "loan_emi(amount, duration, rate, down_payment=0)\n",
            "    Calculates the equal montly installment (EMI) for a loan.\n",
            "    \n",
            "    Arguments:\n",
            "        amount - Total amount to be spent (loan + down payment)\n",
            "        duration - Duration of the loan (in months)\n",
            "        rate - Rate of interest (monthly)\n",
            "        down_payment (optional) - Optional intial payment (deducted from amount)\n",
            "\n"
          ],
          "name": "stdout"
        }
      ]
    },
    {
      "cell_type": "markdown",
      "metadata": {
        "id": "C66MBiD3nqmE"
      },
      "source": [
        "## Exercise - Data Analysis for Vacation Planning\n",
        "\n",
        "You're planning a vacation, and you need to decide which city you want to visit. You have shortlisted four cities and identified the return flight cost, daily hotel cost, and weekly car rental cost. While renting a car, you need to pay for entire weeks, even if you return the car sooner.\n",
        "\n",
        "\n",
        "| City | Return Flight (`$`) | Hotel per day (`$`) | Weekly Car Rental  (`$`) | \n",
        "|------|--------------------------|------------------|------------------------|\n",
        "| Paris|       200                |       20         |          200           |\n",
        "| London|      250                |       30         |          120           |\n",
        "| Dubai|       370                |       15         |          80           |\n",
        "| Mumbai|      450                |       10         |          70           |         \n",
        "\n",
        "\n",
        "Answer the following questions using the data above:\n",
        "\n",
        "1. If you're planning a 1-week long trip, which city should you visit to spend the least amount of money?\n",
        "2. How does the answer to the previous question change if you change the trip's duration to four days, ten days or two weeks?\n",
        "3. If your total budget for the trip is `$1000`, which city should you visit to maximize the duration of your trip? Which city should you visit if you want to minimize the duration?\n",
        "4. How does the answer to the previous question change if your budget is `$600`, `$2000`, or `$1500`?\n",
        "\n",
        "*Hint: To answer these questions, it will help to define a function `cost_of_trip` with relevant inputs like flight cost, hotel rate, car rental rate, and duration of the trip. You may find the `math.ceil` function useful for calculating the total cost of car rental.*"
      ]
    },
    {
      "cell_type": "code",
      "metadata": {
        "id": "W7NkTt8qnqmF"
      },
      "source": [
        "# Use these cells to answer the question - build the function step-by-step"
      ],
      "execution_count": null,
      "outputs": []
    },
    {
      "cell_type": "code",
      "metadata": {
        "id": "5Spnd6xxnqmG"
      },
      "source": [
        ""
      ],
      "execution_count": null,
      "outputs": []
    },
    {
      "cell_type": "code",
      "metadata": {
        "id": "P_gaYeY4nqmH"
      },
      "source": [
        ""
      ],
      "execution_count": null,
      "outputs": []
    },
    {
      "cell_type": "code",
      "metadata": {
        "id": "4hZAxKNXnqmH"
      },
      "source": [
        ""
      ],
      "execution_count": null,
      "outputs": []
    },
    {
      "cell_type": "markdown",
      "metadata": {
        "id": "IXRwsDZmnqmI"
      },
      "source": [
        "## Summary and Further Reading\n",
        "\n",
        "With this, we complete our discussion of functions in Python. We've covered the following topics in this tutorial:\n",
        "\n",
        "* Creating and using functions\n",
        "* Functions with one or more arguments\n",
        "* Local variables and scope\n",
        "* Returning values using `return`\n",
        "* Using default arguments to make a function flexible\n",
        "* Using named arguments while invoking a function\n",
        "* Importing modules and using library functions\n",
        "* Reusing and improving functions to handle new use cases\n",
        "* Handling exceptions with `try`-`except`\n",
        "* Documenting functions using docstrings\n",
        "\n",
        "This tutorial on functions in Python is by no means exhaustive. Here are a few more topics to learn about:\n",
        "\n",
        "* Functions with an arbitrary number of arguments using (`*args` and `**kwargs`)\n",
        "* Defining functions inside functions (and closures)\n",
        "* A function that invokes itself (recursion)\n",
        "* Functions that accept other functions as arguments or return other functions\n",
        "* Functions that enhance other functions (decorators)\n",
        "\n",
        "Following are some resources to learn about more functions in Python:\n",
        "\n",
        "* Python Tutorial at W3Schools: https://www.w3schools.com/python/\n",
        "* Practical Python Programming: https://dabeaz-course.github.io/practical-python/Notes/Contents.html\n",
        "* Python official documentation: https://docs.python.org/3/tutorial/index.html"
      ]
    },
    {
      "cell_type": "markdown",
      "metadata": {
        "id": "EOqOFV-9nqmJ"
      },
      "source": [
        "## Questions for Revision\n",
        "\n",
        "Try answering the following questions to test your understanding of the topics covered in this notebook:\n",
        "\n",
        "1. What is a function?\n",
        "2. What are the benefits of using functions?\n",
        "3. What are some built-in functions in Python?\n",
        "4. How do you define a function in Python? Give an example.\n",
        "5. What is the body of a function?\n",
        "6. When are the statements in the body of a function executed?\n",
        "7. What is meant by calling or invoking a function? Give an example.\n",
        "8. What are function arguments? How are they useful?\n",
        "9. How do you store the result of a function in a variable?\n",
        "10. What is the purpose of the `return` keyword in Python?\n",
        "11. Can you return multiple values from a function?\n",
        "12. Can a `return` statement be used inside an `if` block or a `for` loop?\n",
        "13. Can the `return` keyword be used outside a function?\n",
        "14. What is scope in a programming region? \n",
        "15. How do you define a variable inside a function?\n",
        "16. What are local & global variables?\n",
        "17. Can you access the variables defined inside a function outside its body? Why or why not?\n",
        "18. What do you mean by the statement \"a function defines a scope within Python\"?\n",
        "19. Do for and while loops define a scope, like functions?\n",
        "20. Do if-else blocks define a scope, like functions?\n",
        "21. What are optional function arguments & default values? Give an example.\n",
        "22. Why should the required arguments appear before the optional arguments in a function definition?\n",
        "23. How do you invoke a function with named arguments? Illustrate with an example.\n",
        "24. Can you split a function invocation into multiple lines?\n",
        "25. Write a function that takes a number and rounds it up to the nearest integer.\n",
        "26. What are modules in Python?\n",
        "27. What is a Python library?\n",
        "28. What is the Python Standard Library?\n",
        "29. Where can you learn about the modules and functions available in the Python standard library?\n",
        "30. How do you install a third-party library?\n",
        "31. What is a module namespace? How is it useful?\n",
        "32. What problems would you run into if Python modules did not provide namespaces?\n",
        "33. How do you import a module?\n",
        "34. How do you use a function from an imported module? Illustrate with an example.\n",
        "35. Can you invoke a function inside the body of another function? Give an example.\n",
        "36. What is the single responsibility principle, and how does it apply while writing functions?\n",
        "37. What some characteristics of well-written functions?\n",
        "38. Can you use if statements or while loops within a function? Illustrate with an example.\n",
        "39. What are exceptions in Python? When do they occur?\n",
        "40. How are exceptions different from syntax errors?\n",
        "41. What are the different types of in-built exceptions in Python? Where can you learn about them?\n",
        "42. How do you prevent the termination of a program due to an exception?\n",
        "43. What is the purpose of the `try`-`except` statements in Python?\n",
        "44. What is the syntax of the `try`-`except` statements? Give an example.\n",
        "45. What happens if an exception occurs inside a `try` block?\n",
        "46. How do you handle two different types of exceptions using `except`? Can you have multiple `except` blocks under a single `try` block?\n",
        "47. How do you create an `except` block to handle any type of exception?\n",
        "48. Illustrate the usage of `try`-`except` inside a function with an example.\n",
        "49. What is a docstring? Why is it useful?\n",
        "50. How do you display the docstring for a function?\n",
        "51. What are *args and **kwargs? How are they useful? Give an example.\n",
        "52. Can you define functions inside functions? \n",
        "53. What is function closure in Python? How is it useful? Give an example.\n",
        "54. What is recursion? Illustrate with an example.\n",
        "55. Can functions accept other functions as arguments? Illustrate with an example.\n",
        "56. Can functions return other functions as results? Illustrate with an example.\n",
        "57. What are decorators? How are they useful?\n",
        "58. Implement a function decorator which prints the arguments and result of wrapped functions.\n",
        "59. What are some in-built decorators in Python?\n",
        "60. What are some popular Python libraries?"
      ]
    }
  ]
}