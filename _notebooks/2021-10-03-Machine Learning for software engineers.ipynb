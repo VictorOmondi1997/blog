{
 "cells": [
  {
   "cell_type": "markdown",
   "metadata": {},
   "source": [
    "# Machine Learning for Software Engineers\n",
    "\n",
    "> Topics covered include data analysis/visualization, feature engineering, supervised learning, unsupervised learning, and deep learning. All topics are are ofindustry standard frameworks: NumPy, pandas, scikit-learn, XGBoost, TensorFlow, and Keras.\n",
    "\n",
    "- author: Victor Omondi\n",
    "- toc: true\n",
    "- comments: true\n",
    "- categories: [software-engineer, machine-learning]\n",
    "- image: images/mlse-shield.png"
   ]
  },
  {
   "cell_type": "markdown",
   "metadata": {},
   "source": [
    "# Libraries"
   ]
  },
  {
   "cell_type": "code",
   "execution_count": 3,
   "metadata": {},
   "outputs": [],
   "source": [
    "# WARNINGS\n",
    "import warnings\n",
    "\n",
    "# EXPLORATION AND MANIPULATION\n",
    "import pandas as pd\n",
    "import numpy as np\n",
    "from numpy import nan\n",
    "\n",
    "# VISUALIZATION\n",
    "import matplotlib.pyplot as plt\n",
    "import seaborn as sns\n",
    "%matplotlib inline\n",
    "\n",
    "\n",
    "# DATASETS\n",
    "from sklearn.datasets import load_breast_cancer\n",
    "# PREPROCESSING\n",
    "from sklearn.preprocessing import (scale, \n",
    "                                   MinMaxScaler, \n",
    "                                   RobustScaler, \n",
    "                                   Normalizer)\n",
    "# IMPUTATION\n",
    "from sklearn.impute import SimpleImputer\n",
    "# DECOMPOSITION\n",
    "from sklearn.decomposition import PCA\n",
    "# MODEL SELECTION\n",
    "from sklearn.model_selection import (train_test_split, \n",
    "                                     cross_val_score, \n",
    "                                     GridSearchCV)\n",
    "# MODELLING\n",
    "## 1. Regression\n",
    "from sklearn.linear_model import (LinearRegression,\n",
    "                                  Ridge, \n",
    "                                  RidgeCV, \n",
    "                                  Lasso, \n",
    "                                  BayesianRidge,\n",
    "                                  LogisticRegression)\n",
    "## 2. Decision Trees\n",
    "from sklearn.tree import(DecisionTreeClassifier,\n",
    "                         DecisionTreeRegressor)\n",
    "# METRICS\n",
    "from sklearn.metrics import (r2_score, \n",
    "                             mean_absolute_error, \n",
    "                             mean_squared_error, \n",
    "                             accuracy_score)"
   ]
  },
  {
   "cell_type": "markdown",
   "metadata": {},
   "source": [
    "## Libraries setup"
   ]
  },
  {
   "cell_type": "code",
   "execution_count": 2,
   "metadata": {},
   "outputs": [],
   "source": [
    "# Manipulation Configuration\n",
    "pd.set_option(\"display.max_columns\", None)\n",
    "pd.set_option(\"display.max_colwidth\", None)\n",
    "\n",
    "# Warnings Configuration\n",
    "warnings.filterwarnings(\"ignore\", message=\"The default dtype for empty Series will be 'object' instead of 'float64' in a future version\")\n",
    "warnings.filterwarnings(\"ignore\", message='lbfgs failed to converge')\n",
    "\n",
    "# Visualization Configuration\n",
    "plt.style.use(\"fivethirtyeight\")"
   ]
  },
  {
   "cell_type": "markdown",
   "metadata": {},
   "source": [
    "# 1. Overview"
   ]
  },
  {
   "cell_type": "markdown",
   "metadata": {},
   "source": [
    "## A. What is Machine Learning?"
   ]
  },
  {
   "cell_type": "markdown",
   "metadata": {},
   "source": [
    "Machine learning is the branch of science that deals with algorithms and systems performing specific tasks using patterns and inference, rather than explicitly programmed instructions. There are a variety of different use cases for machine learning, from image recognition to text generation. Most machine learning tasks generalize to one of the following two learning types:\n",
    "\n",
    "- **Supervised learning**: Using labeled data to train a model. The labels for the training dataset represent the class/category that each data observation belongs to. After training, the model should be able to predict labels for new data observations (from the same population distribution as the training data).\n",
    "  - ***Example***: Let’s say you’re training a machine learning model to predict whether a picture contains a lake or not. With supervised learning, you would train a model on a dataset of pictures where the label for each picture is “Yes” if it contains a lake or “No” if it doesn’t. After training, the model will be able to take in a picture and determine whether or not it contains a lake.\n",
    "\n",
    "- **Unsupervised Learning**: Using unlabeled data to allow a model to learn relationships between data observations and pick up on underlying patterns. Most data in the world is unlabeled, which makes unsupervised learning a very useful method of machine learning.\n",
    "  - ***Example***: Going back to the same picture dataset from above, but now assume the training dataset is unlabeled. Using unsupervised learning, a model will be able to pick up on the inherent differences between pictures with a lake and pictures without a lake, e.g. differences in pixel color or orientation. This allows the model to cluster the pictures into two separate groups.\n",
    "\n",
    "If it is possible to get large enough labeled training datasets, supervised learning is the way to go. However, it is often difficult to get fully labeled datasets, which is why many tasks require unsupervised learning or semi-supervised learning (a mix of supervised and unsupervised learning). Deciding which type of learning method to use is only the first step towards creating a machine learning model. You also need to choose the proper model architecture for your task and, most importantly, be able to process data into a training pipeline and interpret/analyze model results."
   ]
  },
  {
   "cell_type": "markdown",
   "metadata": {},
   "source": [
    "## B. ML vs. AI vs. Data Science"
   ]
  },
  {
   "cell_type": "markdown",
   "metadata": {},
   "source": [
    "People often throw around the terms “machine learning”, “artificial intelligence”, and “data science” interchangeably. In reality, machine learning is a subset of artificial intelligence and overlaps heavily with data science. Artificial intelligence deals with any technique that allows machines to display “intelligence”, similar to humans. Machine learning is one of the main techniques used to create artificial intelligence, but other non-ML techniques (e.g. alpha-beta pruning, rule-based systems) are also widely used in AI.\n",
    "\n",
    "On the other hand, data science deals with gathering insights from datasets. Traditionally, data scientists have used statistical methods for gathering these insights. However, as machine learning continues to grow, it has also penetrated into the field of data science.\n",
    "\n",
    "In industry, any data scientist or AI researcher needs to have a good understanding of machine learning. Machine learning in industry has allowed us to create wonderful autonomous systems. These systems have matched, or sometimes even exceeded, the best human performance in their respective fields. A good example is AlphaGo, a machine-learning based system that has beaten the best human Go players in the world."
   ]
  },
  {
   "cell_type": "markdown",
   "metadata": {},
   "source": [
    "## C. 7 Steps of the Machine Learning Process"
   ]
  },
  {
   "cell_type": "markdown",
   "metadata": {},
   "source": [
    "1. **Data Collection**: The process of extracting raw datasets for the machine learning task. This data can come from a variety of places, ranging from open-source online resources to paid crowdsourcing. The first step of the machine learning process is arguably the most important. If the data you collect is poor quality or irrelevant, then the model you train will be poor quality as well.\n",
    "2. **Data Processing and Preparation**: Once you’ve gathered the relevant data, you need to process it and make sure that it is in a usable format for training a machine learning model. This includes handling missing data, dealing with outliers, etc.\n",
    "3. **Feature Engineering**: Once you’ve collected and processed your dataset, you will likely need to transform some of the features (and sometimes even drop some features) in order to optimize how well a model can be trained on the data.\n",
    "4. **Model Selection**: Based on the dataset, you will choose which model architecture to use. This is one of the main tasks of industry engineers. Rather than attempting to come up with a completely novel model architecture, most tasks can be thoroughly performed with an existing architecture (or combination of model architectures).\n",
    "5. **Model Training and Data Pipeline**: After selecting the model architecture, you will create a data pipeline for training the model. This means creating a continuous stream of batched data observations to efficiently train the model. Since training can take a long time, you want your data pipeline to be as efficient as possible.\n",
    "6. **Model Validation**: After training the model for a sufficient amount of time, you will need to validate the model’s performance on a held-out portion of the overall dataset. This data needs to come from the same underlying distribution as the training dataset, but needs to be different data that the model has not seen before.\n",
    "7. **Model Persistence**: Finally, after training and validating the model’s performance, you need to be able to properly save the model weights and possibly push the model to production. This means setting up a process with which new users can easily use your pre-trained model to make predictions."
   ]
  },
  {
   "cell_type": "markdown",
   "metadata": {},
   "source": [
    "## D. What this course will provide"
   ]
  },
  {
   "cell_type": "markdown",
   "metadata": {},
   "source": [
    "We’ll be able to take process and clean a raw dataset, train a machine learning model on the data, and validate the model’s performance. Specifically, we will be able to:\n",
    "- Take a raw dataset and process it for a given task. This means dealing with missing data and outliers, normalizing and transforming features, figuring out which features are the most relevant to the task, and picking out the best combination of features to use.\n",
    "- Picking the correct model architecture to use based on the data. Many people will always default to using a large neural network for any machine learning task, but many times this is unnecessary and can even hurt the model’s final performance if the dataset is not large enough.\n",
    "- Code a machine learning model and train it on processed data. Validate the model’s performance on held-out data and understand techniques to improve a model’s performance."
   ]
  },
  {
   "cell_type": "markdown",
   "metadata": {},
   "source": [
    "# 2. Data Manipulation with NumPy"
   ]
  },
  {
   "cell_type": "markdown",
   "metadata": {},
   "source": [
    "## Introduction"
   ]
  },
  {
   "cell_type": "markdown",
   "metadata": {},
   "source": [
    "An overview of data processing and the NumPy library.\n",
    "\n",
    "In the **Data Manipulation** section, we will explore how to perform data manipulation using NumPy."
   ]
  },
  {
   "cell_type": "markdown",
   "metadata": {},
   "source": [
    "### A. Data Processing"
   ]
  },
  {
   "cell_type": "markdown",
   "metadata": {},
   "source": [
    "When asked about Google's model for success, Peter Norvig, the director of research at Google, famously stated,\n",
    "\n",
    "> \"We don't have better algorithms than anyone else; we just have more data.\"\n",
    "\n",
    "Though probably an understatement (given the amount of talent employed at Google), the quote does provide a sense of just how vital data is to having successful outcomes.\n",
    "\n",
    "People normally discuss the importance of data in the context of machine learning. No matter how sophisticated a machine learning model is, it will not perform well unless it has a reasonable amount of data to train on. On the other hand, given a large and diverse set of training data, a good deep learning model will significantly outperform non-deep learning algorithms.\n",
    "\n",
    "However, data is not just limited to machine learning. Companies use data to identify customer trends, political parties use data to determine which demographics they should target, sports teams use data to analyze players, etc.\n",
    "\n",
    "![Example.jpg](datasets/images/example.jpg \"Example baseball data used in sabermetrics. The concept was popularized by the 2011 film, Moneyball.\")\n",
    "\n",
    "The universal usage of data makes **data processing**, the act of converting raw data into a meaningful form, an essential skill to have."
   ]
  },
  {
   "cell_type": "markdown",
   "metadata": {},
   "source": [
    "### B. NumPy"
   ]
  },
  {
   "cell_type": "markdown",
   "metadata": {},
   "source": [
    "Many scenarios involve mostly numeric datasets. For example, medical data contains many numeric metrics, such as height, weight, and blood pressure. Furthermore, the majority of neural networks use input data that is either numeric or has been converted to a numeric form.\n",
    "\n",
    "When we deal with numeric data, the best Python library to use is [NumPy](http://www.numpy.org/). The NumPy library allows us to perform many operations on numeric data, and convert the data to more usable forms."
   ]
  },
  {
   "cell_type": "code",
   "execution_count": 3,
   "metadata": {},
   "outputs": [
    {
     "data": {
      "text/plain": [
       "array([-1.,  2.,  5.], dtype=float32)"
      ]
     },
     "execution_count": 3,
     "metadata": {},
     "output_type": "execute_result"
    }
   ],
   "source": [
    "# Initializing a NumPy array\n",
    "arr = np.array([-1, 2, 5], dtype=np.float32)\n",
    "\n",
    "# Print the representation of the array\n",
    "arr"
   ]
  },
  {
   "cell_type": "markdown",
   "metadata": {},
   "source": [
    "In the following chapters, we’ll explore all the necessary NumPy operations for data manipulation."
   ]
  },
  {
   "cell_type": "markdown",
   "metadata": {},
   "source": [
    "## NumPy Arrays"
   ]
  },
  {
   "cell_type": "markdown",
   "metadata": {},
   "source": [
    "Exploring NumPy arrays and how they're used.\n",
    "\n",
    "### Goals:"
   ]
  },
  {
   "cell_type": "markdown",
   "metadata": {},
   "source": [
    "- Explore NumPy arrays and how to initialize them\n",
    "- Write code to create several NumPy arrays"
   ]
  },
  {
   "cell_type": "markdown",
   "metadata": {},
   "source": [
    "### A. Arrays"
   ]
  },
  {
   "cell_type": "markdown",
   "metadata": {},
   "source": [
    "NumPy arrays are basically just Python lists with added features. In fact, we can easily convert a Python list to a Numpy array using the  `np.array`  function, which takes in a Python list as its required argument. The function also has quite a few keyword arguments, but the main one to know is  `dtype` . The  `dtype`  keyword argument takes in a [NumPy type](https://docs.scipy.org/doc/numpy/user/basics.types.html) and manually casts the array to the specified type.\n",
    "\n",
    "The code below is an example usage of  `np.array`  to create a 2-D matrix. \n",
    "\n",
    "> Note: the array is manually cast to  `np.float32` ."
   ]
  },
  {
   "cell_type": "code",
   "execution_count": 4,
   "metadata": {},
   "outputs": [
    {
     "data": {
      "text/plain": [
       "array([[0., 1., 2.],\n",
       "       [3., 4., 5.]], dtype=float32)"
      ]
     },
     "execution_count": 4,
     "metadata": {},
     "output_type": "execute_result"
    }
   ],
   "source": [
    "arr = np.array([[0, 1, 2], [3, 4, 5]],\n",
    "               dtype=np.float32)\n",
    "arr"
   ]
  },
  {
   "cell_type": "markdown",
   "metadata": {},
   "source": [
    "When the elements of a NumPy array are mixed types, then the array's type will be  *upcast*  to the highest level type. This means that if an array input has mixed  `int`  and  `float`  elements, all the integers will be cast to their floating-point equivalents. If an array is mixed with  `int` ,  `float` , and  `string`  elements, everything is cast to strings.\n",
    "\n",
    "The code below is an example of  `np.array`  upcasting. Both integers are cast to their floating-point equivalents."
   ]
  },
  {
   "cell_type": "code",
   "execution_count": 5,
   "metadata": {},
   "outputs": [
    {
     "data": {
      "text/plain": [
       "array([0. , 0.1, 2. ])"
      ]
     },
     "execution_count": 5,
     "metadata": {},
     "output_type": "execute_result"
    }
   ],
   "source": [
    "arr = np.array([0, 0.1, 2])\n",
    "arr"
   ]
  },
  {
   "cell_type": "markdown",
   "metadata": {},
   "source": [
    "### B. Copying"
   ]
  },
  {
   "cell_type": "markdown",
   "metadata": {},
   "source": [
    "Similar to Python lists, when we make a reference to a NumPy array it doesn't create a different array. Therefore, if we change a value using the reference variable, it changes the original array as well. We get around this by using an array's inherent  `copy`  function. The function has no required arguments, and it returns the copied array.\n",
    "\n",
    "In the code example below,  `c`  is a reference to  `a`  while  `d`  is a copy. Therefore, changing  `c`  leads to the same change in  `a` , while changing  `d`  does not change the value of  `b` ."
   ]
  },
  {
   "cell_type": "code",
   "execution_count": 6,
   "metadata": {},
   "outputs": [
    {
     "name": "stdout",
     "output_type": "stream",
     "text": [
      "Array a: [0 1]\n"
     ]
    }
   ],
   "source": [
    "a = np.array([0, 1])\n",
    "b = np.array([9, 8])\n",
    "c = a\n",
    "print(f'Array a: {a}')"
   ]
  },
  {
   "cell_type": "code",
   "execution_count": 7,
   "metadata": {},
   "outputs": [
    {
     "name": "stdout",
     "output_type": "stream",
     "text": [
      "Array a: [5 1]\n"
     ]
    }
   ],
   "source": [
    "c[0] = 5\n",
    "print(f'Array a: {a}')"
   ]
  },
  {
   "cell_type": "code",
   "execution_count": 8,
   "metadata": {},
   "outputs": [
    {
     "name": "stdout",
     "output_type": "stream",
     "text": [
      "Array b: [9 8]\n"
     ]
    }
   ],
   "source": [
    "d = b.copy()\n",
    "d[0] = 6\n",
    "print(f'Array b: {b}')"
   ]
  },
  {
   "cell_type": "markdown",
   "metadata": {},
   "source": [
    "### C. Casting"
   ]
  },
  {
   "cell_type": "markdown",
   "metadata": {},
   "source": [
    "We cast NumPy arrays through their inherent  `astype`  function. The function's required argument is the new type for the array. It returns the array cast to the new type.\n",
    "\n",
    "The code below shows an example of casting using the  `astype`  function. The  `dtype`  property returns the type of an array."
   ]
  },
  {
   "cell_type": "code",
   "execution_count": 9,
   "metadata": {},
   "outputs": [
    {
     "data": {
      "text/plain": [
       "dtype('int32')"
      ]
     },
     "execution_count": 9,
     "metadata": {},
     "output_type": "execute_result"
    }
   ],
   "source": [
    "arr = np.array([0, 1, 2])\n",
    "arr.dtype"
   ]
  },
  {
   "cell_type": "code",
   "execution_count": 10,
   "metadata": {},
   "outputs": [
    {
     "data": {
      "text/plain": [
       "dtype('float32')"
      ]
     },
     "execution_count": 10,
     "metadata": {},
     "output_type": "execute_result"
    }
   ],
   "source": [
    "arr = arr.astype(np.float32)\n",
    "arr.dtype"
   ]
  },
  {
   "cell_type": "markdown",
   "metadata": {},
   "source": [
    "### D. NaN"
   ]
  },
  {
   "cell_type": "markdown",
   "metadata": {},
   "source": [
    "When we don't want a NumPy array to contain a value at a particular index, we can use  `np.nan`  to act as a placeholder. A common usage for  `np.nan`  is as a filler value for incomplete data.\n",
    "\n",
    "The code below shows an example usage of  `np.nan` . Note that  `np.nan`  cannot take on an integer type."
   ]
  },
  {
   "cell_type": "code",
   "execution_count": 11,
   "metadata": {},
   "outputs": [
    {
     "data": {
      "text/plain": [
       "array([nan,  1.,  2.])"
      ]
     },
     "execution_count": 11,
     "metadata": {},
     "output_type": "execute_result"
    }
   ],
   "source": [
    "arr = np.array([np.nan, 1, 2])\n",
    "arr"
   ]
  },
  {
   "cell_type": "code",
   "execution_count": 12,
   "metadata": {},
   "outputs": [
    {
     "data": {
      "text/plain": [
       "array(['nan', 'abc'], dtype='<U32')"
      ]
     },
     "execution_count": 12,
     "metadata": {},
     "output_type": "execute_result"
    }
   ],
   "source": [
    "arr = np.array([np.nan, 'abc'])\n",
    "arr"
   ]
  },
  {
   "cell_type": "code",
   "execution_count": 13,
   "metadata": {},
   "outputs": [
    {
     "ename": "ValueError",
     "evalue": "cannot convert float NaN to integer",
     "output_type": "error",
     "traceback": [
      "\u001b[1;31m---------------------------------------------------------------------------\u001b[0m",
      "\u001b[1;31mValueError\u001b[0m                                Traceback (most recent call last)",
      "\u001b[1;32m<ipython-input-13-6ca1dd662c51>\u001b[0m in \u001b[0;36m<module>\u001b[1;34m\u001b[0m\n\u001b[0;32m      1\u001b[0m \u001b[1;31m# Will result in a ValueError\u001b[0m\u001b[1;33m\u001b[0m\u001b[1;33m\u001b[0m\u001b[0m\n\u001b[1;32m----> 2\u001b[1;33m \u001b[0mnp\u001b[0m\u001b[1;33m.\u001b[0m\u001b[0marray\u001b[0m\u001b[1;33m(\u001b[0m\u001b[1;33m[\u001b[0m\u001b[0mnp\u001b[0m\u001b[1;33m.\u001b[0m\u001b[0mnan\u001b[0m\u001b[1;33m,\u001b[0m \u001b[1;36m1\u001b[0m\u001b[1;33m,\u001b[0m \u001b[1;36m2\u001b[0m\u001b[1;33m]\u001b[0m\u001b[1;33m,\u001b[0m \u001b[0mdtype\u001b[0m\u001b[1;33m=\u001b[0m\u001b[0mnp\u001b[0m\u001b[1;33m.\u001b[0m\u001b[0mint32\u001b[0m\u001b[1;33m)\u001b[0m\u001b[1;33m\u001b[0m\u001b[0m\n\u001b[0m",
      "\u001b[1;31mValueError\u001b[0m: cannot convert float NaN to integer"
     ]
    }
   ],
   "source": [
    "# Will result in a ValueError\n",
    "np.array([np.nan, 1, 2], dtype=np.int32)"
   ]
  },
  {
   "cell_type": "markdown",
   "metadata": {},
   "source": [
    "### E. Infinity"
   ]
  },
  {
   "cell_type": "markdown",
   "metadata": {},
   "source": [
    "To represent infinity in NumPy, we use the  `np.inf`  special value. We can also represent negative infinity with  `-np.inf` .\n",
    "\n",
    "The code below shows an example usage of  `np.inf` . Note that  `np.inf`  cannot take on an integer type."
   ]
  },
  {
   "cell_type": "code",
   "execution_count": 14,
   "metadata": {},
   "outputs": [
    {
     "name": "stdout",
     "output_type": "stream",
     "text": [
      "True\n"
     ]
    }
   ],
   "source": [
    "print(np.inf > 1000000)"
   ]
  },
  {
   "cell_type": "code",
   "execution_count": 15,
   "metadata": {},
   "outputs": [
    {
     "data": {
      "text/plain": [
       "array([inf,  5.])"
      ]
     },
     "execution_count": 15,
     "metadata": {},
     "output_type": "execute_result"
    }
   ],
   "source": [
    "arr = np.array([np.inf, 5])\n",
    "arr"
   ]
  },
  {
   "cell_type": "code",
   "execution_count": 16,
   "metadata": {},
   "outputs": [
    {
     "data": {
      "text/plain": [
       "array([-inf,   1.])"
      ]
     },
     "execution_count": 16,
     "metadata": {},
     "output_type": "execute_result"
    }
   ],
   "source": [
    "arr = np.array([-np.inf, 1])\n",
    "arr"
   ]
  },
  {
   "cell_type": "code",
   "execution_count": 17,
   "metadata": {},
   "outputs": [
    {
     "ename": "OverflowError",
     "evalue": "cannot convert float infinity to integer",
     "output_type": "error",
     "traceback": [
      "\u001b[1;31m---------------------------------------------------------------------------\u001b[0m",
      "\u001b[1;31mOverflowError\u001b[0m                             Traceback (most recent call last)",
      "\u001b[1;32m<ipython-input-17-3ef3477d851f>\u001b[0m in \u001b[0;36m<module>\u001b[1;34m\u001b[0m\n\u001b[0;32m      1\u001b[0m \u001b[1;31m# Will result in an OverflowError\u001b[0m\u001b[1;33m\u001b[0m\u001b[1;33m\u001b[0m\u001b[0m\n\u001b[1;32m----> 2\u001b[1;33m \u001b[0mnp\u001b[0m\u001b[1;33m.\u001b[0m\u001b[0marray\u001b[0m\u001b[1;33m(\u001b[0m\u001b[1;33m[\u001b[0m\u001b[0mnp\u001b[0m\u001b[1;33m.\u001b[0m\u001b[0minf\u001b[0m\u001b[1;33m,\u001b[0m \u001b[1;36m3\u001b[0m\u001b[1;33m]\u001b[0m\u001b[1;33m,\u001b[0m \u001b[0mdtype\u001b[0m\u001b[1;33m=\u001b[0m\u001b[0mnp\u001b[0m\u001b[1;33m.\u001b[0m\u001b[0mint32\u001b[0m\u001b[1;33m)\u001b[0m\u001b[1;33m\u001b[0m\u001b[0m\n\u001b[0m",
      "\u001b[1;31mOverflowError\u001b[0m: cannot convert float infinity to integer"
     ]
    }
   ],
   "source": [
    "# Will result in an OverflowError\n",
    "np.array([np.inf, 3], dtype=np.int32)"
   ]
  },
  {
   "cell_type": "markdown",
   "metadata": {},
   "source": [
    "## NumPy Basics"
   ]
  },
  {
   "cell_type": "markdown",
   "metadata": {},
   "source": [
    "Perform basic operations to create and modify NumPy arrays."
   ]
  },
  {
   "cell_type": "markdown",
   "metadata": {},
   "source": [
    "### Goals:"
   ]
  },
  {
   "cell_type": "markdown",
   "metadata": {},
   "source": [
    "- Explore some basic NumPy operations\n",
    "- Write code using the basic NumPy functions"
   ]
  },
  {
   "cell_type": "markdown",
   "metadata": {},
   "source": [
    "### A. Ranged data"
   ]
  },
  {
   "cell_type": "markdown",
   "metadata": {},
   "source": [
    "While  `np.array`  can be used to create any array, it is equivalent to hardcoding an array. This won't work when the array has hundreds of values. Instead, NumPy provides an option to create ranged data arrays using  `np.arange` . The function acts very similar to the  `range`  function in Python, and will always return a 1-D array.\n",
    "\n",
    "The code below contains example usages of  `np.arange`."
   ]
  },
  {
   "cell_type": "code",
   "execution_count": 18,
   "metadata": {},
   "outputs": [
    {
     "data": {
      "text/plain": [
       "array([0, 1, 2, 3, 4])"
      ]
     },
     "execution_count": 18,
     "metadata": {},
     "output_type": "execute_result"
    }
   ],
   "source": [
    "arr = np.arange(5)\n",
    "arr"
   ]
  },
  {
   "cell_type": "code",
   "execution_count": 19,
   "metadata": {},
   "outputs": [
    {
     "data": {
      "text/plain": [
       "array([0., 1., 2., 3., 4., 5.])"
      ]
     },
     "execution_count": 19,
     "metadata": {},
     "output_type": "execute_result"
    }
   ],
   "source": [
    "arr = np.arange(5.1)\n",
    "arr"
   ]
  },
  {
   "cell_type": "code",
   "execution_count": 20,
   "metadata": {},
   "outputs": [
    {
     "data": {
      "text/plain": [
       "array([-1,  0,  1,  2,  3])"
      ]
     },
     "execution_count": 20,
     "metadata": {},
     "output_type": "execute_result"
    }
   ],
   "source": [
    "arr = np.arange(-1, 4)\n",
    "arr"
   ]
  },
  {
   "cell_type": "code",
   "execution_count": 21,
   "metadata": {},
   "outputs": [
    {
     "data": {
      "text/plain": [
       "array([-1.5,  0.5,  2.5])"
      ]
     },
     "execution_count": 21,
     "metadata": {},
     "output_type": "execute_result"
    }
   ],
   "source": [
    "arr = np.arange(-1.5, 4, 2)\n",
    "arr"
   ]
  },
  {
   "cell_type": "markdown",
   "metadata": {},
   "source": [
    "The output of  `np.arange`  is specified as follows:\n",
    "\n",
    "* If only a single number,  *n* , is passed in as an argument,  `np.arange`  will return an array with all the integers in the range [0,  *n* ).  \n",
    "* > Note:  the lower end is inclusive while the upper end is exclusive.\n",
    "* For two arguments,  *m*  and  *n* ,  `np.arange`  will return an array with all the integers in the range [ *m* ,  *n* ).\n",
    "* For three arguments,  *m* ,  *n* , and  *s* ,  `np.arange`  will return an array with the integers in the range [ *m* ,  *n* ) using a step size of  *s* .\n",
    "* Like  `np.array` ,  `np.arange`  performs upcasting. It also has the  `dtype`  keyword argument to manually cast the array.\n",
    "\n",
    "To specify the number of elements in the returned array, rather than the step size, we can use the  `np.linspace`  function.\n",
    "\n",
    "This function takes in a required first two arguments, for the start and end of the range, respectively. The end of the range is inclusive for  `np.linspace` , unless the keyword argument  `endpoint`  is set to  `False` . To specify the number of elements, we set the  `num`  keyword argument (its default value is  `50` ).\n",
    "\n",
    "The code below shows example usages of  `np.linspace` . It also takes in the  `dtype`  keyword argument for manual casting."
   ]
  },
  {
   "cell_type": "code",
   "execution_count": 22,
   "metadata": {},
   "outputs": [
    {
     "data": {
      "text/plain": [
       "array([ 5.,  7.,  9., 11.])"
      ]
     },
     "execution_count": 22,
     "metadata": {},
     "output_type": "execute_result"
    }
   ],
   "source": [
    "arr = np.linspace(5, 11, num=4)\n",
    "arr"
   ]
  },
  {
   "cell_type": "code",
   "execution_count": 23,
   "metadata": {},
   "outputs": [
    {
     "data": {
      "text/plain": [
       "array([5. , 6.5, 8. , 9.5])"
      ]
     },
     "execution_count": 23,
     "metadata": {},
     "output_type": "execute_result"
    }
   ],
   "source": [
    "arr = np.linspace(5, 11, num=4, endpoint=False)\n",
    "arr"
   ]
  },
  {
   "cell_type": "code",
   "execution_count": 24,
   "metadata": {},
   "outputs": [
    {
     "data": {
      "text/plain": [
       "array([ 5,  7,  9, 11])"
      ]
     },
     "execution_count": 24,
     "metadata": {},
     "output_type": "execute_result"
    }
   ],
   "source": [
    "arr = np.linspace(5, 11, num=4, dtype=np.int32)\n",
    "arr"
   ]
  },
  {
   "cell_type": "markdown",
   "metadata": {},
   "source": [
    "### B. Reshaping data"
   ]
  },
  {
   "cell_type": "markdown",
   "metadata": {},
   "source": [
    "The function we use to reshape data in NumPy is  `np.reshape` . It takes in an array and a new shape as required arguments. The new shape must exactly contain all the elements from the input array. For example, we could reshape an array with 12 elements to  `(4, 3)` , but we can't reshape it to  `(4, 4)` .\n",
    "\n",
    "We are allowed to use the special value of -1 in at most one dimension of the new shape. The dimension with -1 will take on the value necessary to allow the new shape to contain all the elements of the array.\n",
    "\n",
    "The code below shows example usages of  `np.reshape` ."
   ]
  },
  {
   "cell_type": "code",
   "execution_count": 25,
   "metadata": {},
   "outputs": [
    {
     "data": {
      "text/plain": [
       "array([[0, 1, 2, 3],\n",
       "       [4, 5, 6, 7]])"
      ]
     },
     "execution_count": 25,
     "metadata": {},
     "output_type": "execute_result"
    }
   ],
   "source": [
    "arr = np.arange(8)\n",
    "\n",
    "reshaped_arr = np.reshape(arr, (2, 4))\n",
    "reshaped_arr"
   ]
  },
  {
   "cell_type": "code",
   "execution_count": 26,
   "metadata": {},
   "outputs": [
    {
     "name": "stdout",
     "output_type": "stream",
     "text": [
      "New shape: (2, 4)\n"
     ]
    }
   ],
   "source": [
    "print(f'New shape: {reshaped_arr.shape}')"
   ]
  },
  {
   "cell_type": "code",
   "execution_count": 27,
   "metadata": {},
   "outputs": [
    {
     "data": {
      "text/plain": [
       "array([[[0, 1],\n",
       "        [2, 3]],\n",
       "\n",
       "       [[4, 5],\n",
       "        [6, 7]]])"
      ]
     },
     "execution_count": 27,
     "metadata": {},
     "output_type": "execute_result"
    }
   ],
   "source": [
    "reshaped_arr = np.reshape(arr, (-1, 2, 2))\n",
    "reshaped_arr"
   ]
  },
  {
   "cell_type": "code",
   "execution_count": 28,
   "metadata": {},
   "outputs": [
    {
     "name": "stdout",
     "output_type": "stream",
     "text": [
      "New shape: (2, 2, 2)\n"
     ]
    }
   ],
   "source": [
    "print(f'New shape: {reshaped_arr.shape}')"
   ]
  },
  {
   "cell_type": "markdown",
   "metadata": {},
   "source": [
    "While the  `np.reshape`  function can perform any reshaping utilities we need, NumPy provides an inherent function for flattening an array. Flattening an array reshapes it into a 1D array. Since we need to flatten data quite often, it is a useful function.\n",
    "\n",
    "The code below flattens an array using the inherent  `flatten`  function."
   ]
  },
  {
   "cell_type": "code",
   "execution_count": 29,
   "metadata": {},
   "outputs": [
    {
     "data": {
      "text/plain": [
       "array([[0, 1, 2, 3],\n",
       "       [4, 5, 6, 7]])"
      ]
     },
     "execution_count": 29,
     "metadata": {},
     "output_type": "execute_result"
    }
   ],
   "source": [
    "arr = np.arange(8)\n",
    "arr = np.reshape(arr, (2, 4))\n",
    "flattened = arr.flatten()\n",
    "arr"
   ]
  },
  {
   "cell_type": "code",
   "execution_count": 30,
   "metadata": {},
   "outputs": [
    {
     "name": "stdout",
     "output_type": "stream",
     "text": [
      "arr shape: (2, 4)\n"
     ]
    }
   ],
   "source": [
    "print(f'arr shape: {arr.shape}')"
   ]
  },
  {
   "cell_type": "code",
   "execution_count": 31,
   "metadata": {},
   "outputs": [
    {
     "data": {
      "text/plain": [
       "array([0, 1, 2, 3, 4, 5, 6, 7])"
      ]
     },
     "execution_count": 31,
     "metadata": {},
     "output_type": "execute_result"
    }
   ],
   "source": [
    "flattened"
   ]
  },
  {
   "cell_type": "code",
   "execution_count": 32,
   "metadata": {},
   "outputs": [
    {
     "name": "stdout",
     "output_type": "stream",
     "text": [
      "flattened shape: (8,)\n"
     ]
    }
   ],
   "source": [
    "print(f'flattened shape: {flattened.shape}')"
   ]
  },
  {
   "cell_type": "markdown",
   "metadata": {},
   "source": [
    "### C. Transposing"
   ]
  },
  {
   "cell_type": "markdown",
   "metadata": {},
   "source": [
    "Similar to how it is common to reshape data, it is also common to transpose data. Perhaps we have data that's supposed to be in a particular format, but some new data we get is rearranged. We can just transpose the data, using the  `np.transpose`  function, to convert it to the proper format.\n",
    "\n",
    "The code below shows an example usage of the  `np.transpose`  function. The matrix rows become columns after the transpose."
   ]
  },
  {
   "cell_type": "code",
   "execution_count": 33,
   "metadata": {},
   "outputs": [
    {
     "data": {
      "text/plain": [
       "array([[0, 1],\n",
       "       [2, 3],\n",
       "       [4, 5],\n",
       "       [6, 7]])"
      ]
     },
     "metadata": {},
     "output_type": "display_data"
    },
    {
     "name": "stdout",
     "output_type": "stream",
     "text": [
      "arr shape: (4, 2)\n"
     ]
    },
    {
     "data": {
      "text/plain": [
       "array([[0, 2, 4, 6],\n",
       "       [1, 3, 5, 7]])"
      ]
     },
     "metadata": {},
     "output_type": "display_data"
    },
    {
     "name": "stdout",
     "output_type": "stream",
     "text": [
      "transposed shape: (2, 4)\n"
     ]
    }
   ],
   "source": [
    "arr = np.arange(8)\n",
    "arr = np.reshape(arr, (4, 2))\n",
    "transposed = np.transpose(arr)\n",
    "display(arr)\n",
    "print('arr shape: {}'.format(arr.shape))\n",
    "display(transposed)\n",
    "print('transposed shape: {}'.format(transposed.shape))"
   ]
  },
  {
   "cell_type": "markdown",
   "metadata": {},
   "source": [
    "The function takes in a required first argument, which will be the array we want to transpose. It also has a single keyword argument called  `axes` , which represents the new  *permutation*  of the dimensions.\n",
    "\n",
    "The permutation is a tuple/list of integers, with the same length as the number of dimensions in the array. It tells us where to switch up the dimensions. For example, if the permutation had 3 at index 1, it means the old third dimension of the data becomes the new second dimension (since index 1 represents the second dimension).\n",
    "\n",
    "The code below shows an example usage of the  `np.transpose`  function with the  `axes`  keyword argument. The  `shape`  property gives us the shape of an array."
   ]
  },
  {
   "cell_type": "code",
   "execution_count": 34,
   "metadata": {},
   "outputs": [
    {
     "name": "stdout",
     "output_type": "stream",
     "text": [
      "arr shape: (3, 4, 2)\n",
      "transposed shape: (4, 2, 3)\n"
     ]
    }
   ],
   "source": [
    "arr = np.arange(24).reshape((3, 4, 2))\n",
    "print('arr shape: {}'.format(arr.shape))\n",
    "transposed = np.transpose(arr, axes=(1, 2, 0))\n",
    "print('transposed shape: {}'.format(transposed.shape))"
   ]
  },
  {
   "cell_type": "markdown",
   "metadata": {},
   "source": [
    "In this example, the old first dimension became the new third dimension, the old second dimension became the new first dimension, and the old third dimension became the new second dimension. The default value for  `axes`  is a dimension reversal (e.g. for 3-D data the default  `axes`  value is  `[2, 1, 0]` )."
   ]
  },
  {
   "cell_type": "markdown",
   "metadata": {},
   "source": [
    "### D. Zeros and ones"
   ]
  },
  {
   "cell_type": "markdown",
   "metadata": {},
   "source": [
    "Sometimes, we need to create arrays filled solely with 0 or 1. For example, since binary data is labeled with 0 and 1, we may need to create dummy datasets of strictly one label. For creating these arrays, NumPy provides the functions  `np.zeros`  and  `np.ones` . They both take in the same arguments, which includes just one required argument, the array shape. The functions also allow for manual casting using the  `dtype`  keyword argument.\n",
    "\n",
    "The code below shows example usages of  `np.zeros`  and  `np.ones` ."
   ]
  },
  {
   "cell_type": "code",
   "execution_count": 35,
   "metadata": {},
   "outputs": [
    {
     "data": {
      "text/plain": [
       "array([0., 0., 0., 0.])"
      ]
     },
     "execution_count": 35,
     "metadata": {},
     "output_type": "execute_result"
    }
   ],
   "source": [
    "arr = np.zeros(4)\n",
    "arr"
   ]
  },
  {
   "cell_type": "code",
   "execution_count": 36,
   "metadata": {},
   "outputs": [
    {
     "data": {
      "text/plain": [
       "array([[1., 1., 1.],\n",
       "       [1., 1., 1.]])"
      ]
     },
     "execution_count": 36,
     "metadata": {},
     "output_type": "execute_result"
    }
   ],
   "source": [
    "arr = np.ones((2, 3))\n",
    "arr"
   ]
  },
  {
   "cell_type": "code",
   "execution_count": 37,
   "metadata": {},
   "outputs": [
    {
     "data": {
      "text/plain": [
       "array([[1, 1, 1],\n",
       "       [1, 1, 1]])"
      ]
     },
     "execution_count": 37,
     "metadata": {},
     "output_type": "execute_result"
    }
   ],
   "source": [
    "arr = np.ones((2, 3), dtype=np.int32)\n",
    "arr"
   ]
  },
  {
   "cell_type": "markdown",
   "metadata": {},
   "source": [
    "If we want to create an array of 0's or 1's with the same shape as another array, we can use  `np.zeros_like`  and  `np.ones_like` .\n",
    "\n",
    "The code below shows example usages of  `np.zeros_like`  and  `np.ones_like` ."
   ]
  },
  {
   "cell_type": "code",
   "execution_count": 38,
   "metadata": {},
   "outputs": [
    {
     "data": {
      "text/plain": [
       "array([[0, 0],\n",
       "       [0, 0]])"
      ]
     },
     "execution_count": 38,
     "metadata": {},
     "output_type": "execute_result"
    }
   ],
   "source": [
    "arr = np.array([[1, 2], [3, 4]])\n",
    "np.zeros_like(arr)"
   ]
  },
  {
   "cell_type": "code",
   "execution_count": 39,
   "metadata": {},
   "outputs": [
    {
     "data": {
      "text/plain": [
       "array([[1., 1.],\n",
       "       [1., 1.]])"
      ]
     },
     "execution_count": 39,
     "metadata": {},
     "output_type": "execute_result"
    }
   ],
   "source": [
    "arr = np.array([[0., 1.], [1.2, 4.]])\n",
    "np.ones_like(arr)"
   ]
  },
  {
   "cell_type": "code",
   "execution_count": 39,
   "metadata": {},
   "outputs": [
    {
     "data": {
      "text/plain": [
       "array([[1, 1],\n",
       "       [1, 1]])"
      ]
     },
     "execution_count": 39,
     "metadata": {},
     "output_type": "execute_result"
    }
   ],
   "source": [
    "np.ones_like(arr, dtype=np.int32)"
   ]
  },
  {
   "cell_type": "markdown",
   "metadata": {},
   "source": [
    "## Math"
   ]
  },
  {
   "cell_type": "markdown",
   "metadata": {},
   "source": [
    "Understand how arithmetic and linear algebra work in NumPy."
   ]
  },
  {
   "cell_type": "markdown",
   "metadata": {},
   "source": [
    "### Goals:"
   ]
  },
  {
   "cell_type": "markdown",
   "metadata": {},
   "source": [
    "- How to perform math operations in NumPy\n",
    "- Write code using NumPy math functions"
   ]
  },
  {
   "cell_type": "markdown",
   "metadata": {},
   "source": [
    "### A. Arithmetic"
   ]
  },
  {
   "cell_type": "markdown",
   "metadata": {},
   "source": [
    "One of the main purposes of NumPy is to perform multi-dimensional arithmetic. Using NumPy arrays, we can apply arithmetic to each element with a single operation.\n",
    "\n",
    "The code below shows multi-dimensional arithmetic with NumPy."
   ]
  },
  {
   "cell_type": "code",
   "execution_count": 40,
   "metadata": {},
   "outputs": [
    {
     "data": {
      "text/plain": [
       "array([[2, 3],\n",
       "       [4, 5]])"
      ]
     },
     "execution_count": 40,
     "metadata": {},
     "output_type": "execute_result"
    }
   ],
   "source": [
    "arr = np.array([[1, 2], [3, 4]])\n",
    "# Add 1 to element values\n",
    "arr + 1"
   ]
  },
  {
   "cell_type": "code",
   "execution_count": 41,
   "metadata": {},
   "outputs": [
    {
     "data": {
      "text/plain": [
       "array([[-0.2,  0.8],\n",
       "       [ 1.8,  2.8]])"
      ]
     },
     "execution_count": 41,
     "metadata": {},
     "output_type": "execute_result"
    }
   ],
   "source": [
    "# Subtract element values by 1.2\n",
    "arr - 1.2"
   ]
  },
  {
   "cell_type": "code",
   "execution_count": 42,
   "metadata": {},
   "outputs": [
    {
     "data": {
      "text/plain": [
       "array([[2, 4],\n",
       "       [6, 8]])"
      ]
     },
     "execution_count": 42,
     "metadata": {},
     "output_type": "execute_result"
    }
   ],
   "source": [
    "# Double element values\n",
    "arr * 2"
   ]
  },
  {
   "cell_type": "code",
   "execution_count": 43,
   "metadata": {},
   "outputs": [
    {
     "data": {
      "text/plain": [
       "array([[0.5, 1. ],\n",
       "       [1.5, 2. ]])"
      ]
     },
     "execution_count": 43,
     "metadata": {},
     "output_type": "execute_result"
    }
   ],
   "source": [
    "# Halve element values\n",
    "arr / 2"
   ]
  },
  {
   "cell_type": "code",
   "execution_count": 44,
   "metadata": {},
   "outputs": [
    {
     "data": {
      "text/plain": [
       "array([[0, 1],\n",
       "       [1, 2]], dtype=int32)"
      ]
     },
     "execution_count": 44,
     "metadata": {},
     "output_type": "execute_result"
    }
   ],
   "source": [
    "# Integer division (half)\n",
    "arr // 2"
   ]
  },
  {
   "cell_type": "code",
   "execution_count": 45,
   "metadata": {},
   "outputs": [
    {
     "data": {
      "text/plain": [
       "array([[ 1,  4],\n",
       "       [ 9, 16]], dtype=int32)"
      ]
     },
     "execution_count": 45,
     "metadata": {},
     "output_type": "execute_result"
    }
   ],
   "source": [
    "# Square element values\n",
    "arr**2"
   ]
  },
  {
   "cell_type": "code",
   "execution_count": 46,
   "metadata": {},
   "outputs": [
    {
     "name": "stdout",
     "output_type": "stream",
     "text": [
      "array([[1.        , 1.41421356],\n",
      "       [1.73205081, 2.        ]])\n"
     ]
    }
   ],
   "source": [
    "# Square root element values\n",
    "print(repr(arr**0.5))"
   ]
  },
  {
   "cell_type": "markdown",
   "metadata": {},
   "source": [
    "Using NumPy arithmetic, we can easily modify large amounts of numeric data with only a few operations. For example, we could convert a dataset of Fahrenheit temperatures to their equivalent Celsius form.\n",
    "\n",
    "The code below converts Fahrenheit to Celsius in NumPy."
   ]
  },
  {
   "cell_type": "code",
   "execution_count": 47,
   "metadata": {},
   "outputs": [
    {
     "name": "stdout",
     "output_type": "stream",
     "text": [
      "Celsius: array([  0., -20., -10., -40.])\n"
     ]
    }
   ],
   "source": [
    "def f2c(temps):\n",
    "    return (5/9)*(temps-32)\n",
    "\n",
    "fahrenheits = np.array([32, -4, 14, -40])\n",
    "celsius = f2c(fahrenheits)\n",
    "print(f'Celsius: {repr(celsius)}')"
   ]
  },
  {
   "cell_type": "markdown",
   "metadata": {},
   "source": [
    "It is important to note that performing arithmetic on NumPy arrays  **does not change the original array** , and instead produces a new array that is the result of the arithmetic operation."
   ]
  },
  {
   "cell_type": "markdown",
   "metadata": {},
   "source": [
    "### B. Non-linear functions"
   ]
  },
  {
   "cell_type": "markdown",
   "metadata": {},
   "source": [
    "Apart from basic arithmetic operations, NumPy also allows you to use non-linear functions such as exponentials and logarithms.\n",
    "\n",
    "The function  `np.exp`  performs a base  *e*  exponential on an array, while the function  `np.exp2`  performs a base 2 exponential. Likewise,  `np.log` ,  `np.log2` , and  `np.log10`  all perform logarithms on an input array, using base  *e* , base 2, and base 10, respectively.\n",
    "\n",
    "The code below shows various exponentials and logarithms with NumPy. Note that  `np.e`  and  `np.pi`  represent the mathematical constants  $e$  and $\\pi$, respectively."
   ]
  },
  {
   "cell_type": "code",
   "execution_count": 49,
   "metadata": {},
   "outputs": [
    {
     "data": {
      "text/plain": [
       "array([[ 2.71828183,  7.3890561 ],\n",
       "       [20.08553692, 54.59815003]])"
      ]
     },
     "execution_count": 49,
     "metadata": {},
     "output_type": "execute_result"
    }
   ],
   "source": [
    "arr = np.array([[1, 2], [3, 4]])\n",
    "# Raised to power of e\n",
    "np.exp(arr)"
   ]
  },
  {
   "cell_type": "code",
   "execution_count": 50,
   "metadata": {},
   "outputs": [
    {
     "data": {
      "text/plain": [
       "array([[ 2.,  4.],\n",
       "       [ 8., 16.]])"
      ]
     },
     "execution_count": 50,
     "metadata": {},
     "output_type": "execute_result"
    }
   ],
   "source": [
    "# Raised to power of 2\n",
    "np.exp2(arr)"
   ]
  },
  {
   "cell_type": "code",
   "execution_count": 51,
   "metadata": {},
   "outputs": [
    {
     "data": {
      "text/plain": [
       "array([[0.        , 2.30258509],\n",
       "       [1.        , 1.14472989]])"
      ]
     },
     "execution_count": 51,
     "metadata": {},
     "output_type": "execute_result"
    }
   ],
   "source": [
    "arr2 = np.array([[1, 10], [np.e, np.pi]])\n",
    "# Natural logarithm\n",
    "np.log(arr2)"
   ]
  },
  {
   "cell_type": "code",
   "execution_count": 52,
   "metadata": {},
   "outputs": [
    {
     "data": {
      "text/plain": [
       "array([[0.        , 1.        ],\n",
       "       [0.43429448, 0.49714987]])"
      ]
     },
     "execution_count": 52,
     "metadata": {},
     "output_type": "execute_result"
    }
   ],
   "source": [
    "# Base 10 logarithm\n",
    "np.log10(arr2)"
   ]
  },
  {
   "cell_type": "markdown",
   "metadata": {},
   "source": [
    "To do a regular power operation with any base, we use  `np.power` . The first argument to the function is the base, while the second is the power. If the base or power is an array rather than a single number, the operation is applied to every element in the array.\n",
    "\n",
    "The code below shows examples of using  `np.power` ."
   ]
  },
  {
   "cell_type": "code",
   "execution_count": 53,
   "metadata": {},
   "outputs": [
    {
     "data": {
      "text/plain": [
       "array([[ 3,  9],\n",
       "       [27, 81]], dtype=int32)"
      ]
     },
     "execution_count": 53,
     "metadata": {},
     "output_type": "execute_result"
    }
   ],
   "source": [
    "arr = np.array([[1, 2], [3, 4]])\n",
    "# Raise 3 to power of each number in arr\n",
    "np.power(3, arr)"
   ]
  },
  {
   "cell_type": "code",
   "execution_count": 54,
   "metadata": {},
   "outputs": [
    {
     "data": {
      "text/plain": [
       "array([[ 10.2,  16. ],\n",
       "       [ 27. , 625. ]])"
      ]
     },
     "execution_count": 54,
     "metadata": {},
     "output_type": "execute_result"
    }
   ],
   "source": [
    "arr2 = np.array([[10.2, 4], [3, 5]])\n",
    "# Raise arr2 to power of each number in arr\n",
    "np.power(arr2, arr)"
   ]
  },
  {
   "cell_type": "markdown",
   "metadata": {},
   "source": [
    "In addition to exponentials and logarithms, NumPy has various other mathematical functions, which are listed [here](https://docs.scipy.org/doc/numpy/reference/routines.math.html)."
   ]
  },
  {
   "cell_type": "markdown",
   "metadata": {},
   "source": [
    "### C. Matrix multiplication"
   ]
  },
  {
   "cell_type": "markdown",
   "metadata": {},
   "source": [
    "Since NumPy arrays are basically vectors and matrices, it makes sense that there are functions for dot products and matrix multiplication. Specifically, the main function to use is  `np.matmul` , which takes two vector/matrix arrays as input and produces a dot product or matrix multiplication.\n",
    "\n",
    "The code below shows various examples of matrix multiplication. When both inputs are 1-D, the output is the dot product.\n",
    "\n",
    "Note that the dimensions of the two input matrices must be valid for a matrix multiplication. Specifically, the second dimension of the first matrix must equal the first dimension of the second matrix, otherwise  `np.matmul`  will result in a  `ValueError` ."
   ]
  },
  {
   "cell_type": "code",
   "execution_count": 55,
   "metadata": {},
   "outputs": [
    {
     "data": {
      "text/plain": [
       "27"
      ]
     },
     "execution_count": 55,
     "metadata": {},
     "output_type": "execute_result"
    }
   ],
   "source": [
    "arr1 = np.array([1, 2, 3])\n",
    "arr2 = np.array([-3, 0, 10])\n",
    "np.matmul(arr1, arr2)"
   ]
  },
  {
   "cell_type": "code",
   "execution_count": 56,
   "metadata": {},
   "outputs": [
    {
     "data": {
      "text/plain": [
       "array([[  5,   4,  -7],\n",
       "       [  9,   8, -13],\n",
       "       [ 13,  12, -19]])"
      ]
     },
     "execution_count": 56,
     "metadata": {},
     "output_type": "execute_result"
    }
   ],
   "source": [
    "arr3 = np.array([[1, 2], [3, 4], [5, 6]])\n",
    "arr4 = np.array([[-1, 0, 1], [3, 2, -4]])\n",
    "np.matmul(arr3, arr4)"
   ]
  },
  {
   "cell_type": "code",
   "execution_count": 57,
   "metadata": {},
   "outputs": [
    {
     "data": {
      "text/plain": [
       "array([[  4,   4],\n",
       "       [-11, -10]])"
      ]
     },
     "execution_count": 57,
     "metadata": {},
     "output_type": "execute_result"
    }
   ],
   "source": [
    "np.matmul(arr4, arr3)"
   ]
  },
  {
   "cell_type": "code",
   "execution_count": 58,
   "metadata": {},
   "outputs": [
    {
     "ename": "ValueError",
     "evalue": "matmul: Input operand 1 has a mismatch in its core dimension 0, with gufunc signature (n?,k),(k,m?)->(n?,m?) (size 3 is different from 2)",
     "output_type": "error",
     "traceback": [
      "\u001b[1;31m---------------------------------------------------------------------------\u001b[0m",
      "\u001b[1;31mValueError\u001b[0m                                Traceback (most recent call last)",
      "\u001b[1;32m<ipython-input-58-1c707fc2145d>\u001b[0m in \u001b[0;36m<module>\u001b[1;34m\u001b[0m\n\u001b[0;32m      1\u001b[0m \u001b[1;31m# This will result in ValueError\u001b[0m\u001b[1;33m\u001b[0m\u001b[1;33m\u001b[0m\u001b[0m\n\u001b[1;32m----> 2\u001b[1;33m \u001b[0mnp\u001b[0m\u001b[1;33m.\u001b[0m\u001b[0mmatmul\u001b[0m\u001b[1;33m(\u001b[0m\u001b[0marr3\u001b[0m\u001b[1;33m,\u001b[0m \u001b[0marr3\u001b[0m\u001b[1;33m)\u001b[0m\u001b[1;33m\u001b[0m\u001b[0m\n\u001b[0m",
      "\u001b[1;31mValueError\u001b[0m: matmul: Input operand 1 has a mismatch in its core dimension 0, with gufunc signature (n?,k),(k,m?)->(n?,m?) (size 3 is different from 2)"
     ]
    }
   ],
   "source": [
    "# This will result in ValueError\n",
    "np.matmul(arr3, arr3)"
   ]
  },
  {
   "cell_type": "markdown",
   "metadata": {},
   "source": [
    "## Random"
   ]
  },
  {
   "cell_type": "markdown",
   "metadata": {},
   "source": [
    "Generate numbers and arrays from different random distributions."
   ]
  },
  {
   "cell_type": "markdown",
   "metadata": {},
   "source": [
    "### Goals:"
   ]
  },
  {
   "cell_type": "markdown",
   "metadata": {},
   "source": [
    "- Explore random operations in NumPy\n",
    "- Write code using the np.random submodule"
   ]
  },
  {
   "cell_type": "markdown",
   "metadata": {},
   "source": [
    "### A. Random integers"
   ]
  },
  {
   "cell_type": "markdown",
   "metadata": {},
   "source": [
    "Similar to the Python  `random`  module, NumPy has its own submodule for pseudo-random number generation called  `np.random` . It provides all the necessary randomized operations and extends it to multi-dimensional arrays. To generate pseudo-random integers, we use the  `np.random.randint`  function.\n",
    "\n",
    "The code below shows example usages of  `np.random.randint` ."
   ]
  },
  {
   "cell_type": "code",
   "execution_count": 59,
   "metadata": {},
   "outputs": [
    {
     "data": {
      "text/plain": [
       "1"
      ]
     },
     "execution_count": 59,
     "metadata": {},
     "output_type": "execute_result"
    }
   ],
   "source": [
    "np.random.randint(5)"
   ]
  },
  {
   "cell_type": "code",
   "execution_count": 60,
   "metadata": {},
   "outputs": [
    {
     "data": {
      "text/plain": [
       "4"
      ]
     },
     "execution_count": 60,
     "metadata": {},
     "output_type": "execute_result"
    }
   ],
   "source": [
    "np.random.randint(5)"
   ]
  },
  {
   "cell_type": "code",
   "execution_count": 61,
   "metadata": {},
   "outputs": [
    {
     "data": {
      "text/plain": [
       "5"
      ]
     },
     "execution_count": 61,
     "metadata": {},
     "output_type": "execute_result"
    }
   ],
   "source": [
    "np.random.randint(5, high=6)"
   ]
  },
  {
   "cell_type": "code",
   "execution_count": 62,
   "metadata": {},
   "outputs": [
    {
     "data": {
      "text/plain": [
       "array([[11,  9],\n",
       "       [-2,  2]])"
      ]
     },
     "execution_count": 62,
     "metadata": {},
     "output_type": "execute_result"
    }
   ],
   "source": [
    "random_arr = np.random.randint(-3, high=14,\n",
    "                               size=(2, 2))\n",
    "random_arr"
   ]
  },
  {
   "cell_type": "markdown",
   "metadata": {},
   "source": [
    "The  `np.random.randint`  function takes in a single required argument, which actually depends on the  `high`  keyword argument. If  `high=None`  (which is the default value), then the required argument represents the upper (exclusive) end of the range, with the lower end being 0. Specifically, if the required argument is  *n* , then the random integer is chosen uniformly from the range [0,  *n* ).\n",
    "\n",
    "If  `high`  is not  `None` , then the required argument will represent the lower (inclusive) end of the range, while  `high`  represents the upper (exclusive) end.\n",
    "\n",
    "The  `size`  keyword argument specifies the size of the output array, where each integer in the array is randomly drawn from the specified range. As a default,  `np.random.randint`  returns a single integer."
   ]
  },
  {
   "cell_type": "markdown",
   "metadata": {},
   "source": [
    "### B. Utility functions"
   ]
  },
  {
   "cell_type": "markdown",
   "metadata": {},
   "source": [
    "Some fundamental utility functions from the  `np.random`  module are  `np.random.seed`  and  `np.random.shuffle` . We use the  `np.random.seed`  function to set the [random seed](https://en.wikipedia.org/wiki/Random_seed), which allows us to control the outputs of the pseudo-random functions. The function takes in a single integer as an argument, representing the random seed.\n",
    "\n",
    "The code below uses  `np.random.seed`  with the same random seed. Note how the outputs of the random functions in each subsequent run are identical when we set the same random seed."
   ]
  },
  {
   "cell_type": "code",
   "execution_count": 63,
   "metadata": {},
   "outputs": [
    {
     "data": {
      "text/plain": [
       "5"
      ]
     },
     "execution_count": 63,
     "metadata": {},
     "output_type": "execute_result"
    }
   ],
   "source": [
    "np.random.seed(1)\n",
    "np.random.randint(10)"
   ]
  },
  {
   "cell_type": "code",
   "execution_count": 64,
   "metadata": {},
   "outputs": [
    {
     "data": {
      "text/plain": [
       "array([[15, 75],\n",
       "       [12, 78]])"
      ]
     },
     "execution_count": 64,
     "metadata": {},
     "output_type": "execute_result"
    }
   ],
   "source": [
    "random_arr = np.random.randint(3, high=100,\n",
    "                               size=(2, 2))\n",
    "random_arr"
   ]
  },
  {
   "cell_type": "code",
   "execution_count": 65,
   "metadata": {},
   "outputs": [
    {
     "data": {
      "text/plain": [
       "8"
      ]
     },
     "execution_count": 65,
     "metadata": {},
     "output_type": "execute_result"
    }
   ],
   "source": [
    "# New seed\n",
    "np.random.seed(2)\n",
    "np.random.randint(10)"
   ]
  },
  {
   "cell_type": "code",
   "execution_count": 66,
   "metadata": {},
   "outputs": [
    {
     "data": {
      "text/plain": [
       "array([[18, 75],\n",
       "       [25, 46]])"
      ]
     },
     "execution_count": 66,
     "metadata": {},
     "output_type": "execute_result"
    }
   ],
   "source": [
    "random_arr = np.random.randint(3, high=100,\n",
    "                               size=(2, 2))\n",
    "random_arr"
   ]
  },
  {
   "cell_type": "code",
   "execution_count": 67,
   "metadata": {},
   "outputs": [
    {
     "data": {
      "text/plain": [
       "5"
      ]
     },
     "execution_count": 67,
     "metadata": {},
     "output_type": "execute_result"
    }
   ],
   "source": [
    "# Original seed\n",
    "np.random.seed(1)\n",
    "np.random.randint(10)"
   ]
  },
  {
   "cell_type": "code",
   "execution_count": 68,
   "metadata": {},
   "outputs": [
    {
     "data": {
      "text/plain": [
       "array([[15, 75],\n",
       "       [12, 78]])"
      ]
     },
     "execution_count": 68,
     "metadata": {},
     "output_type": "execute_result"
    }
   ],
   "source": [
    "random_arr = np.random.randint(3, high=100,\n",
    "                               size=(2, 2))\n",
    "random_arr"
   ]
  },
  {
   "cell_type": "markdown",
   "metadata": {},
   "source": [
    "The  `np.random.shuffle`  function allows us to randomly shuffle an array. Note that the shuffling happens in place (i.e. no return value), and shuffling multi-dimensional arrays only shuffles the first dimension.\n",
    "\n",
    "The code below shows example usages of  `np.random.shuffle` . Note that only the rows of  `matrix`  are shuffled (i.e. shuffling along first dimension only)."
   ]
  },
  {
   "cell_type": "code",
   "execution_count": 69,
   "metadata": {},
   "outputs": [
    {
     "data": {
      "text/plain": [
       "array([3, 4, 2, 5, 1])"
      ]
     },
     "execution_count": 69,
     "metadata": {},
     "output_type": "execute_result"
    }
   ],
   "source": [
    "vec = np.array([1, 2, 3, 4, 5])\n",
    "np.random.shuffle(vec)\n",
    "vec"
   ]
  },
  {
   "cell_type": "code",
   "execution_count": 70,
   "metadata": {},
   "outputs": [
    {
     "data": {
      "text/plain": [
       "array([5, 3, 4, 2, 1])"
      ]
     },
     "execution_count": 70,
     "metadata": {},
     "output_type": "execute_result"
    }
   ],
   "source": [
    "np.random.shuffle(vec)\n",
    "vec"
   ]
  },
  {
   "cell_type": "code",
   "execution_count": 71,
   "metadata": {},
   "outputs": [
    {
     "data": {
      "text/plain": [
       "array([[4, 5, 6],\n",
       "       [7, 8, 9],\n",
       "       [1, 2, 3]])"
      ]
     },
     "execution_count": 71,
     "metadata": {},
     "output_type": "execute_result"
    }
   ],
   "source": [
    "matrix = np.array([[1, 2, 3],\n",
    "                   [4, 5, 6],\n",
    "                   [7, 8, 9]])\n",
    "np.random.shuffle(matrix)\n",
    "matrix"
   ]
  },
  {
   "cell_type": "markdown",
   "metadata": {},
   "source": [
    "### C. Distributions"
   ]
  },
  {
   "cell_type": "markdown",
   "metadata": {},
   "source": [
    "Using  `np.random`  we can also draw samples from probability distributions. For example, we can use  `np.random.uniform`  to draw pseudo-random real numbers from a [uniform distribution](https://en.wikipedia.org/wiki/Uniform_distribution_(continuous)).\n",
    "\n",
    "The code below shows usages of  `np.random.uniform` ."
   ]
  },
  {
   "cell_type": "code",
   "execution_count": 72,
   "metadata": {},
   "outputs": [
    {
     "data": {
      "text/plain": [
       "0.3132735169322751"
      ]
     },
     "execution_count": 72,
     "metadata": {},
     "output_type": "execute_result"
    }
   ],
   "source": [
    "np.random.uniform()"
   ]
  },
  {
   "cell_type": "code",
   "execution_count": 73,
   "metadata": {},
   "outputs": [
    {
     "data": {
      "text/plain": [
       "0.4408281904196243"
      ]
     },
     "execution_count": 73,
     "metadata": {},
     "output_type": "execute_result"
    }
   ],
   "source": [
    "np.random.uniform(low=-1.5, high=2.2)"
   ]
  },
  {
   "cell_type": "code",
   "execution_count": 74,
   "metadata": {},
   "outputs": [
    {
     "data": {
      "text/plain": [
       "array([0.44345289, 0.22957721, 0.53441391])"
      ]
     },
     "execution_count": 74,
     "metadata": {},
     "output_type": "execute_result"
    }
   ],
   "source": [
    "np.random.uniform(size=3)"
   ]
  },
  {
   "cell_type": "code",
   "execution_count": 75,
   "metadata": {},
   "outputs": [
    {
     "data": {
      "text/plain": [
       "array([[5.09984683, 0.85200471],\n",
       "       [0.60549667, 5.33388844]])"
      ]
     },
     "execution_count": 75,
     "metadata": {},
     "output_type": "execute_result"
    }
   ],
   "source": [
    "np.random.uniform(low=-3.4, high=5.9,\n",
    "                             size=(2, 2))"
   ]
  },
  {
   "cell_type": "markdown",
   "metadata": {},
   "source": [
    "The function  `np.random.uniform`  actually has no required arguments. The keyword arguments,  `low`  and  `high` , represent the inclusive lower end and exclusive upper end from which to draw random samples. Since they have default values of 0.0 and 1.0, respectively, the default outputs of  `np.random.uniform`  come from the range [0.0, 1.0).\n",
    "\n",
    "The  `size`  keyword argument is the same as the one for  `np.random.randint` , i.e. it represents the output size of the array.\n",
    "\n",
    "Another popular distribution we can sample from is the [normal (Gaussian) distribution](https://en.wikipedia.org/wiki/Normal_distribution). The function we use is  `np.random.normal` .\n",
    "\n",
    "The code below shows usages of  `np.random.normal` ."
   ]
  },
  {
   "cell_type": "code",
   "execution_count": 76,
   "metadata": {},
   "outputs": [
    {
     "data": {
      "text/plain": [
       "0.7252740646272712"
      ]
     },
     "execution_count": 76,
     "metadata": {},
     "output_type": "execute_result"
    }
   ],
   "source": [
    "np.random.normal()"
   ]
  },
  {
   "cell_type": "code",
   "execution_count": 77,
   "metadata": {},
   "outputs": [
    {
     "data": {
      "text/plain": [
       "4.772112039383628"
      ]
     },
     "execution_count": 77,
     "metadata": {},
     "output_type": "execute_result"
    }
   ],
   "source": [
    "np.random.normal(loc=1.5, scale=3.5)"
   ]
  },
  {
   "cell_type": "code",
   "execution_count": 78,
   "metadata": {},
   "outputs": [
    {
     "data": {
      "text/plain": [
       "array([[ 2.07318791, -2.17754724],\n",
       "       [-0.89337346, -0.89545991]])"
      ]
     },
     "execution_count": 78,
     "metadata": {},
     "output_type": "execute_result"
    }
   ],
   "source": [
    "np.random.normal(loc=-2.4, scale=4.0,\n",
    "                            size=(2, 2))"
   ]
  },
  {
   "cell_type": "markdown",
   "metadata": {},
   "source": [
    "Like  `np.random.uniform` ,  `np.random.normal`  has no required arguments. The  `loc`  and  `scale`  keyword arguments represent the mean and standard deviation, respectively, of the normal distribution we sample from.\n",
    "\n",
    "NumPy provides quite a few more built-in distributions, which are listed [here](https://docs.scipy.org/doc/numpy-1.14.1/reference/routines.random.html)."
   ]
  },
  {
   "cell_type": "markdown",
   "metadata": {},
   "source": [
    "### D. Custom sampling"
   ]
  },
  {
   "cell_type": "markdown",
   "metadata": {},
   "source": [
    "While NumPy provides built-in distributions to sample from, we can also sample from a custom distribution with the  `np.random.choice`  function.\n",
    "\n",
    "The code below shows example usages of  `np.random.choice` ."
   ]
  },
  {
   "cell_type": "code",
   "execution_count": 79,
   "metadata": {},
   "outputs": [
    {
     "data": {
      "text/plain": [
       "'green'"
      ]
     },
     "execution_count": 79,
     "metadata": {},
     "output_type": "execute_result"
    }
   ],
   "source": [
    "colors = ['red', 'blue', 'green']\n",
    "np.random.choice(colors)"
   ]
  },
  {
   "cell_type": "code",
   "execution_count": 80,
   "metadata": {},
   "outputs": [
    {
     "data": {
      "text/plain": [
       "array(['blue', 'red'], dtype='<U5')"
      ]
     },
     "execution_count": 80,
     "metadata": {},
     "output_type": "execute_result"
    }
   ],
   "source": [
    "np.random.choice(colors, size=2)"
   ]
  },
  {
   "cell_type": "code",
   "execution_count": 81,
   "metadata": {},
   "outputs": [
    {
     "data": {
      "text/plain": [
       "array([['red', 'red'],\n",
       "       ['blue', 'red']], dtype='<U5')"
      ]
     },
     "execution_count": 81,
     "metadata": {},
     "output_type": "execute_result"
    }
   ],
   "source": [
    "np.random.choice(colors, size=(2, 2),\n",
    "                            p=[0.8, 0.19, 0.01])"
   ]
  },
  {
   "cell_type": "markdown",
   "metadata": {},
   "source": [
    "The required argument for  `np.random.choice`  is the custom distribution we sample from. The  `p`  keyword argument denotes the probabilities given to each element in the input distribution. Note that the list of probabilities for  `p`  must sum to 1.\n",
    "\n",
    "In the example, we set  `p`  such that  `'red'`  has a probability of 0.8 of being chosen,  `'blue'`  has a probability of 0.19, and  `'green'`  has a probability of 0.01. When  `p`  is not set, the probabilities are equal for each element in the distribution (and sum to 1)."
   ]
  },
  {
   "cell_type": "markdown",
   "metadata": {},
   "source": [
    "## Indexing"
   ]
  },
  {
   "cell_type": "markdown",
   "metadata": {},
   "source": [
    "Index into NumPy arrays to extract data and array slices."
   ]
  },
  {
   "cell_type": "markdown",
   "metadata": {},
   "source": [
    "### Goals:"
   ]
  },
  {
   "cell_type": "markdown",
   "metadata": {},
   "source": [
    "* Explore indexing arrays in NumPy\n",
    "* Write code for indexing and slicing arrays"
   ]
  },
  {
   "cell_type": "markdown",
   "metadata": {},
   "source": [
    "### A. Array accessing"
   ]
  },
  {
   "cell_type": "markdown",
   "metadata": {},
   "source": [
    "Accessing NumPy arrays is identical to accessing Python lists. For multi-dimensional arrays, it is equivalent to accessing Python lists of lists.\n",
    "\n",
    "The code below shows example accesses of NumPy arrays."
   ]
  },
  {
   "cell_type": "code",
   "execution_count": 82,
   "metadata": {},
   "outputs": [
    {
     "data": {
      "text/plain": [
       "1"
      ]
     },
     "execution_count": 82,
     "metadata": {},
     "output_type": "execute_result"
    }
   ],
   "source": [
    "arr = np.array([1, 2, 3, 4, 5])\n",
    "arr[0]"
   ]
  },
  {
   "cell_type": "code",
   "execution_count": 83,
   "metadata": {},
   "outputs": [
    {
     "data": {
      "text/plain": [
       "5"
      ]
     },
     "execution_count": 83,
     "metadata": {},
     "output_type": "execute_result"
    }
   ],
   "source": [
    "arr[4]"
   ]
  },
  {
   "cell_type": "code",
   "execution_count": 84,
   "metadata": {},
   "outputs": [
    {
     "data": {
      "text/plain": [
       "array([6, 3])"
      ]
     },
     "execution_count": 84,
     "metadata": {},
     "output_type": "execute_result"
    }
   ],
   "source": [
    "arr = np.array([[6, 3], [0, 2]])\n",
    "# Subarray\n",
    "arr[0]"
   ]
  },
  {
   "cell_type": "markdown",
   "metadata": {},
   "source": [
    "### B. Slicing"
   ]
  },
  {
   "cell_type": "markdown",
   "metadata": {},
   "source": [
    "NumPy arrays also support slicing. Similar to Python, we use the colon operator (i.e.  `arr[:]` ) for slicing. We can also use negative indexing to slice in the backwards direction.\n",
    "\n",
    "The code below shows example slices of a 1-D NumPy array."
   ]
  },
  {
   "cell_type": "code",
   "execution_count": 85,
   "metadata": {},
   "outputs": [
    {
     "data": {
      "text/plain": [
       "array([1, 2, 3, 4, 5])"
      ]
     },
     "execution_count": 85,
     "metadata": {},
     "output_type": "execute_result"
    }
   ],
   "source": [
    "arr = np.array([1, 2, 3, 4, 5])\n",
    "arr[:]"
   ]
  },
  {
   "cell_type": "code",
   "execution_count": 86,
   "metadata": {},
   "outputs": [
    {
     "data": {
      "text/plain": [
       "array([2, 3, 4, 5])"
      ]
     },
     "execution_count": 86,
     "metadata": {},
     "output_type": "execute_result"
    }
   ],
   "source": [
    "arr[1:]"
   ]
  },
  {
   "cell_type": "code",
   "execution_count": 87,
   "metadata": {},
   "outputs": [
    {
     "data": {
      "text/plain": [
       "array([3, 4])"
      ]
     },
     "execution_count": 87,
     "metadata": {},
     "output_type": "execute_result"
    }
   ],
   "source": [
    "arr[2:4]"
   ]
  },
  {
   "cell_type": "code",
   "execution_count": 88,
   "metadata": {},
   "outputs": [
    {
     "data": {
      "text/plain": [
       "array([1, 2, 3, 4])"
      ]
     },
     "execution_count": 88,
     "metadata": {},
     "output_type": "execute_result"
    }
   ],
   "source": [
    "arr[:-1]"
   ]
  },
  {
   "cell_type": "code",
   "execution_count": 89,
   "metadata": {},
   "outputs": [
    {
     "data": {
      "text/plain": [
       "array([4, 5])"
      ]
     },
     "execution_count": 89,
     "metadata": {},
     "output_type": "execute_result"
    }
   ],
   "source": [
    "arr[-2:]"
   ]
  },
  {
   "cell_type": "markdown",
   "metadata": {},
   "source": [
    "For multi-dimensional arrays, we can use a comma to separate slices across each dimension.\n",
    "\n",
    "The code below shows example slices of a 2-D NumPy array."
   ]
  },
  {
   "cell_type": "code",
   "execution_count": 90,
   "metadata": {},
   "outputs": [
    {
     "data": {
      "text/plain": [
       "array([[1, 2, 3],\n",
       "       [4, 5, 6],\n",
       "       [7, 8, 9]])"
      ]
     },
     "execution_count": 90,
     "metadata": {},
     "output_type": "execute_result"
    }
   ],
   "source": [
    "arr = np.array([[1, 2, 3],\n",
    "                [4, 5, 6],\n",
    "                [7, 8, 9]])\n",
    "arr[:]"
   ]
  },
  {
   "cell_type": "code",
   "execution_count": 91,
   "metadata": {},
   "outputs": [
    {
     "data": {
      "text/plain": [
       "array([[4, 5, 6],\n",
       "       [7, 8, 9]])"
      ]
     },
     "execution_count": 91,
     "metadata": {},
     "output_type": "execute_result"
    }
   ],
   "source": [
    "arr[1:]"
   ]
  },
  {
   "cell_type": "code",
   "execution_count": 92,
   "metadata": {},
   "outputs": [
    {
     "data": {
      "text/plain": [
       "array([3, 6, 9])"
      ]
     },
     "execution_count": 92,
     "metadata": {},
     "output_type": "execute_result"
    }
   ],
   "source": [
    "arr[:, -1]"
   ]
  },
  {
   "cell_type": "code",
   "execution_count": 93,
   "metadata": {},
   "outputs": [
    {
     "data": {
      "text/plain": [
       "array([[2, 3],\n",
       "       [5, 6],\n",
       "       [8, 9]])"
      ]
     },
     "execution_count": 93,
     "metadata": {},
     "output_type": "execute_result"
    }
   ],
   "source": [
    "arr[:, 1:]"
   ]
  },
  {
   "cell_type": "code",
   "execution_count": 94,
   "metadata": {},
   "outputs": [
    {
     "data": {
      "text/plain": [
       "array([[2, 3]])"
      ]
     },
     "execution_count": 94,
     "metadata": {},
     "output_type": "execute_result"
    }
   ],
   "source": [
    "arr[0:1, 1:]"
   ]
  },
  {
   "cell_type": "code",
   "execution_count": 95,
   "metadata": {},
   "outputs": [
    {
     "data": {
      "text/plain": [
       "array([2, 3])"
      ]
     },
     "execution_count": 95,
     "metadata": {},
     "output_type": "execute_result"
    }
   ],
   "source": [
    "arr[0, 1:]"
   ]
  },
  {
   "cell_type": "markdown",
   "metadata": {},
   "source": [
    "### C. Argmin and argmax"
   ]
  },
  {
   "cell_type": "markdown",
   "metadata": {},
   "source": [
    "In addition to accessing and slicing arrays, it is useful to figure out the actual indexes of the minimum and maximum elements. To do this, we use the  `np.argmin`  and  `np.argmax`  functions.\n",
    "\n",
    "The code below shows example usages of  `np.argmin`  and  `np.argmax` . Note that the index of element  `-6`  is index  `5`  in the flattened version of  `arr` ."
   ]
  },
  {
   "cell_type": "code",
   "execution_count": 96,
   "metadata": {},
   "outputs": [
    {
     "data": {
      "text/plain": [
       "2"
      ]
     },
     "execution_count": 96,
     "metadata": {},
     "output_type": "execute_result"
    }
   ],
   "source": [
    "arr = np.array([[-2, -1, -3],\n",
    "                [4, 5, -6],\n",
    "                [-3, 9, 1]])\n",
    "np.argmin(arr[0])"
   ]
  },
  {
   "cell_type": "code",
   "execution_count": 97,
   "metadata": {},
   "outputs": [
    {
     "data": {
      "text/plain": [
       "1"
      ]
     },
     "execution_count": 97,
     "metadata": {},
     "output_type": "execute_result"
    }
   ],
   "source": [
    "np.argmax(arr[2])"
   ]
  },
  {
   "cell_type": "code",
   "execution_count": 98,
   "metadata": {},
   "outputs": [
    {
     "data": {
      "text/plain": [
       "5"
      ]
     },
     "execution_count": 98,
     "metadata": {},
     "output_type": "execute_result"
    }
   ],
   "source": [
    "np.argmin(arr)"
   ]
  },
  {
   "cell_type": "markdown",
   "metadata": {},
   "source": [
    "The  `np.argmin`  and  `np.argmax`  functions take the same arguments. The required argument is the input array and the  `axis`  keyword argument specifies which dimension to apply the operation on.\n",
    "\n",
    "The code below shows how the  `axis`  keyword argument is used for these functions."
   ]
  },
  {
   "cell_type": "code",
   "execution_count": 99,
   "metadata": {},
   "outputs": [
    {
     "data": {
      "text/plain": [
       "array([2, 0, 1], dtype=int64)"
      ]
     },
     "execution_count": 99,
     "metadata": {},
     "output_type": "execute_result"
    }
   ],
   "source": [
    "arr = np.array([[-2, -1, -3],\n",
    "                [4, 5, -6],\n",
    "                [-3, 9, 1]])\n",
    "np.argmin(arr, axis=0)"
   ]
  },
  {
   "cell_type": "code",
   "execution_count": 100,
   "metadata": {},
   "outputs": [
    {
     "data": {
      "text/plain": [
       "array([2, 2, 0], dtype=int64)"
      ]
     },
     "execution_count": 100,
     "metadata": {},
     "output_type": "execute_result"
    }
   ],
   "source": [
    "np.argmin(arr, axis=1)"
   ]
  },
  {
   "cell_type": "code",
   "execution_count": 101,
   "metadata": {},
   "outputs": [
    {
     "data": {
      "text/plain": [
       "array([1, 1, 1], dtype=int64)"
      ]
     },
     "execution_count": 101,
     "metadata": {},
     "output_type": "execute_result"
    }
   ],
   "source": [
    "np.argmax(arr, axis=-1)"
   ]
  },
  {
   "cell_type": "markdown",
   "metadata": {},
   "source": [
    "In our example, using  `axis=0`  meant the function found the index of the minimum  *row*  element for each column. When we used  `axis=1` , the function found the index of the minimum  *column*  element for each row.\n",
    "\n",
    "Setting  `axis`  to -1 just means we apply the function across the last dimension. In this case,  `axis=-1`  is equivalent to  `axis=1` ."
   ]
  },
  {
   "cell_type": "markdown",
   "metadata": {},
   "source": [
    "## Filtering"
   ]
  },
  {
   "cell_type": "markdown",
   "metadata": {},
   "source": [
    "Filter NumPy data for specific values."
   ]
  },
  {
   "cell_type": "markdown",
   "metadata": {},
   "source": [
    "### Goals:"
   ]
  },
  {
   "cell_type": "markdown",
   "metadata": {},
   "source": [
    "* Explore how to filter data in NumPy\n",
    "* Write code for filtering NumPy arrays"
   ]
  },
  {
   "cell_type": "markdown",
   "metadata": {},
   "source": [
    "### A. Filtering data"
   ]
  },
  {
   "cell_type": "markdown",
   "metadata": {},
   "source": [
    "Sometimes we have data that contains values we don't want to use. For example, when tracking the best hitters in baseball, we may want to only use the batting average data above .300. In this case, we should  *filter*  the overall data for only the values that we want.\n",
    "\n",
    "The key to filtering data is through basic relation operations, e.g.  `==` ,  `>` , etc. In NumPy, we can apply basic relation operations element-wise on arrays.\n",
    "\n",
    "The code below shows relation operations on NumPy arrays. The  `~`  operation represents a boolean negation, i.e. it flips each truth value in the array."
   ]
  },
  {
   "cell_type": "code",
   "execution_count": 102,
   "metadata": {},
   "outputs": [
    {
     "data": {
      "text/plain": [
       "array([[False, False,  True],\n",
       "       [False,  True, False],\n",
       "       [False, False, False]])"
      ]
     },
     "execution_count": 102,
     "metadata": {},
     "output_type": "execute_result"
    }
   ],
   "source": [
    "arr = np.array([[0, 2, 3],\n",
    "                [1, 3, -6],\n",
    "                [-3, -2, 1]])\n",
    "arr == 3"
   ]
  },
  {
   "cell_type": "code",
   "execution_count": 103,
   "metadata": {},
   "outputs": [
    {
     "data": {
      "text/plain": [
       "array([[False,  True,  True],\n",
       "       [ True,  True, False],\n",
       "       [False, False,  True]])"
      ]
     },
     "execution_count": 103,
     "metadata": {},
     "output_type": "execute_result"
    }
   ],
   "source": [
    "arr > 0"
   ]
  },
  {
   "cell_type": "code",
   "execution_count": 104,
   "metadata": {},
   "outputs": [
    {
     "data": {
      "text/plain": [
       "array([[ True,  True,  True],\n",
       "       [False,  True,  True],\n",
       "       [ True,  True, False]])"
      ]
     },
     "execution_count": 104,
     "metadata": {},
     "output_type": "execute_result"
    }
   ],
   "source": [
    "arr != 1"
   ]
  },
  {
   "cell_type": "code",
   "execution_count": 105,
   "metadata": {},
   "outputs": [
    {
     "data": {
      "text/plain": [
       "array([[False, False, False],\n",
       "       [ True, False, False],\n",
       "       [False, False,  True]])"
      ]
     },
     "execution_count": 105,
     "metadata": {},
     "output_type": "execute_result"
    }
   ],
   "source": [
    "# Negated from the previous step\n",
    "~(arr != 1)"
   ]
  },
  {
   "cell_type": "markdown",
   "metadata": {},
   "source": [
    "Something to note is that  `np.nan`  can't be used with any relation operation. Instead, we use  `np.isnan`  to filter for the location of  `np.nan` .\n",
    "\n",
    "The code below uses  `np.isnan`  to determine which locations of the array contain  `np.nan`  values."
   ]
  },
  {
   "cell_type": "code",
   "execution_count": 106,
   "metadata": {},
   "outputs": [
    {
     "data": {
      "text/plain": [
       "array([[False, False,  True],\n",
       "       [False,  True, False],\n",
       "       [ True, False, False]])"
      ]
     },
     "execution_count": 106,
     "metadata": {},
     "output_type": "execute_result"
    }
   ],
   "source": [
    "arr = np.array([[0, 2, np.nan],\n",
    "                [1, np.nan, -6],\n",
    "                [np.nan, -2, 1]])\n",
    "np.isnan(arr)"
   ]
  },
  {
   "cell_type": "markdown",
   "metadata": {},
   "source": [
    "Each boolean array in our examples represents the location of elements we want to filter for. The way we perform the filtering itself is through the  `np.where`  function."
   ]
  },
  {
   "cell_type": "markdown",
   "metadata": {},
   "source": [
    "### B. Filtering in NumPy"
   ]
  },
  {
   "cell_type": "markdown",
   "metadata": {},
   "source": [
    "The  `np.where`  function takes in a required first argument, which is a boolean array where  `True`  represents the locations of the elements we want to filter for. When the function is applied with only the first argument, it returns a tuple of 1-D arrays.\n",
    "\n",
    "The tuple will have size equal to the number of dimensions in the data, and each array represents the  `True`  indices for the corresponding dimension. Note that the arrays in the tuple will all have the same length, equal to the number of  `True`  elements in the input argument.\n",
    "\n",
    "The code below shows how to use  `np.where`  with a single argument."
   ]
  },
  {
   "cell_type": "code",
   "execution_count": 107,
   "metadata": {},
   "outputs": [
    {
     "data": {
      "text/plain": [
       "(array([0, 2], dtype=int64),)"
      ]
     },
     "execution_count": 107,
     "metadata": {},
     "output_type": "execute_result"
    }
   ],
   "source": [
    "np.where([True, False, True])"
   ]
  },
  {
   "cell_type": "code",
   "execution_count": 108,
   "metadata": {},
   "outputs": [
    {
     "data": {
      "text/plain": [
       "(array([1, 3], dtype=int64),)"
      ]
     },
     "execution_count": 108,
     "metadata": {},
     "output_type": "execute_result"
    }
   ],
   "source": [
    "arr = np.array([0, 3, 5, 3, 1])\n",
    "np.where(arr == 3)"
   ]
  },
  {
   "cell_type": "code",
   "execution_count": 109,
   "metadata": {},
   "outputs": [
    {
     "data": {
      "text/plain": [
       "array([0, 0, 1, 2], dtype=int64)"
      ]
     },
     "execution_count": 109,
     "metadata": {},
     "output_type": "execute_result"
    }
   ],
   "source": [
    "arr = np.array([[0, 2, 3],\n",
    "                [1, 0, 0],\n",
    "                [-3, 0, 0]])\n",
    "x_ind, y_ind = np.where(arr != 0)\n",
    "x_ind # x indices of non-zero elements"
   ]
  },
  {
   "cell_type": "code",
   "execution_count": 110,
   "metadata": {},
   "outputs": [
    {
     "data": {
      "text/plain": [
       "array([1, 2, 0, 0], dtype=int64)"
      ]
     },
     "execution_count": 110,
     "metadata": {},
     "output_type": "execute_result"
    }
   ],
   "source": [
    "y_ind # y indices of non-zero elements"
   ]
  },
  {
   "cell_type": "code",
   "execution_count": 111,
   "metadata": {},
   "outputs": [
    {
     "data": {
      "text/plain": [
       "array([ 2,  3,  1, -3])"
      ]
     },
     "execution_count": 111,
     "metadata": {},
     "output_type": "execute_result"
    }
   ],
   "source": [
    "arr[x_ind, y_ind]"
   ]
  },
  {
   "cell_type": "code",
   "execution_count": 112,
   "metadata": {},
   "outputs": [
    {
     "data": {
      "text/plain": [
       "(array([0, 0, 1, 2], dtype=int64), array([1, 2, 0, 0], dtype=int64))"
      ]
     },
     "execution_count": 112,
     "metadata": {},
     "output_type": "execute_result"
    }
   ],
   "source": [
    "np.where(arr != 0)"
   ]
  },
  {
   "cell_type": "markdown",
   "metadata": {},
   "source": [
    "The interesting thing about  `np.where`  is that it must be applied with exactly 1 or 3 arguments. When we use 3 arguments, the first argument is still the boolean array. However, the next two arguments represent the  `True`  replacement values and the  `False`  replacement values, respectively. The output of the function now becomes an array with the same shape as the first argument.\n",
    "\n",
    "The code below shows how to use  `np.where`  with 3 arguments."
   ]
  },
  {
   "cell_type": "code",
   "execution_count": 113,
   "metadata": {},
   "outputs": [
    {
     "data": {
      "text/plain": [
       "array([[ 1, -5],\n",
       "       [-1,  4]])"
      ]
     },
     "execution_count": 113,
     "metadata": {},
     "output_type": "execute_result"
    }
   ],
   "source": [
    "np_filter = np.array([[True, False], [False, True]])\n",
    "positives = np.array([[1, 2], [3, 4]])\n",
    "negatives = np.array([[-2, -5], [-1, -8]])\n",
    "np.where(np_filter, positives, negatives)"
   ]
  },
  {
   "cell_type": "code",
   "execution_count": 114,
   "metadata": {},
   "outputs": [
    {
     "data": {
      "text/plain": [
       "array([[-2, -5],\n",
       "       [ 3,  4]])"
      ]
     },
     "execution_count": 114,
     "metadata": {},
     "output_type": "execute_result"
    }
   ],
   "source": [
    "np_filter = positives > 2\n",
    "np.where(np_filter, positives, negatives)"
   ]
  },
  {
   "cell_type": "code",
   "execution_count": 115,
   "metadata": {},
   "outputs": [
    {
     "data": {
      "text/plain": [
       "array([[-2, -5],\n",
       "       [-1, -8]])"
      ]
     },
     "execution_count": 115,
     "metadata": {},
     "output_type": "execute_result"
    }
   ],
   "source": [
    "np_filter = negatives > 0\n",
    "np.where(np_filter, positives, negatives)"
   ]
  },
  {
   "cell_type": "markdown",
   "metadata": {},
   "source": [
    "Note that our second and third arguments necessarily had the same shape as the first argument. However, if we wanted to use a constant replacement value, e.g.  `-1` , we could incorporate [broadcasting](https://docs.scipy.org/doc/numpy/user/basics.broadcasting.html). Rather than using an entire array of the same value, we can just use the value itself as an argument.\n",
    "\n",
    "The code below showcases broadcasting with  `np.where` ."
   ]
  },
  {
   "cell_type": "code",
   "execution_count": 116,
   "metadata": {},
   "outputs": [
    {
     "data": {
      "text/plain": [
       "array([[ 1, -1],\n",
       "       [-1,  4]])"
      ]
     },
     "execution_count": 116,
     "metadata": {},
     "output_type": "execute_result"
    }
   ],
   "source": [
    "np_filter = np.array([[True, False], [False, True]])\n",
    "positives = np.array([[1, 2], [3, 4]])\n",
    "np.where(np_filter, positives, -1)"
   ]
  },
  {
   "cell_type": "markdown",
   "metadata": {},
   "source": [
    "### C. Axis-wise filtering"
   ]
  },
  {
   "cell_type": "markdown",
   "metadata": {},
   "source": [
    "If we wanted to filter based on rows or columns of data, we could use the  `np.any`  and  `np.all`  functions. Both functions take in the same arguments, and return a single boolean or a boolean array. The required argument for both functions is a boolean array.\n",
    "\n",
    "The code below shows usage of  `np.any`  and  `np.all`  with a single argument."
   ]
  },
  {
   "cell_type": "code",
   "execution_count": 117,
   "metadata": {},
   "outputs": [
    {
     "data": {
      "text/plain": [
       "array([[False, False, False],\n",
       "       [ True,  True, False],\n",
       "       [ True,  True,  True]])"
      ]
     },
     "execution_count": 117,
     "metadata": {},
     "output_type": "execute_result"
    }
   ],
   "source": [
    "arr = np.array([[-2, -1, -3],\n",
    "                [4, 5, -6],\n",
    "                [3, 9, 1]])\n",
    "arr > 0"
   ]
  },
  {
   "cell_type": "code",
   "execution_count": 118,
   "metadata": {},
   "outputs": [
    {
     "data": {
      "text/plain": [
       "True"
      ]
     },
     "execution_count": 118,
     "metadata": {},
     "output_type": "execute_result"
    }
   ],
   "source": [
    "np.any(arr > 0)"
   ]
  },
  {
   "cell_type": "code",
   "execution_count": 119,
   "metadata": {},
   "outputs": [
    {
     "data": {
      "text/plain": [
       "False"
      ]
     },
     "execution_count": 119,
     "metadata": {},
     "output_type": "execute_result"
    }
   ],
   "source": [
    "np.all(arr > 0)"
   ]
  },
  {
   "cell_type": "markdown",
   "metadata": {},
   "source": [
    "The  `np.any`  function is equivalent to performing a logical OR ( `||` ), while the  `np.all`  function is equivalent to a logical AND ( `&&` ) on the first argument. np.any returns true if even one of the elements in the array meets the condition and np.all returns true only if all the elements meet the condition. When only a single argument is passed in, the function is applied across the entire input array, so the returned value is a single boolean.\n",
    "\n",
    "However, if we use a multi-dimensional input and specify the  `axis`  keyword argument, the returned value will be an array. The  `axis`  argument has the same meaning as it did for  `np.argmin`  and  `np.argmax`  from the previous chapter. Using  `axis=0`  means the function finds the index of the minimum  *row*  element for each column. When we used  `axis=1` , the function finds the index of the minimum  *column*  element for each row.\n",
    "\n",
    "Setting  `axis`  to -1 just means we apply the function across the last dimension.\n",
    "\n",
    "The code below shows examples of using  `np.any`  and  `np.all`  with the  `axis`  keyword argument."
   ]
  },
  {
   "cell_type": "code",
   "execution_count": 120,
   "metadata": {},
   "outputs": [
    {
     "data": {
      "text/plain": [
       "array([[False, False, False],\n",
       "       [ True,  True, False],\n",
       "       [ True,  True,  True]])"
      ]
     },
     "execution_count": 120,
     "metadata": {},
     "output_type": "execute_result"
    }
   ],
   "source": [
    "arr = np.array([[-2, -1, -3],\n",
    "                [4, 5, -6],\n",
    "                [3, 9, 1]])\n",
    "arr > 0"
   ]
  },
  {
   "cell_type": "code",
   "execution_count": 121,
   "metadata": {},
   "outputs": [
    {
     "data": {
      "text/plain": [
       "array([ True,  True,  True])"
      ]
     },
     "execution_count": 121,
     "metadata": {},
     "output_type": "execute_result"
    }
   ],
   "source": [
    "np.any(arr > 0, axis=0)"
   ]
  },
  {
   "cell_type": "code",
   "execution_count": 122,
   "metadata": {},
   "outputs": [
    {
     "data": {
      "text/plain": [
       "array([False,  True,  True])"
      ]
     },
     "execution_count": 122,
     "metadata": {},
     "output_type": "execute_result"
    }
   ],
   "source": [
    "np.any(arr > 0, axis=1)"
   ]
  },
  {
   "cell_type": "code",
   "execution_count": 123,
   "metadata": {},
   "outputs": [
    {
     "data": {
      "text/plain": [
       "array([False, False,  True])"
      ]
     },
     "execution_count": 123,
     "metadata": {},
     "output_type": "execute_result"
    }
   ],
   "source": [
    "np.all(arr > 0, axis=1)"
   ]
  },
  {
   "cell_type": "markdown",
   "metadata": {},
   "source": [
    "We can use  `np.any`  and  `np.all`  in tandem with  `np.where`  to filter for entire rows or columns of data.\n",
    "\n",
    "In the code example below, we use  `np.any`  to obtain a boolean array representing the rows that have at least one positive number. We then use the boolean array as the input to  `np.where` , which gives us the actual indices of the rows with at least one positive number.\n",
    "\n",
    "![widget](https://www.educative.io/api/collection/6083138522447872/5629499534213120/page/5728116278296576/image/6652560851075072.png \"Widget\")"
   ]
  },
  {
   "cell_type": "code",
   "execution_count": 124,
   "metadata": {},
   "outputs": [
    {
     "data": {
      "text/plain": [
       "array([False,  True,  True])"
      ]
     },
     "execution_count": 124,
     "metadata": {},
     "output_type": "execute_result"
    }
   ],
   "source": [
    "arr = np.array([[-2, -1, -3],\n",
    "                [4, 5, -6],\n",
    "                [3, 9, 1]])\n",
    "has_positive = np.any(arr > 0, axis=1)\n",
    "has_positive"
   ]
  },
  {
   "cell_type": "code",
   "execution_count": 125,
   "metadata": {},
   "outputs": [
    {
     "data": {
      "text/plain": [
       "array([[ 4,  5, -6],\n",
       "       [ 3,  9,  1]])"
      ]
     },
     "execution_count": 125,
     "metadata": {},
     "output_type": "execute_result"
    }
   ],
   "source": [
    "arr[np.where(has_positive)]"
   ]
  },
  {
   "cell_type": "markdown",
   "metadata": {},
   "source": [
    "## Statistics"
   ]
  },
  {
   "cell_type": "markdown",
   "metadata": {},
   "source": [
    "Apply statistical metrics to NumPy data."
   ]
  },
  {
   "cell_type": "markdown",
   "metadata": {},
   "source": [
    "### Goals:"
   ]
  },
  {
   "cell_type": "markdown",
   "metadata": {},
   "source": [
    "* Explore basic statistical analysis in NumPy\n",
    "* Write code to obtain statistics for NumPy arrays"
   ]
  },
  {
   "cell_type": "markdown",
   "metadata": {},
   "source": [
    "### A. Analysis"
   ]
  },
  {
   "cell_type": "markdown",
   "metadata": {},
   "source": [
    "It is often useful to analyze data for its main characteristics and interesting trends.\n",
    "\n",
    "For example, we can obtain minimum and maximum values of a NumPy array using its inherent  `min`  and  `max`  functions. This gives us an initial sense of the data's range, and can alert us to extreme outliers in the data.\n",
    "\n",
    "The code below shows example usages of the  `min`  and  `max`  functions."
   ]
  },
  {
   "cell_type": "code",
   "execution_count": 126,
   "metadata": {},
   "outputs": [
    {
     "data": {
      "text/plain": [
       "-60"
      ]
     },
     "execution_count": 126,
     "metadata": {},
     "output_type": "execute_result"
    }
   ],
   "source": [
    "arr = np.array([[0, 72, 3],\n",
    "                [1, 3, -60],\n",
    "                [-3, -2, 4]])\n",
    "arr.min()"
   ]
  },
  {
   "cell_type": "code",
   "execution_count": 127,
   "metadata": {},
   "outputs": [
    {
     "data": {
      "text/plain": [
       "72"
      ]
     },
     "execution_count": 127,
     "metadata": {},
     "output_type": "execute_result"
    }
   ],
   "source": [
    "arr.max()"
   ]
  },
  {
   "cell_type": "code",
   "execution_count": 128,
   "metadata": {},
   "outputs": [
    {
     "data": {
      "text/plain": [
       "array([ -3,  -2, -60])"
      ]
     },
     "execution_count": 128,
     "metadata": {},
     "output_type": "execute_result"
    }
   ],
   "source": [
    "arr.min(axis=0)"
   ]
  },
  {
   "cell_type": "code",
   "execution_count": 129,
   "metadata": {},
   "outputs": [
    {
     "data": {
      "text/plain": [
       "array([72,  3,  4])"
      ]
     },
     "execution_count": 129,
     "metadata": {},
     "output_type": "execute_result"
    }
   ],
   "source": [
    "arr.max(axis=-1)"
   ]
  },
  {
   "cell_type": "markdown",
   "metadata": {},
   "source": [
    "The  `axis`  keyword argument is identical to how it was used in  `np.argmin`  and  `np.argmax`  from the chapter on Indexing. In our example, we use  `axis=0`  to find an array of the minimum values in each column of  `arr`  and  `axis=1`  to find an array of the maximum values in each row of  `arr` ."
   ]
  },
  {
   "cell_type": "markdown",
   "metadata": {},
   "source": [
    "### B. Statistical metrics"
   ]
  },
  {
   "cell_type": "markdown",
   "metadata": {},
   "source": [
    "NumPy also provides basic statistical functions such as  `np.mean` ,  `np.var` , and  `np.median` , to calculate the mean, variance, and median of the data, respectively.\n",
    "\n",
    "The code below shows how to obtain basic statistics with NumPy. Note that  `np.median`  applied without  `axis`  takes the median of the flattened array."
   ]
  },
  {
   "cell_type": "code",
   "execution_count": 130,
   "metadata": {},
   "outputs": [
    {
     "data": {
      "text/plain": [
       "2.0"
      ]
     },
     "execution_count": 130,
     "metadata": {},
     "output_type": "execute_result"
    }
   ],
   "source": [
    "arr = np.array([[0, 72, 3],\n",
    "                [1, 3, -60],\n",
    "                [-3, -2, 4]])\n",
    "np.mean(arr)"
   ]
  },
  {
   "cell_type": "code",
   "execution_count": 131,
   "metadata": {},
   "outputs": [
    {
     "data": {
      "text/plain": [
       "977.3333333333334"
      ]
     },
     "execution_count": 131,
     "metadata": {},
     "output_type": "execute_result"
    }
   ],
   "source": [
    "np.var(arr)"
   ]
  },
  {
   "cell_type": "code",
   "execution_count": 132,
   "metadata": {},
   "outputs": [
    {
     "data": {
      "text/plain": [
       "1.0"
      ]
     },
     "execution_count": 132,
     "metadata": {},
     "output_type": "execute_result"
    }
   ],
   "source": [
    "np.median(arr)"
   ]
  },
  {
   "cell_type": "code",
   "execution_count": 133,
   "metadata": {},
   "outputs": [
    {
     "data": {
      "text/plain": [
       "array([ 3.,  1., -2.])"
      ]
     },
     "execution_count": 133,
     "metadata": {},
     "output_type": "execute_result"
    }
   ],
   "source": [
    "np.median(arr, axis=-1)"
   ]
  },
  {
   "cell_type": "markdown",
   "metadata": {},
   "source": [
    "Each of these functions takes in the data array as a required argument and  `axis`  as a keyword argument. For a more comprehensive list of statistical functions (e.g. calculating percentiles, creating histograms, etc.), check out the NumPy [statistics page](https://docs.scipy.org/doc/numpy/reference/routines.statistics.html)."
   ]
  },
  {
   "cell_type": "markdown",
   "metadata": {},
   "source": [
    "## Aggregation"
   ]
  },
  {
   "cell_type": "markdown",
   "metadata": {},
   "source": [
    "Use aggregation techniques to combine NumPy data and arrays."
   ]
  },
  {
   "cell_type": "markdown",
   "metadata": {},
   "source": [
    "### Goals:\n",
    "\n",
    "* Explore how to aggregate data in NumPy\n",
    "* Write code to obtain sums and concatenations of NumPy arrays"
   ]
  },
  {
   "cell_type": "markdown",
   "metadata": {},
   "source": [
    "### A. Summation"
   ]
  },
  {
   "cell_type": "markdown",
   "metadata": {},
   "source": [
    "we calculated the sum of individual values between multiple arrays. To sum the values within a single array, we use the  `np.sum`  function.\n",
    "\n",
    "The function takes in a NumPy array as its required argument, and uses the  `axis`  keyword argument. \n",
    "\n",
    "If the  `axis`  keyword argument is not specified,  `np.sum`  returns the overall sum of the array.\n",
    "\n",
    "The code below shows how to use  `np.sum` ."
   ]
  },
  {
   "cell_type": "code",
   "execution_count": 134,
   "metadata": {},
   "outputs": [
    {
     "data": {
      "text/plain": [
       "18"
      ]
     },
     "execution_count": 134,
     "metadata": {},
     "output_type": "execute_result"
    }
   ],
   "source": [
    "arr = np.array([[0, 72, 3],\n",
    "                [1, 3, -60],\n",
    "                [-3, -2, 4]])\n",
    "np.sum(arr)"
   ]
  },
  {
   "cell_type": "code",
   "execution_count": 135,
   "metadata": {},
   "outputs": [
    {
     "data": {
      "text/plain": [
       "array([ -2,  73, -53])"
      ]
     },
     "execution_count": 135,
     "metadata": {},
     "output_type": "execute_result"
    }
   ],
   "source": [
    "np.sum(arr, axis=0)"
   ]
  },
  {
   "cell_type": "code",
   "execution_count": 136,
   "metadata": {},
   "outputs": [
    {
     "data": {
      "text/plain": [
       "array([ 75, -56,  -1])"
      ]
     },
     "execution_count": 136,
     "metadata": {},
     "output_type": "execute_result"
    }
   ],
   "source": [
    "np.sum(arr, axis=1)"
   ]
  },
  {
   "cell_type": "markdown",
   "metadata": {},
   "source": [
    "In addition to regular sums, NumPy can perform cumulative sums using  `np.cumsum` . Like  `np.sum` ,  `np.cumsum`  also takes in a NumPy array as a required argument and uses the  `axis`  argument. If the  `axis`  keyword argument is not specified,  `np.cumsum`  will return the cumulative sums for the flattened array.\n",
    "\n",
    "The code below shows how to use  `np.cumsum` . For a 2-D NumPy array, setting  `axis=0`  returns an array with cumulative sums across each column, while  `axis=1`  returns the array with cumulative sums across each row. Not setting  `axis`  returns a cumulative sum across all the values of the flattened array."
   ]
  },
  {
   "cell_type": "code",
   "execution_count": 137,
   "metadata": {},
   "outputs": [
    {
     "data": {
      "text/plain": [
       "array([ 0, 72, 75, 76, 79, 19, 16, 14, 18], dtype=int32)"
      ]
     },
     "execution_count": 137,
     "metadata": {},
     "output_type": "execute_result"
    }
   ],
   "source": [
    "arr = np.array([[0, 72, 3],\n",
    "                [1, 3, -60],\n",
    "                [-3, -2, 4]])\n",
    "np.cumsum(arr)"
   ]
  },
  {
   "cell_type": "code",
   "execution_count": 138,
   "metadata": {},
   "outputs": [
    {
     "data": {
      "text/plain": [
       "array([[  0,  72,   3],\n",
       "       [  1,  75, -57],\n",
       "       [ -2,  73, -53]], dtype=int32)"
      ]
     },
     "execution_count": 138,
     "metadata": {},
     "output_type": "execute_result"
    }
   ],
   "source": [
    "np.cumsum(arr, axis=0)"
   ]
  },
  {
   "cell_type": "code",
   "execution_count": 139,
   "metadata": {},
   "outputs": [
    {
     "data": {
      "text/plain": [
       "array([[  0,  72,  75],\n",
       "       [  1,   4, -56],\n",
       "       [ -3,  -5,  -1]], dtype=int32)"
      ]
     },
     "execution_count": 139,
     "metadata": {},
     "output_type": "execute_result"
    }
   ],
   "source": [
    "np.cumsum(arr, axis=1)"
   ]
  },
  {
   "cell_type": "markdown",
   "metadata": {},
   "source": [
    "### B. Concatenation"
   ]
  },
  {
   "cell_type": "markdown",
   "metadata": {},
   "source": [
    "An important part of aggregation is combining multiple datasets. In NumPy, this equates to combining multiple arrays into one. The function we use to do this is  `np.concatenate` .\n",
    "\n",
    "Like the summation functions,  `np.concatenate`  uses the  `axis`  keyword argument. However, the default value for  `axis`  is  `0`  (i.e. dimension 0). Furthermore, the required argument for  `np.concatenate`  is a list of arrays, which the function combines into a single array.\n",
    "\n",
    "The code below shows how to use  `np.concatenate` , which aggregates arrays by joining them along a specific dimension. For 2-D arrays, not setting the  `axis`  argument (defaults to  `axis=0` ) concatenates the arrays vertically. When we set  `axis=1` , the arrays are concatenated horizontally."
   ]
  },
  {
   "cell_type": "code",
   "execution_count": 140,
   "metadata": {},
   "outputs": [
    {
     "data": {
      "text/plain": [
       "array([[  0,  72,   3],\n",
       "       [  1,   3, -60],\n",
       "       [ -3,  -2,   4],\n",
       "       [-15,   6,   1],\n",
       "       [  8,   9,  -4],\n",
       "       [  5, -21,  18]])"
      ]
     },
     "execution_count": 140,
     "metadata": {},
     "output_type": "execute_result"
    }
   ],
   "source": [
    "arr1 = np.array([[0, 72, 3],\n",
    "                 [1, 3, -60],\n",
    "                 [-3, -2, 4]])\n",
    "arr2 = np.array([[-15, 6, 1],\n",
    "                 [8, 9, -4],\n",
    "                 [5, -21, 18]])\n",
    "np.concatenate([arr1, arr2])"
   ]
  },
  {
   "cell_type": "code",
   "execution_count": 141,
   "metadata": {},
   "outputs": [
    {
     "data": {
      "text/plain": [
       "array([[  0,  72,   3, -15,   6,   1],\n",
       "       [  1,   3, -60,   8,   9,  -4],\n",
       "       [ -3,  -2,   4,   5, -21,  18]])"
      ]
     },
     "execution_count": 141,
     "metadata": {},
     "output_type": "execute_result"
    }
   ],
   "source": [
    "np.concatenate([arr1, arr2], axis=1)"
   ]
  },
  {
   "cell_type": "code",
   "execution_count": 142,
   "metadata": {},
   "outputs": [
    {
     "data": {
      "text/plain": [
       "array([[-15,   6,   1,   0,  72,   3],\n",
       "       [  8,   9,  -4,   1,   3, -60],\n",
       "       [  5, -21,  18,  -3,  -2,   4]])"
      ]
     },
     "execution_count": 142,
     "metadata": {},
     "output_type": "execute_result"
    }
   ],
   "source": [
    "np.concatenate([arr2, arr1], axis=1)"
   ]
  },
  {
   "cell_type": "markdown",
   "metadata": {},
   "source": [
    "## Saving Data"
   ]
  },
  {
   "cell_type": "markdown",
   "metadata": {},
   "source": [
    " how to save and load NumPy data."
   ]
  },
  {
   "cell_type": "markdown",
   "metadata": {},
   "source": [
    "### Goals:\n",
    "\n",
    "* Exploring how to save and load data in NumPy\n",
    "* Write code to save NumPy data to a file"
   ]
  },
  {
   "cell_type": "markdown",
   "metadata": {},
   "source": [
    "### A. Saving"
   ]
  },
  {
   "cell_type": "markdown",
   "metadata": {},
   "source": [
    "After performing data manipulation with NumPy, it's a good idea to save the data in a file for future use. To do this, we use the  `np.save`  function.\n",
    "\n",
    "The first argument for the function is the name/path of the file we want to save our data to. The file name/path should have a \".npy\" extension. If it does not, then  `np.save`  will append the \".npy\" extension to it.\n",
    "\n",
    "The second argument for  `np.save`  is the NumPy data we want to save. The function has no return value. Also, the format of the \".npy\" files when viewed with a text editor is largely gibberish when viewed with a text editor.\n",
    "\n",
    "If  `np.save`  is called with the name of a file that already exists, it will overwrite the previous file.\n",
    "\n",
    "The code below shows examples of saving NumPy data."
   ]
  },
  {
   "cell_type": "code",
   "execution_count": 143,
   "metadata": {},
   "outputs": [],
   "source": [
    "arr = np.array([1, 2, 3])\n",
    "# Saves to 'arr.npy'\n",
    "np.save('datasets/numpy_files/arr.npy', arr)\n",
    "# Also saves to 'arr.npy'\n",
    "np.save('datasets/numpy_files/arr', arr)"
   ]
  },
  {
   "cell_type": "markdown",
   "metadata": {},
   "source": [
    "### B. Loading"
   ]
  },
  {
   "cell_type": "markdown",
   "metadata": {},
   "source": [
    "After saving our data, we can load it again using  `np.load` . The function's required argument is the file name/path that contains the saved data. It returns the NumPy data exactly as it was saved.\n",
    "\n",
    "Note that  `np.load`  will not append the \".npy\" extension to the file name/path if it is not there.\n",
    "\n",
    "The code below shows how to use  `np.load`  to load NumPy data."
   ]
  },
  {
   "cell_type": "code",
   "execution_count": 144,
   "metadata": {},
   "outputs": [
    {
     "data": {
      "text/plain": [
       "array([1, 2, 3])"
      ]
     },
     "execution_count": 144,
     "metadata": {},
     "output_type": "execute_result"
    }
   ],
   "source": [
    "load_arr = np.load('datasets/numpy_files/arr.npy')\n",
    "load_arr"
   ]
  },
  {
   "cell_type": "code",
   "execution_count": 145,
   "metadata": {},
   "outputs": [
    {
     "ename": "FileNotFoundError",
     "evalue": "[Errno 2] No such file or directory: 'datasets/numpy_files/arr'",
     "output_type": "error",
     "traceback": [
      "\u001b[1;31m---------------------------------------------------------------------------\u001b[0m",
      "\u001b[1;31mFileNotFoundError\u001b[0m                         Traceback (most recent call last)",
      "\u001b[1;32m<ipython-input-145-05bcbb98a755>\u001b[0m in \u001b[0;36m<module>\u001b[1;34m\u001b[0m\n\u001b[0;32m      1\u001b[0m \u001b[1;31m# Will result in FileNotFoundError\u001b[0m\u001b[1;33m\u001b[0m\u001b[1;33m\u001b[0m\u001b[0m\n\u001b[1;32m----> 2\u001b[1;33m \u001b[0mload_arr\u001b[0m \u001b[1;33m=\u001b[0m \u001b[0mnp\u001b[0m\u001b[1;33m.\u001b[0m\u001b[0mload\u001b[0m\u001b[1;33m(\u001b[0m\u001b[1;34m'datasets/numpy_files/arr'\u001b[0m\u001b[1;33m)\u001b[0m\u001b[1;33m\u001b[0m\u001b[0m\n\u001b[0m",
      "\u001b[1;32m~\\Anaconda3\\lib\\site-packages\\numpy\\lib\\npyio.py\u001b[0m in \u001b[0;36mload\u001b[1;34m(file, mmap_mode, allow_pickle, fix_imports, encoding)\u001b[0m\n\u001b[0;32m    426\u001b[0m         \u001b[0mown_fid\u001b[0m \u001b[1;33m=\u001b[0m \u001b[1;32mFalse\u001b[0m\u001b[1;33m\u001b[0m\u001b[0m\n\u001b[0;32m    427\u001b[0m     \u001b[1;32melse\u001b[0m\u001b[1;33m:\u001b[0m\u001b[1;33m\u001b[0m\u001b[0m\n\u001b[1;32m--> 428\u001b[1;33m         \u001b[0mfid\u001b[0m \u001b[1;33m=\u001b[0m \u001b[0mopen\u001b[0m\u001b[1;33m(\u001b[0m\u001b[0mos_fspath\u001b[0m\u001b[1;33m(\u001b[0m\u001b[0mfile\u001b[0m\u001b[1;33m)\u001b[0m\u001b[1;33m,\u001b[0m \u001b[1;34m\"rb\"\u001b[0m\u001b[1;33m)\u001b[0m\u001b[1;33m\u001b[0m\u001b[0m\n\u001b[0m\u001b[0;32m    429\u001b[0m         \u001b[0mown_fid\u001b[0m \u001b[1;33m=\u001b[0m \u001b[1;32mTrue\u001b[0m\u001b[1;33m\u001b[0m\u001b[0m\n\u001b[0;32m    430\u001b[0m \u001b[1;33m\u001b[0m\u001b[0m\n",
      "\u001b[1;31mFileNotFoundError\u001b[0m: [Errno 2] No such file or directory: 'datasets/numpy_files/arr'"
     ]
    }
   ],
   "source": [
    "# Will result in FileNotFoundError\n",
    "load_arr = np.load('datasets/numpy_files/arr')"
   ]
  },
  {
   "cell_type": "markdown",
   "metadata": {},
   "source": [
    "# 3. Data Analysis with pandas"
   ]
  },
  {
   "cell_type": "markdown",
   "metadata": {},
   "source": [
    "## Introduction"
   ]
  },
  {
   "cell_type": "markdown",
   "metadata": {},
   "source": [
    "An overview of data analysis with pandas."
   ]
  },
  {
   "cell_type": "markdown",
   "metadata": {},
   "source": [
    "We will be using [pandas](https://en.wikipedia.org/wiki/Pandas_(software)) to analyze Major League Baseball (MLB) data. The data comes courtesy of [Sean Lahman](https://en.wikipedia.org/wiki/Sean_Lahman), and contains statistics for every player, manager, and team in MLB history. The full database can be found and downloaded [here](http://www.seanlahman.com/baseball-archive/statistics/)."
   ]
  },
  {
   "cell_type": "markdown",
   "metadata": {},
   "source": [
    "### A. Data analysis"
   ]
  },
  {
   "cell_type": "markdown",
   "metadata": {},
   "source": [
    "Before doing any task with a dataset, it is a good idea to perform preliminary [data analysis](https://en.wikipedia.org/wiki/Data_analysis). Data analysis allows us to understand the dataset, find potential outlier values, and figure out which features of the dataset are most important to our application."
   ]
  },
  {
   "cell_type": "markdown",
   "metadata": {},
   "source": [
    "### B. pandas"
   ]
  },
  {
   "cell_type": "markdown",
   "metadata": {},
   "source": [
    "Since most machine learning frameworks (e.g. TensorFlow) are built on Python, it is beneficial to use a Python-based data analysis toolkit like pandas. pandas (all lowercase) is an excellent tool for processing and analyzing real world data, with utilities ranging from parsing multiple file formats to converting an entire data table into a NumPy matrix array.\n",
    "\n",
    "We'll dive into the main data analysis functionalities of pandas. For a complete overview of the pandas toolkit, you can visit the official [pandas website](https://pandas.pydata.org/pandas-docs/stable/)."
   ]
  },
  {
   "cell_type": "markdown",
   "metadata": {},
   "source": [
    "### C. Matplotlib and pyplot"
   ]
  },
  {
   "cell_type": "markdown",
   "metadata": {},
   "source": [
    "An essential part of data analysis is creating charts and plots to visualize the data. Similar to the saying, \"a picture is worth a thousand words\", data visualization can convey key data trends and correlations through a single figure.\n",
    "\n",
    "The library we will use for data visualization in Python is [Matplotlib](https://en.wikipedia.org/wiki/Matplotlib). Specifically, we'll be using the [pyplot](https://matplotlib.org/api/pyplot_api.html) API of Matplotlib, which provides a variety of plotting tools from simple line plots to advanced visuals like heatmaps and 3-D plots. While we will only touch on the basic necessities for our data analysis (e.g. line plots, boxplots, etc.), a full overview of Matplotlib can be found at the official [website](https://matplotlib.org/index.html)."
   ]
  },
  {
   "cell_type": "markdown",
   "metadata": {},
   "source": [
    "## Series\n",
    "\n",
    "The pandas Series object for 1-D data."
   ]
  },
  {
   "cell_type": "markdown",
   "metadata": {},
   "source": [
    "### Goals\n",
    "\n",
    "* Explore the pandas Series object and its basic utilities\n",
    "* Write code to create several Series objects"
   ]
  },
  {
   "cell_type": "markdown",
   "metadata": {},
   "source": [
    "### A. 1-D data"
   ]
  },
  {
   "cell_type": "markdown",
   "metadata": {},
   "source": [
    "Similar to NumPy, pandas frequently deals with 1-D and 2-D data. However, we use two separate objects to deal with 1-D and 2-D data in pandas. For 1-D data, we use the  `pandas.Series`  objects, which we'll refer to simply as a Series.\n",
    "\n",
    "A Series is created through the  `pd.Series`  constructor, which takes in no required arguments but does have a variety of keyword arguments.\n",
    "\n",
    "The first keyword argument is  `data` , which specifies the elements of the Series. If  `data`  is not set,  `pd.Series`  returns an empty Series. Since the  `data`  keyword argument is almost always used, we treat it like a regular first argument (i.e. skip the  `data=`  prefix).\n",
    "\n",
    "Similar to the  `np.array`  constructor,  `pd.Series`  also takes in the  `dtype`  keyword argument for manual casting.\n",
    "\n",
    "The code below shows how to create pandas Series objects using  `pd.Series` ."
   ]
  },
  {
   "cell_type": "code",
   "execution_count": 146,
   "metadata": {},
   "outputs": [
    {
     "name": "stdout",
     "output_type": "stream",
     "text": [
      "Series([], dtype: float64)\n",
      "\n"
     ]
    }
   ],
   "source": [
    "series = pd.Series()\n",
    "# Newline to separate series print statements\n",
    "print('{}\\n'.format(series))"
   ]
  },
  {
   "cell_type": "code",
   "execution_count": 147,
   "metadata": {},
   "outputs": [
    {
     "name": "stdout",
     "output_type": "stream",
     "text": [
      "0    5\n",
      "dtype: int64\n",
      "\n"
     ]
    }
   ],
   "source": [
    "series = pd.Series(5)\n",
    "print('{}\\n'.format(series))"
   ]
  },
  {
   "cell_type": "code",
   "execution_count": 148,
   "metadata": {},
   "outputs": [
    {
     "name": "stdout",
     "output_type": "stream",
     "text": [
      "0    1\n",
      "1    2\n",
      "2    3\n",
      "dtype: int64\n",
      "\n"
     ]
    }
   ],
   "source": [
    "series = pd.Series([1, 2, 3])\n",
    "print('{}\\n'.format(series))"
   ]
  },
  {
   "cell_type": "code",
   "execution_count": 149,
   "metadata": {},
   "outputs": [
    {
     "data": {
      "text/plain": [
       "0    1.0\n",
       "1    2.2\n",
       "dtype: float64"
      ]
     },
     "execution_count": 149,
     "metadata": {},
     "output_type": "execute_result"
    }
   ],
   "source": [
    "series = pd.Series([1, 2.2]) # upcasting\n",
    "series"
   ]
  },
  {
   "cell_type": "code",
   "execution_count": 150,
   "metadata": {},
   "outputs": [
    {
     "data": {
      "text/plain": [
       "0    1.0\n",
       "1    2.0\n",
       "dtype: float32"
      ]
     },
     "execution_count": 150,
     "metadata": {},
     "output_type": "execute_result"
    }
   ],
   "source": [
    "arr = np.array([1, 2])\n",
    "series = pd.Series(arr, dtype=np.float32)\n",
    "series"
   ]
  },
  {
   "cell_type": "code",
   "execution_count": 151,
   "metadata": {},
   "outputs": [
    {
     "data": {
      "text/plain": [
       "0    [1, 2]\n",
       "1    [3, 4]\n",
       "dtype: object"
      ]
     },
     "execution_count": 151,
     "metadata": {},
     "output_type": "execute_result"
    }
   ],
   "source": [
    "series = pd.Series([[1, 2], [3, 4]])\n",
    "series"
   ]
  },
  {
   "cell_type": "markdown",
   "metadata": {},
   "source": [
    "In our examples, we initialized each Series with its values by setting the first argument using a scalar, list, or NumPy array. Note that  `pd.Series`  upcasts values in the same way as  `np.array` . Furthermore, since Series objects are 1-D, the  `ser`  variable represents a Series with lists as elements, rather than a 2-D matrix."
   ]
  },
  {
   "cell_type": "markdown",
   "metadata": {},
   "source": [
    "### B. Index"
   ]
  },
  {
   "cell_type": "markdown",
   "metadata": {},
   "source": [
    "In the previous examples, you may have noticed the zero-indexed integers to the left of the elements in each Series. These integers are collectively referred to as the  *index*  of a Series, and each individual index element is referred to as a  *label* .\n",
    "\n",
    "The default index is integers from 0 to  *n*  - 1, where  *n*  is the number of elements in the Series. However, we can specify a custom index via the  `index`  keyword argument of  `pd.Series` .\n",
    "\n",
    "The code below shows how to use the  `index`  keyword argument with  `pd.Series` ."
   ]
  },
  {
   "cell_type": "code",
   "execution_count": 152,
   "metadata": {},
   "outputs": [
    {
     "data": {
      "text/plain": [
       "a    1\n",
       "b    2\n",
       "c    3\n",
       "dtype: int64"
      ]
     },
     "execution_count": 152,
     "metadata": {},
     "output_type": "execute_result"
    }
   ],
   "source": [
    "series = pd.Series([1, 2, 3], index=['a', 'b', 'c'])\n",
    "series"
   ]
  },
  {
   "cell_type": "code",
   "execution_count": 153,
   "metadata": {},
   "outputs": [
    {
     "data": {
      "text/plain": [
       "a      1\n",
       "8      2\n",
       "0.3    3\n",
       "dtype: int64"
      ]
     },
     "execution_count": 153,
     "metadata": {},
     "output_type": "execute_result"
    }
   ],
   "source": [
    "series = pd.Series([1, 2, 3], index=['a', 8, 0.3])\n",
    "series"
   ]
  },
  {
   "cell_type": "markdown",
   "metadata": {},
   "source": [
    "The  `index`  keyword argument needs to be a list or array with the same length as the  `data`  argument for  `pd.Series` . The values in the  `index`  list can be any hashable type (e.g. integer, float, string)."
   ]
  },
  {
   "cell_type": "markdown",
   "metadata": {},
   "source": [
    "### C. Dictionary input"
   ]
  },
  {
   "cell_type": "markdown",
   "metadata": {},
   "source": [
    "Another way to set the index of a Series is by using a Python dictionary for the  `data`  argument. The keys of the dictionary represent the index of the Series, while each individual key is the label for its corresponding value.\n",
    "\n",
    "The code below shows how to use  `pd.Series`  with a Python dictionary as the first argument. In our example, we set  `'a'` ,  `'b'` , and  `'c'`  as the Series index, with corresponding values  `1` ,  `2` , and  `3` ."
   ]
  },
  {
   "cell_type": "code",
   "execution_count": null,
   "metadata": {},
   "outputs": [],
   "source": [
    "series = pd.Series({'a':1, 'b':2, 'c':3})\n",
    "series"
   ]
  },
  {
   "cell_type": "code",
   "execution_count": null,
   "metadata": {},
   "outputs": [],
   "source": [
    "series = pd.Series({'b':2, 'a':1, 'c':3})\n",
    "series"
   ]
  },
  {
   "cell_type": "markdown",
   "metadata": {},
   "source": [
    "## DataFrame"
   ]
  },
  {
   "cell_type": "markdown",
   "metadata": {},
   "source": [
    "the pandas DataFrame object for 2-D data."
   ]
  },
  {
   "cell_type": "markdown",
   "metadata": {},
   "source": [
    "### Goals:\n",
    "\n",
    "* Explore the pandas DataFrame object and its basic utilities\n",
    "* Write code to create and manipulate a pandas DataFrame"
   ]
  },
  {
   "cell_type": "markdown",
   "metadata": {},
   "source": [
    "### A. 2-D data"
   ]
  },
  {
   "cell_type": "markdown",
   "metadata": {},
   "source": [
    "One of the main purposes of pandas is to deal with tabular data, i.e. data that comes from tables or spreadsheets. Since tabular data contains rows and columns, it is 2-D. For working with 2-D data, we use the  `pandas.DataFrame`  object, which we'll refer to simply as a DataFrame.\n",
    "\n",
    "A DataFrame is created through the  `pd.DataFrame`  constructor, which takes in essentially the same arguments as  `pd.Series` . However, while a Series could be constructed from a scalar (representing a single value Series), a DataFrame cannot.\n",
    "\n",
    "Furthermore,  `pd.DataFrame`  takes in an additional  `columns`  keyword argument, which represents the labels for the columns (similar to how  `index`  represents the row labels).\n",
    "\n",
    "The code below shows how to use the  `pd.DataFrame`  constructor."
   ]
  },
  {
   "cell_type": "code",
   "execution_count": null,
   "metadata": {},
   "outputs": [],
   "source": [
    "df = pd.DataFrame()\n",
    "df"
   ]
  },
  {
   "cell_type": "code",
   "execution_count": null,
   "metadata": {},
   "outputs": [],
   "source": [
    "df = pd.DataFrame([5, 6])\n",
    "df"
   ]
  },
  {
   "cell_type": "code",
   "execution_count": null,
   "metadata": {},
   "outputs": [],
   "source": [
    "df = pd.DataFrame([[5,6]])\n",
    "df"
   ]
  },
  {
   "cell_type": "code",
   "execution_count": null,
   "metadata": {},
   "outputs": [],
   "source": [
    "df = pd.DataFrame([[5, 6], [1, 3]],\n",
    "                  index=['r1', 'r2'],\n",
    "                  columns=['c1', 'c2'])\n",
    "df"
   ]
  },
  {
   "cell_type": "code",
   "execution_count": null,
   "metadata": {},
   "outputs": [],
   "source": [
    "df = pd.DataFrame({'c1': [1, 2], 'c2': [3, 4]},\n",
    "                  index=['r1', 'r2'])\n",
    "df"
   ]
  },
  {
   "cell_type": "markdown",
   "metadata": {},
   "source": [
    "> Note: Note that when we use a Python dictionary for initialization, the DataFrame takes the dictionary's keys as its column labels."
   ]
  },
  {
   "cell_type": "markdown",
   "metadata": {},
   "source": [
    "### B. Upcasting"
   ]
  },
  {
   "cell_type": "markdown",
   "metadata": {},
   "source": [
    "When we initialize a DataFrame of mixed types, upcasting occurs on a per-column basis. The  `dtypes`  property returns the types in each column as a Series of types.\n",
    "\n",
    "The code below shows how upcasting works in DataFrames. You'll notice that upcasting only occurs in the first column for the DataFrame below, because the second column's values are both integers."
   ]
  },
  {
   "cell_type": "code",
   "execution_count": null,
   "metadata": {},
   "outputs": [],
   "source": [
    "upcast = pd.DataFrame([[5, 6], [1.2, 3]])\n",
    "upcast"
   ]
  },
  {
   "cell_type": "code",
   "execution_count": null,
   "metadata": {},
   "outputs": [],
   "source": [
    "# Datatypes of each column\n",
    "upcast.dtypes"
   ]
  },
  {
   "cell_type": "markdown",
   "metadata": {},
   "source": [
    "### C. Appending rows"
   ]
  },
  {
   "cell_type": "markdown",
   "metadata": {},
   "source": [
    "We can append additional rows to a given DataFrame through the  `append`  function. The required argument for the function is either a Series or DataFrame, representing the row(s) we append.\n",
    "\n",
    "Note that the  `append`  function returns the modified DataFrame but doesn't actually change the original. Furthermore, when we append a Series to the DataFrame, we either need to specify the  `name`  for the series or use the  `ignore_index`  keyword argument. Setting  `ignore_index=True`  will change the row labels to integer indexes.\n",
    "\n",
    "The code below shows example usages of the  `append`  function."
   ]
  },
  {
   "cell_type": "code",
   "execution_count": null,
   "metadata": {},
   "outputs": [],
   "source": [
    "df = pd.DataFrame([[5, 6], [1.2, 3]])\n",
    "ser = pd.Series([0, 0], name='r3')\n",
    "\n",
    "df_app = df.append(ser)\n",
    "df_app"
   ]
  },
  {
   "cell_type": "code",
   "execution_count": null,
   "metadata": {},
   "outputs": [],
   "source": [
    "df_app = df.append(ser, ignore_index=True)\n",
    "df_app"
   ]
  },
  {
   "cell_type": "code",
   "execution_count": null,
   "metadata": {},
   "outputs": [],
   "source": [
    "df2 = pd.DataFrame([[0,0],[9,9]])\n",
    "df_app = df.append(df2)\n",
    "df_app"
   ]
  },
  {
   "cell_type": "markdown",
   "metadata": {},
   "source": [
    "### D. Dropping data"
   ]
  },
  {
   "cell_type": "markdown",
   "metadata": {},
   "source": [
    "We can drop rows or columns from a given DataFrame through the  `drop`  function. There is no required argument, but the keyword arguments of the function gives us two ways to drop rows/columns from a DataFrame.\n",
    "\n",
    "The first way is using the  `labels`  keyword argument to specify the labels of the rows/columns we want to drop. We use this alongside the  `axis`  keyword argument (which has default value of  `0` ) to drop from the rows or columns axis.\n",
    "\n",
    "The second method is to directly use the  `index`  or  `columns`  keyword arguments to specify the labels of the rows or columns directly, without needing to use  `axis` .\n",
    "\n",
    "The code below shows examples on how to use the  `drop`  function."
   ]
  },
  {
   "cell_type": "code",
   "execution_count": null,
   "metadata": {},
   "outputs": [],
   "source": [
    "df = pd.DataFrame({'c1': [1, 2], 'c2': [3, 4],\n",
    "                   'c3': [5, 6]},\n",
    "                  index=['r1', 'r2'])\n",
    "df"
   ]
  },
  {
   "cell_type": "code",
   "execution_count": null,
   "metadata": {},
   "outputs": [],
   "source": [
    "# Drop row r1\n",
    "df_drop = df.drop(labels='r1')\n",
    "df_drop"
   ]
  },
  {
   "cell_type": "code",
   "execution_count": null,
   "metadata": {},
   "outputs": [],
   "source": [
    "# Drop columns c1, c3\n",
    "df_drop = df.drop(labels=['c1', 'c3'], axis=1)\n",
    "df_drop"
   ]
  },
  {
   "cell_type": "code",
   "execution_count": null,
   "metadata": {},
   "outputs": [],
   "source": [
    "df_drop = df.drop(index='r2')\n",
    "df_drop"
   ]
  },
  {
   "cell_type": "code",
   "execution_count": null,
   "metadata": {},
   "outputs": [],
   "source": [
    "df_drop = df.drop(columns='c2')\n",
    "df_drop"
   ]
  },
  {
   "cell_type": "code",
   "execution_count": null,
   "metadata": {},
   "outputs": [],
   "source": [
    "df.drop(index='r2', columns='c2')\n",
    "df_drop"
   ]
  },
  {
   "cell_type": "markdown",
   "metadata": {},
   "source": [
    "Similar to  `append` , the  `drop`  function returns the modified DataFrame but doesn't actually change the original.\n",
    "\n",
    "\n",
    "> Note: When using  `labels`  and  `axis` , we can't drop both rows and columns from the DataFrame."
   ]
  },
  {
   "cell_type": "markdown",
   "metadata": {},
   "source": [
    "## Combining"
   ]
  },
  {
   "cell_type": "markdown",
   "metadata": {},
   "source": [
    "Combine multiple DataFrames through concatenation and merging."
   ]
  },
  {
   "cell_type": "markdown",
   "metadata": {},
   "source": [
    "### Goals:\n",
    "\n",
    "* Understand the methods used to combine DataFrame objects\n",
    "* Write code for combining DataFrames\n",
    "\n",
    "we discussed the  `append`  function for concatenating DataFrame rows. To concatenate multiple DataFrames along either rows or columns, we use the  `pd.concat`  function.\n",
    "\n",
    "The code below shows example usages of  `pd.concat` ."
   ]
  },
  {
   "cell_type": "code",
   "execution_count": null,
   "metadata": {},
   "outputs": [],
   "source": [
    "df1 = pd.DataFrame({'c1':[1,2], 'c2':[3,4]},\n",
    "                   index=['r1','r2'])\n",
    "df1\n"
   ]
  },
  {
   "cell_type": "code",
   "execution_count": null,
   "metadata": {},
   "outputs": [],
   "source": [
    "df2 = pd.DataFrame({'c1':[5,6], 'c2':[7,8]},\n",
    "                   index=['r1','r2'])\n",
    "df2\n"
   ]
  },
  {
   "cell_type": "code",
   "execution_count": null,
   "metadata": {},
   "outputs": [],
   "source": [
    "df3 = pd.DataFrame({'c1':[5,6], 'c2':[7,8]})\n",
    "df3\n"
   ]
  },
  {
   "cell_type": "code",
   "execution_count": null,
   "metadata": {},
   "outputs": [],
   "source": [
    "concat = pd.concat([df1, df2], axis=1)\n",
    "concat"
   ]
  },
  {
   "cell_type": "code",
   "execution_count": null,
   "metadata": {},
   "outputs": [],
   "source": [
    "concat = pd.concat([df2, df1, df3])\n",
    "concat"
   ]
  },
  {
   "cell_type": "code",
   "execution_count": null,
   "metadata": {},
   "outputs": [],
   "source": [
    "concat = pd.concat([df1, df3], axis=1)\n",
    "concat"
   ]
  },
  {
   "cell_type": "markdown",
   "metadata": {},
   "source": [
    "The  `pd.concat`  function takes in a list of pandas objects (normally a list of DataFrames) to concatenate. The function also takes in numerous keyword arguments, with  `axis`  being one of the more important ones. The  `axis`  argument specifies whether we concatenate the rows ( `axis=0` , the default), or concatenate the columns ( `axis=1` ).\n",
    "\n",
    "This works very similarly to [concatenation in NumPy](https://www.educative.io/collection/page/6083138522447872/5629499534213120/5697982787747840/)\n",
    "\n",
    "In the code example, the final call to  `pd.concat`  resulted in a DataFrame with many  `NaN`  values. This is because the row labels for  `df1`  and  `df3`  did not match, so result was padded with  `NaN`  in locations where values did not exist."
   ]
  },
  {
   "cell_type": "markdown",
   "metadata": {},
   "source": [
    "### B. Merging"
   ]
  },
  {
   "cell_type": "markdown",
   "metadata": {},
   "source": [
    "Apart from combining DataFrames through concatenation, we can also merge multiple DataFrames. The function we use is  `pd.merge` , which takes in two DataFrames for its two required arguments.\n",
    "\n",
    "The code below shows how to use  `pd.merge` ."
   ]
  },
  {
   "cell_type": "code",
   "execution_count": null,
   "metadata": {},
   "outputs": [],
   "source": [
    "mlb_df1 = pd.DataFrame({'name': ['john doe', 'al smith', 'sam black', 'john doe'],\n",
    "                        'pos': ['1B', 'C', 'P', '2B'],\n",
    "                        'year': [2000, 2004, 2008, 2003]})\n",
    "mlb_df1"
   ]
  },
  {
   "cell_type": "code",
   "execution_count": null,
   "metadata": {},
   "outputs": [],
   "source": [
    "mlb_df2 = pd.DataFrame({'name': ['john doe', 'al smith', 'jack lee'],\n",
    "                        'year': [2000, 2004, 2012],\n",
    "                        'rbi': [80, 100, 12]})\n",
    "mlb_df2                        "
   ]
  },
  {
   "cell_type": "code",
   "execution_count": null,
   "metadata": {},
   "outputs": [],
   "source": [
    "mlb_merged = pd.merge(mlb_df1, mlb_df2)\n",
    "mlb_merged"
   ]
  },
  {
   "cell_type": "markdown",
   "metadata": {},
   "source": [
    "Without using any keyword arguments,  `pd.merge`  joins two DataFrames using all their common column labels. In the code example, the common labels between  `mlb_df1`  and  `mlb_df2`  were  `name`  and  `year` .\n",
    "\n",
    "The rows that contain the exact same values for the common column labels will be merged. Since  `'john doe'`  for year  `2000`  was in both  `mlb_df1`  and  `mlb_df2` , its row was merged. However,  `'john doe'`  for year  `2003`  was only in  `mlb_df1` , so its row was not merged.\n",
    "\n",
    "The  `pd.merge`  function takes in many keyword arguments, but often none are needed to properly merge two DataFrames."
   ]
  },
  {
   "cell_type": "markdown",
   "metadata": {},
   "source": [
    "## Indexing\n",
    "\n",
    "Understand how DataFrame values can be accessed via indexing."
   ]
  },
  {
   "cell_type": "markdown",
   "metadata": {},
   "source": [
    "### Goals:\n",
    "\n",
    "* Explore how to index a DataFrame to retrieve rows and columns\n",
    "* Write code for indexing a DataFrame"
   ]
  },
  {
   "cell_type": "markdown",
   "metadata": {},
   "source": [
    "### A. Direct indexing"
   ]
  },
  {
   "cell_type": "markdown",
   "metadata": {},
   "source": [
    "When indexing into a DataFrame, we can treat the DataFrame as a dictionary of Series objects, where each column represents a Series. Each column label then becomes a key, allowing us to directly retrieve columns using dictionary-like bracket notation.\n",
    "\n",
    "The code below shows how to directly index into a DataFrame's columns."
   ]
  },
  {
   "cell_type": "code",
   "execution_count": null,
   "metadata": {},
   "outputs": [],
   "source": [
    "df = pd.DataFrame({'c1': [1, 2], 'c2': [3, 4],\n",
    "                   'c3': [5, 6]}, index=['r1', 'r2'])\n",
    "col1 = df['c1']\n",
    "col1"
   ]
  },
  {
   "cell_type": "code",
   "execution_count": null,
   "metadata": {},
   "outputs": [],
   "source": [
    "col1_df = df[['c1']]\n",
    "col1_df"
   ]
  },
  {
   "cell_type": "code",
   "execution_count": null,
   "metadata": {},
   "outputs": [],
   "source": [
    "col23 = df[['c2', 'c3']]\n",
    "col23"
   ]
  },
  {
   "cell_type": "markdown",
   "metadata": {},
   "source": [
    "Note that when we use a single column label inside the bracket (as was the case for  `col1`  in the code example), the output is a Series representing the corresponding column. When we use a list of column labels (as was the case for  `col1_df`  and  `col23` ), the output is a DataFrame that contains the corresponding columns.\n",
    "\n",
    "We can also use direct indexing to retrieve a subset of the rows (as a DataFrame). However, we can only retrieve rows based on slices, rather than specifying particular rows.\n",
    "\n",
    "The code below shows how to directly index into a DataFrame's rows."
   ]
  },
  {
   "cell_type": "code",
   "execution_count": null,
   "metadata": {},
   "outputs": [],
   "source": [
    "df = pd.DataFrame({'c1': [1, 2, 3], 'c2': [4, 5, 6],\n",
    "                   'c3': [7, 8, 9]}, index=['r1', 'r2', 'r3'])\n",
    "df"
   ]
  },
  {
   "cell_type": "code",
   "execution_count": null,
   "metadata": {},
   "outputs": [],
   "source": [
    "first_two_rows = df[0:2]\n",
    "first_two_rows"
   ]
  },
  {
   "cell_type": "code",
   "execution_count": null,
   "metadata": {},
   "outputs": [],
   "source": [
    "last_two_rows = df['r2':'r3']\n",
    "last_two_rows"
   ]
  },
  {
   "cell_type": "code",
   "execution_count": null,
   "metadata": {},
   "outputs": [],
   "source": [
    "# Results in KeyError\n",
    "df['r1']"
   ]
  },
  {
   "cell_type": "markdown",
   "metadata": {},
   "source": [
    "You'll notice that when we used integer indexing for the rows, the end index was exclusive (e.g.  `first_two_rows`  excluded the row at index 2). However, when we use row labels, the end index is inclusive (e.g.  `last_two_rows`  included the row labeled  `'r3'` ).\n",
    "\n",
    "Furthermore, when we tried to retrieve a single row based on its label, we received a  `KeyError` . This is because the DataFrame treated  `'r1'`  as a column label."
   ]
  },
  {
   "cell_type": "markdown",
   "metadata": {},
   "source": [
    "### B. Other indexing"
   ]
  },
  {
   "cell_type": "markdown",
   "metadata": {},
   "source": [
    "Apart from direct indexing, a DataFrame object also contains the  `loc`  and  `iloc`  properties for indexing.\n",
    "\n",
    "We use  `iloc`  to access rows based on their integer index. Using  `iloc`  we can access a single row as a Series, and specify particular rows to access through a list of integers or a boolean array.\n",
    "\n",
    "The code below shows how to use  `iloc`  to access a DataFrame's rows."
   ]
  },
  {
   "cell_type": "code",
   "execution_count": null,
   "metadata": {},
   "outputs": [],
   "source": [
    "df = pd.DataFrame({'c1': [1, 2, 3], 'c2': [4, 5, 6],\n",
    "                   'c3': [7, 8, 9]}, index=['r1', 'r2', 'r3'])\n",
    "                   \n",
    "df"
   ]
  },
  {
   "cell_type": "code",
   "execution_count": null,
   "metadata": {},
   "outputs": [],
   "source": [
    "df.iloc[1]"
   ]
  },
  {
   "cell_type": "code",
   "execution_count": null,
   "metadata": {},
   "outputs": [],
   "source": [
    "df.iloc[[0, 2]]"
   ]
  },
  {
   "cell_type": "code",
   "execution_count": null,
   "metadata": {},
   "outputs": [],
   "source": [
    "bool_list = [False, True, True]\n",
    "df.iloc[bool_list]"
   ]
  },
  {
   "cell_type": "markdown",
   "metadata": {},
   "source": [
    "The  `loc`  property provides the same row indexing functionality as  `iloc` , but uses row labels rather than integer indexes. Furthermore, with  `loc`  we can perform column indexing along with row indexing, and set new values in a DataFrame for specific rows and columns.\n",
    "\n",
    "The code below shows example usages of  `loc` ."
   ]
  },
  {
   "cell_type": "code",
   "execution_count": null,
   "metadata": {},
   "outputs": [],
   "source": [
    "df = pd.DataFrame({'c1': [1, 2, 3], 'c2': [4, 5, 6],\n",
    "                   'c3': [7, 8, 9]}, index=['r1', 'r2', 'r3'])\n",
    "                   \n",
    "df"
   ]
  },
  {
   "cell_type": "code",
   "execution_count": null,
   "metadata": {},
   "outputs": [],
   "source": [
    "df.loc['r2']"
   ]
  },
  {
   "cell_type": "code",
   "execution_count": null,
   "metadata": {},
   "outputs": [],
   "source": [
    "bool_list = [False, True, True]\n",
    "df.loc[bool_list]"
   ]
  },
  {
   "cell_type": "code",
   "execution_count": null,
   "metadata": {},
   "outputs": [],
   "source": [
    "single_val = df.loc['r1', 'c2']\n",
    "single_val"
   ]
  },
  {
   "cell_type": "code",
   "execution_count": null,
   "metadata": {},
   "outputs": [],
   "source": [
    "df.loc[['r1', 'r3'], 'c2']"
   ]
  },
  {
   "cell_type": "code",
   "execution_count": null,
   "metadata": {},
   "outputs": [],
   "source": [
    "df.loc[['r1', 'r3'], 'c2'] = 0\n",
    "df"
   ]
  },
  {
   "cell_type": "markdown",
   "metadata": {},
   "source": [
    "You'll notice that the way we access rows and columns together with  `loc`  is similar to how we access 2-D NumPy arrays.\n",
    "\n",
    "Since we can't access columns on their own with  `loc`  or  `iloc` , we still use bracket indexing when retrieving columns of a DataFrame."
   ]
  },
  {
   "cell_type": "markdown",
   "metadata": {},
   "source": [
    "## File I/O\n",
    "\n",
    "Read from and write to different types of files in pandas."
   ]
  },
  {
   "cell_type": "markdown",
   "metadata": {},
   "source": [
    "### Goals:\n",
    "\n",
    "* Explore how to handle file input/output using pandas\n",
    "* Write code for processing data files"
   ]
  },
  {
   "cell_type": "markdown",
   "metadata": {},
   "source": [
    "### A. Reading data"
   ]
  },
  {
   "cell_type": "markdown",
   "metadata": {},
   "source": [
    "One of the most important features in pandas is the ability to read from data files. pandas accepts a variety of file formats, ranging from CSV and Excel spreadsheets to SQL and even HTML. A full list of the available file formats for pandas can be found [here](http://pandas.pydata.org/pandas-docs/stable/io.html).\n",
    "\n",
    "In this chapter we'll focus on three of the most common file types: [CSV](https://en.wikipedia.org/wiki/Comma-separated_values), [XLSX (Microsoft Excel)](https://en.wikipedia.org/wiki/Microsoft_Excel), and [JSON](https://en.wikipedia.org/wiki/JSON). For reading data from a file, we use either the  `read_csv` ,  `read_excel` , or  `read_json`  function, depending on the file type.\n",
    "\n",
    "Each of the file reading functions takes in a file path as the only required argument. Each function has numerous keyword arguments, so we won't get into most of them. However, we'll still discuss a couple of the more commonly used keyword arguments.\n",
    "\n",
    "#### CSV\n",
    "\n",
    "A CSV file is pretty straightforward; it's just comma-separated column names and values. When we don't use any keyword arguments,  `pd.read_csv`  returns a DataFrame with integer indexes as row labels, and each comma-separated column name as the column labels.\n",
    "\n",
    "However, when we set the  `index_col`  keyword argument, we specify which column we want to use as the row labels. In our example, we used the first and second column as row labels.\n",
    "\n",
    "The code below shows how to use  `pd.read_csv` ."
   ]
  },
  {
   "cell_type": "code",
   "execution_count": null,
   "metadata": {},
   "outputs": [],
   "source": [
    "# data.csv contains baseball data\n",
    "df = pd.read_csv('datasets/data.csv')\n",
    "df"
   ]
  },
  {
   "cell_type": "code",
   "execution_count": null,
   "metadata": {},
   "outputs": [],
   "source": [
    "df = pd.read_csv('datasets/data.csv', index_col=0)\n",
    "df"
   ]
  },
  {
   "cell_type": "code",
   "execution_count": null,
   "metadata": {},
   "outputs": [],
   "source": [
    "df = pd.read_csv('datasets/data.csv', index_col=1)\n",
    "df"
   ]
  },
  {
   "cell_type": "markdown",
   "metadata": {},
   "source": [
    "#### Excel\n",
    "\n",
    "An Excel spreadsheet is similar to a CSV in its usage of rows and columns. However, the file path for  `pd.read_excel`  normally specifies an Excel workbook, which can contain multiple spreadsheets.\n",
    "\n",
    "When we don't use any keyword arguments, the returned DataFrame from  `pd.read_excel`  contains the first sheet of the Excel workbook. However, when we set the  `sheet_name`  keyword argument, we can obtain a specific spreadsheet by passing in its integer index or name.\n",
    "\n",
    "Furthermore, we obtain an ordered dictionary of spreadsheets by passing in a list of integers or sheet names. Setting  `sheet_name=None`  returns all the sheets in an ordered dictionary.\n",
    "\n",
    "Like  `pd.read_csv` , we can also specify the  `index_col`  argument in  `pd.read_excel` ."
   ]
  },
  {
   "cell_type": "code",
   "execution_count": null,
   "metadata": {},
   "outputs": [],
   "source": [
    "# data.csv contains baseball data\n",
    "df = pd.read_excel('data.xlsx')\n",
    "\n",
    "# Newline to separate print statements\n",
    "print('{}\\n'.format(df))\n",
    "\n",
    "print('Sheet 1 (0-indexed) DataFrame:')\n",
    "df = pd.read_excel('data.xlsx', sheet_name=1)\n",
    "print('{}\\n'.format(df))\n",
    "\n",
    "print('MIL DataFrame:')\n",
    "df = pd.read_excel('data.xlsx', sheet_name='MIL')\n",
    "print('{}\\n'.format(df))\n",
    "\n",
    "# Sheets 0 and 1\n",
    "df_dict = pd.read_excel('data.xlsx', sheet_name=[0, 1])\n",
    "print('{}\\n'.format(df_dict[1]))\n",
    "\n",
    "# All Sheets\n",
    "df_dict = pd.read_excel('data.xlsx', sheet_name=None)\n",
    "print(df_dict.keys())"
   ]
  },
  {
   "cell_type": "markdown",
   "metadata": {},
   "source": [
    "#### JSON\n",
    "\n",
    "JSON data is pretty similar to a Python dictionary. In fact, you can use the  `json`  module (part of the Python standard library) to convert between dictionaries and JSON data. The file path for  `pd.read_json`  specifies a file containing JSON data.\n",
    "\n",
    "When we don't use any keyword arguments,  `pd.read_json`  treats each outer key of the JSON data as a column label and each inner key as a row label. In the code example below, you can see  `df1`  treats the player's names as column labels.\n",
    "\n",
    "However, when we set  `orient='index'` , the outer keys are treated as row labels and the inner keys are treated as column labels."
   ]
  },
  {
   "cell_type": "code",
   "execution_count": null,
   "metadata": {},
   "outputs": [],
   "source": [
    "# data is the JSON data (as a Python dict)\n",
    "data={'jack doe': {'pos': '1B', 'HR': 4}, 'tom june': {'pos': 'P', 'HR': 31}}\n",
    "print('{}\\n'.format(data))"
   ]
  },
  {
   "cell_type": "code",
   "execution_count": null,
   "metadata": {},
   "outputs": [],
   "source": [
    "df1 = pd.read_json('data.json')\n",
    "print('{}\\n'.format(df1))\n",
    "\n",
    "df2 = pd.read_json('data.json', orient='index')\n",
    "print('{}\\n'.format(df2))"
   ]
  },
  {
   "cell_type": "markdown",
   "metadata": {},
   "source": [
    "### B. Writing to files"
   ]
  },
  {
   "cell_type": "markdown",
   "metadata": {},
   "source": [
    "We can also use pandas to write data to a file. Focusing again on CSV, Excel, and JSON, the functions we use to write to files are  `to_csv` ,  `to_excel` , and  `to_json` .\n",
    "\n",
    "Similar to the file reading functions, each of the writing functions has dozens of keyword arguments. Therefore, we'll only go over a few of the commonly used ones.\n",
    "\n",
    "#### CSV\n",
    "\n",
    "Note that when we don't use any keyword arguments,  `to_csv`  will write the row labels as the first column in the CSV file. This is fine if the row labels are meaningful, but if they are just integers we don't really want them in the CSV file. In that case, we set  `index=False` , to specify that we don't write the row labels into the CSV file."
   ]
  },
  {
   "cell_type": "code",
   "execution_count": null,
   "metadata": {},
   "outputs": [],
   "source": [
    "# Predefined mlb_df\n",
    "print('{}\\n'.format(mlb_df))\n",
    "\n",
    "# Index is kept when writing\n",
    "mlb_df.to_csv('data.csv')\n",
    "df = pd.read_csv('data.csv')\n",
    "print('{}\\n'.format(df))\n",
    "\n",
    "# Index is not kept when writing\n",
    "mlb_df.to_csv('data.csv', index=False)\n",
    "df = pd.read_csv('data.csv')\n",
    "print('{}\\n'.format(df))"
   ]
  },
  {
   "cell_type": "markdown",
   "metadata": {},
   "source": [
    "#### Excel\n",
    "\n",
    "The basic  `to_excel`  function will only write a single DataFrame to a spreadsheet. However, if we want to write multiple spreadsheets in an Excel workbook, we first load the Excel file into a  `pd.ExcelWriter`  then use the ExcelWriter as the first argument to  `to_excel` .\n",
    "\n",
    "When we don't specify the  `sheet_name`  keyword argument, the Excel spreadsheet we write to is named  `'Sheet1'` . We can pass in custom names into  `sheet_name`  to avoid constantly writing to  `'Sheet1'` ."
   ]
  },
  {
   "cell_type": "code",
   "execution_count": null,
   "metadata": {},
   "outputs": [],
   "source": [
    "# Predefined DataFrames\n",
    "print('{}\\n'.format(mlb_df1))\n",
    "print('{}\\n'.format(mlb_df2))\n",
    "\n",
    "with pd.ExcelWriter('data.xlsx') as writer:\n",
    "    mlb_df1.to_excel(writer, index=False, sheet_name='NYY')\n",
    "    mlb_df2.to_excel(writer, index=False, sheet_name='BOS')\n",
    "  \n",
    "df_dict = pd.read_excel('data.xlsx', sheet_name=None)\n",
    "print(df_dict.keys())\n",
    "print('{}\\n'.format(df_dict['BOS']))"
   ]
  },
  {
   "cell_type": "markdown",
   "metadata": {},
   "source": [
    "#### JSON\n",
    "\n",
    "The  `to_json`  function also uses the  `orient`  keyword argument that was part of  `pd.read_json` . Like in  `pd.read_json` , setting  `orient='index'`  will set the outer keys of the JSON data to the row labels and the inner keys to the column labels.\n",
    "\n",
    "The code below shows how to use  `to_json` ."
   ]
  },
  {
   "cell_type": "code",
   "execution_count": null,
   "metadata": {},
   "outputs": [],
   "source": [
    "# Predefined df\n",
    "df"
   ]
  },
  {
   "cell_type": "code",
   "execution_count": null,
   "metadata": {},
   "outputs": [],
   "source": [
    "df.to_json('datasets/data.json')\n",
    "df2 = pd.read_json('datasets/data.json')\n",
    "df2"
   ]
  },
  {
   "cell_type": "code",
   "execution_count": null,
   "metadata": {},
   "outputs": [],
   "source": [
    "df.to_json('datasets/data.json', orient='index')\n",
    "df2 = pd.read_json('datasets/data.json')\n",
    "df2"
   ]
  },
  {
   "cell_type": "code",
   "execution_count": null,
   "metadata": {},
   "outputs": [],
   "source": [
    "df2 = pd.read_json('datasets/data.json', orient='index')\n",
    "df2"
   ]
  },
  {
   "cell_type": "markdown",
   "metadata": {},
   "source": [
    "## Grouping\n",
    "\n",
    "Exploring how DataFrames can be grouped based on particular columns."
   ]
  },
  {
   "cell_type": "markdown",
   "metadata": {},
   "source": [
    "### Goals:\n",
    "\n",
    "* Exploring how to group DataFrames by columns\n",
    "* Write code to retrieve home run statistics through DataFrame grouping"
   ]
  },
  {
   "cell_type": "markdown",
   "metadata": {},
   "source": [
    "### A. Grouping by column"
   ]
  },
  {
   "cell_type": "markdown",
   "metadata": {},
   "source": [
    "When dealing with large amounts of data, it is usually a good idea to group the data by common categories. For example, we could group a large dataset of MLB player statistics by year, so we can deal with each year's data separately.\n",
    "\n",
    "With pandas DataFrames, we can perform dataset grouping with the  `groupby`  function. A common usage of the function is to group a DataFrame by values from a particular column, e.g. a column representing years.\n",
    "\n",
    "The code below shows how to use the  `groupby`  function, with the example of grouping MLB data by year."
   ]
  },
  {
   "cell_type": "code",
   "execution_count": null,
   "metadata": {},
   "outputs": [],
   "source": [
    "mlb = pd.read_csv(\"datasets/mlb.csv\")\n",
    "mlb"
   ]
  },
  {
   "cell_type": "code",
   "execution_count": null,
   "metadata": {},
   "outputs": [],
   "source": [
    "groups = mlb.groupby('yearID')\n",
    "for name, group in groups:\n",
    "    print('Year: {}'.format(name))\n",
    "    print('{}\\n'.format(group))"
   ]
  },
  {
   "cell_type": "code",
   "execution_count": null,
   "metadata": {},
   "outputs": [],
   "source": [
    "groups.get_group(2016)"
   ]
  },
  {
   "cell_type": "code",
   "execution_count": null,
   "metadata": {},
   "outputs": [],
   "source": [
    "groups.sum()"
   ]
  },
  {
   "cell_type": "code",
   "execution_count": null,
   "metadata": {},
   "outputs": [],
   "source": [
    "groups.mean()\n"
   ]
  },
  {
   "cell_type": "markdown",
   "metadata": {},
   "source": [
    "The grouping code example produced three DataFrames for the years 2015, 2016, and 2017. The three DataFrame groups are contained in the  `groups`  variable, and we used its  `sum`  and  `mean`  functions to retrieve the total and average per-year statistics.\n",
    "\n",
    "In addition to aggregation functions like  `sum`  and  `mean` , we can also filter the groups using  `filter` . The  `filter`  function takes in another function as its required argument, which specifies how we want to filter the groups. The output of  `filter`  is the concatenation of all the groups that pass the filter.\n",
    "\n",
    "The code below shows how to use the  `filter`  function."
   ]
  },
  {
   "cell_type": "code",
   "execution_count": null,
   "metadata": {},
   "outputs": [],
   "source": [
    "no2015 = groups.filter(lambda x: x.name > 2015)\n",
    "no2015"
   ]
  },
  {
   "cell_type": "markdown",
   "metadata": {},
   "source": [
    "In the above code example, the lambda function passed into  `filter`  returns  `True`  if the group (represented as  `x` ) represents a year greater than 2015. The output is the concatenation of the 2016 and 2017 groups."
   ]
  },
  {
   "cell_type": "markdown",
   "metadata": {},
   "source": [
    "### B. Multiple columns"
   ]
  },
  {
   "cell_type": "markdown",
   "metadata": {},
   "source": [
    "DataFrame grouping is not just limited to a single column. Rather than passing a single column label into  `groupby` , we can use a list of column labels to specify grouping by multiple columns.\n",
    "\n",
    "Grouping by multiple columns can be useful when multiple data features have many different values. For example, if our dataset consisted of MLB players, grouping by both team and year would give us an organized way to view a team's roster throughout the years."
   ]
  },
  {
   "cell_type": "code",
   "execution_count": null,
   "metadata": {},
   "outputs": [],
   "source": [
    "player_df = pd.read_csv('datasets/player.csv')\n",
    "player_df"
   ]
  },
  {
   "cell_type": "code",
   "execution_count": null,
   "metadata": {},
   "outputs": [],
   "source": [
    "# player_df is predefined\n",
    "groups = player_df.groupby(['yearID', 'teamID'])\n",
    "\n",
    "for name, group in groups:\n",
    "    print('Year, Team: {}'.format(name))\n",
    "    display(group)"
   ]
  },
  {
   "cell_type": "markdown",
   "metadata": {},
   "source": [
    "In the code above, we grouped the MLB data by both year and team, resulting in each group's name being a tuple of year and team. Using the  `sum`  function, we obtained the annual total hits for each team."
   ]
  },
  {
   "cell_type": "markdown",
   "metadata": {},
   "source": [
    "## Features\n",
    "\n",
    "Explore the different feature types that can be part of a dataset."
   ]
  },
  {
   "cell_type": "markdown",
   "metadata": {},
   "source": [
    "### Goals:\n",
    "\n",
    "* Understand the difference between quantitative and categorical features\n",
    "* Explore the methods to manipulate features and add them to a DataFrame\n",
    "* Write code to add MLB statistics to a DataFrame"
   ]
  },
  {
   "cell_type": "markdown",
   "metadata": {},
   "source": [
    "### A. Quantitative vs. categorical"
   ]
  },
  {
   "cell_type": "markdown",
   "metadata": {},
   "source": [
    "We often refer to the columns of a DataFrame as the  *features*  of the dataset that it represents. These features can be quantitative or categorical.\n",
    "\n",
    "A quantitative feature, e.g. height or weight, is a feature that can be measured numerically. These are features we could calculate the sum, mean, or other numerical metrics for.\n",
    "\n",
    "A categorical feature, e.g. gender or birthplace, is one where the values are categories that could be used to group the dataset. These are the features we would use with the  `groupby`  function from the previous chapter.\n",
    "\n",
    "Some features can be both quantitative or categorical, depending on the context they are used. For example, we could use year of birth as a quantitative feature if we were trying to find statistics such as the average birth year for a particular dataset. On the other hand, we could also use it as a categorical feature and group the data by the different years of birth."
   ]
  },
  {
   "cell_type": "markdown",
   "metadata": {},
   "source": [
    "### B. Quantitative features"
   ]
  },
  {
   "cell_type": "markdown",
   "metadata": {},
   "source": [
    "we focused on grouping a dataset by its categorical features. We'll now describe methods for dealing with quantitative features.\n",
    "\n",
    "Two of the most important functions to use with quantitative features are  `sum`  and  `mean` . In the previous chapter we also introduced  `sum`  and  `mean`  functions, which were used to aggregate quantitative features for each a group.\n",
    "\n",
    "However, while the functions from the previous chapter were applied to the output of  `groupby` , the ones we use in this chapter are applied to individual DataFrames.\n",
    "\n",
    "The code below shows example usages of  `sum`  and  `mean` . The  `df`  DataFrame represents three different speed tests (columns) for three different processors (rows). The data values correspond to the seconds taken for a given speed test and processor."
   ]
  },
  {
   "cell_type": "code",
   "execution_count": null,
   "metadata": {},
   "outputs": [],
   "source": [
    "df = pd.DataFrame({\n",
    "  'T1': [10, 15, 8],\n",
    "  'T2': [25, 27, 25],\n",
    "  'T3': [16, 15, 10]})\n",
    "df"
   ]
  },
  {
   "cell_type": "code",
   "execution_count": null,
   "metadata": {},
   "outputs": [],
   "source": [
    "df.sum()"
   ]
  },
  {
   "cell_type": "code",
   "execution_count": null,
   "metadata": {},
   "outputs": [],
   "source": [
    "df.sum(axis=1)"
   ]
  },
  {
   "cell_type": "code",
   "execution_count": null,
   "metadata": {},
   "outputs": [],
   "source": [
    "df.mean()"
   ]
  },
  {
   "cell_type": "code",
   "execution_count": null,
   "metadata": {},
   "outputs": [],
   "source": [
    "df.mean(axis=1)"
   ]
  },
  {
   "cell_type": "markdown",
   "metadata": {},
   "source": [
    "Neither function takes in a required argument. The most commonly used keyword argument for both functions is  `axis` . The  `axis`  argument specifies whether to aggregate over rows ( `axis=0` , the default), or columns ( `axis=1` ).\n",
    "\n",
    "In the code example, we used a DataFrame representing speed tests for three different processors (measured in seconds). When we used no argument, equivalent to using  `axis=0` , the  `sum`  and  `mean`  functions calculated total and average times for each test. When we used  `axis=1` , the  `sum`  and  `mean`  functions calculated total and average test times (across all three tests) for each processor."
   ]
  },
  {
   "cell_type": "markdown",
   "metadata": {},
   "source": [
    "### C. Weighted features"
   ]
  },
  {
   "cell_type": "markdown",
   "metadata": {},
   "source": [
    "Along with aggregating quantitative features, we can also apply weights to them. We do this through the  `multiply`  function.\n",
    "\n",
    "The  `multiply`  function takes in a list of weights or a constant as its required argument. If a constant is used, the constant is multiplied across all the rows or columns (depending on the value of  `axis` ). If a list is used, then the position of each weight in the list corresponds to which row/column it is multiplied to.\n",
    "\n",
    "In contrast with  `sum`  and  `mean` , the default  `axis`  for  `multiply`  is the columns axis. Therefore, to multiply weights along the rows of a DataFrame, we need to explicitly set  `axis=0` .\n",
    "\n",
    "The code below shows example usages of  `multiply` . The  `df`  DataFrame represents three different speed tests (columns) for two different processors (rows)."
   ]
  },
  {
   "cell_type": "code",
   "execution_count": null,
   "metadata": {},
   "outputs": [],
   "source": [
    "df = pd.DataFrame({\n",
    "  'T1': [0.1, 150.],\n",
    "  'T2': [0.25, 240.],\n",
    "  'T3': [0.16, 100.]})\n",
    "  \n",
    "df"
   ]
  },
  {
   "cell_type": "code",
   "execution_count": null,
   "metadata": {},
   "outputs": [],
   "source": [
    "df.multiply(2)"
   ]
  },
  {
   "cell_type": "code",
   "execution_count": null,
   "metadata": {},
   "outputs": [],
   "source": [
    "df_ms = df.multiply([1000, 1], axis=0)\n",
    "df_ms"
   ]
  },
  {
   "cell_type": "code",
   "execution_count": null,
   "metadata": {},
   "outputs": [],
   "source": [
    "df_w = df_ms.multiply([1,0.5,1])\n",
    "df_w"
   ]
  },
  {
   "cell_type": "code",
   "execution_count": null,
   "metadata": {},
   "outputs": [],
   "source": [
    "df_w.sum(axis=1)"
   ]
  },
  {
   "cell_type": "markdown",
   "metadata": {},
   "source": [
    "In the code above, the test times for processor  `'p1'`  were measured in seconds, while the times for  `'p2'`  were in milliseconds. So we made all the times in milliseconds by multiplying the values of  `'p1'`  by  `1000` .\n",
    "\n",
    "Then we multiplied the values in  `'T2'`  by  `0.5` , since those tests were done with two processors rather than one. This makes the final  `sum`  a  *weighted sum*  across the three columns."
   ]
  },
  {
   "cell_type": "markdown",
   "metadata": {},
   "source": [
    "## Filtering\n",
    "\n",
    "Filter DataFrames for values that fit certain conditions."
   ]
  },
  {
   "cell_type": "markdown",
   "metadata": {},
   "source": [
    "### Goals:\n",
    "\n",
    "* Understand how to filter a DataFrame based on filter conditions\n",
    "* Write code to filter a dataset of MLB statistics"
   ]
  },
  {
   "cell_type": "markdown",
   "metadata": {},
   "source": [
    "### A. Filter conditions"
   ]
  },
  {
   "cell_type": "markdown",
   "metadata": {},
   "source": [
    "In the Data Manipulation section, we used relation operations on NumPy arrays to create  *filter conditions* . These filter conditions returned boolean arrays, which represented the locations of the elements that pass the filter.\n",
    "\n",
    "In pandas, we can also create filter conditions for DataFrames. Specifically, we can use relation operations on a DataFrame's column features, which will return a boolean Series representing the DataFrame rows that pass the filter.\n",
    "\n",
    "The code below demonstrates how to use relation operations as filter conditions."
   ]
  },
  {
   "cell_type": "code",
   "execution_count": null,
   "metadata": {},
   "outputs": [],
   "source": [
    "df = pd.DataFrame({\n",
    "  'playerID': ['bettsmo01', 'canoro01', 'cruzne02', 'ortizda01', 'cruzne02'],\n",
    "  'yearID': [2016, 2016, 2016, 2016, 2017],\n",
    "  'teamID': ['BOS', 'SEA', 'SEA', 'BOS', 'SEA'],\n",
    "  'HR': [31, 39, 43, 38, 39]})\n",
    "df "
   ]
  },
  {
   "cell_type": "code",
   "execution_count": null,
   "metadata": {},
   "outputs": [],
   "source": [
    "cruzne02 = df['playerID'] == 'cruzne02'\n",
    "cruzne02"
   ]
  },
  {
   "cell_type": "code",
   "execution_count": null,
   "metadata": {},
   "outputs": [],
   "source": [
    "hr40 = df['HR'] > 40\n",
    "hr40"
   ]
  },
  {
   "cell_type": "code",
   "execution_count": null,
   "metadata": {},
   "outputs": [],
   "source": [
    "notbos = df['teamID'] != 'BOS'\n",
    "notbos"
   ]
  },
  {
   "cell_type": "markdown",
   "metadata": {},
   "source": [
    "In the code above, we created filter conditions for  `df`  based on the columns labeled  `'playerID'` ,  `'HR'` , and  `'teamID'` . The boolean Series outputs have  `True`  for the rows that pass the filter, and  `False`  for the rows that don't."
   ]
  },
  {
   "cell_type": "markdown",
   "metadata": {},
   "source": [
    "### B. Filters from functions"
   ]
  },
  {
   "cell_type": "markdown",
   "metadata": {},
   "source": [
    "Apart from relation operations, pandas provides various functions for creating specific filter conditions. For columns with string values, we can use  `str.startswith` ,  `str.endswith` , and  `str.contains`  to filter for specific strings. These functions work the exact same as their namesakes from the Python standard library.\n",
    "\n",
    "The code below shows various examples of string filter conditions. In the final example using  `str.contains` , we prepend the  `~`  operation, which negates the filter condition. This means our final filter condition checked for player IDs that  *do not*  contain  `'o'` ."
   ]
  },
  {
   "cell_type": "code",
   "execution_count": null,
   "metadata": {},
   "outputs": [],
   "source": [
    "df = pd.DataFrame({\n",
    "  'playerID': ['bettsmo01', 'canoro01', 'cruzne02', 'ortizda01', 'cruzne02'],\n",
    "  'yearID': [2016, 2016, 2016, 2016, 2017],\n",
    "  'teamID': ['BOS', 'SEA', 'SEA', 'BOS', 'SEA'],\n",
    "  'HR': [31, 39, 43, 38, 39]})\n",
    "df  "
   ]
  },
  {
   "cell_type": "code",
   "execution_count": null,
   "metadata": {},
   "outputs": [],
   "source": [
    "str_f1 = df['playerID'].str.startswith('c')\n",
    "str_f1"
   ]
  },
  {
   "cell_type": "code",
   "execution_count": null,
   "metadata": {},
   "outputs": [],
   "source": [
    "str_f2 = df['teamID'].str.endswith('S')\n",
    "str_f2"
   ]
  },
  {
   "cell_type": "code",
   "execution_count": null,
   "metadata": {},
   "outputs": [],
   "source": [
    "str_f3 = ~df['playerID'].str.contains('o')\n",
    "str_f3"
   ]
  },
  {
   "cell_type": "markdown",
   "metadata": {},
   "source": [
    "We can also create filter conditions that check for values in a specific set, by using the  `isin`  function. The function only takes in one argument, which is a list of values that we want to filter for.\n",
    "\n",
    "The code below demonstrates how to use the  `isin`  function for filter conditions."
   ]
  },
  {
   "cell_type": "code",
   "execution_count": null,
   "metadata": {},
   "outputs": [],
   "source": [
    "df = pd.DataFrame({\n",
    "  'playerID': ['bettsmo01', 'canoro01', 'cruzne02', 'ortizda01', 'cruzne02'],\n",
    "  'yearID': [2016, 2016, 2016, 2016, 2017],\n",
    "  'teamID': ['BOS', 'SEA', 'SEA', 'BOS', 'SEA'],\n",
    "  'HR': [31, 39, 43, 38, 39]})\n",
    "  \n",
    "df"
   ]
  },
  {
   "cell_type": "code",
   "execution_count": null,
   "metadata": {},
   "outputs": [],
   "source": [
    "isin_f1 = df['playerID'].isin(['cruzne02',\n",
    "                               'ortizda01'])\n",
    "isin_f1"
   ]
  },
  {
   "cell_type": "code",
   "execution_count": null,
   "metadata": {},
   "outputs": [],
   "source": [
    "isin_f2 = df['yearID'].isin([2015, 2017])\n",
    "isin_f2"
   ]
  },
  {
   "cell_type": "markdown",
   "metadata": {},
   "source": [
    "In pandas, when a Series or DataFrame has a missing value at a location, it is represented by  `NaN` . The  `NaN`  value in pandas is equivalent to  `np.nan`  in NumPy.\n",
    "\n",
    "Similar to Numpy, we cannot use a relation operation to create a filter condition for  `NaN`  values. Instead, we use the  `isna`  and  `notna`  functions."
   ]
  },
  {
   "cell_type": "code",
   "execution_count": null,
   "metadata": {},
   "outputs": [],
   "source": [
    "df = pd.DataFrame({\n",
    "  'playerID': ['bettsmo01', 'canoro01', 'doejo01'],\n",
    "  'yearID': [2016, 2016, 2017],\n",
    "  'teamID': ['BOS', 'SEA', np.nan],\n",
    "  'HR': [31, 39, 99]})\n",
    "df"
   ]
  },
  {
   "cell_type": "code",
   "execution_count": null,
   "metadata": {},
   "outputs": [],
   "source": [
    "isna = df['teamID'].isna()\n",
    "isna"
   ]
  },
  {
   "cell_type": "code",
   "execution_count": null,
   "metadata": {},
   "outputs": [],
   "source": [
    "notna = df['teamID'].notna()\n",
    "notna"
   ]
  },
  {
   "cell_type": "markdown",
   "metadata": {},
   "source": [
    "The  `isna`  function returns  `True`  in the locations that contain  `NaN`  and  `False`  in the locations that don't, while the  `notna`  function does the opposite."
   ]
  },
  {
   "cell_type": "markdown",
   "metadata": {},
   "source": [
    "### C. Feature filtering"
   ]
  },
  {
   "cell_type": "markdown",
   "metadata": {},
   "source": [
    "It is really easy to filter a DataFrame's rows based on filter conditions. Similar to direct indexing of a DataFrame, we use square brackets. However, the inside of the square brackets will now contain a filter condition.\n",
    "\n",
    "When applying filter conditions within square brackets, we retrieve the rows of the DataFrame that pass the filter condition (i.e. the rows for which the filter condition is  `True` ).\n",
    "\n",
    "The code below shows how to filter using square brackets and filter conditions."
   ]
  },
  {
   "cell_type": "code",
   "execution_count": 154,
   "metadata": {},
   "outputs": [
    {
     "data": {
      "text/html": [
       "<div>\n",
       "<style scoped>\n",
       "    .dataframe tbody tr th:only-of-type {\n",
       "        vertical-align: middle;\n",
       "    }\n",
       "\n",
       "    .dataframe tbody tr th {\n",
       "        vertical-align: top;\n",
       "    }\n",
       "\n",
       "    .dataframe thead th {\n",
       "        text-align: right;\n",
       "    }\n",
       "</style>\n",
       "<table border=\"1\" class=\"dataframe\">\n",
       "  <thead>\n",
       "    <tr style=\"text-align: right;\">\n",
       "      <th></th>\n",
       "      <th>playerID</th>\n",
       "      <th>yearID</th>\n",
       "      <th>teamID</th>\n",
       "      <th>HR</th>\n",
       "    </tr>\n",
       "  </thead>\n",
       "  <tbody>\n",
       "    <tr>\n",
       "      <th>0</th>\n",
       "      <td>bettsmo01</td>\n",
       "      <td>2016</td>\n",
       "      <td>BOS</td>\n",
       "      <td>31</td>\n",
       "    </tr>\n",
       "    <tr>\n",
       "      <th>1</th>\n",
       "      <td>canoro01</td>\n",
       "      <td>2016</td>\n",
       "      <td>SEA</td>\n",
       "      <td>39</td>\n",
       "    </tr>\n",
       "    <tr>\n",
       "      <th>2</th>\n",
       "      <td>cruzne02</td>\n",
       "      <td>2016</td>\n",
       "      <td>SEA</td>\n",
       "      <td>43</td>\n",
       "    </tr>\n",
       "    <tr>\n",
       "      <th>3</th>\n",
       "      <td>ortizda01</td>\n",
       "      <td>2016</td>\n",
       "      <td>BOS</td>\n",
       "      <td>38</td>\n",
       "    </tr>\n",
       "    <tr>\n",
       "      <th>4</th>\n",
       "      <td>bettsmo01</td>\n",
       "      <td>2015</td>\n",
       "      <td>BOS</td>\n",
       "      <td>18</td>\n",
       "    </tr>\n",
       "  </tbody>\n",
       "</table>\n",
       "</div>"
      ],
      "text/plain": [
       "    playerID  yearID teamID  HR\n",
       "0  bettsmo01    2016    BOS  31\n",
       "1   canoro01    2016    SEA  39\n",
       "2   cruzne02    2016    SEA  43\n",
       "3  ortizda01    2016    BOS  38\n",
       "4  bettsmo01    2015    BOS  18"
      ]
     },
     "execution_count": 154,
     "metadata": {},
     "output_type": "execute_result"
    }
   ],
   "source": [
    "df = pd.DataFrame({\n",
    "  'playerID': ['bettsmo01', 'canoro01', 'cruzne02', 'ortizda01', 'bettsmo01'],\n",
    "  'yearID': [2016, 2016, 2016, 2016, 2015],\n",
    "  'teamID': ['BOS', 'SEA', 'SEA', 'BOS', 'BOS'],\n",
    "  'HR': [31, 39, 43, 38, 18]})\n",
    "  \n",
    "df"
   ]
  },
  {
   "cell_type": "code",
   "execution_count": 155,
   "metadata": {},
   "outputs": [
    {
     "data": {
      "text/html": [
       "<div>\n",
       "<style scoped>\n",
       "    .dataframe tbody tr th:only-of-type {\n",
       "        vertical-align: middle;\n",
       "    }\n",
       "\n",
       "    .dataframe tbody tr th {\n",
       "        vertical-align: top;\n",
       "    }\n",
       "\n",
       "    .dataframe thead th {\n",
       "        text-align: right;\n",
       "    }\n",
       "</style>\n",
       "<table border=\"1\" class=\"dataframe\">\n",
       "  <thead>\n",
       "    <tr style=\"text-align: right;\">\n",
       "      <th></th>\n",
       "      <th>playerID</th>\n",
       "      <th>yearID</th>\n",
       "      <th>teamID</th>\n",
       "      <th>HR</th>\n",
       "    </tr>\n",
       "  </thead>\n",
       "  <tbody>\n",
       "    <tr>\n",
       "      <th>2</th>\n",
       "      <td>cruzne02</td>\n",
       "      <td>2016</td>\n",
       "      <td>SEA</td>\n",
       "      <td>43</td>\n",
       "    </tr>\n",
       "  </tbody>\n",
       "</table>\n",
       "</div>"
      ],
      "text/plain": [
       "   playerID  yearID teamID  HR\n",
       "2  cruzne02    2016    SEA  43"
      ]
     },
     "execution_count": 155,
     "metadata": {},
     "output_type": "execute_result"
    }
   ],
   "source": [
    "hr40_df = df[df['HR'] > 40]\n",
    "hr40_df"
   ]
  },
  {
   "cell_type": "code",
   "execution_count": 156,
   "metadata": {},
   "outputs": [
    {
     "data": {
      "text/html": [
       "<div>\n",
       "<style scoped>\n",
       "    .dataframe tbody tr th:only-of-type {\n",
       "        vertical-align: middle;\n",
       "    }\n",
       "\n",
       "    .dataframe tbody tr th {\n",
       "        vertical-align: top;\n",
       "    }\n",
       "\n",
       "    .dataframe thead th {\n",
       "        text-align: right;\n",
       "    }\n",
       "</style>\n",
       "<table border=\"1\" class=\"dataframe\">\n",
       "  <thead>\n",
       "    <tr style=\"text-align: right;\">\n",
       "      <th></th>\n",
       "      <th>playerID</th>\n",
       "      <th>yearID</th>\n",
       "      <th>teamID</th>\n",
       "      <th>HR</th>\n",
       "    </tr>\n",
       "  </thead>\n",
       "  <tbody>\n",
       "    <tr>\n",
       "      <th>4</th>\n",
       "      <td>bettsmo01</td>\n",
       "      <td>2015</td>\n",
       "      <td>BOS</td>\n",
       "      <td>18</td>\n",
       "    </tr>\n",
       "  </tbody>\n",
       "</table>\n",
       "</div>"
      ],
      "text/plain": [
       "    playerID  yearID teamID  HR\n",
       "4  bettsmo01    2015    BOS  18"
      ]
     },
     "execution_count": 156,
     "metadata": {},
     "output_type": "execute_result"
    }
   ],
   "source": [
    "not_hr30_df = df[~(df['HR'] > 30)]\n",
    "not_hr30_df"
   ]
  },
  {
   "cell_type": "code",
   "execution_count": 157,
   "metadata": {},
   "outputs": [
    {
     "data": {
      "text/html": [
       "<div>\n",
       "<style scoped>\n",
       "    .dataframe tbody tr th:only-of-type {\n",
       "        vertical-align: middle;\n",
       "    }\n",
       "\n",
       "    .dataframe tbody tr th {\n",
       "        vertical-align: top;\n",
       "    }\n",
       "\n",
       "    .dataframe thead th {\n",
       "        text-align: right;\n",
       "    }\n",
       "</style>\n",
       "<table border=\"1\" class=\"dataframe\">\n",
       "  <thead>\n",
       "    <tr style=\"text-align: right;\">\n",
       "      <th></th>\n",
       "      <th>playerID</th>\n",
       "      <th>yearID</th>\n",
       "      <th>teamID</th>\n",
       "      <th>HR</th>\n",
       "    </tr>\n",
       "  </thead>\n",
       "  <tbody>\n",
       "    <tr>\n",
       "      <th>0</th>\n",
       "      <td>bettsmo01</td>\n",
       "      <td>2016</td>\n",
       "      <td>BOS</td>\n",
       "      <td>31</td>\n",
       "    </tr>\n",
       "    <tr>\n",
       "      <th>3</th>\n",
       "      <td>ortizda01</td>\n",
       "      <td>2016</td>\n",
       "      <td>BOS</td>\n",
       "      <td>38</td>\n",
       "    </tr>\n",
       "    <tr>\n",
       "      <th>4</th>\n",
       "      <td>bettsmo01</td>\n",
       "      <td>2015</td>\n",
       "      <td>BOS</td>\n",
       "      <td>18</td>\n",
       "    </tr>\n",
       "  </tbody>\n",
       "</table>\n",
       "</div>"
      ],
      "text/plain": [
       "    playerID  yearID teamID  HR\n",
       "0  bettsmo01    2016    BOS  31\n",
       "3  ortizda01    2016    BOS  38\n",
       "4  bettsmo01    2015    BOS  18"
      ]
     },
     "execution_count": 157,
     "metadata": {},
     "output_type": "execute_result"
    }
   ],
   "source": [
    "str_df = df[df['teamID'].str.startswith('B')]\n",
    "str_df"
   ]
  },
  {
   "cell_type": "markdown",
   "metadata": {},
   "source": [
    "## Sorting\n",
    "\n",
    "Sort DataFrames based on their column features."
   ]
  },
  {
   "cell_type": "markdown",
   "metadata": {},
   "source": [
    "### Goals:\n",
    "\n",
    "* Exploring how to sort a DataFrame by its features\n",
    "* Write code to sort an MLB player's statistics"
   ]
  },
  {
   "cell_type": "markdown",
   "metadata": {},
   "source": [
    "### A. Sorting by feature"
   ]
  },
  {
   "cell_type": "markdown",
   "metadata": {},
   "source": [
    "When we deal with a dataset that has many features, it is often useful to sort the dataset. This makes it easier to view the data and spot trends in the values.\n",
    "\n",
    "In pandas, the  `sort_values`  function allows us to sort a DataFrame by one or more of its columns. The first argument is either a column label or a list of column labels to sort by.\n",
    "\n",
    "The  `ascending`  keyword argument allows us to specify whether to sort in ascending or descending order (default is ascending order, i.e.  `ascending=True` ).\n",
    "\n",
    "The code below demonstrates how to use  `sort_values`  with a single column label. The first example sorts by  `'yearID'`  in ascending order, while the second sorts  `'playerID'`  in descending lexicographic (alphabetical) order."
   ]
  },
  {
   "cell_type": "code",
   "execution_count": 158,
   "metadata": {},
   "outputs": [
    {
     "data": {
      "text/html": [
       "<div>\n",
       "<style scoped>\n",
       "    .dataframe tbody tr th:only-of-type {\n",
       "        vertical-align: middle;\n",
       "    }\n",
       "\n",
       "    .dataframe tbody tr th {\n",
       "        vertical-align: top;\n",
       "    }\n",
       "\n",
       "    .dataframe thead th {\n",
       "        text-align: right;\n",
       "    }\n",
       "</style>\n",
       "<table border=\"1\" class=\"dataframe\">\n",
       "  <thead>\n",
       "    <tr style=\"text-align: right;\">\n",
       "      <th></th>\n",
       "      <th>playerID</th>\n",
       "      <th>yearID</th>\n",
       "      <th>teamID</th>\n",
       "      <th>HR</th>\n",
       "    </tr>\n",
       "  </thead>\n",
       "  <tbody>\n",
       "    <tr>\n",
       "      <th>0</th>\n",
       "      <td>bettsmo01</td>\n",
       "      <td>2016</td>\n",
       "      <td>BOS</td>\n",
       "      <td>31</td>\n",
       "    </tr>\n",
       "    <tr>\n",
       "      <th>1</th>\n",
       "      <td>canoro01</td>\n",
       "      <td>2016</td>\n",
       "      <td>SEA</td>\n",
       "      <td>39</td>\n",
       "    </tr>\n",
       "    <tr>\n",
       "      <th>2</th>\n",
       "      <td>cruzne02</td>\n",
       "      <td>2016</td>\n",
       "      <td>SEA</td>\n",
       "      <td>43</td>\n",
       "    </tr>\n",
       "    <tr>\n",
       "      <th>3</th>\n",
       "      <td>ortizda01</td>\n",
       "      <td>2016</td>\n",
       "      <td>BOS</td>\n",
       "      <td>38</td>\n",
       "    </tr>\n",
       "    <tr>\n",
       "      <th>4</th>\n",
       "      <td>bettsmo01</td>\n",
       "      <td>2015</td>\n",
       "      <td>BOS</td>\n",
       "      <td>18</td>\n",
       "    </tr>\n",
       "  </tbody>\n",
       "</table>\n",
       "</div>"
      ],
      "text/plain": [
       "    playerID  yearID teamID  HR\n",
       "0  bettsmo01    2016    BOS  31\n",
       "1   canoro01    2016    SEA  39\n",
       "2   cruzne02    2016    SEA  43\n",
       "3  ortizda01    2016    BOS  38\n",
       "4  bettsmo01    2015    BOS  18"
      ]
     },
     "execution_count": 158,
     "metadata": {},
     "output_type": "execute_result"
    }
   ],
   "source": [
    "df"
   ]
  },
  {
   "cell_type": "code",
   "execution_count": 159,
   "metadata": {},
   "outputs": [
    {
     "data": {
      "text/html": [
       "<div>\n",
       "<style scoped>\n",
       "    .dataframe tbody tr th:only-of-type {\n",
       "        vertical-align: middle;\n",
       "    }\n",
       "\n",
       "    .dataframe tbody tr th {\n",
       "        vertical-align: top;\n",
       "    }\n",
       "\n",
       "    .dataframe thead th {\n",
       "        text-align: right;\n",
       "    }\n",
       "</style>\n",
       "<table border=\"1\" class=\"dataframe\">\n",
       "  <thead>\n",
       "    <tr style=\"text-align: right;\">\n",
       "      <th></th>\n",
       "      <th>playerID</th>\n",
       "      <th>yearID</th>\n",
       "      <th>teamID</th>\n",
       "      <th>HR</th>\n",
       "    </tr>\n",
       "  </thead>\n",
       "  <tbody>\n",
       "    <tr>\n",
       "      <th>4</th>\n",
       "      <td>bettsmo01</td>\n",
       "      <td>2015</td>\n",
       "      <td>BOS</td>\n",
       "      <td>18</td>\n",
       "    </tr>\n",
       "    <tr>\n",
       "      <th>0</th>\n",
       "      <td>bettsmo01</td>\n",
       "      <td>2016</td>\n",
       "      <td>BOS</td>\n",
       "      <td>31</td>\n",
       "    </tr>\n",
       "    <tr>\n",
       "      <th>1</th>\n",
       "      <td>canoro01</td>\n",
       "      <td>2016</td>\n",
       "      <td>SEA</td>\n",
       "      <td>39</td>\n",
       "    </tr>\n",
       "    <tr>\n",
       "      <th>2</th>\n",
       "      <td>cruzne02</td>\n",
       "      <td>2016</td>\n",
       "      <td>SEA</td>\n",
       "      <td>43</td>\n",
       "    </tr>\n",
       "    <tr>\n",
       "      <th>3</th>\n",
       "      <td>ortizda01</td>\n",
       "      <td>2016</td>\n",
       "      <td>BOS</td>\n",
       "      <td>38</td>\n",
       "    </tr>\n",
       "  </tbody>\n",
       "</table>\n",
       "</div>"
      ],
      "text/plain": [
       "    playerID  yearID teamID  HR\n",
       "4  bettsmo01    2015    BOS  18\n",
       "0  bettsmo01    2016    BOS  31\n",
       "1   canoro01    2016    SEA  39\n",
       "2   cruzne02    2016    SEA  43\n",
       "3  ortizda01    2016    BOS  38"
      ]
     },
     "execution_count": 159,
     "metadata": {},
     "output_type": "execute_result"
    }
   ],
   "source": [
    "sort1 = df.sort_values('yearID')\n",
    "sort1"
   ]
  },
  {
   "cell_type": "code",
   "execution_count": 160,
   "metadata": {},
   "outputs": [
    {
     "data": {
      "text/html": [
       "<div>\n",
       "<style scoped>\n",
       "    .dataframe tbody tr th:only-of-type {\n",
       "        vertical-align: middle;\n",
       "    }\n",
       "\n",
       "    .dataframe tbody tr th {\n",
       "        vertical-align: top;\n",
       "    }\n",
       "\n",
       "    .dataframe thead th {\n",
       "        text-align: right;\n",
       "    }\n",
       "</style>\n",
       "<table border=\"1\" class=\"dataframe\">\n",
       "  <thead>\n",
       "    <tr style=\"text-align: right;\">\n",
       "      <th></th>\n",
       "      <th>playerID</th>\n",
       "      <th>yearID</th>\n",
       "      <th>teamID</th>\n",
       "      <th>HR</th>\n",
       "    </tr>\n",
       "  </thead>\n",
       "  <tbody>\n",
       "    <tr>\n",
       "      <th>3</th>\n",
       "      <td>ortizda01</td>\n",
       "      <td>2016</td>\n",
       "      <td>BOS</td>\n",
       "      <td>38</td>\n",
       "    </tr>\n",
       "    <tr>\n",
       "      <th>2</th>\n",
       "      <td>cruzne02</td>\n",
       "      <td>2016</td>\n",
       "      <td>SEA</td>\n",
       "      <td>43</td>\n",
       "    </tr>\n",
       "    <tr>\n",
       "      <th>1</th>\n",
       "      <td>canoro01</td>\n",
       "      <td>2016</td>\n",
       "      <td>SEA</td>\n",
       "      <td>39</td>\n",
       "    </tr>\n",
       "    <tr>\n",
       "      <th>0</th>\n",
       "      <td>bettsmo01</td>\n",
       "      <td>2016</td>\n",
       "      <td>BOS</td>\n",
       "      <td>31</td>\n",
       "    </tr>\n",
       "    <tr>\n",
       "      <th>4</th>\n",
       "      <td>bettsmo01</td>\n",
       "      <td>2015</td>\n",
       "      <td>BOS</td>\n",
       "      <td>18</td>\n",
       "    </tr>\n",
       "  </tbody>\n",
       "</table>\n",
       "</div>"
      ],
      "text/plain": [
       "    playerID  yearID teamID  HR\n",
       "3  ortizda01    2016    BOS  38\n",
       "2   cruzne02    2016    SEA  43\n",
       "1   canoro01    2016    SEA  39\n",
       "0  bettsmo01    2016    BOS  31\n",
       "4  bettsmo01    2015    BOS  18"
      ]
     },
     "execution_count": 160,
     "metadata": {},
     "output_type": "execute_result"
    }
   ],
   "source": [
    "sort2 = df.sort_values('playerID', ascending=False)\n",
    "sort2"
   ]
  },
  {
   "cell_type": "markdown",
   "metadata": {},
   "source": [
    "When sorting with a list of column labels, each additional label is used to break ties. Specifically, label  *i*  in the list acts as a tiebreaker for label  *i - 1* .\n",
    "\n",
    "The code below demonstrates how to sort with a list of column labels."
   ]
  },
  {
   "cell_type": "code",
   "execution_count": 161,
   "metadata": {},
   "outputs": [
    {
     "data": {
      "text/html": [
       "<div>\n",
       "<style scoped>\n",
       "    .dataframe tbody tr th:only-of-type {\n",
       "        vertical-align: middle;\n",
       "    }\n",
       "\n",
       "    .dataframe tbody tr th {\n",
       "        vertical-align: top;\n",
       "    }\n",
       "\n",
       "    .dataframe thead th {\n",
       "        text-align: right;\n",
       "    }\n",
       "</style>\n",
       "<table border=\"1\" class=\"dataframe\">\n",
       "  <thead>\n",
       "    <tr style=\"text-align: right;\">\n",
       "      <th></th>\n",
       "      <th>playerID</th>\n",
       "      <th>yearID</th>\n",
       "      <th>teamID</th>\n",
       "      <th>HR</th>\n",
       "    </tr>\n",
       "  </thead>\n",
       "  <tbody>\n",
       "    <tr>\n",
       "      <th>0</th>\n",
       "      <td>bettsmo01</td>\n",
       "      <td>2016</td>\n",
       "      <td>BOS</td>\n",
       "      <td>31</td>\n",
       "    </tr>\n",
       "    <tr>\n",
       "      <th>1</th>\n",
       "      <td>canoro01</td>\n",
       "      <td>2016</td>\n",
       "      <td>SEA</td>\n",
       "      <td>39</td>\n",
       "    </tr>\n",
       "    <tr>\n",
       "      <th>2</th>\n",
       "      <td>cruzne02</td>\n",
       "      <td>2016</td>\n",
       "      <td>SEA</td>\n",
       "      <td>43</td>\n",
       "    </tr>\n",
       "    <tr>\n",
       "      <th>3</th>\n",
       "      <td>ortizda01</td>\n",
       "      <td>2016</td>\n",
       "      <td>BOS</td>\n",
       "      <td>38</td>\n",
       "    </tr>\n",
       "    <tr>\n",
       "      <th>4</th>\n",
       "      <td>bettsmo01</td>\n",
       "      <td>2015</td>\n",
       "      <td>BOS</td>\n",
       "      <td>18</td>\n",
       "    </tr>\n",
       "  </tbody>\n",
       "</table>\n",
       "</div>"
      ],
      "text/plain": [
       "    playerID  yearID teamID  HR\n",
       "0  bettsmo01    2016    BOS  31\n",
       "1   canoro01    2016    SEA  39\n",
       "2   cruzne02    2016    SEA  43\n",
       "3  ortizda01    2016    BOS  38\n",
       "4  bettsmo01    2015    BOS  18"
      ]
     },
     "execution_count": 161,
     "metadata": {},
     "output_type": "execute_result"
    }
   ],
   "source": [
    "df"
   ]
  },
  {
   "cell_type": "code",
   "execution_count": 162,
   "metadata": {},
   "outputs": [
    {
     "data": {
      "text/html": [
       "<div>\n",
       "<style scoped>\n",
       "    .dataframe tbody tr th:only-of-type {\n",
       "        vertical-align: middle;\n",
       "    }\n",
       "\n",
       "    .dataframe tbody tr th {\n",
       "        vertical-align: top;\n",
       "    }\n",
       "\n",
       "    .dataframe thead th {\n",
       "        text-align: right;\n",
       "    }\n",
       "</style>\n",
       "<table border=\"1\" class=\"dataframe\">\n",
       "  <thead>\n",
       "    <tr style=\"text-align: right;\">\n",
       "      <th></th>\n",
       "      <th>playerID</th>\n",
       "      <th>yearID</th>\n",
       "      <th>teamID</th>\n",
       "      <th>HR</th>\n",
       "    </tr>\n",
       "  </thead>\n",
       "  <tbody>\n",
       "    <tr>\n",
       "      <th>4</th>\n",
       "      <td>bettsmo01</td>\n",
       "      <td>2015</td>\n",
       "      <td>BOS</td>\n",
       "      <td>18</td>\n",
       "    </tr>\n",
       "    <tr>\n",
       "      <th>0</th>\n",
       "      <td>bettsmo01</td>\n",
       "      <td>2016</td>\n",
       "      <td>BOS</td>\n",
       "      <td>31</td>\n",
       "    </tr>\n",
       "    <tr>\n",
       "      <th>1</th>\n",
       "      <td>canoro01</td>\n",
       "      <td>2016</td>\n",
       "      <td>SEA</td>\n",
       "      <td>39</td>\n",
       "    </tr>\n",
       "    <tr>\n",
       "      <th>2</th>\n",
       "      <td>cruzne02</td>\n",
       "      <td>2016</td>\n",
       "      <td>SEA</td>\n",
       "      <td>43</td>\n",
       "    </tr>\n",
       "    <tr>\n",
       "      <th>3</th>\n",
       "      <td>ortizda01</td>\n",
       "      <td>2016</td>\n",
       "      <td>BOS</td>\n",
       "      <td>38</td>\n",
       "    </tr>\n",
       "  </tbody>\n",
       "</table>\n",
       "</div>"
      ],
      "text/plain": [
       "    playerID  yearID teamID  HR\n",
       "4  bettsmo01    2015    BOS  18\n",
       "0  bettsmo01    2016    BOS  31\n",
       "1   canoro01    2016    SEA  39\n",
       "2   cruzne02    2016    SEA  43\n",
       "3  ortizda01    2016    BOS  38"
      ]
     },
     "execution_count": 162,
     "metadata": {},
     "output_type": "execute_result"
    }
   ],
   "source": [
    "sort1 = df.sort_values(['yearID', 'playerID'])\n",
    "sort1"
   ]
  },
  {
   "cell_type": "code",
   "execution_count": 163,
   "metadata": {},
   "outputs": [
    {
     "data": {
      "text/html": [
       "<div>\n",
       "<style scoped>\n",
       "    .dataframe tbody tr th:only-of-type {\n",
       "        vertical-align: middle;\n",
       "    }\n",
       "\n",
       "    .dataframe tbody tr th {\n",
       "        vertical-align: top;\n",
       "    }\n",
       "\n",
       "    .dataframe thead th {\n",
       "        text-align: right;\n",
       "    }\n",
       "</style>\n",
       "<table border=\"1\" class=\"dataframe\">\n",
       "  <thead>\n",
       "    <tr style=\"text-align: right;\">\n",
       "      <th></th>\n",
       "      <th>playerID</th>\n",
       "      <th>yearID</th>\n",
       "      <th>teamID</th>\n",
       "      <th>HR</th>\n",
       "    </tr>\n",
       "  </thead>\n",
       "  <tbody>\n",
       "    <tr>\n",
       "      <th>4</th>\n",
       "      <td>bettsmo01</td>\n",
       "      <td>2015</td>\n",
       "      <td>BOS</td>\n",
       "      <td>18</td>\n",
       "    </tr>\n",
       "    <tr>\n",
       "      <th>2</th>\n",
       "      <td>cruzne02</td>\n",
       "      <td>2016</td>\n",
       "      <td>SEA</td>\n",
       "      <td>43</td>\n",
       "    </tr>\n",
       "    <tr>\n",
       "      <th>1</th>\n",
       "      <td>canoro01</td>\n",
       "      <td>2016</td>\n",
       "      <td>SEA</td>\n",
       "      <td>39</td>\n",
       "    </tr>\n",
       "    <tr>\n",
       "      <th>3</th>\n",
       "      <td>ortizda01</td>\n",
       "      <td>2016</td>\n",
       "      <td>BOS</td>\n",
       "      <td>38</td>\n",
       "    </tr>\n",
       "    <tr>\n",
       "      <th>0</th>\n",
       "      <td>bettsmo01</td>\n",
       "      <td>2016</td>\n",
       "      <td>BOS</td>\n",
       "      <td>31</td>\n",
       "    </tr>\n",
       "  </tbody>\n",
       "</table>\n",
       "</div>"
      ],
      "text/plain": [
       "    playerID  yearID teamID  HR\n",
       "4  bettsmo01    2015    BOS  18\n",
       "2   cruzne02    2016    SEA  43\n",
       "1   canoro01    2016    SEA  39\n",
       "3  ortizda01    2016    BOS  38\n",
       "0  bettsmo01    2016    BOS  31"
      ]
     },
     "execution_count": 163,
     "metadata": {},
     "output_type": "execute_result"
    }
   ],
   "source": [
    "sort2 = df.sort_values(['yearID', 'HR'],\n",
    "                       ascending=[True, False])\n",
    "sort2"
   ]
  },
  {
   "cell_type": "markdown",
   "metadata": {},
   "source": [
    "When using two column labels to sort, the list's first label represents the main sorting criterion, while the second label is used to break ties. In the example with sorting by  `'yearID'`  and  `'playerID'` , the DataFrame is first sorted by year (in ascending order). For identical years, we sort again by player ID (in ascending order).\n",
    "\n",
    "For multi-label inputs to  `sort_values` , we are allowed to specify different sorting orders for each column label. In our second example, we specified that  `'yearID'`  would be sorted in ascending order, while  `'HR'`  would be sorted in descending order."
   ]
  },
  {
   "cell_type": "markdown",
   "metadata": {},
   "source": [
    "## Metrics\n",
    "\n",
    "Use pandas to obtain statistical metrics for data."
   ]
  },
  {
   "cell_type": "markdown",
   "metadata": {},
   "source": [
    "### Goals:\n",
    "\n",
    "* Understand the common metrics used to summarize numeric data\n",
    "* Learn how to describe categorical data using histograms"
   ]
  },
  {
   "cell_type": "markdown",
   "metadata": {},
   "source": [
    "### A. Numeric metrics"
   ]
  },
  {
   "cell_type": "markdown",
   "metadata": {},
   "source": [
    "When working with numeric features, we usually want to calculate metrics such as mean, standard deviation, etc. These metrics give us more insight into the type of data we're working with, which benefits our overall analysis of the dataset.\n",
    "\n",
    "Rather than calculating several different metrics separately, pandas provides the  `describe`  function to obtain a summary of a DataFrame's numeric data.\n",
    "\n",
    "The metrics included in the output summary of  `describe`  are\n",
    "\n",
    "|Metric|Description|\n",
    "|---|---|\n",
    "|count|The number of rows in the DataFrame|\n",
    "|mean|The mean value for a feature|\n",
    "|std|The standard deviation for a feature|\n",
    "|min|The minimum value in a feature|\n",
    "|25%|The 25th percentile of a feature|\n",
    "|50%|The 50th percentile of a feature. Note that this is identical to the median|\n",
    "|75%|The 75th percentile of a feature|\n",
    "|max|The maximum value in a feature|\n",
    "\n",
    "The code below shows how to use the  `describe`  function."
   ]
  },
  {
   "cell_type": "code",
   "execution_count": 164,
   "metadata": {},
   "outputs": [
    {
     "data": {
      "text/html": [
       "<div>\n",
       "<style scoped>\n",
       "    .dataframe tbody tr th:only-of-type {\n",
       "        vertical-align: middle;\n",
       "    }\n",
       "\n",
       "    .dataframe tbody tr th {\n",
       "        vertical-align: top;\n",
       "    }\n",
       "\n",
       "    .dataframe thead th {\n",
       "        text-align: right;\n",
       "    }\n",
       "</style>\n",
       "<table border=\"1\" class=\"dataframe\">\n",
       "  <thead>\n",
       "    <tr style=\"text-align: right;\">\n",
       "      <th></th>\n",
       "      <th>yearID</th>\n",
       "      <th>playerID</th>\n",
       "      <th>teamID</th>\n",
       "      <th>HR</th>\n",
       "      <th>RBI</th>\n",
       "    </tr>\n",
       "  </thead>\n",
       "  <tbody>\n",
       "    <tr>\n",
       "      <th>0</th>\n",
       "      <td>2017</td>\n",
       "      <td>cruzne02</td>\n",
       "      <td>SEA</td>\n",
       "      <td>39</td>\n",
       "      <td>119</td>\n",
       "    </tr>\n",
       "    <tr>\n",
       "      <th>1</th>\n",
       "      <td>2017</td>\n",
       "      <td>pedrodu01</td>\n",
       "      <td>BOS</td>\n",
       "      <td>7</td>\n",
       "      <td>62</td>\n",
       "    </tr>\n",
       "    <tr>\n",
       "      <th>2</th>\n",
       "      <td>2016</td>\n",
       "      <td>cruzne02</td>\n",
       "      <td>SEA</td>\n",
       "      <td>43</td>\n",
       "      <td>105</td>\n",
       "    </tr>\n",
       "    <tr>\n",
       "      <th>3</th>\n",
       "      <td>2015</td>\n",
       "      <td>pedrodu01</td>\n",
       "      <td>BOS</td>\n",
       "      <td>12</td>\n",
       "      <td>42</td>\n",
       "    </tr>\n",
       "    <tr>\n",
       "      <th>4</th>\n",
       "      <td>2017</td>\n",
       "      <td>troutmi01</td>\n",
       "      <td>LAA</td>\n",
       "      <td>33</td>\n",
       "      <td>72</td>\n",
       "    </tr>\n",
       "    <tr>\n",
       "      <th>5</th>\n",
       "      <td>2016</td>\n",
       "      <td>pedrodu01</td>\n",
       "      <td>BOS</td>\n",
       "      <td>15</td>\n",
       "      <td>74</td>\n",
       "    </tr>\n",
       "  </tbody>\n",
       "</table>\n",
       "</div>"
      ],
      "text/plain": [
       "   yearID   playerID teamID  HR  RBI\n",
       "0    2017   cruzne02    SEA  39  119\n",
       "1    2017  pedrodu01    BOS   7   62\n",
       "2    2016   cruzne02    SEA  43  105\n",
       "3    2015  pedrodu01    BOS  12   42\n",
       "4    2017  troutmi01    LAA  33   72\n",
       "5    2016  pedrodu01    BOS  15   74"
      ]
     },
     "execution_count": 164,
     "metadata": {},
     "output_type": "execute_result"
    }
   ],
   "source": [
    "df = pd.DataFrame(\n",
    "    {\n",
    "        'yearID': [2017, 2017, 2016, 2015, 2017, 2016], \n",
    "        'playerID': ['cruzne02', 'pedrodu01', 'cruzne02', 'pedrodu01', 'troutmi01', 'pedrodu01'], \n",
    "        'teamID': ['SEA', 'BOS', 'SEA', 'BOS', 'LAA', 'BOS'], \n",
    "        'HR': [39, 7, 43, 12, 33, 15], \n",
    "        'RBI': [119, 62, 105, 42, 72, 74]\n",
    "    }\n",
    ")\n",
    "df"
   ]
  },
  {
   "cell_type": "code",
   "execution_count": 165,
   "metadata": {},
   "outputs": [
    {
     "data": {
      "text/html": [
       "<div>\n",
       "<style scoped>\n",
       "    .dataframe tbody tr th:only-of-type {\n",
       "        vertical-align: middle;\n",
       "    }\n",
       "\n",
       "    .dataframe tbody tr th {\n",
       "        vertical-align: top;\n",
       "    }\n",
       "\n",
       "    .dataframe thead th {\n",
       "        text-align: right;\n",
       "    }\n",
       "</style>\n",
       "<table border=\"1\" class=\"dataframe\">\n",
       "  <thead>\n",
       "    <tr style=\"text-align: right;\">\n",
       "      <th></th>\n",
       "      <th>yearID</th>\n",
       "      <th>HR</th>\n",
       "      <th>RBI</th>\n",
       "    </tr>\n",
       "  </thead>\n",
       "  <tbody>\n",
       "    <tr>\n",
       "      <th>count</th>\n",
       "      <td>6.000000</td>\n",
       "      <td>6.000000</td>\n",
       "      <td>6.000000</td>\n",
       "    </tr>\n",
       "    <tr>\n",
       "      <th>mean</th>\n",
       "      <td>2016.333333</td>\n",
       "      <td>24.833333</td>\n",
       "      <td>79.000000</td>\n",
       "    </tr>\n",
       "    <tr>\n",
       "      <th>std</th>\n",
       "      <td>0.816497</td>\n",
       "      <td>15.341664</td>\n",
       "      <td>28.312541</td>\n",
       "    </tr>\n",
       "    <tr>\n",
       "      <th>min</th>\n",
       "      <td>2015.000000</td>\n",
       "      <td>7.000000</td>\n",
       "      <td>42.000000</td>\n",
       "    </tr>\n",
       "    <tr>\n",
       "      <th>25%</th>\n",
       "      <td>2016.000000</td>\n",
       "      <td>12.750000</td>\n",
       "      <td>64.500000</td>\n",
       "    </tr>\n",
       "    <tr>\n",
       "      <th>50%</th>\n",
       "      <td>2016.500000</td>\n",
       "      <td>24.000000</td>\n",
       "      <td>73.000000</td>\n",
       "    </tr>\n",
       "    <tr>\n",
       "      <th>75%</th>\n",
       "      <td>2017.000000</td>\n",
       "      <td>37.500000</td>\n",
       "      <td>97.250000</td>\n",
       "    </tr>\n",
       "    <tr>\n",
       "      <th>max</th>\n",
       "      <td>2017.000000</td>\n",
       "      <td>43.000000</td>\n",
       "      <td>119.000000</td>\n",
       "    </tr>\n",
       "  </tbody>\n",
       "</table>\n",
       "</div>"
      ],
      "text/plain": [
       "            yearID         HR         RBI\n",
       "count     6.000000   6.000000    6.000000\n",
       "mean   2016.333333  24.833333   79.000000\n",
       "std       0.816497  15.341664   28.312541\n",
       "min    2015.000000   7.000000   42.000000\n",
       "25%    2016.000000  12.750000   64.500000\n",
       "50%    2016.500000  24.000000   73.000000\n",
       "75%    2017.000000  37.500000   97.250000\n",
       "max    2017.000000  43.000000  119.000000"
      ]
     },
     "execution_count": 165,
     "metadata": {},
     "output_type": "execute_result"
    }
   ],
   "source": [
    "metrics1 = df.describe()\n",
    "metrics1"
   ]
  },
  {
   "cell_type": "code",
   "execution_count": 166,
   "metadata": {},
   "outputs": [
    {
     "data": {
      "text/html": [
       "<div>\n",
       "<style scoped>\n",
       "    .dataframe tbody tr th:only-of-type {\n",
       "        vertical-align: middle;\n",
       "    }\n",
       "\n",
       "    .dataframe tbody tr th {\n",
       "        vertical-align: top;\n",
       "    }\n",
       "\n",
       "    .dataframe thead th {\n",
       "        text-align: right;\n",
       "    }\n",
       "</style>\n",
       "<table border=\"1\" class=\"dataframe\">\n",
       "  <thead>\n",
       "    <tr style=\"text-align: right;\">\n",
       "      <th></th>\n",
       "      <th>HR</th>\n",
       "      <th>RBI</th>\n",
       "    </tr>\n",
       "  </thead>\n",
       "  <tbody>\n",
       "    <tr>\n",
       "      <th>count</th>\n",
       "      <td>6.000000</td>\n",
       "      <td>6.000000</td>\n",
       "    </tr>\n",
       "    <tr>\n",
       "      <th>mean</th>\n",
       "      <td>24.833333</td>\n",
       "      <td>79.000000</td>\n",
       "    </tr>\n",
       "    <tr>\n",
       "      <th>std</th>\n",
       "      <td>15.341664</td>\n",
       "      <td>28.312541</td>\n",
       "    </tr>\n",
       "    <tr>\n",
       "      <th>min</th>\n",
       "      <td>7.000000</td>\n",
       "      <td>42.000000</td>\n",
       "    </tr>\n",
       "    <tr>\n",
       "      <th>25%</th>\n",
       "      <td>12.750000</td>\n",
       "      <td>64.500000</td>\n",
       "    </tr>\n",
       "    <tr>\n",
       "      <th>50%</th>\n",
       "      <td>24.000000</td>\n",
       "      <td>73.000000</td>\n",
       "    </tr>\n",
       "    <tr>\n",
       "      <th>75%</th>\n",
       "      <td>37.500000</td>\n",
       "      <td>97.250000</td>\n",
       "    </tr>\n",
       "    <tr>\n",
       "      <th>max</th>\n",
       "      <td>43.000000</td>\n",
       "      <td>119.000000</td>\n",
       "    </tr>\n",
       "  </tbody>\n",
       "</table>\n",
       "</div>"
      ],
      "text/plain": [
       "              HR         RBI\n",
       "count   6.000000    6.000000\n",
       "mean   24.833333   79.000000\n",
       "std    15.341664   28.312541\n",
       "min     7.000000   42.000000\n",
       "25%    12.750000   64.500000\n",
       "50%    24.000000   73.000000\n",
       "75%    37.500000   97.250000\n",
       "max    43.000000  119.000000"
      ]
     },
     "execution_count": 166,
     "metadata": {},
     "output_type": "execute_result"
    }
   ],
   "source": [
    "hr_rbi = df[['HR','RBI']]\n",
    "metrics2 = hr_rbi.describe()\n",
    "metrics2"
   ]
  },
  {
   "cell_type": "markdown",
   "metadata": {},
   "source": [
    "Using  `describe`  with a DataFrame will return a summary of metrics for each of the DataFrame's numeric features. In our example,  `df`  had three features with numerical values:  `yearID` ,  `HR` , and  `RBI` .\n",
    "\n",
    "Since we normally treat  `yearID`  as a categorical feature, the second time we used  `describe`  was with the  `hr_rbi`  DataFrame, which only included the  `HR`  and  `RBI`  features.\n",
    "\n",
    "To have  `describe`  return specific percentiles, we can use the  `percentiles`  keyword argument. The  `percentiles`  argument takes in a list of decimal percentages, representing the percentiles we want returned in the summary."
   ]
  },
  {
   "cell_type": "code",
   "execution_count": 167,
   "metadata": {},
   "outputs": [
    {
     "data": {
      "text/html": [
       "<div>\n",
       "<style scoped>\n",
       "    .dataframe tbody tr th:only-of-type {\n",
       "        vertical-align: middle;\n",
       "    }\n",
       "\n",
       "    .dataframe tbody tr th {\n",
       "        vertical-align: top;\n",
       "    }\n",
       "\n",
       "    .dataframe thead th {\n",
       "        text-align: right;\n",
       "    }\n",
       "</style>\n",
       "<table border=\"1\" class=\"dataframe\">\n",
       "  <thead>\n",
       "    <tr style=\"text-align: right;\">\n",
       "      <th></th>\n",
       "      <th>HR</th>\n",
       "      <th>RBI</th>\n",
       "    </tr>\n",
       "  </thead>\n",
       "  <tbody>\n",
       "    <tr>\n",
       "      <th>count</th>\n",
       "      <td>6.000000</td>\n",
       "      <td>6.000000</td>\n",
       "    </tr>\n",
       "    <tr>\n",
       "      <th>mean</th>\n",
       "      <td>24.833333</td>\n",
       "      <td>79.000000</td>\n",
       "    </tr>\n",
       "    <tr>\n",
       "      <th>std</th>\n",
       "      <td>15.341664</td>\n",
       "      <td>28.312541</td>\n",
       "    </tr>\n",
       "    <tr>\n",
       "      <th>min</th>\n",
       "      <td>7.000000</td>\n",
       "      <td>42.000000</td>\n",
       "    </tr>\n",
       "    <tr>\n",
       "      <th>50%</th>\n",
       "      <td>24.000000</td>\n",
       "      <td>73.000000</td>\n",
       "    </tr>\n",
       "    <tr>\n",
       "      <th>max</th>\n",
       "      <td>43.000000</td>\n",
       "      <td>119.000000</td>\n",
       "    </tr>\n",
       "  </tbody>\n",
       "</table>\n",
       "</div>"
      ],
      "text/plain": [
       "              HR         RBI\n",
       "count   6.000000    6.000000\n",
       "mean   24.833333   79.000000\n",
       "std    15.341664   28.312541\n",
       "min     7.000000   42.000000\n",
       "50%    24.000000   73.000000\n",
       "max    43.000000  119.000000"
      ]
     },
     "execution_count": 167,
     "metadata": {},
     "output_type": "execute_result"
    }
   ],
   "source": [
    "metrics1 = hr_rbi.describe(percentiles=[.5])\n",
    "metrics1"
   ]
  },
  {
   "cell_type": "code",
   "execution_count": 168,
   "metadata": {},
   "outputs": [
    {
     "data": {
      "text/html": [
       "<div>\n",
       "<style scoped>\n",
       "    .dataframe tbody tr th:only-of-type {\n",
       "        vertical-align: middle;\n",
       "    }\n",
       "\n",
       "    .dataframe tbody tr th {\n",
       "        vertical-align: top;\n",
       "    }\n",
       "\n",
       "    .dataframe thead th {\n",
       "        text-align: right;\n",
       "    }\n",
       "</style>\n",
       "<table border=\"1\" class=\"dataframe\">\n",
       "  <thead>\n",
       "    <tr style=\"text-align: right;\">\n",
       "      <th></th>\n",
       "      <th>HR</th>\n",
       "      <th>RBI</th>\n",
       "    </tr>\n",
       "  </thead>\n",
       "  <tbody>\n",
       "    <tr>\n",
       "      <th>count</th>\n",
       "      <td>6.000000</td>\n",
       "      <td>6.000000</td>\n",
       "    </tr>\n",
       "    <tr>\n",
       "      <th>mean</th>\n",
       "      <td>24.833333</td>\n",
       "      <td>79.000000</td>\n",
       "    </tr>\n",
       "    <tr>\n",
       "      <th>std</th>\n",
       "      <td>15.341664</td>\n",
       "      <td>28.312541</td>\n",
       "    </tr>\n",
       "    <tr>\n",
       "      <th>min</th>\n",
       "      <td>7.000000</td>\n",
       "      <td>42.000000</td>\n",
       "    </tr>\n",
       "    <tr>\n",
       "      <th>10%</th>\n",
       "      <td>9.500000</td>\n",
       "      <td>52.000000</td>\n",
       "    </tr>\n",
       "    <tr>\n",
       "      <th>50%</th>\n",
       "      <td>24.000000</td>\n",
       "      <td>73.000000</td>\n",
       "    </tr>\n",
       "    <tr>\n",
       "      <th>max</th>\n",
       "      <td>43.000000</td>\n",
       "      <td>119.000000</td>\n",
       "    </tr>\n",
       "  </tbody>\n",
       "</table>\n",
       "</div>"
      ],
      "text/plain": [
       "              HR         RBI\n",
       "count   6.000000    6.000000\n",
       "mean   24.833333   79.000000\n",
       "std    15.341664   28.312541\n",
       "min     7.000000   42.000000\n",
       "10%     9.500000   52.000000\n",
       "50%    24.000000   73.000000\n",
       "max    43.000000  119.000000"
      ]
     },
     "execution_count": 168,
     "metadata": {},
     "output_type": "execute_result"
    }
   ],
   "source": [
    "metrics2 = hr_rbi.describe(percentiles=[.1])\n",
    "metrics2"
   ]
  },
  {
   "cell_type": "code",
   "execution_count": 169,
   "metadata": {},
   "outputs": [
    {
     "data": {
      "text/html": [
       "<div>\n",
       "<style scoped>\n",
       "    .dataframe tbody tr th:only-of-type {\n",
       "        vertical-align: middle;\n",
       "    }\n",
       "\n",
       "    .dataframe tbody tr th {\n",
       "        vertical-align: top;\n",
       "    }\n",
       "\n",
       "    .dataframe thead th {\n",
       "        text-align: right;\n",
       "    }\n",
       "</style>\n",
       "<table border=\"1\" class=\"dataframe\">\n",
       "  <thead>\n",
       "    <tr style=\"text-align: right;\">\n",
       "      <th></th>\n",
       "      <th>HR</th>\n",
       "      <th>RBI</th>\n",
       "    </tr>\n",
       "  </thead>\n",
       "  <tbody>\n",
       "    <tr>\n",
       "      <th>count</th>\n",
       "      <td>6.000000</td>\n",
       "      <td>6.000000</td>\n",
       "    </tr>\n",
       "    <tr>\n",
       "      <th>mean</th>\n",
       "      <td>24.833333</td>\n",
       "      <td>79.000000</td>\n",
       "    </tr>\n",
       "    <tr>\n",
       "      <th>std</th>\n",
       "      <td>15.341664</td>\n",
       "      <td>28.312541</td>\n",
       "    </tr>\n",
       "    <tr>\n",
       "      <th>min</th>\n",
       "      <td>7.000000</td>\n",
       "      <td>42.000000</td>\n",
       "    </tr>\n",
       "    <tr>\n",
       "      <th>20%</th>\n",
       "      <td>12.000000</td>\n",
       "      <td>62.000000</td>\n",
       "    </tr>\n",
       "    <tr>\n",
       "      <th>50%</th>\n",
       "      <td>24.000000</td>\n",
       "      <td>73.000000</td>\n",
       "    </tr>\n",
       "    <tr>\n",
       "      <th>80%</th>\n",
       "      <td>39.000000</td>\n",
       "      <td>105.000000</td>\n",
       "    </tr>\n",
       "    <tr>\n",
       "      <th>max</th>\n",
       "      <td>43.000000</td>\n",
       "      <td>119.000000</td>\n",
       "    </tr>\n",
       "  </tbody>\n",
       "</table>\n",
       "</div>"
      ],
      "text/plain": [
       "              HR         RBI\n",
       "count   6.000000    6.000000\n",
       "mean   24.833333   79.000000\n",
       "std    15.341664   28.312541\n",
       "min     7.000000   42.000000\n",
       "20%    12.000000   62.000000\n",
       "50%    24.000000   73.000000\n",
       "80%    39.000000  105.000000\n",
       "max    43.000000  119.000000"
      ]
     },
     "execution_count": 169,
     "metadata": {},
     "output_type": "execute_result"
    }
   ],
   "source": [
    "metrics3 = hr_rbi.describe(percentiles=[.2,.8])\n",
    "metrics3"
   ]
  },
  {
   "cell_type": "markdown",
   "metadata": {},
   "source": [
    "Note that the 50th percentile, i.e. the median, is always returned. The values specified in the  `percentiles`  list will replace the default 25th and 75th percentiles."
   ]
  },
  {
   "cell_type": "markdown",
   "metadata": {},
   "source": [
    "### B. Categorical features"
   ]
  },
  {
   "cell_type": "markdown",
   "metadata": {},
   "source": [
    "With categorical features, we don't calculate metrics like mean, standard deviation, etc. Instead, we use  *frequency counts*  to describe a categorical feature.\n",
    "\n",
    "The frequency count for a specific category of a feature refers to how many times that category appears in the dataset. In pandas, we use the  `value_counts`  function to obtain the frequency counts for each category in a column feature.\n",
    "\n",
    "The code below uses the  `value_counts`  function to get frequency counts of the  `'playerID'`  feature."
   ]
  },
  {
   "cell_type": "code",
   "execution_count": 170,
   "metadata": {},
   "outputs": [
    {
     "data": {
      "text/plain": [
       "pedrodu01    3\n",
       "cruzne02     2\n",
       "troutmi01    1\n",
       "Name: playerID, dtype: int64"
      ]
     },
     "execution_count": 170,
     "metadata": {},
     "output_type": "execute_result"
    }
   ],
   "source": [
    "p_ids = df['playerID']\n",
    "p_ids.value_counts()"
   ]
  },
  {
   "cell_type": "code",
   "execution_count": 171,
   "metadata": {},
   "outputs": [
    {
     "data": {
      "text/plain": [
       "pedrodu01    0.500000\n",
       "cruzne02     0.333333\n",
       "troutmi01    0.166667\n",
       "Name: playerID, dtype: float64"
      ]
     },
     "execution_count": 171,
     "metadata": {},
     "output_type": "execute_result"
    }
   ],
   "source": [
    "p_ids.value_counts(normalize=True)"
   ]
  },
  {
   "cell_type": "code",
   "execution_count": 172,
   "metadata": {},
   "outputs": [
    {
     "data": {
      "text/plain": [
       "troutmi01    1\n",
       "cruzne02     2\n",
       "pedrodu01    3\n",
       "Name: playerID, dtype: int64"
      ]
     },
     "execution_count": 172,
     "metadata": {},
     "output_type": "execute_result"
    }
   ],
   "source": [
    "p_ids.value_counts(ascending=True)"
   ]
  },
  {
   "cell_type": "markdown",
   "metadata": {},
   "source": [
    "Using  `value_counts`  without any keyword arguments will return the frequency counts for each category, sorted in descending order.\n",
    "\n",
    "Setting  `normalize=True`  returns the frequency proportions, rather than counts, for each category (note that the sum of all the proportions is 1). We can also set  `ascending=True`  to get the frequencies sorted in ascending order.\n",
    "\n",
    "If we just want the names of each unique category in a column, rather than the frequencies, we use the  `unique`  function."
   ]
  },
  {
   "cell_type": "code",
   "execution_count": 173,
   "metadata": {},
   "outputs": [
    {
     "data": {
      "text/plain": [
       "array(['cruzne02', 'pedrodu01', 'troutmi01'], dtype=object)"
      ]
     },
     "execution_count": 173,
     "metadata": {},
     "output_type": "execute_result"
    }
   ],
   "source": [
    "unique_players = df['playerID'].unique()\n",
    "unique_players"
   ]
  },
  {
   "cell_type": "code",
   "execution_count": 174,
   "metadata": {},
   "outputs": [
    {
     "data": {
      "text/plain": [
       "array(['SEA', 'BOS', 'LAA'], dtype=object)"
      ]
     },
     "execution_count": 174,
     "metadata": {},
     "output_type": "execute_result"
    }
   ],
   "source": [
    "unique_teams = df['teamID'].unique()\n",
    "unique_teams"
   ]
  },
  {
   "cell_type": "markdown",
   "metadata": {},
   "source": [
    "So far we've focused on categorical features with string values. However, categorical features can also have integer values. For example, we can use  `yearID`  as a categorical feature with each unique year as a separate category."
   ]
  },
  {
   "cell_type": "code",
   "execution_count": 175,
   "metadata": {},
   "outputs": [
    {
     "data": {
      "text/plain": [
       "0    2017\n",
       "1    2017\n",
       "2    2016\n",
       "3    2015\n",
       "4    2017\n",
       "5    2016\n",
       "Name: yearID, dtype: int64"
      ]
     },
     "execution_count": 175,
     "metadata": {},
     "output_type": "execute_result"
    }
   ],
   "source": [
    "y_ids = df['yearID']\n",
    "y_ids"
   ]
  },
  {
   "cell_type": "code",
   "execution_count": 176,
   "metadata": {},
   "outputs": [
    {
     "data": {
      "text/plain": [
       "array([2017, 2016, 2015], dtype=int64)"
      ]
     },
     "execution_count": 176,
     "metadata": {},
     "output_type": "execute_result"
    }
   ],
   "source": [
    "y_ids.unique()"
   ]
  },
  {
   "cell_type": "code",
   "execution_count": 177,
   "metadata": {},
   "outputs": [
    {
     "data": {
      "text/plain": [
       "2017    3\n",
       "2016    2\n",
       "2015    1\n",
       "Name: yearID, dtype: int64"
      ]
     },
     "execution_count": 177,
     "metadata": {},
     "output_type": "execute_result"
    }
   ],
   "source": [
    "y_ids.value_counts()"
   ]
  },
  {
   "cell_type": "markdown",
   "metadata": {},
   "source": [
    "## Plotting\n",
    "\n",
    "Learn how to plot DataFrames using the pyplot API from Matplotlib."
   ]
  },
  {
   "cell_type": "markdown",
   "metadata": {},
   "source": [
    "### Goals:\n",
    "\n",
    "* Explore how to plot DataFrames using the pyplot API"
   ]
  },
  {
   "cell_type": "markdown",
   "metadata": {},
   "source": [
    "### A. Basics"
   ]
  },
  {
   "cell_type": "markdown",
   "metadata": {},
   "source": [
    "The main function used for plotting DataFrames is  `plot` . This function is used in tandem with the  `show`  function from the pyplot API, to produce plot visualizations. We import the pyplot API with the line:\n",
    "`import matplotlib.pyplot as plt`"
   ]
  },
  {
   "cell_type": "code",
   "execution_count": 178,
   "metadata": {},
   "outputs": [
    {
     "data": {
      "text/html": [
       "<div>\n",
       "<style scoped>\n",
       "    .dataframe tbody tr th:only-of-type {\n",
       "        vertical-align: middle;\n",
       "    }\n",
       "\n",
       "    .dataframe tbody tr th {\n",
       "        vertical-align: top;\n",
       "    }\n",
       "\n",
       "    .dataframe thead th {\n",
       "        text-align: right;\n",
       "    }\n",
       "</style>\n",
       "<table border=\"1\" class=\"dataframe\">\n",
       "  <thead>\n",
       "    <tr style=\"text-align: right;\">\n",
       "      <th></th>\n",
       "      <th>yearID</th>\n",
       "      <th>HR</th>\n",
       "    </tr>\n",
       "  </thead>\n",
       "  <tbody>\n",
       "    <tr>\n",
       "      <th>0</th>\n",
       "      <td>2000</td>\n",
       "      <td>49</td>\n",
       "    </tr>\n",
       "    <tr>\n",
       "      <th>1</th>\n",
       "      <td>2001</td>\n",
       "      <td>73</td>\n",
       "    </tr>\n",
       "    <tr>\n",
       "      <th>2</th>\n",
       "      <td>2002</td>\n",
       "      <td>46</td>\n",
       "    </tr>\n",
       "    <tr>\n",
       "      <th>3</th>\n",
       "      <td>2003</td>\n",
       "      <td>45</td>\n",
       "    </tr>\n",
       "    <tr>\n",
       "      <th>4</th>\n",
       "      <td>2004</td>\n",
       "      <td>45</td>\n",
       "    </tr>\n",
       "    <tr>\n",
       "      <th>5</th>\n",
       "      <td>2005</td>\n",
       "      <td>5</td>\n",
       "    </tr>\n",
       "    <tr>\n",
       "      <th>6</th>\n",
       "      <td>2006</td>\n",
       "      <td>26</td>\n",
       "    </tr>\n",
       "    <tr>\n",
       "      <th>7</th>\n",
       "      <td>2007</td>\n",
       "      <td>28</td>\n",
       "    </tr>\n",
       "  </tbody>\n",
       "</table>\n",
       "</div>"
      ],
      "text/plain": [
       "   yearID  HR\n",
       "0    2000  49\n",
       "1    2001  73\n",
       "2    2002  46\n",
       "3    2003  45\n",
       "4    2004  45\n",
       "5    2005   5\n",
       "6    2006  26\n",
       "7    2007  28"
      ]
     },
     "execution_count": 178,
     "metadata": {},
     "output_type": "execute_result"
    }
   ],
   "source": [
    "df = pd.DataFrame(\n",
    "    {\n",
    "        'yearID': [2000, 2001, 2002, 2003, 2004, 2005, 2006, 2007], \n",
    "        'HR': [49, 73, 46, 45, 45, 5, 26, 28]\n",
    "    }\n",
    ")\n",
    "df"
   ]
  },
  {
   "cell_type": "code",
   "execution_count": 181,
   "metadata": {},
   "outputs": [
    {
     "data": {
      "image/png": "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\n",
      "text/plain": [
       "<Figure size 432x288 with 1 Axes>"
      ]
     },
     "metadata": {},
     "output_type": "display_data"
    }
   ],
   "source": [
    "df.plot(x='yearID', y='HR')\n",
    "plt.show()"
   ]
  },
  {
   "cell_type": "markdown",
   "metadata": {},
   "source": [
    "After calling  `df.plot` , which creates our line plot, we then use  `plt.show`  to open a separate window containing the visualization of the plot. You can also use  `plt.savefig`  to save the plot to a PNG or PDF file."
   ]
  },
  {
   "cell_type": "code",
   "execution_count": 182,
   "metadata": {},
   "outputs": [
    {
     "data": {
      "text/html": [
       "<div>\n",
       "<style scoped>\n",
       "    .dataframe tbody tr th:only-of-type {\n",
       "        vertical-align: middle;\n",
       "    }\n",
       "\n",
       "    .dataframe tbody tr th {\n",
       "        vertical-align: top;\n",
       "    }\n",
       "\n",
       "    .dataframe thead th {\n",
       "        text-align: right;\n",
       "    }\n",
       "</style>\n",
       "<table border=\"1\" class=\"dataframe\">\n",
       "  <thead>\n",
       "    <tr style=\"text-align: right;\">\n",
       "      <th></th>\n",
       "      <th>yearID</th>\n",
       "      <th>HR</th>\n",
       "    </tr>\n",
       "  </thead>\n",
       "  <tbody>\n",
       "    <tr>\n",
       "      <th>0</th>\n",
       "      <td>2000</td>\n",
       "      <td>49</td>\n",
       "    </tr>\n",
       "    <tr>\n",
       "      <th>1</th>\n",
       "      <td>2001</td>\n",
       "      <td>73</td>\n",
       "    </tr>\n",
       "    <tr>\n",
       "      <th>2</th>\n",
       "      <td>2002</td>\n",
       "      <td>46</td>\n",
       "    </tr>\n",
       "    <tr>\n",
       "      <th>3</th>\n",
       "      <td>2003</td>\n",
       "      <td>45</td>\n",
       "    </tr>\n",
       "    <tr>\n",
       "      <th>4</th>\n",
       "      <td>2004</td>\n",
       "      <td>45</td>\n",
       "    </tr>\n",
       "    <tr>\n",
       "      <th>5</th>\n",
       "      <td>2005</td>\n",
       "      <td>5</td>\n",
       "    </tr>\n",
       "    <tr>\n",
       "      <th>6</th>\n",
       "      <td>2006</td>\n",
       "      <td>26</td>\n",
       "    </tr>\n",
       "    <tr>\n",
       "      <th>7</th>\n",
       "      <td>2007</td>\n",
       "      <td>28</td>\n",
       "    </tr>\n",
       "  </tbody>\n",
       "</table>\n",
       "</div>"
      ],
      "text/plain": [
       "   yearID  HR\n",
       "0    2000  49\n",
       "1    2001  73\n",
       "2    2002  46\n",
       "3    2003  45\n",
       "4    2004  45\n",
       "5    2005   5\n",
       "6    2006  26\n",
       "7    2007  28"
      ]
     },
     "execution_count": 182,
     "metadata": {},
     "output_type": "execute_result"
    }
   ],
   "source": [
    "df"
   ]
  },
  {
   "cell_type": "code",
   "execution_count": 183,
   "metadata": {},
   "outputs": [
    {
     "data": {
      "image/png": "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\n",
      "text/plain": [
       "<Figure size 432x288 with 1 Axes>"
      ]
     },
     "metadata": {},
     "output_type": "display_data"
    }
   ],
   "source": [
    "df.plot(x='yearID', y='HR')\n",
    "plt.savefig('df.png')  # save to PNG file"
   ]
  },
  {
   "cell_type": "markdown",
   "metadata": {},
   "source": [
    "The plot we created has no title or  *y* -axis label. We can manually set the plot's title and axis labels using the pyplot API."
   ]
  },
  {
   "cell_type": "code",
   "execution_count": 184,
   "metadata": {},
   "outputs": [
    {
     "data": {
      "text/html": [
       "<div>\n",
       "<style scoped>\n",
       "    .dataframe tbody tr th:only-of-type {\n",
       "        vertical-align: middle;\n",
       "    }\n",
       "\n",
       "    .dataframe tbody tr th {\n",
       "        vertical-align: top;\n",
       "    }\n",
       "\n",
       "    .dataframe thead th {\n",
       "        text-align: right;\n",
       "    }\n",
       "</style>\n",
       "<table border=\"1\" class=\"dataframe\">\n",
       "  <thead>\n",
       "    <tr style=\"text-align: right;\">\n",
       "      <th></th>\n",
       "      <th>yearID</th>\n",
       "      <th>HR</th>\n",
       "    </tr>\n",
       "  </thead>\n",
       "  <tbody>\n",
       "    <tr>\n",
       "      <th>0</th>\n",
       "      <td>2000</td>\n",
       "      <td>49</td>\n",
       "    </tr>\n",
       "    <tr>\n",
       "      <th>1</th>\n",
       "      <td>2001</td>\n",
       "      <td>73</td>\n",
       "    </tr>\n",
       "    <tr>\n",
       "      <th>2</th>\n",
       "      <td>2002</td>\n",
       "      <td>46</td>\n",
       "    </tr>\n",
       "    <tr>\n",
       "      <th>3</th>\n",
       "      <td>2003</td>\n",
       "      <td>45</td>\n",
       "    </tr>\n",
       "    <tr>\n",
       "      <th>4</th>\n",
       "      <td>2004</td>\n",
       "      <td>45</td>\n",
       "    </tr>\n",
       "    <tr>\n",
       "      <th>5</th>\n",
       "      <td>2005</td>\n",
       "      <td>5</td>\n",
       "    </tr>\n",
       "    <tr>\n",
       "      <th>6</th>\n",
       "      <td>2006</td>\n",
       "      <td>26</td>\n",
       "    </tr>\n",
       "    <tr>\n",
       "      <th>7</th>\n",
       "      <td>2007</td>\n",
       "      <td>28</td>\n",
       "    </tr>\n",
       "  </tbody>\n",
       "</table>\n",
       "</div>"
      ],
      "text/plain": [
       "   yearID  HR\n",
       "0    2000  49\n",
       "1    2001  73\n",
       "2    2002  46\n",
       "3    2003  45\n",
       "4    2004  45\n",
       "5    2005   5\n",
       "6    2006  26\n",
       "7    2007  28"
      ]
     },
     "execution_count": 184,
     "metadata": {},
     "output_type": "execute_result"
    }
   ],
   "source": [
    "df"
   ]
  },
  {
   "cell_type": "code",
   "execution_count": 185,
   "metadata": {},
   "outputs": [
    {
     "data": {
      "image/png": "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\n",
      "text/plain": [
       "<Figure size 432x288 with 1 Axes>"
      ]
     },
     "metadata": {},
     "output_type": "display_data"
    }
   ],
   "source": [
    "df.plot(x='yearID', y='HR')\n",
    "plt.title('HR vs. Year')\n",
    "plt.xlabel('Year')\n",
    "plt.ylabel('HR Count')\n",
    "plt.show()"
   ]
  },
  {
   "cell_type": "markdown",
   "metadata": {},
   "source": [
    "We use the  `title`  function to set the title of our plot, and the  `xlabel`  and  `ylabel`  functions to set the axis labels."
   ]
  },
  {
   "cell_type": "markdown",
   "metadata": {},
   "source": [
    "### B. Other plots"
   ]
  },
  {
   "cell_type": "markdown",
   "metadata": {},
   "source": [
    "In addition to basic line plots, we can create other plots like histograms or boxplots by setting the  `kind`  keyword argument in  `plot` ."
   ]
  },
  {
   "cell_type": "code",
   "execution_count": 187,
   "metadata": {},
   "outputs": [
    {
     "data": {
      "text/html": [
       "<div>\n",
       "<style scoped>\n",
       "    .dataframe tbody tr th:only-of-type {\n",
       "        vertical-align: middle;\n",
       "    }\n",
       "\n",
       "    .dataframe tbody tr th {\n",
       "        vertical-align: top;\n",
       "    }\n",
       "\n",
       "    .dataframe thead th {\n",
       "        text-align: right;\n",
       "    }\n",
       "</style>\n",
       "<table border=\"1\" class=\"dataframe\">\n",
       "  <thead>\n",
       "    <tr style=\"text-align: right;\">\n",
       "      <th></th>\n",
       "      <th>yearID</th>\n",
       "      <th>HR</th>\n",
       "    </tr>\n",
       "  </thead>\n",
       "  <tbody>\n",
       "    <tr>\n",
       "      <th>0</th>\n",
       "      <td>2000</td>\n",
       "      <td>49</td>\n",
       "    </tr>\n",
       "    <tr>\n",
       "      <th>1</th>\n",
       "      <td>2001</td>\n",
       "      <td>73</td>\n",
       "    </tr>\n",
       "    <tr>\n",
       "      <th>2</th>\n",
       "      <td>2002</td>\n",
       "      <td>46</td>\n",
       "    </tr>\n",
       "    <tr>\n",
       "      <th>3</th>\n",
       "      <td>2003</td>\n",
       "      <td>45</td>\n",
       "    </tr>\n",
       "    <tr>\n",
       "      <th>4</th>\n",
       "      <td>2004</td>\n",
       "      <td>45</td>\n",
       "    </tr>\n",
       "    <tr>\n",
       "      <th>5</th>\n",
       "      <td>2005</td>\n",
       "      <td>5</td>\n",
       "    </tr>\n",
       "    <tr>\n",
       "      <th>6</th>\n",
       "      <td>2006</td>\n",
       "      <td>26</td>\n",
       "    </tr>\n",
       "    <tr>\n",
       "      <th>7</th>\n",
       "      <td>2007</td>\n",
       "      <td>28</td>\n",
       "    </tr>\n",
       "  </tbody>\n",
       "</table>\n",
       "</div>"
      ],
      "text/plain": [
       "   yearID  HR\n",
       "0    2000  49\n",
       "1    2001  73\n",
       "2    2002  46\n",
       "3    2003  45\n",
       "4    2004  45\n",
       "5    2005   5\n",
       "6    2006  26\n",
       "7    2007  28"
      ]
     },
     "execution_count": 187,
     "metadata": {},
     "output_type": "execute_result"
    }
   ],
   "source": [
    "df"
   ]
  },
  {
   "cell_type": "code",
   "execution_count": 188,
   "metadata": {},
   "outputs": [
    {
     "data": {
      "image/png": "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\n",
      "text/plain": [
       "<Figure size 432x288 with 1 Axes>"
      ]
     },
     "metadata": {},
     "output_type": "display_data"
    }
   ],
   "source": [
    "df.HR.plot(kind='hist')\n",
    "plt.show()"
   ]
  },
  {
   "cell_type": "code",
   "execution_count": 189,
   "metadata": {},
   "outputs": [
    {
     "data": {
      "image/png": "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\n",
      "text/plain": [
       "<Figure size 432x288 with 1 Axes>"
      ]
     },
     "metadata": {},
     "output_type": "display_data"
    }
   ],
   "source": [
    "df.HR.plot(kind='box')\n",
    "plt.show()"
   ]
  },
  {
   "cell_type": "markdown",
   "metadata": {},
   "source": [
    "There are numerous different kinds of plots we can create by setting the  `kind`  keyword argument. A list of the accepted values for  `kind`  can be found in the [documentation](https://pandas.pydata.org/pandas-docs/stable/reference/api/pandas.DataFrame.plot.html#pandas.DataFrame.plot) for  `plot` ."
   ]
  },
  {
   "cell_type": "markdown",
   "metadata": {},
   "source": [
    "### C. Multiple features"
   ]
  },
  {
   "cell_type": "markdown",
   "metadata": {},
   "source": [
    "We can also plot multiple features on the same graph. This can be extremely useful when we want visualizations to compare different features."
   ]
  },
  {
   "cell_type": "code",
   "execution_count": 190,
   "metadata": {},
   "outputs": [
    {
     "data": {
      "text/html": [
       "<div>\n",
       "<style scoped>\n",
       "    .dataframe tbody tr th:only-of-type {\n",
       "        vertical-align: middle;\n",
       "    }\n",
       "\n",
       "    .dataframe tbody tr th {\n",
       "        vertical-align: top;\n",
       "    }\n",
       "\n",
       "    .dataframe thead th {\n",
       "        text-align: right;\n",
       "    }\n",
       "</style>\n",
       "<table border=\"1\" class=\"dataframe\">\n",
       "  <thead>\n",
       "    <tr style=\"text-align: right;\">\n",
       "      <th></th>\n",
       "      <th>yearID</th>\n",
       "      <th>H</th>\n",
       "      <th>BB</th>\n",
       "    </tr>\n",
       "  </thead>\n",
       "  <tbody>\n",
       "    <tr>\n",
       "      <th>0</th>\n",
       "      <td>2000</td>\n",
       "      <td>147</td>\n",
       "      <td>117</td>\n",
       "    </tr>\n",
       "    <tr>\n",
       "      <th>1</th>\n",
       "      <td>2001</td>\n",
       "      <td>156</td>\n",
       "      <td>177</td>\n",
       "    </tr>\n",
       "    <tr>\n",
       "      <th>2</th>\n",
       "      <td>2002</td>\n",
       "      <td>149</td>\n",
       "      <td>198</td>\n",
       "    </tr>\n",
       "    <tr>\n",
       "      <th>3</th>\n",
       "      <td>2003</td>\n",
       "      <td>133</td>\n",
       "      <td>148</td>\n",
       "    </tr>\n",
       "    <tr>\n",
       "      <th>4</th>\n",
       "      <td>2004</td>\n",
       "      <td>135</td>\n",
       "      <td>232</td>\n",
       "    </tr>\n",
       "    <tr>\n",
       "      <th>5</th>\n",
       "      <td>2005</td>\n",
       "      <td>12</td>\n",
       "      <td>9</td>\n",
       "    </tr>\n",
       "    <tr>\n",
       "      <th>6</th>\n",
       "      <td>2006</td>\n",
       "      <td>99</td>\n",
       "      <td>115</td>\n",
       "    </tr>\n",
       "    <tr>\n",
       "      <th>7</th>\n",
       "      <td>2007</td>\n",
       "      <td>94</td>\n",
       "      <td>132</td>\n",
       "    </tr>\n",
       "  </tbody>\n",
       "</table>\n",
       "</div>"
      ],
      "text/plain": [
       "   yearID    H   BB\n",
       "0    2000  147  117\n",
       "1    2001  156  177\n",
       "2    2002  149  198\n",
       "3    2003  133  148\n",
       "4    2004  135  232\n",
       "5    2005   12    9\n",
       "6    2006   99  115\n",
       "7    2007   94  132"
      ]
     },
     "execution_count": 190,
     "metadata": {},
     "output_type": "execute_result"
    }
   ],
   "source": [
    "df = pd.DataFrame(\n",
    "    {\n",
    "        'yearID': [2000, 2001, 2002, 2003, 2004, 2005, 2006, 2007], \n",
    "        'H': [147, 156, 149, 133, 135, 12, 99, 94], \n",
    "        'BB': [117, 177, 198, 148, 232, 9, 115, 132]\n",
    "    }\n",
    ")\n",
    "df"
   ]
  },
  {
   "cell_type": "code",
   "execution_count": 191,
   "metadata": {},
   "outputs": [
    {
     "data": {
      "image/png": "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\n",
      "text/plain": [
       "<Figure size 432x288 with 1 Axes>"
      ]
     },
     "metadata": {},
     "output_type": "display_data"
    }
   ],
   "source": [
    "df.plot(x='yearID')\n",
    "plt.show()"
   ]
  },
  {
   "cell_type": "code",
   "execution_count": 193,
   "metadata": {},
   "outputs": [
    {
     "data": {
      "image/png": "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\n",
      "text/plain": [
       "<Figure size 432x288 with 1 Axes>"
      ]
     },
     "metadata": {},
     "output_type": "display_data"
    }
   ],
   "source": [
    "df[['H', 'BB']].plot(kind='box')\n",
    "plt.show()"
   ]
  },
  {
   "cell_type": "markdown",
   "metadata": {},
   "source": [
    "These are a line plot and boxplot showing both hits ( `H` ) and walks ( `BB` ). Note that the circles in the boxplot represent outlier values."
   ]
  },
  {
   "cell_type": "markdown",
   "metadata": {},
   "source": [
    "## To NumPy\n",
    "\n",
    "Understand how DataFrames can be converted to 2-D NumPy arrays."
   ]
  },
  {
   "cell_type": "markdown",
   "metadata": {},
   "source": [
    "### Goals:\n",
    "\n",
    "* Explore how to convert a DataFrame to a NumPy matrix\n",
    "* Write code to modify an MLB dataset and convert it to a NumPy matrix"
   ]
  },
  {
   "cell_type": "markdown",
   "metadata": {},
   "source": [
    "### A. Machine learning"
   ]
  },
  {
   "cell_type": "markdown",
   "metadata": {},
   "source": [
    "The DataFrame object is great for storing a dataset and performing data analysis in Python. However, most machine learning frameworks (e.g. TensorFlow), work directly with NumPy data. Furthermore, the NumPy data used as input to machine learning models must solely contain quantitative values.\n",
    "\n",
    "Therefore, to use a DataFrame's data with a machine learning model, we need to convert the DataFrame to a NumPy matrix of quantitative data. So even the categorical features of a DataFrame, such as gender and birthplace, must be converted to quantitative values."
   ]
  },
  {
   "cell_type": "markdown",
   "metadata": {},
   "source": [
    "### B. Indicator features"
   ]
  },
  {
   "cell_type": "markdown",
   "metadata": {},
   "source": [
    "When converting a DataFrame to a NumPy matrix of quantitative data, we need to find a way to modify the categorical features in the DataFrame.\n",
    "\n",
    "The easiest way to do this is to convert each categorical feature into a set of  *indicator features*  for each of its categories. The indicator feature for a specific category represents whether or not a given data sample belongs to that category.\n",
    "\n",
    "The code below shows a DataFrame with indicator features."
   ]
  },
  {
   "cell_type": "code",
   "execution_count": 3,
   "metadata": {},
   "outputs": [
    {
     "data": {
      "text/html": [
       "<div>\n",
       "<style scoped>\n",
       "    .dataframe tbody tr th:only-of-type {\n",
       "        vertical-align: middle;\n",
       "    }\n",
       "\n",
       "    .dataframe tbody tr th {\n",
       "        vertical-align: top;\n",
       "    }\n",
       "\n",
       "    .dataframe thead th {\n",
       "        text-align: right;\n",
       "    }\n",
       "</style>\n",
       "<table border=\"1\" class=\"dataframe\">\n",
       "  <thead>\n",
       "    <tr style=\"text-align: right;\">\n",
       "      <th></th>\n",
       "      <th>color</th>\n",
       "    </tr>\n",
       "  </thead>\n",
       "  <tbody>\n",
       "    <tr>\n",
       "      <th>r1</th>\n",
       "      <td>red</td>\n",
       "    </tr>\n",
       "    <tr>\n",
       "      <th>r2</th>\n",
       "      <td>blue</td>\n",
       "    </tr>\n",
       "    <tr>\n",
       "      <th>r3</th>\n",
       "      <td>green</td>\n",
       "    </tr>\n",
       "    <tr>\n",
       "      <th>r4</th>\n",
       "      <td>red</td>\n",
       "    </tr>\n",
       "    <tr>\n",
       "      <th>r5</th>\n",
       "      <td>red</td>\n",
       "    </tr>\n",
       "    <tr>\n",
       "      <th>r6</th>\n",
       "      <td>blue</td>\n",
       "    </tr>\n",
       "  </tbody>\n",
       "</table>\n",
       "</div>"
      ],
      "text/plain": [
       "    color\n",
       "r1    red\n",
       "r2   blue\n",
       "r3  green\n",
       "r4    red\n",
       "r5    red\n",
       "r6   blue"
      ]
     },
     "execution_count": 3,
     "metadata": {},
     "output_type": "execute_result"
    }
   ],
   "source": [
    "df = pd.DataFrame(\n",
    "    {\n",
    "        'color': {'r3': 'green', 'r4': 'red', 'r6': 'blue', 'r5': 'red', 'r1': 'red', 'r2': 'blue'}\n",
    "    }\n",
    ")\n",
    "df"
   ]
  },
  {
   "cell_type": "code",
   "execution_count": 4,
   "metadata": {},
   "outputs": [
    {
     "data": {
      "text/html": [
       "<div>\n",
       "<style scoped>\n",
       "    .dataframe tbody tr th:only-of-type {\n",
       "        vertical-align: middle;\n",
       "    }\n",
       "\n",
       "    .dataframe tbody tr th {\n",
       "        vertical-align: top;\n",
       "    }\n",
       "\n",
       "    .dataframe thead th {\n",
       "        text-align: right;\n",
       "    }\n",
       "</style>\n",
       "<table border=\"1\" class=\"dataframe\">\n",
       "  <thead>\n",
       "    <tr style=\"text-align: right;\">\n",
       "      <th></th>\n",
       "      <th>color_blue</th>\n",
       "      <th>color_green</th>\n",
       "      <th>color_red</th>\n",
       "    </tr>\n",
       "  </thead>\n",
       "  <tbody>\n",
       "    <tr>\n",
       "      <th>r1</th>\n",
       "      <td>0</td>\n",
       "      <td>0</td>\n",
       "      <td>1</td>\n",
       "    </tr>\n",
       "    <tr>\n",
       "      <th>r2</th>\n",
       "      <td>1</td>\n",
       "      <td>0</td>\n",
       "      <td>0</td>\n",
       "    </tr>\n",
       "    <tr>\n",
       "      <th>r3</th>\n",
       "      <td>0</td>\n",
       "      <td>1</td>\n",
       "      <td>0</td>\n",
       "    </tr>\n",
       "    <tr>\n",
       "      <th>r4</th>\n",
       "      <td>0</td>\n",
       "      <td>0</td>\n",
       "      <td>1</td>\n",
       "    </tr>\n",
       "    <tr>\n",
       "      <th>r5</th>\n",
       "      <td>0</td>\n",
       "      <td>0</td>\n",
       "      <td>1</td>\n",
       "    </tr>\n",
       "    <tr>\n",
       "      <th>r6</th>\n",
       "      <td>1</td>\n",
       "      <td>0</td>\n",
       "      <td>0</td>\n",
       "    </tr>\n",
       "  </tbody>\n",
       "</table>\n",
       "</div>"
      ],
      "text/plain": [
       "    color_blue  color_green  color_red\n",
       "r1           0            0          1\n",
       "r2           1            0          0\n",
       "r3           0            1          0\n",
       "r4           0            0          1\n",
       "r5           0            0          1\n",
       "r6           1            0          0"
      ]
     },
     "execution_count": 4,
     "metadata": {},
     "output_type": "execute_result"
    }
   ],
   "source": [
    "pd.get_dummies(df)"
   ]
  },
  {
   "cell_type": "markdown",
   "metadata": {},
   "source": [
    "In the code above, the DataFrame  `df`  has a single categorical feature called  `Color` . The corresponding indicator features for  `Color`  are shown in  `indicator_df` .\n",
    "\n",
    "Note that an indicator feature contains  `1`  when the row has that particular category, and  `0`  if the row does not."
   ]
  },
  {
   "cell_type": "markdown",
   "metadata": {},
   "source": [
    "### C. Converting to indicators"
   ]
  },
  {
   "cell_type": "markdown",
   "metadata": {},
   "source": [
    "In pandas, we convert each categorical feature of a DataFrame to indicator features with the  `get_dummies`  function. The function takes in a DataFrame as its required argument, and returns the DataFrame with each of its categorical features converted to indicator features.\n",
    "\n",
    "The code below demonstrates how to use the  `get_dummies`  function."
   ]
  },
  {
   "cell_type": "code",
   "execution_count": 5,
   "metadata": {},
   "outputs": [
    {
     "data": {
      "text/html": [
       "<div>\n",
       "<style scoped>\n",
       "    .dataframe tbody tr th:only-of-type {\n",
       "        vertical-align: middle;\n",
       "    }\n",
       "\n",
       "    .dataframe tbody tr th {\n",
       "        vertical-align: top;\n",
       "    }\n",
       "\n",
       "    .dataframe thead th {\n",
       "        text-align: right;\n",
       "    }\n",
       "</style>\n",
       "<table border=\"1\" class=\"dataframe\">\n",
       "  <thead>\n",
       "    <tr style=\"text-align: right;\">\n",
       "      <th></th>\n",
       "      <th>lgID</th>\n",
       "      <th>teamID</th>\n",
       "    </tr>\n",
       "  </thead>\n",
       "  <tbody>\n",
       "    <tr>\n",
       "      <th>polangr01</th>\n",
       "      <td>NL</td>\n",
       "      <td>PIT</td>\n",
       "    </tr>\n",
       "    <tr>\n",
       "      <th>pedrodu01</th>\n",
       "      <td>AL</td>\n",
       "      <td>BOS</td>\n",
       "    </tr>\n",
       "    <tr>\n",
       "      <th>bettsmo01</th>\n",
       "      <td>AL</td>\n",
       "      <td>BOS</td>\n",
       "    </tr>\n",
       "    <tr>\n",
       "      <th>martest01</th>\n",
       "      <td>NL</td>\n",
       "      <td>PIT</td>\n",
       "    </tr>\n",
       "  </tbody>\n",
       "</table>\n",
       "</div>"
      ],
      "text/plain": [
       "          lgID teamID\n",
       "polangr01   NL    PIT\n",
       "pedrodu01   AL    BOS\n",
       "bettsmo01   AL    BOS\n",
       "martest01   NL    PIT"
      ]
     },
     "execution_count": 5,
     "metadata": {},
     "output_type": "execute_result"
    }
   ],
   "source": [
    "df = pd.DataFrame(\n",
    "    {\n",
    "        'lgID': {'polangr01': 'NL', 'pedrodu01': 'AL', 'bettsmo01': 'AL', 'martest01': 'NL'}, \n",
    "        'teamID': {'polangr01': 'PIT', 'pedrodu01': 'BOS', 'bettsmo01': 'BOS', 'martest01': 'PIT'}\n",
    "    }\n",
    ")\n",
    "df"
   ]
  },
  {
   "cell_type": "code",
   "execution_count": 6,
   "metadata": {},
   "outputs": [
    {
     "data": {
      "text/plain": [
       "Index(['lgID_AL', 'lgID_NL', 'teamID_BOS', 'teamID_PIT'], dtype='object')"
      ]
     },
     "execution_count": 6,
     "metadata": {},
     "output_type": "execute_result"
    }
   ],
   "source": [
    "converted = pd.get_dummies(df)\n",
    "converted.columns"
   ]
  },
  {
   "cell_type": "code",
   "execution_count": 7,
   "metadata": {},
   "outputs": [
    {
     "data": {
      "text/html": [
       "<div>\n",
       "<style scoped>\n",
       "    .dataframe tbody tr th:only-of-type {\n",
       "        vertical-align: middle;\n",
       "    }\n",
       "\n",
       "    .dataframe tbody tr th {\n",
       "        vertical-align: top;\n",
       "    }\n",
       "\n",
       "    .dataframe thead th {\n",
       "        text-align: right;\n",
       "    }\n",
       "</style>\n",
       "<table border=\"1\" class=\"dataframe\">\n",
       "  <thead>\n",
       "    <tr style=\"text-align: right;\">\n",
       "      <th></th>\n",
       "      <th>teamID_BOS</th>\n",
       "      <th>teamID_PIT</th>\n",
       "    </tr>\n",
       "  </thead>\n",
       "  <tbody>\n",
       "    <tr>\n",
       "      <th>polangr01</th>\n",
       "      <td>0</td>\n",
       "      <td>1</td>\n",
       "    </tr>\n",
       "    <tr>\n",
       "      <th>pedrodu01</th>\n",
       "      <td>1</td>\n",
       "      <td>0</td>\n",
       "    </tr>\n",
       "    <tr>\n",
       "      <th>bettsmo01</th>\n",
       "      <td>1</td>\n",
       "      <td>0</td>\n",
       "    </tr>\n",
       "    <tr>\n",
       "      <th>martest01</th>\n",
       "      <td>0</td>\n",
       "      <td>1</td>\n",
       "    </tr>\n",
       "  </tbody>\n",
       "</table>\n",
       "</div>"
      ],
      "text/plain": [
       "           teamID_BOS  teamID_PIT\n",
       "polangr01           0           1\n",
       "pedrodu01           1           0\n",
       "bettsmo01           1           0\n",
       "martest01           0           1"
      ]
     },
     "execution_count": 7,
     "metadata": {},
     "output_type": "execute_result"
    }
   ],
   "source": [
    "converted[['teamID_BOS', 'teamID_PIT']]"
   ]
  },
  {
   "cell_type": "code",
   "execution_count": 8,
   "metadata": {},
   "outputs": [
    {
     "data": {
      "text/html": [
       "<div>\n",
       "<style scoped>\n",
       "    .dataframe tbody tr th:only-of-type {\n",
       "        vertical-align: middle;\n",
       "    }\n",
       "\n",
       "    .dataframe tbody tr th {\n",
       "        vertical-align: top;\n",
       "    }\n",
       "\n",
       "    .dataframe thead th {\n",
       "        text-align: right;\n",
       "    }\n",
       "</style>\n",
       "<table border=\"1\" class=\"dataframe\">\n",
       "  <thead>\n",
       "    <tr style=\"text-align: right;\">\n",
       "      <th></th>\n",
       "      <th>lgID_AL</th>\n",
       "      <th>lgID_NL</th>\n",
       "    </tr>\n",
       "  </thead>\n",
       "  <tbody>\n",
       "    <tr>\n",
       "      <th>polangr01</th>\n",
       "      <td>0</td>\n",
       "      <td>1</td>\n",
       "    </tr>\n",
       "    <tr>\n",
       "      <th>pedrodu01</th>\n",
       "      <td>1</td>\n",
       "      <td>0</td>\n",
       "    </tr>\n",
       "    <tr>\n",
       "      <th>bettsmo01</th>\n",
       "      <td>1</td>\n",
       "      <td>0</td>\n",
       "    </tr>\n",
       "    <tr>\n",
       "      <th>martest01</th>\n",
       "      <td>0</td>\n",
       "      <td>1</td>\n",
       "    </tr>\n",
       "  </tbody>\n",
       "</table>\n",
       "</div>"
      ],
      "text/plain": [
       "           lgID_AL  lgID_NL\n",
       "polangr01        0        1\n",
       "pedrodu01        1        0\n",
       "bettsmo01        1        0\n",
       "martest01        0        1"
      ]
     },
     "execution_count": 8,
     "metadata": {},
     "output_type": "execute_result"
    }
   ],
   "source": [
    "converted[['lgID_AL', 'lgID_NL']]"
   ]
  },
  {
   "cell_type": "markdown",
   "metadata": {},
   "source": [
    "> Note: The indicator features have the original categorical feature's label as a prefix. This makes it easy to see where each indicator feature originally came from."
   ]
  },
  {
   "cell_type": "markdown",
   "metadata": {},
   "source": [
    "### D. Converting to NumPy"
   ]
  },
  {
   "cell_type": "markdown",
   "metadata": {},
   "source": [
    "After converting all the categorical features to indicator features, the DataFrame should have all quantitative data. We can then convert to a NumPy matrix using the  `values`  function.\n",
    "\n",
    "The code below converts a DataFrame,  `df`  into a NumPy matrix."
   ]
  },
  {
   "cell_type": "code",
   "execution_count": 10,
   "metadata": {},
   "outputs": [
    {
     "data": {
      "text/html": [
       "<div>\n",
       "<style scoped>\n",
       "    .dataframe tbody tr th:only-of-type {\n",
       "        vertical-align: middle;\n",
       "    }\n",
       "\n",
       "    .dataframe tbody tr th {\n",
       "        vertical-align: top;\n",
       "    }\n",
       "\n",
       "    .dataframe thead th {\n",
       "        text-align: right;\n",
       "    }\n",
       "</style>\n",
       "<table border=\"1\" class=\"dataframe\">\n",
       "  <thead>\n",
       "    <tr style=\"text-align: right;\">\n",
       "      <th></th>\n",
       "      <th>teamID_BOS</th>\n",
       "      <th>teamID_PIT</th>\n",
       "      <th>HR</th>\n",
       "    </tr>\n",
       "  </thead>\n",
       "  <tbody>\n",
       "    <tr>\n",
       "      <th>martest01</th>\n",
       "      <td>0</td>\n",
       "      <td>1</td>\n",
       "      <td>7</td>\n",
       "    </tr>\n",
       "    <tr>\n",
       "      <th>pedrodu01</th>\n",
       "      <td>1</td>\n",
       "      <td>0</td>\n",
       "      <td>7</td>\n",
       "    </tr>\n",
       "    <tr>\n",
       "      <th>bettsmo01</th>\n",
       "      <td>1</td>\n",
       "      <td>0</td>\n",
       "      <td>24</td>\n",
       "    </tr>\n",
       "    <tr>\n",
       "      <th>polangr01</th>\n",
       "      <td>0</td>\n",
       "      <td>1</td>\n",
       "      <td>11</td>\n",
       "    </tr>\n",
       "  </tbody>\n",
       "</table>\n",
       "</div>"
      ],
      "text/plain": [
       "           teamID_BOS  teamID_PIT  HR\n",
       "martest01           0           1   7\n",
       "pedrodu01           1           0   7\n",
       "bettsmo01           1           0  24\n",
       "polangr01           0           1  11"
      ]
     },
     "execution_count": 10,
     "metadata": {},
     "output_type": "execute_result"
    }
   ],
   "source": [
    "df = pd.DataFrame(\n",
    "    {\n",
    "        'teamID_BOS': {'martest01': 0, 'pedrodu01': 1, 'bettsmo01': 1, 'polangr01': 0}, \n",
    "        'teamID_PIT': {'martest01': 1, 'pedrodu01': 0, 'bettsmo01': 0, 'polangr01': 1}, \n",
    "        'HR': {'martest01': 7, 'pedrodu01': 7, 'bettsmo01': 24, 'polangr01': 11}\n",
    "    }\n",
    ")\n",
    "df"
   ]
  },
  {
   "cell_type": "code",
   "execution_count": 11,
   "metadata": {},
   "outputs": [
    {
     "data": {
      "text/plain": [
       "array([[ 0,  1,  7],\n",
       "       [ 1,  0,  7],\n",
       "       [ 1,  0, 24],\n",
       "       [ 0,  1, 11]], dtype=int64)"
      ]
     },
     "execution_count": 11,
     "metadata": {},
     "output_type": "execute_result"
    }
   ],
   "source": [
    "n_matrix = df.values\n",
    "n_matrix"
   ]
  },
  {
   "cell_type": "markdown",
   "metadata": {},
   "source": [
    "The rows and columns of the output matrix correspond to the rows and columns of the same position in the DataFrame. In the code above, the first column of the NumPy matrix represents  `HR` , the second column represents  `teamID_BOS` , and the third column represents  `teamID_PIT` ."
   ]
  },
  {
   "cell_type": "markdown",
   "metadata": {},
   "source": [
    "# 4. Data Preprocessing with scikit-learn"
   ]
  },
  {
   "cell_type": "markdown",
   "metadata": {},
   "source": [
    "## Introduction"
   ]
  },
  {
   "cell_type": "markdown",
   "metadata": {},
   "source": [
    "An overview of industry data science and the scikit-learn API.\n",
    "\n",
    "In the  **Data Preprocessing**  section, we will explore the data preprocessing techniques with scikit-learn, one of the most popular frameworks used for industry data science."
   ]
  },
  {
   "cell_type": "markdown",
   "metadata": {},
   "source": [
    "### A. ML engineering vs. data science"
   ]
  },
  {
   "cell_type": "markdown",
   "metadata": {},
   "source": [
    "In industry, there is quite a bit of overlap between machine learning engineering and data science. Both jobs involve working with data, such as data analysis and data preprocessing.\n",
    "\n",
    "The main task for machine learning engineers is to first analyze the data for viable trends, then create an efficient input pipeline for training a model. This process involves using libraries like [NumPy](http://www.numpy.org/) and [pandas](https://pandas.pydata.org/) for handling data, along with machine learning frameworks like TensorFlow for creating the model and input pipeline.\n",
    "\n",
    "While the NumPy and pandas libraries are also used in data science, the  **Data Preprocessing**  section will cover one of the core libraries that is specific to industry-level data science: [scikit-learn](https://scikit-learn.org/stable/). Data scientists tend to work on smaller datasets than machine learning engineers, and their main goal is to analyze the data and quickly extract usable results. Therefore, they focus more on traditional data inference models (found in scikit-learn), rather than deep neural networks.\n",
    "\n",
    "The scikit-learn library includes tools for data preprocessing and data mining. It is imported in Python via the statement  `import sklearn` ."
   ]
  },
  {
   "cell_type": "markdown",
   "metadata": {},
   "source": [
    "## Standardizing Data\n",
    "\n",
    "Exploring data standardization and implement it with scikit-learn."
   ]
  },
  {
   "cell_type": "markdown",
   "metadata": {},
   "source": [
    "### Goals:\n",
    "\n",
    "* Explore data standardization"
   ]
  },
  {
   "cell_type": "markdown",
   "metadata": {},
   "source": [
    "### A. Standard data format"
   ]
  },
  {
   "cell_type": "markdown",
   "metadata": {},
   "source": [
    "Data can contain all sorts of different values. For example, Olympic 100m sprint times will range from 9.5 to 10.5 seconds, while calorie counts in large pepperoni pizzas can range from 1500 to 3000 calories. Even data measuring the exact same quantities can range in value (e.g. weight in kilograms vs. weight in pounds).\n",
    "\n",
    "When data can take on any range of values, it makes it difficult to interpret. Therefore, data scientists will convert the data into a standard format to make it easier to understand. The standard format refers to data that has 0 mean and unit variance (i.e. standard deviation = 1), and the process of converting data into this format is called  *data standardization* .\n",
    "\n",
    "Data standardization is a relatively simple process. For each data value,  *x* , we subtract the overall mean of the data, μ, then divide by the overall standard deviation, $\\sigma$. The new value,  *z* , represents the standardized data value. Thus, the formula for data standardization is:\n",
    "\n",
    "$$\n",
    "z = \\frac{x - μ }{\\sigma}\n",
    "$$"
   ]
  },
  {
   "cell_type": "markdown",
   "metadata": {},
   "source": [
    "### B. NumPy and scikit-learn"
   ]
  },
  {
   "cell_type": "markdown",
   "metadata": {},
   "source": [
    "For most scikit-learn functions, the input data comes in the form of a NumPy array.\n",
    "\n",
    "**Note:**  The array’s rows represent individual data observations, while each column represents a particular feature of the data, i.e. the same format as a spreadsheet data table.\n",
    "\n",
    "The scikit-learn data preprocessing module is called  `sklearn.preprocessing` . One of the functions in this module,  `scale` , applies data standardization to a given axis of a NumPy array."
   ]
  },
  {
   "cell_type": "code",
   "execution_count": 3,
   "metadata": {},
   "outputs": [
    {
     "data": {
      "text/plain": [
       "array([[2100,   10,  800],\n",
       "       [2500,   11,  850],\n",
       "       [1800,   10,  760],\n",
       "       [2000,   12,  800],\n",
       "       [2300,   11,  810]])"
      ]
     },
     "execution_count": 3,
     "metadata": {},
     "output_type": "execute_result"
    }
   ],
   "source": [
    "pizza_data = np.array([[2100,   10,  800],\n",
    "                       [2500,   11,  850],\n",
    "                       [1800,   10,  760],\n",
    "                       [2000,   12,  800],\n",
    "                       [2300,   11,  810]])\n",
    "pizza_data"
   ]
  },
  {
   "cell_type": "code",
   "execution_count": 6,
   "metadata": {},
   "outputs": [
    {
     "data": {
      "text/plain": [
       "array([[-0.16552118, -1.06904497, -0.1393466 ],\n",
       "       [ 1.4896906 ,  0.26726124,  1.60248593],\n",
       "       [-1.40693001, -1.06904497, -1.53281263],\n",
       "       [-0.57932412,  1.60356745, -0.1393466 ],\n",
       "       [ 0.66208471,  0.26726124,  0.2090199 ]])"
      ]
     },
     "execution_count": 6,
     "metadata": {},
     "output_type": "execute_result"
    }
   ],
   "source": [
    "# Standardizing each column of pizza_data\n",
    "col_standardized = scale(pizza_data)\n",
    "col_standardized"
   ]
  },
  {
   "cell_type": "code",
   "execution_count": 7,
   "metadata": {},
   "outputs": [
    {
     "data": {
      "text/plain": [
       "array([ 0., -0.,  0.])"
      ]
     },
     "execution_count": 7,
     "metadata": {},
     "output_type": "execute_result"
    }
   ],
   "source": [
    "# Column means (rounded to nearest thousandth)\n",
    "col_means = col_standardized.mean(axis=0).round(decimals=3)\n",
    "col_means"
   ]
  },
  {
   "cell_type": "code",
   "execution_count": 8,
   "metadata": {},
   "outputs": [
    {
     "data": {
      "text/plain": [
       "array([1., 1., 1.])"
      ]
     },
     "execution_count": 8,
     "metadata": {},
     "output_type": "execute_result"
    }
   ],
   "source": [
    "# Column standard deviations\n",
    "col_stds = col_standardized.std(axis=0)\n",
    "col_stds"
   ]
  },
  {
   "cell_type": "markdown",
   "metadata": {},
   "source": [
    "We normally standardize the data independently across each feature of the data array. This way, we can see how many standard deviations a particular observation's feature value is from the mean.\n",
    "\n",
    "For example, the second data observation in  `pizza_data`  has a net weight of 1.6 standard deviations above the mean pizza weight in the dataset.\n",
    "\n",
    "If for some reason we need to standardize the data across rows, rather than columns, we can set the  `axis`  keyword argument in the  `scale`  function to 1. This may be the case when analyzing data within observations, rather than within a feature. An example of this would be analyzing a particular student's test scores in terms of standard deviations from that student's average test score."
   ]
  },
  {
   "cell_type": "markdown",
   "metadata": {},
   "source": [
    "## Data Range"
   ]
  },
  {
   "cell_type": "markdown",
   "metadata": {},
   "source": [
    "Create a function to compress data into a specific range of values."
   ]
  },
  {
   "cell_type": "markdown",
   "metadata": {},
   "source": [
    "### Goals:\n",
    "\n",
    "* Explore how to compress data values to a specified range"
   ]
  },
  {
   "cell_type": "markdown",
   "metadata": {},
   "source": [
    "### A. Range scaling"
   ]
  },
  {
   "cell_type": "markdown",
   "metadata": {},
   "source": [
    "Apart from standardizing data, we can also scale data by compressing it into a fixed range. One of the biggest use cases for this is compressing data into the range [0, 1]. This allows us to view the data in terms of proportions, or percentages, based on the minimum and maximum values in the data.\n",
    "\n",
    "The formula for scaling based on a range is a two-step process. For a given data value,  $x$ , we first compute the proportion of the value with respect to the min and max of the data  $d_{min}$ and  $d_{max}$, respectively).\n",
    "\n",
    "$$\n",
    "x_{prop} = \\frac{x - d{min}}{d_{max}-d_{min}}\n",
    "$$\n",
    "\n",
    "The formula above computes the proportion of the data value, $x_{prop}$. Note that this only works if not all the data values are the same (i.e.$d_{max} \\neq d_{min}$).\n",
    "\n",
    "We then use the proportion of the value to scale to the specified range, $[r_{min}, r_{max}]$. The formula below calculates the new scaled value, $x_{scale}$.\n",
    "\n",
    "$$\n",
    "x_{scale} = x_{prop}.(r_{max}-r_{min}) + r_{min}\n",
    "$$"
   ]
  },
  {
   "cell_type": "markdown",
   "metadata": {},
   "source": [
    "### B. Range compression in scikit-learn"
   ]
  },
  {
   "cell_type": "markdown",
   "metadata": {},
   "source": [
    "The scikit-learn library provides a variety of  *transformers* , modules that perform transformations on data. While in the previous chapter we used a single function,  `scale` , to perform the data standardization, the remaining chapters will focus on using these transformer modules.\n",
    "\n",
    "The  `MinMaxScaler`  transformer performs the range compression using the previous formula. Specifically, it scales each feature (column) of the data to a given range (where the default range is [0, 1]).\n",
    "\n",
    "The code below shows how to use the  `MinMaxScaler`  (with the default range and a custom range).\n",
    "\n",
    "The  `MinMaxScaler`  object contains a function called  `fit_transform` , which allows it to take in the input data array and then output the scaled data. The function is a combination of the object's  `fit`  and  `transform`  functions, where the former takes in an input data array and the latter transforms a (possibly different) array based on the data from the input to the  `fit`  function."
   ]
  },
  {
   "cell_type": "code",
   "execution_count": 9,
   "metadata": {},
   "outputs": [
    {
     "data": {
      "text/plain": [
       "array([[ 1.2,  3.2],\n",
       "       [-0.3, -1.2],\n",
       "       [ 6.5, 10.1],\n",
       "       [ 2.2, -8.4]])"
      ]
     },
     "execution_count": 9,
     "metadata": {},
     "output_type": "execute_result"
    }
   ],
   "source": [
    "data = np.array([[ 1.2,  3.2],\n",
    "                 [-0.3, -1.2],\n",
    "                 [ 6.5, 10.1],\n",
    "                 [ 2.2, -8.4]])\n",
    "data"
   ]
  },
  {
   "cell_type": "code",
   "execution_count": 11,
   "metadata": {},
   "outputs": [
    {
     "data": {
      "text/plain": [
       "array([[0.22058824, 0.62702703],\n",
       "       [0.        , 0.38918919],\n",
       "       [1.        , 1.        ],\n",
       "       [0.36764706, 0.        ]])"
      ]
     },
     "execution_count": 11,
     "metadata": {},
     "output_type": "execute_result"
    }
   ],
   "source": [
    "default_scaler = MinMaxScaler() # the default range is [0,1]\n",
    "transformed = default_scaler.fit_transform(data)\n",
    "transformed"
   ]
  },
  {
   "cell_type": "code",
   "execution_count": 12,
   "metadata": {},
   "outputs": [
    {
     "data": {
      "text/plain": [
       "array([[-0.89705882,  1.13513514],\n",
       "       [-2.        , -0.05405405],\n",
       "       [ 3.        ,  3.        ],\n",
       "       [-0.16176471, -2.        ]])"
      ]
     },
     "execution_count": 12,
     "metadata": {},
     "output_type": "execute_result"
    }
   ],
   "source": [
    "custom_scaler = MinMaxScaler(feature_range=(-2, 3))\n",
    "transformed = custom_scaler.fit_transform(data)\n",
    "transformed"
   ]
  },
  {
   "cell_type": "markdown",
   "metadata": {},
   "source": [
    "Now lets run the  `fit`  and  `transform`  functions separately and compare them with the  `fit_transform`  function.  `fit`  takes in an input data array and  `transform`  transforms a (possibly different) array based on the data from the input to the fit function."
   ]
  },
  {
   "cell_type": "code",
   "execution_count": 13,
   "metadata": {},
   "outputs": [
    {
     "data": {
      "text/plain": [
       "array([[ 1.2, -0.5],\n",
       "       [ 5.3,  2.3],\n",
       "       [-3.3,  4.1]])"
      ]
     },
     "execution_count": 13,
     "metadata": {},
     "output_type": "execute_result"
    }
   ],
   "source": [
    "new_data = np.array([[ 1.2, -0.5],\n",
    "                     [ 5.3,  2.3],\n",
    "                     [-3.3,  4.1]])\n",
    "new_data"
   ]
  },
  {
   "cell_type": "code",
   "execution_count": 14,
   "metadata": {},
   "outputs": [
    {
     "data": {
      "text/plain": [
       "array([[0.52325581, 0.        ],\n",
       "       [1.        , 0.60869565],\n",
       "       [0.        , 1.        ]])"
      ]
     },
     "execution_count": 14,
     "metadata": {},
     "output_type": "execute_result"
    }
   ],
   "source": [
    "default_scaler = MinMaxScaler() # the default range is [0,1]\n",
    "transformed = default_scaler.fit_transform(new_data)\n",
    "transformed"
   ]
  },
  {
   "cell_type": "code",
   "execution_count": 15,
   "metadata": {},
   "outputs": [
    {
     "data": {
      "text/plain": [
       "array([[ 0.22058824,  0.42702703],\n",
       "       [ 0.82352941,  0.57837838],\n",
       "       [-0.44117647,  0.67567568]])"
      ]
     },
     "execution_count": 15,
     "metadata": {},
     "output_type": "execute_result"
    }
   ],
   "source": [
    "default_scaler = MinMaxScaler()  # new instance\n",
    "default_scaler.fit(data)  # different data value fit\n",
    "transformed = default_scaler.transform(new_data)\n",
    "transformed"
   ]
  },
  {
   "cell_type": "markdown",
   "metadata": {},
   "source": [
    "The code above scales the  `new_data`  array to the range [0, 1], based on the (column-wise) minimum and maximum values from the  `data`  array in the original code example."
   ]
  },
  {
   "cell_type": "markdown",
   "metadata": {},
   "source": [
    "## Robust Scaling\n",
    "\n",
    "Understanding how outliers can affect data and implement robust scaling."
   ]
  },
  {
   "cell_type": "markdown",
   "metadata": {},
   "source": [
    "### Goals:\n",
    "\n",
    "* Exploring how to scale data without being affected by outliers"
   ]
  },
  {
   "cell_type": "markdown",
   "metadata": {},
   "source": [
    "### A. Data outliers"
   ]
  },
  {
   "cell_type": "markdown",
   "metadata": {},
   "source": [
    "An important aspect of data that we have to deal with is  *outliers* . In general terms, an outlier is a data point that is significantly further away from the other data points. For example, if we had watermelons of weights 5, 4, 6, 7, and 20 pounds, the 20 pound watermelon is an outlier.\n",
    "\n",
    "![widget](https://www.educative.io/api/collection/6083138522447872/5629499534213120/page/5172785596858368/image/5630721452408832.png)\n",
    "\n",
    "A 2-D data plot with the outlier data points circled. Note that the outliers in this plot are exaggerated, and in real life outliers are not usually this far from the non-outlier data.\n",
    "\n",
    "The data scaling methods from the previous two chapters are both affected by outliers. Data standardization uses each feature's mean and standard deviation, while ranged scaling uses the maximum and minimum feature values, meaning that they're both susceptible to being skewed by outlier values.\n",
    "\n",
    "We can robustly scale the data, i.e. avoid being affected by outliers, by using use the data's median and [Interquartile Range (IQR)](https://en.wikipedia.org/wiki/Interquartile_range). Since the median and IQR are percentile measurements of the data (50% for median, 25% to 75% for the IQR), they are not affected by outliers. For the scaling method, we just subtract the median from each data value then scale to the IQR."
   ]
  },
  {
   "cell_type": "markdown",
   "metadata": {},
   "source": [
    "### B. Robust scaling with scikit-learn"
   ]
  },
  {
   "cell_type": "markdown",
   "metadata": {},
   "source": [
    "In scikit-learn, we perform robust scaling with the  `RobustScaler`  module. It is another transformer object, with the same  `fit` ,  `transform` , and  `fit_transform`  functions described in the previous chapter.\n",
    "\n",
    "The code below shows how to use the  `RobustScaler` ."
   ]
  },
  {
   "cell_type": "code",
   "execution_count": 17,
   "metadata": {},
   "outputs": [
    {
     "data": {
      "text/plain": [
       "array([[ 0.        , -1.        ],\n",
       "       [ 0.27272727,  2.16666667],\n",
       "       [-0.93939394,  0.33333333],\n",
       "       [-1.12121212, -0.66666667],\n",
       "       [-0.12121212,  0.16666667],\n",
       "       [ 1.54545455, -1.33333333],\n",
       "       [-0.81818182, -0.33333333],\n",
       "       [ 0.06060606,  0.        ],\n",
       "       [ 0.18181818,  0.5       ]])"
      ]
     },
     "execution_count": 17,
     "metadata": {},
     "output_type": "execute_result"
    }
   ],
   "source": [
    "data = np.array([[ 1.2,  2.3],\n",
    "                 [ 2.1,  4.2],\n",
    "                 [-1.9,  3.1],\n",
    "                 [-2.5,  2.5],\n",
    "                 [ 0.8,  3. ],\n",
    "                 [ 6.3,  2.1],\n",
    "                 [-1.5,  2.7],\n",
    "                 [ 1.4,  2.9],\n",
    "                 [ 1.8,  3.2]])\n",
    "robust_scaler = RobustScaler()\n",
    "transformed = robust_scaler.fit_transform(data)\n",
    "transformed"
   ]
  },
  {
   "cell_type": "code",
   "execution_count": 24,
   "metadata": {},
   "outputs": [
    {
     "data": {
      "image/png": "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\n",
      "text/plain": [
       "<Figure size 432x288 with 1 Axes>"
      ]
     },
     "metadata": {},
     "output_type": "display_data"
    }
   ],
   "source": [
    "plt.scatter(data[:,0], data[:,1])\n",
    "plt.xlim((-3, 7))\n",
    "plt.ylim((1, 5))\n",
    "plt.show()"
   ]
  },
  {
   "cell_type": "markdown",
   "metadata": {},
   "source": [
    "## Normalizing Data\n",
    "\n",
    "Learn about data normalization and implement a normalization function."
   ]
  },
  {
   "cell_type": "markdown",
   "metadata": {},
   "source": [
    "### Goals:\n",
    "\n",
    "* Exploring how to apply L2 normalization to data"
   ]
  },
  {
   "cell_type": "markdown",
   "metadata": {},
   "source": [
    "### L2 normalization"
   ]
  },
  {
   "cell_type": "markdown",
   "metadata": {},
   "source": [
    "So far, each of the scaling techniques we've used has been applied to the data features (i.e. columns). However, in certain cases we want to scale the individual data observations (i.e. rows). For instance, when clustering data we need to apply L2 normalization to each row, in order to calculate [cosine similarity scores](https://en.wikipedia.org/wiki/Cosine_similarity).\n",
    "\n",
    "L2 normalization applied to a particular row of a data array will divide each value in that row by the row's [L2 norm](http://mathworld.wolfram.com/L2-Norm.html). In general terms, the L2 norm of a row is just the square root of the sum of squared values for the row.\n",
    "\n",
    "$$\n",
    "X = [x_1, x_2, ..., x_m]\\\\\n",
    "X_{L2} = [\\frac{x_1}{\\ell}, \\frac{x_2}{\\ell}, ..., \\frac{x_m}{\\ell}], where \\ \\ell = \\sqrt{\\sum_{i=1}^{m}{x_i}^2}\n",
    "$$\n",
    "\n",
    "The above formula demonstrates L2 normalization applied to row  *X*  to obtain the normalized row of values,  *X* L2.\n",
    "\n",
    "In sci-kit-learn, the transformer module that implements L2 normalization is the  `Normalizer` .\n",
    "\n",
    "The code below shows how to use the  `Normalizer`."
   ]
  },
  {
   "cell_type": "code",
   "execution_count": 40,
   "metadata": {},
   "outputs": [
    {
     "data": {
      "text/plain": [
       "array([[4, 1, 2, 2],\n",
       "       [3, 4, 0, 0],\n",
       "       [7, 5, 9, 2]])"
      ]
     },
     "execution_count": 40,
     "metadata": {},
     "output_type": "execute_result"
    }
   ],
   "source": [
    "data = np.array([[4, 1, 2, 2],\n",
    "       [3, 4, 0, 0],\n",
    "       [7, 5, 9, 2]])\n",
    "data"
   ]
  },
  {
   "cell_type": "code",
   "execution_count": 43,
   "metadata": {},
   "outputs": [
    {
     "data": {
      "text/plain": [
       "array([[0.8       , 0.2       , 0.4       , 0.4       ],\n",
       "       [0.6       , 0.8       , 0.        , 0.        ],\n",
       "       [0.55513611, 0.39652579, 0.71374643, 0.15861032]])"
      ]
     },
     "execution_count": 43,
     "metadata": {},
     "output_type": "execute_result"
    }
   ],
   "source": [
    "normalizer = Normalizer()\n",
    "transformed = normalizer.fit_transform(data)\n",
    "transformed"
   ]
  },
  {
   "cell_type": "markdown",
   "metadata": {},
   "source": [
    "## Data Imputation\n",
    "\n",
    "Learn about data imputation and the various methods to accomplish it."
   ]
  },
  {
   "cell_type": "markdown",
   "metadata": {},
   "source": [
    "### Goals:\n",
    "\n",
    "* Exploring different methods for imputing data"
   ]
  },
  {
   "cell_type": "markdown",
   "metadata": {},
   "source": [
    "### A. Data imputation methods"
   ]
  },
  {
   "cell_type": "markdown",
   "metadata": {},
   "source": [
    "In real life, we often have to deal with data that contains missing values. Sometimes, if the dataset is missing too many values, we just don't use it. However, if only a few of the values are missing, we can perform [data imputation](https://en.wikipedia.org/wiki/Imputation_(statistics)) to substitute the missing data with some other value(s).\n",
    "\n",
    "There are many different methods for data imputation. In scikit-learn, the  `SimpleImputer`  transformer performs four different data imputation methods.\n",
    "\n",
    "The four methods are:\n",
    "* Using the mean value\n",
    "* Using the median value\n",
    "* Using the most frequent value\n",
    "* Filling in missing values with a constant\n",
    "\n",
    "The code below shows how to perform data imputation using mean values from each column."
   ]
  },
  {
   "cell_type": "code",
   "execution_count": 45,
   "metadata": {},
   "outputs": [
    {
     "data": {
      "text/plain": [
       "array([[ 1.,  2., nan,  2.],\n",
       "       [ 5., nan,  1.,  2.],\n",
       "       [ 4., nan,  3., nan],\n",
       "       [ 5.,  6.,  8.,  1.],\n",
       "       [nan,  7., nan,  0.]])"
      ]
     },
     "execution_count": 45,
     "metadata": {},
     "output_type": "execute_result"
    }
   ],
   "source": [
    "data = np.array([[ 1.,  2., np.NaN,  2.],\n",
    "       [ 5., np.NaN,  1.,  2.],\n",
    "       [ 4., np.NaN,  3., np.NaN],\n",
    "       [ 5.,  6.,  8.,  1.],\n",
    "       [np.NaN,  7., np.NaN,  0.]])\n",
    "data"
   ]
  },
  {
   "cell_type": "code",
   "execution_count": 47,
   "metadata": {},
   "outputs": [
    {
     "data": {
      "text/plain": [
       "array([[1.  , 2.  , 4.  , 2.  ],\n",
       "       [5.  , 5.  , 1.  , 2.  ],\n",
       "       [4.  , 5.  , 3.  , 1.25],\n",
       "       [5.  , 6.  , 8.  , 1.  ],\n",
       "       [3.75, 7.  , 4.  , 0.  ]])"
      ]
     },
     "execution_count": 47,
     "metadata": {},
     "output_type": "execute_result"
    }
   ],
   "source": [
    "imp_mean = SimpleImputer()\n",
    "transformed = imp_mean.fit_transform(data)\n",
    "transformed"
   ]
  },
  {
   "cell_type": "markdown",
   "metadata": {},
   "source": [
    "In NumPy arrays, missing data is represented by the  `np.nan`  value. In the above example, we replaced each missing value with the mean of the values in its column.\n",
    "\n",
    "The default imputation method for  `SimpleImputer`  is using the column means. By using the  `strategy`  keyword argument when initializing a  `SimpleImputer`  object, we can specify a different imputation method.\n",
    "\n",
    "The code below demonstrates various initialization strategies for  `SimpleImputer` ."
   ]
  },
  {
   "cell_type": "code",
   "execution_count": 50,
   "metadata": {},
   "outputs": [
    {
     "data": {
      "text/plain": [
       "array([[ 1.,  2., nan,  2.],\n",
       "       [ 5., nan,  1.,  2.],\n",
       "       [ 4., nan,  3., nan],\n",
       "       [ 5.,  6.,  8.,  1.],\n",
       "       [nan,  7., nan,  0.]])"
      ]
     },
     "execution_count": 50,
     "metadata": {},
     "output_type": "execute_result"
    }
   ],
   "source": [
    "data = np.array([[ 1.,  2., nan,  2.],\n",
    "       [ 5., nan,  1.,  2.],\n",
    "       [ 4., nan,  3., nan],\n",
    "       [ 5.,  6.,  8.,  1.],\n",
    "       [nan,  7., nan,  0.]])\n",
    "data"
   ]
  },
  {
   "cell_type": "code",
   "execution_count": 51,
   "metadata": {},
   "outputs": [
    {
     "data": {
      "text/plain": [
       "array([[1. , 2. , 3. , 2. ],\n",
       "       [5. , 6. , 1. , 2. ],\n",
       "       [4. , 6. , 3. , 1.5],\n",
       "       [5. , 6. , 8. , 1. ],\n",
       "       [4.5, 7. , 3. , 0. ]])"
      ]
     },
     "execution_count": 51,
     "metadata": {},
     "output_type": "execute_result"
    }
   ],
   "source": [
    "imp_median = SimpleImputer(strategy='median')\n",
    "transformed = imp_median.fit_transform(data)\n",
    "transformed"
   ]
  },
  {
   "cell_type": "code",
   "execution_count": 52,
   "metadata": {},
   "outputs": [
    {
     "data": {
      "text/plain": [
       "array([[1., 2., 1., 2.],\n",
       "       [5., 2., 1., 2.],\n",
       "       [4., 2., 3., 2.],\n",
       "       [5., 6., 8., 1.],\n",
       "       [5., 7., 1., 0.]])"
      ]
     },
     "execution_count": 52,
     "metadata": {},
     "output_type": "execute_result"
    }
   ],
   "source": [
    "imp_frequent = SimpleImputer(strategy='most_frequent')\n",
    "transformed = imp_frequent.fit_transform(data)\n",
    "transformed"
   ]
  },
  {
   "cell_type": "markdown",
   "metadata": {},
   "source": [
    "The  `'median'`  strategy fills in missing data with the median from each column, while the  `'most_frequent'`  strategy uses the value that appears the most for each column.\n",
    "\n",
    "The final imputation method that  `SimpleImputer`  provides is to fill in missing values with a specified constant. This can be useful if there is already a suitable substitute for missing data (e.g. 0 or -1).\n",
    "\n",
    "The code below demonstrates how to fill in missing data with a specific constant. The  `fill_value`  keyword argument is used when initializing the  `SimpleImputer`  object, to specify the constant."
   ]
  },
  {
   "cell_type": "code",
   "execution_count": 53,
   "metadata": {},
   "outputs": [
    {
     "data": {
      "text/plain": [
       "array([[ 1.,  2., -1.,  2.],\n",
       "       [ 5., -1.,  1.,  2.],\n",
       "       [ 4., -1.,  3., -1.],\n",
       "       [ 5.,  6.,  8.,  1.],\n",
       "       [-1.,  7., -1.,  0.]])"
      ]
     },
     "execution_count": 53,
     "metadata": {},
     "output_type": "execute_result"
    }
   ],
   "source": [
    "imp_constant = SimpleImputer(strategy='constant',\n",
    "                             fill_value=-1)\n",
    "transformed = imp_constant.fit_transform(data)\n",
    "transformed"
   ]
  },
  {
   "cell_type": "markdown",
   "metadata": {},
   "source": [
    "### B. Other imputation methods"
   ]
  },
  {
   "cell_type": "markdown",
   "metadata": {},
   "source": [
    "The  `SimpleImputer`  object only implements the four imputation methods shown in section  **A** . However, data imputation is not limited to those four methods.\n",
    "\n",
    "There are also more advanced imputation methods such as [k-Nearest Neighbors](https://en.wikipedia.org/wiki/K-nearest_neighbors_algorithm) (filling in missing values based on similarity scores from the kNN algorithm) and [MICE](https://www.ncbi.nlm.nih.gov/pmc/articles/PMC3074241/) (applying multiple chained imputations, assuming the missing values are randomly distributed across observations).\n",
    "\n",
    "In most industry cases these advanced methods are not required, since the data is either perfectly cleaned or the missing values are scarce. Nevertheless, the advanced methods could be useful when dealing with open source datasets, since these tend to be more incomplete."
   ]
  },
  {
   "cell_type": "markdown",
   "metadata": {},
   "source": [
    "## PCA\n",
    "\n",
    "Exploring PCA and why it's useful for data preprocessing."
   ]
  },
  {
   "cell_type": "markdown",
   "metadata": {},
   "source": [
    "### Goals:\n",
    "\n",
    "* Explore principal component analysis and why it's used"
   ]
  },
  {
   "cell_type": "markdown",
   "metadata": {},
   "source": [
    "### A. Dimensionality reduction"
   ]
  },
  {
   "cell_type": "markdown",
   "metadata": {},
   "source": [
    "Most datasets contain a large number of features, some of which are redundant or not informative. For example, in a dataset of basketball statistics, the total points and points per game for a player will (most of the time) tell the same story about the player's scoring prowess.\n",
    "\n",
    "When a dataset contains these types of correlated numeric features, we can perform [principal component analysis (PCA)](https://en.wikipedia.org/wiki/Principal_component_analysis) for dimensionality reduction (i.e. reducing the number of columns in the data array).\n",
    "\n",
    "PCA extracts the  *principal components*  of the dataset, which are an uncorrelated set of [latent variables](https://en.wikipedia.org/wiki/Latent_variable) that encompass most of the information from the original dataset. Using a smaller set of principal components can make it a lot easier to use the dataset in statistical or machine learning models (especially when the original dataset contains many correlated features)."
   ]
  },
  {
   "cell_type": "markdown",
   "metadata": {},
   "source": [
    "### B. PCA in scikit-learn"
   ]
  },
  {
   "cell_type": "markdown",
   "metadata": {},
   "source": [
    "Like every other data transformation, we can apply PCA to a dataset in scikit-learn with a transformer, in this case the  `PCA`  module. When initializing the  `PCA`  module, we can use the  `n_components`  keyword to specify the number of principal components. The default setting is to extract  *m - 1*  principal components, where  *m*  is the number of features in the dataset.\n",
    "\n",
    "The code below shows examples of applying PCA with various numbers of principal components."
   ]
  },
  {
   "cell_type": "code",
   "execution_count": 4,
   "metadata": {},
   "outputs": [
    {
     "data": {
      "text/plain": [
       "array([[ 1.5,  3. ,  9. , -0.5,  1. ],\n",
       "       [ 2.2,  4.3,  3.5,  0.6,  2.7],\n",
       "       [ 3. ,  6.1,  1.1,  1.2,  4.2],\n",
       "       [ 8. , 16. ,  7.7, -1. ,  7.1]])"
      ]
     },
     "execution_count": 4,
     "metadata": {},
     "output_type": "execute_result"
    }
   ],
   "source": [
    "data = np.array([[ 1.5,  3. ,  9. , -0.5,  1. ],\n",
    "       [ 2.2,  4.3,  3.5,  0.6,  2.7],\n",
    "       [ 3. ,  6.1,  1.1,  1.2,  4.2],\n",
    "       [ 8. , 16. ,  7.7, -1. ,  7.1]])\n",
    "data"
   ]
  },
  {
   "cell_type": "code",
   "execution_count": 5,
   "metadata": {},
   "outputs": [
    {
     "data": {
      "text/plain": [
       "array([[-4.8600e+00,  4.6300e+00, -4.7000e-02,  0.0000e+00],\n",
       "       [-3.7990e+00, -1.3180e+00,  1.2700e-01,  0.0000e+00],\n",
       "       [-1.8630e+00, -4.2260e+00, -8.9000e-02,  0.0000e+00],\n",
       "       [ 1.0522e+01,  9.1400e-01,  9.0000e-03,  0.0000e+00]])"
      ]
     },
     "execution_count": 5,
     "metadata": {},
     "output_type": "execute_result"
    }
   ],
   "source": [
    "pca_obj = PCA() # The value of n_component will be 4. As m is 5 and default is always m-1\n",
    "pc = pca_obj.fit_transform(data).round(3)\n",
    "pc"
   ]
  },
  {
   "cell_type": "code",
   "execution_count": 6,
   "metadata": {},
   "outputs": [
    {
     "data": {
      "text/plain": [
       "array([[-4.8600e+00,  4.6300e+00, -4.7000e-02],\n",
       "       [-3.7990e+00, -1.3180e+00,  1.2700e-01],\n",
       "       [-1.8630e+00, -4.2260e+00, -8.9000e-02],\n",
       "       [ 1.0522e+01,  9.1400e-01,  9.0000e-03]])"
      ]
     },
     "execution_count": 6,
     "metadata": {},
     "output_type": "execute_result"
    }
   ],
   "source": [
    "pca_obj = PCA(n_components=3)\n",
    "pc = pca_obj.fit_transform(data).round(3)\n",
    "pc"
   ]
  },
  {
   "cell_type": "code",
   "execution_count": 7,
   "metadata": {},
   "outputs": [
    {
     "data": {
      "text/plain": [
       "array([[-4.86 ,  4.63 ],\n",
       "       [-3.799, -1.318],\n",
       "       [-1.863, -4.226],\n",
       "       [10.522,  0.914]])"
      ]
     },
     "execution_count": 7,
     "metadata": {},
     "output_type": "execute_result"
    }
   ],
   "source": [
    "pca_obj = PCA(n_components=2)\n",
    "pc = pca_obj.fit_transform(data).round(3)\n",
    "pc"
   ]
  },
  {
   "cell_type": "markdown",
   "metadata": {},
   "source": [
    "In the code output above, notice that when PCA is applied with 4 principal components, the final column (last principal component) is all 0's. This means that there are actually only a maximum of three uncorrelated principal components that can be extracted."
   ]
  },
  {
   "cell_type": "markdown",
   "metadata": {},
   "source": [
    "## Labeled Data\n",
    "\n",
    "Separate the PCA components of a dataset by class."
   ]
  },
  {
   "cell_type": "markdown",
   "metadata": {},
   "source": [
    "### Goals:\n",
    "\n",
    "* Explore labeled datasets\n",
    "* Separate principle component data by class label"
   ]
  },
  {
   "cell_type": "markdown",
   "metadata": {},
   "source": [
    "### A. Class labels"
   ]
  },
  {
   "cell_type": "markdown",
   "metadata": {},
   "source": [
    "A big part of data science is classifying observations in a dataset into separate categories, or  *classes* . A popular use case of data classification is in separating a dataset into \"good\" and \"bad\" categories. For example, we can classify a dataset of breast tumors as either malignant or benign.\n",
    "\n",
    "The code below separates a breast cancer dataset into malignant and benign categories. The  `load_breast_cancer`  function is part of the scikit-learn library, and its data comes from the [Breast Cancer Wisconsin](https://archive.ics.uci.edu/ml/datasets/Breast+Cancer+Wisconsin+(Diagnostic)) dataset."
   ]
  },
  {
   "cell_type": "code",
   "execution_count": 9,
   "metadata": {},
   "outputs": [
    {
     "data": {
      "text/plain": [
       "array([[1.799e+01, 1.038e+01, 1.228e+02, ..., 2.654e-01, 4.601e-01,\n",
       "        1.189e-01],\n",
       "       [2.057e+01, 1.777e+01, 1.329e+02, ..., 1.860e-01, 2.750e-01,\n",
       "        8.902e-02],\n",
       "       [1.969e+01, 2.125e+01, 1.300e+02, ..., 2.430e-01, 3.613e-01,\n",
       "        8.758e-02],\n",
       "       ...,\n",
       "       [1.660e+01, 2.808e+01, 1.083e+02, ..., 1.418e-01, 2.218e-01,\n",
       "        7.820e-02],\n",
       "       [2.060e+01, 2.933e+01, 1.401e+02, ..., 2.650e-01, 4.087e-01,\n",
       "        1.240e-01],\n",
       "       [7.760e+00, 2.454e+01, 4.792e+01, ..., 0.000e+00, 2.871e-01,\n",
       "        7.039e-02]])"
      ]
     },
     "execution_count": 9,
     "metadata": {},
     "output_type": "execute_result"
    }
   ],
   "source": [
    "bc = load_breast_cancer()\n",
    "bc.data"
   ]
  },
  {
   "cell_type": "code",
   "execution_count": 10,
   "metadata": {},
   "outputs": [
    {
     "data": {
      "text/plain": [
       "(569, 30)"
      ]
     },
     "execution_count": 10,
     "metadata": {},
     "output_type": "execute_result"
    }
   ],
   "source": [
    "bc.data.shape"
   ]
  },
  {
   "cell_type": "markdown",
   "metadata": {},
   "source": [
    "#### Class Labels"
   ]
  },
  {
   "cell_type": "code",
   "execution_count": 15,
   "metadata": {},
   "outputs": [
    {
     "data": {
      "text/plain": [
       "array([0, 0, 0, 0, 0, 0, 0, 0, 0, 0, 0, 0, 0, 0, 0, 0, 0, 0, 0, 1, 1, 1,\n",
       "       0, 0, 0, 0, 0, 0, 0, 0, 0, 0, 0, 0, 0, 0, 0, 1, 0, 0, 0, 0, 0, 0,\n",
       "       0, 0, 1, 0, 1, 1, 1, 1, 1, 0, 0, 1, 0, 0, 1, 1, 1, 1, 0, 1, 0, 0,\n",
       "       1, 1, 1, 1, 0, 1, 0, 0, 1, 0, 1, 0, 0, 1, 1, 1, 0, 0, 1, 0, 0, 0,\n",
       "       1, 1, 1, 0, 1, 1, 0, 0, 1, 1, 1, 0, 0, 1, 1, 1, 1, 0, 1, 1, 0, 1,\n",
       "       1, 1, 1, 1, 1, 1, 1, 0, 0, 0, 1, 0, 0, 1, 1, 1, 0, 0, 1, 0, 1, 0,\n",
       "       0, 1, 0, 0, 1, 1, 0, 1, 1, 0, 1, 1, 1, 1, 0, 1, 1, 1, 1, 1, 1, 1,\n",
       "       1, 1, 0, 1, 1, 1, 1, 0, 0, 1, 0, 1, 1, 0, 0, 1, 1, 0, 0, 1, 1, 1,\n",
       "       1, 0, 1, 1, 0, 0, 0, 1, 0, 1, 0, 1, 1, 1, 0, 1, 1, 0, 0, 1, 0, 0,\n",
       "       0, 0, 1, 0, 0, 0, 1, 0, 1, 0, 1, 1, 0, 1, 0, 0, 0, 0, 1, 1, 0, 0,\n",
       "       1, 1, 1, 0, 1, 1, 1, 1, 1, 0, 0, 1, 1, 0, 1, 1, 0, 0, 1, 0, 1, 1,\n",
       "       1, 1, 0, 1, 1, 1, 1, 1, 0, 1, 0, 0, 0, 0, 0, 0, 0, 0, 0, 0, 0, 0,\n",
       "       0, 0, 1, 1, 1, 1, 1, 1, 0, 1, 0, 1, 1, 0, 1, 1, 0, 1, 0, 0, 1, 1,\n",
       "       1, 1, 1, 1, 1, 1, 1, 1, 1, 1, 1, 0, 1, 1, 0, 1, 0, 1, 1, 1, 1, 1,\n",
       "       1, 1, 1, 1, 1, 1, 1, 1, 1, 0, 1, 1, 1, 0, 1, 0, 1, 1, 1, 1, 0, 0,\n",
       "       0, 1, 1, 1, 1, 0, 1, 0, 1, 0, 1, 1, 1, 0, 1, 1, 1, 1, 1, 1, 1, 0,\n",
       "       0, 0, 1, 1, 1, 1, 1, 1, 1, 1, 1, 1, 1, 0, 0, 1, 0, 0, 0, 1, 0, 0,\n",
       "       1, 1, 1, 1, 1, 0, 1, 1, 1, 1, 1, 0, 1, 1, 1, 0, 1, 1, 0, 0, 1, 1,\n",
       "       1, 1, 1, 1, 0, 1, 1, 1, 1, 1, 1, 1, 0, 1, 1, 1, 1, 1, 0, 1, 1, 0,\n",
       "       1, 1, 1, 1, 1, 1, 1, 1, 1, 1, 1, 1, 0, 1, 0, 0, 1, 0, 1, 1, 1, 1,\n",
       "       1, 0, 1, 1, 0, 1, 0, 1, 1, 0, 1, 0, 1, 1, 1, 1, 1, 1, 1, 1, 0, 0,\n",
       "       1, 1, 1, 1, 1, 1, 0, 1, 1, 1, 1, 1, 1, 1, 1, 1, 1, 0, 1, 1, 1, 1,\n",
       "       1, 1, 1, 0, 1, 0, 1, 1, 0, 1, 1, 1, 1, 1, 0, 0, 1, 0, 1, 0, 1, 1,\n",
       "       1, 1, 1, 0, 1, 1, 0, 1, 0, 1, 0, 0, 1, 1, 1, 0, 1, 1, 1, 1, 1, 1,\n",
       "       1, 1, 1, 1, 1, 0, 1, 0, 0, 1, 1, 1, 1, 1, 1, 1, 1, 1, 1, 1, 1, 1,\n",
       "       1, 1, 1, 1, 1, 1, 1, 1, 1, 1, 1, 1, 0, 0, 0, 0, 0, 0, 1])"
      ]
     },
     "execution_count": 15,
     "metadata": {},
     "output_type": "execute_result"
    }
   ],
   "source": [
    "bc.target"
   ]
  },
  {
   "cell_type": "code",
   "execution_count": 16,
   "metadata": {},
   "outputs": [
    {
     "data": {
      "text/plain": [
       "(569,)"
      ]
     },
     "execution_count": 16,
     "metadata": {},
     "output_type": "execute_result"
    }
   ],
   "source": [
    "bc.target.shape"
   ]
  },
  {
   "cell_type": "markdown",
   "metadata": {},
   "source": [
    "#### Label Names"
   ]
  },
  {
   "cell_type": "code",
   "execution_count": 12,
   "metadata": {},
   "outputs": [
    {
     "data": {
      "text/plain": [
       "array(['malignant', 'benign'], dtype='<U9')"
      ]
     },
     "execution_count": 12,
     "metadata": {},
     "output_type": "execute_result"
    }
   ],
   "source": [
    "bc.target_names"
   ]
  },
  {
   "cell_type": "code",
   "execution_count": 13,
   "metadata": {},
   "outputs": [
    {
     "data": {
      "text/plain": [
       "(212, 30)"
      ]
     },
     "execution_count": 13,
     "metadata": {},
     "output_type": "execute_result"
    }
   ],
   "source": [
    "malignant = bc.data[bc.target==0]\n",
    "malignant.shape"
   ]
  },
  {
   "cell_type": "code",
   "execution_count": 14,
   "metadata": {},
   "outputs": [
    {
     "data": {
      "text/plain": [
       "(357, 30)"
      ]
     },
     "execution_count": 14,
     "metadata": {},
     "output_type": "execute_result"
    }
   ],
   "source": [
    "benign = bc.data[bc.target==1]\n",
    "benign.shape"
   ]
  },
  {
   "cell_type": "markdown",
   "metadata": {},
   "source": [
    "In the example above, the  `bc.data`  array contains all the dataset values, while the  `bc.target`  array contains the class ID labels for each row in  `bc.data` . A class ID of 0 corresponds to a malignant tumor, while a class ID of 1 corresponds to a benign tumor.\n",
    "\n",
    "Using the  `bc.target`  class IDs, we separated the dataset into malignant and benign data arrays. In other words, the  `malignant`  array contains the rows of  `bc.data`  corresponding to the indexes in  `bc.target`  containing 0, while the  `benign`  array contains the rows of  `bc.data`  corresponding to the indexes in  `bc.target`  containing 1. There are 212 malignant data observations and 357 benign observations."
   ]
  },
  {
   "cell_type": "code",
   "execution_count": 17,
   "metadata": {},
   "outputs": [],
   "source": [
    "def get_label_info(component_data, labels,\n",
    "                   class_label, label_names):\n",
    "  \"\"\"returns the label name and data for an input class label.\"\"\"\n",
    "  return label_names[class_label], component_data[labels==class_label]"
   ]
  },
  {
   "cell_type": "code",
   "execution_count": 18,
   "metadata": {},
   "outputs": [],
   "source": [
    "def separate_data(component_data, labels,\n",
    "                  label_names):\n",
    "  \"\"\"separate principal component data by class.\"\"\"\n",
    "  return [get_label_info(component_data, labels, class_label, label_names) for class_label in range(len(label_names))]"
   ]
  },
  {
   "cell_type": "code",
   "execution_count": 19,
   "metadata": {},
   "outputs": [
    {
     "data": {
      "image/png": "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\n",
      "text/plain": [
       "<Figure size 432x288 with 1 Axes>"
      ]
     },
     "metadata": {},
     "output_type": "display_data"
    }
   ],
   "source": [
    "pca_obj = PCA(n_components=2)\n",
    "component_data = pca_obj.fit_transform(bc.data)\n",
    "labels = bc.target\n",
    "label_names = bc.target_names\n",
    "\n",
    "# Using the completed separate_data function\n",
    "separated_data = separate_data(component_data,\n",
    "                               labels, label_names)\n",
    "\n",
    "# Plotting the data\n",
    "plt.style.use(\"fivethirtyeight\")\n",
    "for label_name, label_data in separated_data:\n",
    "    col1 = label_data[:, 0]  # 1st column (1st pr. comp.)\n",
    "    col2 = label_data[:, 1]  # 2nd column (2nd pr. comp.)\n",
    "    plt.scatter(col1, col2, label=label_name) # scatterplot\n",
    "\n",
    "plt.legend()  # adds legend to plot\n",
    "plt.title('Breast Cancer Dataset PCA Plot')\n",
    "plt.show()"
   ]
  },
  {
   "cell_type": "markdown",
   "metadata": {},
   "source": [
    "# Data Modeling with scikit-learn"
   ]
  },
  {
   "cell_type": "markdown",
   "metadata": {},
   "source": [
    "## Introduction\n",
    "\n",
    "An overview of the main models used in scikit-learn. We will be creating a variety of models for linear regression and classifying data. We will also explore how to perform hyperparameter tuning and model evaluation through cross-validation."
   ]
  },
  {
   "cell_type": "markdown",
   "metadata": {},
   "source": [
    "### A. Creating models for data"
   ]
  },
  {
   "cell_type": "markdown",
   "metadata": {},
   "source": [
    "The main job of a data scientist is analyzing data and creating models for obtaining results from the data. Oftentimes, data scientists will use simple statistical models for their data, rather than machine learning models like neural networks. This is because data scientists tend to work with smaller datasets than machine learning engineers, so they can quickly extract good results using statistical models.\n",
    "\n",
    "The scikit-learn library provides many statistical models for [linear regression](https://en.wikipedia.org/wiki/Linear_regression). It also provides a few good models for classifying data.\n",
    "When creating these models, data scientists need to figure out the optimal [hyperparameters](https://en.wikipedia.org/wiki/Hyperparameter) to use. Hyperparameters are values that we set when creating a model, e.g. certain constant coefficients used in the model's calculations."
   ]
  },
  {
   "cell_type": "markdown",
   "metadata": {},
   "source": [
    "## Linear Regression\n",
    "\n",
    "Explore basic linear regression and how it's used."
   ]
  },
  {
   "cell_type": "markdown",
   "metadata": {},
   "source": [
    "### Goals:\n",
    "\n",
    "* Create a basic linear regression model based on input data and labels"
   ]
  },
  {
   "cell_type": "markdown",
   "metadata": {},
   "source": [
    "### A. What is linear regression?"
   ]
  },
  {
   "cell_type": "markdown",
   "metadata": {},
   "source": [
    "One of the main objectives in both machine learning and data science is finding an equation or distribution that best fits a given dataset. This is known as data modeling, where we create a model that uses the dataset's features as independent variables to predict output values for some dependent variable (with minimal error). However, it is incredibly difficult to find an optimal model for most datasets, given the amount of noise (i.e. random errors/fluctuations) in real world data.\n",
    "\n",
    "Since finding an optimal model for a dataset is difficult, we instead try to find a good approximating distribution. In many cases, a linear model (a [linear combination](http://mathworld.wolfram.com/LinearCombination.html) of the dataset's features) can approximate the data well. The term  *linear regression*  refers to using a linear model to represent the relationship between a set of independent variables and a dependent variable.\n",
    "\n",
    "$$\n",
    "y = ax_1 + bx_2 + cx_3 + d\n",
    "$$\n",
    "\n",
    "The above formula is example linear model which produces output y (dependent variable) based on the linear combination of independent variables $x_1$, $x_2$, $x_3$. The coefficients $a$, $b$, $c$ and intercept $d$ determine the model's fit."
   ]
  },
  {
   "cell_type": "markdown",
   "metadata": {},
   "source": [
    "### B. Basic linear regression"
   ]
  },
  {
   "cell_type": "markdown",
   "metadata": {},
   "source": [
    "The simplest form of linear regression is called [least squares regression](https://en.wikipedia.org/wiki/Least_squares). This strategy produces a regression model, which is a linear combination of the independent variables, that minimizes the [sum of squared residuals](https://en.wikipedia.org/wiki/Residual_sum_of_squares) between the model's predictions and actual values for the dependent variable.\n",
    "\n",
    "In scikit-learn, the least squares regression model is implemented with the  `LinearRegression`  object, which is a part of the  `linear_model`  module in  `sklearn` . The object contains a  `fit`  function, which takes in an input dataset of features (independent variables) and an array of labels (dependent variables) for each data observation (rows of the dataset).\n",
    "\n",
    "The code below demonstrates how to fit a  `LinearRegression`  model to a dataset of 5 different pizzas ( `pizza_data` ) and corresponding pizza prices. The first column of  `pizza_data`  represents the number of calories and the second column represents net weight (in grams)."
   ]
  },
  {
   "cell_type": "code",
   "execution_count": 3,
   "metadata": {},
   "outputs": [
    {
     "data": {
      "text/plain": [
       "array([[2100,  800],\n",
       "       [2500,  850],\n",
       "       [1800,  760],\n",
       "       [2000,  800],\n",
       "       [2300,  810]])"
      ]
     },
     "execution_count": 3,
     "metadata": {},
     "output_type": "execute_result"
    }
   ],
   "source": [
    "pizza_data = np.array(\n",
    "    [[2100,  800],\n",
    "     [2500,  850],\n",
    "     [1800,  760],\n",
    "     [2000,  800],\n",
    "     [2300,  810]]\n",
    ")\n",
    "pizza_data"
   ]
  },
  {
   "cell_type": "code",
   "execution_count": 4,
   "metadata": {},
   "outputs": [
    {
     "data": {
      "text/plain": [
       "array([10.99, 12.5 ,  9.99, 10.99, 11.99])"
      ]
     },
     "execution_count": 4,
     "metadata": {},
     "output_type": "execute_result"
    }
   ],
   "source": [
    "pizza_prices = np.array([10.99, 12.5 ,  9.99, 10.99, 11.99])\n",
    "pizza_prices"
   ]
  },
  {
   "cell_type": "code",
   "execution_count": 7,
   "metadata": {},
   "outputs": [
    {
     "data": {
      "text/plain": [
       "LinearRegression()"
      ]
     },
     "execution_count": 7,
     "metadata": {},
     "output_type": "execute_result"
    }
   ],
   "source": [
    "reg = LinearRegression()\n",
    "reg.fit(pizza_data, pizza_prices)"
   ]
  },
  {
   "cell_type": "markdown",
   "metadata": {},
   "source": [
    "After calling the  `fit`  function, the model is ready to use. The  `predict`  function allows us to make predictions on new data.\n",
    "\n",
    "We can also get the specific coefficients and intercept for the linear combination using the  `coef_`  and  `intercept_`  properties, respectively.\n",
    "\n",
    "Finally, we can retrieve the [coefficient of determination](https://en.wikipedia.org/wiki/Coefficient_of_determination) (or $R^2$ value) using the  `score`  function applied to the dataset and labels. The $R^2$ value tells us how close of a fit the linear model is to the data, or in other words, how good of a fit the model is for the data."
   ]
  },
  {
   "cell_type": "code",
   "execution_count": 8,
   "metadata": {},
   "outputs": [
    {
     "data": {
      "text/plain": [
       "array([10.86599206, 11.55111111])"
      ]
     },
     "execution_count": 8,
     "metadata": {},
     "output_type": "execute_result"
    }
   ],
   "source": [
    "# new pizza data\n",
    "new_pizzas = np.array(\n",
    "    [[2000,  820],\n",
    "     [2200,  830]]\n",
    ")\n",
    "\n",
    "price_predicts = reg.predict(new_pizzas)\n",
    "price_predicts"
   ]
  },
  {
   "cell_type": "code",
   "execution_count": 9,
   "metadata": {},
   "outputs": [
    {
     "name": "stdout",
     "output_type": "stream",
     "text": [
      "Coefficients: [0.00330913 0.00232937]\n",
      "Intercept: 2.337658730158733\n"
     ]
    }
   ],
   "source": [
    "print(f'Coefficients: {reg.coef_}')\n",
    "print(f'Intercept: {reg.intercept_}')"
   ]
  },
  {
   "cell_type": "code",
   "execution_count": 10,
   "metadata": {},
   "outputs": [
    {
     "data": {
      "text/plain": [
       "0.9758349388652625"
      ]
     },
     "execution_count": 10,
     "metadata": {},
     "output_type": "execute_result"
    }
   ],
   "source": [
    "r2 = reg.score(pizza_data, pizza_prices)\n",
    "r2"
   ]
  },
  {
   "cell_type": "markdown",
   "metadata": {},
   "source": [
    "The traditional $R^2$ value is a real number between 0 and 1. In scikit-learn it ranges from -∞ to 1, where lower values denote a poorer model fit to the data. The closer the value is to 1, the better the model's fit on the data. In the example above, we see that the model is a near perfect fit for the pizza data."
   ]
  },
  {
   "cell_type": "markdown",
   "metadata": {},
   "source": [
    "## Ridge Regression\n",
    "\n",
    "Understand the need for regularization in linear regression."
   ]
  },
  {
   "cell_type": "markdown",
   "metadata": {},
   "source": [
    "### Goals:\n",
    "\n",
    "* Explore regularization in linear regression\n",
    "* Explore hyperparameter tuning using cross-validation\n",
    "* Implement a cross-validated ridge regression model in scikit-learn"
   ]
  },
  {
   "cell_type": "markdown",
   "metadata": {},
   "source": [
    "While ordinary least squares regression is a good way to fit a linear model onto a dataset, it relies on the fact that the dataset's features are each independent, i.e. uncorrelated. When many of the dataset features are linearly correlated, e.g. if a dataset has multiple features depicting the same price in different currencies, it makes the least squares regression model highly sensitive to noise in the data.\n",
    "\n",
    "Because real life data tends to have noise, and will often have some linearly correlated features in the dataset, we combat this by performing  *regularization* . For ordinary least squares regression, the goal is to find the weights (coefficients) for the linear model that minimize the sum of squared residuals:\n",
    "\n",
    "$$\n",
    "\\sum_{i=1}^n(X_i \\cdot w-y_i)^2\\\\\n",
    "\\mbox{where  each} \\  X_i \\ \\mbox{represents  a  data  observation  and} \\  y_i \\ \\mbox{is  the  corresponding  label.}\n",
    "$$\n",
    "For regularization, the goal is to not only minimize the sum of squared residuals but to do this with coefficients as small as possible. The smaller the coefficients, the less susceptible they are to random noise in the data. The most commonly used form of regularization is [ridge regularization](https://en.wikipedia.org/wiki/Tikhonov_regularization).\n",
    "\n",
    "With ridge regularization, the goal is now to find the weights that minimize the following quantity:\n",
    "$$\n",
    "\\alpha \\| w \\|_2^2+\\sum_{i=1}^n(X_i\\cdot w-y_i)^2\\\\\n",
    "\\mbox{where }\\alpha \\mbox{ is a non-negative real number hyperparameter and }\\| w\\| _2^2 \\\\ \\mbox{ represents the L2 norm of the weights.}\\\\ \\mbox{ The additional }\\alpha \\| w \\|_2^2 \\mbox{ is referred to as the }  \\textbf{penalty term}\\mbox{ , since it penalizes larger weight values.}\\\\ \\mbox{ Larger quantities of }\\alpha \\mbox{ will put greater emphasis on the penalty term, forcing the model to have even smaller weight values.}\n",
    "$$\n",
    "\n",
    "![image.png](data:image/png;base64,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)\n",
    "\n",
    "The plot above shows an example of ordinary least squares regression models vs. ridge regression models. The two red crosses mark the points (0.5, 0.5) and (1, 1), and the blue lines are the regression lines for those two points. Each of the grey lines are the regression lines for the original points with added noise (which is signified by the grey points).\n",
    "\n",
    "The ordinary least squares regression is much more susceptible to being influenced by the added noise, as there is a much larger degree of variance in the grey regression lines compared to the ridge regression."
   ]
  },
  {
   "cell_type": "markdown",
   "metadata": {},
   "source": [
    "### B. Choosing the best alpha"
   ]
  },
  {
   "cell_type": "markdown",
   "metadata": {},
   "source": [
    "In scikit-learn, we implement ridge regression in essentially the same way we implement ordinary least squares regression. We use the  `Ridge`  object (part of the  `linear_model`  module) to implement ridge regression.\n",
    "\n",
    "The code below fits a  `Ridge`  object on the pizza dataset from the previous chapter."
   ]
  },
  {
   "cell_type": "code",
   "execution_count": 14,
   "metadata": {},
   "outputs": [
    {
     "name": "stdout",
     "output_type": "stream",
     "text": [
      "Coefficients: [0.00330976 0.00232372]\n",
      "Intercept: 2.340845980549572\n"
     ]
    }
   ],
   "source": [
    "ridge = Ridge()\n",
    "ridge.fit(pizza_data, pizza_prices)\n",
    "print(f'Coefficients: {ridge.coef_}\\nIntercept: {ridge.intercept_}')"
   ]
  },
  {
   "cell_type": "code",
   "execution_count": 15,
   "metadata": {},
   "outputs": [
    {
     "data": {
      "text/plain": [
       "0.9758349359826239"
      ]
     },
     "execution_count": 15,
     "metadata": {},
     "output_type": "execute_result"
    }
   ],
   "source": [
    "r2_ridge = ridge.score(pizza_data, pizza_prices)\n",
    "r2_ridge"
   ]
  },
  {
   "cell_type": "markdown",
   "metadata": {},
   "source": [
    "We can specify the value of the $\\alpha$ hyperparameter when initializing the  `Ridge`  object (the default is 1.0). However, rather than manually choosing a value, we can use  *cross-validation*  to help us choose the optimal $\\alpha$ from a list of values."
   ]
  },
  {
   "cell_type": "code",
   "execution_count": 5,
   "metadata": {},
   "outputs": [
    {
     "name": "stdout",
     "output_type": "stream",
     "text": [
      "Coeffiecients: [0.00330932 0.00232767]\n",
      "Intercept: 2.3386168534478244\n",
      "Alphas: 0.3\n"
     ]
    }
   ],
   "source": [
    "alphas = [0.1, 0.2, 0.3]\n",
    "reg = RidgeCV(alphas=alphas)\n",
    "reg.fit(pizza_data, pizza_prices)\n",
    "\n",
    "print(f\"\"\"Coeffiecients: {reg.coef_}\n",
    "Intercept: {reg.intercept_}\n",
    "Alphas: {reg.alpha_}\"\"\")"
   ]
  },
  {
   "cell_type": "markdown",
   "metadata": {},
   "source": [
    "## LASSO Regression\n",
    "Apply regularization with LASSO regression."
   ]
  },
  {
   "cell_type": "markdown",
   "metadata": {},
   "source": [
    "### Goals:\n",
    "* Explore sparse linear regression via LASSO"
   ]
  },
  {
   "cell_type": "markdown",
   "metadata": {},
   "source": [
    "### A. Sparse regularization"
   ]
  },
  {
   "cell_type": "markdown",
   "metadata": {},
   "source": [
    "While ridge regularization uses an L2 norm penalty term, another regularization method called [LASSO](https://en.wikipedia.org/wiki/Lasso_(statistics)) uses an [L1 norm](http://mathworld.wolfram.com/L1-Norm.html) for the weights penalty term. Specifically, LASSO regularization will find the optimal weights to minimize the following quantity:\n",
    "$$\n",
    "\\alpha \\|w\\|_1+\\sum_{i=1}^n(X_i\\cdot w-y_i)^2\\\\\n",
    "\\mbox{Where }\\|w\\|_1\\mbox{ represents the L1 norm of the weights.}\n",
    "$$\n",
    "\n",
    "LASSO regularization tends to prefer linear models with fewer parameter values. This means that it will likely zero-out some of the weight coefficients. This reduces the number of features that the model is actually dependent on (since some of the coefficients will now be 0), which can be beneficial when some features are completely irrelevant or duplicates of other features.\n",
    "\n",
    "In scikit-learn, we implement LASSO using the  `Lasso`  object, which is part of the  `linear_model`  module. Like the  `Ridge`  object, it takes in the model's $\\alpha$ value with the  `alpha`  keyword argument (default is 1.0).\n",
    "\n",
    "The code below demonstrates how to use the  `Lasso`  object on a dataset with 150 observations and 4 features."
   ]
  },
  {
   "cell_type": "code",
   "execution_count": 3,
   "metadata": {},
   "outputs": [
    {
     "data": {
      "text/plain": [
       "array([[5.1, 3.5, 1.4, 0.2],\n",
       "       [4.9, 3. , 1.4, 0.2],\n",
       "       [4.7, 3.2, 1.3, 0.2],\n",
       "       [4.6, 3.1, 1.5, 0.2],\n",
       "       [5. , 3.6, 1.4, 0.2]])"
      ]
     },
     "execution_count": 3,
     "metadata": {},
     "output_type": "execute_result"
    }
   ],
   "source": [
    "data = pd.read_csv('datasets/data2.csv').values\n",
    "data[:5]"
   ]
  },
  {
   "cell_type": "code",
   "execution_count": 4,
   "metadata": {},
   "outputs": [
    {
     "data": {
      "text/plain": [
       "array([0, 0, 0, 0, 0])"
      ]
     },
     "execution_count": 4,
     "metadata": {},
     "output_type": "execute_result"
    }
   ],
   "source": [
    "labels = np.array([0, 0, 0, 0, 0, 0, 0, 0, 0, 0, 0, 0, 0, 0, 0, 0, 0, 0, 0, 0, 0, 0, 0, 0, 0, 0, 0, 0, 0, 0, 0, 0, 0, 0, 0, 0, 0, 0, 0, 0, 0, 0, 0, 0, 0, 0, 0, 0, 0, 0, 1, 1, 1, 1, 1, 1, 1, 1, 1, 1, 1, 1, 1, 1, 1, 1, 1, 1, 1, 1, 1, 1, 1, 1, 1, 1, 1, 1, 1, 1, 1, 1, 1, 1, 1, 1, 1, 1, 1, 1, 1, 1, 1, 1, 1, 1, 1, 1, 1, 1, 2, 2, 2, 2, 2, 2, 2, 2, 2, 2, 2, 2, 2, 2, 2, 2, 2, 2, 2, 2, 2, 2, 2, 2, 2, 2, 2, 2, 2, 2, 2, 2, 2, 2, 2, 2, 2, 2, 2, 2, 2, 2, 2, 2, 2, 2, 2, 2, 2, 2])\n",
    "labels[:5]"
   ]
  },
  {
   "cell_type": "code",
   "execution_count": 5,
   "metadata": {},
   "outputs": [
    {
     "name": "stdout",
     "output_type": "stream",
     "text": [
      "Data Shape: (150, 4)\n",
      "Labels Shape: (150,)\n"
     ]
    }
   ],
   "source": [
    "print(f\"\"\"Data Shape: {data.shape}\n",
    "Labels Shape: {labels.shape}\"\"\")"
   ]
  },
  {
   "cell_type": "code",
   "execution_count": 6,
   "metadata": {},
   "outputs": [
    {
     "name": "stdout",
     "output_type": "stream",
     "text": [
      "Coeffiecients: [ 0.         -0.          0.40830957  0.        ]\n",
      "Intercept: -0.5346995583185636\n",
      "R2: 0.8958311895045039\n"
     ]
    }
   ],
   "source": [
    "reg = Lasso(alpha=.1)\n",
    "reg.fit(data, labels)\n",
    "\n",
    "print(f\"\"\"Coeffiecients: {reg.coef_}\n",
    "Intercept: {reg.intercept_}\n",
    "R2: {reg.score(data, labels)}\"\"\")"
   ]
  },
  {
   "cell_type": "markdown",
   "metadata": {},
   "source": [
    "In the example above, note that a majority of the weights are 0, due to the LASSO sparse weight preference.\n",
    "\n",
    "There is also a cross-validated version in the form of the  `LassoCV`  object, which works in essentially the same way as the  `RidgeCV`  object."
   ]
  },
  {
   "cell_type": "markdown",
   "metadata": {},
   "source": [
    "## Bayesian Regression\n",
    "\n",
    "Exploring Bayesian regression techniques."
   ]
  },
  {
   "cell_type": "markdown",
   "metadata": {},
   "source": [
    "### Goals:\n",
    "\n",
    "* Exploring Bayesian regression techniques"
   ]
  },
  {
   "cell_type": "markdown",
   "metadata": {},
   "source": [
    "### A. Bayesian techniques"
   ]
  },
  {
   "cell_type": "markdown",
   "metadata": {},
   "source": [
    "we've discussed hyperparameter optimization through cross-validation. Another way to optimize the hyperparameters of a regularized regression model is with [Bayesian](https://en.wikipedia.org/wiki/Bayesian_inference) techniques.\n",
    "\n",
    "In Bayesian statistics, the main idea is to make certain assumptions about the probability distributions of a model's parameters  *before*  being fitted on data. These initial distribution assumptions are called  *priors*  for the model's parameters.\n",
    "\n",
    "In a Bayesian ridge regression model, there are two hyperparameters to optimize: $\\alpha$ and $\\lambda$. The $\\alpha$ hyperparameter serves the same exact purpose as it does for regular ridge regression; namely, it acts as a scaling factor for the penalty term.\n",
    "\n",
    "The $\\lambda$ hyperparameter acts as the precision of the model's weights. Basically, the smaller the $\\lambda$ value, the greater the variance between the individual weight values."
   ]
  },
  {
   "cell_type": "markdown",
   "metadata": {},
   "source": [
    "### B. Hyperparameter priors"
   ]
  },
  {
   "cell_type": "markdown",
   "metadata": {},
   "source": [
    "Both the $\\alpha$ and $\\lambda$ hyperparameters have [gamma distribution](https://en.wikipedia.org/wiki/Gamma_distribution) priors, meaning we assume both values come from a gamma probability distribution.\n",
    "\n",
    "There's no need to know the specifics of a gamma distribution, other than the fact that it's a probability distribution defined by a [shape parameter](https://en.wikipedia.org/wiki/Shape_parameter) and [scale parameter](https://en.wikipedia.org/wiki/Scale_parameter).\n",
    "\n",
    "Specifically, the $\\alpha$ hyperparameter has prior:\n",
    "$$\n",
    "\\Gamma(\\alpha_1, \\alpha_2)\n",
    "$$\n",
    "and the $\\lambda$ hyperparameter has prior:\n",
    "$$\n",
    "\\Gamma(\\lambda_1, \\lambda_2)\n",
    "$$\n",
    "where $\\Gamma(k, \\theta)$ represents a gamma distribution with shape parameter $k$ and scale parameter $\\theta$."
   ]
  },
  {
   "cell_type": "markdown",
   "metadata": {},
   "source": [
    "### C. Tuning the model"
   ]
  },
  {
   "cell_type": "markdown",
   "metadata": {},
   "source": [
    "When finding the optimal weight settings of a Bayesian ridge regression model for an input dataset, we also concurrently optimize the $\\alpha$ and $\\lambda$ hyperparameters based on their prior distributions and the input data.\n",
    "\n",
    "This can all be done with the [ `BayesianRidge` ](https://scikit-learn.org/stable/modules/generated/sklearn.linear_model.BayesianRidge.html#sklearn.linear_model.BayesianRidge) object (part of the  `linear_model`  module). Like all the previous regression objects, this one can be initialized with no required arguments."
   ]
  },
  {
   "cell_type": "code",
   "execution_count": 8,
   "metadata": {},
   "outputs": [
    {
     "name": "stdout",
     "output_type": "stream",
     "text": [
      "Coefficents: [-0.11174556 -0.03900746  0.24329606  0.57345867]\n",
      "Intercept: 0.17024073782276505\n",
      "R2: 0.930345494735128\n",
      "Alpha: 20.984220720919367\n",
      "Lambda: 9.539435179662124\n"
     ]
    }
   ],
   "source": [
    "reg = BayesianRidge()\n",
    "reg.fit(data, labels)\n",
    "\n",
    "print(f\"\"\"Coefficents: {reg.coef_}\n",
    "Intercept: {reg.intercept_}\n",
    "R2: {reg.score(data, labels)}\n",
    "Alpha: {reg.alpha_}\n",
    "Lambda: {reg.lambda_}\"\"\")"
   ]
  },
  {
   "cell_type": "markdown",
   "metadata": {},
   "source": [
    "We can manually specify the $\\alpha_1$ and $\\alpha_2$ gamma parameters for α with the  `alpha_1`  and  `alpha_2`  keyword arguments when initializing  `BayesianRidge` . Similarly, we can manually set $\\lambda_1$ and $\\lambda_2$ with the  `lambda_1`  and  `lambda_2`  keyword arguments. The default value for each of the four gamma parameters is $10^{-6}$"
   ]
  },
  {
   "cell_type": "markdown",
   "metadata": {},
   "source": [
    "## Logistic Regression\n",
    "\n",
    "Implementing logistic regression for classification tasks."
   ]
  },
  {
   "cell_type": "markdown",
   "metadata": {},
   "source": [
    "### Goals:\n",
    "\n",
    "* Exploring logistic regression for linearly separable datasets"
   ]
  },
  {
   "cell_type": "markdown",
   "metadata": {},
   "source": [
    "### A. Classification"
   ]
  },
  {
   "cell_type": "markdown",
   "metadata": {},
   "source": [
    "The logistic regression model, despite its name, is actually a linear model for  *classification* . It is called logistic regression because it performs regression on [logits](https://en.wikipedia.org/wiki/Logit), which then allows us to classify the data based on model probability predictions.\n",
    "\n",
    "We implement logistic regression with the  `LogisticRegression`  object (part of the  `linear_model`  module). The default setting for  `LogisticRegression`  is  *binary classification* , i.e. classifying data observations that are labeled with either a 0 or 1."
   ]
  },
  {
   "cell_type": "code",
   "execution_count": 9,
   "metadata": {},
   "outputs": [
    {
     "data": {
      "text/plain": [
       "array([[1160.1425737 , -293.91754364,   48.57839763,   -8.71197531],\n",
       "       [1269.12244319,   15.63018184,  -35.39453423,   17.86128323],\n",
       "       [ 995.79388896,   39.15674324,   -1.70975298,    4.1993401 ],\n",
       "       [-407.18080253,  -67.38031982,    8.67284783,  -11.75986732],\n",
       "       [ 930.34118015,  189.34074158,    1.37480074,    8.49918256]])"
      ]
     },
     "execution_count": 9,
     "metadata": {},
     "output_type": "execute_result"
    }
   ],
   "source": [
    "data = pd.read_csv('datasets/data3.csv').values\n",
    "data[:5]"
   ]
  },
  {
   "cell_type": "code",
   "execution_count": 13,
   "metadata": {},
   "outputs": [
    {
     "data": {
      "text/plain": [
       "array([0, 0, 0, 0, 0], dtype=int64)"
      ]
     },
     "execution_count": 13,
     "metadata": {},
     "output_type": "execute_result"
    }
   ],
   "source": [
    "labels=pd.read_csv('datasets/labels.csv').values[:, 0]\n",
    "labels[:5]"
   ]
  },
  {
   "cell_type": "code",
   "execution_count": 15,
   "metadata": {},
   "outputs": [
    {
     "name": "stdout",
     "output_type": "stream",
     "text": [
      "Predicition Classes: array([1, 0], dtype=int64)\n"
     ]
    }
   ],
   "source": [
    "reg = LogisticRegression()\n",
    "reg.fit(data, labels)\n",
    "\n",
    "new_data = np.array([\n",
    "    [  0.3,  0.5, -1.2,  1.4],\n",
    "    [ -1.3,  1.8, -0.6, -8.2]\n",
    "])\n",
    "\n",
    "print(f\"Predicition Classes: {repr(reg.predict(new_data))}\")"
   ]
  },
  {
   "cell_type": "markdown",
   "metadata": {},
   "source": [
    "The code above created a logistic regression model from a labeled dataset. The model predicts 1 and 0, respectively, as the labels for the observations in  `new_data` .\n",
    "\n",
    "For  *multiclass classification* , i.e. when there are more than two labels, we initialize the  `LogisticRegression`  object with the  `multi_class`  keyword argument. The default value is  `'ovr'` , which signifies a [One-Vs-Rest](https://en.wikipedia.org/wiki/Multiclass_classification#One-vs.-rest) strategy. In multiclass classification, we want to use the  `'multinomial'`  strategy.\n",
    "\n",
    "The code below demonstrates multiclass classification. Note that to use the  `'multinomial'`  strategy, we need to choose a proper solver (see below for details on solvers). In this case, we choose  `'lbfgs'` ."
   ]
  },
  {
   "cell_type": "code",
   "execution_count": 16,
   "metadata": {},
   "outputs": [
    {
     "data": {
      "text/plain": [
       "array([[5.1, 3.5, 1.4, 0.2],\n",
       "       [4.9, 3. , 1.4, 0.2],\n",
       "       [4.7, 3.2, 1.3, 0.2],\n",
       "       [4.6, 3.1, 1.5, 0.2],\n",
       "       [5. , 3.6, 1.4, 0.2]])"
      ]
     },
     "execution_count": 16,
     "metadata": {},
     "output_type": "execute_result"
    }
   ],
   "source": [
    "data = pd.read_csv('datasets/data4.csv').values\n",
    "data[:5]"
   ]
  },
  {
   "cell_type": "code",
   "execution_count": 17,
   "metadata": {},
   "outputs": [
    {
     "data": {
      "text/plain": [
       "array([0, 0, 0, 0, 0], dtype=int64)"
      ]
     },
     "execution_count": 17,
     "metadata": {},
     "output_type": "execute_result"
    }
   ],
   "source": [
    "labels = pd.read_csv('datasets/labels2.csv').values[:, 0]\n",
    "labels[:5]"
   ]
  },
  {
   "cell_type": "code",
   "execution_count": 18,
   "metadata": {},
   "outputs": [
    {
     "name": "stdout",
     "output_type": "stream",
     "text": [
      "Prediction Classes: array([2, 0], dtype=int64)\n"
     ]
    }
   ],
   "source": [
    "reg = LogisticRegression(\n",
    "    solver='lbfgs',\n",
    "    multi_class='multinomial'\n",
    ")\n",
    "reg.fit(data, labels)\n",
    "new_data = np.array(\n",
    "    [\n",
    "        [ 1.8, -0.5, 6.2, 1.4],\n",
    "        [ 3.3,  0.8, 0.1, 2.5]\n",
    "    ]\n",
    ")\n",
    "print(f\"Prediction Classes: {repr(reg.predict(new_data))}\")"
   ]
  },
  {
   "cell_type": "markdown",
   "metadata": {},
   "source": [
    "### B. Solvers"
   ]
  },
  {
   "cell_type": "markdown",
   "metadata": {},
   "source": [
    "The  `LogisticRegression`  object uses a  *solver*  to obtain the optimal weight settings based on the input data and labels. The five solvers and their various properties are shown in the table below (which comes from the scikit-learn official [website](https://scikit-learn.org/stable/modules/linear_model.html#logistic-regression)):\n",
    "\n",
    "![image.png](data:image/png;base64,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 \"Table of the five solvers and their properties.\")\n",
    "\n",
    "By default, the logistic regression is regularized through the L2 norm of weights. We can manually specify whether to use the L1 or L2 norm with the  `penalty`  keyword argument, by setting it as either  `'l1'`  or  `'l2'` .\n",
    "\n",
    "We can choose a particular solver using the  `solver`  keyword argument. The default solver is currently  `'liblinear'`  (although it will change to  `'lbfgs'`  in future version). For the  `'newton-cg'` ,  `'sag'` , and  `'lbfgs'`  solvers, we can also set the maximum number of iterations the solver takes until the model's weights converge using the  `max_iter`  keyword argument. Since the default  `max_iter`  value is 100, we may want to let the solver run for a higher number of iterations in certain applications.\n",
    "\n",
    "The code below demonstrates usage of the  `solver`  and  `max_iter`  keyword arguments.\n",
    "\n",
    "```python\n",
    "from sklearn import linear_model\n",
    "reg = linear_model.LogisticRegression(\n",
    "  solver='lbfgs', max_iter=1000)\n",
    "```"
   ]
  },
  {
   "cell_type": "markdown",
   "metadata": {},
   "source": [
    "### C. Cross-validated model"
   ]
  },
  {
   "cell_type": "markdown",
   "metadata": {},
   "source": [
    "Like the ridge and LASSO regression models, the logistic regression model comes with a cross-validated version in scikit-learn. The cross-validated logistic regression object,  `LogisticRegressionCV` , is initialized and used in the same way as the regular  `LogisticRegression`  object.\n",
    "\n",
    "The code below demonstrates usage of the  `LogisticRegressionCV`  object.\n",
    "\n",
    "```python\n",
    "from sklearn import linear_model\n",
    "reg = linear_model.LogisticRegressionCV(\n",
    "    solver='multinomial', max_iter=1000\n",
    ")\n",
    "```"
   ]
  },
  {
   "cell_type": "markdown",
   "metadata": {},
   "source": [
    "## Decision Trees\n",
    "\n",
    "Explore decision trees and how they're used."
   ]
  },
  {
   "cell_type": "markdown",
   "metadata": {},
   "source": [
    "### Goals:\n",
    "\n",
    "* Explore decision trees and how they are constructed\n",
    "* Explore how decision trees are used for classification and regression"
   ]
  },
  {
   "cell_type": "markdown",
   "metadata": {},
   "source": [
    "### A. Making decisions"
   ]
  },
  {
   "cell_type": "markdown",
   "metadata": {},
   "source": [
    "Each model we've looked at so far is based on creating an optimal linear combination of dataset features for either regression or classification. However, another popular model in data science for both classification and regression is the [decision tree](https://en.wikipedia.org/wiki/Decision_tree_learning). It is a [binary tree](https://en.wikipedia.org/wiki/Binary_tree) where each node of the tree decides on a particular feature of the dataset, and we descend to the node's left or right child depending on the feature's value.\n",
    "\n",
    "If a feature is boolean, we go left or right from the node depending on if the feature value is true or false. If a feature is numeric, we can decide to go left or right based on a decision boundary for the feature (e.g. go left if the feature value is less than 1, otherwise go right).\n",
    "\n",
    "The leaves of the decision tree determine the class label to predict (in classification) or the real number value to predict (in regression).\n",
    "\n",
    "![image.png](data:image/png;base64,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 \"A decision tree for deciding what to eat. This is an example of multiclass classification.\")\n",
    "\n",
    "In scikit-learn, we implement classification decision trees with the  `DecisionTreeClassifier`  object, and regression trees with the  `DecisionTreeRegressor`  object. Both objects are part of the  `tree`  module in scikit-learn.\n",
    "\n",
    "The code below demonstrates how to create decision trees for classification and regression. Each decision tree uses the  `fit`  function for fitting on data and labels."
   ]
  },
  {
   "cell_type": "code",
   "execution_count": 4,
   "metadata": {},
   "outputs": [
    {
     "data": {
      "text/plain": [
       "array([[1160.1425737 , -293.91754364,   48.57839763,   -8.71197531],\n",
       "       [1269.12244319,   15.63018184,  -35.39453423,   17.86128323],\n",
       "       [ 995.79388896,   39.15674324,   -1.70975298,    4.1993401 ],\n",
       "       [-407.18080253,  -67.38031982,    8.67284783,  -11.75986732],\n",
       "       [ 930.34118015,  189.34074158,    1.37480074,    8.49918256]])"
      ]
     },
     "execution_count": 4,
     "metadata": {},
     "output_type": "execute_result"
    }
   ],
   "source": [
    "data = pd.read_csv('datasets/data5.csv').values\n",
    "data[:5]"
   ]
  },
  {
   "cell_type": "code",
   "execution_count": 5,
   "metadata": {},
   "outputs": [
    {
     "data": {
      "text/plain": [
       "array([0, 0, 0, 0, 0], dtype=int64)"
      ]
     },
     "execution_count": 5,
     "metadata": {},
     "output_type": "execute_result"
    }
   ],
   "source": [
    "labels = pd.read_csv('datasets/labels3.csv').values[:,0]\n",
    "labels[:5]"
   ]
  },
  {
   "cell_type": "code",
   "execution_count": 6,
   "metadata": {},
   "outputs": [
    {
     "data": {
      "text/plain": [
       "DecisionTreeClassifier()"
      ]
     },
     "execution_count": 6,
     "metadata": {},
     "output_type": "execute_result"
    }
   ],
   "source": [
    "clf_tree1 = DecisionTreeClassifier()\n",
    "reg_tree1 = DecisionTreeRegressor()\n",
    "clf_tree2 = DecisionTreeClassifier(max_depth=8)\n",
    "reg_tree2 = DecisionTreeRegressor(max_depth=5)\n",
    "\n",
    "clf_tree1.fit(data, labels)"
   ]
  },
  {
   "cell_type": "markdown",
   "metadata": {},
   "source": [
    "The  `max_depth`  keyword argument lets us manually set the maximum number of layers allowed in the decision tree (i.e. the tree's maximum depth). The default value is  `None` , meaning that the decision tree will continue to be constructed until no nodes can have anymore children. Since large decision trees are prone to overfit data, it can be beneficial to manually set a maximum depth for the tree."
   ]
  },
  {
   "cell_type": "markdown",
   "metadata": {},
   "source": [
    "### B. Choosing features"
   ]
  },
  {
   "cell_type": "markdown",
   "metadata": {},
   "source": [
    "Since a decision tree makes decisions based on feature values, the question now becomes how we choose the features to decide on at each node. In general terms, we want to choose the feature value that \"best\" splits the remaining dataset at each node.\n",
    "\n",
    "How we define \"best\" depends on the decision tree algorithm that's used. Since scikit-learn uses the [CART](https://en.wikipedia.org/wiki/Predictive_analytics#Classification_and_regression_trees_.28CART.29) algorithm, we use [Gini Impurity](https://en.wikipedia.org/wiki/Decision_tree_learning#Gini_impurity), MSE (mean squared error), and MAE (mean absolute error) to decide on the best feature at each node.\n",
    "\n",
    "Specifically, for classification trees we choose the feature at each node that minimizes the remaining dataset observations' Gini Impurity. For regression trees we choose the feature at each node that minimizes the remaining dataset observations' MSE or MAE, depending on which you choose to use (the default for  `DecisionTreeRegressor`  is MSE)."
   ]
  },
  {
   "cell_type": "markdown",
   "metadata": {},
   "source": [
    "## Training and Testing\n",
    "\n",
    "Separate a dataset into training and testing sets."
   ]
  },
  {
   "cell_type": "markdown",
   "metadata": {},
   "source": [
    "### Goals:\n",
    "\n",
    "* Explore splitting a dataset into training and testing sets"
   ]
  },
  {
   "cell_type": "markdown",
   "metadata": {},
   "source": [
    "### A. Training and testing sets"
   ]
  },
  {
   "cell_type": "markdown",
   "metadata": {},
   "source": [
    "Once we fit the model, how do we evaluate it? It is a bad idea to evaluate a model solely on the same dataset it was fitted on, because the model's parameters are already tuned for that dataset. Instead, we need to split the original dataset into two datasets: one for  *training*  and one for  *testing* .\n",
    "\n",
    "The training set is used for fitting the model on data (i.e. training the model), while the testing set is used for evaluating the model. Therefore, the training set is much larger than the testing set. Exactly how much larger depends on the application and requirements.\n",
    "\n",
    "Increasing the size of the training set will give more data for the model to be fitted on, which can increase the model's performance. However, because this decreases the size of the testing set, there's a higher chance that the testing set may not be representative of the original dataset (which can lead to inaccurate evaluation).\n",
    "\n",
    "In general, the testing set is around 10-30% of the original dataset, while the training set makes up the remaining 70-90%."
   ]
  },
  {
   "cell_type": "markdown",
   "metadata": {},
   "source": [
    "\n",
    "### B. Splitting the dataset"
   ]
  },
  {
   "cell_type": "markdown",
   "metadata": {},
   "source": [
    "The scikit-learn library provides a nice utility function, called  `train_test_split`  (which is part of the  `model_selection`  module) that handles the dataset splitting for us.\n",
    "\n",
    "The code below demonstrates how to split a dataset into training and testing sets."
   ]
  },
  {
   "cell_type": "code",
   "execution_count": 7,
   "metadata": {},
   "outputs": [],
   "source": [
    "data = np.array([\n",
    "    [10.2 ,  0.5 ],\n",
    "    [ 8.7 ,  0.9 ],\n",
    "    [ 9.3 ,  0.8 ],\n",
    "    [10.1 ,  0.4 ],\n",
    "    [ 9.5 ,  0.77],\n",
    "    [ 9.1 ,  0.68],\n",
    "    [ 7.7 ,  0.9 ],\n",
    "    [ 8.3 ,  0.8 ]\n",
    "])\n",
    "labels = np.array([1.4, 1.2, 1.6, 1.5, 1.6, 1.3, 1.1, 1.2])"
   ]
  },
  {
   "cell_type": "code",
   "execution_count": 13,
   "metadata": {},
   "outputs": [
    {
     "name": "stdout",
     "output_type": "stream",
     "text": [
      "Train Data: array([[9.1 , 0.68],\n",
      "       [9.5 , 0.77],\n",
      "       [9.3 , 0.8 ],\n",
      "       [8.3 , 0.8 ],\n",
      "       [8.7 , 0.9 ],\n",
      "       [7.7 , 0.9 ]])\n",
      "Train Labels: array([1.3, 1.6, 1.6, 1.2, 1.2, 1.1])\n",
      "    \n",
      "Test Data: array([[10.2,  0.5],\n",
      "       [10.1,  0.4]])\n",
      "Test Labels: array([1.4, 1.5])\n"
     ]
    }
   ],
   "source": [
    "split_dataset = train_test_split(data, labels)\n",
    "train_data = split_dataset[0]\n",
    "test_data = split_dataset[1]\n",
    "train_labels = split_dataset[2]\n",
    "test_labels = split_dataset[3]\n",
    "\n",
    "print(f\"\"\"Train Data: {repr(train_data)}\n",
    "Train Labels: {repr(train_labels)}\n",
    "    \n",
    "Test Data: {repr(test_data)}\n",
    "Test Labels: {repr(test_labels)}\"\"\"\n",
    ")"
   ]
  },
  {
   "cell_type": "markdown",
   "metadata": {},
   "source": [
    "> Note: The  `train_test_split`  function randomly shuffles the dataset and corresponding labels prior to splitting. This is good practice to remove any systematic orderings in the dataset, which could potentially impact the model into training on the orderings rather than the actual data.\n",
    "\n",
    "The default size of the testing set is 25% of the original dataset. We can use the  `test_size`  keyword argument to manually specify the proportion of the original dataset that will go into the testing set."
   ]
  },
  {
   "cell_type": "code",
   "execution_count": 14,
   "metadata": {},
   "outputs": [
    {
     "name": "stdout",
     "output_type": "stream",
     "text": [
      "Train Data: array([[10.1 ,  0.4 ],\n",
      "       [ 8.3 ,  0.8 ],\n",
      "       [10.2 ,  0.5 ],\n",
      "       [ 8.7 ,  0.9 ],\n",
      "       [ 9.1 ,  0.68]])\n",
      "Train Labels: array([1.5, 1.2, 1.4, 1.2, 1.3])\n",
      "    \n",
      "Test Data: array([[9.5 , 0.77],\n",
      "       [9.3 , 0.8 ],\n",
      "       [7.7 , 0.9 ]])\n",
      "Test Labels: array([1.6, 1.6, 1.1])\n"
     ]
    }
   ],
   "source": [
    "train_data, test_data, train_labels, test_labels = train_test_split(\n",
    "    data, labels, test_size=.375\n",
    ")\n",
    "\n",
    "print(f\"\"\"Train Data: {repr(train_data)}\n",
    "Train Labels: {repr(train_labels)}\n",
    "    \n",
    "Test Data: {repr(test_data)}\n",
    "Test Labels: {repr(test_labels)}\"\"\"\n",
    ")"
   ]
  },
  {
   "cell_type": "markdown",
   "metadata": {},
   "source": [
    "## Cross-Validation\n",
    "Explore K-Fold cross-validation and why it's used."
   ]
  },
  {
   "cell_type": "markdown",
   "metadata": {},
   "source": [
    "### Goals:\n",
    "\n",
    "* Explore the purpose of cross-validation\n",
    "* Implement a function that applies the K-Fold cross-validation algorithm to a model"
   ]
  },
  {
   "cell_type": "markdown",
   "metadata": {},
   "source": [
    "### A. Additional evaluation datasets"
   ]
  },
  {
   "cell_type": "markdown",
   "metadata": {},
   "source": [
    "Sometimes, it's not enough to just have a single testing set for model evaluation. Having additional sets of data for evaluation gives us a more accurate measurement of how good the model is for the original dataset.\n",
    "\n",
    "If the original dataset is big enough, we can actually split it into three subsets: training, testing, and validation. The validation set is about the same size as the testing set, and it is used for evaluating the model after training. The testing set is then used for final evaluation once the model is done training and tuning.\n",
    "\n",
    "However, partitioning the original dataset into three distinct sets will cut into the size of the training set. This can reduce the performance of the model if our original dataset is not large enough. A solution to this problem is [cross-validation (CV)](https://en.wikipedia.org/wiki/Cross-validation_(statistics)).\n",
    "\n",
    "Cross-validation creates synthetic validation sets by partitioning the training set into multiple smaller subsets. One of the most common algorithms for cross-validation, [K-Fold CV](https://en.wikipedia.org/wiki/Cross-validation_(statistics)#k-fold_cross-validation), partitions the training set into  **k**  approximately equal sized subsets (referred to as  *folds* ). There are  **k**  \"rounds\" of the algorithm, and each \"round\" chooses one of the  **k**  subsets for the validation set (a different subset is chosen each round), while the remaining  **k - 1**  subsets are aggregated into the round's training set and used to train the model.\n",
    "\n",
    "![image.png](data:image/png;base64,iVBORw0KGgoAAAANSUhEUgAAA/MAAAJqCAYAAABn4hCcAAAgAElEQVR4AeydjZXsttFtFYJCUAgKQWE4BIfgDByCQnAYDsEhOASHMG8dfa90z0AkCLJJFn421ppFdjcIVO2qA6B65ko/fdEgAAEIQAACEIAABCAAAQhAAAIQGIrAT0NZi7EQgAAEIAABCEAAAhCAAAQgAAEIfFHMkwQQgAAEIAABCEAAAhCAAAQgAIHBCFDMDxYwzIUABCAAAQhAAAIQgAAEIAABCFDMkwMQgAAEIAABCEAAAhCAAAQgAIHBCFDMDxYwzIUABCAAAQhAAAIQgAAEIAABCFDMkwMQgAAEIAABCEAAAhCAAAQgAIHBCFDMDxYwzIUABCAAAQhAAAIQgAAEIAABCFDMkwMQgAAEIAABCEAAAhCAAAQgAIHBCFDMDxYwzIUABCAAAQhAAAIQgAAEIAABCFDMkwMQgAAEIAABCEAAAhCAAAQgAIHBCFDMDxYwzIUABCAAAQhAAAIQgAAEIAABCFDMkwMQgAAEIAABCEAAAhCAAAQgAIHBCFDMDxYwzIUABCAAAQhAAAIQgAAEIAABCFDMkwMQgAAEIAABCEAAAhCAAAQgAIHBCFDMDxYwzIUABCAAAQhAAAIQgAAEIAABCFDMkwMQgAAEIAABCEAAAhCAAAQgAIHBCFDMDxYwzIUABCAAAQhAAAIQgAAEIAABCFDMkwMQgAAEIAABCEAAAhCAAAQgAIHBCFDMDxYwzIUABCAAAQhAAAIQgAAEIAABCFDMkwMQgAAEIAABCEAAAhCAAAQgAIHBCFDMDxYwzIUABCAAAQhAAAIQgAAEIAABCFDMkwMQgAAEIAABCEAAAhCAAAQgAIHBCFDMDxYwzIUABCAAAQhAAAIQgAAEIAABCFDMkwMQgAAEIAABCEAAAhCAAAQgAIHBCFDMDxYwzIUABCAAAQhAAAIQgAAEIAABCFDMkwMQgAAEIAABCEAAAhCAAAQgAIHBCFDMDxYwzIUABCAAAQhAAAIQgAAEIAABCFDMkwMQgAAEIAABCEAAAhCAAAQgAIHBCFDMDxYwzIUABCAAAQhAAAIQgAAEIAABCFDMkwMQgAAEIAABCEAAAhCAAAQgAIHBCFDMDxYwzIUABCAAAQhAAAIQgAAEIAABCFDMkwMQgAAEIAABCEAAAhCAAAQgAIHBCFDMDxYwzIUABCAAAQhAAAIQgAAEIAABCFDMkwMQgAAEIAABCEAAAhCAAAQgAIHBCFDMDxYwzIUABCAAAQhAAAIQgAAEIAABCFDMkwMQgAAEIAABCEAAAhCAAAQgAIHBCFDMDxYwzIUABCAAAQhAAAIQgAAEIAABCFDMkwMQgAAEIAABCEAAAhCAAAQgAIHBCFDMDxYwzIUABCAAAQhAAAIQgAAEIAABCFDMkwMQgAAEIAABCEAAAhCAAAQgAIHBCFDMDxYwzIUABCAAAQhAAAIQgAAEIAABCFDMkwMQgAAEIAABCEAAAhCAAAQgAIHBCFDMDxYwzIUABCAAAQhAAAIQgAAEIAABCFDMkwMQ6JTAr7/++vXTTz/xAwNyYNIc+Pnnn4ntpLFl7WbvihxA5+RC5ALXOXNB5/XMRjGfSZ+5IVAhoEWfBgEIzEsAjc8bWzyDQBBA50GCKwTmJJCtcaqFOfMKryYgkL04TIAQFyDQNQE03nV4MA4CtxBA57dgZBAIdEsgW+MU892mBoatTiB7cVidP/5D4GkCaPxpwowPgXwC6Dw/BlgAgScJZGucYv7J6DI2BD4gkL04fGA6j0IAAg0E0HgDJLpAYHAC6HzwAGI+BA4IZGucYv4gQHwMgSwC2YtDlt/MC4FVCKDxVSKNnysTQOcrRx/fVyCQrXGK+RWyDB+HJJC9OAwJDaMhMBABND5QsDAVAhcJoPOL4HgMAoMQyNY4xfwgiYKZ6xHIXhzWI47HEHiXABp/lzezQSCDADrPoM6cEHiPQLbGKebfizUzQeAUgezF4ZSxdIYABE4TQOOnkfEABIYjgM6HCxkGQ+AUgWyNU8yfChedIfAegezF4T1PmQkCaxJA42vGHa/XIoDO14o33q5HIFvjFPPr5RweD0Ige3EYBBNmQmBYAmh82NBhOASaCaDzZlR0hMCQBLI1TjE/ZNpg9AoEsheHFRjjIwQyCaDxTPrMDYF3CKDzdzgzCwSyCGRrnGI+K/LMC4EDAtmLw4F5fAwBCHxIAI1/CJDHITAAAXQ+QJAwEQIfEMjWOMX8B8HjUQg8SSB7cXjSN8aGAAS+vtA4WQCB+Qmg8/ljjIdrE8jWOMX82vmH9x0TyF4cOkaDaRCYggAanyKMOAGBKgF0XsXDhxAYnkC2xinmh08hHJiVQPbiMCtX/IJALwTQeC+RwA4IPEcAnT/HlpEh0AOBbI1TzPeQBdgAgQ0C2YvDhkm8BQEI3EgAjd8Ik6Eg0CkBdN5pYDALAjcRyNY4xfxNgWQYCNxNIHtxuNsfxoMABL4TQOPfefAKAjMSQOczRhWfIPCDQLbGKeZ/xII7CHRFIHtx6AoGxkBgQgJofMKg4hIECgLovADCSwhMRiBb4xTzkyUU7sxDIHtxmIcknkCgTwJovM+4YBUE7iSAzu+kyVgQ6I9AtsYp5vvLCSyCwB8EshcHwgABCDxLAI0/y5fRIdADAXTeQxSwAQLPEcjWOMX8c7FlZAh8RCB7cfjIeB6GAAQOCaDxQ0R0gMDwBND58CHEAQhUCWRrnGK+Gh4+hEAegezFIc9zZobAGgTQ+Bpxxsu1CaDzteOP9/MTyNY4xfz8OYaHgxLIXhwGxYbZEBiGABofJlQYCoHLBND5ZXQ8CIEhCGRrnGJ+iDTByBUJZC8OKzLHZwi8SQCNv0mbuSCQQwCd53BnVgi8RSBb4xTzb0WaeSBwkkD24nDSXLpDAAInCaDxk8DoDoEBCaDzAYOGyRA4QSBb4xTzJ4JFVwi8SSB7cXjTV+aCwIoE0PiKUcfn1Qig89Uijr+rEcjWOMX8ahmHv8MQyF4chgGFoRAYlAAaHzRwmA2BEwTQ+QlYdIXAgASyNU4xP2DSYPIaBLIXhzUo4yUE8gig8Tz2zAyBtwig87dIMw8Ecghka5xiPifuzAqBQwLZi8OhgXSAAAQ+IoDGP8LHwxAYggA6HyJMGAmBywSyNU4xfzl0PAiBZwlkLw7PesfoEIAAGicHIDA/AXQ+f4zxcG0C2RqnmF87//C+YwLZi0PHaDANAlMQQONThBEnIFAlgM6rePgQAsMTyNY4xfzwKYQDsxLIXhxm5YpfEOiFABrvJRLYAYHnCKDz59gyMgR6IJCtcYr5HrIAGyCwQSB7cdgwibcgAIEbCaDxG2EyFAQ6JYDOOw0MZkHgJgLZGqeYvymQDAOBuwlkLw53+8N4EIDAdwJo/DsPXkFgRgLofMao4hMEfhDI1jjF/I9YcAeBrghkLw5dwcAYCExIAI1PGFRcgkBBAJ0XQHgJgckIZGucYn6yhMKdeQhkLw7zkMQTCPRJAI33GResgsCdBND5nTQZCwL9EcjWOMV8fzmBRRD4g0D24kAYIACBZwmg8Wf5MjoEeiCAznuIAjZA4DkC2RqnmH8utowMgY8IZC8OHxnPwxCAwCEBNH6IiA4QGJ4AOh8+hDgAgSqBbI1TzFfDw4cQyCOQvTjkec7MEFiDABpfI854uTYBdL52/PF+fgLZGqeYnz/H8HBQAtmLw6DYMBsCwxBA48OECkMhcJkAOr+MjgchMASBbI1TzA+RJhi5IoHsxWFF5vgMgTcJoPE3aTMXBHIIoPMc7swKgbcIZGucYv6tSDMPBE4SyF4cTppLdwhA4CQBNH4SGN0hMCABdD5g0DAZAicIZGucYv5EsOgKgTcJZC8Ob/rKXBBYkQAaXzHq+LwaAXS+WsTxdzUC2RqnmF8t4/B3GALZi8MwoDAUAoMSQOODBg6zIXCCADo/AYuuEBiQQLbGKeYHTBpMXoNA9uKwBmW8hEAeATSex56ZIfAWAXT+FmnmgUAOgWyNU8znxJ1ZIXBIIHtxODSQDhCAwEcE0PhH+HgYAkMQQOdDhAkjIXCZQLbGKeYvh44HIfAsgezF4VnvGB0CEEDj5AAE5ieAzuePMR6uTSBb4xTza+cf3ndMIHtx6BgNpkFgCgJofIow4gQEqgTQeRUPH0JgeALZGqeYHz6FcGBWAtmLw6xc8QsCvRBA471EAjsg8BwBdP4cW0aGQA8EsjVOMd9DFmADBDYIZC8OGybxFgQgcCMBNH4jTIaCQKcE0HmngcEsCNxEIFvjFPM3BZJhIHA3gezF4W5/GA8CEPhOAI1/58ErCMxIAJ3PGFV8gsAPAtkap5j/EQvuINAVgezFoSsYGAOBCQmg8QmDiksQKAig8wIILyEwGYFsjVPMT5ZQuDMPgezFYR6SeAKBPgmg8T7jglUQuJMAOr+TJmNBoD8C2RqnmO8vJ7AIAn8QyF4cCAMEIPAsATT+LF9Gh0APBNB5D1HABgg8RyBb4xTzz8WWkSHwEYHsxeEj43kYAhA4JIDGDxHRAQLDE0Dnw4cQByBQJZCtcYr5anj4EAJ5BLIXhzzPmRkCaxBA42vEGS/XJoDO144/3s9PIFvjFPPz5xgeDkoge3EYFBtmQ2AYAmh8mFBhKAQuE0Dnl9HxIASGIJCtcYr5IdIEI1ckkL04rMgcnyHwJgE0/iZt5oJADgF0nsOdWSHwFoFsjVPMvxVp5oHASQLZi8NJc7vs/u9///vr559//hLLX3755et///vf63b+85///Prtt9/++PnHP/7x+vxM2C8BNN5vbLAMAncRQOd3kWQcCPRJIFvjFPN95gVWQeCPAhQMnxH4/fff/+CohVY/e8W83v/Xv/71pWJbXwDc2VTIx/y6H6E9yWME/9+yMfsA8JafM84T64Wue+vK0373YMPTPs4wPjofM4r//e9/v3SG0Bfy//nPf1Kc6MGGFMcHmzRb4xTzAyXM3//+9z9/w5d1eBgI1/CmZi8OJUAvSvVb7k+aimb5px/95vyppsNuzKOrNsat9re//e1bvzsLeuc2SjH/JI8t/qu+p5yctbnGXYNX7+/U5KfMdbB3P6SXt1sPNrzt86jzzapz5WD85Zvr4ep9b3+59uuvv37T+d754cm87MGGJ/2bZexsjd9+klCya9Pd+pklaFl++KL5VDHv8cvyk3n/j0D24lDG4c4CT18GxIb/6RcDpZ3+uvzN/N5mXG6Ydx4qfOxRinm3WXG6k4fHZ/X73jR+Zzx8vwqtf3LVF3O9tHJdefILyT2fe7Bhzzbe/05gVp2XOfiJvvVsho6+R+r7q9KfjC8Ue7DhOxVebRFQnDLbrbMr0cvEK19LrCoKMkSRCfqOub0A2itKPpmn/E0KMfqE5ufPZi8OpQelvq/+Nqr8jZL+hO2pxm/mv/745wP6EkEFuv66p6Xd+cVNy3yr9ulN43fGofxCqDwLnH3dUzFfrmFX18JPePdgwyf2r/TsrDov99ezmi779/Zld7mGPXHuPtJBDzYc2cjnX3/Uvpkcbi3my2KwFGr5uvVgmQmop7mfKuZVpPnYESeK+dzoKw69Nf9t29Vv0ct14skNsvzNwd5c+ksXfakg2+4uGnRACU1lHFa0zsb8rX8F8SSP3nI6054eNX4nD+0hez/lF0bS3V5fFa69Ndka68VTfyl35HMPNhzZyOf5B/0nYyBt7um2LPa1F+311ThZOtrjI3ukcZ0NZHdG68GGDL9HmzN7L7+1WvBDug6tIVodqPWZfx6Hy4xvtEdLkrDXC+69oiT6tly1SJQHqoiLrlmLV4vtK/TJXhy2GHtheDVH/AsBfev8ZGst5p+0IbuYd423FvNP8mDsHwR61PgP65690wFZ/sfPHXvasxYzOgSuEVhV59J06FtX1QA0CMxIIFvjtxbzvjnv/dZd4i7/bKTHb917TDYvgj49+Oh5H0/3+hbVvzCgmM/NguzFYct75YRvzme/jJPW/XkV20+28jcDn+rmiq2+3o3ym/krfvLMeQI9avy8F9eeKL/cz9DmNct5CgLnCKyqc2na93uK+XN5Q+9xCGRr/NZi3jfno0O+C1xfAtCOCXih/enBx7948QXW56CYP47Jkz2yF4c93/xLoLM2+hqhZ5/+szp+M//17a9vFDtaPwTO6qcfyz+3pFwLPt3TPreIESDwDIFVdV4W85z1n8kvRs0nkK3xx4r5vd/MB3L/bdVR4R/P6KrFQUXm00WAz3nmXnZ9ap9+e7n11wpeaH968NFvLMW95OiFGsX8mcjf3zd7cdjzqDyEK5dam+fX3p/YKye16eu32N5fPPSM3t/Sx5YNrcW8xouxW397LjvFQjpybWoc/4sDjSfb9dMydvivceO5uOp5/Rz5L7uib8kw3g9/dS3Xkys8xF/jKHayXeOG3brqtewq15ytuOk9t8EPgcFny6/R1ixxWbUppp4fZQ5ucYm8Ug5H03OlVvR6q2mt0tnE9Sob9FpjKj9bm9tSyzvv52PrGdeI8ll9Pde9/9a9j51lQ9gV66F8cm2Krd4T3/Lq62SMM+N1VZ1Lm67xFn1Jo5EnfraQLsq82loz9J7m0Rg+t+6Vg9LM1nNbeee21Goa7+c2SxN6zu2WXbLvaA8Pe3zsqzZovk9sCFt0lT2hZecb75VX8V6hiUVmu3V235yPAqjPIxFqCSo4GndLmEpOvd8iCk/kI+C+0W8dPMMW9Ysmsfhz8k1ztm5WWlxi3OCiq4QRC4+PH+/F/HddfY7a4eCu+Rhnn4Di32NT7nmOHmk9fJBO/Tnf9NQnDoPep3avebf0GfPpqjl8jD3dtPaLsTWOa8XniPuwTxqO93S/1+70/8i2sCeu5Tp1lod88vU/xt27lrHfYiKb4nmtjWpak3wtj8/9qrV4lCa7V22Kk8dtT5vOp+yvNWUvH/y5lryJsTVeS35Gf11rOef95KN07ucf/zzule9neWTZIM5ntB8+6lpbDz1+o9/L1xWbctjjXcvR4KN6IJ6J/r6Hxme6xud6Vrra6+fPxP1R3aEx3RatC3vN+4VN5R4a8/q1ZZ3xsbNskN9aa7dqFPdn776lRttjO8r78j2z3Tq7kjiCeSQUP2xqI9hqEmdr8oSAtsbRe2FXC3C3bWtDjc91VTtaQI5YtIreDy1bdu35fub98E2cKObPkLu/b0uu3j9r24ieJ612+vqw9Uz5ufroR/ra09jRFwleEGqsPd209hOd8kuJsHPrKk7OSn7stTv9b103w+ZS62d41A5R7nvMFdejddFtELeWdTLGPtoP9mLw9vuyd9VW5vueNp1PxFfXWiHvXDWuPxf3yk3l1V6OKq9rLcbRtZZv3k82783n/XRfO7iHXf7MEzbI1qPmOg17xDV+4r2t69H6fTT3KJ/L9xVbqb29s76z8S+61N+L2TKHfLytPU8aUh5ufaax/Hm3Ie7dlpoWvJ/GLNe20m5/fVTQ+9hZNmgt9PpD9suW0Lju3afy/mgtDd4jX+VzZrt1dk9gJeBe08HRg731rY2C732USBKJEl/P696TXH1rh0Mfa8+ueN8Tc+uAEZ/LpriP+cO2cvEoD8sxV1kYaDxxVH9tkqWAwo8tu2LMT67uz57Nn4zPs+0EFOtem/QXuaircvWoeS5rEyhbaEb9pIGtDWDrAL+1fsTYZQG4p5vyQLrXT+OGneG/fHGtyB69F5/7dcvvsDWeqfmveZyjxt7zX31LW/Ss3ovP4ho2xPUMj7A7/NQaonE9fuJZxkL9awcZ7+8+l3zkz9aBL3zp+SoGq7ZyDalpLhhFjunqOlQOKuf0o9z184fei+eiX4wXV+VqmUM+RvTza4ypq9arveb9PI81vmyLpnz3z/Xc0brqY39qgxjInjM26Bm3QTFx3cs3xdVjVTunBYvZrmK0YlPsPT9qORp8XIeeN8pL6UE5qp9SP3F2jX4xnl9Ljalvma/e323R+HtNtoSfrh894xou92M9UxtX891lQ/i5ZYM411q5x/u6Fc8pts4g5ovPZ7/K98x26+y+Oe9thN5Hzu/18wTe2iACmieQxts7EESStQB3MW6N559rPIlxK3F9IZIYtpqLZE9Q3if82LJra/yz77lvW4I9Ox79rxNoydXro3/2ZLlJ7+V3zKINJHJX160iTvmm9eGolWNprdhr2kh93j3dtPbzAlPj1vz2DT5sqPXX2C3+l+xr/ouL23F0cAiOpZ973MpYaK6ttTDGVYyDha5ab/ZaGRP1l/2ac6v5nqG+LSy3xnnzPdm5amvdu52PeJU/R/mvfFSfvRz28ZVfMX4tN/VM9NO1lmveL+79gO/zl9reOxPEMzHekzbU1gyPoXjtab/0a7WzheKzYivjrnw5ar5fRX7XcivGkwa3zhXxeVzVL8bVtfaM21LTQbn3aNyadsszfU0P2TZI085rb+0SX/dLdq/UxCiz3Tp7ubArsPpRUvsmGYmxF+wyefY2iADnCaT7rRZztgB3W7cOAP657rf6yAZfyLYOBuVBuOan+ygf9ubc8v3Me+5bbYE5MyZ9rxFoydVrI9/zlHTtuqrlr68Nd/jlc+9pXl6WBeGeblqLV5+3xY9yk6/ZeiYqbsfRmG7D1jq0NW8rt3JdquVAzFOOvVcIlTGR7Xvx09ia2/Nxb38JO3q4tuRQD3Y+YUO5JtRiG/N7fHUvHdzZytys5bPbUitSvJ/u9/I9/HC9qn+t+dgZNnihUZtfPvhaIR9XakdxnJWFNO05epT74uA5Fc/ufYF7lVuMq2vNJtdibe8sbdY5urZ2lGf/nm3wL+BrDBSLcs++Gp8Rn1MuZbZbZy83ZxeM32tRr4nTx2k5kLUkm89/BNwL2q0DxtHnPn5tXvfz6ECuMSWkGG/LLp/36r3PQTF/leI9zynWPbfy4Fv7hts1c8dBzjfP2oG+3Fz2dFP6stVP74X+dG1ZmxQ/971F5y0xb/VfY3lf2dLSWniUxfPRYT7mLZ/bY1La0LIenfmSI+zJvPau8SfZ6ADretrSXDm/99deVTswl8+2vC4P2bVzittSy33v17L2ta5Z8sfHzrDB17ZaQSJbvTDa03xLjEbsozit2Mo9s5ajwcfzRNy0D9zdPG9rmmzdO73fUcEbvrRq18eu7d/e704bfJ2unbXkV7l+3r0+B7ser9kav3WF8aArmbRg68eTVvf6rHYw86RsFbLPsZVA/vlRIrjQtw4YR5/7+LW+vmi1+Fkby+f85N7nqMXokzl4to2Acrbn1lqUlRv6HXnl2lHO7rWyINzSs55tOUCXG1Xtywu3x9fAuw6xrf7LjjN9w+4WHoqjr6tn4upr/F78WmMXNuvaMq73z77vXeNP8tHB3vNnT5tug/dvKQz82Zb7Mzndaktrv7BvJBv8vHBUzPs6qDVppaYcWLGVe3+LZn0Nby1Kz7L1XNR8e6117/R+rTa7dnq2wffhvb06+JXnhnh/hWu2xm9dYXxzLhdridp/ayLH97719iTf61Mmh2+YW8/45+Wz5WuJMfpvHTCOPvfxan19QWkpDJzLll0+79V7n+PM4fzqfDy3T0A52HvzHJa9W1+k+brQutG538p15aI0orH042tJbYPxjUj27emmpV/ZZ2udcbvj3hnp/mz7xH/N5YejGiu3q/R1i1vZZyv2Pqbf++FnL8/Lg8GWDT6m7q/4Wo7x5us939+0IWsuXxdq2nT71C9+9PynTeuKflSIajzPH81T2wPDDl1rhaz3a7FZee7P9GyD8zpa2/wspLVjpaZ4rtjKXK7pJPh4TrXuV/Hs1lU2SEN+fvBzblmr+BittrT287H9DNOzDTrn+HpU2+d9Xz/6Lb6zmOE+W+O3rjASagRdyb3VPIH3gh1j6NpygNM8Ls6tzc/H3LLL3/OxtuY/+rx1LB9ny2YfR/fef8uusv+V1z5Hi01X5uCZNgLK2d5bWXBtHdI8p1oOs9osNI4/5/ot72tfEJT27emmLEy3+pV9apuax+1sMX+n/7LDN9gaK7e59HWLh2LpsfDnj+59r9AYW+O32FDOc8XXcow3X8v3VVtLDpRsPN9a1pLyee1pfvD28bbua3ug96/Z0tovbJUW/Jm7bWgpqFptKDWq9XarlWvFlt63npvlPcVzxVbmUU0nwefTNVxzKsf9yyPXU3m/V6vInlZbvJ/OLS3NzwW92+As9760K2MtJiu1bI3fusL4gr0XSB1UXUxbG5UnTutvv/yZrY3C5zxKMC8itsY6+tzHr/X1Lzb2NkEf68hH73v13ufYis3VcXnuPIHsxaHF4lLP5Rd05QJ/pOfycOi63buvbZ7leFt6lp8tRb+vb2di4zrf2wiDdWnvns/+fs1/jevFy1HfPTu2uPm4WjfOtNLPrfFb+pRzuk2tvpZjvPn6TB69adcbc5V62sqB0g7P+5aiNJ7X2L63+Ti1+9oe6M/VihTv12KzbPVn7rahZqvzarXB1zc9o7OfbNaPNOxFiz5vmT/smOUqv1dsZS63xP6TNdyLas/f2v1eraJ4tdrS2s9zwHXRuw3lXizN673Qecn97HnAuYx6n63xW1cYbVQhGiX3XvPELw//esY3h5YiV8/EvHtA/fOjQ4MOgdF/q+/R5+53ra9zkDCOWm2so2dbP/c5aoeI1vHod53AXi5fH/GZJz2PZbP/xlqbd2jpaIEvNww9p00iNgwf1zcP5exeaynS9Ww595bufX2TbVt9tuzwTbtWzJc23OG/7Gll5ba3cPPYytYzreXZFhvKOa/4Wo7x5uuz3N607em5yhxo0ZN4xY+eb2katyzkdcZQfmlt8S8Y9TrG17W2B3q/mi2t/cIX2evP9G6Dnxnc7q37rfNe+D3zVSxWbGUu13QSfK6u4eU5RJrXni396MfPD74n67m95rbUzi+t/XyekWwo1+otbcd74lRbs5zBTPfZGr91hfGAK7n3mgIdgdfVRaZnXBi1cWJ8/zcdewd7/4LgKNF84986YBx9HnbpWut71k/fNFCN+lsAACAASURBVLfs8nmv3vscR5yuzsFzbQSyF4c2K//6W23/YsrzqfZbKa0Bvibs6Ths8o271rcskPd009KvLC69CAi7tq6+ae8V80/5L3taWbntLTyufrlR2qQ1cqu12FA+d8XXcow3X4+i8SeY+HlBHPa06XP7GtFSGOhZzwk9X9vXyrNJra/bUlvbvF+LzeLgz9xtQ83WYN1qg7PVvZ933Ae9Lz2v2sRixVbmUUvueU7V9nbnWep2b5+NZ7weqNUYrba09ov5dR3FBmereLivrnHd67OynnOfZ77P1vitK4xvzgpqrSkpIhFKMfkhbu+g52P7YXlvs/Q+tQXF55Z9WwcMt33rc7et1tfnOvLT2e7Z5fNevXd7a4eIq+PzXDuB7MWh3dLvX1rFb1/KjbymlbOFsn8RVtOOa6ymm3L+LVt9U9NYtXXE2fnas3fIKOc/+qKg1X/Z4ZtvjZXbXNrTwkPPtDZfZ1qZbNlQzneGS/lsxuuRNH43H+lH/sdPS3yjr657e31pp3I+nivPGmXfUuO1PTDGPLKltV/YIg7+TM82uJ1hv9YurbuKr9aEo7Usnpv5Kk4rtjKXWzR7ZQ0vz8dHrH1PrtUqbov2rL3W2s+fH8UG9y32eMVV65K4S+u6X7WIj5hma/zWFcY3ZyVArXnfrQNm6wbsh049s5dQLvY9UbpNsUltHTD8ILr1ufvtfmz1jXl03Vvo3PbovzWWz3v13u2tHSKujs9z7QQU61GaF4yyW/npebunufDP+7b47fPVxvb1IeyKOf3aUvSXvz3fK0J9XB1kNW/87D3zlP+y5ezYeqaFh2IcfulaOxQ5E60r/pzs22otNpTPteZF+VzWa3FYtZV52bKned5ovz5qZY4qp2qtzM3aHui27OWw5vJ+V2y+24aarcGm5LZlg7OKL3Djea7fCayq8zKPWnLvyhruhXFLLnr/Wq3SaktrP8+K3myQD1vN6x2+mNsi9H/vZWv81pOEb857iREoyoNxfOMTn5eFtQSqPlGsayPxb4wEsrZRlvNpvNigtOC4sLyg1Wdl8+Te+tz7H/V1ZvJBPoVgZN8Zu3zelnuN7z+a130Xz/LzlnHpcw+B7MXhjBdl0arc8dyvaVPzlDqozS3N+di632utBWFr0e96VHxq+i/tVH89v9U+8V+arTWx19zxE2to7ZlWbiWPWLtqY5fP7NnTaoPP5XtCLS/8mcx7xWTVVuZ8TUvBKHJYVz1/1DSmP3N2HdL+t9d83Jotrf1intLmXm2QXe6b9Lqn5fBt1as4rdjKXK7pJPhcWcN9Tzkq5stzbq1WcVtq+2xrv/BRV7e5Bxvkw1YTz9C5bG7Z47fGmf29bI3fusL45ryXGB5QT2bdl00JHkl0dD3apDW2C25vPB3qvd/WAcML3q3P3Q8vOrb6avNzsXxil897dF8WL3vzlu+zWR+Rve9zsR+puS487+XHUd6U+aiD4VaThnwejV0r2loLwtZ+5QFWtmz5Vh4YQkdb65z8fMr/rbFb1spWHopH+BbXvc1enHzNV/+9OG/ZvbV+ljnie0YtL8rnsl6LwarNzwvi0BLfyDFdWwoDsfVnagd93/fjmdZCuqapGKvV5lJTd9tQszVysdWGci2Wj9KddC7WcVWsNG/Nl5h7xqu4rNjKPGrJvStreLmW7O1B5f6tuNQK6VZbWvt5Dvi5v1YvtY7d2m/PBj2/1RQzcfIf6d71LZ3recVBZ5mtM9HW2DO9l63xW1cYD/peYnjwSmFtJYD6bG0YkVj6bE+4Plfcu40xhq4aJw4TLop4L57X1QuVrc+v9C0PuWGb5oo5/LAR7/lcZ+5L9jHf0fXTec/YuHpfxWKkVm6okUu1A3T4J+1H/7hqPOWpmjS+N760u9fKInkvf1uLV81Trkd6rTVDY2h9KbXsr/dYfOL/UdG6NbbWErERU9mke2+t3PSMr0sRO/kc8RMX8fF1U/2O7D4Tk7DdbanlRfTPvorDqq3ci/e06Xwiv3RVfrU0zwk9p9xUfksXmlP3ZW7GPLH+bM0TfY5sae0Xc8gmf6ZnG8Rwj5374PfSZbnehO+zXuX/iq3M5RbNul5b13CdD8oc0/4RtYE05Od676v59prbUtuvvF+rzX4ukG17zceu2eD+1fr5PG5DKwdnV7vXeFofVmlikdlunV2Bk2j00xpEiS1+aiBibC0GOgScmWNrXD2vsST48hCh1zWb9Lmej4Via/x4L/qqf0sLu2Rb+UwwaJm3dS7NUf5o/PI9vb5r3hbb6PN/v1EaiYNyZGtxl8ZaWlm8bY2l97RR+Vy1jascs9R62HWmeJUONeeeff6+xpVu4j1tnnuttDWeKa9n/I+5tJ6U4/jrMkalLXvcYnw/FPi4e/ctG/1ZG2TLlQNN+JBxFZ9VW5mTRzkmTp5POge0tDN6Lb+M0zqz19wW+bLXvF+LzeLgz9xtQ83W8KHVBrHVl4Fub+t9C4uwZ/SrmKzYyjxqyb2ra7gXvbUc1F6l3Is+tUK61ZbWfp4DvmfeYYP7XzsTXbHBeQW3lmurHW7TqPfikdlyZ8/0nLkh0DmB7MXhCp6tIlcHvtam4lffbO9tFNr0NJ4fEmobRmuRfqVwrB1i9ZlsVPMvHmrFvPre7b9z982+5FsWDK3cfHxt+LXYaU59rrFb2hUb3MdaXrTM/0afETV+F5eymG9ZJzxvWwqDsFVa9AO3jxN5GV9W+yG71EWMp6uPUbOltV+M7Wubnu3ZBl8Dpbe9GMqHrYIg1sjwfdar4rhiK3O5ppPg42t462+541mNX9uDlINqvrfUCulWW7xf677j64ye32s+do1Haz+fp8WGUrd7+7dirc98TVDe13xzW0a/z9b4mivM6FmD/UsQyF4crkDWYU4HN/3ocHz1sKZNQZuINlpt0HpdHhRb5ijt2fOptV/5vHyUfdqwwtYoCrxvMGnl0eq/xm0dU/bINnHVj+zWdcveqzxijrBfhwXNox/ZeqZdseHKM2dsurvviBq/i4FipdwLHbeMq/7xjJ4/2/Rs5L70qi/x9J436Sn06u+X996vZssVm2P+I820jt1qq/t4ZIM4Kn/1oyKjxiDG1ZjxjK7iv0KTr6s25WjkUgsD5ZH6R263PON99LzySvmp/UdXjefN56jtn9FPz7f2k90tzTXZOvYd/dy2Ixvkv+tVLFuavtCI51Tcr9CyNb7uCrNCduHj0ASyF4eh4WE8BAYggMYHCBImbhLwA7u+rGttccjXld/atVKjHwTeJ1B+YddqgdYD13nrcyP3y97LKeZHzh5sn5pA9uIwNVycg0AHBNB4B0HAhEsE/LB+5jfs/pz+gmeFhs5XiPJ8Puqvl0KvZ37D7n/yf+a5kQlma5xifuTswfapCWQvDlPDxTkIdEAAjXcQBEy4RMD/bbIO/S2t/I1d658kt4zdcx903nN0sG2PgBflymH92f1Rk6bVN37465sjYvd8TjF/D0dGgcDtBDgA3I6UASHQFQE03lU4MOYEAf+PZymPVdDv/Zteve+/5VP/VQ75QorOTyQWXbshoP9WgHI3fvRPa8r//oAbqz/L9y/5Wv9bGj7GqPfZGqeYHzVzsHt6AtmLw/SAcRACyQTQeHIAmP4yAf2Wzg/ufuDXn9aq2Nc13vfrKn96G3DReZDgOhqB8rfzymXp3jXu//0M13mt8B+Nw5G92RqnmD+KEJ9DIIlA9uKQ5DbTQmAZAmh8mVBP6aj+pHavYPdDfdyrCDjz7+tngYbOZ4nkmn7on8dsfXEXui6v+gKg5U/yZ6KZrXGK+ZmyCV+mIpC9OEwFE2cg0CEBNN5hUDDpNAH9Gb0O/PptvB/69Vo/+vPbFYv4AInOgwTXkQlIwyrUQ9fSun4rr9d6X2vA3j+1GdnvFtuzNU4x3xIl+kAggUD24pDgMlNCYCkCaHypcOPsogTQ+aKBx+1lCGRrnGJ+mVTD0dEIZC8Oo/HCXgiMRgCNjxYx7IXAeQLo/DwznoDASASyNU4xP1K2YOtSBLIXh6Vg4ywEEgig8QToTAmBlwmg85eBMx0EXiaQrXGK+ZcDznQQaCWQvTi02kk/CEDgGgE0fo0bT0FgJALofKRoYSsEzhPI1jjF/PmY8QQEXiGQvTi84iSTQGBhAmh84eDj+jIE0PkyocbRRQlka5xiftHEw+3+CWQvDv0TwkIIjE0AjY8dP6yHQAsBdN5CiT4QGJdAtsYp5sfNHSyfnED24jA5XtyDQDoBNJ4eAgyAwOME0PnjiJkAAqkEsjVOMZ8afiaHwD6B7MVh3zI+gQAE7iCAxu+gyBgQ6JsAOu87PlgHgU8JZGucYv7TCPI8BB4ikL04POQWw0IAAv+fABonFSAwPwF0Pn+M8XBtAtkap5hfO//wvmMC2YtDx2gwDQJTEEDjU4QRJyBQJYDOq3j4EALDE8jWOMX88CmEA7MSyF4cZuWKXxDohQAa7yUS2AGB5wig8+fYMjIEeiCQrXGK+R6yABsgsEEge3HYMIm3IACBGwmg8RthMhQEOiWAzjsNDGZB4CYC2RqnmL8pkAwDgbsJZC8Od/vDeBCAwHcCaPw7D15BYEYC6HzGqOITBH4QyNY4xfyPWHAHga4IZC8OXcHAGAhMSACNTxhUXIJAQQCdF0B4CYHJCGRrnGJ+soTCnXkIZC8O85DEEwj0SQCN9xkXrILAnQTQ+Z00GQsC/RHI1jjFfH85gUUQ+INA9uJAGCAAgWcJoPFn+TI6BHoggM57iAI2QOA5Atkap5h/LraMDIGPCGQvDh8Zz8MQgMAhATR+iIgOEBieADofPoQ4AIEqgWyNU8xXw8OHEMgjkL045HnOzBBYgwAaXyPOeLk2AXS+dvzxfn4C2RqnmJ8/x/BwUALZi8Og2DAbAsMQQOPDhApDIXCZADq/jI4HITAEgWyNU8wPkSYYuSKB7MVhReb4DIE3CaDxN2kzFwRyCKDzHO7MCoG3CGRrnGL+rUgzDwROEsheHE6aS3cIQOAkATR+EhjdITAgAXQ+YNAwGQInCGRrnGL+RLDoCoE3CWQvDm/6ylwQWJEAGl8x6vi8GgF0vlrE8Xc1Atkap5hfLePwdxgC2YvDMKAwFAKDEkDjgwYOsyFwggA6PwGLrhAYkEC2xinmB0waTF6DQPbisAZlvIRAHgE0nseemSHwFgF0/hZp5oFADoFsjVPM58SdWSFwSCB7cTg0kA4QgMBHBND4R/h4GAJDEEDnQ4QJIyFwmUC2xinmL4eOByHwLIHsxeFZ7xgdAhBA4+QABOYngM7njzEerk0gW+MU82vnH953TCB7cegYDaZBYAoCaHyKMOIEBKoE0HkVDx9CYHgC2RqnmB8+hXBgVgLZi8OsXPELAr0QQOO9RAI7IPAcAXT+HFtGhkAPBLI1TjHfQxZgAwQ2CGQvDhsm8RYEIHAjATR+I0yGgkCnBNB5p4HBLAjcRCBb4xTzNwWSYSBwN4HsxeFufxgPAhD4TgCNf+fBKwjMSACdzxhVfILADwLZGqeY/xEL7iDQFYHsxaErGBgDgQkJoPEJg4pLECgIoPMCCC8hMBmBbI1TzE+WULgzD4HsxWEekngCgT4JoPE+44JVELiTADq/kyZjQaA/Atkap5jvLyewCAJ/EMheHAgDBCDwLAE0/ixfRodADwTQeQ9RwAYIPEcgW+MU88/FlpEh8BGB7MXhI+N5GAIQOCSAxg8R0QECwxNA58OHEAcgUCWQrXGK+Wp4+BACeQSyF4c8z5kZAmsQQONrxBkv1yaAzteOP97PTyBb4xTz8+cYHg5KIHtxGBQbZkNgGAJofJhQYSgELhNA55fR8SAEhiCQrXGK+SHSBCNXJJC9OKzIHJ8h8CYBNP4mbeaCQA4BdJ7DnVkh8BaBbI1TzL8VaeaBwEkC2YvDSXPpDgEInCSAxk8CozsEBiSAzgcMGiZD4ASBbI1TzJ8IFl0h8CaB7MXhTV+ZCwIrEkDjK0Ydn1cjgM5Xizj+rkYgW+MU86tlHP4OQyB7cRgGFIZCYFACaHzQwGE2BE4QQOcnYNEVAgMSyNY4xfyASYPJaxDIXhzWoIyXEMgjgMbz2DMzBN4igM7fIs08EMghkK1xivmcuDMrBA4JZC8OhwbSAQIQ+IgAGv8IHw9DYAgC6HyIMGEkBC4TyNY4xfzl0PEgBJ4lkL04POsdo0MAAmicHIDA/ATQ+fwxxsO1CWRrnGJ+7fzD+44JZC8OHaPBNAhMQQCNTxFGnIBAlQA6r+LhQwgMTyBb4xTzw6cQDsxKIHtxmJUrfkGgFwJovJdIYAcEniOAzp9jy8gQ6IFAtsYp5nvIAmyAwAaB7MVhwyTeggAEbiSAxm+EyVAQ6JQAOu80MJgFgZsIZGucYv6mQDIMBO4mkL043O0P40EAAt8JoPHvPHgFgRkJoPMZo4pPEPhBIFvjFPM/YsEdBLoikL04dAUDYyAwIQE0PmFQcQkCBQF0XgDhJQQmI5CtcYr5yRIKd+YhkL04zEMSTyDQJwE03mdcsAoCdxJA53fSZCwI9EcgW+MU8/3lBBZB4A8C2YsDYYAABJ4lgMaf5cvoEOiBADrvIQrYAIHnCGRrnGL+udgyMgQ+IpC9OHxkPA9DAAKHBND4ISI6QGB4Auh8+BDiAASqBLI1TjFfDQ8fQiCPgBYHfmBADpAD5AA5QA6QA+QAOUAO9JsDedXC1xfFfCZ95oYABCAAAQhAAAIQgAAEIAABCFwgQDF/ARqPQAACEIAABCAAAQhAAAIQgAAEMglQzGfSZ24IQAACEIAABCAAAQhAAAIQgMAFAhTzF6DxCAQgAAEIQAACEIAABCAAAQhAIJMAxXwmfeaGAAQgAAEIQAACEIAABCAAAQhcIEAxfwEaj0AAAhCAAAQgAAEIQAACEIAABDIJUMxn0mduCEAAAhCAAAQgAAEIQAACEIDABQIU8xeg8QgEIAABCEAAAhCAAAQgAAEIQCCTAMV8Jn3mhgAEIAABCEAAAhCAAAQgAAEIXCBAMX8BGo9AAAIQgAAEIAABCEAAAhCAAAQyCVDMZ9JnbghAAAIQgAAEIAABCEAAAhCAwAUCFPMXoPEIBCAAAQhAAAIQgAAEIAABCEAgkwDFfCZ95oYABCAAAQhAAAIQgAAEIAABCFwgQDF/ARqPQAACEIAABCAAAQhAAAIQgAAEMglQzGfSZ24IQAACEIAABCAAAQhAAAIQgMAFAhTzF6DxCAQgAAEIQAACEIAABCAAAQhAIJMAxXwmfeaGAAQgAAEIQAACEIAABCAAAQhcIEAxfwEaj0AAAhCAAAQgAAEIQAACEIAABDIJUMxn0mduCEAAAhCAAAQgAAEIQAACEIDABQIU8xeg8QgEIAABCEAAAhCAAAQgAAEIQCCTAMV8Jn3mhgAEIAABCEAAAhCAAAQgAAEIXCBAMX8BGo9AAAIQgAAEIAABCEAAAhCAAAQyCVDMZ9JnbghAAAIQgAAEIAABCEAAAhCAwAUCFPMXoPEIBCAAAQhAAAIQgAAEIAABCEAgkwDFfCZ95oYABCAAAQhAAAIQgAAEIAABCFwgQDF/ARqPQAACEIAABCAAAQhAAAIQgAAEMglQzGfSZ24IQAACEIAABCAAAQhAAAIQgMAFAhTzF6DxCAQgAAEIQAACEIAABCAAAQhAIJMAxXwmfeaGAAQgAAEIQAACEIAABCAAAQhcIEAxfwEaj0AAAhCAAAQgAAEIQAACEIAABDIJUMxn0mduCEAAAhCAAAQgAAEIQAACEIDABQIU8xeg8QgEIAABCEAAAhCAAAQgAAEIQCCTAMV8Jn3mhgAEIAABCEAAAhCAAAQgAAEIXCBAMX8BGo9AAAIQgAAEIAABCEAAAhCAAAQyCVDMZ9JnbghAAAIQgAAEIAABCEAAAhCAwAUCFPMXoPEIBCAAAQhAAAIQgAAEIAABCEAgkwDFfCZ95oYABCAAAQhAAAIQgAAEIAABCFwgQDF/ARqPQAACEIAABCAAAQhAAAIQgAAEMglQzGfSZ24IQAACEIAABCAAAQhAAAIQgMAFAhTzF6DxCAQgAAEIQAACEIAABCAAAQhAIJMAxXwmfeaGAAQgAAEIQAACEIAABCAAAQhcIEAxfwEaj0DgbQK//PLL108//cQPDMgBcoAcIAfIAXKAHCAHyIEOc0Dn9bcbxfzbxJkPAhcIqJCnQQAC8xJA4/PGFs8gEATQeZDgCoE5CWRonAphzlzCq8kIZCwOkyHEHQh0TQCNdx0ejIPALQTQ+S0YGQQC3RLI0DjFfLfpgGEQ+EEgY3H4MTt3EIDA0wTQ+NOEGR8C+QTQeX4MsAACTxLI0DjF/JMRZWwI3EQgY3G4yXSGgQAEGgig8QZIdIHA4ATQ+eABxHwIHBDI0DjF/EFQ+BgCPRDIWBx68BsbILAKATS+SqTxc2UC6Hzl6OP7CgQyNE4xv0Jm4ePwBDIWh+Gh4QAEBiKAxgcKFqZC4CIBdH4RHI9BYBACGRqnmB8kOTBzbQIZi8PaxPEeAu8SQOPv8mY2CGQQQOcZ1JkTAu8RyNA4xfx78WUmCFwmkLE4XDaWByEAgdME0PhpZDwAgeEIoPPhQobBEDhFIEPjFPOnQkRnCOQQyFgccjxlVgisSQCNrxl3vF6LADpfK954ux6BDI1TzK+XZ3g8IIGMxWFATJgMgWEJoPFhQ4fhEGgmgM6bUdERAkMSyNA4xfyQqYLRqxHIWBxWY4y/EMgkgMYz6TM3BN4hgM7f4cwsEMgikKFxivmsaDMvBE4QyFgcTphHVwhA4EMCaPxDgDwOgQEIoPMBgoSJEPiAQIbGKeY/CBiPQuAtAhmLw1u+MQ8EIPD1hcbJAgjMTwCdzx9jPFybQIbGKebXzjm8H4RAxuIwCBrMhMAUBND4FGHECQhUCaDzKh4+hMDwBDI0TjE/fNrgwAoEMhaHFbjiIwR6IYDGe4kEdkDgOQLo/Dm2jAyBHghkaJxivofIYwMEDghkLA4HJvExBCBwIwE0fiNMhoJApwTQeaeBwSwI3EQgQ+MU8zcFj2Eg8CSBjMXhSX8YGwIQ+E4AjX/nwSsIzEgAnc8YVXyCwA8CGRqnmP/BnzsIdEsgY3HoFgaGQWBCAmh8wqDiEgQKAui8AMJLCExGIEPjFPOTJRHuzEkgY3GYkyReQaBPAmi8z7hgFQTuJIDO76TJWBDoj0CGxinm+8sDLILAXwhkLA5/MYI3IACBxwig8cfQMjAEuiGAzrsJBYZA4BECGRqnmH8klAwKgXsJZCwO93rAaBCAQI0AGq/R4TMIzEEAnc8RR7yAwB6BDI1TzO9Fg/ch0BGBjMWhI/cxBQLTE0Dj04cYByHwhc5JAgjMTSBD4xTzc+cU3k1CIGNxmAQdbkBgCAJofIgwYSQEPiKAzj/Cx8MQ6J5AhsYp5rtPCwyEwBff5pMEEJicQMYBYHKkuAeB7gig8+5CgkEQuJVAhsYp5m8NIYNB4BkCGYvDM54wKgQgsEUAjW9R4T0IzEUAnc8VT7yBQEkgQ+MU82UUeA2BDglkLA4dYsAkCExLAI1PG1ocg8CfBND5nyi4gcCUBDI0TjE/ZSrh1GwEMhaH2RjiDwR6JoDGe44OtkHgHgLo/B6OjAKBXglkaJxivtdswC4IGIGMxcGm5xYCEHiYABp/GDDDQ6ADAui8gyBgAgQeJJChcYr5BwPK0BC4i0DG4nCX7YwDAQgcE0Djx4zoAYHRCaDz0SOI/RCoE8jQOMV8PSZ8CoEuCGQsDl04jhEQWIQAGl8k0Li5NAF0vnT4cX4BAhkap5hfILFwcXwCGYvD+NTwAALjEEDj48QKSyFwlQA6v0qO5yAwBoEMjVPMj5EbWLk4gYzFYXHkuA+BVwmg8VdxMxkEUgig8xTsTAqB1whkaJxi/rXwMhEErhPIWByuW8uTEIDAWQJo/Cwx+kNgPALofLyYYTEEzhDI0DjF/JkI0RcCSQQyFockV5kWAksSQONLhh2nFyOAzhcLOO4uRyBD4xTzy6UZDo9IIGNxGJETNkNgVAJofNTIYTcE2gmg83ZW9ITAiAQyNE4xP2KmYPNyBDIWh+Ug4zAEEgmg8UT4TA2Blwig85dAMw0EkghkaJxiPinYTAuBMwQyFocz9tEXAhD4jAAa/4wfT0NgBALofIQoYSMErhPI0DjF/PV48SQEXiOQsTi85hwTQQACX2icJIDA/ATQ+fwxxsO1CWRonGJ+7ZzD+0EIZCwOg6DBTAhMQQCNTxFGnIBAlQA6r+LhQwgMTyBD4xTzw6cNDqxAIGNxWIErPkKgFwJovJdIYAcEniOAzp9jy8gQ6IFAhsYp5nuIPDZA4IBAxuJwYBIfQwACNxJA4zfCZCgIdEoAnXcaGMyCwE0EMjROMX9T8BgGAk8SyFgcnvSHsSEAge8E0Ph3HryCwIwE0PmMUcUnCPwgkKFxivkf/LmDQLcEMhaHbmFgGAQmJIDGJwwqLkGgIIDOCyC8hMBkBDI0TjE/WRLhzpwEMhaHOUniFQT6JIDG+4wLVkHgTgLo/E6ajAWB/ghkaJxivr88wCII/IVAxuLwFyN4AwIQeIwAGn8MLQNDoBsC6LybUGAIBB4hkKFxivlHQsmgELiXQMbicK8HjAYBCNQIoPEaHT6DwBwE0PkcccQLCOwRyNA4xfxeNHgfAh0RyFgcOnIfUyAwPQE0Pn2IcRACX+icJIDA3AQyNE4xP3dO4d0kBDIWh0nQ4QYEhiCAxocIE0ZC4CMC6PwjfDwMge4JZGicYr77tMBACHzxbT5JAIHJCWQcACZHinsQ6I4AOu8uJBgEgVsJZGicYv7WEDIYBJ4hkLE4POMJo0IAAlsE0PgWFd6DwFwE0Plc8cQbCJQEMjROMV9GgdcQ6JBAxuLQIQZMgsC0BND4tKHFMQj8SQCd/4mCGwhMSSBD4xTzU6YSTs1GIGNxmI0h/kCgZwJovOfoYBsE7iGAzu/hyCgQ6JVAP6IMlQAAIABJREFUhsYp5nvNBuyCgBHIWBxsem4hAIGHCaDxhwEzPAQ6IIDOOwgCJkDgQQIZGqeYfzCgDA2BuwhkLA532c44EIDAMQE0fsyIHhAYnQA6Hz2C2A+BOoEMjVPM12PCpxDogkDG4tCF4xgBgUUIoPFFAo2bSxNA50uHH+cXIJChcYr5BRILF8cnkLE4jE8NDyAwDgE0Pk6ssBQCVwmg86vkeA4CYxDI0DjF/Bi5gZWLE8hYHBZHjvsQeJUAGn8VN5NBIIUAOk/BzqQQeI1AhsYp5l8LLxNB4DqBjMXhurU8CQEInCWAxs8Soz8ExiOAzseLGRZD4AyBDI1TzJ+JEH0hkEQgY3FIcpVpIbAkATR+T9j//e9/f/32229//PzrX/+6Z9CTo/z+++9f//jHP77++c9/fv3nP/85+TTdZyaAzmeOLr5B4OsrQ+MU82QeBAYgkLE4DIBlGBNVYPzvf/9LtbcHG1IBdD45Gr8nQCrkxVI/uq+1//73v48U2zG/rirqR2lP8RjF/zfsVE7QxiSgL+a0j0onWa0HG7J8H2XeDI2zqoySHV9ff3zLH9/2D2Q2pt5AIGNxuMHspiH0W6xff/31z9+m6QB+9fXf/va39KLZndamr9jFz9///nf/+JX7Hmx4xdHBJ+lR49JTaFGH2E+afksdvzHX/VOttZiXX6HLn3/++VZzYlxdn/T1TqOf5HGnnaOP1aPO72Kq/S3Wi9D61de9fQmmv/JxXWf81U8PNtyVKzOPk6FxivmBMuqXX375czF54pvB+MZvICTLmJqxOLwF1zfIO+4zNtk9Vvqiwn3SAeft1oMNb/s84nw9atxz95OCV3+V4mPpS4KnWmsx7/bo/s491cfurSjZ4+42381jb84V3xfbGVup8TKfrry+U5OfMpeO3YeML+Z7sOFTjis8n6HxW1cVFYPa8D3h/V7f0GkT1+GSdp6As71jkdPiq8XBvySIeGkuLVbZfxp8ntKcT2QsDm+RjJy769pTMV9+k55xAOjBhrdyaeR5etS4F8ayT3v8lVZ+ofTpb/lrNrjNtS/Pyn2vNubZz3wtyyjmpXnNe+bf7D/J4yy/mfv3qPM7eOtM6nl/x31P58+ykM6oY3qw4Y5cmX2MDI3fWsxr4zgj4J4O3SMkl2+2nxbz5QF/L24q6olTfnZkLA5vea380tqhnziA+r3/+ac4bPXx996yu3We+NNDfZF5tRhqnWuvn2xQYZNpw55tvP9/BHrUeLlPSGdXmmtYe8qTzYt5zbvX5Jv66ufug7nvp1rL3m5+Vmj9K4gnebztf8/z9ajzu3hJR7EXx9X3cv+FlHJ0q4+/d5ddd4yjM3fs5bpmfNHQgw13sJx9jAyN31rMS4SxiUm0sVHG1YUc/e7eRGdOEuf3STGvRSj46xqx0qKrRcoPAvH5zFxH8E1xWLXpMOr5uioH/J6bQK8ad+1przjbyv1Ge8yTzb840NkjozkznYvebn5WeJr3276NPl+vOn+Dq+dlljbf8JM51iaQofFbKwQv5vc2EBXvLmg5/UlhulLKeJH9CbM4XCkO+jZ+qylOfiDZi+fWs7x3P4GMxeF+L66NqNzzXLw2Ck9BoG8CvWq8/DLt7F+XlHvJ2efPRk1FQqwXWQVDzK9rRjHvZ4XW38yf5Uz/awR61fk1b8495XmZpc1zFtMbAucJZGj8sWK+toGoEPXNLuPP0M6HJ/8JXwg/KeblSctfRPghrvbnivlk5rcgY3Hoharn4coceokHdjxDoNfc1r9v9/367Be7/pty7WFPt96K+YzzjZ8Vamexp2PB+H8l0KvO/2rp/e94XlLM38+XEfsgkKHxW4t5bVqx6R9t+P7b+aO+fYQn3wpfCD8t5lu8Kf+9ZMsz9HmGQMbi8Iwn50e98pt5rUX6jVh5kFZOq7jQQUI/e3+ZIn3pCy/NHf111Zj6OfPbxbBFz9X+nV30K23WM3pP9soG2STbnrJBcz1hg0de3MXD+epe8wZjv39jvXP7Mu571rjv17pvbfFXYHEuUGz3mr400OeuNxWieq/ly+cYVzqJ+XS/16SfyLUz/0E+9VVuyrZYE8rnY35daz67bZ/6L0ahGY+Xzg3xfvi7xfMqD8U4mEjDYq4fzSWdn9FuMNCz5XMaK8aO8UvuzrPXe+XEqs3PsNLOUVNuRc76Xh3vKw80jrS4lwuxl4de45kYV2O1tJgzntt7xvu5zeovW0Ijslv30mKZ6y1jy469FjZI90c2aJwzNpRz6lmNIb7O1tecuNe1lXc5z0ivMzR+66qigMYmpsDWmj6PvkroWosFXskfm5QWBSVOa3K4kGtz6bOjvrI3hBhjaSPU+26fxmk9cIf45FNw0RzyL1qMrc9bxR/PXrlqjrBFc9PyCCgOqzZfK1o4eN5Gf+lLeop89qtz1bPlfN7X76X3o42ptGXrEK35y35hk/Tvc5b3vj7EM+W1HDvDhrBJ66Ef6Ep/9l4rJrM3+d5rU657bPYOzqX9yjV/TrlYNp0bfG/z/n4v/bbsp65z7ad7zfvp/qhJ67XclQ/Bxe2Wf7V2h/+yzedsuS/XrrM85FMZ3715jxgEH7ch1qmjNUPPlL7EeD1exWjV5vqpaTP4SE+RU3pWTWvI1npRaljPej7FOFvXln3UbdEYW2uZ7PN+YbPy8+hcoeeOmo+dZUPYqC8JtlgevdfCOuYY9SoGb7dbZ9SCHYHU5l9rXrTWFnofM8beuh4JwZ+p2aXPfMHZEmx8HgXukUjLb8bK+TVHbdHRfOoT88qXLbvKcT997QuH5qblEVDMV21lIXHEQdoo9e7a8c+cqw6N5WdHr490UdqytxaU/eSjr5E1O47W2nLsDBvkj68nNX+2PqOYP8r6Zz8vtXGUc2GN72tbWvHPt+K+9d5RQe+6qRUMrf3ki+bcKiC27Cu/gKsdXu/y/0oxr3XB2xkeLcVJyUbxPzqnuQ1ap1q/LFBsRinoxWXV5vtwTZvBx/cMxVg5u6dDH681bzxHj9Y0t0XPlfrZs1l5uWezz6/7+AIrxiqvb9iwdz5wW1rrstK/Fh99nlHv5efb7dYZPcC1w1d5uNxa4CWAcqPTawlOm2P52VGSeFIdQXbhbQk2PtfVNx+9ln16L/rEvHsbzdbiJN9KHzWej7ll15FfZz9vjefZcel/nkDG4nDeymeeKL8sO5qlXF/8eWlIea0f6Uw/0fwAEP20NoXWdFUf16HisrV+xZilLXubddnP1zfNp/VABYU2Wvcn1pewMeb1azl2hg1a/8JWXbcO9vLR+2gtFVv97K2f7ufo9/K95+Z5r/ujVsZc8S2bx1v7pvI7inU9r9j7Hqv+rtlyPL32/rrfa66xWj89776HDa5Jn9N90r3Wmr3mfTXGJ/7LHv1oPrdXfsb7cd1aA87w8KJMPui15lXstN4obnpd9jvKG+fo95rD1wP54ezi8z3OPb0vW1dtng+K71FTHkWclTueExor8ln3XnP4Hhn9NFY03W/lUKw90c+vbots2ttzvZ9sdp+lMWlP8+jq/mjMI3342J/aoLGu2CDbIya6yqeShbTqfcRaz2lO9nLPqvvub11VXBwK5lZT0H3TUKJvNR9LCb73bZGPpX57ieKJtTWfv+fiK5NU/fzzGLfcHPWc99vjoQ0vxtC1tL8cJ/pu2eU+3HHv9u/xv2MexjgmoLiv2nxjbuEgbYRO/Kq1otSXM9VGo5w/ynWNUY7r4/h9aUu5TkTfsl+M7weU6Kurr4/qu7e+qG85doYNR+tc+Cbbwvfaeh79Z7rK755bGcMjnXgs5ZvysGzSm3K3pks9U64BtUO3H5BrBYP309qw10qt7WlSNilnI3/jKm577Qn/NZfv3Xv2lja18igLitq6qrj6uGIinnut7Kv+YroVb41d8t4bt6f35dOqzfOyprngU+ZaaKq23+lZ5Zhy6WiNUl7FmLrWxi1t2VrPNHfZL8bfy/tybdvrtzV2hg2u0VoMxTJ8V9xXavL77XbrjL7ZK3hKSr0XPwp8BFfX2ibgi/TWQu6gfNw9Ifi8/uzWvS84W2Lxz2XnVh+Nq4Uk5lW/sum5+FzXPT+1afmc6rs3ZznH1ddHtl8dl+euEVDMV22+KbRwKHWlZ6SfO5vbtKXtmKu0Ze9wUfaTzbWDhcb3NbJ3G/wAcMavvS8egu9M15bczvS3zNGjOPq+rPh/0spD956ONEfrvJ6TNftcZxq71sTI+yume2eS2jjlZ2f817Nuw1GcYq5WHn4WaV1X/ZnaWuWxi3W79kWP2Kpf/KiQ6r3J1lWb50FNc8FnqzBu/XIqxji6tuZ9aYu0vtXKfop3bR9Tfkf+6lrjUo59xobamlnaUFvnfG2pjVnuF3u2bjEc/b0Mjd+6qngx78lZ3isZ1HdvkfYFumWz8N8A7G0UbsNRoviCs5WA/nktmTVPbd4zfoqVi2jLriO/znzucx35eGZc+l4joDxatZXfXB9xKDcRsbtbL9KEa3tvLStt2dvUy34tB5Zyvd3jUo6dYcOZ9cQP9K2FyJ7vI70/gsY9NrJ3L+/1vutjL+fOxMfHqxXIrYfzln7l4bk2b/hS6k06vaO1+q+5/IzSspbomSs8WuOqfm7/3nNug/qLZa2VrFviUxvvjc/k16rN81KxPmql/rSP7K05R2Ptfe77qMbfa6Ute7lZ9mvJST/jiNFeK8d+yoa9Yr7U2978Yb/v+3uaj74zXTM0fuuq4qLwhbu8V+LWBKkDXDzTkgDlwWErKWI8XY+aJ+BWsvrnNT80j/ctx3I/WwRfG+vIpzOf+8LSsuCeGZu+1wi05O21kft/ynXSwqHccFq0dZZC66Za2rL3xVjZr2XdUx9f1/bWonLsDBt87RK7WvOC8a5CqDZfL5+15Ha2rdKS59xeLMt+e7l5xh/PoVpeeEFY279a+pV+SEstzRnVbG0ZK/q0+q/+XjS1fiHWwuPsWhy2l2e0PSYtNsSYcXXWT6z1Mc9d1xF0fpev5TielzVtxnPlPru33kT/K1floufQ3hilLXtrQWs/n8d1JZ3vtdaxW/v5PC02lH8hdLSuO1fZtErL0PhxZXuCvm98voEoAXTw9M1Iot5LBD/MtSaAJ82WyPzzI5d8wdka6+hzH7/W14vmvQN261je75N7X9gUr70YfTIHz54nkLE4nLfymSdcJy0cpFnXe0thfNby1s2y1ZayX8t6MJINvqbvHeQjBr5PtHCI50a/tuR2to9lUbZ3IL9SlB355ntpLYda5/Z+e7+J8v3wTHx8/bmrwGz1Xxy9r9bPltbCw9dizXGmtdjUYkM5p68Xrb6WY7z5+kwevWnXG3N5Duxpzu1o3eP8mbP3XrfUYtNqS2s/t7N1nWkdu7XfFRt8bavtz+VeoTpwlVbLo6cY3FrMe0JuLao6sPrC6wW/O+h99ExL80VCiVw2T8Dys/L10fw+15F9tb7+2ZbNpV3e/2je8tmW1/6bPjF4Yo4WO+jzVwIZi8Nfrch5x78xbuGgvHW9XynmtRHpOR04/IDp4/r9nlZabWnt5xFo3bBbx27td8UG3xu0tux9SVgerGTTKq0lt3tg4V/MbNlcHuJqBz73R/ksrenH92DXWdzXCmS3T2PtNdf1Xj/vo/23tYWduir3W9pd/msu57d3ziptcl/3ePgZZK9POW689rjofqt5n9bx3aZWX7fmfus95cSqzWPVEt/WPa7GU3uINKjc8vxyjfr93littrT283l8f6zlR+vYrf2u2OAMdb/XFN/gqvVopVaL4VMcbl1VPCG3ink50ZJkvhG1fpvji8TWM5FULZB9rK3D5NHnHqxaX/+s5cDj/bfs8nnP3pdx0WtaPwRa8rYfa++1xH8b1MJB2nC9ny3myy8PfKy9+z09lrbs6bzs12JzqdmebSgLPK1lvk7Ldt8/xLnlsHdvpuWOJp9HaMph10GZ08pd//zIJz3ve74/u3evXNlrfois5VBLP99za2OVtrjdNVv13N3+a0y3e+8sVtrcwsP9Ols4+/h7h3vv08rbc6fV19L3N1+L4arN87Ilvq173BZP7SmeT567tfutsfReqy2t/Xye8kts/8zvW8du7edjX7VBjP3Lee3rJffal69uwyz3GRq/dVXxw1htoXdBb/Xzz5WULc3FudXfP/fE2+rr828dkH3z2Prcx6z19YQvD0Q+RtzXxoo+V66a2/m0FBJX5uGZ6wQyFofr1t77ZFlcH40uTXo+t2hLY2pdcE3GGHpPm5HWt7iWNu2tA6Ute9oq+7XY3Lphl2Nn2CC+vq4G272r1rqjdfooD0b7XCxGaIqLx60soPw3N+VnpX9l4a9x9by05norD5q1w6FrWPd7ze3c6+d9dN/anE/N1qv+i02tuda2zlhbz7qvezz8DLLXZ2tsvefj77HUmMGudfwrvu7Z+Mb78m/V5rFqiW/rHlfy1J7nuSrmeq31qFxXPC9rsWm1pbWf2yybIu97t6E8T7jdW/ctcXYWM9zXYviUf7euKr7h1jbxcgMrndOzkRRHm5ae9cOFBLvVfBHx3wgd9VXils3H2vrc+9f6ekHQ4mdtLJ/zzL1YBGtdawePM+PS914CGYvDvR5cH83XgxYO5WazV7yWFrkeNU9Nk60bdqstrf3c5pFs8MOKr2PiXP4o3qsV8oprS257/DPvS01GvHwvlj/K0b1W5q8O1bX91POmps3WgrCln/u5d7bY8s9zes/WT/w/2qedlXxoac5jr9j2wmevz95cbtPeFwwtNpTj+7itvpZjvPl6JJ3fzcVj1ZI/pUZq64Pb6vOId+3Lca9barFptaW1n9vr+2PvNrhGS86y3X/21j73fcb7Wgyf8vfWYt4Tcm+xDkc84OVh28XVIng/hO8t5p6ANWG3CNET+GhxqfV1P9Wv1lrsqj2/9VlZyK8qvC02vb2XsTj0wsD13cLhSmEsX31NOlq/WvVY2rK39rT285iMYoMXeFEQyV+tN1qvtTbrXuuh3l+1teR2L2yUx66X2MOPvqh3+13XkRf+eXnve6lyZa95wanc2mt+Jtjr5zaeiY+z2dtXfeyz/u+NGb5qvLDhaC2LZ1p4SK8xbovNMbau8Zyue/FrscHH1P0VX8sx3nwt/1dtruE9zTmb1j3Onzm7l0pLnps+lt+32tLaz8cexQavGaI203uyX2uD3pO2tQ/EF7zu5yr3GRq/dVXxhNwrqiOYvpGVhawf/gRl7wCssdTXF3Ml1lbz+SIJy37lIqC5tw6XviBtfe7j1vqWfmoR2GouoFh0jubdGsffK8dU7Gj9EshYHHqh4QfIFg6ljqPQqPlT6qG25mic1g271ZbWfu7DKDa4nS0HOPdxpfuW3O6Jh++7EVcvpI+KSO8bz9f88720tl9prNgna+N6v70zgQ6mMZauR+uC7C/Xkr3C9Sn/ZYOPfXQWC+bOY4/bFR4av3xu76zTYkPYG1fPi1Zf49mM62g6v5ORx2ovx3w+3zvEreXcW36heFRUlrnp8/t9qy2t/XzsUWxwO3VP2yaQofHHivmjjbzc8EqRevEtMFuJI9H4gaK2wZfzeV/N7Umq+eKntEuh8zm3PvfwHvX1zUtzyk5vsjNs8evRvD5Gea9nfSxt/GJ59PPJnKUNvD5HQPFatZVrwRGHMr9bDuDq45qQFmqtXC/2tNFqS9mv5QsI2eg292pDyfbocFXjPvNno2m8/JKtzOFyLytj5wf7oyKsHHvrPBDj+55aKxha+pXzttjpe75i6meNsFHXs/77uDX/NXaLb25L6zPlOWrvS5BybPdV93vNv4Soxc6f97GPzp3+XNb9aDq/k5PHqiW+rXuc21juzUf7TbmO+Vh+32pLaz8fuzzn+2d+3zp2az8fu8UGP4tpPaJtE8jQ+K0VgovoaNMTAl+4y/4SoAtfcPSjZ/w5f/9ItHvPxRi6aoFxcW8dkN2urc89vEd99bxv0rJBr2Wrvy+bjuzyeWv3Hif3veX+iHFtXj67TkCxWbV53rdwKA/gLYWx8trzf+8Arhhs6WdvHWi1pezX8gVE64Zdjr3Ho+x3lw3luOKsdVaM9SOecS+fjorAWXXQkts9+b5V2IWGWg56pa739hblj++FmqOmT+VW2FErGK7007jK160mHqWdNVuf8l+2+aFbNuyxdT+ch84fe620W6/3muYt+0vje63VBn/ez1g1W/yZzHvFY9XmsarlWPBp3eOiv67ll8d7+536lrlZi02rLa393GatZ5o7fvwzv28du7Wfj91iQzmu7JVm9azv47pXX63dK7ZaHj3F49ZVxZOhZVGVyCJ59zZ/HzP6lte9zXUL2lZBH+NpLjXfCLeS0Rekrc993pa+GsP7hT1xjcXoyC6ft3bfwjTmLq8th4La3Hx2jYDisGrzvG/hID153rYUpWJbHsTLdUWH9a3NX3PtrQOlLaHlMpat/fy5cmPt2Qax9Ji03CvuK603YjJaKzUTcY29tOZPmRM6FHoO677s0zK+7/Eac6+19it1Jhvkn95X07pQrlG+n5frSNhT+naX/xq/3OM1tuxUk91b8WnlIU1GHOKq8bXORvw0l9Y656C+el1rGsfHrPWNzzwHFYfem/xbtXk+KNZHrdRe5FftuTI/lR+h1XhOuer5HjlXi02rLa39whZdS736Z37fOnZrPx+71Ya9M5AzLO+11rGXO+37729dVSQ0JYQCp2Rqaeobz+wFOzZ19dMCED963SLu0g4J2cfSBuDjyPawqXxWr+N52X7U1Dd8rPWV79r85JsWGdmkZ90ubZA1u2rj+2eaK2w6c23x1+fh/j4CtU3mvln6HKncPI6slGZ8M9kroMtxpC9/Lu6lybiPq2zyQ6Tr1MctbZGmt1rZr8Xm1g27HDvDBvm8xTF41q5RhGxxm+k9MRitaT/ail1rzLYO1Drw+6Ff40trvg7U9iLPM93vtdZ+en7Pzy3fpV0v7vXsXrvqf21MzaU9fss2f69cs87w0Bri65+Pu3ev8ffOeMHnjA3xjOeKcqT3Jj6rNo+VYn3UWve4chxpcCsPt/RWarscK1632tLaL8bVVeuZ2+uf+X3r2K39fOxWG/SMx9Htrt1rvTjSv9sz8r04vN3en/FtD5kPAhMQyFgcesHmB+MWDmXx2lIYh697hwDfpGI839DKg3GM12pL2W+v4I5xdW3dsMuxw34fS/dlvztt8EJMm7psL39kV/klibivcghoye0yZtmvt74Aky5am3Ju64DteosCzQ/dtWK2tSBs7Re+lIddtzHyVDmt5vles/Wq/7UvM8Je6alWcJcH67M8WmwPRntrTtga17M26Dn3UXtF701MVm2+ZyrWR611j9sax9eLyEO/xj6kZ/39rbH0Xqstrf18ntJW/8zvW8du7edjt9rgMdTarT1A8/mP1ifXcvBtibnbNOq9/H27vT/j2x4yHwQmIJCxOPSCTZuEDsfaOFoOsbJbG5M2Dj2nQ+fZFpuR5tSmr0OiDqR+AI4+UWzszdFqS2u/mEe2yC75eXSIbR27td8ZG8QtNnNdW35rKzv8GeXA7G1UjSu+ykFpRXnYEt8ylqFxjSO96aoc8LGkY72vH3+/NlbtCymfs9bPx9e8oTnFSz7LnrJYVT+tC0e2xthuy6f+x5i6ao0ITWvcGHtLT25DKw/Nob7hq5jEHJpXn/ma6bZt3V+xQXNEXmz5tTVP5nuj6vwOZh4r3R+1M3vc1lhaMyL/VYTGGlXmZfSp7aOttrT2c3tlZ2hItuy11rFb+/k8LTaIj/JXP+KpeY6atBnPrJL7GX5SzB9lIp9DoAMCGYtDB25jwgQEdLiPzbz1yxi5Hc/oeua5UZGh8VEjh90QaCeAzttZ0bMfAircfU9u/eJMX2z6c7UvYvvx9jNLMjROMf9ZzHgaAq8QyFgcXnGMSaYmcPUAUD7X8luc0UGi8dEjiP0QOCaAzo8Z0aM/Airelbvxo9/kt7Srz7WM3WufDI1TzPeaDdgFASOQsTjY9NxC4BIBbfix+eva+ht29fPnWg8Ol4zs5CE03kkgMAMCDxJA5w/CZejHCOgLdd+TW38zr38+4M89ZmBHA2donGK+owTAFAjsEchYHPZs4X0InCHg/8Ec/cn90SGg/Df2+neOKzQ0vkKU8XF1Auh89QwY0//yr+W0r9e+ZFd//zf2yvvafw9gTCrbVmdonGJ+Oxa8C4GuCGQsDl0BwJhhCZTFuXJZRb02dv/RfyjH/329+rX+R3aGhWOGo3GDwS0EJiWAzicN7AJulcV57NG+j+teX8CXe7n291VahsYp5lfJLvwcmkDG4jA0MIzvikD5J3rK56Mfbf61b/67cvAGY9D4DRAZAgKdE0DnnQcI86oEtgr6o71cz+g39au0DI1TzK+SXfg5NIGMxWFoYBjfHQFt5vG/Mdvb/FXA69/YrVTER6DQeJDgCoF5CaDzeWO7imfan+M38Ft7uX4rr71cfVYq4iP+GRqnmA/6XCHQMYGMxaFjHJg2CQFt9Cv8r2pawoXGWyjRBwJjE0DnY8cP67cJqMBf8Uv4LRoZGqeY34oE70GgMwIZi0NnCDAHAlMTQONThxfnIPAHAXROIkBgbgIZGqeYnzun8G4SAhmLwyTocAMCQxBA40OECSMh8BEBdP4RPh6GQPcEMjROMd99WmAgBL7++I+FwQECEJiXQMYBYF6aeAaBPgmg8z7jglUQuItAhsYp5u+KHuNA4EECGYvDg+4wNAQgUBBA4wUQXkJgQgLofMKg4hIEjECGxinmLQDcQqBXAhmLQ68ssAsCMxJA4zNGFZ8g8J0AOv/Og1cQmI1AhsYp5mfLIvyZkkDG4jAlSJyCQKcE0HingcEsCNxIAJ3fCJOhINAhgQyNU8x3mAiYBIGSQMbiUNrAawhA4DkCaPw5towMgV4IoPNeIoEdEHiGQIbGKeafiSWjQuBWAhmLw60OMBgEIFAlgMarePgQAlNd02mkAAAgAElEQVQQQOdThBEnILBLIEPjFPO74eADCPRDIGNx6Md7LIHA/ATQ+PwxxkMIoHNyAAJzE8jQOMX83DmFd5MQyFgcJkGHGxAYggAaHyJMGAmBjwig84/w8TAEuieQoXGK+e7TAgMhwP9nnhyAwOwEMg4AszPFPwj0RgCd9xYR7IHAvQQyNE4xf28MGQ0CjxDIWBwecYRBIQCBTQJofBMLb0JgKgLofKpw4gwE/kIgQ+MU838JA29AoD8CGYtDfxSwCALzEkDj88YWzyAQBNB5kOAKgTkJZGicYn7OXMKryQhkLA6TIcQdCHRNAI13HR6Mg8AtBND5LRgZBALdEsjQOMV8t+mAYRD4QSBjcfgxO3cQgMDTBND404QZHwL5BNB5fgywAAJPEsjQOMX8kxFlbAjcRCBjcbjJdIaBAAQaCKDxBkh0gcDgBND54AHEfAgcEMjQOMX8QVD4GAI9EMhYHHrwGxsgsAoBNL5KpPFzZQLofOXo4/sKBDI0TjG/Qmbh4/AEMhaH4aHhAAQGIoDGBwoWpkLgIgF0fhEcj0FgEAIZGqeYHyQ5MHNtAhmLw9rE8R4C7xJA4+/yZjYIZBBA5xnUmRMC7xHI0DjF/HvxZSYIXCaQsThcNpYHIQCB0wTQ+GlkPACB4Qig8+FChsEQOEUgQ+MU86dCRGcI5BDIWBxyPGVWCKxJAI2vGXe8XosAOl8r3ni7HoEMjVPMr5dneDwggYzFYUBMmAyBYQmg8WFDh+EQaCaAzptR0RECQxLI0DjF/JCpgtGrEchYHFZjjL8QyCSAxjPpMzcE3iGAzt/hzCwQyCKQoXGK+axoMy8EThDIWBxOmEdXCEDgQwJo/EOAPA6BAQig8wGChIkQ+IBAhsYp5j8IGI9C4C0CGYvDW74xDwQg8PWFxskCCMxPAJ3PH2M8XJtAhsYp5tfOObwfhEDG4jAIGsyEwBQE0PgUYcQJCFQJoPMqHj6EwPAEMjROMT982uDACgQyFocVuOIjBHohgMZ7iQR2QOA5Auj8ObaMDIEeCGRonGK+h8hjAwQOCGQsDgcm8TEEIHAjATR+I0yGgkCnBNB5p4HBLAjcRCBD4xTzNwWPYSDwJIGMxeFJfxgbAhD4TgCNf+fBKwjMSACdzxhVfILADwIZGqeY/8GfOwh0SyBjcegWBoZBYEICaHzCoOISBAoC6LwAwksITEYgQ+MU85MlEe7MSSBjcZiTJF5BoE8CaLzPuGAVBO4kgM7vpMlYEOiPQIbGKeb7ywMsgsBfCGQsDn8xgjcgAIHHCKDxx9AyMAS6IYDOuwkFhkDgEQIZGqeYfySUDAqBewlkLA73esBoEIBAjQAar9HhMwjMQQCdzxFHvIDAHoEMjVPM70WD9yHQEYGMxaEj9zEFAtMTQOPThxgHIfCFzkkCCMxNIEPjFPNz5xTeTUIgY3GYBB1uQGAIAmh8iDBhJAQ+IoDOP8LHwxDonkCGxinmu08LDITAF9/mkwQQmJxAxgFgcqS4B4HuCKDz7kKCQRC4lUCGxinmbw0hg0HgGQIZi8MznjAqBCCwRQCNb1HhPQjMRQCdzxVPvIFASSBD4xTzZRR4DYEOCWQsDh1iwCQITEsAjU8bWhyDwJ8E0PmfKLiBwJQEMjROMT9lKuHUbAQyFofZGOIPBHomgMZ7jg62QeAeAuj8Ho6MAoFeCWRonGK+12zALggYgYzFwabnFgIQeJgAGn8YMMNDoAMC6LyDIGACBB4kkKFxivkHA8rQELiLQMbicJftjAMBCBwTQOPHjOgBgdEJoPPRI4j9EKgTyNA4xXw9JnwKgS4IZCwOXTiOERBYhAAaXyTQuLk0AXS+dPhxfgECGRqnmF8gsXBxfAIZi8P41PAAAuMQQOPjxApLIXCVADq/So7nIDAGgQyNU8yPkRtYuTiBjMVhceS4D4FXCaDxV3EzGQRSCKDzFOxMCoHXCGRonGL+tfAyEQSuE8hYHK5by5MQgMBZAmj8LDH6Q2A8Auh8vJhhMQTOEMjQOMX8mQjRFwJJBDIWhyRXmRYCSxJA40uGHacXI4DOFws47i5HIEPjFPPLpRkOj0ggY3EYkRM2Q2BUAmh81MhhNwTaCaDzdlb0hMCIBDI0TjE/YqZg83IEMhaH5SDjMAQSCaDxRPhMDYGXCKDzl0AzDQSSCGRonGI+KdhMC4EzBDIWhzP20RcCEPiMABr/jB9PQ2AEAuh8hChhIwSuE8jQOMX89XjxJAReI5CxOLzmHBNBAAJfaJwkgMD8BND5/DHGw7UJZGicYn7tnMP7QQhkLA6DoMFMCExBAI1PEUacgECVADqv4uFDCAxPIEPjFPPDpw0OrEBAiwM/MCAHyAFygBwgB8gBcoAcIAf6zYG36xKK+beJMx8EIAABCEAAAhCAAAQgAAEIQOBDAhTzHwLkcQhAAAIQgAAEIAABCEAAAhCAwNsEKObfJs58EIAABCAAAQhAAAIQgAAEIACBDwlQzH8IkMchAAEIQAACEIAABCAAAQhAAAJvE6CYf5s480EAAhCAAAQgAAEIQAACEIAABD4kQDH/IUAehwAEIAABCEAAAhCAAAQgAAEIvE2AYv5t4swHAQhAAAIQgAAEIAABCEAAAhD4kADF/IcAeRwCEIAABCAAAQhAAAIQgAAEIPA2AYr5t4kzHwQgAAEIQAACEIAABCAAAQhA4EMCFPMfAuRxCEAAAhCAAAQgAAEIQAACEIDA2wQo5t8mznwQgAAEIAABCEAAAhCAAAQgAIEPCVDMfwiQxyEAAQhAAAIQgAAEIAABCEAAAm8ToJh/mzjzQQACEIAABCAAAQhAAAIQgAAEPiRAMf8hQB6HAAQgAAEIQAACEIAABCAAAQi8TYBi/m3izAcBCEAAAhCAAAQgAAEIQAACEPiQAMX8hwB5HAIQgAAEIAABCEAAAhCAAAQg8DYBivm3iTMfBCAAAQhAAAIQgAAEIAABCEDgQwIU8x8C5HEIQAACEIAABCAAAQhAAAIQgMDbBCjm3ybOfBCAAAQgAAEIQAACEIAABCAAgQ8JUMx/CJDHIQABCEAAAhCAAAQgAAEIQAACbxOgmH+bOPNBAAIQgAAEIAABCEAAAhCAAAQ+JEAx/yFAHocABCAAAQhAAAIQgAAEIAABCLxNgGL+beLMBwEIQAACEIAABCAAAQhAAAIQ+JAAxfyHAHkcAhCAAAQgAAEIQAACEIAABCDwNgGK+beJMx8EIAABCEAAAhCAAAQgAAEIQOBDAhTzHwLkcQhAAAIQgAAEIAABCEAAAhCAwNsEKObfJs58EIAABCAAAQhAAAIQgAAEIACBDwlQzH8IkMchAAEIQAACEIAABCAAAQhAAAJvE6CYf5s480EAAhCAAAQgAAEIQAACEIAABD4kQDH/IUAehwAEIAABCEAAAhCAAAQgAAEIvE2AYv5t4swHAQhAAAIQgAAEIAABCEAAAhD4kADF/IcAeRwCEIAABCAAAQhAAAIQgAAEIPA2AYr5t4kzHwQgAAEIQAACEIAABCAAAQhA4EMCFPMfAuRxCEAAAhCAAAQgAAEIQAACEIDA2wQo5t8mznwQgAAEIAABCEAAAhCAAAQgAIEPCVDMfwiQxyEAAQhAAAIQgAAEIAABCEAAAm8ToJh/mzjzQQACEIAABCAAAQhAAAIQgAAEPiRAMf8hQB6HAAQgAAEIQAACEIAABCAAAQi8TYBi/m3izAcBCEAAAhCAAAQgAAEIQAACEPiQAMX8hwB5HAIQgAAEIAABCEAAAhCAAAQg8DYBivm3iTMfBCAAAQhAAAIQgAAEIAABCEDgQwIU8x8C5HEIvEHgl19++frpp5/4gQE5QA6QA+QAOUAOkAPkADnQYQ7ovP52o5h/mzjzQeACARXyNAhAYF4CaHze2OIZBIIAOg8SXCEwJ4EMjVMhzJlLeDUZgYzFYTKEuAOBrgmg8a7Dg3EQuIUAOr8FI4NAoFsCGRqnmO82HTAMAj8IZCwOP2bnDgIQeJoAGn+aMONDIJ8AOs+PARZA4EkCGRqnmH8yoowNgZsIZCwON5nOMBCAQAMBNN4AiS4QGJwAOh88gJgPgQMCGRqnmD8ICh9DoAcCGYtDD35jAwRWIYDGV4k0fq5MAJ2vHH18X4FAhsYp5lfILHwcnkDG4jA8NByAwEAE0PhAwcJUCFwkgM4vguMxCAxCIEPjFPODJAdmrk0gY3FYmzjeQ+BdAmj8Xd7MBoEMAug8gzpzQuA9Ahkap5h/L77MBIHLBDIWh8vG8iAEIHCaABo/jYwHIDAcAXQ+XMgwGAKnCGRonGL+VIjoDIEcAhmLQ46nzAqBNQmg8TXjjtdrEUDna8Ubb9cjkKFxivn18gyPBySQsTgMiAmTITAsATQ+bOgwHALNBNB5Myo6QmBIAhkap5gfMlUwejUCGYvDaozxFwKZBNB4Jn3mhsA7BND5O5yZBQJZBDI0TjGfFW3mhcAJAhmLwwnz6AoBCHxIAI1/CJDHITAAAXQ+QJAwEQIfEMjQOMX8BwHjUQi8RSBjcXjLN+aBAAS+vtA4WQCB+Qmg8/ljjIdrE8jQOMX82jmH94MQyFgcBkGDmRCYggAanyKMOAGBKgF0XsXDhxAYnkCGxinmh08bHFiBQMbisAJXfIRALwTQeC+RwA4IPEcAnT/HlpEh0AOBDI1TzPcQeWyAwAGBjMXhwCQ+hgAEbiSAxm+EyVAQ6JQAOu80MJgFgZsIZGicYv6m4DEMBJ4kkLE4POkPY0MAAt8JoPHvPHgFgRkJoPMZo4pPEPhBIEPjFPM/+HMHgW4JZCwO3cLAMAhMSACNTxhUXIJAQQCdF0B4CYHJCGRonGJ+siTCnTkJZCwOc5LEKwj0SQCN9xkXrILAnQTQ+Z00GQsC/RHI0DjFfH95gEUQ+AuBjMXhL0bwBgQg8BgBNP4YWgaGQDcE0Hk3ocAQCDxCIEPjFPOPhJJBIXAvgYzF4V4PGA0CEKgRQOM1OnwGgTkIoPM54ogXENgjkKFxivm9aPA+BDoikLE4dOQ+pkBgegJofPoQ4yAEvtA5SQCBuQlkaJxifu6cwrtJCGQsDpOgww0IDEEAjQ8RJoyEwEcE0PlH+HgYAt0TyNA4xXz3aYGBEPji23ySAAKTE8g4AEyOFPcg0B0BdN5dSDAIArcSyNA4xfytIWQwCDxDIGNxeMYTRoUABLYIoPEtKrwHgbkIoPO54ok3ECgJZGicYr6MAq8h0CGBjMWhQwyYBIFpCaDxaUOLYxD4kwA6/xMFNxCYkkCGxinmp0wlnJqNQMbiMBtD/IFAzwTQeM/RwTYI3EMAnd/DkVEg0CuBDI1TzPeaDdgFASOQsTjY9NxCAAIPE0DjDwNmeAh0QACddxAETIDAgwQyNE4x/2BAGRoCdxHIWBzusp1xIACBYwJo/JgRPSAwOgF0PnoEsR8CdQIZGqeYr8eETyHQBYGMxaELxzECAosQQOOLBBo3lyaAzpcOP84vQCBD4xTzCyQWLo5PIGNxGJ8aHkBgHAJofJxYYSkErhJA51fJ8RwExiCQoXGK+TFyAysXJ5CxOCyOHPch8CoBNP4qbiaDQAoBdJ6CnUkh8BqBDI1TzL8WXiaCwHUCGYvDdWt5EgIQOEsAjZ8lRn8IjEcAnY8XMyyGwBkCGRqnmD8TIfpCIIlAxuKQ5CrTQmBJAmh8ybDj9GIE0PliAcfd5QhkaJxifrk0w+ERCWQsDiNywmYIjEoAjY8aOeyGQDsBdN7Oip4QGJFAhsYp5kfMFGxejkDG4rAcZByGQCIBNJ4In6kh8BIBdP4SaKaBQBKBDI1TzCcFm2khcIZAxuJwxj76QgACnxFA45/x42kIjEAAnY8QJWyEwHUCGRqnmL8eL56EwGsEMhaH15xjIghA4AuNkwQQmJ8AOp8/xni4NoEMjVPMr51zeD8IgYzFYRA0mAmBKQig8SnCiBMQqBJA51U8fAiB4QlkaJxifvi0wYEVCGQsDitwxUcI9EIAjfcSCeyAwHME0PlzbBkZAj0QyNA4xXwPkccGCBwQyFgcDkziYwhA4EYCaPxGmAwFgU4JoPNOA4NZELiJQIbGKeZvCh7DQOBJAhmLw5P+MDYEIPCdABr/zoNXEJiRADqfMar4BIEfBDI0TjH/gz93EOiWQMbi0C0MDIPAhATQ+IRBxSUIFATQeQGElxCYjECGxinmJ0si3JmTQMbiMCdJvIJAnwTQeJ9xwSoI3EkAnd9Jk7Eg0B+BDI1TzPeXB1gEgb8QyFgc/mIEb0AAAo8RQOOPoWVgCHRDAJ13EwoMgcAjBDI0TjH/SCgZFAL3EshYHO71gNEgAIEaATReo8NnEJiDADqfI454AYE9Ahkap5jfiwbvQ6AjAhmLQ0fuYwoEpieAxqcPMQ5C4AudkwQQmJtAhsYp5ufOKbybhEDG4jAJOtyAwBAE0PgQYcJICHxEAJ1/hI+HIdA9gQyNU8x3nxYYCIEvvs0nCSAwOYGMA8DkSHEPAt0RQOfdhQSDIHArgQyNU8zfGkIGg8AzBDIWh2c8YVQIQGCLABrfosJ7EJiLADqfK554A4GSQIbGKebLKPAaAh0SyFgcOsSASRCYlgAanza0OAaBPwmg8z9RcAOBKQlkaJxifspUwqnZCGQsDrMxxB8I9EwAjfccHWyDwD0E0Pk9HBkFAr0SyNA4xXyv2YBdEDACGYuDTc8tBCDwMAE0/jBghodABwTQeQdBwAQIPEggQ+MU8w8GlKEhcBeBjMXhLtsZBwIQOCaAxo8Z0QMCoxNA56NHEPshUCeQoXGK+XpM+BQCXRDIWBy6cBwjILAIATS+SKBxc2kC6Hzp8OP8AgQyNE4xv0Bi4eL4BDIWh/Gp4QEExiGAxseJFZZC4CoBdH6VHM9BYAwCGRqnmB8jN7BycQIZi8PiyHEfAq8SQOOv4mYyCKQQQOcp2JkUAq8RyNA4xfxr4WUiCFwnkLE4XLeWJyEAgbME0PhZYvSHwHgE0Pk9MfvXv/719c9//vNL14z2v//97+vf//73Hz///e9/M0xgzk4JZGicYr7TZMAsCDiBjMXB5+ceAhB4lgAaf5Yvo0OgBwLo/PMoqIgWx/hRYf12+/vf//7n/L/88svb0zNfxwQyNE4x33FClKb95z//+fObwPIzXs9NIGNxeIuovtWOb7jvuL5ld8s8OmT87W9/+/r555+/tOFn/BbBbfj1119TbGhhtXqfmTXuv8W6Q+O9/SZMvyGUvqVz6T2juQ0qNGh9EuhN5zpX/uMf/7jlt9zS+e+///7HeLo+1cpifm89kG/SpJjrutfvip1ezGvsEdqTPEbw/y0bMzROMf9WdG+YJxYlJYoWTdo6BDIWh7foel7Lz09/MgrmPVY6YLs/GQf9HmzY48P7PwjMrPEyB10TV+5/++23H+A6uCt9yDCptIEzQkYUjudUnHpq0pLnjgq+q80LXI35VA62FvPab903rUN3NR97lN/Mu83iciePu7jOMI7Yvt1unVHClZj12x//UQLpmz/96Nu6pwT+Nry359OCEQvTXd8wauGOmMX4ip1i9uQ3q2+zG32+jMXhLWaR03ddKea/R64spKRtWn8EZta49v679K1xei/mM844Jd8MG/pTVX8W9aZz7ZeeO9Lq1RZnSI2nc+RTrbWYL79c+MS30hcfO6uYj79yaq0H3GbF6E4eJZ+VX2do/NZivjw0+gJR3mszZrM5l+7+G8xW8e7NoCJei20Zl/K1+nw6154NvN9OQHGZtWmD0Xqw9+N5Lw57/eL9ntYVaScOOPJDm+/brQcb3vZ5xPlm1njsN6HR8lruRdJM2cdf9/ZFsx+SdZ/RerAhw+/R5uxR57IpfrRPXWnSeIyh65O/9W0t5tUvzg9aU+48y/pvuTOK+bLeaolZyaOns1KL/aP0Uf6/3W6dsUwuF/befcbh9m3Id80XRYFYfroolfHQYSoOS7H4RZ+MheouZrOMo1is2vyQujKHVeO/it8r53Z5OO/pr2tWyT/8fIdAjzr3wlT2qTA/28q/vnmyUCzXi0/Pw2d9VX8/l1z9AuTKvPFMyTve55pPIEPjt1YInlxb305LcCoY5Wj8UCi2J54X2Z8sXnpW/DWevoDZWnTLOPX2m5B2anP0zFgceiFXHjR6sQs7IHAngZU1Xh7O2W/uzCzG6olAjzov/9R+6/x+xNDPp/rl0JOtXC8+OQ9ftdPPJRl1jNdbPebUVa4zPJcRj8eKeSX6XtNGLWfjh417j9T39+/8zfxeEe8z+uJ8ZXH3sbj/jEDG4vCZxfc97d+Ar8zhPqKM1COBlXO7PJzzm/keMxSb7iDQq879vKf7M638E/unz/TlepFRzPu5JKOYL/8S+ky86PssgQyNP1bMHxV/cjZ+9A0T7ZjAncX88Wzf/4zo6W9aW+xZuU/G4tALb/8GvJWDNndt+OUmr9dab/SjA8fWX6WE3/pMY2jTjGf0+uyfIIYtR89Fv9Jm2aP3wg4VOlt9wu6ta4x9pw01dls2lO/JFvkitvJNbPd+ymdnfN2a2zP6rrjHeUDX1mJgT496PjR7pBXlofq7vjTu2Ra5e/TcXj/pyfVwpNWtefbGLvuq39b4d9jgc8W6E7GQf5o37PTrp+uJz9vzfa86L/dZxaa1Kb6u39pznmO+9h/p1MeUbT5f7dnIwVofHzvu3U6tD+XzzutMMa9xZX9oQuuONFGOH3aU19CMzy8W8X5ct/Stsa7y0LMa09dWzXVFt7EGbD2rz2Itvjp+yezt1xkav7WYVwBCYEq0WvNEPOqrcWKTU1GpH18EavPEZ5GAsvGoHfUNW9TPW7wf9un1VrL6M36vxNWY4qE/cw+RR5/MYl720PIIZCwOed5+n9m/AW/hIM3FOuT9ywOHPtv6DYQ0KA37GOW9npNej1ppS7lmxPNlv3hfG9ueLbJBnx+1cuwMG8JG2bIVh5Jv+froy+EYf+SrfF61SUsec+2dR83/KVjktPQgXfhYui+1qn7lulI+o9fK1Zbmtkive837hc3SRM2WkWwIv8XbzytbbLfei+dnvsrvHps04TE5s+a65rbOispxnWePckLaadnTyvVirxBu7efx2FtDxMb3XNes3q+1u/z3usljtXdf1jtXeMivlj27NV/cBv8SRO97HrlP6ieGozTZ/na7dUYP+FFgfVOrbVa1AEewNdZRoKNvC2RPqK1FIj6PRKyJX4vT1hgeaNnuC4PbqvtgGfPqvaMxffyr915EhA1Xx+K5zwi05O1nM/T7dLmBHVkqbbiG1L+mrxhPzx0dNnxc3dfWLo1b2rJXpJT99Kyvp+W8/npvTPerpf+WDToM+LN790c2BAtfw/bG2np/64AY/s1yld+rNj/giUMUujUefoZQ/3IMzyMfrzWn4/mWg6TbUstV31OlmdrZIebXtTZmMGq1wfuJy502yJZyvXY/ju6PznHh68hXMei1+fqs+5am/PG4lntBa375GK7XLRtKrWvv2mqt/eLZ1rVB/TzPoxaIcfx6p/+uXee1d1+eT87yEFdfs/bmiffFQf7WmtsQ3Grnsxhb+Xg0dm3eNz+TzW+3W2f0w6cSvdZ80dgT7pawFPy95FKS7LVIiBbImiP6by0S8bl80MIVfXWNz/w99attUlv+lONIxM5sy64936+8L9G4D6OI6IqvIzyjWKzafNNs4SBteO6W64i05ZticNU65M9Jl1rT4sCrcbY2nZo2Slv21rqyn6+lskn26j2xKNcGfV5bX8qxM2wQ43KdE0ut2eKndbT8POKk92uMI36jXxXHVZsf8MShLAi2uLiGpU3fH3Wvz0MrPp7Gjx/1Ux7qedmgftKZj6W+6lNrbovyda95v1LjslXz6P1SC7JBNtaaj33GBvf1Uxu21lC9J7b6kX/BXteIk+w9YlzzfaTP5HevrcxJxeyolc+U/cv9W3mqZyInlNeeu5EXtT1Nz3oeaY/baq399GyZuxr/SA9hg/r9v/bORNdxXNei///V/bDvA7t2sySZjgfZ8hIQ2Ik1kIuDxORUd69ln5eu0lm5RvLt0V8yarxeWjPW1zU+92veN/fw0FjPDVpD72VP2S/kzn3UL6/rbFwG6ZD9Q+97c484+xqz78Xg7nbqih7Uo8TsxpMjtJobXGA0dw5uBYM70mgD0xzxaq3nn/mcrSQRz+OqeaWTyyfZYj1d5Zytps+9n4LVmzP1fi25fNyR+8x1ZMsj6zC2TkC2/2rLm+EWh1y8RtwoXpVXvHkcRcwqlqubkeZW/17LsuT4jnG5X8iszaslizbs6KNrL79o/jz3GTIo1+2RIee5bIfg4LYe5fPov9JVdvxqy/t9z0edj/zDYyDutWd6y/GjfoorxfuoqU/MqavnijzOY0H3veb9fO6WvpGPop/y16g5j5EM3i/m1vWoDMoJPl8vL2ZbZ/uMdFzhmRg9tckWbsPK2c/Pwa3+cYbVdRRD8j9fO8exM8s+1Ju32k9z+9q6b+WHzCfGjIrM2NPO1F/yBteQwfn07vfwyPlvZA/Fesihay/2JVeWIcYpZ3kNpb56n+XQ+Kc36XR3O3VFP7DJMILuLz2vGsb7jQ6qMrYnk9aGJKjhMBXIvnYrSfhzzdeTz3loTKtVZM+butZsydWaf/SZ2ClA46Wkkzf6UQCP5ubZuQQqfnvuis+ZLW8UW5IpNsQrvyoxU+mj9f1QPjpkZ1l6+Sn3k+yKxby5ue6uXy+/qH+ee4YMbsNRoSF5PSe2DlTOYKV72fOrLR/wKnb3GIxYqOxX1RjfI5PLMvJv7xcyj3SVPtFP11Hh63PPkCEXOqPcFQWOdFKe+1KTzk9ufr4d7W3SIdtcMZOb/GDkC97fz58jH86x2Yvpar89XyRoLd+jZM/R/nuF/mLm9UXVp6o8cr9KXvU9XvL08lqeW31bXwKFX+Tzy8gvYszsa9UeZ8p5albJG48U6r0UtL2NSU4Q47aSiWD4ukt2+QAAAB+JSURBVL2givl03WoeqK0k4clu5OQK4tG6HoxbeuYAaMm1pVd+7pxdTt1LHq1JewaBit8+Q9LzpfCDX4VDTv4a09tYfpU2b/69ebIsPTlyP+WYrQNQlUuee4YMnjN7XyYEQ+87yq/Rf5VrxbdX0TXrkfe3LR/ReC9exe7sQ17ev3tf2kuWahHi/Sp5KRdLIy7OY8TC+50pg59npOeoed+ts89onjc+e3qc+3laso7Ogd73DDv6nqZ9oNdyvtAe12rVfr7nVPRQXKqf+Og1krUlV++zqv4a7+yrPnUVD8mTzxm9HJRl6PVzRp43t3KLj5t1X7XHmfJtV7Y7VsvOFY6er6M/wdByPs9oAw3R8qYbn/vVZfDPW/ce2K0k4c+3Dtwe8Lmv66n7rebrtuTaGp+f56ByRn6vfrS5BGSPr7b8je8Wh7ypaIM8u+XY6cVjlqV3GK/2cz00l8dpzi/Rtzp3tV/Mq2tVBpdzK594sXGF7Vz+J91/OcZzPPW+cHJ7uZ9on5X/nt18/x6dRVyW0WHT++m+0jx2RucEn7sqw6ify1aRwQuRLd1k35hTjL/Unh7neR8Yndc9Ps7I1X4mHnHK+aIX+9V+4Yu6VvVwfz/Lh6v6K178C7ERK4+tCo9cT41yjs+te+WTYNljUpEhz+usz/riJK9x5vuqPU5d88zJ3BGVzPXtlQynz32jkaKjBOF9Nb7SwoF0bR1q/fnWfFtFsyewXhKJNUZzeZHSO+THPLqO5vJ+v96Lm3hLFl9L7EYHmV/XY1ydgGzw1eaJvMIhH0YqsbWXbXVDyrL0ipTcryKzH4jFpZeL8txVGXr9nFVVBt/kt3Tz/LrV12V5+33Ft9+uY0/+HE8Vu/s5QfdXNN8HR4faqizVfq6L/CJeo0LDY2zEo9pvrwxeXIjbqPlZUfJ8qb0hzt1HevLmvxqpntVHtnYf6q2r8Tlf9Pa+Sr/q/pjl9vP7lr/nsb33Vf013mNoxMrXqvDIffS+2iry5/l7tvM1f9HVx999X7XHmXKdWiG4IVvFujZoKRkv9W81P8wpYVSab7ot54s1K5B9rpajbT13eUd9PWG2ZPZ5dO9cWnLl/kff5yKqaouj6zL+bwIVv/171Bqf+KZZ4ZA350ph0CKlebSJ6KXDsV6KWV09riVTLx6rsuR+lUI6H6bOlqHCrSqD23B0eM9fDnwp51R8u+WnK3yWD3gV/1ccipleI58a8dEX2PJzxbj2u4jvuMb8uqpPr7ksuu+1aj8f77mmda6KvtW5q/1iXl0rMuRcMIpdP8uMvqBwGVa5ly89veWzeut8qniI+JA9q01zaaxeEWdxdb8Yccr5orf3VfrlPnpfaX4+VnxUm+YP/RWLobvuq/prLec/YuVyZV1b3LLtW318Tr+vjK3I4HPq3mvLqq55jjvfz5Dx1KziztVL0G6UXgIQiHhVHcmDoLWJxHwVyD5Xa33f2FrP3WlGc/mzSgLZs67LcOReiSbY9Wx6ZH7G1ghU/LY20/t6+aZZ4aCYDJ/VtVIYOBVtSO73PlfvvpcHsiyau9Wq/XxsdVOszl3t94sM+aCvoiT/BVXWZ88ByWV6671866st274XJ87nl6I0xssf/QumXlz7570fHzRnVRbPKxpTaX5OGO3BVRmq/Vy2qgx+RtGYfBZTzPv64pv7+Lor3r8hzmUn9/3Wl0juEzr7j5rmU/z4GJ+/d9+bM+cL7V2tVulXKUBbc3v+qOxVYnSW/pLHa6mqT1V4eB1XnTf45Pn1Prfcp2c7H3dEJp/nrvu93M6Q69TTgwNvBX8I7A7d2iB9Q2g5Q8zjV5+z5RyeLPIh0ufRva/fmmvruc836uubWuXwMprL1zzz3hOd1qfNITAjOczR9O9VfdOscFDMerxXYitW9RzmcyhW/eWHcvVr5QnNWZWl2i/k1LW6KVbnzv0qX4JUZZC8mZlytj4TV89twZ1Dvlt77fvsRxXf8/1T99Umv/LzQvhb+KLHeTzTVbmh11wWzdNr1X4+3mNjdK6qzu39dF9pVRn8vBDstEawjc/iOmJakeuNfaT7G5psFnbKMiuG/Jn2jlFzn4txikF97i/3s7ymz5/zRW/9Sr/ss9V9x39kkC6jdrb+WiufVUbrx7MKj/wlwVa9FHPrqrwd9tW1xbIig8+p+190zXPc+X7ku1fJcWpWceCjb5C9XysI/PBePYiHA7XmEzx9Hn16gR+Qt/puPY95dPXklNf1ZND6UsPn0f2edfPYX9974EkX2hwCM5LDHE3/XtXjpMJBcRaxrmulMNCqeRPTBiz/b7XqYaYqS7Wfy+KxKT1zfom+1blzv0rurcqQD0xun3yvPNPjHjqteBWHr7bsRxXf8wOy7istx6321NFavn+P9uiqLNV+rovLMDpXefE14lHtt1cGHfr9jJLjOr/XOfCL7S1xngszz8l+ht86F7rPS3f5cG+vyntwzz9yvujNV+k30rO3vj73OmXE4Ar9tb7boOpTFR55r24V5D0uFftVZMjz/6JrnuPO91V7nCnTqacHN+ToG2QlfSkbr3zY9sP7aFMKEO582qhazTewvF7u7xtSK0n45tp67vON+rqD9uSOufJGubVujDt6rdr06DqMHxOYkRzGEt331DfNCgfFRuQWXUeHddfC434r71Q3pKos1X4u75tkcLY6HCiv+CFH+U/vq7ZyDqvcV3x7FV2zHtmXt/Zojc/+k+dsvff9TLy3Dqq+f2u/7jWXRfe9Vu3n412G0bmqOne1314Z/DwjzrKh5I3Y11Vr63y359c+l2OF+zfFuWSNl2wXLWyqZ7J1r+Wz/ujLKM3hPjTilPNF7zxc6Ze/4Bvp43p6naIYbbWr9NdaOZe11s+fVXjkPnpfbc5EPtJqef6e7XzsL7r6+LvvR757lSynFvMeiFtB6xtK3qBycI2MrWDxza7neF4Q9GTLc8kgrbV9vdZzN5Ynvdw366n1W60qV2ts6zPJ0Vsr93ddq0kuz8H74wRmJIfjUp8zg28QFQ7yb/WLV6VAzGO2ionqhpTn7cmS+22tL7JvkcHznB8Iz/GOdWap+PY62v5Xk+zLvTjxUX6GqPqVj9n6Al1r+f43Kub9x4KRLNV+rqefIXpnF/V33UYyVPvtlcFZKZ/R2gTeFOfuKyG353N9NrK19jH1iZfGjlq1aMv5oidDpV/ee3M90pPX2cj3W22v/l5DBe/WvPqsysrHV3ioNgh76VrloXU8V/VyUEUGl1n3e7jksTPeb9nuCpkuK+a3HCAbNBeXXnwLTCsJaIwH1GhzzkGVD8sKaN+MwplbScL7tZ67obb6+uauvpnDHrl83dG9mCnolAzyejEus1X/Xt8Yw/U6AjOSw3Xa7Js554Kt0YqZiF9dc6y3xuf8oPw0arl/Lw9kWXpFSrWfy5RzaFWGHo+rZJDOYQ/lEVqbwJdjPPtyz0ednO/9vYOj99e978dbZxT198Pp6Mtsl2V0DvF+Z8vsc1dlGPVzdhVuEeO6buVPn/tr92+K87zP6b0XVlv+430relf753zR2/uq/dy/K3L6nqb+vX1tb8Fd1V8xk2WonM+rPDzvVXhInpavtGK7KoOP3cPFx826rzI7U77LivnRN8ihgDuMjOUtf/snOEoc6qeXNi4fr/teQMe83l/zaTPXXF4sKKh9U2zN6fO0nsd6unqSaPXNATCSS/rruV6tuXzd0b3rq7k0r+wVbH2dWK/1ZcpoDZ6dS0B2+Gq745f5nG9GB3f19RwwikfFacSQror3Vsv9ekW/j61uitW5c7+erHtlyGyVX8RX8seL/PLP//zE2X7pPvtyxf99n9Z9pfnepr151Hx+xa72x17zviNZqv18HT9DjM5VrttIhmq/vTK4nOIlWZVDIsZ1rRQcvu
