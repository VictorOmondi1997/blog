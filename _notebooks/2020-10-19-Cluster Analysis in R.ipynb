{
 "cells": [
  {
   "cell_type": "markdown",
   "metadata": {},
   "source": [
    "# Cluster Analysis in R\n",
    "\n",
    "> build a strong intuition for how they work and how to interpret hierarchical clustering and k-means clustering results\n",
    "\n",
    "- author: Victor Omondi\n",
    "- toc: true\n",
    "- comments: true\n",
    "- categories: [machine-learning, cluster-analysis, r]\n",
    "- image: images/cl-r-shield.png"
   ]
  },
  {
   "cell_type": "markdown",
   "metadata": {},
   "source": [
    "# Overview\n",
    "\n",
    "Cluster analysis is a powerful toolkit in the data science workbench. It is used to find groups of observations (clusters) that share similar characteristics. These similarities can inform all kinds of business decisions; for example, in marketing, it is used to identify distinct groups of customers for which advertisements can be tailored. We will explore two commonly used clustering methods - hierarchical clustering and k-means clustering. We'll build a strong intuition for how they work and how to interpret their results. We'll develop this intuition by exploring three different datasets: soccer player positions, wholesale customer spending data, and longitudinal occupational wage data."
   ]
  },
  {
   "cell_type": "markdown",
   "metadata": {},
   "source": [
    "# Libraries"
   ]
  },
  {
   "cell_type": "code",
   "execution_count": 59,
   "metadata": {},
   "outputs": [
    {
     "name": "stderr",
     "output_type": "stream",
     "text": [
      "Warning message:\n",
      "\"package 'tibble' was built under R version 3.6.3\"Warning message:\n",
      "\"package 'tidyr' was built under R version 3.6.3\""
     ]
    }
   ],
   "source": [
    "library(dplyr)\n",
    "library(ggplot2)\n",
    "library(dummies)\n",
    "library(readr)\n",
    "library(dendextend)\n",
    "library(purrr)\n",
    "library(cluster)\n",
    "library(tibble)\n",
    "library(tidyr)"
   ]
  },
  {
   "cell_type": "markdown",
   "metadata": {},
   "source": [
    "# Calculating distance between observations\n",
    "\n",
    "Cluster analysis seeks to find groups of observations that are similar to one another, but the identified groups are different from each other. This similarity/difference is captured by the metric called distance. We will calculate the distance between observations for both continuous and categorical features. We will also develop an intuition for how the scales of features can affect distance."
   ]
  },
  {
   "cell_type": "markdown",
   "metadata": {},
   "source": [
    "## What is cluster analysis?\n",
    "\n",
    "A form of exploratory data analysis (EDA) where observations are divided into meaningful groups that share common characteristics(features).\n"
   ]
  },
  {
   "cell_type": "markdown",
   "metadata": {},
   "source": [
    "### When to cluster?\n",
    "\n",
    "- Identifying distinct groups of stocks that follow similar trading patterns.\n",
    "- Using consumer behavior data to identify distinct segments within a market."
   ]
  },
  {
   "cell_type": "markdown",
   "metadata": {},
   "source": [
    "## Distance between two observations\n",
    "\n",
    "### Distance vs Similarity\n",
    "$distance = 1 - similarity$\n",
    "\n",
    "### dist() function"
   ]
  },
  {
   "cell_type": "code",
   "execution_count": 2,
   "metadata": {},
   "outputs": [
    {
     "data": {
      "text/plain": [
       "   1\n",
       "2 15"
      ]
     },
     "metadata": {},
     "output_type": "display_data"
    }
   ],
   "source": [
    "two_players = data.frame(X=c(0, 9), Y=c(0,12))\n",
    "two_players %>%\n",
    "    dist(method=\"euclidean\")"
   ]
  },
  {
   "cell_type": "code",
   "execution_count": 3,
   "metadata": {},
   "outputs": [
    {
     "data": {
      "text/plain": [
       "         1        2\n",
       "2 15.00000         \n",
       "3 19.10497 13.03840"
      ]
     },
     "metadata": {},
     "output_type": "display_data"
    }
   ],
   "source": [
    "three_players = data.frame(X=c(0, 9, -2), Y=c(0,12, 19))\n",
    "three_players %>%\n",
    "    dist()"
   ]
  },
  {
   "cell_type": "code",
   "execution_count": 4,
   "metadata": {},
   "outputs": [
    {
     "data": {
      "text/html": [
       "<table>\n",
       "<thead><tr><th scope=col>x</th><th scope=col>y</th></tr></thead>\n",
       "<tbody>\n",
       "\t<tr><td> -1</td><td> 1 </td></tr>\n",
       "\t<tr><td> -2</td><td>-3 </td></tr>\n",
       "\t<tr><td>  8</td><td> 6 </td></tr>\n",
       "\t<tr><td>  7</td><td>-8 </td></tr>\n",
       "\t<tr><td>-12</td><td> 8 </td></tr>\n",
       "\t<tr><td>-15</td><td> 0 </td></tr>\n",
       "</tbody>\n",
       "</table>\n"
      ],
      "text/latex": [
       "\\begin{tabular}{r|ll}\n",
       " x & y\\\\\n",
       "\\hline\n",
       "\t  -1 &  1 \\\\\n",
       "\t  -2 & -3 \\\\\n",
       "\t   8 &  6 \\\\\n",
       "\t   7 & -8 \\\\\n",
       "\t -12 &  8 \\\\\n",
       "\t -15 &  0 \\\\\n",
       "\\end{tabular}\n"
      ],
      "text/markdown": [
       "\n",
       "| x | y |\n",
       "|---|---|\n",
       "|  -1 |  1  |\n",
       "|  -2 | -3  |\n",
       "|   8 |  6  |\n",
       "|   7 | -8  |\n",
       "| -12 |  8  |\n",
       "| -15 |  0  |\n",
       "\n"
      ],
      "text/plain": [
       "  x   y \n",
       "1  -1  1\n",
       "2  -2 -3\n",
       "3   8  6\n",
       "4   7 -8\n",
       "5 -12  8\n",
       "6 -15  0"
      ]
     },
     "metadata": {},
     "output_type": "display_data"
    }
   ],
   "source": [
    "players <- readRDS(gzcon(url(\"https://assets.datacamp.com/production/repositories/1219/datasets/94af7037c5834527cc8799a9723ebf3b5af73015/lineup.rds\")))\n",
    "head(players)"
   ]
  },
  {
   "cell_type": "code",
   "execution_count": 5,
   "metadata": {},
   "outputs": [
    {
     "data": {
      "image/png": "[encoded data removed]",
      "text/plain": [
       "plot without title"
      ]
     },
     "metadata": {},
     "output_type": "display_data"
    }
   ],
   "source": [
    "# Plot the positions of the players\n",
    "ggplot(two_players, aes(x = X, y = Y)) + \n",
    "  geom_point() +\n",
    "  # Assuming a 40x60 field\n",
    "  lims(x = c(-30,30), y = c(-20, 20))\n",
    "\n"
   ]
  },
  {
   "cell_type": "code",
   "execution_count": 6,
   "metadata": {},
   "outputs": [
    {
     "data": {
      "text/html": [
       "15"
      ],
      "text/latex": [
       "15"
      ],
      "text/markdown": [
       "15"
      ],
      "text/plain": [
       "[1] 15"
      ]
     },
     "metadata": {},
     "output_type": "display_data"
    }
   ],
   "source": [
    "# Split the players data frame into two observations\n",
    "player1 <- two_players[1, ]\n",
    "player2 <- two_players[2, ]\n",
    "\n",
    "# Calculate and print their distance using the Euclidean Distance formula\n",
    "player_distance <- sqrt( (player1$X - player2$X)^2 + (player1$Y - player2$Y)^2 )\n",
    "player_distance"
   ]
  },
  {
   "cell_type": "markdown",
   "metadata": {},
   "source": [
    "The dist() function makes life easier when working with many dimensions and observations."
   ]
  },
  {
   "cell_type": "code",
   "execution_count": 7,
   "metadata": {},
   "outputs": [
    {
     "data": {
      "text/plain": [
       "         1        2\n",
       "2 15.00000         \n",
       "3 19.10497 13.03840"
      ]
     },
     "metadata": {},
     "output_type": "display_data"
    }
   ],
   "source": [
    "dist(three_players)"
   ]
  },
  {
   "cell_type": "code",
   "execution_count": 8,
   "metadata": {},
   "outputs": [
    {
     "data": {
      "text/html": [
       "<table>\n",
       "<thead><tr><th scope=col>X</th><th scope=col>Y</th></tr></thead>\n",
       "<tbody>\n",
       "\t<tr><td> 0</td><td> 0</td></tr>\n",
       "\t<tr><td> 9</td><td>12</td></tr>\n",
       "\t<tr><td>-2</td><td>19</td></tr>\n",
       "</tbody>\n",
       "</table>\n"
      ],
      "text/latex": [
       "\\begin{tabular}{r|ll}\n",
       " X & Y\\\\\n",
       "\\hline\n",
       "\t  0 &  0\\\\\n",
       "\t  9 & 12\\\\\n",
       "\t -2 & 19\\\\\n",
       "\\end{tabular}\n"
      ],
      "text/markdown": [
       "\n",
       "| X | Y |\n",
       "|---|---|\n",
       "|  0 |  0 |\n",
       "|  9 | 12 |\n",
       "| -2 | 19 |\n",
       "\n"
      ],
      "text/plain": [
       "  X  Y \n",
       "1  0  0\n",
       "2  9 12\n",
       "3 -2 19"
      ]
     },
     "metadata": {},
     "output_type": "display_data"
    }
   ],
   "source": [
    "three_players"
   ]
  },
  {
   "cell_type": "markdown",
   "metadata": {},
   "source": [
    "## The importance of scale\n",
    "\n",
    " when a variable is on a larger scale than other variables in data it may disproportionately influence the resulting distance calculated between the observations. \n",
    " \n",
    " `scale()` function by default centers & scales column features."
   ]
  },
  {
   "cell_type": "markdown",
   "metadata": {},
   "source": [
    "## Measuring distance for categorical data\n",
    "\n",
    "### Dummication in R\n",
    "`dummy.data.frame()`"
   ]
  },
  {
   "cell_type": "code",
   "execution_count": 9,
   "metadata": {},
   "outputs": [
    {
     "data": {
      "text/html": [
       "<table>\n",
       "<thead><tr><th scope=col>job_satisfaction</th><th scope=col>is_happy</th></tr></thead>\n",
       "<tbody>\n",
       "\t<tr><td>Low</td><td>No </td></tr>\n",
       "\t<tr><td>Low</td><td>No </td></tr>\n",
       "\t<tr><td>Hi </td><td>Yes</td></tr>\n",
       "\t<tr><td>Low</td><td>No </td></tr>\n",
       "\t<tr><td>Mid</td><td>No </td></tr>\n",
       "</tbody>\n",
       "</table>\n"
      ],
      "text/latex": [
       "\\begin{tabular}{r|ll}\n",
       " job\\_satisfaction & is\\_happy\\\\\n",
       "\\hline\n",
       "\t Low & No \\\\\n",
       "\t Low & No \\\\\n",
       "\t Hi  & Yes\\\\\n",
       "\t Low & No \\\\\n",
       "\t Mid & No \\\\\n",
       "\\end{tabular}\n"
      ],
      "text/markdown": [
       "\n",
       "| job_satisfaction | is_happy |\n",
       "|---|---|\n",
       "| Low | No  |\n",
       "| Low | No  |\n",
       "| Hi  | Yes |\n",
       "| Low | No  |\n",
       "| Mid | No  |\n",
       "\n"
      ],
      "text/plain": [
       "  job_satisfaction is_happy\n",
       "1 Low              No      \n",
       "2 Low              No      \n",
       "3 Hi               Yes     \n",
       "4 Low              No      \n",
       "5 Mid              No      "
      ]
     },
     "metadata": {},
     "output_type": "display_data"
    }
   ],
   "source": [
    "job_survey = read.csv(\"datasets/job_survey.csv\")\n",
    "job_survey"
   ]
  },
  {
   "cell_type": "code",
   "execution_count": 10,
   "metadata": {},
   "outputs": [
    {
     "name": "stderr",
     "output_type": "stream",
     "text": [
      "Warning message in model.matrix.default(~x - 1, model.frame(~x - 1), contrasts = FALSE):\n",
      "\"non-list contrasts argument ignored\"Warning message in model.matrix.default(~x - 1, model.frame(~x - 1), contrasts = FALSE):\n",
      "\"non-list contrasts argument ignored\""
     ]
    },
    {
     "data": {
      "text/plain": [
       "          1         2         3         4\n",
       "2 0.0000000                              \n",
       "3 1.0000000 1.0000000                    \n",
       "4 0.0000000 0.0000000 1.0000000          \n",
       "5 0.6666667 0.6666667 1.0000000 0.6666667"
      ]
     },
     "metadata": {},
     "output_type": "display_data"
    }
   ],
   "source": [
    "# Dummify the Survey Data\n",
    "dummy_survey <- dummy.data.frame(job_survey)\n",
    "\n",
    "# Calculate the Distance\n",
    "dist_survey <- dist(dummy_survey, method=\"binary\")\n",
    "# Print the Distance Matrix\n",
    "dist_survey"
   ]
  },
  {
   "cell_type": "markdown",
   "metadata": {},
   "source": [
    "this distance metric successfully captured that observations 1 and 2 are identical (distance of 0)"
   ]
  },
  {
   "cell_type": "markdown",
   "metadata": {},
   "source": [
    "# Hierarchical clustering\n",
    "\n",
    "How do you find groups of similar observations (clusters) in data using the calculated distances? We will explore the fundamental principles of hierarchical clustering - the linkage criteria and the dendrogram plot - and how both are used to build clusters. We will also explore data from a wholesale distributor in order to perform market segmentation of clients using their spending habits."
   ]
  },
  {
   "cell_type": "markdown",
   "metadata": {},
   "source": [
    "## Comparing more than two observations\n",
    "\n",
    "### Hierarchical clustering\n",
    "- **Complete Linkage**: maximum distance between two sets\n",
    "- **Single Linkage**: minimum distance between two sets\n",
    "- **Average Linkage**: average distance between two sets\n"
   ]
  },
  {
   "cell_type": "markdown",
   "metadata": {},
   "source": [
    "## Capturing K clusters\n",
    "\n",
    "### Hierarchical clustering in R\n",
    "\n",
    "- `hclust()` function to calculate the iterative linkage steps\n",
    "- `cutree()` function to extract the cluster assignments for the desired number (k) of clusters.\n",
    "\n",
    "positions of 12 players at the start of a 6v6 soccer match. "
   ]
  },
  {
   "cell_type": "code",
   "execution_count": 11,
   "metadata": {},
   "outputs": [
    {
     "data": {
      "text/html": [
       "<table>\n",
       "<thead><tr><th scope=col>x</th><th scope=col>y</th></tr></thead>\n",
       "<tbody>\n",
       "\t<tr><td> -1</td><td> 1 </td></tr>\n",
       "\t<tr><td> -2</td><td>-3 </td></tr>\n",
       "\t<tr><td>  8</td><td> 6 </td></tr>\n",
       "\t<tr><td>  7</td><td>-8 </td></tr>\n",
       "\t<tr><td>-12</td><td> 8 </td></tr>\n",
       "\t<tr><td>-15</td><td> 0 </td></tr>\n",
       "</tbody>\n",
       "</table>\n"
      ],
      "text/latex": [
       "\\begin{tabular}{r|ll}\n",
       " x & y\\\\\n",
       "\\hline\n",
       "\t  -1 &  1 \\\\\n",
       "\t  -2 & -3 \\\\\n",
       "\t   8 &  6 \\\\\n",
       "\t   7 & -8 \\\\\n",
       "\t -12 &  8 \\\\\n",
       "\t -15 &  0 \\\\\n",
       "\\end{tabular}\n"
      ],
      "text/markdown": [
       "\n",
       "| x | y |\n",
       "|---|---|\n",
       "|  -1 |  1  |\n",
       "|  -2 | -3  |\n",
       "|   8 |  6  |\n",
       "|   7 | -8  |\n",
       "| -12 |  8  |\n",
       "| -15 |  0  |\n",
       "\n"
      ],
      "text/plain": [
       "  x   y \n",
       "1  -1  1\n",
       "2  -2 -3\n",
       "3   8  6\n",
       "4   7 -8\n",
       "5 -12  8\n",
       "6 -15  0"
      ]
     },
     "metadata": {},
     "output_type": "display_data"
    }
   ],
   "source": [
    "head(players)"
   ]
  },
  {
   "cell_type": "code",
   "execution_count": 12,
   "metadata": {},
   "outputs": [],
   "source": [
    "dist_players = dist(players, method = \"euclidean\")\n",
    "hc_players = hclust(dist_players, method = \"complete\")"
   ]
  },
  {
   "cell_type": "markdown",
   "metadata": {},
   "source": [
    "### Extracting K clusters"
   ]
  },
  {
   "cell_type": "code",
   "execution_count": 13,
   "metadata": {},
   "outputs": [
    {
     "data": {
      "text/html": [
       "<ol class=list-inline>\n",
       "\t<li>1</li>\n",
       "\t<li>1</li>\n",
       "\t<li>2</li>\n",
       "\t<li>2</li>\n",
       "\t<li>1</li>\n",
       "\t<li>1</li>\n",
       "\t<li>1</li>\n",
       "\t<li>2</li>\n",
       "\t<li>2</li>\n",
       "\t<li>2</li>\n",
       "\t<li>1</li>\n",
       "\t<li>2</li>\n",
       "</ol>\n"
      ],
      "text/latex": [
       "\\begin{enumerate*}\n",
       "\\item 1\n",
       "\\item 1\n",
       "\\item 2\n",
       "\\item 2\n",
       "\\item 1\n",
       "\\item 1\n",
       "\\item 1\n",
       "\\item 2\n",
       "\\item 2\n",
       "\\item 2\n",
       "\\item 1\n",
       "\\item 2\n",
       "\\end{enumerate*}\n"
      ],
      "text/markdown": [
       "1. 1\n",
       "2. 1\n",
       "3. 2\n",
       "4. 2\n",
       "5. 1\n",
       "6. 1\n",
       "7. 1\n",
       "8. 2\n",
       "9. 2\n",
       "10. 2\n",
       "11. 1\n",
       "12. 2\n",
       "\n",
       "\n"
      ],
      "text/plain": [
       " [1] 1 1 2 2 1 1 1 2 2 2 1 2"
      ]
     },
     "metadata": {},
     "output_type": "display_data"
    }
   ],
   "source": [
    "(cluster_assignments <- cutree(hc_players, k=2))"
   ]
  },
  {
   "cell_type": "code",
   "execution_count": 14,
   "metadata": {},
   "outputs": [
    {
     "data": {
      "text/html": [
       "<table>\n",
       "<thead><tr><th scope=col>x</th><th scope=col>y</th><th scope=col>cluster</th></tr></thead>\n",
       "<tbody>\n",
       "\t<tr><td> -1</td><td>  1</td><td>1  </td></tr>\n",
       "\t<tr><td> -2</td><td> -3</td><td>1  </td></tr>\n",
       "\t<tr><td>  8</td><td>  6</td><td>2  </td></tr>\n",
       "\t<tr><td>  7</td><td> -8</td><td>2  </td></tr>\n",
       "\t<tr><td>-12</td><td>  8</td><td>1  </td></tr>\n",
       "\t<tr><td>-15</td><td>  0</td><td>1  </td></tr>\n",
       "\t<tr><td>-13</td><td>-10</td><td>1  </td></tr>\n",
       "\t<tr><td> 15</td><td> 16</td><td>2  </td></tr>\n",
       "\t<tr><td> 21</td><td>  2</td><td>2  </td></tr>\n",
       "\t<tr><td> 12</td><td>-15</td><td>2  </td></tr>\n",
       "</tbody>\n",
       "</table>\n"
      ],
      "text/latex": [
       "\\begin{tabular}{r|lll}\n",
       " x & y & cluster\\\\\n",
       "\\hline\n",
       "\t  -1 &   1 & 1  \\\\\n",
       "\t  -2 &  -3 & 1  \\\\\n",
       "\t   8 &   6 & 2  \\\\\n",
       "\t   7 &  -8 & 2  \\\\\n",
       "\t -12 &   8 & 1  \\\\\n",
       "\t -15 &   0 & 1  \\\\\n",
       "\t -13 & -10 & 1  \\\\\n",
       "\t  15 &  16 & 2  \\\\\n",
       "\t  21 &   2 & 2  \\\\\n",
       "\t  12 & -15 & 2  \\\\\n",
       "\\end{tabular}\n"
      ],
      "text/markdown": [
       "\n",
       "| x | y | cluster |\n",
       "|---|---|---|\n",
       "|  -1 |   1 | 1   |\n",
       "|  -2 |  -3 | 1   |\n",
       "|   8 |   6 | 2   |\n",
       "|   7 |  -8 | 2   |\n",
       "| -12 |   8 | 1   |\n",
       "| -15 |   0 | 1   |\n",
       "| -13 | -10 | 1   |\n",
       "|  15 |  16 | 2   |\n",
       "|  21 |   2 | 2   |\n",
       "|  12 | -15 | 2   |\n",
       "\n"
      ],
      "text/plain": [
       "   x   y   cluster\n",
       "1   -1   1 1      \n",
       "2   -2  -3 1      \n",
       "3    8   6 2      \n",
       "4    7  -8 2      \n",
       "5  -12   8 1      \n",
       "6  -15   0 1      \n",
       "7  -13 -10 1      \n",
       "8   15  16 2      \n",
       "9   21   2 2      \n",
       "10  12 -15 2      "
      ]
     },
     "metadata": {},
     "output_type": "display_data"
    }
   ],
   "source": [
    "head(\n",
    "    players_clustered <- players %>%\n",
    "        mutate(cluster = cluster_assignments), \n",
    "    10)"
   ]
  },
  {
   "cell_type": "markdown",
   "metadata": {},
   "source": [
    "`players_clustered` data frame contains the x & y positions of 12 players at the start of a 6v6 soccer game to which we have added clustering assignments based on the following parameters:\n",
    "\n",
    "- Distance: Euclidean\n",
    "- Number of Clusters (k): 2\n",
    "- Linkage Method: Complete"
   ]
  },
  {
   "cell_type": "markdown",
   "metadata": {},
   "source": [
    "### Exploring the clusters"
   ]
  },
  {
   "cell_type": "code",
   "execution_count": 15,
   "metadata": {},
   "outputs": [
    {
     "data": {
      "text/html": [
       "<table>\n",
       "<thead><tr><th scope=col>cluster</th><th scope=col>n</th></tr></thead>\n",
       "<tbody>\n",
       "\t<tr><td>1</td><td>6</td></tr>\n",
       "\t<tr><td>2</td><td>6</td></tr>\n",
       "</tbody>\n",
       "</table>\n"
      ],
      "text/latex": [
       "\\begin{tabular}{r|ll}\n",
       " cluster & n\\\\\n",
       "\\hline\n",
       "\t 1 & 6\\\\\n",
       "\t 2 & 6\\\\\n",
       "\\end{tabular}\n"
      ],
      "text/markdown": [
       "\n",
       "| cluster | n |\n",
       "|---|---|\n",
       "| 1 | 6 |\n",
       "| 2 | 6 |\n",
       "\n"
      ],
      "text/plain": [
       "  cluster n\n",
       "1 1       6\n",
       "2 2       6"
      ]
     },
     "metadata": {},
     "output_type": "display_data"
    }
   ],
   "source": [
    "# Count the cluster assignments\n",
    "count(players_clustered, cluster)"
   ]
  },
  {
   "cell_type": "markdown",
   "metadata": {},
   "source": [
    "### Visualizing K Clusters\n",
    "\n",
    "Because clustering analysis is always in part qualitative, it is incredibly important to have the necessary tools to explore the results of the clustering."
   ]
  },
  {
   "cell_type": "code",
   "execution_count": 16,
   "metadata": {},
   "outputs": [
    {
     "data": {
      "image/png": "[encoded data removed]",
      "text/plain": [
       "plot without title"
      ]
     },
     "metadata": {},
     "output_type": "display_data"
    }
   ],
   "source": [
    "players_clustered %>%\n",
    "    ggplot(aes(x=x, y=y, color=factor(cluster)))+\n",
    "    geom_point()"
   ]
  },
  {
   "cell_type": "markdown",
   "metadata": {},
   "source": [
    "## Visualizing the dendrogram\n",
    "\n",
    "### Plotting the dendrogram"
   ]
  },
  {
   "cell_type": "code",
   "execution_count": 17,
   "metadata": {},
   "outputs": [
    {
     "data": {
      "image/png": "[encoded data removed]",
      "text/plain": [
       "Plot with title \"Cluster Dendrogram\""
      ]
     },
     "metadata": {},
     "output_type": "display_data"
    }
   ],
   "source": [
    "plot(hc_players)"
   ]
  },
  {
   "cell_type": "code",
   "execution_count": 18,
   "metadata": {},
   "outputs": [
    {
     "data": {
      "image/png": "[encoded data removed]",
      "text/plain": [
       "Plot with title \"Average Linkage\""
      ]
     },
     "metadata": {},
     "output_type": "display_data"
    }
   ],
   "source": [
    "# Prepare the Distance Matrix\n",
    "dist_players <- dist(players)\n",
    "\n",
    "# Generate hclust for complete, single & average linkage methods\n",
    "hc_complete <- hclust(dist_players, method=\"complete\")\n",
    "hc_single <- hclust(dist_players, method=\"single\")\n",
    "hc_average <- hclust(dist_players, method=\"average\")\n",
    "\n",
    "# Plot & Label the 3 Dendrograms Side-by-Side\n",
    "# Hint: To see these Side-by-Side run the 4 lines together as one command\n",
    "par(mfrow = c(1,3))\n",
    "plot(hc_complete, main = 'Complete Linkage')\n",
    "plot(hc_single, main = 'Single Linkage')\n",
    "plot(hc_average, main = 'Average Linkage')"
   ]
  },
  {
   "cell_type": "markdown",
   "metadata": {},
   "source": [
    "### Height of the tree\n",
    "\n",
    "An advantage of working with a clustering method like hierarchical clustering is that you can describe the relationships between your observations based on both the distance metric and the linkage metric selected (the combination of which defines the height of the tree)."
   ]
  },
  {
   "cell_type": "markdown",
   "metadata": {},
   "source": [
    "## Cutting the tree\n",
    "\n",
    "\n",
    "### Coloring the dendrogram - height"
   ]
  },
  {
   "cell_type": "code",
   "execution_count": 19,
   "metadata": {},
   "outputs": [
    {
     "data": {
      "image/png": "[encoded data removed]",
      "text/plain": [
       "plot without title"
      ]
     },
     "metadata": {},
     "output_type": "display_data"
    }
   ],
   "source": [
    "dend_players = as.dendrogram(hc_players)\n",
    "dend_colored = color_branches(dend_players, h=15)\n",
    "plot(dend_colored)"
   ]
  },
  {
   "cell_type": "code",
   "execution_count": 20,
   "metadata": {},
   "outputs": [
    {
     "data": {
      "image/png": "[encoded data removed]",
      "text/plain": [
       "plot without title"
      ]
     },
     "metadata": {},
     "output_type": "display_data"
    }
   ],
   "source": [
    "dend_players = as.dendrogram(hc_players)\n",
    "dend_colored = color_branches(dend_players, h=10)\n",
    "plot(dend_colored)"
   ]
  },
  {
   "cell_type": "markdown",
   "metadata": {},
   "source": [
    "### Coloring the dendrogram - K"
   ]
  },
  {
   "cell_type": "code",
   "execution_count": 21,
   "metadata": {},
   "outputs": [
    {
     "data": {
      "image/png": "[encoded data removed]",
      "text/plain": [
       "plot without title"
      ]
     },
     "metadata": {},
     "output_type": "display_data"
    }
   ],
   "source": [
    "dend_players = as.dendrogram(hc_players)\n",
    "dend_colored = color_branches(dend_players, k=2)\n",
    "plot(dend_colored)"
   ]
  },
  {
   "cell_type": "markdown",
   "metadata": {},
   "source": [
    "### cutree() using height"
   ]
  },
  {
   "cell_type": "code",
   "execution_count": 22,
   "metadata": {},
   "outputs": [
    {
     "data": {
      "text/html": [
       "<ol class=list-inline>\n",
       "\t<li>1</li>\n",
       "\t<li>1</li>\n",
       "\t<li>2</li>\n",
       "\t<li>3</li>\n",
       "\t<li>4</li>\n",
       "\t<li>4</li>\n",
       "\t<li>5</li>\n",
       "\t<li>2</li>\n",
       "\t<li>6</li>\n",
       "\t<li>3</li>\n",
       "\t<li>4</li>\n",
       "\t<li>6</li>\n",
       "</ol>\n"
      ],
      "text/latex": [
       "\\begin{enumerate*}\n",
       "\\item 1\n",
       "\\item 1\n",
       "\\item 2\n",
       "\\item 3\n",
       "\\item 4\n",
       "\\item 4\n",
       "\\item 5\n",
       "\\item 2\n",
       "\\item 6\n",
       "\\item 3\n",
       "\\item 4\n",
       "\\item 6\n",
       "\\end{enumerate*}\n"
      ],
      "text/markdown": [
       "1. 1\n",
       "2. 1\n",
       "3. 2\n",
       "4. 3\n",
       "5. 4\n",
       "6. 4\n",
       "7. 5\n",
       "8. 2\n",
       "9. 6\n",
       "10. 3\n",
       "11. 4\n",
       "12. 6\n",
       "\n",
       "\n"
      ],
      "text/plain": [
       " [1] 1 1 2 3 4 4 5 2 6 3 4 6"
      ]
     },
     "metadata": {},
     "output_type": "display_data"
    }
   ],
   "source": [
    "cluster_assignments <- cutree(hc_players, h=15)\n",
    "cluster_assignments"
   ]
  },
  {
   "cell_type": "code",
   "execution_count": 23,
   "metadata": {},
   "outputs": [
    {
     "data": {
      "text/html": [
       "<table>\n",
       "<thead><tr><th scope=col>x</th><th scope=col>y</th><th scope=col>cluster</th></tr></thead>\n",
       "<tbody>\n",
       "\t<tr><td> -1</td><td>  1</td><td>1  </td></tr>\n",
       "\t<tr><td> -2</td><td> -3</td><td>1  </td></tr>\n",
       "\t<tr><td>  8</td><td>  6</td><td>2  </td></tr>\n",
       "\t<tr><td>  7</td><td> -8</td><td>3  </td></tr>\n",
       "\t<tr><td>-12</td><td>  8</td><td>4  </td></tr>\n",
       "\t<tr><td>-15</td><td>  0</td><td>4  </td></tr>\n",
       "\t<tr><td>-13</td><td>-10</td><td>5  </td></tr>\n",
       "\t<tr><td> 15</td><td> 16</td><td>2  </td></tr>\n",
       "\t<tr><td> 21</td><td>  2</td><td>6  </td></tr>\n",
       "\t<tr><td> 12</td><td>-15</td><td>3  </td></tr>\n",
       "</tbody>\n",
       "</table>\n"
      ],
      "text/latex": [
       "\\begin{tabular}{r|lll}\n",
       " x & y & cluster\\\\\n",
       "\\hline\n",
       "\t  -1 &   1 & 1  \\\\\n",
       "\t  -2 &  -3 & 1  \\\\\n",
       "\t   8 &   6 & 2  \\\\\n",
       "\t   7 &  -8 & 3  \\\\\n",
       "\t -12 &   8 & 4  \\\\\n",
       "\t -15 &   0 & 4  \\\\\n",
       "\t -13 & -10 & 5  \\\\\n",
       "\t  15 &  16 & 2  \\\\\n",
       "\t  21 &   2 & 6  \\\\\n",
       "\t  12 & -15 & 3  \\\\\n",
       "\\end{tabular}\n"
      ],
      "text/markdown": [
       "\n",
       "| x | y | cluster |\n",
       "|---|---|---|\n",
       "|  -1 |   1 | 1   |\n",
       "|  -2 |  -3 | 1   |\n",
       "|   8 |   6 | 2   |\n",
       "|   7 |  -8 | 3   |\n",
       "| -12 |   8 | 4   |\n",
       "| -15 |   0 | 4   |\n",
       "| -13 | -10 | 5   |\n",
       "|  15 |  16 | 2   |\n",
       "|  21 |   2 | 6   |\n",
       "|  12 | -15 | 3   |\n",
       "\n"
      ],
      "text/plain": [
       "   x   y   cluster\n",
       "1   -1   1 1      \n",
       "2   -2  -3 1      \n",
       "3    8   6 2      \n",
       "4    7  -8 3      \n",
       "5  -12   8 4      \n",
       "6  -15   0 4      \n",
       "7  -13 -10 5      \n",
       "8   15  16 2      \n",
       "9   21   2 6      \n",
       "10  12 -15 3      "
      ]
     },
     "metadata": {},
     "output_type": "display_data"
    }
   ],
   "source": [
    "head(\n",
    "    players_clustered <- \n",
    "    players %>%\n",
    "        mutate(cluster = cluster_assignments),\n",
    "    10)"
   ]
  },
  {
   "cell_type": "code",
   "execution_count": 24,
   "metadata": {},
   "outputs": [
    {
     "data": {
      "image/png": "[encoded data removed]",
      "text/plain": [
       "plot without title"
      ]
     },
     "metadata": {},
     "output_type": "display_data"
    }
   ],
   "source": [
    "dist_players <- dist(players, method = 'euclidean')\n",
    "hc_players <- hclust(dist_players, method = \"complete\")\n",
    "\n",
    "# Create a dendrogram object from the hclust variable\n",
    "dend_players <- as.dendrogram(hc_players)\n",
    "\n",
    "# Plot the dendrogram\n",
    "plot(dend_players)"
   ]
  },
  {
   "cell_type": "code",
   "execution_count": 25,
   "metadata": {},
   "outputs": [
    {
     "data": {
      "image/png": "[encoded data removed]",
      "text/plain": [
       "plot without title"
      ]
     },
     "metadata": {},
     "output_type": "display_data"
    }
   ],
   "source": [
    "# Color branches by cluster formed from the cut at a height of 20 & plot\n",
    "dend_20 <- color_branches(dend_players, h = 20)\n",
    "\n",
    "# Plot the dendrogram with clusters colored below height 20\n",
    "plot(dend_20)\n",
    "\n"
   ]
  },
  {
   "cell_type": "code",
   "execution_count": 26,
   "metadata": {},
   "outputs": [
    {
     "data": {
      "image/png": "[encoded data removed]",
      "text/plain": [
       "plot without title"
      ]
     },
     "metadata": {},
     "output_type": "display_data"
    }
   ],
   "source": [
    "# Color branches by cluster formed from the cut at a height of 40 & plot\n",
    "dend_40 <- color_branches(dend_players, h=40)\n",
    "\n",
    "# Plot the dendrogram with clusters colored below height 40\n",
    "plot(dend_40)\n"
   ]
  },
  {
   "cell_type": "markdown",
   "metadata": {},
   "source": [
    "The height of any branch is determined by the linkage and distance decisions (in this case complete linkage and Euclidean distance). While the members of the clusters that form below a desired height have a maximum linkage+distance amongst themselves that is less than the desired height."
   ]
  },
  {
   "cell_type": "markdown",
   "metadata": {},
   "source": [
    "## Making sense of the clusters\n",
    "\n",
    "### Wholesale dataset\n",
    "- 45 observations\n",
    "- 3 features:\n",
    "  - Milk Spending\n",
    "  - Grocery Spending\n",
    "  - Frozen Food Spending\n"
   ]
  },
  {
   "cell_type": "code",
   "execution_count": 27,
   "metadata": {},
   "outputs": [
    {
     "data": {
      "text/html": [
       "<table>\n",
       "<thead><tr><th scope=col>Milk</th><th scope=col>Grocery</th><th scope=col>Frozen</th></tr></thead>\n",
       "<tbody>\n",
       "\t<tr><td>11103</td><td>12469</td><td> 902 </td></tr>\n",
       "\t<tr><td> 2013</td><td> 6550</td><td> 909 </td></tr>\n",
       "\t<tr><td> 1897</td><td> 5234</td><td> 417 </td></tr>\n",
       "\t<tr><td> 1304</td><td> 3643</td><td>3045 </td></tr>\n",
       "\t<tr><td> 3199</td><td> 6986</td><td>1455 </td></tr>\n",
       "\t<tr><td> 4560</td><td> 9965</td><td> 934 </td></tr>\n",
       "\t<tr><td>  879</td><td> 2060</td><td> 264 </td></tr>\n",
       "\t<tr><td> 6243</td><td> 6360</td><td> 824 </td></tr>\n",
       "\t<tr><td>13316</td><td>20399</td><td>1809 </td></tr>\n",
       "\t<tr><td> 5302</td><td> 9785</td><td> 364 </td></tr>\n",
       "</tbody>\n",
       "</table>\n"
      ],
      "text/latex": [
       "\\begin{tabular}{r|lll}\n",
       " Milk & Grocery & Frozen\\\\\n",
       "\\hline\n",
       "\t 11103 & 12469 &  902 \\\\\n",
       "\t  2013 &  6550 &  909 \\\\\n",
       "\t  1897 &  5234 &  417 \\\\\n",
       "\t  1304 &  3643 & 3045 \\\\\n",
       "\t  3199 &  6986 & 1455 \\\\\n",
       "\t  4560 &  9965 &  934 \\\\\n",
       "\t   879 &  2060 &  264 \\\\\n",
       "\t  6243 &  6360 &  824 \\\\\n",
       "\t 13316 & 20399 & 1809 \\\\\n",
       "\t  5302 &  9785 &  364 \\\\\n",
       "\\end{tabular}\n"
      ],
      "text/markdown": [
       "\n",
       "| Milk | Grocery | Frozen |\n",
       "|---|---|---|\n",
       "| 11103 | 12469 |  902  |\n",
       "|  2013 |  6550 |  909  |\n",
       "|  1897 |  5234 |  417  |\n",
       "|  1304 |  3643 | 3045  |\n",
       "|  3199 |  6986 | 1455  |\n",
       "|  4560 |  9965 |  934  |\n",
       "|   879 |  2060 |  264  |\n",
       "|  6243 |  6360 |  824  |\n",
       "| 13316 | 20399 | 1809  |\n",
       "|  5302 |  9785 |  364  |\n",
       "\n"
      ],
      "text/plain": [
       "   Milk  Grocery Frozen\n",
       "1  11103 12469    902  \n",
       "2   2013  6550    909  \n",
       "3   1897  5234    417  \n",
       "4   1304  3643   3045  \n",
       "5   3199  6986   1455  \n",
       "6   4560  9965    934  \n",
       "7    879  2060    264  \n",
       "8   6243  6360    824  \n",
       "9  13316 20399   1809  \n",
       "10  5302  9785    364  "
      ]
     },
     "metadata": {},
     "output_type": "display_data"
    }
   ],
   "source": [
    "head(\n",
    "    ws_customers <- readRDS(gzcon(url(\"https://assets.datacamp.com/production/repositories/1219/datasets/3558d2b5564714d85120cb77a904a2859bb3d03e/ws_customers.rds\"))) , \n",
    "    10\n",
    ")"
   ]
  },
  {
   "cell_type": "markdown",
   "metadata": {},
   "source": [
    "### Exploring more than 2 dimensions\n",
    "- Plot 2 dimensions at a time\n",
    "- Visualize using PCA\n",
    "- Summary statistics by feature\n"
   ]
  },
  {
   "cell_type": "markdown",
   "metadata": {},
   "source": [
    "### Segment wholesale customers"
   ]
  },
  {
   "cell_type": "code",
   "execution_count": 28,
   "metadata": {},
   "outputs": [
    {
     "data": {
      "image/png": "[encoded data removed]",
      "text/plain": [
       "Plot with title \"Cluster Dendrogram\""
      ]
     },
     "metadata": {},
     "output_type": "display_data"
    }
   ],
   "source": [
    "# Calculate Euclidean distance between customers\n",
    "dist_customers <- dist(ws_customers, method=\"euclidean\")\n",
    "\n",
    "# Generate a complete linkage analysis \n",
    "hc_customers <- hclust(dist_customers, method=\"complete\")\n",
    "\n",
    "# Plot the dendrogram\n",
    "plot(hc_customers)\n",
    "\n"
   ]
  },
  {
   "cell_type": "code",
   "execution_count": 29,
   "metadata": {},
   "outputs": [
    {
     "data": {
      "text/html": [
       "<table>\n",
       "<thead><tr><th scope=col>Milk</th><th scope=col>Grocery</th><th scope=col>Frozen</th><th scope=col>cluster</th></tr></thead>\n",
       "<tbody>\n",
       "\t<tr><td>11103</td><td>12469</td><td> 902 </td><td>1    </td></tr>\n",
       "\t<tr><td> 2013</td><td> 6550</td><td> 909 </td><td>2    </td></tr>\n",
       "\t<tr><td> 1897</td><td> 5234</td><td> 417 </td><td>2    </td></tr>\n",
       "\t<tr><td> 1304</td><td> 3643</td><td>3045 </td><td>2    </td></tr>\n",
       "\t<tr><td> 3199</td><td> 6986</td><td>1455 </td><td>2    </td></tr>\n",
       "\t<tr><td> 4560</td><td> 9965</td><td> 934 </td><td>2    </td></tr>\n",
       "\t<tr><td>  879</td><td> 2060</td><td> 264 </td><td>2    </td></tr>\n",
       "\t<tr><td> 6243</td><td> 6360</td><td> 824 </td><td>2    </td></tr>\n",
       "\t<tr><td>13316</td><td>20399</td><td>1809 </td><td>3    </td></tr>\n",
       "\t<tr><td> 5302</td><td> 9785</td><td> 364 </td><td>2    </td></tr>\n",
       "</tbody>\n",
       "</table>\n"
      ],
      "text/latex": [
       "\\begin{tabular}{r|llll}\n",
       " Milk & Grocery & Frozen & cluster\\\\\n",
       "\\hline\n",
       "\t 11103 & 12469 &  902  & 1    \\\\\n",
       "\t  2013 &  6550 &  909  & 2    \\\\\n",
       "\t  1897 &  5234 &  417  & 2    \\\\\n",
       "\t  1304 &  3643 & 3045  & 2    \\\\\n",
       "\t  3199 &  6986 & 1455  & 2    \\\\\n",
       "\t  4560 &  9965 &  934  & 2    \\\\\n",
       "\t   879 &  2060 &  264  & 2    \\\\\n",
       "\t  6243 &  6360 &  824  & 2    \\\\\n",
       "\t 13316 & 20399 & 1809  & 3    \\\\\n",
       "\t  5302 &  9785 &  364  & 2    \\\\\n",
       "\\end{tabular}\n"
      ],
      "text/markdown": [
       "\n",
       "| Milk | Grocery | Frozen | cluster |\n",
       "|---|---|---|---|\n",
       "| 11103 | 12469 |  902  | 1     |\n",
       "|  2013 |  6550 |  909  | 2     |\n",
       "|  1897 |  5234 |  417  | 2     |\n",
       "|  1304 |  3643 | 3045  | 2     |\n",
       "|  3199 |  6986 | 1455  | 2     |\n",
       "|  4560 |  9965 |  934  | 2     |\n",
       "|   879 |  2060 |  264  | 2     |\n",
       "|  6243 |  6360 |  824  | 2     |\n",
       "| 13316 | 20399 | 1809  | 3     |\n",
       "|  5302 |  9785 |  364  | 2     |\n",
       "\n"
      ],
      "text/plain": [
       "   Milk  Grocery Frozen cluster\n",
       "1  11103 12469    902   1      \n",
       "2   2013  6550    909   2      \n",
       "3   1897  5234    417   2      \n",
       "4   1304  3643   3045   2      \n",
       "5   3199  6986   1455   2      \n",
       "6   4560  9965    934   2      \n",
       "7    879  2060    264   2      \n",
       "8   6243  6360    824   2      \n",
       "9  13316 20399   1809   3      \n",
       "10  5302  9785    364   2      "
      ]
     },
     "metadata": {},
     "output_type": "display_data"
    }
   ],
   "source": [
    "# Create a cluster assignment vector at h = 15000\n",
    "clust_customers <- cutree(hc_customers, h=15000)\n",
    "\n",
    "# Generate the segmented customers data frame\n",
    "head(\n",
    "    segment_customers <- mutate(ws_customers, cluster = clust_customers), \n",
    "    10\n",
    ")"
   ]
  },
  {
   "cell_type": "markdown",
   "metadata": {},
   "source": [
    "### Explore wholesale customer clusters\n",
    "\n",
    "Since we are working with more than 2 dimensions it would be challenging to visualize a scatter plot of the clusters, instead we will rely on summary statistics to explore these clusters. We will analyze the mean amount spent in each cluster for all three categories."
   ]
  },
  {
   "cell_type": "code",
   "execution_count": 30,
   "metadata": {},
   "outputs": [
    {
     "data": {
      "text/html": [
       "<table>\n",
       "<thead><tr><th scope=col>cluster</th><th scope=col>n</th></tr></thead>\n",
       "<tbody>\n",
       "\t<tr><td>1 </td><td> 5</td></tr>\n",
       "\t<tr><td>2 </td><td>29</td></tr>\n",
       "\t<tr><td>3 </td><td> 5</td></tr>\n",
       "\t<tr><td>4 </td><td> 6</td></tr>\n",
       "</tbody>\n",
       "</table>\n"
      ],
      "text/latex": [
       "\\begin{tabular}{r|ll}\n",
       " cluster & n\\\\\n",
       "\\hline\n",
       "\t 1  &  5\\\\\n",
       "\t 2  & 29\\\\\n",
       "\t 3  &  5\\\\\n",
       "\t 4  &  6\\\\\n",
       "\\end{tabular}\n"
      ],
      "text/markdown": [
       "\n",
       "| cluster | n |\n",
       "|---|---|\n",
       "| 1  |  5 |\n",
       "| 2  | 29 |\n",
       "| 3  |  5 |\n",
       "| 4  |  6 |\n",
       "\n"
      ],
      "text/plain": [
       "  cluster n \n",
       "1 1        5\n",
       "2 2       29\n",
       "3 3        5\n",
       "4 4        6"
      ]
     },
     "metadata": {},
     "output_type": "display_data"
    }
   ],
   "source": [
    "# Count the number of customers that fall into each cluster\n",
    "count(segment_customers, cluster)\n",
    "\n"
   ]
  },
  {
   "cell_type": "code",
   "execution_count": 31,
   "metadata": {},
   "outputs": [
    {
     "data": {
      "image/png": "[encoded data removed]",
      "text/plain": [
       "plot without title"
      ]
     },
     "metadata": {},
     "output_type": "display_data"
    }
   ],
   "source": [
    "# Color the dendrogram based on the height cutoff\n",
    "dend_customers <- as.dendrogram(hc_customers)\n",
    "dend_colored <- color_branches(dend_customers, h=15000)\n",
    "\n",
    "# Plot the colored dendrogram\n",
    "plot(dend_colored)\n",
    "\n"
   ]
  },
  {
   "cell_type": "code",
   "execution_count": 32,
   "metadata": {},
   "outputs": [
    {
     "data": {
      "text/html": [
       "<table>\n",
       "<thead><tr><th scope=col>cluster</th><th scope=col>Milk</th><th scope=col>Grocery</th><th scope=col>Frozen</th></tr></thead>\n",
       "<tbody>\n",
       "\t<tr><td>1        </td><td>16950.000</td><td>12891.400</td><td>  991.200</td></tr>\n",
       "\t<tr><td>2        </td><td> 2512.828</td><td> 5228.931</td><td> 1795.517</td></tr>\n",
       "\t<tr><td>3        </td><td>10452.200</td><td>22550.600</td><td> 1354.800</td></tr>\n",
       "\t<tr><td>4        </td><td> 1249.500</td><td> 3916.833</td><td>10888.667</td></tr>\n",
       "</tbody>\n",
       "</table>\n"
      ],
      "text/latex": [
       "\\begin{tabular}{r|llll}\n",
       " cluster & Milk & Grocery & Frozen\\\\\n",
       "\\hline\n",
       "\t 1         & 16950.000 & 12891.400 &   991.200\\\\\n",
       "\t 2         &  2512.828 &  5228.931 &  1795.517\\\\\n",
       "\t 3         & 10452.200 & 22550.600 &  1354.800\\\\\n",
       "\t 4         &  1249.500 &  3916.833 & 10888.667\\\\\n",
       "\\end{tabular}\n"
      ],
      "text/markdown": [
       "\n",
       "| cluster | Milk | Grocery | Frozen |\n",
       "|---|---|---|---|\n",
       "| 1         | 16950.000 | 12891.400 |   991.200 |\n",
       "| 2         |  2512.828 |  5228.931 |  1795.517 |\n",
       "| 3         | 10452.200 | 22550.600 |  1354.800 |\n",
       "| 4         |  1249.500 |  3916.833 | 10888.667 |\n",
       "\n"
      ],
      "text/plain": [
       "  cluster Milk      Grocery   Frozen   \n",
       "1 1       16950.000 12891.400   991.200\n",
       "2 2        2512.828  5228.931  1795.517\n",
       "3 3       10452.200 22550.600  1354.800\n",
       "4 4        1249.500  3916.833 10888.667"
      ]
     },
     "metadata": {},
     "output_type": "display_data"
    }
   ],
   "source": [
    "# Calculate the mean for each category\n",
    "segment_customers %>% \n",
    "  group_by(cluster) %>% \n",
    "  summarise_all(list(mean))"
   ]
  },
  {
   "cell_type": "markdown",
   "metadata": {},
   "source": [
    "- Customers in cluster 1 spent more money on Milk than any other cluster.\n",
    "- Customers in cluster 3 spent more money on Grocery than any other cluster.\n",
    "- Customers in cluster 4 spent more money on Frozen goods than any other cluster.\n",
    "- The majority of customers fell into cluster 2 and did not show any excessive spending in any category.\n",
    "\n",
    "whether they are meaningful depends heavily on the business context of the clustering."
   ]
  },
  {
   "cell_type": "markdown",
   "metadata": {},
   "source": [
    "# K-means clustering\n",
    "\n",
    "Build an understanding of the principles behind the k-means algorithm, explore how to select the right k when it isn't previously known, and revisit the wholesale data from a different perspective."
   ]
  },
  {
   "cell_type": "markdown",
   "metadata": {},
   "source": [
    "### Introduction to K-means"
   ]
  },
  {
   "cell_type": "code",
   "execution_count": 33,
   "metadata": {},
   "outputs": [
    {
     "data": {
      "text/html": [
       "<table>\n",
       "<thead><tr><th scope=col>x</th><th scope=col>y</th></tr></thead>\n",
       "<tbody>\n",
       "\t<tr><td> -1</td><td>  1</td></tr>\n",
       "\t<tr><td> -2</td><td> -3</td></tr>\n",
       "\t<tr><td>  8</td><td>  6</td></tr>\n",
       "\t<tr><td>  7</td><td> -8</td></tr>\n",
       "\t<tr><td>-12</td><td>  8</td></tr>\n",
       "\t<tr><td>-15</td><td>  0</td></tr>\n",
       "\t<tr><td>-13</td><td>-10</td></tr>\n",
       "\t<tr><td> 15</td><td> 16</td></tr>\n",
       "\t<tr><td> 21</td><td>  2</td></tr>\n",
       "\t<tr><td> 12</td><td>-15</td></tr>\n",
       "</tbody>\n",
       "</table>\n"
      ],
      "text/latex": [
       "\\begin{tabular}{r|ll}\n",
       " x & y\\\\\n",
       "\\hline\n",
       "\t  -1 &   1\\\\\n",
       "\t  -2 &  -3\\\\\n",
       "\t   8 &   6\\\\\n",
       "\t   7 &  -8\\\\\n",
       "\t -12 &   8\\\\\n",
       "\t -15 &   0\\\\\n",
       "\t -13 & -10\\\\\n",
       "\t  15 &  16\\\\\n",
       "\t  21 &   2\\\\\n",
       "\t  12 & -15\\\\\n",
       "\\end{tabular}\n"
      ],
      "text/markdown": [
       "\n",
       "| x | y |\n",
       "|---|---|\n",
       "|  -1 |   1 |\n",
       "|  -2 |  -3 |\n",
       "|   8 |   6 |\n",
       "|   7 |  -8 |\n",
       "| -12 |   8 |\n",
       "| -15 |   0 |\n",
       "| -13 | -10 |\n",
       "|  15 |  16 |\n",
       "|  21 |   2 |\n",
       "|  12 | -15 |\n",
       "\n"
      ],
      "text/plain": [
       "   x   y  \n",
       "1   -1   1\n",
       "2   -2  -3\n",
       "3    8   6\n",
       "4    7  -8\n",
       "5  -12   8\n",
       "6  -15   0\n",
       "7  -13 -10\n",
       "8   15  16\n",
       "9   21   2\n",
       "10  12 -15"
      ]
     },
     "metadata": {},
     "output_type": "display_data"
    }
   ],
   "source": [
    "head(\n",
    "    lineup <- readRDS(gzcon(url(\"https://assets.datacamp.com/production/repositories/1219/datasets/94af7037c5834527cc8799a9723ebf3b5af73015/lineup.rds\"))) ,\n",
    "    10\n",
    ")"
   ]
  },
  {
   "cell_type": "markdown",
   "metadata": {},
   "source": [
    "### kmeans()"
   ]
  },
  {
   "cell_type": "code",
   "execution_count": 34,
   "metadata": {},
   "outputs": [],
   "source": [
    "model = kmeans(lineup, centers = 2)"
   ]
  },
  {
   "cell_type": "markdown",
   "metadata": {},
   "source": [
    "### Assigning clusters"
   ]
  },
  {
   "cell_type": "code",
   "execution_count": 35,
   "metadata": {},
   "outputs": [
    {
     "data": {
      "text/html": [
       "<dl>\n",
       "\t<dt>$cluster</dt>\n",
       "\t\t<dd><ol class=list-inline>\n",
       "\t<li>2</li>\n",
       "\t<li>2</li>\n",
       "\t<li>1</li>\n",
       "\t<li>1</li>\n",
       "\t<li>2</li>\n",
       "\t<li>2</li>\n",
       "\t<li>2</li>\n",
       "\t<li>1</li>\n",
       "\t<li>1</li>\n",
       "\t<li>1</li>\n",
       "\t<li>2</li>\n",
       "\t<li>1</li>\n",
       "</ol>\n",
       "</dd>\n",
       "\t<dt>$centers</dt>\n",
       "\t\t<dd><table>\n",
       "<thead><tr><th scope=col>x</th><th scope=col>y</th></tr></thead>\n",
       "<tbody>\n",
       "\t<tr><td> 14.83333 </td><td> 0.1666667</td></tr>\n",
       "\t<tr><td>-11.33333 </td><td>-0.5000000</td></tr>\n",
       "</tbody>\n",
       "</table>\n",
       "</dd>\n",
       "\t<dt>$totss</dt>\n",
       "\t\t<dd>3489.91666666667</dd>\n",
       "\t<dt>$withinss</dt>\n",
       "\t\t<dd><ol class=list-inline>\n",
       "\t<li>863.666666666667</li>\n",
       "\t<li>570.833333333333</li>\n",
       "</ol>\n",
       "</dd>\n",
       "\t<dt>$tot.withinss</dt>\n",
       "\t\t<dd>1434.5</dd>\n",
       "\t<dt>$betweenss</dt>\n",
       "\t\t<dd>2055.41666666667</dd>\n",
       "</dl>\n"
      ],
      "text/latex": [
       "\\begin{description}\n",
       "\\item[\\$cluster] \\begin{enumerate*}\n",
       "\\item 2\n",
       "\\item 2\n",
       "\\item 1\n",
       "\\item 1\n",
       "\\item 2\n",
       "\\item 2\n",
       "\\item 2\n",
       "\\item 1\n",
       "\\item 1\n",
       "\\item 1\n",
       "\\item 2\n",
       "\\item 1\n",
       "\\end{enumerate*}\n",
       "\n",
       "\\item[\\$centers] \\begin{tabular}{r|ll}\n",
       " x & y\\\\\n",
       "\\hline\n",
       "\t  14.83333  &  0.1666667\\\\\n",
       "\t -11.33333  & -0.5000000\\\\\n",
       "\\end{tabular}\n",
       "\n",
       "\\item[\\$totss] 3489.91666666667\n",
       "\\item[\\$withinss] \\begin{enumerate*}\n",
       "\\item 863.666666666667\n",
       "\\item 570.833333333333\n",
       "\\end{enumerate*}\n",
       "\n",
       "\\item[\\$tot.withinss] 1434.5\n",
       "\\item[\\$betweenss] 2055.41666666667\n",
       "\\end{description}\n"
      ],
      "text/markdown": [
       "$cluster\n",
       ":   1. 2\n",
       "2. 2\n",
       "3. 1\n",
       "4. 1\n",
       "5. 2\n",
       "6. 2\n",
       "7. 2\n",
       "8. 1\n",
       "9. 1\n",
       "10. 1\n",
       "11. 2\n",
       "12. 1\n",
       "\n",
       "\n",
       "\n",
       "$centers\n",
       ":   \n",
       "| x | y |\n",
       "|---|---|\n",
       "|  14.83333  |  0.1666667 |\n",
       "| -11.33333  | -0.5000000 |\n",
       "\n",
       "\n",
       "$totss\n",
       ":   3489.91666666667\n",
       "$withinss\n",
       ":   1. 863.666666666667\n",
       "2. 570.833333333333\n",
       "\n",
       "\n",
       "\n",
       "$tot.withinss\n",
       ":   1434.5\n",
       "$betweenss\n",
       ":   2055.41666666667\n",
       "\n",
       "\n"
      ],
      "text/plain": [
       "$cluster\n",
       " [1] 2 2 1 1 2 2 2 1 1 1 2 1\n",
       "\n",
       "$centers\n",
       "          x          y\n",
       "1  14.83333  0.1666667\n",
       "2 -11.33333 -0.5000000\n",
       "\n",
       "$totss\n",
       "[1] 3489.917\n",
       "\n",
       "$withinss\n",
       "[1] 863.6667 570.8333\n",
       "\n",
       "$tot.withinss\n",
       "[1] 1434.5\n",
       "\n",
       "$betweenss\n",
       "[1] 2055.417\n"
      ]
     },
     "metadata": {},
     "output_type": "display_data"
    }
   ],
   "source": [
    "head(model)"
   ]
  },
  {
   "cell_type": "code",
   "execution_count": 36,
   "metadata": {},
   "outputs": [
    {
     "data": {
      "text/html": [
       "<ol class=list-inline>\n",
       "\t<li>2</li>\n",
       "\t<li>2</li>\n",
       "\t<li>1</li>\n",
       "\t<li>1</li>\n",
       "\t<li>2</li>\n",
       "\t<li>2</li>\n",
       "\t<li>2</li>\n",
       "\t<li>1</li>\n",
       "\t<li>1</li>\n",
       "\t<li>1</li>\n",
       "\t<li>2</li>\n",
       "\t<li>1</li>\n",
       "</ol>\n"
      ],
      "text/latex": [
       "\\begin{enumerate*}\n",
       "\\item 2\n",
       "\\item 2\n",
       "\\item 1\n",
       "\\item 1\n",
       "\\item 2\n",
       "\\item 2\n",
       "\\item 2\n",
       "\\item 1\n",
       "\\item 1\n",
       "\\item 1\n",
       "\\item 2\n",
       "\\item 1\n",
       "\\end{enumerate*}\n"
      ],
      "text/markdown": [
       "1. 2\n",
       "2. 2\n",
       "3. 1\n",
       "4. 1\n",
       "5. 2\n",
       "6. 2\n",
       "7. 2\n",
       "8. 1\n",
       "9. 1\n",
       "10. 1\n",
       "11. 2\n",
       "12. 1\n",
       "\n",
       "\n"
      ],
      "text/plain": [
       " [1] 2 2 1 1 2 2 2 1 1 1 2 1"
      ]
     },
     "metadata": {},
     "output_type": "display_data"
    }
   ],
   "source": [
    "model$cluster"
   ]
  },
  {
   "cell_type": "code",
   "execution_count": 37,
   "metadata": {},
   "outputs": [
    {
     "data": {
      "text/html": [
       "<table>\n",
       "<thead><tr><th scope=col>x</th><th scope=col>y</th><th scope=col>cluster</th></tr></thead>\n",
       "<tbody>\n",
       "\t<tr><td> -1</td><td>  1</td><td>2  </td></tr>\n",
       "\t<tr><td> -2</td><td> -3</td><td>2  </td></tr>\n",
       "\t<tr><td>  8</td><td>  6</td><td>1  </td></tr>\n",
       "\t<tr><td>  7</td><td> -8</td><td>1  </td></tr>\n",
       "\t<tr><td>-12</td><td>  8</td><td>2  </td></tr>\n",
       "\t<tr><td>-15</td><td>  0</td><td>2  </td></tr>\n",
       "\t<tr><td>-13</td><td>-10</td><td>2  </td></tr>\n",
       "\t<tr><td> 15</td><td> 16</td><td>1  </td></tr>\n",
       "\t<tr><td> 21</td><td>  2</td><td>1  </td></tr>\n",
       "\t<tr><td> 12</td><td>-15</td><td>1  </td></tr>\n",
       "</tbody>\n",
       "</table>\n"
      ],
      "text/latex": [
       "\\begin{tabular}{r|lll}\n",
       " x & y & cluster\\\\\n",
       "\\hline\n",
       "\t  -1 &   1 & 2  \\\\\n",
       "\t  -2 &  -3 & 2  \\\\\n",
       "\t   8 &   6 & 1  \\\\\n",
       "\t   7 &  -8 & 1  \\\\\n",
       "\t -12 &   8 & 2  \\\\\n",
       "\t -15 &   0 & 2  \\\\\n",
       "\t -13 & -10 & 2  \\\\\n",
       "\t  15 &  16 & 1  \\\\\n",
       "\t  21 &   2 & 1  \\\\\n",
       "\t  12 & -15 & 1  \\\\\n",
       "\\end{tabular}\n"
      ],
      "text/markdown": [
       "\n",
       "| x | y | cluster |\n",
       "|---|---|---|\n",
       "|  -1 |   1 | 2   |\n",
       "|  -2 |  -3 | 2   |\n",
       "|   8 |   6 | 1   |\n",
       "|   7 |  -8 | 1   |\n",
       "| -12 |   8 | 2   |\n",
       "| -15 |   0 | 2   |\n",
       "| -13 | -10 | 2   |\n",
       "|  15 |  16 | 1   |\n",
       "|  21 |   2 | 1   |\n",
       "|  12 | -15 | 1   |\n",
       "\n"
      ],
      "text/plain": [
       "   x   y   cluster\n",
       "1   -1   1 2      \n",
       "2   -2  -3 2      \n",
       "3    8   6 1      \n",
       "4    7  -8 1      \n",
       "5  -12   8 2      \n",
       "6  -15   0 2      \n",
       "7  -13 -10 2      \n",
       "8   15  16 1      \n",
       "9   21   2 1      \n",
       "10  12 -15 1      "
      ]
     },
     "metadata": {},
     "output_type": "display_data"
    }
   ],
   "source": [
    "head(\n",
    "    lineup_clustered <- lineup %>%\n",
    "        mutate(cluster=model$cluster), \n",
    "    10\n",
    ")"
   ]
  },
  {
   "cell_type": "markdown",
   "metadata": {},
   "source": [
    "### K-means on a soccer field"
   ]
  },
  {
   "cell_type": "code",
   "execution_count": 38,
   "metadata": {},
   "outputs": [
    {
     "data": {
      "image/png": "[encoded data removed]",
      "text/plain": [
       "plot without title"
      ]
     },
     "metadata": {},
     "output_type": "display_data"
    }
   ],
   "source": [
    "# Build a kmeans model\n",
    "model_km2 <- kmeans(lineup, centers = 2)\n",
    "\n",
    "# Extract the cluster assignment vector from the kmeans model\n",
    "clust_km2 <- model_km2$cluster\n",
    "\n",
    "# Create a new data frame appending the cluster assignment\n",
    "lineup_km2 <- mutate(lineup, cluster = clust_km2)\n",
    "\n",
    "# Plot the positions of the players and color them using their cluster\n",
    "ggplot(lineup_km2, aes(x = x, y = y, color = factor(cluster))) +\n",
    "  geom_point()"
   ]
  },
  {
   "cell_type": "markdown",
   "metadata": {},
   "source": [
    "### K-means on a soccer field (part 2)"
   ]
  },
  {
   "cell_type": "code",
   "execution_count": 39,
   "metadata": {},
   "outputs": [
    {
     "data": {
      "image/png": "[encoded data removed]",
      "text/plain": [
       "plot without title"
      ]
     },
     "metadata": {},
     "output_type": "display_data"
    }
   ],
   "source": [
    "# Build a kmeans model\n",
    "model_km3 <- kmeans(lineup, centers=3)\n",
    "\n",
    "# Extract the cluster assignment vector from the kmeans model\n",
    "clust_km3 <- model_km3$cluster\n",
    "\n",
    "# Create a new data frame appending the cluster assignment\n",
    "lineup_km3 <- mutate(lineup, cluster=clust_km3)\n",
    "\n",
    "# Plot the positions of the players and color them using their cluster\n",
    "ggplot(lineup_km3, aes(x = x, y = y, color = factor(cluster))) +\n",
    "  geom_point()"
   ]
  },
  {
   "cell_type": "markdown",
   "metadata": {},
   "source": [
    "## Evaluating different values of K by eye\n",
    "\n",
    "### Generating the elbow plot"
   ]
  },
  {
   "cell_type": "code",
   "execution_count": 40,
   "metadata": {},
   "outputs": [
    {
     "data": {
      "text/html": [
       "<table>\n",
       "<thead><tr><th scope=col>k</th><th scope=col>tot_withinss</th></tr></thead>\n",
       "<tbody>\n",
       "\t<tr><td> 1       </td><td>3489.9167</td></tr>\n",
       "\t<tr><td> 2       </td><td>1434.5000</td></tr>\n",
       "\t<tr><td> 3       </td><td> 881.2500</td></tr>\n",
       "\t<tr><td> 4       </td><td> 622.5000</td></tr>\n",
       "\t<tr><td> 5       </td><td> 481.6667</td></tr>\n",
       "\t<tr><td> 6       </td><td> 265.1667</td></tr>\n",
       "\t<tr><td> 7       </td><td> 350.5000</td></tr>\n",
       "\t<tr><td> 8       </td><td>  96.5000</td></tr>\n",
       "\t<tr><td> 9       </td><td>  82.0000</td></tr>\n",
       "\t<tr><td>10       </td><td>  73.5000</td></tr>\n",
       "</tbody>\n",
       "</table>\n"
      ],
      "text/latex": [
       "\\begin{tabular}{r|ll}\n",
       " k & tot\\_withinss\\\\\n",
       "\\hline\n",
       "\t  1        & 3489.9167\\\\\n",
       "\t  2        & 1434.5000\\\\\n",
       "\t  3        &  881.2500\\\\\n",
       "\t  4        &  622.5000\\\\\n",
       "\t  5        &  481.6667\\\\\n",
       "\t  6        &  265.1667\\\\\n",
       "\t  7        &  350.5000\\\\\n",
       "\t  8        &   96.5000\\\\\n",
       "\t  9        &   82.0000\\\\\n",
       "\t 10        &   73.5000\\\\\n",
       "\\end{tabular}\n"
      ],
      "text/markdown": [
       "\n",
       "| k | tot_withinss |\n",
       "|---|---|\n",
       "|  1        | 3489.9167 |\n",
       "|  2        | 1434.5000 |\n",
       "|  3        |  881.2500 |\n",
       "|  4        |  622.5000 |\n",
       "|  5        |  481.6667 |\n",
       "|  6        |  265.1667 |\n",
       "|  7        |  350.5000 |\n",
       "|  8        |   96.5000 |\n",
       "|  9        |   82.0000 |\n",
       "| 10        |   73.5000 |\n",
       "\n"
      ],
      "text/plain": [
       "   k  tot_withinss\n",
       "1   1 3489.9167   \n",
       "2   2 1434.5000   \n",
       "3   3  881.2500   \n",
       "4   4  622.5000   \n",
       "5   5  481.6667   \n",
       "6   6  265.1667   \n",
       "7   7  350.5000   \n",
       "8   8   96.5000   \n",
       "9   9   82.0000   \n",
       "10 10   73.5000   "
      ]
     },
     "metadata": {},
     "output_type": "display_data"
    }
   ],
   "source": [
    "tot_withinss <- map_dbl(1:10, function(k){\n",
    "    model_l <- kmeans(lineup, centers = k)\n",
    "    model_l$tot.withinss\n",
    "})\n",
    "head(\n",
    "    elbow_df_l <- data.frame(\n",
    "    k=1:10,\n",
    "    tot_withinss = tot_withinss\n",
    "), 10)"
   ]
  },
  {
   "cell_type": "markdown",
   "metadata": {},
   "source": [
    "### Generating the elbow plot"
   ]
  },
  {
   "cell_type": "code",
   "execution_count": 41,
   "metadata": {},
   "outputs": [
    {
     "data": {
      "image/png": "[encoded data removed]",
      "text/plain": [
       "plot without title"
      ]
     },
     "metadata": {},
     "output_type": "display_data"
    }
   ],
   "source": [
    "elbow_df_l %>%\n",
    "    ggplot(aes(x=k, y=tot_withinss)) +\n",
    "    geom_line() +\n",
    "    scale_x_continuous(breaks = 1:10)"
   ]
  },
  {
   "cell_type": "markdown",
   "metadata": {},
   "source": [
    "## Silhouette analysis: observation level performance\n",
    "\n",
    "### Silhouette analysis\n",
    "\n",
    "Silhouette analysis allows you to calculate how similar each observations is with the cluster it is assigned relative to other clusters. This metric (silhouette width) ranges from -1 to 1 for each observation in your data and can be interpreted as follows:\n",
    "\n",
    "- Values close to 1 suggest that the observation is well matched to the assigned cluster\n",
    "- Values close to 0 suggest that the observation is borderline matched between two clusters\n",
    "- Values close to -1 suggest that the observations may be assigned to the wrong cluster\n",
    "\n",
    "### Calculating S(i)"
   ]
  },
  {
   "cell_type": "code",
   "execution_count": 42,
   "metadata": {},
   "outputs": [
    {
     "data": {
      "text/html": [
       "<table>\n",
       "<thead><tr><th></th><th scope=col>cluster</th><th scope=col>neighbor</th><th scope=col>sil_width</th></tr></thead>\n",
       "<tbody>\n",
       "\t<tr><th scope=row>4</th><td>1           </td><td>2           </td><td> 0.465320054</td></tr>\n",
       "\t<tr><th scope=row>2</th><td>1           </td><td>3           </td><td> 0.321729341</td></tr>\n",
       "\t<tr><th scope=row>10</th><td>1           </td><td>2           </td><td> 0.311385893</td></tr>\n",
       "\t<tr><th scope=row>1</th><td>1           </td><td>3           </td><td> 0.271890169</td></tr>\n",
       "\t<tr><th scope=row>9</th><td>2           </td><td>1           </td><td> 0.443606497</td></tr>\n",
       "\t<tr><th scope=row>8</th><td>2           </td><td>1           </td><td> 0.398547473</td></tr>\n",
       "\t<tr><th scope=row>12</th><td>2           </td><td>1           </td><td> 0.393982685</td></tr>\n",
       "\t<tr><th scope=row>3</th><td>2           </td><td>1           </td><td>-0.009151755</td></tr>\n",
       "\t<tr><th scope=row>11</th><td>3           </td><td>1           </td><td> 0.546797052</td></tr>\n",
       "\t<tr><th scope=row>6</th><td>3           </td><td>1           </td><td> 0.529967901</td></tr>\n",
       "</tbody>\n",
       "</table>\n"
      ],
      "text/latex": [
       "\\begin{tabular}{r|lll}\n",
       "  & cluster & neighbor & sil\\_width\\\\\n",
       "\\hline\n",
       "\t4 & 1            & 2            &  0.465320054\\\\\n",
       "\t2 & 1            & 3            &  0.321729341\\\\\n",
       "\t10 & 1            & 2            &  0.311385893\\\\\n",
       "\t1 & 1            & 3            &  0.271890169\\\\\n",
       "\t9 & 2            & 1            &  0.443606497\\\\\n",
       "\t8 & 2            & 1            &  0.398547473\\\\\n",
       "\t12 & 2            & 1            &  0.393982685\\\\\n",
       "\t3 & 2            & 1            & -0.009151755\\\\\n",
       "\t11 & 3            & 1            &  0.546797052\\\\\n",
       "\t6 & 3            & 1            &  0.529967901\\\\\n",
       "\\end{tabular}\n"
      ],
      "text/markdown": [
       "\n",
       "| <!--/--> | cluster | neighbor | sil_width |\n",
       "|---|---|---|---|\n",
       "| 4 | 1            | 2            |  0.465320054 |\n",
       "| 2 | 1            | 3            |  0.321729341 |\n",
       "| 10 | 1            | 2            |  0.311385893 |\n",
       "| 1 | 1            | 3            |  0.271890169 |\n",
       "| 9 | 2            | 1            |  0.443606497 |\n",
       "| 8 | 2            | 1            |  0.398547473 |\n",
       "| 12 | 2            | 1            |  0.393982685 |\n",
       "| 3 | 2            | 1            | -0.009151755 |\n",
       "| 11 | 3            | 1            |  0.546797052 |\n",
       "| 6 | 3            | 1            |  0.529967901 |\n",
       "\n"
      ],
      "text/plain": [
       "   cluster neighbor sil_width   \n",
       "4  1       2         0.465320054\n",
       "2  1       3         0.321729341\n",
       "10 1       2         0.311385893\n",
       "1  1       3         0.271890169\n",
       "9  2       1         0.443606497\n",
       "8  2       1         0.398547473\n",
       "12 2       1         0.393982685\n",
       "3  2       1        -0.009151755\n",
       "11 3       1         0.546797052\n",
       "6  3       1         0.529967901"
      ]
     },
     "metadata": {},
     "output_type": "display_data"
    }
   ],
   "source": [
    "pam_k3 <- pam(lineup, k=3)\n",
    "head(pam_k3$silinfo$widths, 10)"
   ]
  },
  {
   "cell_type": "markdown",
   "metadata": {},
   "source": [
    "### Silhouette plot"
   ]
  },
  {
   "cell_type": "code",
   "execution_count": 43,
   "metadata": {},
   "outputs": [
    {
     "data": {
      "image/png": "[encoded data removed]",
      "text/plain": [
       "Plot with title \"Silhouette plot of pam(x = lineup, k = 3)\""
      ]
     },
     "metadata": {},
     "output_type": "display_data"
    }
   ],
   "source": [
    "sil_plot <- silhouette(pam_k3)\n",
    "plot(sil_plot)"
   ]
  },
  {
   "cell_type": "code",
   "execution_count": 44,
   "metadata": {},
   "outputs": [
    {
     "data": {
      "image/png": "[encoded data removed]",
      "text/plain": [
       "Plot with title \"Silhouette plot of pam(x = lineup, k = 2)\""
      ]
     },
     "metadata": {},
     "output_type": "display_data"
    }
   ],
   "source": [
    "# Generate a k-means model using the pam() function with a k = 2\n",
    "pam_k2 <- pam(lineup, k = 2)\n",
    "\n",
    "# Plot the silhouette visual for the pam_k2 model\n",
    "plot(silhouette(pam_k2))"
   ]
  },
  {
   "cell_type": "markdown",
   "metadata": {},
   "source": [
    "for k = 2, no observation has a silhouette width close to 0? What about the fact that for k = 3, observation 3 is close to 0 and is negative? This suggests that k = 3 is not the right number of clusters."
   ]
  },
  {
   "cell_type": "markdown",
   "metadata": {},
   "source": [
    "### Average silhouette width"
   ]
  },
  {
   "cell_type": "code",
   "execution_count": 45,
   "metadata": {},
   "outputs": [
    {
     "data": {
      "text/html": [
       "0.353414012920685"
      ],
      "text/latex": [
       "0.353414012920685"
      ],
      "text/markdown": [
       "0.353414012920685"
      ],
      "text/plain": [
       "[1] 0.353414"
      ]
     },
     "metadata": {},
     "output_type": "display_data"
    }
   ],
   "source": [
    "pam_k3$silinfo$avg.width"
   ]
  },
  {
   "cell_type": "markdown",
   "metadata": {},
   "source": [
    "- 1: Well matched to each cluster\n",
    "- 0: Onborder between clusters \n",
    "- -1: Poorly matched to each cluster"
   ]
  },
  {
   "cell_type": "markdown",
   "metadata": {},
   "source": [
    "### Highest average silhouette width"
   ]
  },
  {
   "cell_type": "code",
   "execution_count": 46,
   "metadata": {},
   "outputs": [
    {
     "data": {
      "text/html": [
       "<table>\n",
       "<thead><tr><th scope=col>k</th><th scope=col>sil_width</th></tr></thead>\n",
       "<tbody>\n",
       "\t<tr><td> 2       </td><td>0.4164141</td></tr>\n",
       "\t<tr><td> 3       </td><td>0.3534140</td></tr>\n",
       "\t<tr><td> 4       </td><td>0.3535534</td></tr>\n",
       "\t<tr><td> 5       </td><td>0.3724115</td></tr>\n",
       "\t<tr><td> 6       </td><td>0.3436130</td></tr>\n",
       "\t<tr><td> 7       </td><td>0.3236397</td></tr>\n",
       "\t<tr><td> 8       </td><td>0.3275222</td></tr>\n",
       "\t<tr><td> 9       </td><td>0.2547311</td></tr>\n",
       "\t<tr><td>10       </td><td>0.2099424</td></tr>\n",
       "</tbody>\n",
       "</table>\n"
      ],
      "text/latex": [
       "\\begin{tabular}{r|ll}\n",
       " k & sil\\_width\\\\\n",
       "\\hline\n",
       "\t  2        & 0.4164141\\\\\n",
       "\t  3        & 0.3534140\\\\\n",
       "\t  4        & 0.3535534\\\\\n",
       "\t  5        & 0.3724115\\\\\n",
       "\t  6        & 0.3436130\\\\\n",
       "\t  7        & 0.3236397\\\\\n",
       "\t  8        & 0.3275222\\\\\n",
       "\t  9        & 0.2547311\\\\\n",
       "\t 10        & 0.2099424\\\\\n",
       "\\end{tabular}\n"
      ],
      "text/markdown": [
       "\n",
       "| k | sil_width |\n",
       "|---|---|\n",
       "|  2        | 0.4164141 |\n",
       "|  3        | 0.3534140 |\n",
       "|  4        | 0.3535534 |\n",
       "|  5        | 0.3724115 |\n",
       "|  6        | 0.3436130 |\n",
       "|  7        | 0.3236397 |\n",
       "|  8        | 0.3275222 |\n",
       "|  9        | 0.2547311 |\n",
       "| 10        | 0.2099424 |\n",
       "\n"
      ],
      "text/plain": [
       "  k  sil_width\n",
       "1  2 0.4164141\n",
       "2  3 0.3534140\n",
       "3  4 0.3535534\n",
       "4  5 0.3724115\n",
       "5  6 0.3436130\n",
       "6  7 0.3236397\n",
       "7  8 0.3275222\n",
       "8  9 0.2547311\n",
       "9 10 0.2099424"
      ]
     },
     "metadata": {},
     "output_type": "display_data"
    }
   ],
   "source": [
    "sil_width <- map_dbl(2:10, function(k){\n",
    "    model_sil <- pam(lineup, k=k)\n",
    "    model_sil$silinfo$avg.width\n",
    "})\n",
    "head(sil_df <- data.frame(\n",
    "    k = 2:10,\n",
    "    sil_width = sil_width\n",
    "), 10)"
   ]
  },
  {
   "cell_type": "markdown",
   "metadata": {},
   "source": [
    "### Choosing K using average silhouette width"
   ]
  },
  {
   "cell_type": "code",
   "execution_count": 47,
   "metadata": {},
   "outputs": [
    {
     "data": {
      "image/png": "[encoded data removed]",
      "text/plain": [
       "plot without title"
      ]
     },
     "metadata": {},
     "output_type": "display_data"
    }
   ],
   "source": [
    "sil_df %>%\n",
    "    ggplot(aes(x=k, y=sil_width)) +\n",
    "    geom_line() +\n",
    "    scale_x_continuous(breaks = 2:10)"
   ]
  },
  {
   "cell_type": "markdown",
   "metadata": {},
   "source": [
    "## Making sense of the K-means clusters\n",
    "\n",
    "### Segmenting with K-means\n",
    "- Estimate the \"best\" k using average silhouette width\n",
    "- Run k-means with the suggested k\n",
    "- Characterize the spending habits of these clusters of customers\n"
   ]
  },
  {
   "cell_type": "markdown",
   "metadata": {},
   "source": [
    "### Revisiting wholesale data: \"Best\" k"
   ]
  },
  {
   "cell_type": "code",
   "execution_count": 48,
   "metadata": {},
   "outputs": [
    {
     "data": {
      "text/html": [
       "<table>\n",
       "<thead><tr><th scope=col>Milk</th><th scope=col>Grocery</th><th scope=col>Frozen</th></tr></thead>\n",
       "<tbody>\n",
       "\t<tr><td>11103</td><td>12469</td><td> 902 </td></tr>\n",
       "\t<tr><td> 2013</td><td> 6550</td><td> 909 </td></tr>\n",
       "\t<tr><td> 1897</td><td> 5234</td><td> 417 </td></tr>\n",
       "\t<tr><td> 1304</td><td> 3643</td><td>3045 </td></tr>\n",
       "\t<tr><td> 3199</td><td> 6986</td><td>1455 </td></tr>\n",
       "\t<tr><td> 4560</td><td> 9965</td><td> 934 </td></tr>\n",
       "\t<tr><td>  879</td><td> 2060</td><td> 264 </td></tr>\n",
       "\t<tr><td> 6243</td><td> 6360</td><td> 824 </td></tr>\n",
       "\t<tr><td>13316</td><td>20399</td><td>1809 </td></tr>\n",
       "\t<tr><td> 5302</td><td> 9785</td><td> 364 </td></tr>\n",
       "</tbody>\n",
       "</table>\n"
      ],
      "text/latex": [
       "\\begin{tabular}{r|lll}\n",
       " Milk & Grocery & Frozen\\\\\n",
       "\\hline\n",
       "\t 11103 & 12469 &  902 \\\\\n",
       "\t  2013 &  6550 &  909 \\\\\n",
       "\t  1897 &  5234 &  417 \\\\\n",
       "\t  1304 &  3643 & 3045 \\\\\n",
       "\t  3199 &  6986 & 1455 \\\\\n",
       "\t  4560 &  9965 &  934 \\\\\n",
       "\t   879 &  2060 &  264 \\\\\n",
       "\t  6243 &  6360 &  824 \\\\\n",
       "\t 13316 & 20399 & 1809 \\\\\n",
       "\t  5302 &  9785 &  364 \\\\\n",
       "\\end{tabular}\n"
      ],
      "text/markdown": [
       "\n",
       "| Milk | Grocery | Frozen |\n",
       "|---|---|---|\n",
       "| 11103 | 12469 |  902  |\n",
       "|  2013 |  6550 |  909  |\n",
       "|  1897 |  5234 |  417  |\n",
       "|  1304 |  3643 | 3045  |\n",
       "|  3199 |  6986 | 1455  |\n",
       "|  4560 |  9965 |  934  |\n",
       "|   879 |  2060 |  264  |\n",
       "|  6243 |  6360 |  824  |\n",
       "| 13316 | 20399 | 1809  |\n",
       "|  5302 |  9785 |  364  |\n",
       "\n"
      ],
      "text/plain": [
       "   Milk  Grocery Frozen\n",
       "1  11103 12469    902  \n",
       "2   2013  6550    909  \n",
       "3   1897  5234    417  \n",
       "4   1304  3643   3045  \n",
       "5   3199  6986   1455  \n",
       "6   4560  9965    934  \n",
       "7    879  2060    264  \n",
       "8   6243  6360    824  \n",
       "9  13316 20399   1809  \n",
       "10  5302  9785    364  "
      ]
     },
     "metadata": {},
     "output_type": "display_data"
    }
   ],
   "source": [
    "head(ws_customers, 10)"
   ]
  },
  {
   "cell_type": "code",
   "execution_count": 49,
   "metadata": {},
   "outputs": [
    {
     "data": {
      "image/png": "[encoded data removed]",
      "text/plain": [
       "plot without title"
      ]
     },
     "metadata": {},
     "output_type": "display_data"
    }
   ],
   "source": [
    "# Use map_dbl to run many models with varying value of k\n",
    "sil_width <- map_dbl(2:10,  function(k){\n",
    "  model <- pam(x = ws_customers, k = k)\n",
    "  model$silinfo$avg.width\n",
    "})\n",
    "\n",
    "# Generate a data frame containing both k and sil_width\n",
    "sil_df <- data.frame(\n",
    "  k = 2:10,\n",
    "  sil_width = sil_width\n",
    ")\n",
    "\n",
    "# Plot the relationship between k and sil_width\n",
    "ggplot(sil_df, aes(x = k, y = sil_width)) +\n",
    "  geom_line() +\n",
    "  scale_x_continuous(breaks = 2:10)"
   ]
  },
  {
   "cell_type": "markdown",
   "metadata": {},
   "source": [
    "k = 2 has the highest average sillhouette width and is the “best” value of k we will move forward with."
   ]
  },
  {
   "cell_type": "markdown",
   "metadata": {},
   "source": [
    "### Revisiting wholesale data: Exploration\n",
    "\n",
    "From the previous analysis we have found that k = 2 has the highest average silhouette width. We will continue to analyze the wholesale customer data by building and exploring a kmeans model with 2 clusters."
   ]
  },
  {
   "cell_type": "code",
   "execution_count": 50,
   "metadata": {},
   "outputs": [
    {
     "data": {
      "text/html": [
       "<table>\n",
       "<thead><tr><th scope=col>cluster</th><th scope=col>n</th></tr></thead>\n",
       "<tbody>\n",
       "\t<tr><td>1 </td><td>35</td></tr>\n",
       "\t<tr><td>2 </td><td>10</td></tr>\n",
       "</tbody>\n",
       "</table>\n"
      ],
      "text/latex": [
       "\\begin{tabular}{r|ll}\n",
       " cluster & n\\\\\n",
       "\\hline\n",
       "\t 1  & 35\\\\\n",
       "\t 2  & 10\\\\\n",
       "\\end{tabular}\n"
      ],
      "text/markdown": [
       "\n",
       "| cluster | n |\n",
       "|---|---|\n",
       "| 1  | 35 |\n",
       "| 2  | 10 |\n",
       "\n"
      ],
      "text/plain": [
       "  cluster n \n",
       "1 1       35\n",
       "2 2       10"
      ]
     },
     "metadata": {},
     "output_type": "display_data"
    }
   ],
   "source": [
    "set.seed(42)\n",
    "\n",
    "# Build a k-means model for the customers_spend with a k of 2\n",
    "model_customers <- kmeans(ws_customers, centers=2)\n",
    "\n",
    "# Extract the vector of cluster assignments from the model\n",
    "clust_customers <- model_customers$cluster\n",
    "\n",
    "# Build the segment_customers data frame\n",
    "segment_customers <- mutate(ws_customers, cluster = clust_customers)\n",
    "\n",
    "# Calculate the size of each cluster\n",
    "count(segment_customers, cluster)"
   ]
  },
  {
   "cell_type": "code",
   "execution_count": 51,
   "metadata": {},
   "outputs": [
    {
     "data": {
      "text/html": [
       "<table>\n",
       "<thead><tr><th scope=col>cluster</th><th scope=col>Milk</th><th scope=col>Grocery</th><th scope=col>Frozen</th></tr></thead>\n",
       "<tbody>\n",
       "\t<tr><td>1        </td><td> 2296.257</td><td> 5004    </td><td>3354.343 </td></tr>\n",
       "\t<tr><td>2        </td><td>13701.100</td><td>17721    </td><td>1173.000 </td></tr>\n",
       "</tbody>\n",
       "</table>\n"
      ],
      "text/latex": [
       "\\begin{tabular}{r|llll}\n",
       " cluster & Milk & Grocery & Frozen\\\\\n",
       "\\hline\n",
       "\t 1         &  2296.257 &  5004     & 3354.343 \\\\\n",
       "\t 2         & 13701.100 & 17721     & 1173.000 \\\\\n",
       "\\end{tabular}\n"
      ],
      "text/markdown": [
       "\n",
       "| cluster | Milk | Grocery | Frozen |\n",
       "|---|---|---|---|\n",
       "| 1         |  2296.257 |  5004     | 3354.343  |\n",
       "| 2         | 13701.100 | 17721     | 1173.000  |\n",
       "\n"
      ],
      "text/plain": [
       "  cluster Milk      Grocery Frozen  \n",
       "1 1        2296.257  5004   3354.343\n",
       "2 2       13701.100 17721   1173.000"
      ]
     },
     "metadata": {},
     "output_type": "display_data"
    }
   ],
   "source": [
    "# Calculate the mean for each category\n",
    "segment_customers %>% \n",
    "  group_by(cluster) %>% \n",
    "  summarise_all(list(mean))"
   ]
  },
  {
   "cell_type": "markdown",
   "metadata": {},
   "source": [
    "It seems that in this case cluster 1 consists of individuals who proportionally spend more on Frozen food while cluster 2 customers spent more on Milk and Grocery. When we explored this data using hierarchical clustering, the method resulted in 4 clusters while using k-means got us 2. Both of these results are valid, but which one is appropriate for this would require more subject matter expertise. Generating clusters is a science, but interpreting them is an art."
   ]
  },
  {
   "cell_type": "markdown",
   "metadata": {},
   "source": [
    "# Case Study: National Occupational mean wage\n",
    "\n",
    "Explore how the average salary amongst professions have changed over time."
   ]
  },
  {
   "cell_type": "markdown",
   "metadata": {},
   "source": [
    "## Occupational wage data\n",
    "\n",
    " data from the Occupational Employment Statistics (OES) program which produces employment and wage estimates annually. This data contains the yearly average income from 2001 to 2016 for 22 occupation groups. We would like to use this data to identify clusters of occupations that maintained similar income trends."
   ]
  },
  {
   "cell_type": "code",
   "execution_count": 53,
   "metadata": {},
   "outputs": [
    {
     "data": {
      "text/html": [
       "<table>\n",
       "<thead><tr><th></th><th scope=col>2001</th><th scope=col>2002</th><th scope=col>2003</th><th scope=col>2004</th><th scope=col>2005</th><th scope=col>2006</th><th scope=col>2007</th><th scope=col>2008</th><th scope=col>2010</th><th scope=col>2011</th><th scope=col>2012</th><th scope=col>2013</th><th scope=col>2014</th><th scope=col>2015</th><th scope=col>2016</th></tr></thead>\n",
       "<tbody>\n",
       "\t<tr><th scope=row>Management</th><td>70800 </td><td>78870 </td><td>83400 </td><td>87090 </td><td>88450 </td><td>91930 </td><td>96150 </td><td>100310</td><td>105440</td><td>107410</td><td>108570</td><td>110550</td><td>112490</td><td>115020</td><td>118020</td></tr>\n",
       "\t<tr><th scope=row>Business Operations</th><td>50580 </td><td>53350 </td><td>56000 </td><td>57120 </td><td>57930 </td><td>60000 </td><td>62410 </td><td> 64720</td><td> 67690</td><td> 68740</td><td> 69550</td><td> 71020</td><td> 72410</td><td> 73800</td><td> 75070</td></tr>\n",
       "\t<tr><th scope=row>Computer Science</th><td>60350 </td><td>61630 </td><td>64150 </td><td>66370 </td><td>67100 </td><td>69240 </td><td>72190 </td><td> 74500</td><td> 77230</td><td> 78730</td><td> 80180</td><td> 82010</td><td> 83970</td><td> 86170</td><td> 87880</td></tr>\n",
       "\t<tr><th scope=row>Architecture/Engineering</th><td>56330 </td><td>58020 </td><td>60390 </td><td>63060 </td><td>63910 </td><td>66190 </td><td>68880 </td><td> 71430</td><td> 75550</td><td> 77120</td><td> 79000</td><td> 80100</td><td> 81520</td><td> 82980</td><td> 84300</td></tr>\n",
       "\t<tr><th scope=row>Life/Physical/Social Sci.</th><td>49710 </td><td>52380 </td><td>54930 </td><td>57550 </td><td>58030 </td><td>59660 </td><td>62020 </td><td> 64280</td><td> 66390</td><td> 67470</td><td> 68360</td><td> 69400</td><td> 70070</td><td> 71220</td><td> 72930</td></tr>\n",
       "\t<tr><th scope=row>Community Services</th><td>34190 </td><td>34630 </td><td>35800 </td><td>37050 </td><td>37530 </td><td>39000 </td><td>40540 </td><td> 41790</td><td> 43180</td><td> 43830</td><td> 44240</td><td> 44710</td><td> 45310</td><td> 46160</td><td> 47200</td></tr>\n",
       "</tbody>\n",
       "</table>\n"
      ],
      "text/latex": [
       "\\begin{tabular}{r|lllllllllllllll}\n",
       "  & 2001 & 2002 & 2003 & 2004 & 2005 & 2006 & 2007 & 2008 & 2010 & 2011 & 2012 & 2013 & 2014 & 2015 & 2016\\\\\n",
       "\\hline\n",
       "\tManagement & 70800  & 78870  & 83400  & 87090  & 88450  & 91930  & 96150  & 100310 & 105440 & 107410 & 108570 & 110550 & 112490 & 115020 & 118020\\\\\n",
       "\tBusiness Operations & 50580  & 53350  & 56000  & 57120  & 57930  & 60000  & 62410  &  64720 &  67690 &  68740 &  69550 &  71020 &  72410 &  73800 &  75070\\\\\n",
       "\tComputer Science & 60350  & 61630  & 64150  & 66370  & 67100  & 69240  & 72190  &  74500 &  77230 &  78730 &  80180 &  82010 &  83970 &  86170 &  87880\\\\\n",
       "\tArchitecture/Engineering & 56330  & 58020  & 60390  & 63060  & 63910  & 66190  & 68880  &  71430 &  75550 &  77120 &  79000 &  80100 &  81520 &  82980 &  84300\\\\\n",
       "\tLife/Physical/Social Sci. & 49710  & 52380  & 54930  & 57550  & 58030  & 59660  & 62020  &  64280 &  66390 &  67470 &  68360 &  69400 &  70070 &  71220 &  72930\\\\\n",
       "\tCommunity Services & 34190  & 34630  & 35800  & 37050  & 37530  & 39000  & 40540  &  41790 &  43180 &  43830 &  44240 &  44710 &  45310 &  46160 &  47200\\\\\n",
       "\\end{tabular}\n"
      ],
      "text/markdown": [
       "\n",
       "| <!--/--> | 2001 | 2002 | 2003 | 2004 | 2005 | 2006 | 2007 | 2008 | 2010 | 2011 | 2012 | 2013 | 2014 | 2015 | 2016 |\n",
       "|---|---|---|---|---|---|---|---|---|---|---|---|---|---|---|---|\n",
       "| Management | 70800  | 78870  | 83400  | 87090  | 88450  | 91930  | 96150  | 100310 | 105440 | 107410 | 108570 | 110550 | 112490 | 115020 | 118020 |\n",
       "| Business Operations | 50580  | 53350  | 56000  | 57120  | 57930  | 60000  | 62410  |  64720 |  67690 |  68740 |  69550 |  71020 |  72410 |  73800 |  75070 |\n",
       "| Computer Science | 60350  | 61630  | 64150  | 66370  | 67100  | 69240  | 72190  |  74500 |  77230 |  78730 |  80180 |  82010 |  83970 |  86170 |  87880 |\n",
       "| Architecture/Engineering | 56330  | 58020  | 60390  | 63060  | 63910  | 66190  | 68880  |  71430 |  75550 |  77120 |  79000 |  80100 |  81520 |  82980 |  84300 |\n",
       "| Life/Physical/Social Sci. | 49710  | 52380  | 54930  | 57550  | 58030  | 59660  | 62020  |  64280 |  66390 |  67470 |  68360 |  69400 |  70070 |  71220 |  72930 |\n",
       "| Community Services | 34190  | 34630  | 35800  | 37050  | 37530  | 39000  | 40540  |  41790 |  43180 |  43830 |  44240 |  44710 |  45310 |  46160 |  47200 |\n",
       "\n"
      ],
      "text/plain": [
       "                          2001  2002  2003  2004  2005  2006  2007  2008  \n",
       "Management                70800 78870 83400 87090 88450 91930 96150 100310\n",
       "Business Operations       50580 53350 56000 57120 57930 60000 62410  64720\n",
       "Computer Science          60350 61630 64150 66370 67100 69240 72190  74500\n",
       "Architecture/Engineering  56330 58020 60390 63060 63910 66190 68880  71430\n",
       "Life/Physical/Social Sci. 49710 52380 54930 57550 58030 59660 62020  64280\n",
       "Community Services        34190 34630 35800 37050 37530 39000 40540  41790\n",
       "                          2010   2011   2012   2013   2014   2015   2016  \n",
       "Management                105440 107410 108570 110550 112490 115020 118020\n",
       "Business Operations        67690  68740  69550  71020  72410  73800  75070\n",
       "Computer Science           77230  78730  80180  82010  83970  86170  87880\n",
       "Architecture/Engineering   75550  77120  79000  80100  81520  82980  84300\n",
       "Life/Physical/Social Sci.  66390  67470  68360  69400  70070  71220  72930\n",
       "Community Services         43180  43830  44240  44710  45310  46160  47200"
      ]
     },
     "metadata": {},
     "output_type": "display_data"
    }
   ],
   "source": [
    "oes <- readRDS(gzcon(url(\"https://assets.datacamp.com/production/repositories/1219/datasets/1e1ec9f146a25d7c71a6f6f0f46c3de7bcefd36c/oes.rds\")))\n",
    "head(oes)"
   ]
  },
  {
   "cell_type": "markdown",
   "metadata": {},
   "source": [
    "- 22 Occupation Observations\n",
    "- 15 Measurements of Average Income from 2001-2016"
   ]
  },
  {
   "cell_type": "code",
   "execution_count": 54,
   "metadata": {},
   "outputs": [
    {
     "name": "stdout",
     "output_type": "stream",
     "text": [
      " num [1:22, 1:15] 70800 50580 60350 56330 49710 ...\n",
      " - attr(*, \"dimnames\")=List of 2\n",
      "  ..$ : chr [1:22] \"Management\" \"Business Operations\" \"Computer Science\" \"Architecture/Engineering\" ...\n",
      "  ..$ : chr [1:15] \"2001\" \"2002\" \"2003\" \"2004\" ...\n"
     ]
    }
   ],
   "source": [
    "glimpse(oes)"
   ]
  },
  {
   "cell_type": "code",
   "execution_count": 55,
   "metadata": {},
   "outputs": [
    {
     "data": {
      "text/plain": [
       "      2001            2002            2003            2004      \n",
       " Min.   :16720   Min.   :17180   Min.   :17400   Min.   :17620  \n",
       " 1st Qu.:26728   1st Qu.:27393   1st Qu.:27858   1st Qu.:28535  \n",
       " Median :34575   Median :35205   Median :36180   Median :37335  \n",
       " Mean   :37850   Mean   :39701   Mean   :41018   Mean   :42275  \n",
       " 3rd Qu.:49875   3rd Qu.:53108   3rd Qu.:55733   3rd Qu.:57443  \n",
       " Max.   :70800   Max.   :78870   Max.   :83400   Max.   :87090  \n",
       "      2005            2006            2007            2008       \n",
       " Min.   :17840   Min.   :18430   Min.   :19440   Min.   : 20220  \n",
       " 1st Qu.:29043   1st Qu.:29688   1st Qu.:30810   1st Qu.: 31643  \n",
       " Median :37790   Median :39030   Median :40235   Median : 41510  \n",
       " Mean   :42775   Mean   :44329   Mean   :46074   Mean   : 47763  \n",
       " 3rd Qu.:58005   3rd Qu.:59915   3rd Qu.:62313   3rd Qu.: 64610  \n",
       " Max.   :88450   Max.   :91930   Max.   :96150   Max.   :100310  \n",
       "      2010             2011             2012             2013       \n",
       " Min.   : 21240   Min.   : 21430   Min.   : 21380   Min.   : 21580  \n",
       " 1st Qu.: 32863   1st Qu.: 33430   1st Qu.: 33795   1st Qu.: 34120  \n",
       " Median : 42995   Median : 43610   Median : 44055   Median : 44565  \n",
       " Mean   : 49758   Mean   : 50555   Mean   : 51077   Mean   : 51800  \n",
       " 3rd Qu.: 67365   3rd Qu.: 68423   3rd Qu.: 69253   3rd Qu.: 70615  \n",
       " Max.   :105440   Max.   :107410   Max.   :108570   Max.   :110550  \n",
       "      2014             2015             2016       \n",
       " Min.   : 21980   Min.   : 22850   Min.   : 23850  \n",
       " 1st Qu.: 34718   1st Qu.: 35425   1st Qu.: 36350  \n",
       " Median : 45265   Median : 46075   Median : 46945  \n",
       " Mean   : 52643   Mean   : 53785   Mean   : 55117  \n",
       " 3rd Qu.: 71825   3rd Qu.: 73155   3rd Qu.: 74535  \n",
       " Max.   :112490   Max.   :115020   Max.   :118020  "
      ]
     },
     "metadata": {},
     "output_type": "display_data"
    }
   ],
   "source": [
    "summary(oes)"
   ]
  },
  {
   "cell_type": "code",
   "execution_count": 56,
   "metadata": {},
   "outputs": [
    {
     "data": {
      "text/html": [
       "<ol class=list-inline>\n",
       "\t<li>22</li>\n",
       "\t<li>15</li>\n",
       "</ol>\n"
      ],
      "text/latex": [
       "\\begin{enumerate*}\n",
       "\\item 22\n",
       "\\item 15\n",
       "\\end{enumerate*}\n"
      ],
      "text/markdown": [
       "1. 22\n",
       "2. 15\n",
       "\n",
       "\n"
      ],
      "text/plain": [
       "[1] 22 15"
      ]
     },
     "metadata": {},
     "output_type": "display_data"
    }
   ],
   "source": [
    "dim(oes)"
   ]
  },
  {
   "cell_type": "markdown",
   "metadata": {},
   "source": [
    "there are no missing values, no categorical and the features are on the same scale."
   ]
  },
  {
   "cell_type": "markdown",
   "metadata": {},
   "source": [
    "### Next steps: hierarchical clustering\n",
    "- Evaluate whether pre-processing is necessary\n",
    "- Create a distance matrix\n",
    "- Build a dendrogram\n",
    "- Extract clusters from dendrogram\n",
    "- Explore resulting clusters\n"
   ]
  },
  {
   "cell_type": "markdown",
   "metadata": {},
   "source": [
    "### Hierarchical clustering: Occupation trees\n",
    "\n",
    "The oes data is ready for hierarchical clustering without any preprocessing steps necessary. We will take the necessary steps to build a dendrogram of occupations based on their yearly average salaries and propose clusters using a height of 100,000."
   ]
  },
  {
   "cell_type": "code",
   "execution_count": 57,
   "metadata": {},
   "outputs": [
    {
     "data": {
      "image/png": "[encoded data removed]",
      "text/plain": [
       "plot without title"
      ]
     },
     "metadata": {},
     "output_type": "display_data"
    }
   ],
   "source": [
    "# Calculate Euclidean distance between the occupations\n",
    "dist_oes <- dist(oes, method = \"euclidean\")\n",
    "\n",
    "# Generate an average linkage analysis \n",
    "hc_oes <- hclust(dist_oes, method = \"average\")\n",
    "\n",
    "# Create a dendrogram object from the hclust variable\n",
    "dend_oes <- as.dendrogram(hc_oes)\n",
    "\n",
    "# Plot the dendrogram\n",
    "plot(dend_oes)\n",
    "\n"
   ]
  },
  {
   "cell_type": "code",
   "execution_count": 58,
   "metadata": {},
   "outputs": [
    {
     "data": {
      "image/png": "[encoded data removed]",
      "text/plain": [
       "plot without title"
      ]
     },
     "metadata": {},
     "output_type": "display_data"
    }
   ],
   "source": [
    "# Color branches by cluster formed from the cut at a height of 100000\n",
    "dend_colored <- color_branches(dend_oes, h = 100000)\n",
    "\n",
    "# Plot the colored dendrogram\n",
    "plot(dend_colored)"
   ]
  },
  {
   "cell_type": "markdown",
   "metadata": {},
   "source": [
    "Based on the dendrogram it may be reasonable to start with the three clusters formed at a height of 100,000. The members of these clusters appear to be tightly grouped but different from one another. Let's continue this exploration."
   ]
  },
  {
   "cell_type": "markdown",
   "metadata": {},
   "source": [
    "### Hierarchical clustering: Preparing for exploration\n",
    "\n",
    "We have now created a potential clustering for the `oes` data, before we can explore these clusters with ggplot2 we will need to process the `oes` data matrix into a tidy data frame with each occupation assigned its cluster.\n",
    "\n"
   ]
  },
  {
   "cell_type": "code",
   "execution_count": 61,
   "metadata": {},
   "outputs": [
    {
     "data": {
      "text/html": [
       "<table>\n",
       "<thead><tr><th scope=col>occupation</th><th scope=col>cluster</th><th scope=col>year</th><th scope=col>mean_salary</th></tr></thead>\n",
       "<tbody>\n",
       "\t<tr><td>Management                </td><td>1                         </td><td>2001                      </td><td>70800                     </td></tr>\n",
       "\t<tr><td>Business Operations       </td><td>2                         </td><td>2001                      </td><td>50580                     </td></tr>\n",
       "\t<tr><td>Computer Science          </td><td>2                         </td><td>2001                      </td><td>60350                     </td></tr>\n",
       "\t<tr><td>Architecture/Engineering  </td><td>2                         </td><td>2001                      </td><td>56330                     </td></tr>\n",
       "\t<tr><td>Life/Physical/Social Sci. </td><td>2                         </td><td>2001                      </td><td>49710                     </td></tr>\n",
       "\t<tr><td>Community Services        </td><td>3                         </td><td>2001                      </td><td>34190                     </td></tr>\n",
       "\t<tr><td>Legal                     </td><td>1                         </td><td>2001                      </td><td>69030                     </td></tr>\n",
       "\t<tr><td>Education/Training/Library</td><td>3                         </td><td>2001                      </td><td>39130                     </td></tr>\n",
       "\t<tr><td>Arts/Design/Entertainment </td><td>3                         </td><td>2001                      </td><td>39770                     </td></tr>\n",
       "\t<tr><td>Healthcare Practitioners  </td><td>2                         </td><td>2001                      </td><td>49930                     </td></tr>\n",
       "</tbody>\n",
       "</table>\n"
      ],
      "text/latex": [
       "\\begin{tabular}{r|llll}\n",
       " occupation & cluster & year & mean\\_salary\\\\\n",
       "\\hline\n",
       "\t Management                 & 1                          & 2001                       & 70800                     \\\\\n",
       "\t Business Operations        & 2                          & 2001                       & 50580                     \\\\\n",
       "\t Computer Science           & 2                          & 2001                       & 60350                     \\\\\n",
       "\t Architecture/Engineering   & 2                          & 2001                       & 56330                     \\\\\n",
       "\t Life/Physical/Social Sci.  & 2                          & 2001                       & 49710                     \\\\\n",
       "\t Community Services         & 3                          & 2001                       & 34190                     \\\\\n",
       "\t Legal                      & 1                          & 2001                       & 69030                     \\\\\n",
       "\t Education/Training/Library & 3                          & 2001                       & 39130                     \\\\\n",
       "\t Arts/Design/Entertainment  & 3                          & 2001                       & 39770                     \\\\\n",
       "\t Healthcare Practitioners   & 2                          & 2001                       & 49930                     \\\\\n",
       "\\end{tabular}\n"
      ],
      "text/markdown": [
       "\n",
       "| occupation | cluster | year | mean_salary |\n",
       "|---|---|---|---|\n",
       "| Management                 | 1                          | 2001                       | 70800                      |\n",
       "| Business Operations        | 2                          | 2001                       | 50580                      |\n",
       "| Computer Science           | 2                          | 2001                       | 60350                      |\n",
       "| Architecture/Engineering   | 2                          | 2001                       | 56330                      |\n",
       "| Life/Physical/Social Sci.  | 2                          | 2001                       | 49710                      |\n",
       "| Community Services         | 3                          | 2001                       | 34190                      |\n",
       "| Legal                      | 1                          | 2001                       | 69030                      |\n",
       "| Education/Training/Library | 3                          | 2001                       | 39130                      |\n",
       "| Arts/Design/Entertainment  | 3                          | 2001                       | 39770                      |\n",
       "| Healthcare Practitioners   | 2                          | 2001                       | 49930                      |\n",
       "\n"
      ],
      "text/plain": [
       "   occupation                 cluster year mean_salary\n",
       "1  Management                 1       2001 70800      \n",
       "2  Business Operations        2       2001 50580      \n",
       "3  Computer Science           2       2001 60350      \n",
       "4  Architecture/Engineering   2       2001 56330      \n",
       "5  Life/Physical/Social Sci.  2       2001 49710      \n",
       "6  Community Services         3       2001 34190      \n",
       "7  Legal                      1       2001 69030      \n",
       "8  Education/Training/Library 3       2001 39130      \n",
       "9  Arts/Design/Entertainment  3       2001 39770      \n",
       "10 Healthcare Practitioners   2       2001 49930      "
      ]
     },
     "metadata": {},
     "output_type": "display_data"
    }
   ],
   "source": [
    "# Use rownames_to_column to move the rownames into a column of the data frame\n",
    "df_oes <- rownames_to_column(as.data.frame(oes), var = 'occupation')\n",
    "\n",
    "# Create a cluster assignment vector at h = 100,000\n",
    "cut_oes <- cutree(hc_oes, h = 100000)\n",
    "\n",
    "# Generate the segmented the oes data frame\n",
    "clust_oes <- mutate(df_oes, cluster = cut_oes)\n",
    "\n",
    "# Create a tidy data frame by gathering the year and values into two columns\n",
    "head(gathered_oes <- gather(data = clust_oes, \n",
    "                       key = year, \n",
    "                       value = mean_salary, \n",
    "                       -occupation, -cluster), 10)"
   ]
  },
  {
   "cell_type": "markdown",
   "metadata": {},
   "source": [
    "### Hierarchical clustering: Plotting occupational clusters\n",
    "\n",
    "We have succesfully created all the parts necessary to explore the results of this hierarchical clustering work. We will leverage the named assignment vector `cut_oes` and the tidy data frame `gathered_oes` to analyze the resulting clusters."
   ]
  },
  {
   "cell_type": "code",
   "execution_count": 62,
   "metadata": {},
   "outputs": [
    {
     "data": {
      "text/html": [
       "<dl class=dl-horizontal>\n",
       "\t<dt>Management</dt>\n",
       "\t\t<dd>1</dd>\n",
       "\t<dt>Legal</dt>\n",
       "\t\t<dd>1</dd>\n",
       "\t<dt>Business Operations</dt>\n",
       "\t\t<dd>2</dd>\n",
       "\t<dt>Computer Science</dt>\n",
       "\t\t<dd>2</dd>\n",
       "\t<dt>Architecture/Engineering</dt>\n",
       "\t\t<dd>2</dd>\n",
       "\t<dt>Life/Physical/Social Sci.</dt>\n",
       "\t\t<dd>2</dd>\n",
       "\t<dt>Healthcare Practitioners</dt>\n",
       "\t\t<dd>2</dd>\n",
       "\t<dt>Community Services</dt>\n",
       "\t\t<dd>3</dd>\n",
       "\t<dt>Education/Training/Library</dt>\n",
       "\t\t<dd>3</dd>\n",
       "\t<dt>Arts/Design/Entertainment</dt>\n",
       "\t\t<dd>3</dd>\n",
       "\t<dt>Healthcare Support</dt>\n",
       "\t\t<dd>3</dd>\n",
       "\t<dt>Protective Service</dt>\n",
       "\t\t<dd>3</dd>\n",
       "\t<dt>Food Preparation</dt>\n",
       "\t\t<dd>3</dd>\n",
       "\t<dt>Grounds Cleaning &amp; Maint.</dt>\n",
       "\t\t<dd>3</dd>\n",
       "\t<dt>Personal Care</dt>\n",
       "\t\t<dd>3</dd>\n",
       "\t<dt>Sales</dt>\n",
       "\t\t<dd>3</dd>\n",
       "\t<dt>Office Administrative</dt>\n",
       "\t\t<dd>3</dd>\n",
       "\t<dt>Farming/Fishing/Forestry</dt>\n",
       "\t\t<dd>3</dd>\n",
       "\t<dt>Construction</dt>\n",
       "\t\t<dd>3</dd>\n",
       "\t<dt>Installation/Repair/Maint.</dt>\n",
       "\t\t<dd>3</dd>\n",
       "\t<dt>Production</dt>\n",
       "\t\t<dd>3</dd>\n",
       "\t<dt>Transportation/Moving</dt>\n",
       "\t\t<dd>3</dd>\n",
       "</dl>\n"
      ],
      "text/latex": [
       "\\begin{description*}\n",
       "\\item[Management] 1\n",
       "\\item[Legal] 1\n",
       "\\item[Business Operations] 2\n",
       "\\item[Computer Science] 2\n",
       "\\item[Architecture/Engineering] 2\n",
       "\\item[Life/Physical/Social Sci.] 2\n",
       "\\item[Healthcare Practitioners] 2\n",
       "\\item[Community Services] 3\n",
       "\\item[Education/Training/Library] 3\n",
       "\\item[Arts/Design/Entertainment] 3\n",
       "\\item[Healthcare Support] 3\n",
       "\\item[Protective Service] 3\n",
       "\\item[Food Preparation] 3\n",
       "\\item[Grounds Cleaning \\textbackslash{}\\& Maint.] 3\n",
       "\\item[Personal Care] 3\n",
       "\\item[Sales] 3\n",
       "\\item[Office Administrative] 3\n",
       "\\item[Farming/Fishing/Forestry] 3\n",
       "\\item[Construction] 3\n",
       "\\item[Installation/Repair/Maint.] 3\n",
       "\\item[Production] 3\n",
       "\\item[Transportation/Moving] 3\n",
       "\\end{description*}\n"
      ],
      "text/markdown": [
       "Management\n",
       ":   1Legal\n",
       ":   1Business Operations\n",
       ":   2Computer Science\n",
       ":   2Architecture/Engineering\n",
       ":   2Life/Physical/Social Sci.\n",
       ":   2Healthcare Practitioners\n",
       ":   2Community Services\n",
       ":   3Education/Training/Library\n",
       ":   3Arts/Design/Entertainment\n",
       ":   3Healthcare Support\n",
       ":   3Protective Service\n",
       ":   3Food Preparation\n",
       ":   3Grounds Cleaning &amp;amp; Maint.\n",
       ":   3Personal Care\n",
       ":   3Sales\n",
       ":   3Office Administrative\n",
       ":   3Farming/Fishing/Forestry\n",
       ":   3Construction\n",
       ":   3Installation/Repair/Maint.\n",
       ":   3Production\n",
       ":   3Transportation/Moving\n",
       ":   3\n",
       "\n"
      ],
      "text/plain": [
       "                Management                      Legal \n",
       "                         1                          1 \n",
       "       Business Operations           Computer Science \n",
       "                         2                          2 \n",
       "  Architecture/Engineering  Life/Physical/Social Sci. \n",
       "                         2                          2 \n",
       "  Healthcare Practitioners         Community Services \n",
       "                         2                          3 \n",
       "Education/Training/Library  Arts/Design/Entertainment \n",
       "                         3                          3 \n",
       "        Healthcare Support         Protective Service \n",
       "                         3                          3 \n",
       "          Food Preparation  Grounds Cleaning & Maint. \n",
       "                         3                          3 \n",
       "             Personal Care                      Sales \n",
       "                         3                          3 \n",
       "     Office Administrative   Farming/Fishing/Forestry \n",
       "                         3                          3 \n",
       "              Construction Installation/Repair/Maint. \n",
       "                         3                          3 \n",
       "                Production      Transportation/Moving \n",
       "                         3                          3 "
      ]
     },
     "metadata": {},
     "output_type": "display_data"
    }
   ],
   "source": [
    "# View the clustering assignments by sorting the cluster assignment vector\n",
    "sort(cut_oes)\n",
    "\n"
   ]
  },
  {
   "cell_type": "code",
   "execution_count": 63,
   "metadata": {},
   "outputs": [
    {
     "data": {
      "image/png": "[encoded data removed]",
      "text/plain": [
       "plot without title"
      ]
     },
     "metadata": {},
     "output_type": "display_data"
    }
   ],
   "source": [
    "# Plot the relationship between mean_salary and year and color the lines by the assigned cluster\n",
    "ggplot(gathered_oes, aes(x = year, y = mean_salary, color = factor(cluster))) + \n",
    "    geom_line(aes(group = occupation))\n"
   ]
  },
  {
   "cell_type": "markdown",
   "metadata": {},
   "source": [
    "From this work it looks like both Management & Legal professions (cluster 1) experienced the most rapid growth in these 15 years. Let's see what we can get by exploring this data using k-means."
   ]
  },
  {
   "cell_type": "markdown",
   "metadata": {},
   "source": [
    "## Reviewing the HC results\n",
    "\n",
    "### Next steps: k-means clustering\n",
    "- Evaluate whether pre-processing is necessary \n",
    "- Estimate the \"best\" k using the elbow plot \n",
    "- Estimate the \"best\" k using the maximum average silhouette width \n",
    "- Explore resulting clusters\n"
   ]
  },
  {
   "cell_type": "markdown",
   "metadata": {},
   "source": [
    "### K-means: Elbow analysis\n",
    "\n",
    "leverage the k-means elbow plot to propose the \"best\" number of clusters."
   ]
  },
  {
   "cell_type": "code",
   "execution_count": 64,
   "metadata": {},
   "outputs": [
    {
     "data": {
      "image/png": "[encoded data removed]",
      "text/plain": [
       "plot without title"
      ]
     },
     "metadata": {},
     "output_type": "display_data"
    }
   ],
   "source": [
    "# Use map_dbl to run many models with varying value of k (centers)\n",
    "tot_withinss <- map_dbl(1:10,  function(k){\n",
    "  model <- kmeans(x = oes, centers = k)\n",
    "  model$tot.withinss\n",
    "})\n",
    "\n",
    "# Generate a data frame containing both k and tot_withinss\n",
    "elbow_df <- data.frame(\n",
    "  k = 1:10,\n",
    "  tot_withinss = tot_withinss\n",
    ")\n",
    "\n",
    "# Plot the elbow plot\n",
    "ggplot(elbow_df, aes(x = k, y = tot_withinss)) +\n",
    "  geom_line() +\n",
    "  scale_x_continuous(breaks = 1:10)"
   ]
  },
  {
   "cell_type": "markdown",
   "metadata": {},
   "source": [
    "### K-means: Average Silhouette Widths\n",
    "So hierarchical clustering resulting in 3 clusters and the elbow method suggests 2. We will use average silhouette widths to explore what the \"best\" value of k should be."
   ]
  },
  {
   "cell_type": "code",
   "execution_count": 65,
   "metadata": {},
   "outputs": [
    {
     "data": {
      "image/png": "[encoded data removed]",
      "text/plain": [
       "plot without title"
      ]
     },
     "metadata": {},
     "output_type": "display_data"
    }
   ],
   "source": [
    "# Use map_dbl to run many models with varying value of k\n",
    "sil_width <- map_dbl(2:10,  function(k){\n",
    "  model <- pam(oes, k = k)\n",
    "  model$silinfo$avg.width\n",
    "})\n",
    "\n",
    "# Generate a data frame containing both k and sil_width\n",
    "sil_df <- data.frame(\n",
    "  k = 2:10,\n",
    "  sil_width = sil_width\n",
    ")\n",
    "\n",
    "# Plot the relationship between k and sil_width\n",
    "ggplot(sil_df, aes(x = k, y = sil_width)) +\n",
    "  geom_line() +\n",
    "  scale_x_continuous(breaks = 2:10)"
   ]
  },
  {
   "cell_type": "markdown",
   "metadata": {},
   "source": [
    "It seems that this analysis results in another value of k, this time 7 is the top contender (although 2 comes very close)."
   ]
  },
  {
   "cell_type": "markdown",
   "metadata": {},
   "source": [
    "### Comparing the two clustering methods\n",
    "||Hierarchical Clustering|k-means|\n",
    "|---|---|---|\n",
    "|Distance Used:|virtually any|euclidean only|\n",
    "|Results Stable:|Yes|No|\n",
    "|Evaluating # of Clusters:|dendrogram, silhouette,elbow|silhouette,elbow|\n",
    "|Computation Complexity:|Relatively Higher|RelativelyLower|"
   ]
  }
 ],
 "metadata": {
  "kernelspec": {
   "display_name": "R",
   "language": "R",
   "name": "ir"
  },
  "language_info": {
   "codemirror_mode": "r",
   "file_extension": ".r",
   "mimetype": "text/x-r-source",
   "name": "R",
   "pygments_lexer": "r",
   "version": "3.6.1"
  }
 },
 "nbformat": 4,
 "nbformat_minor": 4
}
