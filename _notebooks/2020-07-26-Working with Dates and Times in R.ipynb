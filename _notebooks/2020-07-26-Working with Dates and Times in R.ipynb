{
 "cells": [
  {
   "cell_type": "markdown",
   "metadata": {},
   "source": [
    "# Overview\n",
    "\n",
    "Dates and times are abundant in data and essential for answering questions that start with when, how long, or how often. However, they can be tricky, as they come in a variety of formats and can behave in unintuitive ways. This article teaches you the essentials of parsing, manipulating, and computing with dates and times in R. By the end, we'll have mastered the lubridate package, a member of the tidyverse, specifically designed to handle dates and times. we'll also have applied the new skills to explore how often R versions are released, when the weather is good in Auckland (the birthplace of R), and how long monarchs ruled in Britain."
   ]
  },
  {
   "cell_type": "markdown",
   "metadata": {},
   "source": [
    "# Libraries"
   ]
  },
  {
   "cell_type": "code",
   "execution_count": 174,
   "metadata": {},
   "outputs": [
    {
     "name": "stderr",
     "output_type": "stream",
     "text": [
      "Warning message:\n",
      "\"package 'microbenchmark' was built under R version 3.6.3\""
     ]
    }
   ],
   "source": [
    "library(readr)\n",
    "library(anytime)\n",
    "library(ggplot2)\n",
    "library(dplyr)\n",
    "library(lubridate)\n",
    "library(ggridges)\n",
    "library(fasttime)\n",
    "library(tidyverse)\n",
    "library(microbenchmark)"
   ]
  },
  {
   "cell_type": "code",
   "execution_count": 173,
   "metadata": {},
   "outputs": [
    {
     "name": "stdout",
     "output_type": "stream",
     "text": [
      "package 'microbenchmark' successfully unpacked and MD5 sums checked\n",
      "\n",
      "The downloaded binary packages are in\n",
      "\tC:\\Users\\user\\AppData\\Local\\Temp\\RtmpUtbNCC\\downloaded_packages\n"
     ]
    }
   ],
   "source": [
    "install.packages(\"microbenchmark\")"
   ]
  },
  {
   "cell_type": "markdown",
   "metadata": {},
   "source": [
    "# Dates and Times in R\n",
    "\n",
    "R doesn't know something is a date or time unless you tell it. We'll explore some of the ways R stores dates and times by exploring how often R versions are released, and how quickly people download them."
   ]
  },
  {
   "cell_type": "markdown",
   "metadata": {},
   "source": [
    "## Introduction to dates\n",
    "\n",
    "\n",
    "> ### Dates\n",
    "- Different conventions in different places\n",
    "- 27th Feb 2013\n",
    "  - **NZ**: 27/2/2013\n",
    "  - **USA**: 2/27/2013\n",
    "\n",
    "> ### The global standard numeric date format\n",
    "![image.png](datasets/iso_announcement.png){% fn 1%}\n",
    "\n",
    "> ### ISO 8601 YYYY-MM-DD\n",
    "- Values ordered from the largest to smallest unit of time\n",
    "- Each has a xed number of digits, must be padded with leadingzeros\n",
    "- Either, no separators for computers, or - in dates\n",
    "  - 1st of January 2011 -> 2011-01-01\n",
    "\n",
    "> Dates in R\n",
    "- Packages that importd ates:`readr`,`anytime`\n"
   ]
  },
  {
   "cell_type": "code",
   "execution_count": 2,
   "metadata": {},
   "outputs": [
    {
     "data": {
      "text/html": [
       "1974"
      ],
      "text/latex": [
       "1974"
      ],
      "text/markdown": [
       "1974"
      ],
      "text/plain": [
       "[1] 1974"
      ]
     },
     "metadata": {},
     "output_type": "display_data"
    }
   ],
   "source": [
    "2003-02-27"
   ]
  },
  {
   "cell_type": "code",
   "execution_count": 3,
   "metadata": {},
   "outputs": [
    {
     "data": {
      "text/html": [
       "<time datetime=\"2003-02-27\">2003-02-27</time>"
      ],
      "text/latex": [
       "2003-02-27"
      ],
      "text/markdown": [
       "2003-02-27"
      ],
      "text/plain": [
       "[1] \"2003-02-27\""
      ]
     },
     "metadata": {},
     "output_type": "display_data"
    }
   ],
   "source": [
    "as.Date(\"2003-02-27\")"
   ]
  },
  {
   "cell_type": "code",
   "execution_count": 4,
   "metadata": {},
   "outputs": [
    {
     "data": {
      "text/html": [
       "'2003-02-27'"
      ],
      "text/latex": [
       "'2003-02-27'"
      ],
      "text/markdown": [
       "'2003-02-27'"
      ],
      "text/plain": [
       "[1] \"2003-02-27\""
      ]
     },
     "metadata": {},
     "output_type": "display_data"
    }
   ],
   "source": [
    "\"2003-02-27\""
   ]
  },
  {
   "cell_type": "code",
   "execution_count": 5,
   "metadata": {},
   "outputs": [
    {
     "name": "stdout",
     "output_type": "stream",
     "text": [
      " chr \"2003-02-27\"\n"
     ]
    }
   ],
   "source": [
    "str(\"2003-02-27\")"
   ]
  },
  {
   "cell_type": "code",
   "execution_count": 6,
   "metadata": {},
   "outputs": [
    {
     "name": "stdout",
     "output_type": "stream",
     "text": [
      " Date[1:1], format: \"2003-02-27\"\n"
     ]
    }
   ],
   "source": [
    "str(as.Date(\"2003-02-27\"))"
   ]
  },
  {
   "cell_type": "markdown",
   "metadata": {},
   "source": [
    "### Specifying dates\n",
    "\n",
    "R doesn't know something is a date unless you tell it. If you have a character string that represents a date in the ISO 8601 standard you can turn it into a [Date](https://www.rdocumentation.org/packages/base/versions/3.4.1/topics/Dates) using the [`as.Date()`](https://www.rdocumentation.org/packages/base/topics/as.Date) function. Just pass the character string (or a vector of character strings) as the first argument.\n",
    "\n",
    "We'll convert a character string representation of a date to a `Date` object."
   ]
  },
  {
   "cell_type": "code",
   "execution_count": 7,
   "metadata": {},
   "outputs": [
    {
     "name": "stdout",
     "output_type": "stream",
     "text": [
      " chr \"2013-04-03\"\n",
      " Date[1:1], format: \"2013-04-03\"\n"
     ]
    },
    {
     "data": {
      "text/html": [
       "<time datetime=\"2014-04-10\">2014-04-10</time>"
      ],
      "text/latex": [
       "2014-04-10"
      ],
      "text/markdown": [
       "2014-04-10"
      ],
      "text/plain": [
       "[1] \"2014-04-10\""
      ]
     },
     "metadata": {},
     "output_type": "display_data"
    }
   ],
   "source": [
    "# The date R 3.0.0 was released\n",
    "x <- \"2013-04-03\"\n",
    "\n",
    "# Examine structure of x\n",
    "str(x)\n",
    "\n",
    "# Use as.Date() to interpret x as a date\n",
    "x_date <- as.Date(x)\n",
    "\n",
    "# Examine structure of x_date\n",
    "str(x_date)\n",
    "\n",
    "# Store April 10 2014 as a Date\n",
    "april_10_2014 <- as.Date(\"2014-04-10\")\n",
    "april_10_2014"
   ]
  },
  {
   "cell_type": "markdown",
   "metadata": {},
   "source": [
    "### Automatic import\n",
    "\n",
    "Sometimes we'll need to input a couple of dates by hand using as.Date() but it's much more common to have a column of dates in a data file.\n",
    "\n",
    "Some functions that read in data will automatically recognize and parse dates in a variety of formats. In particular the import functions, like [`read_csv()`](https://www.rdocumentation.org/packages/readr/topics/read_csv), in the `readr` package will recognize dates in a few common formats.\n",
    "\n",
    "There is also the [`anytime()`](https://www.rdocumentation.org/packages/anytime/topics/anytime) function in the `anytime` package whose sole goal is to automatically parse strings as dates regardless of the format."
   ]
  },
  {
   "cell_type": "code",
   "execution_count": 8,
   "metadata": {},
   "outputs": [
    {
     "name": "stderr",
     "output_type": "stream",
     "text": [
      "Parsed with column specification:\n",
      "cols(\n",
      "  major = col_double(),\n",
      "  minor = col_double(),\n",
      "  patch = col_double(),\n",
      "  date = col_date(format = \"\"),\n",
      "  datetime = col_datetime(format = \"\"),\n",
      "  time = col_time(format = \"\"),\n",
      "  type = col_character()\n",
      ")\n"
     ]
    },
    {
     "name": "stdout",
     "output_type": "stream",
     "text": [
      " Date[1:105], format: \"1997-12-04\" \"1997-12-21\" \"1998-01-10\" \"1998-03-14\" \"1998-05-02\" ...\n"
     ]
    },
    {
     "data": {
      "text/plain": [
       "[1] \"2009-09-10 EAT\" \"2009-09-10 EAT\" \"2009-09-10 EAT\" \"2009-09-10 EAT\""
      ]
     },
     "metadata": {},
     "output_type": "display_data"
    }
   ],
   "source": [
    "# Use read_csv() to import rversions.csv\n",
    "releases <- read_csv('datasets/rversions.csv')\n",
    "\n",
    "# Examine the structure of the date column\n",
    "str(releases$date)\n",
    "\n",
    "# Various ways of writing Sep 10 2009\n",
    "sep_10_2009 <- c(\"September 10 2009\", \"2009-09-10\", \"10 Sep 2009\", \"09-10-2009\")\n",
    "\n",
    "# Use anytime() to parse sep_10_2009\n",
    "anytime(sep_10_2009)"
   ]
  },
  {
   "cell_type": "markdown",
   "metadata": {},
   "source": [
    "## Why use dates?\n",
    "\n",
    "> ### Dates act like numbers\n",
    "- Date objects are stored as days since 1970-01-01"
   ]
  },
  {
   "cell_type": "code",
   "execution_count": 9,
   "metadata": {},
   "outputs": [
    {
     "data": {
      "text/html": [
       "TRUE"
      ],
      "text/latex": [
       "TRUE"
      ],
      "text/markdown": [
       "TRUE"
      ],
      "text/plain": [
       "[1] TRUE"
      ]
     },
     "metadata": {},
     "output_type": "display_data"
    }
   ],
   "source": [
    "as.Date(\"2020-07-13\") > as.Date(\"2020-01-01\")"
   ]
  },
  {
   "cell_type": "code",
   "execution_count": 10,
   "metadata": {},
   "outputs": [
    {
     "data": {
      "text/html": [
       "<time datetime=\"2020-07-13\">2020-07-13</time>"
      ],
      "text/latex": [
       "2020-07-13"
      ],
      "text/markdown": [
       "2020-07-13"
      ],
      "text/plain": [
       "[1] \"2020-07-13\""
      ]
     },
     "metadata": {},
     "output_type": "display_data"
    }
   ],
   "source": [
    "as.Date(\"2020-07-10\") + 3"
   ]
  },
  {
   "cell_type": "code",
   "execution_count": 11,
   "metadata": {},
   "outputs": [
    {
     "data": {
      "text/plain": [
       "Time difference of 366 days"
      ]
     },
     "metadata": {},
     "output_type": "display_data"
    }
   ],
   "source": [
    "as.Date(\"2020-07-13\") - as.Date(\"2019-07-13\")"
   ]
  },
  {
   "cell_type": "markdown",
   "metadata": {},
   "source": [
    "> ### Plotting with dates"
   ]
  },
  {
   "cell_type": "code",
   "execution_count": 12,
   "metadata": {},
   "outputs": [
    {
     "data": {
      "image/png": "[encoded data removed]",
      "text/plain": [
       "plot without title"
      ]
     },
     "metadata": {},
     "output_type": "display_data"
    }
   ],
   "source": [
    "first_days = c(as.Date(\"2020-01-01\"), as.Date(\"2020-02-01\"), \n",
    "               as.Date(\"2020-03-01\"), as.Date(\"2020-04-01\"), \n",
    "               as.Date(\"2020-05-01\"), as.Date(\"2020-06-01\"), \n",
    "               as.Date(\"2020-07-01\"), as.Date(\"2020-08-01\"))\n",
    "plot(first_days, 1:8)"
   ]
  },
  {
   "cell_type": "code",
   "execution_count": 13,
   "metadata": {},
   "outputs": [
    {
     "data": {
      "image/png": "[encoded data removed]",
      "text/plain": [
       "plot without title"
      ]
     },
     "metadata": {},
     "output_type": "display_data"
    }
   ],
   "source": [
    "ggplot() + geom_point(aes(x=first_days, y=1:8))"
   ]
  },
  {
   "cell_type": "markdown",
   "metadata": {},
   "source": [
    "> ### R releases"
   ]
  },
  {
   "cell_type": "code",
   "execution_count": 14,
   "metadata": {},
   "outputs": [
    {
     "data": {
      "text/html": [
       "<table>\n",
       "<thead><tr><th scope=col>major</th><th scope=col>minor</th><th scope=col>patch</th><th scope=col>date</th><th scope=col>datetime</th><th scope=col>time</th><th scope=col>type</th></tr></thead>\n",
       "<tbody>\n",
       "\t<tr><td>0                  </td><td>60                 </td><td>NA                 </td><td>1997-12-04         </td><td>1997-12-04 08:47:58</td><td>08:47:58           </td><td>patch              </td></tr>\n",
       "\t<tr><td>0                  </td><td>61                 </td><td>NA                 </td><td>1997-12-21         </td><td>1997-12-21 13:09:22</td><td>13:09:22           </td><td>minor              </td></tr>\n",
       "\t<tr><td>0                  </td><td>61                 </td><td> 1                 </td><td>1998-01-10         </td><td>1998-01-10 00:31:55</td><td>00:31:55           </td><td>patch              </td></tr>\n",
       "\t<tr><td>0                  </td><td>61                 </td><td> 2                 </td><td>1998-03-14         </td><td>1998-03-14 19:25:55</td><td>19:25:55           </td><td>patch              </td></tr>\n",
       "\t<tr><td>0                  </td><td>61                 </td><td> 3                 </td><td>1998-05-02         </td><td>1998-05-02 07:58:17</td><td>07:58:17           </td><td>patch              </td></tr>\n",
       "\t<tr><td>0                  </td><td>62                 </td><td>NA                 </td><td>1998-06-14         </td><td>1998-06-14 12:56:20</td><td>12:56:20           </td><td>minor              </td></tr>\n",
       "</tbody>\n",
       "</table>\n"
      ],
      "text/latex": [
       "\\begin{tabular}{r|lllllll}\n",
       " major & minor & patch & date & datetime & time & type\\\\\n",
       "\\hline\n",
       "\t 0                   & 60                  & NA                  & 1997-12-04          & 1997-12-04 08:47:58 & 08:47:58            & patch              \\\\\n",
       "\t 0                   & 61                  & NA                  & 1997-12-21          & 1997-12-21 13:09:22 & 13:09:22            & minor              \\\\\n",
       "\t 0                   & 61                  &  1                  & 1998-01-10          & 1998-01-10 00:31:55 & 00:31:55            & patch              \\\\\n",
       "\t 0                   & 61                  &  2                  & 1998-03-14          & 1998-03-14 19:25:55 & 19:25:55            & patch              \\\\\n",
       "\t 0                   & 61                  &  3                  & 1998-05-02          & 1998-05-02 07:58:17 & 07:58:17            & patch              \\\\\n",
       "\t 0                   & 62                  & NA                  & 1998-06-14          & 1998-06-14 12:56:20 & 12:56:20            & minor              \\\\\n",
       "\\end{tabular}\n"
      ],
      "text/markdown": [
       "\n",
       "| major | minor | patch | date | datetime | time | type |\n",
       "|---|---|---|---|---|---|---|\n",
       "| 0                   | 60                  | NA                  | 1997-12-04          | 1997-12-04 08:47:58 | 08:47:58            | patch               |\n",
       "| 0                   | 61                  | NA                  | 1997-12-21          | 1997-12-21 13:09:22 | 13:09:22            | minor               |\n",
       "| 0                   | 61                  |  1                  | 1998-01-10          | 1998-01-10 00:31:55 | 00:31:55            | patch               |\n",
       "| 0                   | 61                  |  2                  | 1998-03-14          | 1998-03-14 19:25:55 | 19:25:55            | patch               |\n",
       "| 0                   | 61                  |  3                  | 1998-05-02          | 1998-05-02 07:58:17 | 07:58:17            | patch               |\n",
       "| 0                   | 62                  | NA                  | 1998-06-14          | 1998-06-14 12:56:20 | 12:56:20            | minor               |\n",
       "\n"
      ],
      "text/plain": [
       "  major minor patch date       datetime            time     type \n",
       "1 0     60    NA    1997-12-04 1997-12-04 08:47:58 08:47:58 patch\n",
       "2 0     61    NA    1997-12-21 1997-12-21 13:09:22 13:09:22 minor\n",
       "3 0     61     1    1998-01-10 1998-01-10 00:31:55 00:31:55 patch\n",
       "4 0     61     2    1998-03-14 1998-03-14 19:25:55 19:25:55 patch\n",
       "5 0     61     3    1998-05-02 1998-05-02 07:58:17 07:58:17 patch\n",
       "6 0     62    NA    1998-06-14 1998-06-14 12:56:20 12:56:20 minor"
      ]
     },
     "metadata": {},
     "output_type": "display_data"
    }
   ],
   "source": [
    "head(releases)"
   ]
  },
  {
   "cell_type": "markdown",
   "metadata": {},
   "source": [
    "### Plotting\n",
    "\n",
    "If you plot a `Date` on the axis of a plot, you expect the dates to be in calendar order, and that's exactly what happens with [`plot()`](https://www.rdocumentation.org/packages/graphics/topics/plot) or [`ggplot()`](https://www.rdocumentation.org/packages/ggplot2/topics/ggplot).\n",
    "\n",
    "We'll make some plots with the R version `releases` data using ggplot2. There are two big differences when a `Date` is on an axis:\n",
    "\n",
    "1. If you specify limits they must be Date objects.\n",
    "2. To control the behavior of the scale we'll use the `scale_x_date()` function."
   ]
  },
  {
   "cell_type": "code",
   "execution_count": 15,
   "metadata": {},
   "outputs": [
    {
     "name": "stderr",
     "output_type": "stream",
     "text": [
      "Warning message:\n",
      "\"Removed 87 row(s) containing missing values (geom_path).\""
     ]
    },
    {
     "data": {
      "image/png": "[encoded data removed]",
      "text/plain": [
       "plot without title"
      ]
     },
     "metadata": {},
     "output_type": "display_data"
    },
    {
     "data": {
      "image/png": "[encoded data removed]",
      "text/plain": [
       "plot without title"
      ]
     },
     "metadata": {},
     "output_type": "display_data"
    },
    {
     "data": {
      "image/png": "[encoded data removed]",
      "text/plain": [
       "plot without title"
      ]
     },
     "metadata": {},
     "output_type": "display_data"
    }
   ],
   "source": [
    "# Set the x axis to the date column\n",
    "ggplot(releases, aes(x = date, y = type)) +\n",
    "  geom_line(aes(group = 1, color = factor(major)))\n",
    "\n",
    "# Limit the axis to between 2010-01-01 and 2014-01-01\n",
    "ggplot(releases, aes(x = date, y = type)) +\n",
    "  geom_line(aes(group = 1, color = factor(major))) +\n",
    "  xlim(as.Date(\"2010-01-01\"), as.Date(\"2014-01-01\"))\n",
    "\n",
    "# Specify breaks every ten years and labels with \"%Y\"\n",
    "ggplot(releases, aes(x = date, y = type)) +\n",
    "  geom_line(aes(group = 1, color = factor(major))) +\n",
    "  scale_x_date(date_breaks = \"10 years\", date_labels = \"%Y\")"
   ]
  },
  {
   "cell_type": "markdown",
   "metadata": {},
   "source": [
    "### Arithmetic and logical operators\n",
    "\n",
    "Since `Date` objects are internally represented as the number of days since 1970-01-01 we can do basic math and comparisons with dates. We can compare dates with the usual [logical operators](https://www.rdocumentation.org/packages/base/topics/Comparison) (`<`, `==`, `>` etc.), find extremes with [`min()`](https://www.rdocumentation.org/packages/base/topics/min) and [`max()`](https://www.rdocumentation.org/packages/base/topics/max), and even subtract two dates to find out the time between them."
   ]
  },
  {
   "cell_type": "code",
   "execution_count": 16,
   "metadata": {},
   "outputs": [
    {
     "data": {
      "text/html": [
       "<table>\n",
       "<thead><tr><th scope=col>major</th><th scope=col>minor</th><th scope=col>patch</th><th scope=col>date</th><th scope=col>datetime</th><th scope=col>time</th><th scope=col>type</th></tr></thead>\n",
       "<tbody>\n",
       "\t<tr><td>3                  </td><td>4                  </td><td>1                  </td><td>2017-06-30         </td><td>2017-06-30 07:04:11</td><td>07:04:11           </td><td>patch              </td></tr>\n",
       "</tbody>\n",
       "</table>\n"
      ],
      "text/latex": [
       "\\begin{tabular}{r|lllllll}\n",
       " major & minor & patch & date & datetime & time & type\\\\\n",
       "\\hline\n",
       "\t 3                   & 4                   & 1                   & 2017-06-30          & 2017-06-30 07:04:11 & 07:04:11            & patch              \\\\\n",
       "\\end{tabular}\n"
      ],
      "text/markdown": [
       "\n",
       "| major | minor | patch | date | datetime | time | type |\n",
       "|---|---|---|---|---|---|---|\n",
       "| 3                   | 4                   | 1                   | 2017-06-30          | 2017-06-30 07:04:11 | 07:04:11            | patch               |\n",
       "\n"
      ],
      "text/plain": [
       "  major minor patch date       datetime            time     type \n",
       "1 3     4     1     2017-06-30 2017-06-30 07:04:11 07:04:11 patch"
      ]
     },
     "metadata": {},
     "output_type": "display_data"
    },
    {
     "data": {
      "text/plain": [
       "Time difference of 1110 days"
      ]
     },
     "metadata": {},
     "output_type": "display_data"
    }
   ],
   "source": [
    "# Find the largest date\n",
    "last_release_date <- max(releases$date)\n",
    "\n",
    "# Filter row for last release\n",
    "last_release <- filter(releases, date==last_release_date)\n",
    "\n",
    "# Print last_release\n",
    "last_release\n",
    "\n",
    "# How long since last release?\n",
    "Sys.Date() - last_release_date"
   ]
  },
  {
   "cell_type": "markdown",
   "metadata": {},
   "source": [
    " <a href=\"https://www.rdocumentation.org/packages/base/topics/Sys.date()\">`Sys.date()`</a>- in the code, it simply returns today's date."
   ]
  },
  {
   "cell_type": "markdown",
   "metadata": {},
   "source": [
    "## What about times?\n",
    "\n",
    "> ### ISO 8601\n",
    "- HH:MM:SS\n",
    "  - Largest unit to smallest\n",
    "  - Fixed digits\n",
    "    - Hours: 00 -- 24\n",
    "    - Minutes: 00 -- 59\n",
    "    - Seconds: 00 -- 60 (60 only for leap seconds)\n",
    "  - No separator or :\n",
    "\n",
    "\n",
    "> ### Datetimes in R\n",
    "- Two objects types:\n",
    "  - `POSIXlt` - list with named components\n",
    "  - `POSIXct` - seconds since 1970-01-01 00:00:00\n",
    "- `POSIXct` will go in a data frame\n",
    "- `as.POSIXct()` turns a string into a `POSIXct` object"
   ]
  },
  {
   "cell_type": "code",
   "execution_count": 17,
   "metadata": {},
   "outputs": [
    {
     "name": "stdout",
     "output_type": "stream",
     "text": [
      " POSIXct[1:1], format: \"1997-06-15 00:01:00\"\n"
     ]
    }
   ],
   "source": [
    "str(as.POSIXct(\"1997-06-15 00:01:00\"))"
   ]
  },
  {
   "cell_type": "markdown",
   "metadata": {},
   "source": [
    "> ### Timezones\n",
    "- `\"2013-02-27T18:00:00\"`-6pm localtime\n",
    "- `\"2013-02-27T18:00:00Z\"`-6pm UTC\n",
    "- `\"2013-02-27T18:00:00-08:00\"`-6pmin Oregon"
   ]
  },
  {
   "cell_type": "code",
   "execution_count": 18,
   "metadata": {},
   "outputs": [
    {
     "data": {
      "text/plain": [
       "[1] \"1997-06-15 EAT\""
      ]
     },
     "metadata": {},
     "output_type": "display_data"
    }
   ],
   "source": [
    "as.POSIXct(\"1997-06-15T18:00:59Z\")"
   ]
  },
  {
   "cell_type": "code",
   "execution_count": 19,
   "metadata": {},
   "outputs": [
    {
     "data": {
      "text/plain": [
       "[1] \"1997-06-15 UTC\""
      ]
     },
     "metadata": {},
     "output_type": "display_data"
    }
   ],
   "source": [
    "as.POSIXct(\"1997-06-15T18:00:59Z\", tz=\"UTC\")"
   ]
  },
  {
   "cell_type": "markdown",
   "metadata": {},
   "source": [
    "> ### Datetimes behave nicely too\n",
    "- Once a `POSIXct` object,datetimes can be:\n",
    "  - Compared\n",
    "  - Subtracted\n",
    "  - Plotted\n"
   ]
  },
  {
   "cell_type": "markdown",
   "metadata": {},
   "source": [
    "### Getting datetimes into R\n",
    "\n",
    "\n",
    "Just like dates without times, if you want R to recognize a string as a datetime you need to convert it, although now you use <a href=\"https://www.rdocumentation.org/packages/base/topics/as.POSIXct()\">`as.POSIXct()`</a>. `as.POSIXct()` expects strings to be in the format YYYY-MM-DD HH:MM:SS.\n",
    "\n",
    "The only tricky thing is that times will be interpreted in local time based on your machine's set up. You can check your timezone with [`Sys.timezone()`](https://www.rdocumentation.org/packages/base/topics/Sys.timezone). If you want the time to be interpreted in a different timezone, you just set the `tz` argument of `as.POSIXct()`."
   ]
  },
  {
   "cell_type": "code",
   "execution_count": 20,
   "metadata": {},
   "outputs": [
    {
     "data": {
      "text/html": [
       "'Africa/Nairobi'"
      ],
      "text/latex": [
       "'Africa/Nairobi'"
      ],
      "text/markdown": [
       "'Africa/Nairobi'"
      ],
      "text/plain": [
       "[1] \"Africa/Nairobi\""
      ]
     },
     "metadata": {},
     "output_type": "display_data"
    }
   ],
   "source": [
    "Sys.timezone()"
   ]
  },
  {
   "cell_type": "code",
   "execution_count": 21,
   "metadata": {},
   "outputs": [
    {
     "data": {
      "text/plain": [
       "[1] \"2010-10-01 12:12:00 EAT\""
      ]
     },
     "metadata": {},
     "output_type": "display_data"
    },
    {
     "data": {
      "text/plain": [
       "[1] \"2010-10-01 12:12:00 PDT\""
      ]
     },
     "metadata": {},
     "output_type": "display_data"
    },
    {
     "name": "stdout",
     "output_type": "stream",
     "text": [
      " POSIXct[1:105], format: \"1997-12-04 08:47:58\" \"1997-12-21 13:09:22\" \"1998-01-10 00:31:55\" ...\n"
     ]
    }
   ],
   "source": [
    "# Use as.POSIXct to enter the datetime \n",
    "as.POSIXct(\"2010-10-01 12:12:00\")\n",
    "\n",
    "# Use as.POSIXct again but set the timezone to `\"America/Los_Angeles\"`\n",
    "as.POSIXct(\"2010-10-01 12:12:00\", tz = \"America/Los_Angeles\")\n",
    "\n",
    "# Examine structure of datetime column\n",
    "str(releases$datetime)"
   ]
  },
  {
   "cell_type": "markdown",
   "metadata": {},
   "source": [
    "### Datetimes behave nicely too\n",
    "\n",
    "Just like `Date` objects, you can plot and do math with `POSIXct` objects. We'll see how quickly people download new versions of R, by examining the download logs from the RStudio CRAN mirror. R 3.2.0 was released at \"2015-04-16 07:13:33\" so `cran-logs_2015-04-17.csv` contains a random sample of downloads on the 16th, 17th and 18th."
   ]
  },
  {
   "cell_type": "code",
   "execution_count": 22,
   "metadata": {},
   "outputs": [
    {
     "name": "stderr",
     "output_type": "stream",
     "text": [
      "Parsed with column specification:\n",
      "cols(\n",
      "  datetime = col_datetime(format = \"\"),\n",
      "  r_version = col_character(),\n",
      "  country = col_character()\n",
      ")\n"
     ]
    },
    {
     "data": {
      "text/html": [
       "<table>\n",
       "<thead><tr><th scope=col>datetime</th><th scope=col>r_version</th><th scope=col>country</th></tr></thead>\n",
       "<tbody>\n",
       "\t<tr><td>2015-04-16 22:40:19</td><td>3.1.3              </td><td>CO                 </td></tr>\n",
       "\t<tr><td>2015-04-16 09:11:04</td><td>3.1.3              </td><td>GB                 </td></tr>\n",
       "\t<tr><td>2015-04-16 17:12:37</td><td>3.1.3              </td><td>DE                 </td></tr>\n",
       "\t<tr><td>2015-04-18 12:34:43</td><td>3.2.0              </td><td>GB                 </td></tr>\n",
       "\t<tr><td>2015-04-16 04:49:18</td><td>3.1.3              </td><td>PE                 </td></tr>\n",
       "\t<tr><td>2015-04-16 06:40:44</td><td>3.1.3              </td><td>TW                 </td></tr>\n",
       "</tbody>\n",
       "</table>\n"
      ],
      "text/latex": [
       "\\begin{tabular}{r|lll}\n",
       " datetime & r\\_version & country\\\\\n",
       "\\hline\n",
       "\t 2015-04-16 22:40:19 & 3.1.3               & CO                 \\\\\n",
       "\t 2015-04-16 09:11:04 & 3.1.3               & GB                 \\\\\n",
       "\t 2015-04-16 17:12:37 & 3.1.3               & DE                 \\\\\n",
       "\t 2015-04-18 12:34:43 & 3.2.0               & GB                 \\\\\n",
       "\t 2015-04-16 04:49:18 & 3.1.3               & PE                 \\\\\n",
       "\t 2015-04-16 06:40:44 & 3.1.3               & TW                 \\\\\n",
       "\\end{tabular}\n"
      ],
      "text/markdown": [
       "\n",
       "| datetime | r_version | country |\n",
       "|---|---|---|\n",
       "| 2015-04-16 22:40:19 | 3.1.3               | CO                  |\n",
       "| 2015-04-16 09:11:04 | 3.1.3               | GB                  |\n",
       "| 2015-04-16 17:12:37 | 3.1.3               | DE                  |\n",
       "| 2015-04-18 12:34:43 | 3.2.0               | GB                  |\n",
       "| 2015-04-16 04:49:18 | 3.1.3               | PE                  |\n",
       "| 2015-04-16 06:40:44 | 3.1.3               | TW                  |\n",
       "\n"
      ],
      "text/plain": [
       "  datetime            r_version country\n",
       "1 2015-04-16 22:40:19 3.1.3     CO     \n",
       "2 2015-04-16 09:11:04 3.1.3     GB     \n",
       "3 2015-04-16 17:12:37 3.1.3     DE     \n",
       "4 2015-04-18 12:34:43 3.2.0     GB     \n",
       "5 2015-04-16 04:49:18 3.1.3     PE     \n",
       "6 2015-04-16 06:40:44 3.1.3     TW     "
      ]
     },
     "metadata": {},
     "output_type": "display_data"
    }
   ],
   "source": [
    "# Import \"cran-logs_2015-04-17.csv\" with read_csv()\n",
    "logs <- read_csv(\"datasets/cran-logs_2015-04-17.csv\")\n",
    "\n",
    "# Print logs\n",
    "head(logs)"
   ]
  },
  {
   "cell_type": "code",
   "execution_count": 23,
   "metadata": {},
   "outputs": [
    {
     "data": {
      "text/html": [
       "<table>\n",
       "<thead><tr><th scope=col>datetime</th><th scope=col>r_version</th><th scope=col>country</th></tr></thead>\n",
       "<tbody>\n",
       "</tbody>\n",
       "</table>\n"
      ],
      "text/latex": [
       "\\begin{tabular}{r|lll}\n",
       " datetime & r\\_version & country\\\\\n",
       "\\hline\n",
       "\\end{tabular}\n"
      ],
      "text/markdown": [
       "\n",
       "| datetime | r_version | country |\n",
       "|---|---|---|\n",
       "\n"
      ],
      "text/plain": [
       "     datetime r_version country"
      ]
     },
     "metadata": {},
     "output_type": "display_data"
    },
    {
     "name": "stderr",
     "output_type": "stream",
     "text": [
      "`stat_bin()` using `bins = 30`. Pick better value with `binwidth`.\n"
     ]
    },
    {
     "data": {
      "image/png": "[encoded data removed]",
      "text/plain": [
       "plot without title"
      ]
     },
     "metadata": {},
     "output_type": "display_data"
    }
   ],
   "source": [
    "# Store the release time as a POSIXct object\n",
    "release_time <- as.POSIXct(\"2015-04-16 07:13:33\", tz = \"UTC\")\n",
    "\n",
    "# When is the first download of 3.2.0?\n",
    "logs %>% \n",
    "  filter(datetime==release_time,\n",
    "    r_version == \"3.2.0\")\n",
    "\n",
    "# Examine histograms of downloads by version\n",
    "ggplot(logs, aes(x = datetime)) +\n",
    "  geom_histogram() +\n",
    "  geom_vline(aes(xintercept = as.numeric(release_time)))+\n",
    "  facet_wrap(~ r_version, ncol = 1)"
   ]
  },
  {
   "cell_type": "markdown",
   "metadata": {},
   "source": [
    "it takes about two days for downloads of the new version (3.2.0) to overtake downloads of the old version (3.1.3)"
   ]
  },
  {
   "cell_type": "markdown",
   "metadata": {},
   "source": [
    "## Why lubridate?\n",
    "\n",
    "\n",
    "> ### lubridate\n",
    "- Make working with dates and times in R easy!\n",
    "- `tidyverse` package\n",
    "  - Plays nicely with builtin datetime objects\n",
    "  - Designed for humans not computers\n",
    "- Plays nicely with other `tidyverse` packages\n",
    "- Consistent behaviour regardless of underlying object\n",
    "\n",
    "\n",
    "> ### Parsing a wide range of formats"
   ]
  },
  {
   "cell_type": "code",
   "execution_count": 24,
   "metadata": {},
   "outputs": [
    {
     "data": {
      "text/html": [
       "<time datetime=\"1997-06-15\">1997-06-15</time>"
      ],
      "text/latex": [
       "1997-06-15"
      ],
      "text/markdown": [
       "1997-06-15"
      ],
      "text/plain": [
       "[1] \"1997-06-15\""
      ]
     },
     "metadata": {},
     "output_type": "display_data"
    }
   ],
   "source": [
    "ymd(\"1997-06-15\")"
   ]
  },
  {
   "cell_type": "code",
   "execution_count": 25,
   "metadata": {},
   "outputs": [
    {
     "data": {
      "text/html": [
       "<time datetime=\"1997-06-15\">1997-06-15</time>"
      ],
      "text/latex": [
       "1997-06-15"
      ],
      "text/markdown": [
       "1997-06-15"
      ],
      "text/plain": [
       "[1] \"1997-06-15\""
      ]
     },
     "metadata": {},
     "output_type": "display_data"
    }
   ],
   "source": [
    "dmy(\"15/06/97\")"
   ]
  },
  {
   "cell_type": "code",
   "execution_count": 26,
   "metadata": {},
   "outputs": [
    {
     "data": {
      "text/plain": [
       "[1] \"1997-06-15 UTC\" \"1997-06-15 UTC\""
      ]
     },
     "metadata": {},
     "output_type": "display_data"
    }
   ],
   "source": [
    "parse_date_time(c(\"June 15th, 1997\", \"15th June, 1997\"), order=c(\"mdy\", \"dmy\"))"
   ]
  },
  {
   "cell_type": "markdown",
   "metadata": {},
   "source": [
    "> ### Manipulating datetimes"
   ]
  },
  {
   "cell_type": "code",
   "execution_count": 27,
   "metadata": {},
   "outputs": [
    {
     "name": "stderr",
     "output_type": "stream",
     "text": [
      "Parsed with column specification:\n",
      "cols(\n",
      "  date = col_character(),\n",
      "  max_temp = col_double(),\n",
      "  min_temp = col_double(),\n",
      "  mean_temp = col_double(),\n",
      "  mean_rh = col_double(),\n",
      "  events = col_character(),\n",
      "  cloud_cover = col_double()\n",
      ")\n"
     ]
    },
    {
     "data": {
      "text/html": [
       "<table>\n",
       "<thead><tr><th scope=col>date</th><th scope=col>max_temp</th><th scope=col>min_temp</th><th scope=col>mean_temp</th><th scope=col>mean_rh</th><th scope=col>events</th><th scope=col>cloud_cover</th></tr></thead>\n",
       "<tbody>\n",
       "\t<tr><td>2007-9-1</td><td>60      </td><td>51      </td><td>56      </td><td>75      </td><td>NA      </td><td>4       </td></tr>\n",
       "\t<tr><td>2007-9-2</td><td>60      </td><td>53      </td><td>56      </td><td>82      </td><td>Rain    </td><td>4       </td></tr>\n",
       "\t<tr><td>2007-9-3</td><td>57      </td><td>51      </td><td>54      </td><td>78      </td><td>NA      </td><td>6       </td></tr>\n",
       "\t<tr><td>2007-9-4</td><td>64      </td><td>50      </td><td>57      </td><td>80      </td><td>Rain    </td><td>6       </td></tr>\n",
       "\t<tr><td>2007-9-5</td><td>53      </td><td>48      </td><td>50      </td><td>90      </td><td>Rain    </td><td>7       </td></tr>\n",
       "\t<tr><td>2007-9-6</td><td>57      </td><td>42      </td><td>50      </td><td>69      </td><td>NA      </td><td>1       </td></tr>\n",
       "</tbody>\n",
       "</table>\n"
      ],
      "text/latex": [
       "\\begin{tabular}{r|lllllll}\n",
       " date & max\\_temp & min\\_temp & mean\\_temp & mean\\_rh & events & cloud\\_cover\\\\\n",
       "\\hline\n",
       "\t 2007-9-1 & 60       & 51       & 56       & 75       & NA       & 4       \\\\\n",
       "\t 2007-9-2 & 60       & 53       & 56       & 82       & Rain     & 4       \\\\\n",
       "\t 2007-9-3 & 57       & 51       & 54       & 78       & NA       & 6       \\\\\n",
       "\t 2007-9-4 & 64       & 50       & 57       & 80       & Rain     & 6       \\\\\n",
       "\t 2007-9-5 & 53       & 48       & 50       & 90       & Rain     & 7       \\\\\n",
       "\t 2007-9-6 & 57       & 42       & 50       & 69       & NA       & 1       \\\\\n",
       "\\end{tabular}\n"
      ],
      "text/markdown": [
       "\n",
       "| date | max_temp | min_temp | mean_temp | mean_rh | events | cloud_cover |\n",
       "|---|---|---|---|---|---|---|\n",
       "| 2007-9-1 | 60       | 51       | 56       | 75       | NA       | 4        |\n",
       "| 2007-9-2 | 60       | 53       | 56       | 82       | Rain     | 4        |\n",
       "| 2007-9-3 | 57       | 51       | 54       | 78       | NA       | 6        |\n",
       "| 2007-9-4 | 64       | 50       | 57       | 80       | Rain     | 6        |\n",
       "| 2007-9-5 | 53       | 48       | 50       | 90       | Rain     | 7        |\n",
       "| 2007-9-6 | 57       | 42       | 50       | 69       | NA       | 1        |\n",
       "\n"
      ],
      "text/plain": [
       "  date     max_temp min_temp mean_temp mean_rh events cloud_cover\n",
       "1 2007-9-1 60       51       56        75      NA     4          \n",
       "2 2007-9-2 60       53       56        82      Rain   4          \n",
       "3 2007-9-3 57       51       54        78      NA     6          \n",
       "4 2007-9-4 64       50       57        80      Rain   6          \n",
       "5 2007-9-5 53       48       50        90      Rain   7          \n",
       "6 2007-9-6 57       42       50        69      NA     1          "
      ]
     },
     "metadata": {},
     "output_type": "display_data"
    }
   ],
   "source": [
    "akl_daily = read_csv(\"datasets/akl_weather_daily.csv\")\n",
    "head(akl_daily)"
   ]
  },
  {
   "cell_type": "code",
   "execution_count": 28,
   "metadata": {},
   "outputs": [
    {
     "data": {
      "text/html": [
       "<table>\n",
       "<thead><tr><th scope=col>date</th><th scope=col>max_temp</th><th scope=col>min_temp</th><th scope=col>mean_temp</th><th scope=col>mean_rh</th><th scope=col>events</th><th scope=col>cloud_cover</th><th scope=col>year</th><th scope=col>yday</th><th scope=col>month</th></tr></thead>\n",
       "<tbody>\n",
       "\t<tr><td>2007-9-1</td><td>60      </td><td>51      </td><td>56      </td><td>75      </td><td>NA      </td><td>4       </td><td>2007    </td><td>244     </td><td>Sep     </td></tr>\n",
       "\t<tr><td>2007-9-2</td><td>60      </td><td>53      </td><td>56      </td><td>82      </td><td>Rain    </td><td>4       </td><td>2007    </td><td>245     </td><td>Sep     </td></tr>\n",
       "\t<tr><td>2007-9-3</td><td>57      </td><td>51      </td><td>54      </td><td>78      </td><td>NA      </td><td>6       </td><td>2007    </td><td>246     </td><td>Sep     </td></tr>\n",
       "\t<tr><td>2007-9-4</td><td>64      </td><td>50      </td><td>57      </td><td>80      </td><td>Rain    </td><td>6       </td><td>2007    </td><td>247     </td><td>Sep     </td></tr>\n",
       "\t<tr><td>2007-9-5</td><td>53      </td><td>48      </td><td>50      </td><td>90      </td><td>Rain    </td><td>7       </td><td>2007    </td><td>248     </td><td>Sep     </td></tr>\n",
       "\t<tr><td>2007-9-6</td><td>57      </td><td>42      </td><td>50      </td><td>69      </td><td>NA      </td><td>1       </td><td>2007    </td><td>249     </td><td>Sep     </td></tr>\n",
       "</tbody>\n",
       "</table>\n"
      ],
      "text/latex": [
       "\\begin{tabular}{r|llllllllll}\n",
       " date & max\\_temp & min\\_temp & mean\\_temp & mean\\_rh & events & cloud\\_cover & year & yday & month\\\\\n",
       "\\hline\n",
       "\t 2007-9-1 & 60       & 51       & 56       & 75       & NA       & 4        & 2007     & 244      & Sep     \\\\\n",
       "\t 2007-9-2 & 60       & 53       & 56       & 82       & Rain     & 4        & 2007     & 245      & Sep     \\\\\n",
       "\t 2007-9-3 & 57       & 51       & 54       & 78       & NA       & 6        & 2007     & 246      & Sep     \\\\\n",
       "\t 2007-9-4 & 64       & 50       & 57       & 80       & Rain     & 6        & 2007     & 247      & Sep     \\\\\n",
       "\t 2007-9-5 & 53       & 48       & 50       & 90       & Rain     & 7        & 2007     & 248      & Sep     \\\\\n",
       "\t 2007-9-6 & 57       & 42       & 50       & 69       & NA       & 1        & 2007     & 249      & Sep     \\\\\n",
       "\\end{tabular}\n"
      ],
      "text/markdown": [
       "\n",
       "| date | max_temp | min_temp | mean_temp | mean_rh | events | cloud_cover | year | yday | month |\n",
       "|---|---|---|---|---|---|---|---|---|---|\n",
       "| 2007-9-1 | 60       | 51       | 56       | 75       | NA       | 4        | 2007     | 244      | Sep      |\n",
       "| 2007-9-2 | 60       | 53       | 56       | 82       | Rain     | 4        | 2007     | 245      | Sep      |\n",
       "| 2007-9-3 | 57       | 51       | 54       | 78       | NA       | 6        | 2007     | 246      | Sep      |\n",
       "| 2007-9-4 | 64       | 50       | 57       | 80       | Rain     | 6        | 2007     | 247      | Sep      |\n",
       "| 2007-9-5 | 53       | 48       | 50       | 90       | Rain     | 7        | 2007     | 248      | Sep      |\n",
       "| 2007-9-6 | 57       | 42       | 50       | 69       | NA       | 1        | 2007     | 249      | Sep      |\n",
       "\n"
      ],
      "text/plain": [
       "  date     max_temp min_temp mean_temp mean_rh events cloud_cover year yday\n",
       "1 2007-9-1 60       51       56        75      NA     4           2007 244 \n",
       "2 2007-9-2 60       53       56        82      Rain   4           2007 245 \n",
       "3 2007-9-3 57       51       54        78      NA     6           2007 246 \n",
       "4 2007-9-4 64       50       57        80      Rain   6           2007 247 \n",
       "5 2007-9-5 53       48       50        90      Rain   7           2007 248 \n",
       "6 2007-9-6 57       42       50        69      NA     1           2007 249 \n",
       "  month\n",
       "1 Sep  \n",
       "2 Sep  \n",
       "3 Sep  \n",
       "4 Sep  \n",
       "5 Sep  \n",
       "6 Sep  "
      ]
     },
     "metadata": {},
     "output_type": "display_data"
    }
   ],
   "source": [
    "akl_daily_m <- akl_daily %>%\n",
    "    mutate(\n",
    "        year = year(date),\n",
    "        yday = yday(date),\n",
    "        month = month(date, label=TRUE)\n",
    "    )\n",
    "head(akl_daily_m)"
   ]
  },
  {
   "cell_type": "markdown",
   "metadata": {},
   "source": [
    "> ### Other lubridate features\n",
    "- Handling timezones\n",
    "- Fast parsing of standard formats\n",
    "- Outputting datetimes\n"
   ]
  },
  {
   "cell_type": "markdown",
   "metadata": {},
   "source": [
    "# Parsing and Manipulating Dates and Times with lubridate\n",
    "\n",
    "Dates and times come in a huge assortment of formats, so the first hurdle is often to parse the format you have into an R datetime. We will explore how to import dates and times with the lubridate package. We'll also explore how to extract parts of a datetime. We'll practice by exploring the weather in R's birthplace, Auckland NZ."
   ]
  },
  {
   "cell_type": "markdown",
   "metadata": {},
   "source": [
    "## Parsing dates with lubridate\n",
    "\n",
    "> ### ymd()\n",
    "- 27th of February 2013\n",
    "- `ymd()` - year, then month, then day"
   ]
  },
  {
   "cell_type": "code",
   "execution_count": 29,
   "metadata": {},
   "outputs": [
    {
     "data": {
      "text/html": [
       "<time datetime=\"1997-06-15\">1997-06-15</time>"
      ],
      "text/latex": [
       "1997-06-15"
      ],
      "text/markdown": [
       "1997-06-15"
      ],
      "text/plain": [
       "[1] \"1997-06-15\""
      ]
     },
     "metadata": {},
     "output_type": "display_data"
    }
   ],
   "source": [
    "ymd(\"1997-06-15\")"
   ]
  },
  {
   "cell_type": "code",
   "execution_count": 30,
   "metadata": {},
   "outputs": [
    {
     "data": {
      "text/html": [
       "<time datetime=\"1997-06-15\">1997-06-15</time>"
      ],
      "text/latex": [
       "1997-06-15"
      ],
      "text/markdown": [
       "1997-06-15"
      ],
      "text/plain": [
       "[1] \"1997-06-15\""
      ]
     },
     "metadata": {},
     "output_type": "display_data"
    }
   ],
   "source": [
    "ymd(\"97/6/15\")"
   ]
  },
  {
   "cell_type": "code",
   "execution_count": 31,
   "metadata": {},
   "outputs": [
    {
     "data": {
      "text/html": [
       "<time datetime=\"1997-06-15\">1997-06-15</time>"
      ],
      "text/latex": [
       "1997-06-15"
      ],
      "text/markdown": [
       "1997-06-15"
      ],
      "text/plain": [
       "[1] \"1997-06-15\""
      ]
     },
     "metadata": {},
     "output_type": "display_data"
    }
   ],
   "source": [
    "ymd(\"97t6t15\")"
   ]
  },
  {
   "cell_type": "markdown",
   "metadata": {},
   "source": [
    "> ### Friends of ymd()\n",
    "- `ymd()`,`ydm()`,`mdy()`,`myd()`,`dmy()`,`dym()`, `dmy_hm()`\n",
    "- `parse_date_time(x = ___, order = ___)`\n",
    "\n",
    "> ### Formatting characters\n",
    "|Character|Meaning||Character|Meaning|\n",
    "|---|---|---|---|---|\n",
    "|`d`|numeric day of the month||`a`|Abbreviated weekday|\n",
    "|`m`|month of the year||`A`|Full weekday|\n",
    "|`y`|Year with century||`b`|Abbreviated month name|\n",
    "|`Y`|year without century||`B`|full month name|\n",
    "|`H`|hours (24 hours)||`I`|hours (12 hour)|\n",
    "|`M`|minutes||`P`|AM/PM|\n",
    "|`z`|Timezone, offset||||"
   ]
  },
  {
   "cell_type": "markdown",
   "metadata": {},
   "source": [
    "### Selecting the right parsing function\n",
    "\n",
    "`lubridate` provides a set of functions for parsing dates of a known order. For example, [`ymd()`](https://www.rdocumentation.org/packages/lubridate/topics/ymd) will parse dates with year first, followed by month and then day. The parsing is flexible, for example, it will parse the `m` whether it is numeric (e.g. `9` or `09`), a full month name (e.g. `September`), or an abbreviated month name (e.g. `Sep`).\n",
    "\n",
    "All the functions with `y`, `m` and `d` in any order exist. If the dates have times as well, you can use the functions that start with `ymd`, `dmy`, `mdy` or `ydm` and are followed by any of `_h`, `_hm` or [`_hms`](https://www.rdocumentation.org/packages/lubridate/topics/ymd_hms)."
   ]
  },
  {
   "cell_type": "code",
   "execution_count": 32,
   "metadata": {},
   "outputs": [
    {
     "data": {
      "text/html": [
       "<time datetime=\"2010-09-20\">2010-09-20</time>"
      ],
      "text/latex": [
       "2010-09-20"
      ],
      "text/markdown": [
       "2010-09-20"
      ],
      "text/plain": [
       "[1] \"2010-09-20\""
      ]
     },
     "metadata": {},
     "output_type": "display_data"
    },
    {
     "data": {
      "text/html": [
       "<time datetime=\"2010-01-02\">2010-01-02</time>"
      ],
      "text/latex": [
       "2010-01-02"
      ],
      "text/markdown": [
       "2010-01-02"
      ],
      "text/plain": [
       "[1] \"2010-01-02\""
      ]
     },
     "metadata": {},
     "output_type": "display_data"
    },
    {
     "data": {
      "text/plain": [
       "[1] \"2010-09-12 14:00:00 UTC\""
      ]
     },
     "metadata": {},
     "output_type": "display_data"
    }
   ],
   "source": [
    "# Parse x \n",
    "x <- \"2010 September 20th\" # 2010-09-20\n",
    "ymd(x)\n",
    "\n",
    "# Parse y \n",
    "y <- \"02.01.2010\"  # 2010-01-02\n",
    "dmy(y)\n",
    "\n",
    "# Parse z \n",
    "z <- \"Sep, 12th 2010 14:00\"  # 2010-09-12T14:00\n",
    "mdy_hm(z)"
   ]
  },
  {
   "cell_type": "markdown",
   "metadata": {},
   "source": [
    "### Specifying an order with `parse_date_time()`\n",
    "\n",
    "What about if you have something in a really weird order like `dym_msh`?There's no named function just for that order, but that is where [`parse_date_time()`](https://www.rdocumentation.org/packages/lubridate/topics/parse_date_time) comes in. `parse_date_time()` takes an additional argument, `orders`, where you can specify the order of the components in the date. \n",
    "\n",
    "For example, to parse `\"2010 September 20th\"` you could say `parse_date_time(\"2010 September 20th\", orders = \"ymd\")` and that would be equivalent to using the `ymd()` function from the previous exercise.\n",
    "\n",
    "One advantage of `parse_date_time()` is that you can use more format characters. For example, you can specify weekday names with `A`, `I` for 12 hour time, am/pm indicators with `p` and many others. Another big advantage is that you can specify a vector of orders, and that allows parsing of dates where multiple formats might be used."
   ]
  },
  {
   "cell_type": "code",
   "execution_count": 33,
   "metadata": {},
   "outputs": [
    {
     "data": {
      "text/plain": [
       "[1] \"2010-06-01 16:00:00 UTC\""
      ]
     },
     "metadata": {},
     "output_type": "display_data"
    },
    {
     "data": {
      "text/plain": [
       "[1] \"2001-10-07 UTC\" \"2002-10-13 UTC\" \"2003-04-13 UTC\" \"2005-04-17 UTC\"\n",
       "[5] \"2017-04-23 UTC\""
      ]
     },
     "metadata": {},
     "output_type": "display_data"
    },
    {
     "data": {
      "text/plain": [
       "[1] \"1282-12-11 UTC\" \"1372-05-01 UTC\" \"1253-01-01 UTC\""
      ]
     },
     "metadata": {},
     "output_type": "display_data"
    }
   ],
   "source": [
    "# Specify an order string to parse x\n",
    "x <- \"Monday June 1st 2010 at 4pm\"\n",
    "parse_date_time(x, orders = \"ABdyIp\")\n",
    "\n",
    "# Specify order to include both \"mdy\" and \"dmy\"\n",
    "two_orders <- c(\"October 7, 2001\", \"October 13, 2002\", \"April 13, 2003\", \n",
    "  \"17 April 2005\", \"23 April 2017\")\n",
    "parse_date_time(two_orders, orders = c(\"Bdy\", \"Bdy\", \"Bdy\", \"dBy\", \"dBy\"))\n",
    "\n",
    "# Specify order to include \"dOmY\", \"OmY\" and \"Y\"\n",
    "short_dates <- c(\"11 December 1282\", \"May 1372\", \"1253\")\n",
    "parse_date_time(short_dates, orders = c(\"d0mY\", \"0mY\", \"Y\"))\n"
   ]
  },
  {
   "cell_type": "markdown",
   "metadata": {},
   "source": [
    "> Note:  when a date component is missing, it's just set to `1`? For example, the input `1253` resulted in the date `1253-01-01`."
   ]
  },
  {
   "cell_type": "markdown",
   "metadata": {},
   "source": [
    "## Weather in Auckland\n",
    "\n",
    "> ### make_date(year, month, day)"
   ]
  },
  {
   "cell_type": "code",
   "execution_count": 34,
   "metadata": {},
   "outputs": [
    {
     "data": {
      "text/html": [
       "<time datetime=\"1997-06-15\">1997-06-15</time>"
      ],
      "text/latex": [
       "1997-06-15"
      ],
      "text/markdown": [
       "1997-06-15"
      ],
      "text/plain": [
       "[1] \"1997-06-15\""
      ]
     },
     "metadata": {},
     "output_type": "display_data"
    }
   ],
   "source": [
    "make_date(year=1997, month=6, day=15)"
   ]
  },
  {
   "cell_type": "markdown",
   "metadata": {},
   "source": [
    "`make_datetime(year, month, day, hour, min, sec)` for datetimes\n",
    "\n",
    "> ### dplyr Review\n",
    "- `mutate()` - add new columns (or overwrite old ones)\n",
    "- `filter()` - subset rows\n",
    "- `select()` - subset columns\n",
    "- `arrange()` - order rows\n",
    "- `summarise()` - summarise rows\n",
    "- `group_by()` - useful in conjuction with `summarise()`\n"
   ]
  },
  {
   "cell_type": "markdown",
   "metadata": {},
   "source": [
    "### Import daily weather data\n",
    "\n",
    "In practice you won't be parsing isolated dates and times, they'll be part of a larger dataset. We'll be working with weather data from Auckland NZ.\n",
    "\n",
    "There are two data sets: \n",
    "- `akl_weather_daily.csv` a set of once daily summaries for 10 years, and \n",
    "- `akl_weather_hourly_2016.csv` observations every half hour for 2016."
   ]
  },
  {
   "cell_type": "code",
   "execution_count": 35,
   "metadata": {},
   "outputs": [
    {
     "name": "stderr",
     "output_type": "stream",
     "text": [
      "Parsed with column specification:\n",
      "cols(\n",
      "  date = col_character(),\n",
      "  max_temp = col_double(),\n",
      "  min_temp = col_double(),\n",
      "  mean_temp = col_double(),\n",
      "  mean_rh = col_double(),\n",
      "  events = col_character(),\n",
      "  cloud_cover = col_double()\n",
      ")\n"
     ]
    },
    {
     "data": {
      "text/html": [
       "<table>\n",
       "<thead><tr><th scope=col>date</th><th scope=col>max_temp</th><th scope=col>min_temp</th><th scope=col>mean_temp</th><th scope=col>mean_rh</th><th scope=col>events</th><th scope=col>cloud_cover</th></tr></thead>\n",
       "<tbody>\n",
       "\t<tr><td>2007-9-1</td><td>60      </td><td>51      </td><td>56      </td><td>75      </td><td>NA      </td><td>4       </td></tr>\n",
       "\t<tr><td>2007-9-2</td><td>60      </td><td>53      </td><td>56      </td><td>82      </td><td>Rain    </td><td>4       </td></tr>\n",
       "\t<tr><td>2007-9-3</td><td>57      </td><td>51      </td><td>54      </td><td>78      </td><td>NA      </td><td>6       </td></tr>\n",
       "\t<tr><td>2007-9-4</td><td>64      </td><td>50      </td><td>57      </td><td>80      </td><td>Rain    </td><td>6       </td></tr>\n",
       "\t<tr><td>2007-9-5</td><td>53      </td><td>48      </td><td>50      </td><td>90      </td><td>Rain    </td><td>7       </td></tr>\n",
       "\t<tr><td>2007-9-6</td><td>57      </td><td>42      </td><td>50      </td><td>69      </td><td>NA      </td><td>1       </td></tr>\n",
       "</tbody>\n",
       "</table>\n"
      ],
      "text/latex": [
       "\\begin{tabular}{r|lllllll}\n",
       " date & max\\_temp & min\\_temp & mean\\_temp & mean\\_rh & events & cloud\\_cover\\\\\n",
       "\\hline\n",
       "\t 2007-9-1 & 60       & 51       & 56       & 75       & NA       & 4       \\\\\n",
       "\t 2007-9-2 & 60       & 53       & 56       & 82       & Rain     & 4       \\\\\n",
       "\t 2007-9-3 & 57       & 51       & 54       & 78       & NA       & 6       \\\\\n",
       "\t 2007-9-4 & 64       & 50       & 57       & 80       & Rain     & 6       \\\\\n",
       "\t 2007-9-5 & 53       & 48       & 50       & 90       & Rain     & 7       \\\\\n",
       "\t 2007-9-6 & 57       & 42       & 50       & 69       & NA       & 1       \\\\\n",
       "\\end{tabular}\n"
      ],
      "text/markdown": [
       "\n",
       "| date | max_temp | min_temp | mean_temp | mean_rh | events | cloud_cover |\n",
       "|---|---|---|---|---|---|---|\n",
       "| 2007-9-1 | 60       | 51       | 56       | 75       | NA       | 4        |\n",
       "| 2007-9-2 | 60       | 53       | 56       | 82       | Rain     | 4        |\n",
       "| 2007-9-3 | 57       | 51       | 54       | 78       | NA       | 6        |\n",
       "| 2007-9-4 | 64       | 50       | 57       | 80       | Rain     | 6        |\n",
       "| 2007-9-5 | 53       | 48       | 50       | 90       | Rain     | 7        |\n",
       "| 2007-9-6 | 57       | 42       | 50       | 69       | NA       | 1        |\n",
       "\n"
      ],
      "text/plain": [
       "  date     max_temp min_temp mean_temp mean_rh events cloud_cover\n",
       "1 2007-9-1 60       51       56        75      NA     4          \n",
       "2 2007-9-2 60       53       56        82      Rain   4          \n",
       "3 2007-9-3 57       51       54        78      NA     6          \n",
       "4 2007-9-4 64       50       57        80      Rain   6          \n",
       "5 2007-9-5 53       48       50        90      Rain   7          \n",
       "6 2007-9-6 57       42       50        69      NA     1          "
      ]
     },
     "metadata": {},
     "output_type": "display_data"
    }
   ],
   "source": [
    "# Import CSV with read_csv()\n",
    "akl_daily_raw <- read_csv(\"datasets/akl_weather_daily.csv\")\n",
    "\n",
    "# Print akl_daily_raw\n",
    "head(akl_daily_raw)"
   ]
  },
  {
   "cell_type": "code",
   "execution_count": 36,
   "metadata": {},
   "outputs": [
    {
     "data": {
      "text/html": [
       "<table>\n",
       "<thead><tr><th scope=col>date</th><th scope=col>max_temp</th><th scope=col>min_temp</th><th scope=col>mean_temp</th><th scope=col>mean_rh</th><th scope=col>events</th><th scope=col>cloud_cover</th></tr></thead>\n",
       "<tbody>\n",
       "\t<tr><td>2007-09-01</td><td>60        </td><td>51        </td><td>56        </td><td>75        </td><td>NA        </td><td>4         </td></tr>\n",
       "\t<tr><td>2007-09-02</td><td>60        </td><td>53        </td><td>56        </td><td>82        </td><td>Rain      </td><td>4         </td></tr>\n",
       "\t<tr><td>2007-09-03</td><td>57        </td><td>51        </td><td>54        </td><td>78        </td><td>NA        </td><td>6         </td></tr>\n",
       "\t<tr><td>2007-09-04</td><td>64        </td><td>50        </td><td>57        </td><td>80        </td><td>Rain      </td><td>6         </td></tr>\n",
       "\t<tr><td>2007-09-05</td><td>53        </td><td>48        </td><td>50        </td><td>90        </td><td>Rain      </td><td>7         </td></tr>\n",
       "\t<tr><td>2007-09-06</td><td>57        </td><td>42        </td><td>50        </td><td>69        </td><td>NA        </td><td>1         </td></tr>\n",
       "</tbody>\n",
       "</table>\n"
      ],
      "text/latex": [
       "\\begin{tabular}{r|lllllll}\n",
       " date & max\\_temp & min\\_temp & mean\\_temp & mean\\_rh & events & cloud\\_cover\\\\\n",
       "\\hline\n",
       "\t 2007-09-01 & 60         & 51         & 56         & 75         & NA         & 4         \\\\\n",
       "\t 2007-09-02 & 60         & 53         & 56         & 82         & Rain       & 4         \\\\\n",
       "\t 2007-09-03 & 57         & 51         & 54         & 78         & NA         & 6         \\\\\n",
       "\t 2007-09-04 & 64         & 50         & 57         & 80         & Rain       & 6         \\\\\n",
       "\t 2007-09-05 & 53         & 48         & 50         & 90         & Rain       & 7         \\\\\n",
       "\t 2007-09-06 & 57         & 42         & 50         & 69         & NA         & 1         \\\\\n",
       "\\end{tabular}\n"
      ],
      "text/markdown": [
       "\n",
       "| date | max_temp | min_temp | mean_temp | mean_rh | events | cloud_cover |\n",
       "|---|---|---|---|---|---|---|\n",
       "| 2007-09-01 | 60         | 51         | 56         | 75         | NA         | 4          |\n",
       "| 2007-09-02 | 60         | 53         | 56         | 82         | Rain       | 4          |\n",
       "| 2007-09-03 | 57         | 51         | 54         | 78         | NA         | 6          |\n",
       "| 2007-09-04 | 64         | 50         | 57         | 80         | Rain       | 6          |\n",
       "| 2007-09-05 | 53         | 48         | 50         | 90         | Rain       | 7          |\n",
       "| 2007-09-06 | 57         | 42         | 50         | 69         | NA         | 1          |\n",
       "\n"
      ],
      "text/plain": [
       "  date       max_temp min_temp mean_temp mean_rh events cloud_cover\n",
       "1 2007-09-01 60       51       56        75      NA     4          \n",
       "2 2007-09-02 60       53       56        82      Rain   4          \n",
       "3 2007-09-03 57       51       54        78      NA     6          \n",
       "4 2007-09-04 64       50       57        80      Rain   6          \n",
       "5 2007-09-05 53       48       50        90      Rain   7          \n",
       "6 2007-09-06 57       42       50        69      NA     1          "
      ]
     },
     "metadata": {},
     "output_type": "display_data"
    }
   ],
   "source": [
    "# Parse date \n",
    "akl_daily <- akl_daily_raw %>%\n",
    "  mutate(date = ymd(date))\n",
    "\n",
    "# Print akl_daily\n",
    "head(akl_daily)"
   ]
  },
  {
   "cell_type": "code",
   "execution_count": 37,
   "metadata": {},
   "outputs": [
    {
     "name": "stderr",
     "output_type": "stream",
     "text": [
      "Warning message:\n",
      "\"Removed 1 row(s) containing missing values (geom_path).\""
     ]
    },
    {
     "data": {
      "image/png": "[encoded data removed]",
      "text/plain": [
       "plot without title"
      ]
     },
     "metadata": {},
     "output_type": "display_data"
    }
   ],
   "source": [
    "# Plot to check work\n",
    "akl_daily %>%\n",
    "    ggplot(aes(x = date, y = max_temp)) +\n",
    "        geom_line() "
   ]
  },
  {
   "cell_type": "markdown",
   "metadata": {},
   "source": [
    "The temperatures are in farenheit. Yup, summer falls in Dec-Jan-Feb."
   ]
  },
  {
   "cell_type": "markdown",
   "metadata": {},
   "source": [
    "### Import hourly weather data\n",
    "\n",
    "The hourly data is a little different. The date information is spread over three columns `year`, `month` and `mday`, so we'll need to use `make_date()` to combine them."
   ]
  },
  {
   "cell_type": "code",
   "execution_count": 38,
   "metadata": {},
   "outputs": [
    {
     "name": "stderr",
     "output_type": "stream",
     "text": [
      "Parsed with column specification:\n",
      "cols(\n",
      "  year = col_double(),\n",
      "  month = col_double(),\n",
      "  mday = col_double(),\n",
      "  time = col_time(format = \"\"),\n",
      "  temperature = col_double(),\n",
      "  weather = col_character(),\n",
      "  conditions = col_character(),\n",
      "  events = col_character(),\n",
      "  humidity = col_double(),\n",
      "  date_utc = col_datetime(format = \"\")\n",
      ")\n"
     ]
    },
    {
     "data": {
      "text/html": [
       "<table>\n",
       "<thead><tr><th scope=col>year</th><th scope=col>month</th><th scope=col>mday</th><th scope=col>time</th><th scope=col>temperature</th><th scope=col>weather</th><th scope=col>conditions</th><th scope=col>events</th><th scope=col>humidity</th><th scope=col>date_utc</th></tr></thead>\n",
       "<tbody>\n",
       "\t<tr><td>2016               </td><td>1                  </td><td>1                  </td><td>00:00:00           </td><td>68                 </td><td>Clear              </td><td>Clear              </td><td>NA                 </td><td>68                 </td><td>2015-12-31 11:00:00</td></tr>\n",
       "\t<tr><td>2016               </td><td>1                  </td><td>1                  </td><td>00:30:00           </td><td>68                 </td><td>Clear              </td><td>Clear              </td><td>NA                 </td><td>68                 </td><td>2015-12-31 11:30:00</td></tr>\n",
       "\t<tr><td>2016               </td><td>1                  </td><td>1                  </td><td>01:00:00           </td><td>68                 </td><td>Clear              </td><td>Clear              </td><td>NA                 </td><td>73                 </td><td>2015-12-31 12:00:00</td></tr>\n",
       "\t<tr><td>2016               </td><td>1                  </td><td>1                  </td><td>01:30:00           </td><td>68                 </td><td>Clear              </td><td>Clear              </td><td>NA                 </td><td>68                 </td><td>2015-12-31 12:30:00</td></tr>\n",
       "\t<tr><td>2016               </td><td>1                  </td><td>1                  </td><td>02:00:00           </td><td>68                 </td><td>Clear              </td><td>Clear              </td><td>NA                 </td><td>68                 </td><td>2015-12-31 13:00:00</td></tr>\n",
       "\t<tr><td>2016               </td><td>1                  </td><td>1                  </td><td>02:30:00           </td><td>68                 </td><td>Clear              </td><td>Clear              </td><td>NA                 </td><td>68                 </td><td>2015-12-31 13:30:00</td></tr>\n",
       "</tbody>\n",
       "</table>\n"
      ],
      "text/latex": [
       "\\begin{tabular}{r|llllllllll}\n",
       " year & month & mday & time & temperature & weather & conditions & events & humidity & date\\_utc\\\\\n",
       "\\hline\n",
       "\t 2016                & 1                   & 1                   & 00:00:00            & 68                  & Clear               & Clear               & NA                  & 68                  & 2015-12-31 11:00:00\\\\\n",
       "\t 2016                & 1                   & 1                   & 00:30:00            & 68                  & Clear               & Clear               & NA                  & 68                  & 2015-12-31 11:30:00\\\\\n",
       "\t 2016                & 1                   & 1                   & 01:00:00            & 68                  & Clear               & Clear               & NA                  & 73                  & 2015-12-31 12:00:00\\\\\n",
       "\t 2016                & 1                   & 1                   & 01:30:00            & 68                  & Clear               & Clear               & NA                  & 68                  & 2015-12-31 12:30:00\\\\\n",
       "\t 2016                & 1                   & 1                   & 02:00:00            & 68                  & Clear               & Clear               & NA                  & 68                  & 2015-12-31 13:00:00\\\\\n",
       "\t 2016                & 1                   & 1                   & 02:30:00            & 68                  & Clear               & Clear               & NA                  & 68                  & 2015-12-31 13:30:00\\\\\n",
       "\\end{tabular}\n"
      ],
      "text/markdown": [
       "\n",
       "| year | month | mday | time | temperature | weather | conditions | events | humidity | date_utc |\n",
       "|---|---|---|---|---|---|---|---|---|---|\n",
       "| 2016                | 1                   | 1                   | 00:00:00            | 68                  | Clear               | Clear               | NA                  | 68                  | 2015-12-31 11:00:00 |\n",
       "| 2016                | 1                   | 1                   | 00:30:00            | 68                  | Clear               | Clear               | NA                  | 68                  | 2015-12-31 11:30:00 |\n",
       "| 2016                | 1                   | 1                   | 01:00:00            | 68                  | Clear               | Clear               | NA                  | 73                  | 2015-12-31 12:00:00 |\n",
       "| 2016                | 1                   | 1                   | 01:30:00            | 68                  | Clear               | Clear               | NA                  | 68                  | 2015-12-31 12:30:00 |\n",
       "| 2016                | 1                   | 1                   | 02:00:00            | 68                  | Clear               | Clear               | NA                  | 68                  | 2015-12-31 13:00:00 |\n",
       "| 2016                | 1                   | 1                   | 02:30:00            | 68                  | Clear               | Clear               | NA                  | 68                  | 2015-12-31 13:30:00 |\n",
       "\n"
      ],
      "text/plain": [
       "  year month mday time     temperature weather conditions events humidity\n",
       "1 2016 1     1    00:00:00 68          Clear   Clear      NA     68      \n",
       "2 2016 1     1    00:30:00 68          Clear   Clear      NA     68      \n",
       "3 2016 1     1    01:00:00 68          Clear   Clear      NA     73      \n",
       "4 2016 1     1    01:30:00 68          Clear   Clear      NA     68      \n",
       "5 2016 1     1    02:00:00 68          Clear   Clear      NA     68      \n",
       "6 2016 1     1    02:30:00 68          Clear   Clear      NA     68      \n",
       "  date_utc           \n",
       "1 2015-12-31 11:00:00\n",
       "2 2015-12-31 11:30:00\n",
       "3 2015-12-31 12:00:00\n",
       "4 2015-12-31 12:30:00\n",
       "5 2015-12-31 13:00:00\n",
       "6 2015-12-31 13:30:00"
      ]
     },
     "metadata": {},
     "output_type": "display_data"
    }
   ],
   "source": [
    "akl_hourly_raw <- read_csv(\"datasets/akl_weather_hourly_2016.csv\")\n",
    "head(akl_hourly_raw)"
   ]
  },
  {
   "cell_type": "markdown",
   "metadata": {},
   "source": [
    "Then the time information is in a separate column again, `time`. It's quite common to find `date` and `time` split across different variables. One way to construct the datetimes is to paste the date and time together and then parse them.\n"
   ]
  },
  {
   "cell_type": "code",
   "execution_count": 39,
   "metadata": {},
   "outputs": [
    {
     "data": {
      "text/html": [
       "<table>\n",
       "<thead><tr><th scope=col>date</th><th scope=col>time</th><th scope=col>datetime</th></tr></thead>\n",
       "<tbody>\n",
       "\t<tr><td>2016-01-01         </td><td>00:00:00           </td><td>2016-01-01 00:00:00</td></tr>\n",
       "\t<tr><td>2016-01-01         </td><td>00:30:00           </td><td>2016-01-01 00:30:00</td></tr>\n",
       "\t<tr><td>2016-01-01         </td><td>01:00:00           </td><td>2016-01-01 01:00:00</td></tr>\n",
       "\t<tr><td>2016-01-01         </td><td>01:30:00           </td><td>2016-01-01 01:30:00</td></tr>\n",
       "\t<tr><td>2016-01-01         </td><td>02:00:00           </td><td>2016-01-01 02:00:00</td></tr>\n",
       "\t<tr><td>2016-01-01         </td><td>02:30:00           </td><td>2016-01-01 02:30:00</td></tr>\n",
       "</tbody>\n",
       "</table>\n"
      ],
      "text/latex": [
       "\\begin{tabular}{r|lll}\n",
       " date & time & datetime\\\\\n",
       "\\hline\n",
       "\t 2016-01-01          & 00:00:00            & 2016-01-01 00:00:00\\\\\n",
       "\t 2016-01-01          & 00:30:00            & 2016-01-01 00:30:00\\\\\n",
       "\t 2016-01-01          & 01:00:00            & 2016-01-01 01:00:00\\\\\n",
       "\t 2016-01-01          & 01:30:00            & 2016-01-01 01:30:00\\\\\n",
       "\t 2016-01-01          & 02:00:00            & 2016-01-01 02:00:00\\\\\n",
       "\t 2016-01-01          & 02:30:00            & 2016-01-01 02:30:00\\\\\n",
       "\\end{tabular}\n"
      ],
      "text/markdown": [
       "\n",
       "| date | time | datetime |\n",
       "|---|---|---|\n",
       "| 2016-01-01          | 00:00:00            | 2016-01-01 00:00:00 |\n",
       "| 2016-01-01          | 00:30:00            | 2016-01-01 00:30:00 |\n",
       "| 2016-01-01          | 01:00:00            | 2016-01-01 01:00:00 |\n",
       "| 2016-01-01          | 01:30:00            | 2016-01-01 01:30:00 |\n",
       "| 2016-01-01          | 02:00:00            | 2016-01-01 02:00:00 |\n",
       "| 2016-01-01          | 02:30:00            | 2016-01-01 02:30:00 |\n",
       "\n"
      ],
      "text/plain": [
       "  date       time     datetime           \n",
       "1 2016-01-01 00:00:00 2016-01-01 00:00:00\n",
       "2 2016-01-01 00:30:00 2016-01-01 00:30:00\n",
       "3 2016-01-01 01:00:00 2016-01-01 01:00:00\n",
       "4 2016-01-01 01:30:00 2016-01-01 01:30:00\n",
       "5 2016-01-01 02:00:00 2016-01-01 02:00:00\n",
       "6 2016-01-01 02:30:00 2016-01-01 02:30:00"
      ]
     },
     "metadata": {},
     "output_type": "display_data"
    }
   ],
   "source": [
    "# Use make_date() to combine year, month and mday \n",
    "akl_hourly  <- akl_hourly_raw  %>% \n",
    "  mutate(date = make_date(year = year, month = month, day = mday))\n",
    "\n",
    "# Parse datetime_string \n",
    "akl_hourly <- akl_hourly  %>% \n",
    "  mutate(\n",
    "    datetime_string = paste(date, time, sep = \"T\"),\n",
    "    datetime = ymd_hms(datetime_string)\n",
    "  )\n",
    "\n",
    "# Print date, time and datetime columns of akl_hourly\n",
    "akl_hourly %>% \n",
    "    select(date, time, datetime) %>%\n",
    "        head()"
   ]
  },
  {
   "cell_type": "code",
   "execution_count": 40,
   "metadata": {},
   "outputs": [
    {
     "data": {
      "image/png": "[encoded data removed]",
      "text/plain": [
       "plot without title"
      ]
     },
     "metadata": {},
     "output_type": "display_data"
    }
   ],
   "source": [
    "# Plot to check work\n",
    "akl_hourly %>%\n",
    "    ggplot(aes(x = datetime, y = temperature)) +\n",
    "        geom_line()\n"
   ]
  },
  {
   "cell_type": "markdown",
   "metadata": {},
   "source": [
    "It's interesting how the day to day variation is about half the size of the yearly variation."
   ]
  },
  {
   "cell_type": "markdown",
   "metadata": {},
   "source": [
    "## Extracting parts of a datetime\n",
    "\n",
    "> ### Extracting parts of a datetime"
   ]
  },
  {
   "cell_type": "code",
   "execution_count": 41,
   "metadata": {},
   "outputs": [
    {
     "data": {
      "text/html": [
       "<time datetime=\"1997-06-15\">1997-06-15</time>"
      ],
      "text/latex": [
       "1997-06-15"
      ],
      "text/markdown": [
       "1997-06-15"
      ],
      "text/plain": [
       "[1] \"1997-06-15\""
      ]
     },
     "metadata": {},
     "output_type": "display_data"
    }
   ],
   "source": [
    "yob = ymd(\"1997-06-15\")\n",
    "yob"
   ]
  },
  {
   "cell_type": "code",
   "execution_count": 42,
   "metadata": {},
   "outputs": [
    {
     "data": {
      "text/html": [
       "1997"
      ],
      "text/latex": [
       "1997"
      ],
      "text/markdown": [
       "1997"
      ],
      "text/plain": [
       "[1] 1997"
      ]
     },
     "metadata": {},
     "output_type": "display_data"
    }
   ],
   "source": [
    "year(yob)"
   ]
  },
  {
   "cell_type": "code",
   "execution_count": 43,
   "metadata": {},
   "outputs": [
    {
     "data": {
      "text/html": [
       "6"
      ],
      "text/latex": [
       "6"
      ],
      "text/markdown": [
       "6"
      ],
      "text/plain": [
       "[1] 6"
      ]
     },
     "metadata": {},
     "output_type": "display_data"
    }
   ],
   "source": [
    "month(yob)"
   ]
  },
  {
   "cell_type": "code",
   "execution_count": 44,
   "metadata": {},
   "outputs": [
    {
     "data": {
      "text/html": [
       "15"
      ],
      "text/latex": [
       "15"
      ],
      "text/markdown": [
       "15"
      ],
      "text/plain": [
       "[1] 15"
      ]
     },
     "metadata": {},
     "output_type": "display_data"
    }
   ],
   "source": [
    "day(yob)"
   ]
  },
  {
   "cell_type": "markdown",
   "metadata": {},
   "source": [
    "> ### Extracting parts of a datetime\n",
    "|Function|Extracts|\n",
    "|---|---|\n",
    "|`year()`|Year with century|\n",
    "|`month()`|Month (1-12)|\n",
    "|`day()`|Day of month (1-31)|\n",
    "|`hour()`|Hour (0-23)|\n",
    "|`min()`|Minute (0-59)|\n",
    "|`second()`|Second (0-59)|\n",
    "|`wday()`|Weekday (1-7)|\n",
    "\n",
    "\n",
    "> ### Setting parts of a datetime\n"
   ]
  },
  {
   "cell_type": "code",
   "execution_count": 45,
   "metadata": {},
   "outputs": [
    {
     "data": {
      "text/html": [
       "<time datetime=\"1997-06-15\">1997-06-15</time>"
      ],
      "text/latex": [
       "1997-06-15"
      ],
      "text/markdown": [
       "1997-06-15"
      ],
      "text/plain": [
       "[1] \"1997-06-15\""
      ]
     },
     "metadata": {},
     "output_type": "display_data"
    }
   ],
   "source": [
    "yob"
   ]
  },
  {
   "cell_type": "code",
   "execution_count": 46,
   "metadata": {},
   "outputs": [],
   "source": [
    "year(yob) <- 2020"
   ]
  },
  {
   "cell_type": "code",
   "execution_count": 47,
   "metadata": {},
   "outputs": [
    {
     "data": {
      "text/html": [
       "<time datetime=\"2020-06-15\">2020-06-15</time>"
      ],
      "text/latex": [
       "2020-06-15"
      ],
      "text/markdown": [
       "2020-06-15"
      ],
      "text/plain": [
       "[1] \"2020-06-15\""
      ]
     },
     "metadata": {},
     "output_type": "display_data"
    }
   ],
   "source": [
    "yob"
   ]
  },
  {
   "cell_type": "markdown",
   "metadata": {},
   "source": [
    "> ### Other useful functions\n",
    "|Function|Extracts|\n",
    "|---|---|\n",
    "|`leap_year()`|In leap year (TRUE or FALSE)|\n",
    "|`am()`|In morning (TRUE or FALSE)|\n",
    "|`pm()`|In afternoon (TRUE or FALSE)|\n",
    "|`dst()`|During daylight savings (TRUE or FALSE)|\n",
    "|`quarter()`|Quarter of year (1-4)|\n",
    "|`semester()`|Half of year (1-2)|"
   ]
  },
  {
   "cell_type": "code",
   "execution_count": 48,
   "metadata": {},
   "outputs": [
    {
     "data": {
      "text/plain": [
       "[1] \"1997-12-04 08:47:58 UTC\" \"1997-12-21 13:09:22 UTC\"\n",
       "[3] \"1998-01-10 00:31:55 UTC\" \"1998-03-14 19:25:55 UTC\"\n",
       "[5] \"1998-05-02 07:58:17 UTC\" \"1998-06-14 12:56:20 UTC\""
      ]
     },
     "metadata": {},
     "output_type": "display_data"
    }
   ],
   "source": [
    "# Examine the head() of release_time\n",
    "head(releases$datetime)\n",
    "\n"
   ]
  },
  {
   "cell_type": "code",
   "execution_count": 49,
   "metadata": {},
   "outputs": [
    {
     "data": {
      "text/html": [
       "<ol class=list-inline>\n",
       "\t<li>12</li>\n",
       "\t<li>12</li>\n",
       "\t<li>1</li>\n",
       "\t<li>3</li>\n",
       "\t<li>5</li>\n",
       "\t<li>6</li>\n",
       "</ol>\n"
      ],
      "text/latex": [
       "\\begin{enumerate*}\n",
       "\\item 12\n",
       "\\item 12\n",
       "\\item 1\n",
       "\\item 3\n",
       "\\item 5\n",
       "\\item 6\n",
       "\\end{enumerate*}\n"
      ],
      "text/markdown": [
       "1. 12\n",
       "2. 12\n",
       "3. 1\n",
       "4. 3\n",
       "5. 5\n",
       "6. 6\n",
       "\n",
       "\n"
      ],
      "text/plain": [
       "[1] 12 12  1  3  5  6"
      ]
     },
     "metadata": {},
     "output_type": "display_data"
    }
   ],
   "source": [
    "# Examine the head() of the months of release_time\n",
    "head(month(releases$datetime))\n",
    "\n"
   ]
  },
  {
   "cell_type": "code",
   "execution_count": 50,
   "metadata": {},
   "outputs": [
    {
     "data": {
      "text/plain": [
       ".\n",
       " 1  2  3  4  5  6  7  8  9 10 11 12 \n",
       " 5  6  8 18  5 16  4  7  2 15  6 13 "
      ]
     },
     "metadata": {},
     "output_type": "display_data"
    }
   ],
   "source": [
    "# Extract the month of releases \n",
    "month(releases$datetime) %>% table()\n",
    "\n"
   ]
  },
  {
   "cell_type": "code",
   "execution_count": 51,
   "metadata": {},
   "outputs": [
    {
     "data": {
      "text/plain": [
       ".\n",
       "1997 1998 1999 2000 2001 2002 2003 2004 2005 2006 2007 2008 2009 2010 2011 2012 \n",
       "   2   10    9    6    6    5    5    4    4    4    4    6    5    4    6    4 \n",
       "2013 2014 2015 2016 2017 \n",
       "   4    4    5    5    3 "
      ]
     },
     "metadata": {},
     "output_type": "display_data"
    }
   ],
   "source": [
    "# Extract the year of releases\n",
    "year(releases$datetime) %>% table()\n",
    "\n"
   ]
  },
  {
   "cell_type": "code",
   "execution_count": 52,
   "metadata": {},
   "outputs": [
    {
     "data": {
      "text/html": [
       "0.752380952380952"
      ],
      "text/latex": [
       "0.752380952380952"
      ],
      "text/markdown": [
       "0.752380952380952"
      ],
      "text/plain": [
       "[1] 0.752381"
      ]
     },
     "metadata": {},
     "output_type": "display_data"
    }
   ],
   "source": [
    "# How often is the hour before 12 (noon)?\n",
    "mean(hour(releases$datetime) < 12)\n",
    "\n"
   ]
  },
  {
   "cell_type": "code",
   "execution_count": 53,
   "metadata": {},
   "outputs": [
    {
     "data": {
      "text/html": [
       "0.752380952380952"
      ],
      "text/latex": [
       "0.752380952380952"
      ],
      "text/markdown": [
       "0.752380952380952"
      ],
      "text/plain": [
       "[1] 0.752381"
      ]
     },
     "metadata": {},
     "output_type": "display_data"
    }
   ],
   "source": [
    "# How often is the release in am?\n",
    "mean(am(releases$datetime))"
   ]
  },
  {
   "cell_type": "markdown",
   "metadata": {},
   "source": [
    "R versions have historically been released most in April, June, October and December, 1998 saw 10 releases and about 75% of releases happen in the morning (at least according to UTC)."
   ]
  },
  {
   "cell_type": "markdown",
   "metadata": {},
   "source": [
    "### Adding useful labels\n",
    "\n",
    "Sometimes it's nicer (especially for plotting or tables) to have named months. Both the `month()` and `wday()` (day of the week) functions have additional arguments `label` and `abbr` to achieve just that. Set `label = TRUE` to have the output labelled with month (or weekday) names, and `abbr = FALSE` for those names to be written in full rather than abbreviated."
   ]
  },
  {
   "cell_type": "code",
   "execution_count": 54,
   "metadata": {},
   "outputs": [
    {
     "data": {
      "text/plain": [
       ".\n",
       " 1  2  3  4  5  6  7 \n",
       " 3 29  9 12 18 31  3 "
      ]
     },
     "metadata": {},
     "output_type": "display_data"
    }
   ],
   "source": [
    "# Use wday() to tabulate release by day of the week\n",
    "wday(releases$datetime) %>% table()\n",
    "\n"
   ]
  },
  {
   "cell_type": "code",
   "execution_count": 55,
   "metadata": {},
   "outputs": [
    {
     "data": {
      "text/plain": [
       ".\n",
       "Sun Mon Tue Wed Thu Fri Sat \n",
       "  3  29   9  12  18  31   3 "
      ]
     },
     "metadata": {},
     "output_type": "display_data"
    }
   ],
   "source": [
    "# Add label = TRUE to make table more readable\n",
    "wday(releases$datetime, label=TRUE) %>% table()\n",
    "\n"
   ]
  },
  {
   "cell_type": "code",
   "execution_count": 56,
   "metadata": {},
   "outputs": [
    {
     "data": {
      "image/png": "[encoded data removed]",
      "text/plain": [
       "plot without title"
      ]
     },
     "metadata": {},
     "output_type": "display_data"
    }
   ],
   "source": [
    "# Create column wday to hold labelled week days\n",
    "releases$wday <- wday(releases$datetime, label=T)\n",
    "\n",
    "# Plot barchart of weekday by type of release\n",
    "releases %>%\n",
    "    ggplot(aes(wday)) +\n",
    "        geom_bar() +\n",
    "        facet_wrap(~ type, ncol = 1, scale = \"free_y\")"
   ]
  },
  {
   "cell_type": "markdown",
   "metadata": {},
   "source": [
    "Looks like not too many releases occur on the weekends, and there is quite a different weekday pattern between minor and patch releases."
   ]
  },
  {
   "cell_type": "markdown",
   "metadata": {},
   "source": [
    "### Extracting for plotting\n",
    "\n",
    "Extracting components from a datetime is particularly useful when exploring data. Earlier we imported daily data for weather in Auckland, and created a time series plot of ten years of daily maximum temperature. While that plot gives a good overview of the whole ten years, it's hard to see the annual pattern.\n",
    "\n",
    "We'll use components of the dates to help explore the pattern of maximum temperature over the year. The first step is to create some new columns to hold the extracted pieces, then we'll use them in a couple of plots."
   ]
  },
  {
   "cell_type": "code",
   "execution_count": 57,
   "metadata": {},
   "outputs": [
    {
     "name": "stderr",
     "output_type": "stream",
     "text": [
      "Warning message:\n",
      "\"Removed 1 row(s) containing missing values (geom_path).\""
     ]
    },
    {
     "data": {
      "image/png": "[encoded data removed]",
      "text/plain": [
       "plot without title"
      ]
     },
     "metadata": {},
     "output_type": "display_data"
    }
   ],
   "source": [
    "# Add columns for year, yday and month\n",
    "akl_daily <- akl_daily %>%\n",
    "  mutate(\n",
    "    year = year(date),\n",
    "    yday = yday(date),\n",
    "    month = month(date, label=T))\n",
    "\n",
    "# Plot max_temp by yday for all years\n",
    "akl_daily %>%\n",
    "    ggplot(aes(x = yday, y = max_temp)) +\n",
    "    geom_line(aes(group = year), alpha = 0.5)\n",
    "\n"
   ]
  },
  {
   "cell_type": "code",
   "execution_count": 58,
   "metadata": {},
   "outputs": [
    {
     "name": "stderr",
     "output_type": "stream",
     "text": [
      "Warning message:\n",
      "\"Removed 10 rows containing non-finite values (stat_density).\""
     ]
    },
    {
     "data": {
      "image/png": "[encoded data removed]",
      "text/plain": [
       "plot without title"
      ]
     },
     "metadata": {},
     "output_type": "display_data"
    }
   ],
   "source": [
    "# Examine distribution of max_temp by month\n",
    "akl_daily %>%\n",
    "    ggplot(aes(x = max_temp, y = month, height = ..density..)) +\n",
    "    geom_density_ridges(stat = \"density\")"
   ]
  },
  {
   "cell_type": "markdown",
   "metadata": {},
   "source": [
    "Both plots give a great view into both the expected temperatures and how much they vary. Looks like Jan, Feb and Mar are great months to visit if you want warm temperatures. Did you notice the warning messages? These are a consequence of some missing values in the `max_tem`p column. They are a reminder to think carefully about what you might miss by ignoring missing values."
   ]
  },
  {
   "cell_type": "markdown",
   "metadata": {},
   "source": [
    "### Extracting for filtering and summarizing\n",
    "\n",
    "\n",
    "Another reason to extract components is to help with filtering observations or creating summaries. For example, if you are only interested in observations made on weekdays (i.e. not on weekends) you could extract the weekdays then filter out weekends, e.g. `wday(date) %in% 2:6`.\n",
    "\n",
    "We saw that January, February and March were great times to visit Auckland for warm temperatures, but will you need a raincoat?\n",
    "\n",
    "We'll use the hourly data to calculate how many days in each month there was any rain during the day."
   ]
  },
  {
   "cell_type": "code",
   "execution_count": 59,
   "metadata": {},
   "outputs": [
    {
     "name": "stderr",
     "output_type": "stream",
     "text": [
      "`summarise()` regrouping output by 'month' (override with `.groups` argument)\n",
      "`summarise()` ungrouping output (override with `.groups` argument)\n"
     ]
    },
    {
     "data": {
      "text/html": [
       "<table>\n",
       "<thead><tr><th scope=col>month</th><th scope=col>days_rainy</th></tr></thead>\n",
       "<tbody>\n",
       "\t<tr><td>Jan</td><td>15 </td></tr>\n",
       "\t<tr><td>Feb</td><td>13 </td></tr>\n",
       "\t<tr><td>Mar</td><td>12 </td></tr>\n",
       "\t<tr><td>Apr</td><td>15 </td></tr>\n",
       "\t<tr><td>May</td><td>21 </td></tr>\n",
       "\t<tr><td>Jun</td><td>19 </td></tr>\n",
       "\t<tr><td>Jul</td><td>22 </td></tr>\n",
       "\t<tr><td>Aug</td><td>16 </td></tr>\n",
       "\t<tr><td>Sep</td><td>25 </td></tr>\n",
       "\t<tr><td>Oct</td><td>20 </td></tr>\n",
       "\t<tr><td>Nov</td><td>19 </td></tr>\n",
       "\t<tr><td>Dec</td><td>11 </td></tr>\n",
       "</tbody>\n",
       "</table>\n"
      ],
      "text/latex": [
       "\\begin{tabular}{r|ll}\n",
       " month & days\\_rainy\\\\\n",
       "\\hline\n",
       "\t Jan & 15 \\\\\n",
       "\t Feb & 13 \\\\\n",
       "\t Mar & 12 \\\\\n",
       "\t Apr & 15 \\\\\n",
       "\t May & 21 \\\\\n",
       "\t Jun & 19 \\\\\n",
       "\t Jul & 22 \\\\\n",
       "\t Aug & 16 \\\\\n",
       "\t Sep & 25 \\\\\n",
       "\t Oct & 20 \\\\\n",
       "\t Nov & 19 \\\\\n",
       "\t Dec & 11 \\\\\n",
       "\\end{tabular}\n"
      ],
      "text/markdown": [
       "\n",
       "| month | days_rainy |\n",
       "|---|---|\n",
       "| Jan | 15  |\n",
       "| Feb | 13  |\n",
       "| Mar | 12  |\n",
       "| Apr | 15  |\n",
       "| May | 21  |\n",
       "| Jun | 19  |\n",
       "| Jul | 22  |\n",
       "| Aug | 16  |\n",
       "| Sep | 25  |\n",
       "| Oct | 20  |\n",
       "| Nov | 19  |\n",
       "| Dec | 11  |\n",
       "\n"
      ],
      "text/plain": [
       "   month days_rainy\n",
       "1  Jan   15        \n",
       "2  Feb   13        \n",
       "3  Mar   12        \n",
       "4  Apr   15        \n",
       "5  May   21        \n",
       "6  Jun   19        \n",
       "7  Jul   22        \n",
       "8  Aug   16        \n",
       "9  Sep   25        \n",
       "10 Oct   20        \n",
       "11 Nov   19        \n",
       "12 Dec   11        "
      ]
     },
     "metadata": {},
     "output_type": "display_data"
    }
   ],
   "source": [
    "# Create new columns hour, month and rainy\n",
    "akl_hourly <- akl_hourly %>%\n",
    "  mutate(\n",
    "    hour = hour(datetime),\n",
    "    month = month(datetime, label=T),\n",
    "    rainy = weather == \"Precipitation\"\n",
    "  )\n",
    "\n",
    "# Filter for hours between 8am and 10pm (inclusive)\n",
    "akl_day <- akl_hourly %>% \n",
    "  filter(hour>=8, hour<=22)\n",
    "\n",
    "# Summarise for each date if there is any rain\n",
    "rainy_days <- akl_day %>% \n",
    "  group_by(month, date) %>%\n",
    "  summarise(\n",
    "    any_rain = any(rainy)\n",
    "  )\n",
    "\n",
    "# Summarise for each month, the number of days with rain\n",
    "rainy_days<- rainy_days %>% \n",
    "    summarise(\n",
    "        days_rainy = sum(any_rain)\n",
    "    )\n",
    "rainy_days"
   ]
  },
  {
   "cell_type": "markdown",
   "metadata": {},
   "source": [
    "At least in 2016, it looks like you'll still need to pack a raincoat if you visit in Jan, Feb or March. Months of course are different lengths so we should really correct for that, take a look at [`days_in_month()`](https://www.rdocumentation.org/packages/lubridate/topics/days_in_month) for helping with that."
   ]
  },
  {
   "cell_type": "markdown",
   "metadata": {},
   "source": [
    "## Rounding datetimes\n",
    "\n",
    "> ### Rounding versus extracting"
   ]
  },
  {
   "cell_type": "code",
   "execution_count": 60,
   "metadata": {},
   "outputs": [
    {
     "data": {
      "text/plain": [
       "[1] \"1997-12-04 08:47:58 UTC\" \"1997-12-21 13:09:22 UTC\"\n",
       "[3] \"1998-01-10 00:31:55 UTC\" \"1998-03-14 19:25:55 UTC\"\n",
       "[5] \"1998-05-02 07:58:17 UTC\" \"1998-06-14 12:56:20 UTC\""
      ]
     },
     "metadata": {},
     "output_type": "display_data"
    }
   ],
   "source": [
    "release_time = releases$datetime\n",
    "head(release_time)"
   ]
  },
  {
   "cell_type": "code",
   "execution_count": 61,
   "metadata": {},
   "outputs": [
    {
     "data": {
      "text/html": [
       "<ol class=list-inline>\n",
       "\t<li>8</li>\n",
       "\t<li>13</li>\n",
       "\t<li>0</li>\n",
       "\t<li>19</li>\n",
       "\t<li>7</li>\n",
       "\t<li>12</li>\n",
       "</ol>\n"
      ],
      "text/latex": [
       "\\begin{enumerate*}\n",
       "\\item 8\n",
       "\\item 13\n",
       "\\item 0\n",
       "\\item 19\n",
       "\\item 7\n",
       "\\item 12\n",
       "\\end{enumerate*}\n"
      ],
      "text/markdown": [
       "1. 8\n",
       "2. 13\n",
       "3. 0\n",
       "4. 19\n",
       "5. 7\n",
       "6. 12\n",
       "\n",
       "\n"
      ],
      "text/plain": [
       "[1]  8 13  0 19  7 12"
      ]
     },
     "metadata": {},
     "output_type": "display_data"
    }
   ],
   "source": [
    "release_time %>%\n",
    "    head() %>%\n",
    "        hour()"
   ]
  },
  {
   "cell_type": "code",
   "execution_count": 62,
   "metadata": {},
   "outputs": [
    {
     "data": {
      "text/plain": [
       "[1] \"1997-12-04 08:00:00 UTC\" \"1997-12-21 13:00:00 UTC\"\n",
       "[3] \"1998-01-10 00:00:00 UTC\" \"1998-03-14 19:00:00 UTC\"\n",
       "[5] \"1998-05-02 07:00:00 UTC\" \"1998-06-14 12:00:00 UTC\""
      ]
     },
     "metadata": {},
     "output_type": "display_data"
    }
   ],
   "source": [
    "release_time %>%\n",
    "    head() %>%\n",
    "        floor_date(unit=\"hour\")"
   ]
  },
  {
   "cell_type": "markdown",
   "metadata": {},
   "source": [
    "> ### Rounding in lubridate\n",
    "- `round_date()` - round to nearest\n",
    "- `ceiling_date()` - round up\n",
    "- `floor_date()` - round to down\n",
    "- Possible values of unit:\n",
    "  - `\"second\"`, `\"minute\"`, `\"hour\"`, `\"day\"`, `\"week\"`, `\"month\"`, `\"bimonth\"`, `\"quarter\"`, `\"halfyear\"`, or `\"year\"`.\n",
    "  - Or multiples, e.g `\"2 years\"`, `\"5 minutes\"`\n"
   ]
  },
  {
   "cell_type": "code",
   "execution_count": 63,
   "metadata": {},
   "outputs": [
    {
     "data": {
      "text/plain": [
       "[1] \"2016-05-03 UTC\""
      ]
     },
     "metadata": {},
     "output_type": "display_data"
    }
   ],
   "source": [
    "r_3_4_1 <- ymd_hms(\"2016-05-03 07:13:28 UTC\")\n",
    "\n",
    "# Round down to day\n",
    "floor_date(r_3_4_1, unit = \"day\")\n",
    "\n"
   ]
  },
  {
   "cell_type": "code",
   "execution_count": 64,
   "metadata": {},
   "outputs": [
    {
     "data": {
      "text/plain": [
       "[1] \"2016-05-03 07:15:00 UTC\""
      ]
     },
     "metadata": {},
     "output_type": "display_data"
    }
   ],
   "source": [
    "# Round to nearest 5 minutes\n",
    "round_date(r_3_4_1, unit = \"5 minutes\")\n",
    "\n"
   ]
  },
  {
   "cell_type": "code",
   "execution_count": 65,
   "metadata": {},
   "outputs": [
    {
     "data": {
      "text/plain": [
       "[1] \"2016-05-08 UTC\""
      ]
     },
     "metadata": {},
     "output_type": "display_data"
    }
   ],
   "source": [
    "# Round up to week \n",
    "ceiling_date(r_3_4_1, unit = \"week\")\n",
    "\n"
   ]
  },
  {
   "cell_type": "code",
   "execution_count": 66,
   "metadata": {},
   "outputs": [
    {
     "data": {
      "text/plain": [
       "Time difference of 7.224444 hours"
      ]
     },
     "metadata": {},
     "output_type": "display_data"
    }
   ],
   "source": [
    "# Subtract r_3_4_1 rounded down to day\n",
    "r_3_4_1 - floor_date(r_3_4_1, unit = \"day\")"
   ]
  },
  {
   "cell_type": "markdown",
   "metadata": {},
   "source": [
    "That last technique of subtracting a rounded datetime from an unrounded one is a really useful trick to remember."
   ]
  },
  {
   "cell_type": "markdown",
   "metadata": {},
   "source": [
    "### Rounding with the weather data\n",
    "\n",
    "\n",
    "When is rounding useful? In a lot of the same situations extracting date components is useful. The advantage of rounding over extracting is that it maintains the context of the unit. For example, extracting the hour gives you the hour the datetime occurred, but you lose the day that hour occurred on (unless you extract that too), on the other hand, rounding to the nearest hour maintains the day, month and year.\n",
    "\n",
    "We'll explore how many observations per hour there really are in the hourly Auckland weather data."
   ]
  },
  {
   "cell_type": "code",
   "execution_count": 67,
   "metadata": {},
   "outputs": [
    {
     "data": {
      "text/html": [
       "<table>\n",
       "<thead><tr><th scope=col>day_hour</th><th scope=col>n</th></tr></thead>\n",
       "<tbody>\n",
       "\t<tr><td>2016-01-01 00:00:00</td><td>2                  </td></tr>\n",
       "\t<tr><td>2016-01-01 01:00:00</td><td>2                  </td></tr>\n",
       "\t<tr><td>2016-01-01 02:00:00</td><td>2                  </td></tr>\n",
       "\t<tr><td>2016-01-01 03:00:00</td><td>2                  </td></tr>\n",
       "\t<tr><td>2016-01-01 04:00:00</td><td>2                  </td></tr>\n",
       "\t<tr><td>2016-01-01 05:00:00</td><td>2                  </td></tr>\n",
       "</tbody>\n",
       "</table>\n"
      ],
      "text/latex": [
       "\\begin{tabular}{r|ll}\n",
       " day\\_hour & n\\\\\n",
       "\\hline\n",
       "\t 2016-01-01 00:00:00 & 2                  \\\\\n",
       "\t 2016-01-01 01:00:00 & 2                  \\\\\n",
       "\t 2016-01-01 02:00:00 & 2                  \\\\\n",
       "\t 2016-01-01 03:00:00 & 2                  \\\\\n",
       "\t 2016-01-01 04:00:00 & 2                  \\\\\n",
       "\t 2016-01-01 05:00:00 & 2                  \\\\\n",
       "\\end{tabular}\n"
      ],
      "text/markdown": [
       "\n",
       "| day_hour | n |\n",
       "|---|---|\n",
       "| 2016-01-01 00:00:00 | 2                   |\n",
       "| 2016-01-01 01:00:00 | 2                   |\n",
       "| 2016-01-01 02:00:00 | 2                   |\n",
       "| 2016-01-01 03:00:00 | 2                   |\n",
       "| 2016-01-01 04:00:00 | 2                   |\n",
       "| 2016-01-01 05:00:00 | 2                   |\n",
       "\n"
      ],
      "text/plain": [
       "  day_hour            n\n",
       "1 2016-01-01 00:00:00 2\n",
       "2 2016-01-01 01:00:00 2\n",
       "3 2016-01-01 02:00:00 2\n",
       "4 2016-01-01 03:00:00 2\n",
       "5 2016-01-01 04:00:00 2\n",
       "6 2016-01-01 05:00:00 2"
      ]
     },
     "metadata": {},
     "output_type": "display_data"
    }
   ],
   "source": [
    "# Create day_hour, datetime rounded down to hour\n",
    "akl_hourly <- akl_hourly %>%\n",
    "  mutate(\n",
    "    day_hour = floor_date(datetime, unit = \"hour\")\n",
    "  )\n",
    "\n",
    "# Count observations per hour  \n",
    "akl_hourly %>% \n",
    "    count(day_hour) %>%\n",
    "    head()"
   ]
  },
  {
   "cell_type": "code",
   "execution_count": 68,
   "metadata": {},
   "outputs": [
    {
     "data": {
      "text/html": [
       "<table>\n",
       "<thead><tr><th scope=col>day_hour</th><th scope=col>n</th></tr></thead>\n",
       "<tbody>\n",
       "\t<tr><td>2016-04-03 02:00:00</td><td>4                  </td></tr>\n",
       "\t<tr><td>2016-09-25 00:00:00</td><td>4                  </td></tr>\n",
       "\t<tr><td>2016-06-26 09:00:00</td><td>1                  </td></tr>\n",
       "\t<tr><td>2016-09-01 23:00:00</td><td>1                  </td></tr>\n",
       "\t<tr><td>2016-09-02 01:00:00</td><td>1                  </td></tr>\n",
       "\t<tr><td>2016-09-04 11:00:00</td><td>1                  </td></tr>\n",
       "</tbody>\n",
       "</table>\n"
      ],
      "text/latex": [
       "\\begin{tabular}{r|ll}\n",
       " day\\_hour & n\\\\\n",
       "\\hline\n",
       "\t 2016-04-03 02:00:00 & 4                  \\\\\n",
       "\t 2016-09-25 00:00:00 & 4                  \\\\\n",
       "\t 2016-06-26 09:00:00 & 1                  \\\\\n",
       "\t 2016-09-01 23:00:00 & 1                  \\\\\n",
       "\t 2016-09-02 01:00:00 & 1                  \\\\\n",
       "\t 2016-09-04 11:00:00 & 1                  \\\\\n",
       "\\end{tabular}\n"
      ],
      "text/markdown": [
       "\n",
       "| day_hour | n |\n",
       "|---|---|\n",
       "| 2016-04-03 02:00:00 | 4                   |\n",
       "| 2016-09-25 00:00:00 | 4                   |\n",
       "| 2016-06-26 09:00:00 | 1                   |\n",
       "| 2016-09-01 23:00:00 | 1                   |\n",
       "| 2016-09-02 01:00:00 | 1                   |\n",
       "| 2016-09-04 11:00:00 | 1                   |\n",
       "\n"
      ],
      "text/plain": [
       "  day_hour            n\n",
       "1 2016-04-03 02:00:00 4\n",
       "2 2016-09-25 00:00:00 4\n",
       "3 2016-06-26 09:00:00 1\n",
       "4 2016-09-01 23:00:00 1\n",
       "5 2016-09-02 01:00:00 1\n",
       "6 2016-09-04 11:00:00 1"
      ]
     },
     "metadata": {},
     "output_type": "display_data"
    }
   ],
   "source": [
    "# Find day_hours with n != 2  \n",
    "akl_hourly %>% \n",
    "    count(day_hour) %>%\n",
    "        filter(n!=2) %>% \n",
    "            arrange(desc(n)) %>%\n",
    "                head()"
   ]
  },
  {
   "cell_type": "markdown",
   "metadata": {},
   "source": [
    "Interestingly there are four measurements on 2016-04-03 and 2016-09-25, they happen to be the days Daylight Saving starts and ends."
   ]
  },
  {
   "cell_type": "markdown",
   "metadata": {},
   "source": [
    "# Arithmetic with Dates and Times\n",
    "\n",
    "Getting datetimes into R is just the first step. Now we've explored how to parse datetimes, we need to explore how to do calculations with them. Here we'll learn the different ways of representing spans of time with lubridate and how to leverage them to do arithmetic on datetimes. By the end we'll have calculated how long it's been since the first man stepped on the moon, generated sequences of dates to help schedule reminders, calculated when an eclipse occurs, and explored the reigns of monarch's of England (and which ones might have seen Halley's comet!)."
   ]
  },
  {
   "cell_type": "markdown",
   "metadata": {},
   "source": [
    "## Taking differences of datetimes\n",
    "\n",
    "\n",
    "> ### Arithmetic for datetimes\n",
    "- `datetime_1 - datetime2`: Subtraction for time elapsed\n",
    "- `datetime_1 + (2 * timespan)`: Addition and multiplication for generating new datetimes in the past or future\n",
    "- `timespan1 / timespan2`: Division for change of units\n",
    "\n",
    "> ### Subtraction of datetimes"
   ]
  },
  {
   "cell_type": "code",
   "execution_count": 69,
   "metadata": {},
   "outputs": [
    {
     "data": {
      "text/html": [
       "<time datetime=\"2017-06-30\">2017-06-30</time>"
      ],
      "text/latex": [
       "2017-06-30"
      ],
      "text/markdown": [
       "2017-06-30"
      ],
      "text/plain": [
       "[1] \"2017-06-30\""
      ]
     },
     "metadata": {},
     "output_type": "display_data"
    }
   ],
   "source": [
    "last_release_date"
   ]
  },
  {
   "cell_type": "code",
   "execution_count": 70,
   "metadata": {},
   "outputs": [
    {
     "data": {
      "text/plain": [
       "Time difference of 1110 days"
      ]
     },
     "metadata": {},
     "output_type": "display_data"
    }
   ],
   "source": [
    "Sys.Date() - last_release_date"
   ]
  },
  {
   "cell_type": "code",
   "execution_count": 71,
   "metadata": {},
   "outputs": [
    {
     "data": {
      "text/plain": [
       "Time difference of 1110 days"
      ]
     },
     "metadata": {},
     "output_type": "display_data"
    }
   ],
   "source": [
    "difftime(Sys.Date(), last_release_date)"
   ]
  },
  {
   "cell_type": "markdown",
   "metadata": {},
   "source": [
    "> ### difftime()\n",
    "- units =`\"secs\"`,`\"mins\"`,`\"hours\"`,`\"days\"`, or `\"weeks\"`"
   ]
  },
  {
   "cell_type": "code",
   "execution_count": 72,
   "metadata": {},
   "outputs": [
    {
     "data": {
      "text/html": [
       "<time datetime=\"1997-06-15\">1997-06-15</time>"
      ],
      "text/latex": [
       "1997-06-15"
      ],
      "text/markdown": [
       "1997-06-15"
      ],
      "text/plain": [
       "[1] \"1997-06-15\""
      ]
     },
     "metadata": {},
     "output_type": "display_data"
    }
   ],
   "source": [
    "year(yob) <- 1997\n",
    "yob"
   ]
  },
  {
   "cell_type": "code",
   "execution_count": 73,
   "metadata": {},
   "outputs": [
    {
     "data": {
      "text/plain": [
       "Time difference of 1204.286 weeks"
      ]
     },
     "metadata": {},
     "output_type": "display_data"
    }
   ],
   "source": [
    "difftime(Sys.Date(), yob, units=\"weeks\")"
   ]
  },
  {
   "cell_type": "code",
   "execution_count": 74,
   "metadata": {},
   "outputs": [
    {
     "data": {
      "text/plain": [
       "Time difference of 8430 days"
      ]
     },
     "metadata": {},
     "output_type": "display_data"
    }
   ],
   "source": [
    "difftime(Sys.Date(), yob, units=\"days\")"
   ]
  },
  {
   "cell_type": "code",
   "execution_count": 75,
   "metadata": {},
   "outputs": [
    {
     "data": {
      "text/plain": [
       "Time difference of 728352000 secs"
      ]
     },
     "metadata": {},
     "output_type": "display_data"
    }
   ],
   "source": [
    "difftime(Sys.Date(), yob, units=\"secs\")"
   ]
  },
  {
   "cell_type": "markdown",
   "metadata": {},
   "source": [
    "> ### now() and today()"
   ]
  },
  {
   "cell_type": "code",
   "execution_count": 76,
   "metadata": {},
   "outputs": [
    {
     "data": {
      "text/plain": [
       "[1] \"2020-07-14 09:07:16 EAT\""
      ]
     },
     "metadata": {},
     "output_type": "display_data"
    }
   ],
   "source": [
    "now()"
   ]
  },
  {
   "cell_type": "code",
   "execution_count": 77,
   "metadata": {},
   "outputs": [
    {
     "data": {
      "text/html": [
       "<time datetime=\"2020-07-14\">2020-07-14</time>"
      ],
      "text/latex": [
       "2020-07-14"
      ],
      "text/markdown": [
       "2020-07-14"
      ],
      "text/plain": [
       "[1] \"2020-07-14\""
      ]
     },
     "metadata": {},
     "output_type": "display_data"
    }
   ],
   "source": [
    "today()"
   ]
  },
  {
   "cell_type": "code",
   "execution_count": 78,
   "metadata": {},
   "outputs": [
    {
     "name": "stdout",
     "output_type": "stream",
     "text": [
      " Date[1:1], format: \"2020-07-14\"\n"
     ]
    }
   ],
   "source": [
    "str(today())"
   ]
  },
  {
   "cell_type": "markdown",
   "metadata": {},
   "source": [
    "### How long has it been?\n",
    "\n",
    "\n",
    "To get finer control over a difference between datetimes use the `base` function `difftime()`. For example instead of `time1 - time2`, we can use `difftime(time1, time2)`.\n",
    "\n",
    "`difftime()` takes an argument units which specifies the units for the difference. Your options are `\"secs\"`, `\"mins\"`, `\"hours\"`, `\"days\"`, or `\"weeks\"`.\n",
    "\n",
    "We'll find the time since the first man stepped on the moon. "
   ]
  },
  {
   "cell_type": "code",
   "execution_count": 79,
   "metadata": {},
   "outputs": [
    {
     "data": {
      "text/plain": [
       "Time difference of 18622 days"
      ]
     },
     "metadata": {},
     "output_type": "display_data"
    }
   ],
   "source": [
    "# The date of landing and moment of step\n",
    "date_landing <- mdy(\"July 20, 1969\")\n",
    "moment_step <- mdy_hms(\"July 20, 1969, 02:56:15\", tz = \"UTC\")\n",
    "\n",
    "# How many days since the first man on the moon?\n",
    "difftime(today(), date_landing, units = \"days\")"
   ]
  },
  {
   "cell_type": "code",
   "execution_count": 80,
   "metadata": {},
   "outputs": [
    {
     "data": {
      "text/plain": [
       "Time difference of 1608952266 secs"
      ]
     },
     "metadata": {},
     "output_type": "display_data"
    }
   ],
   "source": [
    "# How many seconds since the first man on the moon?\n",
    "difftime(now(), moment_step, units=\"secs\")"
   ]
  },
  {
   "cell_type": "markdown",
   "metadata": {},
   "source": [
    "### How many seconds are in a day?\n",
    "\n",
    "How many seconds are in a day? There are 24 hours in a day, 60 minutes in an hour, and 60 seconds in a minute, so there should be 24*60*60 = 86400 seconds, right?\n",
    "\n",
    "Not always! We'll see a counter example."
   ]
  },
  {
   "cell_type": "code",
   "execution_count": 81,
   "metadata": {},
   "outputs": [
    {
     "data": {
      "text/plain": [
       "Time difference of 86400 secs"
      ]
     },
     "metadata": {},
     "output_type": "display_data"
    }
   ],
   "source": [
    "# Three dates\n",
    "mar_11 <- ymd_hms(\"2017-03-11 12:00:00\", \n",
    "  tz = \"America/Los_Angeles\")\n",
    "mar_12 <- ymd_hms(\"2017-03-12 12:00:00\", \n",
    "  tz = \"America/Los_Angeles\")\n",
    "mar_13 <- ymd_hms(\"2017-03-13 12:00:00\", \n",
    "  tz = \"America/Los_Angeles\")\n",
    "\n",
    "# Difference between mar_13 and mar_12 in seconds\n",
    "difftime(mar_13, mar_12, units = \"secs\")"
   ]
  },
  {
   "cell_type": "code",
   "execution_count": 82,
   "metadata": {},
   "outputs": [
    {
     "data": {
      "text/plain": [
       "Time difference of 82800 secs"
      ]
     },
     "metadata": {},
     "output_type": "display_data"
    }
   ],
   "source": [
    "# Difference between mar_12 and mar_11 in seconds\n",
    "difftime(mar_12, mar_11, units = \"secs\")"
   ]
  },
  {
   "cell_type": "markdown",
   "metadata": {},
   "source": [
    "Why would a day only have 82800 seconds? At 2am on Mar 12th 2017, Daylight Savings started in the Pacific timezone. That means a whole hour of seconds gets skipped between noon on the 11th and noon on the 12th."
   ]
  },
  {
   "cell_type": "markdown",
   "metadata": {},
   "source": [
    "## Time spans.\n",
    "\n",
    "> ### Time spans in lubridate\n",
    "|period|Duration|\n",
    "|---|---|\n",
    "|Human concept of a timespan|Stopwatch concept of a time span|\n",
    "|`datetime + period` of `oneday` = same time on the next date|datetime + duration of oneday = datetime + 86400seconds|\n",
    "|variable length| fixed number of seconds|\n",
    "\n",
    "\n",
    "> ### Creating a time span\n"
   ]
  },
  {
   "cell_type": "code",
   "execution_count": 83,
   "metadata": {},
   "outputs": [
    {
     "data": {
      "text/html": [
       "1d 0H 0M 0S"
      ],
      "text/latex": [
       "1d 0H 0M 0S"
      ],
      "text/markdown": [
       "1d 0H 0M 0S"
      ],
      "text/plain": [
       "[1] \"1d 0H 0M 0S\""
      ]
     },
     "metadata": {},
     "output_type": "display_data"
    }
   ],
   "source": [
    "days()"
   ]
  },
  {
   "cell_type": "code",
   "execution_count": 84,
   "metadata": {},
   "outputs": [
    {
     "data": {
      "text/html": [
       "2d 0H 0M 0S"
      ],
      "text/latex": [
       "2d 0H 0M 0S"
      ],
      "text/markdown": [
       "2d 0H 0M 0S"
      ],
      "text/plain": [
       "[1] \"2d 0H 0M 0S\""
      ]
     },
     "metadata": {},
     "output_type": "display_data"
    }
   ],
   "source": [
    "days(x=2)"
   ]
  },
  {
   "cell_type": "code",
   "execution_count": 85,
   "metadata": {},
   "outputs": [
    {
     "data": {
      "text/html": [
       "172800s (~2 days)"
      ],
      "text/latex": [
       "172800s (\\textasciitilde{}2 days)"
      ],
      "text/markdown": [
       "172800s (~2 days)"
      ],
      "text/plain": [
       "[1] \"172800s (~2 days)\""
      ]
     },
     "metadata": {},
     "output_type": "display_data"
    }
   ],
   "source": [
    "ddays(2)"
   ]
  },
  {
   "cell_type": "markdown",
   "metadata": {},
   "source": [
    "> ### Arithmetic with time spans"
   ]
  },
  {
   "cell_type": "code",
   "execution_count": 86,
   "metadata": {},
   "outputs": [
    {
     "data": {
      "text/html": [
       "2d 0H 0M 0S"
      ],
      "text/latex": [
       "2d 0H 0M 0S"
      ],
      "text/markdown": [
       "2d 0H 0M 0S"
      ],
      "text/plain": [
       "[1] \"2d 0H 0M 0S\""
      ]
     },
     "metadata": {},
     "output_type": "display_data"
    }
   ],
   "source": [
    "2 * days()"
   ]
  },
  {
   "cell_type": "code",
   "execution_count": 87,
   "metadata": {},
   "outputs": [
    {
     "data": {
      "text/html": [
       "2d 0H 0M 0S"
      ],
      "text/latex": [
       "2d 0H 0M 0S"
      ],
      "text/markdown": [
       "2d 0H 0M 0S"
      ],
      "text/plain": [
       "[1] \"2d 0H 0M 0S\""
      ]
     },
     "metadata": {},
     "output_type": "display_data"
    }
   ],
   "source": [
    "days() + days()"
   ]
  },
  {
   "cell_type": "code",
   "execution_count": 88,
   "metadata": {},
   "outputs": [
    {
     "data": {
      "text/html": [
       "<time datetime=\"2020-07-14\">2020-07-14</time>"
      ],
      "text/latex": [
       "2020-07-14"
      ],
      "text/markdown": [
       "2020-07-14"
      ],
      "text/plain": [
       "[1] \"2020-07-14\""
      ]
     },
     "metadata": {},
     "output_type": "display_data"
    }
   ],
   "source": [
    "ymd(\"2020-07-13\") + days()"
   ]
  },
  {
   "cell_type": "markdown",
   "metadata": {},
   "source": [
    "> ### Functions to create time spans\n",
    "|Time span| Duration|Period|\n",
    "|---|---|---|\n",
    "|Seconds|`dseconds()`|`seconds()`|\n",
    "|Minutes|`dminutes()`|`minutes()`|\n",
    "|Hours|`dhours()`|`hours()`|\n",
    "|Days|`ddays()`|`days()`|\n",
    "|Weeks|`dweeks()`|`weeks()`|\n",
    "|Months|-|`months()`|\n",
    "|Years|`dyears()`|`years()`|\n"
   ]
  },
  {
   "cell_type": "code",
   "execution_count": 89,
   "metadata": {},
   "outputs": [
    {
     "data": {
      "text/html": [
       "86400s (~1 days)"
      ],
      "text/latex": [
       "86400s (\\textasciitilde{}1 days)"
      ],
      "text/markdown": [
       "86400s (~1 days)"
      ],
      "text/plain": [
       "[1] \"86400s (~1 days)\""
      ]
     },
     "metadata": {},
     "output_type": "display_data"
    }
   ],
   "source": [
    "ddays()"
   ]
  },
  {
   "cell_type": "markdown",
   "metadata": {},
   "source": [
    "### Adding or subtracting a time span to a datetime\n",
    "\n",
    "A common use of time spans is to add or subtract them from a moment in time. For, example to calculate the time one day in the future from `mar_11`, you could do either of:"
   ]
  },
  {
   "cell_type": "code",
   "execution_count": 90,
   "metadata": {},
   "outputs": [
    {
     "data": {
      "text/plain": [
       "[1] \"2017-03-12 12:00:00 PDT\""
      ]
     },
     "metadata": {},
     "output_type": "display_data"
    }
   ],
   "source": [
    "mar_11+days()"
   ]
  },
  {
   "cell_type": "code",
   "execution_count": 91,
   "metadata": {},
   "outputs": [
    {
     "data": {
      "text/plain": [
       "[1] \"2017-03-12 13:00:00 PDT\""
      ]
     },
     "metadata": {},
     "output_type": "display_data"
    }
   ],
   "source": [
    "mar_11+ddays()"
   ]
  },
  {
   "cell_type": "markdown",
   "metadata": {},
   "source": [
    "But which one is the right one? It depends on your intent. If you want to account for the fact that time units, in this case days, have different lengths (i.e. due to daylight savings), you want a period `days()`. If you want the time 86400 seconds in the future you use a duration `ddays()`.\n",
    "\n",
    "We'll add and subtract timespans from dates and datetimes."
   ]
  },
  {
   "cell_type": "code",
   "execution_count": 92,
   "metadata": {},
   "outputs": [
    {
     "data": {
      "text/plain": [
       "[1] \"2018-09-03 14:00:00 UTC\""
      ]
     },
     "metadata": {},
     "output_type": "display_data"
    }
   ],
   "source": [
    "# Add a period of one week to mon_2pm\n",
    "mon_2pm <- dmy_hm(\"27 Aug 2018 14:00\")\n",
    "mon_2pm + weeks()"
   ]
  },
  {
   "cell_type": "code",
   "execution_count": 93,
   "metadata": {},
   "outputs": [
    {
     "data": {
      "text/plain": [
       "[1] \"2018-08-31 18:00:00 UTC\""
      ]
     },
     "metadata": {},
     "output_type": "display_data"
    }
   ],
   "source": [
    "# Add a duration of 81 hours to tue_9am\n",
    "tue_9am <- dmy_hm(\"28 Aug 2018 9:00\")\n",
    "tue_9am + dhours(81)"
   ]
  },
  {
   "cell_type": "code",
   "execution_count": 94,
   "metadata": {},
   "outputs": [
    {
     "data": {
      "text/html": [
       "<time datetime=\"2015-07-14\">2015-07-14</time>"
      ],
      "text/latex": [
       "2015-07-14"
      ],
      "text/markdown": [
       "2015-07-14"
      ],
      "text/plain": [
       "[1] \"2015-07-14\""
      ]
     },
     "metadata": {},
     "output_type": "display_data"
    }
   ],
   "source": [
    "# Subtract a period of five years from today()\n",
    "today() - years(5)"
   ]
  },
  {
   "cell_type": "code",
   "execution_count": 95,
   "metadata": {},
   "outputs": [
    {
     "data": {
      "text/plain": [
       "[1] \"2015-07-14 18:00:00 UTC\""
      ]
     },
     "metadata": {},
     "output_type": "display_data"
    }
   ],
   "source": [
    "# Subtract a duration of five years from today()\n",
    "today() - dyears(5)"
   ]
  },
  {
   "cell_type": "markdown",
   "metadata": {},
   "source": [
    "Why did subtracting a duration of five years from today, give a different answer to subtracting a period of five years? Periods know about leap years, and since five years ago includes at least one leap year, the period of five years is longer than the duration of 365*5 days."
   ]
  },
  {
   "cell_type": "markdown",
   "metadata": {},
   "source": [
    "> Note: when dealing with human interpretaions of dates and time you want to use periods."
   ]
  },
  {
   "cell_type": "markdown",
   "metadata": {},
   "source": [
    "### Arithmetic with timespans\n",
    "\n",
    "You can add and subtract timespans to create different length timespans, and even multiply them by numbers. For example, to create a duration of three days and three hours you could do:"
   ]
  },
  {
   "cell_type": "code",
   "execution_count": 96,
   "metadata": {},
   "outputs": [
    {
     "data": {
      "text/html": [
       "270000s (~3.12 days)"
      ],
      "text/latex": [
       "270000s (\\textasciitilde{}3.12 days)"
      ],
      "text/markdown": [
       "270000s (~3.12 days)"
      ],
      "text/plain": [
       "[1] \"270000s (~3.12 days)\""
      ]
     },
     "metadata": {},
     "output_type": "display_data"
    }
   ],
   "source": [
    "ddays(3) + dhours(3)"
   ]
  },
  {
   "cell_type": "markdown",
   "metadata": {},
   "source": [
    "or "
   ]
  },
  {
   "cell_type": "code",
   "execution_count": 97,
   "metadata": {},
   "outputs": [
    {
     "data": {
      "text/html": [
       "270000s (~3.12 days)"
      ],
      "text/latex": [
       "270000s (\\textasciitilde{}3.12 days)"
      ],
      "text/markdown": [
       "270000s (~3.12 days)"
      ],
      "text/plain": [
       "[1] \"270000s (~3.12 days)\""
      ]
     },
     "metadata": {},
     "output_type": "display_data"
    }
   ],
   "source": [
    "3*ddays(1) + 3*dhours(1)"
   ]
  },
  {
   "cell_type": "markdown",
   "metadata": {},
   "source": [
    " or even "
   ]
  },
  {
   "cell_type": "code",
   "execution_count": 98,
   "metadata": {},
   "outputs": [
    {
     "data": {
      "text/html": [
       "270000s (~3.12 days)"
      ],
      "text/latex": [
       "270000s (\\textasciitilde{}3.12 days)"
      ],
      "text/markdown": [
       "270000s (~3.12 days)"
      ],
      "text/plain": [
       "[1] \"270000s (~3.12 days)\""
      ]
     },
     "metadata": {},
     "output_type": "display_data"
    }
   ],
   "source": [
    "3*(ddays(1) + dhours(1))"
   ]
  },
  {
   "cell_type": "markdown",
   "metadata": {},
   "source": [
    "There was an eclipse over North America on 2017-08-21 at 18:26:40. It's possible to predict the next eclipse with similar geometry by calculating the time and date one [Saros](https://eclipse.gsfc.nasa.gov/SEsaros/SEsaros.html) in the future. A Saros is a length of time that corresponds to 223 Synodic months, a Synodic month being the period of the Moon's phases, a duration of 29 days, 12 hours, 44 minutes and 3 seconds."
   ]
  },
  {
   "cell_type": "code",
   "execution_count": 99,
   "metadata": {},
   "outputs": [
    {
     "data": {
      "text/plain": [
       "[1] \"2035-09-02 02:09:49 UTC\""
      ]
     },
     "metadata": {},
     "output_type": "display_data"
    }
   ],
   "source": [
    "# Time of North American Eclipse 2017\n",
    "eclipse_2017 <- ymd_hms(\"2017-08-21 18:26:40\")\n",
    "\n",
    "# Duration of 29 days, 12 hours, 44 mins and 3 secs\n",
    "synodic <- ddays(29) + dhours(12) + dminutes(44) + dseconds(3)\n",
    "\n",
    "# 223 synodic months\n",
    "saros <- 223 * synodic\n",
    "\n",
    "# Add saros to eclipse_2017\n",
    "saros + eclipse_2017"
   ]
  },
  {
   "cell_type": "markdown",
   "metadata": {},
   "source": [
    "2035 is a long way away for an eclipse, but luckily there are eclipses on different Saros cycles, so you can see one much sooner."
   ]
  },
  {
   "cell_type": "markdown",
   "metadata": {},
   "source": [
    "### Generating sequences of datetimes\n",
    "\n",
    "\n",
    "By combining addition and multiplication with sequences you can generate sequences of datetimes. For example, you can generate a sequence of periods from 1 day up to 10 days with,"
   ]
  },
  {
   "cell_type": "code",
   "execution_count": 100,
   "metadata": {},
   "outputs": [
    {
     "data": {
      "text/html": [
       "<ol class=list-inline>\n",
       "\t<li>1d 0H 0M 0S</li>\n",
       "\t<li>2d 0H 0M 0S</li>\n",
       "\t<li>3d 0H 0M 0S</li>\n",
       "\t<li>4d 0H 0M 0S</li>\n",
       "\t<li>5d 0H 0M 0S</li>\n",
       "\t<li>6d 0H 0M 0S</li>\n",
       "\t<li>7d 0H 0M 0S</li>\n",
       "\t<li>8d 0H 0M 0S</li>\n",
       "\t<li>9d 0H 0M 0S</li>\n",
       "\t<li>10d 0H 0M 0S</li>\n",
       "</ol>\n"
      ],
      "text/latex": [
       "\\begin{enumerate*}\n",
       "\\item 1d 0H 0M 0S\n",
       "\\item 2d 0H 0M 0S\n",
       "\\item 3d 0H 0M 0S\n",
       "\\item 4d 0H 0M 0S\n",
       "\\item 5d 0H 0M 0S\n",
       "\\item 6d 0H 0M 0S\n",
       "\\item 7d 0H 0M 0S\n",
       "\\item 8d 0H 0M 0S\n",
       "\\item 9d 0H 0M 0S\n",
       "\\item 10d 0H 0M 0S\n",
       "\\end{enumerate*}\n"
      ],
      "text/markdown": [
       "1. 1d 0H 0M 0S\n",
       "2. 2d 0H 0M 0S\n",
       "3. 3d 0H 0M 0S\n",
       "4. 4d 0H 0M 0S\n",
       "5. 5d 0H 0M 0S\n",
       "6. 6d 0H 0M 0S\n",
       "7. 7d 0H 0M 0S\n",
       "8. 8d 0H 0M 0S\n",
       "9. 9d 0H 0M 0S\n",
       "10. 10d 0H 0M 0S\n",
       "\n",
       "\n"
      ],
      "text/plain": [
       " [1] \"1d 0H 0M 0S\"  \"2d 0H 0M 0S\"  \"3d 0H 0M 0S\"  \"4d 0H 0M 0S\"  \"5d 0H 0M 0S\" \n",
       " [6] \"6d 0H 0M 0S\"  \"7d 0H 0M 0S\"  \"8d 0H 0M 0S\"  \"9d 0H 0M 0S\"  \"10d 0H 0M 0S\""
      ]
     },
     "metadata": {},
     "output_type": "display_data"
    }
   ],
   "source": [
    "1:10 * days()"
   ]
  },
  {
   "cell_type": "markdown",
   "metadata": {},
   "source": [
    "Then by adding this sequence to a specific datetime, you can construct a sequence of datetimes from 1 day up to 10 days into the future"
   ]
  },
  {
   "cell_type": "code",
   "execution_count": 101,
   "metadata": {},
   "outputs": [
    {
     "data": {
      "text/html": [
       "<ol class=list-inline>\n",
       "\t<li><time datetime=\"2020-07-15\">2020-07-15</time></li>\n",
       "\t<li><time datetime=\"2020-07-16\">2020-07-16</time></li>\n",
       "\t<li><time datetime=\"2020-07-17\">2020-07-17</time></li>\n",
       "\t<li><time datetime=\"2020-07-18\">2020-07-18</time></li>\n",
       "\t<li><time datetime=\"2020-07-19\">2020-07-19</time></li>\n",
       "\t<li><time datetime=\"2020-07-20\">2020-07-20</time></li>\n",
       "\t<li><time datetime=\"2020-07-21\">2020-07-21</time></li>\n",
       "\t<li><time datetime=\"2020-07-22\">2020-07-22</time></li>\n",
       "\t<li><time datetime=\"2020-07-23\">2020-07-23</time></li>\n",
       "\t<li><time datetime=\"2020-07-24\">2020-07-24</time></li>\n",
       "</ol>\n"
      ],
      "text/latex": [
       "\\begin{enumerate*}\n",
       "\\item 2020-07-15\n",
       "\\item 2020-07-16\n",
       "\\item 2020-07-17\n",
       "\\item 2020-07-18\n",
       "\\item 2020-07-19\n",
       "\\item 2020-07-20\n",
       "\\item 2020-07-21\n",
       "\\item 2020-07-22\n",
       "\\item 2020-07-23\n",
       "\\item 2020-07-24\n",
       "\\end{enumerate*}\n"
      ],
      "text/markdown": [
       "1. 2020-07-15\n",
       "2. 2020-07-16\n",
       "3. 2020-07-17\n",
       "4. 2020-07-18\n",
       "5. 2020-07-19\n",
       "6. 2020-07-20\n",
       "7. 2020-07-21\n",
       "8. 2020-07-22\n",
       "9. 2020-07-23\n",
       "10. 2020-07-24\n",
       "\n",
       "\n"
      ],
      "text/plain": [
       " [1] \"2020-07-15\" \"2020-07-16\" \"2020-07-17\" \"2020-07-18\" \"2020-07-19\"\n",
       " [6] \"2020-07-20\" \"2020-07-21\" \"2020-07-22\" \"2020-07-23\" \"2020-07-24\""
      ]
     },
     "metadata": {},
     "output_type": "display_data"
    }
   ],
   "source": [
    "today() + 1:10 * days()"
   ]
  },
  {
   "cell_type": "markdown",
   "metadata": {},
   "source": [
    "We had a meeting this morning at 8am and we'd like to have that meeting at the same time and day every two weeks for a year."
   ]
  },
  {
   "cell_type": "code",
   "execution_count": 102,
   "metadata": {},
   "outputs": [
    {
     "data": {
      "text/plain": [
       " [1] \"2020-07-21 08:00:00 UTC\" \"2020-07-28 08:00:00 UTC\"\n",
       " [3] \"2020-08-04 08:00:00 UTC\" \"2020-08-11 08:00:00 UTC\"\n",
       " [5] \"2020-08-18 08:00:00 UTC\" \"2020-08-25 08:00:00 UTC\"\n",
       " [7] \"2020-09-01 08:00:00 UTC\" \"2020-09-08 08:00:00 UTC\"\n",
       " [9] \"2020-09-15 08:00:00 UTC\" \"2020-09-22 08:00:00 UTC\"\n",
       "[11] \"2020-09-29 08:00:00 UTC\" \"2020-10-06 08:00:00 UTC\"\n",
       "[13] \"2020-10-13 08:00:00 UTC\" \"2020-10-20 08:00:00 UTC\"\n",
       "[15] \"2020-10-27 08:00:00 UTC\" \"2020-11-03 08:00:00 UTC\"\n",
       "[17] \"2020-11-10 08:00:00 UTC\" \"2020-11-17 08:00:00 UTC\"\n",
       "[19] \"2020-11-24 08:00:00 UTC\" \"2020-12-01 08:00:00 UTC\"\n",
       "[21] \"2020-12-08 08:00:00 UTC\" \"2020-12-15 08:00:00 UTC\"\n",
       "[23] \"2020-12-22 08:00:00 UTC\" \"2020-12-29 08:00:00 UTC\"\n",
       "[25] \"2021-01-05 08:00:00 UTC\" \"2021-01-12 08:00:00 UTC\""
      ]
     },
     "metadata": {},
     "output_type": "display_data"
    }
   ],
   "source": [
    "# Add a period of 8 hours to today\n",
    "today_8am <- today() + hours(8)\n",
    "\n",
    "# Sequence of two weeks from 1 to 26\n",
    "every_two_weeks <- 1:26 * weeks()\n",
    "\n",
    "# Create datetime for every two weeks for a year\n",
    "\n",
    "every_two_weeks + today_8am"
   ]
  },
  {
   "cell_type": "markdown",
   "metadata": {},
   "source": [
    "### The tricky thing about months\n",
    "\n",
    "What should ymd(\"2018-01-31\") + months(1) return?"
   ]
  },
  {
   "cell_type": "code",
   "execution_count": 104,
   "metadata": {},
   "outputs": [
    {
     "data": {
      "text/html": [
       "<time datetime=\"&lt;NA&gt;\">&lt;NA&gt;</time>"
      ],
      "text/latex": [
       "<NA>"
      ],
      "text/markdown": [
       "&lt;NA&gt;"
      ],
      "text/plain": [
       "[1] NA"
      ]
     },
     "metadata": {},
     "output_type": "display_data"
    }
   ],
   "source": [
    "ymd(\"2018-01-31\") + months(1)"
   ]
  },
  {
   "cell_type": "markdown",
   "metadata": {},
   "source": [
    "In general `lubridate` returns the same day of the month in the next month, but since the 31st of February doesn't exist `lubridate` returns a missing value, `NA`.\n",
    "\n",
    "There are alternative addition and subtraction operators: `%m+%` and `%m-%` that have different behavior. Rather than returning an NA for a non-existent date, they roll back to the last existing date"
   ]
  },
  {
   "cell_type": "code",
   "execution_count": 107,
   "metadata": {},
   "outputs": [
    {
     "data": {
      "text/html": [
       "<time datetime=\"2018-02-28\">2018-02-28</time>"
      ],
      "text/latex": [
       "2018-02-28"
      ],
      "text/markdown": [
       "2018-02-28"
      ],
      "text/plain": [
       "[1] \"2018-02-28\""
      ]
     },
     "metadata": {},
     "output_type": "display_data"
    }
   ],
   "source": [
    "ymd(\"2018-01-31\") %m+% months(1)"
   ]
  },
  {
   "cell_type": "code",
   "execution_count": 109,
   "metadata": {},
   "outputs": [
    {
     "data": {
      "text/html": [
       "<ol class=list-inline>\n",
       "\t<li><time datetime=\"&lt;NA&gt;\">&lt;NA&gt;</time></li>\n",
       "\t<li><time datetime=\"2020-03-31\">2020-03-31</time></li>\n",
       "\t<li><time datetime=\"&lt;NA&gt;\">&lt;NA&gt;</time></li>\n",
       "\t<li><time datetime=\"2020-05-31\">2020-05-31</time></li>\n",
       "\t<li><time datetime=\"&lt;NA&gt;\">&lt;NA&gt;</time></li>\n",
       "\t<li><time datetime=\"2020-07-31\">2020-07-31</time></li>\n",
       "\t<li><time datetime=\"2020-08-31\">2020-08-31</time></li>\n",
       "\t<li><time datetime=\"&lt;NA&gt;\">&lt;NA&gt;</time></li>\n",
       "\t<li><time datetime=\"2020-10-31\">2020-10-31</time></li>\n",
       "\t<li><time datetime=\"&lt;NA&gt;\">&lt;NA&gt;</time></li>\n",
       "\t<li><time datetime=\"2020-12-31\">2020-12-31</time></li>\n",
       "\t<li><time datetime=\"2021-01-31\">2021-01-31</time></li>\n",
       "</ol>\n"
      ],
      "text/latex": [
       "\\begin{enumerate*}\n",
       "\\item <NA>\n",
       "\\item 2020-03-31\n",
       "\\item <NA>\n",
       "\\item 2020-05-31\n",
       "\\item <NA>\n",
       "\\item 2020-07-31\n",
       "\\item 2020-08-31\n",
       "\\item <NA>\n",
       "\\item 2020-10-31\n",
       "\\item <NA>\n",
       "\\item 2020-12-31\n",
       "\\item 2021-01-31\n",
       "\\end{enumerate*}\n"
      ],
      "text/markdown": [
       "1. &lt;NA&gt;\n",
       "2. 2020-03-31\n",
       "3. &lt;NA&gt;\n",
       "4. 2020-05-31\n",
       "5. &lt;NA&gt;\n",
       "6. 2020-07-31\n",
       "7. 2020-08-31\n",
       "8. &lt;NA&gt;\n",
       "9. 2020-10-31\n",
       "10. &lt;NA&gt;\n",
       "11. 2020-12-31\n",
       "12. 2021-01-31\n",
       "\n",
       "\n"
      ],
      "text/plain": [
       " [1] NA           \"2020-03-31\" NA           \"2020-05-31\" NA          \n",
       " [6] \"2020-07-31\" \"2020-08-31\" NA           \"2020-10-31\" NA          \n",
       "[11] \"2020-12-31\" \"2021-01-31\""
      ]
     },
     "metadata": {},
     "output_type": "display_data"
    }
   ],
   "source": [
    "jan_31 = ymd(\"2020-01-31\")\n",
    "# A sequence of 1 to 12 periods of 1 month\n",
    "month_seq <- 1:12 * months(1)\n",
    "\n",
    "# Add 1 to 12 months to jan_31\n",
    "month_seq + jan_31"
   ]
  },
  {
   "cell_type": "code",
   "execution_count": 110,
   "metadata": {},
   "outputs": [
    {
     "data": {
      "text/html": [
       "<ol class=list-inline>\n",
       "\t<li><time datetime=\"2020-02-29\">2020-02-29</time></li>\n",
       "\t<li><time datetime=\"2020-03-31\">2020-03-31</time></li>\n",
       "\t<li><time datetime=\"2020-04-30\">2020-04-30</time></li>\n",
       "\t<li><time datetime=\"2020-05-31\">2020-05-31</time></li>\n",
       "\t<li><time datetime=\"2020-06-30\">2020-06-30</time></li>\n",
       "\t<li><time datetime=\"2020-07-31\">2020-07-31</time></li>\n",
       "\t<li><time datetime=\"2020-08-31\">2020-08-31</time></li>\n",
       "\t<li><time datetime=\"2020-09-30\">2020-09-30</time></li>\n",
       "\t<li><time datetime=\"2020-10-31\">2020-10-31</time></li>\n",
       "\t<li><time datetime=\"2020-11-30\">2020-11-30</time></li>\n",
       "\t<li><time datetime=\"2020-12-31\">2020-12-31</time></li>\n",
       "\t<li><time datetime=\"2021-01-31\">2021-01-31</time></li>\n",
       "</ol>\n"
      ],
      "text/latex": [
       "\\begin{enumerate*}\n",
       "\\item 2020-02-29\n",
       "\\item 2020-03-31\n",
       "\\item 2020-04-30\n",
       "\\item 2020-05-31\n",
       "\\item 2020-06-30\n",
       "\\item 2020-07-31\n",
       "\\item 2020-08-31\n",
       "\\item 2020-09-30\n",
       "\\item 2020-10-31\n",
       "\\item 2020-11-30\n",
       "\\item 2020-12-31\n",
       "\\item 2021-01-31\n",
       "\\end{enumerate*}\n"
      ],
      "text/markdown": [
       "1. 2020-02-29\n",
       "2. 2020-03-31\n",
       "3. 2020-04-30\n",
       "4. 2020-05-31\n",
       "5. 2020-06-30\n",
       "6. 2020-07-31\n",
       "7. 2020-08-31\n",
       "8. 2020-09-30\n",
       "9. 2020-10-31\n",
       "10. 2020-11-30\n",
       "11. 2020-12-31\n",
       "12. 2021-01-31\n",
       "\n",
       "\n"
      ],
      "text/plain": [
       " [1] \"2020-02-29\" \"2020-03-31\" \"2020-04-30\" \"2020-05-31\" \"2020-06-30\"\n",
       " [6] \"2020-07-31\" \"2020-08-31\" \"2020-09-30\" \"2020-10-31\" \"2020-11-30\"\n",
       "[11] \"2020-12-31\" \"2021-01-31\""
      ]
     },
     "metadata": {},
     "output_type": "display_data"
    }
   ],
   "source": [
    "# Replace + with %m+%\n",
    "month_seq %m+% jan_31"
   ]
  },
  {
   "cell_type": "code",
   "execution_count": 111,
   "metadata": {},
   "outputs": [
    {
     "data": {
      "text/html": [
       "<ol class=list-inline>\n",
       "\t<li><time datetime=\"2019-12-31\">2019-12-31</time></li>\n",
       "\t<li><time datetime=\"2019-11-30\">2019-11-30</time></li>\n",
       "\t<li><time datetime=\"2019-10-31\">2019-10-31</time></li>\n",
       "\t<li><time datetime=\"2019-09-30\">2019-09-30</time></li>\n",
       "\t<li><time datetime=\"2019-08-31\">2019-08-31</time></li>\n",
       "\t<li><time datetime=\"2019-07-31\">2019-07-31</time></li>\n",
       "\t<li><time datetime=\"2019-06-30\">2019-06-30</time></li>\n",
       "\t<li><time datetime=\"2019-05-31\">2019-05-31</time></li>\n",
       "\t<li><time datetime=\"2019-04-30\">2019-04-30</time></li>\n",
       "\t<li><time datetime=\"2019-03-31\">2019-03-31</time></li>\n",
       "\t<li><time datetime=\"2019-02-28\">2019-02-28</time></li>\n",
       "\t<li><time datetime=\"2019-01-31\">2019-01-31</time></li>\n",
       "</ol>\n"
      ],
      "text/latex": [
       "\\begin{enumerate*}\n",
       "\\item 2019-12-31\n",
       "\\item 2019-11-30\n",
       "\\item 2019-10-31\n",
       "\\item 2019-09-30\n",
       "\\item 2019-08-31\n",
       "\\item 2019-07-31\n",
       "\\item 2019-06-30\n",
       "\\item 2019-05-31\n",
       "\\item 2019-04-30\n",
       "\\item 2019-03-31\n",
       "\\item 2019-02-28\n",
       "\\item 2019-01-31\n",
       "\\end{enumerate*}\n"
      ],
      "text/markdown": [
       "1. 2019-12-31\n",
       "2. 2019-11-30\n",
       "3. 2019-10-31\n",
       "4. 2019-09-30\n",
       "5. 2019-08-31\n",
       "6. 2019-07-31\n",
       "7. 2019-06-30\n",
       "8. 2019-05-31\n",
       "9. 2019-04-30\n",
       "10. 2019-03-31\n",
       "11. 2019-02-28\n",
       "12. 2019-01-31\n",
       "\n",
       "\n"
      ],
      "text/plain": [
       " [1] \"2019-12-31\" \"2019-11-30\" \"2019-10-31\" \"2019-09-30\" \"2019-08-31\"\n",
       " [6] \"2019-07-31\" \"2019-06-30\" \"2019-05-31\" \"2019-04-30\" \"2019-03-31\"\n",
       "[11] \"2019-02-28\" \"2019-01-31\""
      ]
     },
     "metadata": {},
     "output_type": "display_data"
    }
   ],
   "source": [
    "# Replace + with %m-%\n",
    "jan_31 %m-% month_seq"
   ]
  },
  {
   "cell_type": "markdown",
   "metadata": {},
   "source": [
    "> Warning: use these operators with caution, unlike `+` and `-`, you might not get `x` back from `x %m+% months(1) %m-% months(1)`. If you'd prefer that the date was rolled forward check out `add_with_rollback()` which has `roll_to_first` argument."
   ]
  },
  {
   "cell_type": "markdown",
   "metadata": {},
   "source": [
    "## Intervals\n",
    "\n",
    "> ### Creating intervals\n",
    "- `datetime1%--%datetime2`,or\n",
    "- `interval(datetime1, datetime2)`"
   ]
  },
  {
   "cell_type": "code",
   "execution_count": 112,
   "metadata": {},
   "outputs": [
    {
     "data": {
      "text/html": [
       "1997-06-15 UTC--2020-07-14 UTC"
      ],
      "text/latex": [
       "1997-06-15 UTC--2020-07-14 UTC"
      ],
      "text/markdown": [
       "1997-06-15 UTC--2020-07-14 UTC"
      ],
      "text/plain": [
       "[1] 1997-06-15 UTC--2020-07-14 UTC"
      ]
     },
     "metadata": {},
     "output_type": "display_data"
    }
   ],
   "source": [
    "yob %--% today()"
   ]
  },
  {
   "cell_type": "code",
   "execution_count": 113,
   "metadata": {},
   "outputs": [
    {
     "data": {
      "text/html": [
       "1997-06-15 UTC--2020-07-14 UTC"
      ],
      "text/latex": [
       "1997-06-15 UTC--2020-07-14 UTC"
      ],
      "text/markdown": [
       "1997-06-15 UTC--2020-07-14 UTC"
      ],
      "text/plain": [
       "[1] 1997-06-15 UTC--2020-07-14 UTC"
      ]
     },
     "metadata": {},
     "output_type": "display_data"
    }
   ],
   "source": [
    "interval(yob, today())"
   ]
  },
  {
   "cell_type": "markdown",
   "metadata": {},
   "source": [
    "> ### Operating on an interval"
   ]
  },
  {
   "cell_type": "code",
   "execution_count": 115,
   "metadata": {},
   "outputs": [
    {
     "data": {
      "text/plain": [
       "[1] \"1997-06-15 UTC\""
      ]
     },
     "metadata": {},
     "output_type": "display_data"
    }
   ],
   "source": [
    "yob_interval = interval(yob, today())\n",
    "int_start(yob_interval)"
   ]
  },
  {
   "cell_type": "code",
   "execution_count": 116,
   "metadata": {},
   "outputs": [
    {
     "data": {
      "text/plain": [
       "[1] \"2020-07-14 UTC\""
      ]
     },
     "metadata": {},
     "output_type": "display_data"
    }
   ],
   "source": [
    "int_end(yob_interval)"
   ]
  },
  {
   "cell_type": "markdown",
   "metadata": {},
   "source": [
    "> ### Operating on an interval"
   ]
  },
  {
   "cell_type": "code",
   "execution_count": 117,
   "metadata": {},
   "outputs": [
    {
     "data": {
      "text/html": [
       "728352000"
      ],
      "text/latex": [
       "728352000"
      ],
      "text/markdown": [
       "728352000"
      ],
      "text/plain": [
       "[1] 728352000"
      ]
     },
     "metadata": {},
     "output_type": "display_data"
    }
   ],
   "source": [
    "int_length(yob_interval)"
   ]
  },
  {
   "cell_type": "code",
   "execution_count": 118,
   "metadata": {},
   "outputs": [
    {
     "data": {
      "text/html": [
       "23y 0m 29d 0H 0M 0S"
      ],
      "text/latex": [
       "23y 0m 29d 0H 0M 0S"
      ],
      "text/markdown": [
       "23y 0m 29d 0H 0M 0S"
      ],
      "text/plain": [
       "[1] \"23y 0m 29d 0H 0M 0S\""
      ]
     },
     "metadata": {},
     "output_type": "display_data"
    }
   ],
   "source": [
    "as.period(yob_interval)"
   ]
  },
  {
   "cell_type": "code",
   "execution_count": 119,
   "metadata": {},
   "outputs": [
    {
     "data": {
      "text/html": [
       "728352000s (~23.08 years)"
      ],
      "text/latex": [
       "728352000s (\\textasciitilde{}23.08 years)"
      ],
      "text/markdown": [
       "728352000s (~23.08 years)"
      ],
      "text/plain": [
       "[1] \"728352000s (~23.08 years)\""
      ]
     },
     "metadata": {},
     "output_type": "display_data"
    }
   ],
   "source": [
    "as.duration(yob_interval)"
   ]
  },
  {
   "cell_type": "markdown",
   "metadata": {},
   "source": [
    "> ### Comparing intervals"
   ]
  },
  {
   "cell_type": "code",
   "execution_count": 120,
   "metadata": {},
   "outputs": [
    {
     "data": {
      "text/html": [
       "TRUE"
      ],
      "text/latex": [
       "TRUE"
      ],
      "text/markdown": [
       "TRUE"
      ],
      "text/plain": [
       "[1] TRUE"
      ]
     },
     "metadata": {},
     "output_type": "display_data"
    }
   ],
   "source": [
    "enter_mmu <- ymd(\"2017-07-30\")\n",
    "enter_mmu %within% yob_interval"
   ]
  },
  {
   "cell_type": "code",
   "execution_count": 123,
   "metadata": {},
   "outputs": [],
   "source": [
    "been_mmu <- ymd(\"2017-07-30\") %--% today()"
   ]
  },
  {
   "cell_type": "code",
   "execution_count": 124,
   "metadata": {},
   "outputs": [
    {
     "data": {
      "text/html": [
       "TRUE"
      ],
      "text/latex": [
       "TRUE"
      ],
      "text/markdown": [
       "TRUE"
      ],
      "text/plain": [
       "[1] TRUE"
      ]
     },
     "metadata": {},
     "output_type": "display_data"
    }
   ],
   "source": [
    "int_overlaps(been_mmu, yob_interval)"
   ]
  },
  {
   "cell_type": "markdown",
   "metadata": {},
   "source": [
    "> ### Which kind of time span?\n",
    "- Use:\n",
    "  - **Intervals** when you have a start and end\n",
    "  - **Periods** when you are interested in human units\n",
    "  - **Durations** if you are interested in seconds elapsed\n",
    "\n",
    "- Monarchs of England {% fn 2 %}\n",
    "- Halley's cometHalley'scomet:{% fn 3 %}"
   ]
  },
  {
   "cell_type": "markdown",
   "metadata": {},
   "source": [
    "### Examining intervals. Reigns of kings and queens"
   ]
  },
  {
   "cell_type": "code",
   "execution_count": null,
   "metadata": {},
   "outputs": [],
   "source": [
    "# Print monarchs\n",
    "monarchs\n",
    "\n",
    "# Create an interval for reign\n",
    "monarchs <- monarchs %>%\n",
    "  mutate(reign = from %--% to) \n",
    "\n",
    "# Find the length of reign, and arrange\n",
    "monarchs %>%\n",
    "  mutate(length = int_length(reign)) %>% \n",
    "  arrange(desc(length)) %>%\n",
    "  select(name, length, dominion)\n"
   ]
  },
  {
   "cell_type": "markdown",
   "metadata": {},
   "source": [
    "The current queen, Elizabeth II, has ruled for 2070144000 seconds…we'll see a better way to display the length later. If you know your British monarchs, you might notice George III doesn't appear in the the top 5. In this data, his reign is spread over two rows for U.K. And Great Britain and you would need to add their lengths to see his total reign."
   ]
  },
  {
   "cell_type": "markdown",
   "metadata": {},
   "source": [
    "### Comparing intervals and datetimes\n",
    "\n",
    "A common task with intervals is to ask if a certain time is inside the interval or whether it overlaps with another interval.\n",
    "\n",
    "The operator `%within%` tests if the datetime (or interval) on the left hand side is within the interval of the right hand side. For example, if `y2001` is the interval covering the year `2001`,"
   ]
  },
  {
   "cell_type": "code",
   "execution_count": 125,
   "metadata": {},
   "outputs": [
    {
     "data": {
      "text/html": [
       "TRUE"
      ],
      "text/latex": [
       "TRUE"
      ],
      "text/markdown": [
       "TRUE"
      ],
      "text/plain": [
       "[1] TRUE"
      ]
     },
     "metadata": {},
     "output_type": "display_data"
    }
   ],
   "source": [
    "y2001 <- ymd(\"2001-01-01\") %--% ymd(\"2001-12-31\")\n",
    "ymd(\"2001-03-30\") %within% y2001"
   ]
  },
  {
   "cell_type": "code",
   "execution_count": 126,
   "metadata": {},
   "outputs": [
    {
     "data": {
      "text/html": [
       "FALSE"
      ],
      "text/latex": [
       "FALSE"
      ],
      "text/markdown": [
       "FALSE"
      ],
      "text/plain": [
       "[1] FALSE"
      ]
     },
     "metadata": {},
     "output_type": "display_data"
    }
   ],
   "source": [
    "ymd(\"2002-03-30\") %within% y2001"
   ]
  },
  {
   "cell_type": "markdown",
   "metadata": {},
   "source": [
    "`int_overlaps()` performs a similar test, but will return true if two intervals overlap at all."
   ]
  },
  {
   "cell_type": "code",
   "execution_count": null,
   "metadata": {},
   "outputs": [],
   "source": [
    "# Print halleys\n",
    "halleys\n",
    "\n",
    "# New column for interval from start to end date\n",
    "halleys <- halleys %>% \n",
    "  mutate(visible = interval(start_date, end_date))\n",
    "\n",
    "# The visitation of 1066\n",
    "halleys_1066 <- halleys[14, ] \n",
    "\n",
    "# Monarchs in power on perihelion date\n",
    "monarchs %>% \n",
    "  filter(halleys_1066$perihelion_date %within%reign) %>%\n",
    "  select(name, from, to, dominion)\n",
    "\n",
    "# Monarchs whose reign overlaps visible time\n",
    "monarchs %>% \n",
    "  filter(int_overlaps(halleys_1066$visible,reign)) %>%\n",
    "  select(name, from, to, dominion)\n"
   ]
  },
  {
   "cell_type": "markdown",
   "metadata": {},
   "source": [
    "Looks like the Kings of England Edward the Confessor and Harold II would have been able to see the comet. It may have been a bad omen, neither were in power by 1067."
   ]
  },
  {
   "cell_type": "markdown",
   "metadata": {},
   "source": [
    "### Converting to durations and periods\n",
    "\n",
    "Intervals are the most specific way to represent a span of time since they retain information about the exact start and end moments. They can be converted to periods and durations exactly: it's possible to calculate both the exact number of seconds elapsed between the start and end date, as well as the perceived change in clock time"
   ]
  },
  {
   "cell_type": "code",
   "execution_count": null,
   "metadata": {},
   "outputs": [],
   "source": [
    "# New columns for duration and period\n",
    "monarchs <- monarchs %>%\n",
    "  mutate(\n",
    "    duration = as.duration(reign),\n",
    "    period = as.period(reign)) \n",
    "    \n",
    "# Examine results    \n",
    "monarchs %>%\n",
    "  select(name, duration, period)"
   ]
  },
  {
   "cell_type": "markdown",
   "metadata": {},
   "source": [
    "# Problems in practice\n",
    "\n",
    "You now know most of what you need to tackle data that includes dates and times, but there are a few other problems we might encounter. We'll explore a little more about these problems by returning to some of the earlier data sets and explore how to handle time zones, deal with times when you don't care about dates, parse dates quickly, and output dates and times."
   ]
  },
  {
   "cell_type": "markdown",
   "metadata": {},
   "source": [
    "## Time zones\n",
    "\n"
   ]
  },
  {
   "cell_type": "code",
   "execution_count": 127,
   "metadata": {},
   "outputs": [
    {
     "data": {
      "text/html": [
       "'Africa/Nairobi'"
      ],
      "text/latex": [
       "'Africa/Nairobi'"
      ],
      "text/markdown": [
       "'Africa/Nairobi'"
      ],
      "text/plain": [
       "[1] \"Africa/Nairobi\""
      ]
     },
     "metadata": {},
     "output_type": "display_data"
    }
   ],
   "source": [
    "Sys.timezone()"
   ]
  },
  {
   "cell_type": "markdown",
   "metadata": {},
   "source": [
    "> ### IANA Timezones"
   ]
  },
  {
   "cell_type": "code",
   "execution_count": 129,
   "metadata": {},
   "outputs": [
    {
     "data": {
      "text/html": [
       "<ol class=list-inline>\n",
       "\t<li>'Africa/Abidjan'</li>\n",
       "\t<li>'Africa/Accra'</li>\n",
       "\t<li>'Africa/Addis_Ababa'</li>\n",
       "\t<li>'Africa/Algiers'</li>\n",
       "\t<li>'Africa/Asmara'</li>\n",
       "\t<li>'Africa/Asmera'</li>\n",
       "\t<li>'Africa/Bamako'</li>\n",
       "\t<li>'Africa/Bangui'</li>\n",
       "\t<li>'Africa/Banjul'</li>\n",
       "\t<li>'Africa/Bissau'</li>\n",
       "</ol>\n"
      ],
      "text/latex": [
       "\\begin{enumerate*}\n",
       "\\item 'Africa/Abidjan'\n",
       "\\item 'Africa/Accra'\n",
       "\\item 'Africa/Addis\\_Ababa'\n",
       "\\item 'Africa/Algiers'\n",
       "\\item 'Africa/Asmara'\n",
       "\\item 'Africa/Asmera'\n",
       "\\item 'Africa/Bamako'\n",
       "\\item 'Africa/Bangui'\n",
       "\\item 'Africa/Banjul'\n",
       "\\item 'Africa/Bissau'\n",
       "\\end{enumerate*}\n"
      ],
      "text/markdown": [
       "1. 'Africa/Abidjan'\n",
       "2. 'Africa/Accra'\n",
       "3. 'Africa/Addis_Ababa'\n",
       "4. 'Africa/Algiers'\n",
       "5. 'Africa/Asmara'\n",
       "6. 'Africa/Asmera'\n",
       "7. 'Africa/Bamako'\n",
       "8. 'Africa/Bangui'\n",
       "9. 'Africa/Banjul'\n",
       "10. 'Africa/Bissau'\n",
       "\n",
       "\n"
      ],
      "text/plain": [
       " [1] \"Africa/Abidjan\"     \"Africa/Accra\"       \"Africa/Addis_Ababa\"\n",
       " [4] \"Africa/Algiers\"     \"Africa/Asmara\"      \"Africa/Asmera\"     \n",
       " [7] \"Africa/Bamako\"      \"Africa/Bangui\"      \"Africa/Banjul\"     \n",
       "[10] \"Africa/Bissau\"     "
      ]
     },
     "metadata": {},
     "output_type": "display_data"
    }
   ],
   "source": [
    "OlsonNames() %>%\n",
    "    head(10)"
   ]
  },
  {
   "cell_type": "code",
   "execution_count": 130,
   "metadata": {},
   "outputs": [
    {
     "data": {
      "text/html": [
       "593"
      ],
      "text/latex": [
       "593"
      ],
      "text/markdown": [
       "593"
      ],
      "text/plain": [
       "[1] 593"
      ]
     },
     "metadata": {},
     "output_type": "display_data"
    }
   ],
   "source": [
    "length(OlsonNames())"
   ]
  },
  {
   "cell_type": "markdown",
   "metadata": {},
   "source": [
    "> ### Setting and extracting"
   ]
  },
  {
   "cell_type": "code",
   "execution_count": 131,
   "metadata": {},
   "outputs": [
    {
     "data": {
      "text/plain": [
       "[1] \"2017-03-11 12:00:00 PST\""
      ]
     },
     "metadata": {},
     "output_type": "display_data"
    }
   ],
   "source": [
    "mar_11"
   ]
  },
  {
   "cell_type": "code",
   "execution_count": 132,
   "metadata": {},
   "outputs": [
    {
     "data": {
      "text/html": [
       "'America/Los_Angeles'"
      ],
      "text/latex": [
       "'America/Los\\_Angeles'"
      ],
      "text/markdown": [
       "'America/Los_Angeles'"
      ],
      "text/plain": [
       "[1] \"America/Los_Angeles\""
      ]
     },
     "metadata": {},
     "output_type": "display_data"
    }
   ],
   "source": [
    "tz(mar_11)"
   ]
  },
  {
   "cell_type": "markdown",
   "metadata": {},
   "source": [
    "> ### Manipulating timezones\n",
    "- `force_tz()` - change thetimezone without changing the clock time\n",
    "- `with_tz()` - view the sameinstant in a different timezone"
   ]
  },
  {
   "cell_type": "code",
   "execution_count": 133,
   "metadata": {},
   "outputs": [
    {
     "data": {
      "text/plain": [
       "[1] \"2017-03-11 23:00:00 EAT\""
      ]
     },
     "metadata": {},
     "output_type": "display_data"
    }
   ],
   "source": [
    "with_tz(mar_11, tzone=\"Africa/Nairobi\")"
   ]
  },
  {
   "cell_type": "code",
   "execution_count": 134,
   "metadata": {},
   "outputs": [
    {
     "data": {
      "text/plain": [
       "[1] \"2017-03-11 12:00:00 EAT\""
      ]
     },
     "metadata": {},
     "output_type": "display_data"
    }
   ],
   "source": [
    "force_tz(mar_11, tzone=\"Africa/Nairobi\")"
   ]
  },
  {
   "cell_type": "markdown",
   "metadata": {},
   "source": [
    "### Setting the timezone\n",
    "\n",
    "If you import a datetime and it has the wrong timezone, you can set it with `force_tz()`. Pass in the datetime as the first argument and the appropriate timezone to the `tzone` argument. Remember the timezone needs to be one from OlsonNames().\n",
    "\n",
    "I wanted to watch New Zealand in the Women's World Cup Soccer games in 2015, but the times listed on the FIFA website were all in times local to the venues. We'll set the timezones, then figure out what time I needed to tune in to watch them."
   ]
  },
  {
   "cell_type": "code",
   "execution_count": 135,
   "metadata": {},
   "outputs": [
    {
     "data": {
      "text/plain": [
       "[1] \"2015-06-11 19:00:00 MDT\""
      ]
     },
     "metadata": {},
     "output_type": "display_data"
    }
   ],
   "source": [
    "# Game2: CAN vs NZL in Edmonton\n",
    "game2 <- mdy_hm(\"June 11 2015 19:00\")\n",
    "\n",
    "# Game3: CHN vs NZL in Winnipeg\n",
    "game3 <- mdy_hm(\"June 15 2015 18:30\")\n",
    "\n",
    "# Set the timezone to \"America/Edmonton\"\n",
    "game2_local <- force_tz(game2, tzone = \"America/Edmonton\")\n",
    "game2_local"
   ]
  },
  {
   "cell_type": "code",
   "execution_count": 136,
   "metadata": {},
   "outputs": [
    {
     "data": {
      "text/plain": [
       "[1] \"2015-06-15 18:30:00 CDT\""
      ]
     },
     "metadata": {},
     "output_type": "display_data"
    }
   ],
   "source": [
    "# Set the timezone to \"America/Winnipeg\"\n",
    "game3_local <- force_tz(game3, tzone = \"America/Winnipeg\")\n",
    "game3_local"
   ]
  },
  {
   "cell_type": "code",
   "execution_count": 137,
   "metadata": {},
   "outputs": [
    {
     "data": {
      "text/html": [
       "3d 22H 30M 0S"
      ],
      "text/latex": [
       "3d 22H 30M 0S"
      ],
      "text/markdown": [
       "3d 22H 30M 0S"
      ],
      "text/plain": [
       "[1] \"3d 22H 30M 0S\""
      ]
     },
     "metadata": {},
     "output_type": "display_data"
    }
   ],
   "source": [
    "# How long does the team have to rest?\n",
    "as.period(interval(game2_local, game3_local))"
   ]
  },
  {
   "cell_type": "markdown",
   "metadata": {},
   "source": [
    "Edmonton and Winnipeg are in different timezones, so even though the start times of the games only look 30 minutes apart, they are in fact 1 hour and 30 minutes apart, and the team only has 3 days, 22 hours and 30 minutes to prepare."
   ]
  },
  {
   "cell_type": "markdown",
   "metadata": {},
   "source": [
    "### Viewing in a timezone\n",
    "\n",
    "To view a datetime in another timezone use `with_tz()`. The syntax of `with_tz()` is the same as `force_tz()`, passing a datetime and set the `tzone` argument to the desired timezone. Unlike `force_tz()`, `with_tz()` isn't changing the underlying moment of time, just how it is displayed."
   ]
  },
  {
   "cell_type": "code",
   "execution_count": 138,
   "metadata": {},
   "outputs": [
    {
     "data": {
      "text/plain": [
       "[1] \"2015-06-12 13:00:00 NZST\""
      ]
     },
     "metadata": {},
     "output_type": "display_data"
    }
   ],
   "source": [
    "# What time is game2_local in NZ?\n",
    "with_tz(game2_local, tzone = \"Pacific/Auckland\")\n",
    "\n"
   ]
  },
  {
   "cell_type": "code",
   "execution_count": 139,
   "metadata": {},
   "outputs": [
    {
     "data": {
      "text/plain": [
       "[1] \"2015-06-11 18:00:00 PDT\""
      ]
     },
     "metadata": {},
     "output_type": "display_data"
    }
   ],
   "source": [
    "# What time is game2_local in Corvallis, Oregon?\n",
    "with_tz(game2_local, tzone = \"America/Los_Angeles\")\n",
    "\n"
   ]
  },
  {
   "cell_type": "code",
   "execution_count": 140,
   "metadata": {},
   "outputs": [
    {
     "data": {
      "text/plain": [
       "[1] \"2015-06-16 11:30:00 NZST\""
      ]
     },
     "metadata": {},
     "output_type": "display_data"
    }
   ],
   "source": [
    "# What time is game3_local in NZ?\n",
    "with_tz(game3_local, tzone=\"Pacific/Auckland\")"
   ]
  },
  {
   "cell_type": "markdown",
   "metadata": {},
   "source": [
    "### Timezones in the weather data"
   ]
  },
  {
   "cell_type": "code",
   "execution_count": 141,
   "metadata": {},
   "outputs": [
    {
     "data": {
      "text/html": [
       "<table>\n",
       "<thead><tr><th scope=col>year</th><th scope=col>month</th><th scope=col>mday</th><th scope=col>time</th><th scope=col>temperature</th><th scope=col>weather</th><th scope=col>conditions</th><th scope=col>events</th><th scope=col>humidity</th><th scope=col>date_utc</th><th scope=col>date</th><th scope=col>datetime_string</th><th scope=col>datetime</th><th scope=col>hour</th><th scope=col>rainy</th><th scope=col>day_hour</th></tr></thead>\n",
       "<tbody>\n",
       "\t<tr><td>2016               </td><td>Jan                </td><td>1                  </td><td>00:00:00           </td><td>68                 </td><td>Clear              </td><td>Clear              </td><td>NA                 </td><td>68                 </td><td>2015-12-31 11:00:00</td><td>2016-01-01         </td><td>2016-01-01T00:00:00</td><td>2016-01-01 00:00:00</td><td>0                  </td><td>FALSE              </td><td>2016-01-01 00:00:00</td></tr>\n",
       "\t<tr><td>2016               </td><td>Jan                </td><td>1                  </td><td>00:30:00           </td><td>68                 </td><td>Clear              </td><td>Clear              </td><td>NA                 </td><td>68                 </td><td>2015-12-31 11:30:00</td><td>2016-01-01         </td><td>2016-01-01T00:30:00</td><td>2016-01-01 00:30:00</td><td>0                  </td><td>FALSE              </td><td>2016-01-01 00:00:00</td></tr>\n",
       "\t<tr><td>2016               </td><td>Jan                </td><td>1                  </td><td>01:00:00           </td><td>68                 </td><td>Clear              </td><td>Clear              </td><td>NA                 </td><td>73                 </td><td>2015-12-31 12:00:00</td><td>2016-01-01         </td><td>2016-01-01T01:00:00</td><td>2016-01-01 01:00:00</td><td>1                  </td><td>FALSE              </td><td>2016-01-01 01:00:00</td></tr>\n",
       "\t<tr><td>2016               </td><td>Jan                </td><td>1                  </td><td>01:30:00           </td><td>68                 </td><td>Clear              </td><td>Clear              </td><td>NA                 </td><td>68                 </td><td>2015-12-31 12:30:00</td><td>2016-01-01         </td><td>2016-01-01T01:30:00</td><td>2016-01-01 01:30:00</td><td>1                  </td><td>FALSE              </td><td>2016-01-01 01:00:00</td></tr>\n",
       "\t<tr><td>2016               </td><td>Jan                </td><td>1                  </td><td>02:00:00           </td><td>68                 </td><td>Clear              </td><td>Clear              </td><td>NA                 </td><td>68                 </td><td>2015-12-31 13:00:00</td><td>2016-01-01         </td><td>2016-01-01T02:00:00</td><td>2016-01-01 02:00:00</td><td>2                  </td><td>FALSE              </td><td>2016-01-01 02:00:00</td></tr>\n",
       "\t<tr><td>2016               </td><td>Jan                </td><td>1                  </td><td>02:30:00           </td><td>68                 </td><td>Clear              </td><td>Clear              </td><td>NA                 </td><td>68                 </td><td>2015-12-31 13:30:00</td><td>2016-01-01         </td><td>2016-01-01T02:30:00</td><td>2016-01-01 02:30:00</td><td>2                  </td><td>FALSE              </td><td>2016-01-01 02:00:00</td></tr>\n",
       "</tbody>\n",
       "</table>\n"
      ],
      "text/latex": [
       "\\begin{tabular}{r|llllllllllllllll}\n",
       " year & month & mday & time & temperature & weather & conditions & events & humidity & date\\_utc & date & datetime\\_string & datetime & hour & rainy & day\\_hour\\\\\n",
       "\\hline\n",
       "\t 2016                & Jan                 & 1                   & 00:00:00            & 68                  & Clear               & Clear               & NA                  & 68                  & 2015-12-31 11:00:00 & 2016-01-01          & 2016-01-01T00:00:00 & 2016-01-01 00:00:00 & 0                   & FALSE               & 2016-01-01 00:00:00\\\\\n",
       "\t 2016                & Jan                 & 1                   & 00:30:00            & 68                  & Clear               & Clear               & NA                  & 68                  & 2015-12-31 11:30:00 & 2016-01-01          & 2016-01-01T00:30:00 & 2016-01-01 00:30:00 & 0                   & FALSE               & 2016-01-01 00:00:00\\\\\n",
       "\t 2016                & Jan                 & 1                   & 01:00:00            & 68                  & Clear               & Clear               & NA                  & 73                  & 2015-12-31 12:00:00 & 2016-01-01          & 2016-01-01T01:00:00 & 2016-01-01 01:00:00 & 1                   & FALSE               & 2016-01-01 01:00:00\\\\\n",
       "\t 2016                & Jan                 & 1                   & 01:30:00            & 68                  & Clear               & Clear               & NA                  & 68                  & 2015-12-31 12:30:00 & 2016-01-01          & 2016-01-01T01:30:00 & 2016-01-01 01:30:00 & 1                   & FALSE               & 2016-01-01 01:00:00\\\\\n",
       "\t 2016                & Jan                 & 1                   & 02:00:00            & 68                  & Clear               & Clear               & NA                  & 68                  & 2015-12-31 13:00:00 & 2016-01-01          & 2016-01-01T02:00:00 & 2016-01-01 02:00:00 & 2                   & FALSE               & 2016-01-01 02:00:00\\\\\n",
       "\t 2016                & Jan                 & 1                   & 02:30:00            & 68                  & Clear               & Clear               & NA                  & 68                  & 2015-12-31 13:30:00 & 2016-01-01          & 2016-01-01T02:30:00 & 2016-01-01 02:30:00 & 2                   & FALSE               & 2016-01-01 02:00:00\\\\\n",
       "\\end{tabular}\n"
      ],
      "text/markdown": [
       "\n",
       "| year | month | mday | time | temperature | weather | conditions | events | humidity | date_utc | date | datetime_string | datetime | hour | rainy | day_hour |\n",
       "|---|---|---|---|---|---|---|---|---|---|---|---|---|---|---|---|\n",
       "| 2016                | Jan                 | 1                   | 00:00:00            | 68                  | Clear               | Clear               | NA                  | 68                  | 2015-12-31 11:00:00 | 2016-01-01          | 2016-01-01T00:00:00 | 2016-01-01 00:00:00 | 0                   | FALSE               | 2016-01-01 00:00:00 |\n",
       "| 2016                | Jan                 | 1                   | 00:30:00            | 68                  | Clear               | Clear               | NA                  | 68                  | 2015-12-31 11:30:00 | 2016-01-01          | 2016-01-01T00:30:00 | 2016-01-01 00:30:00 | 0                   | FALSE               | 2016-01-01 00:00:00 |\n",
       "| 2016                | Jan                 | 1                   | 01:00:00            | 68                  | Clear               | Clear               | NA                  | 73                  | 2015-12-31 12:00:00 | 2016-01-01          | 2016-01-01T01:00:00 | 2016-01-01 01:00:00 | 1                   | FALSE               | 2016-01-01 01:00:00 |\n",
       "| 2016                | Jan                 | 1                   | 01:30:00            | 68                  | Clear               | Clear               | NA                  | 68                  | 2015-12-31 12:30:00 | 2016-01-01          | 2016-01-01T01:30:00 | 2016-01-01 01:30:00 | 1                   | FALSE               | 2016-01-01 01:00:00 |\n",
       "| 2016                | Jan                 | 1                   | 02:00:00            | 68                  | Clear               | Clear               | NA                  | 68                  | 2015-12-31 13:00:00 | 2016-01-01          | 2016-01-01T02:00:00 | 2016-01-01 02:00:00 | 2                   | FALSE               | 2016-01-01 02:00:00 |\n",
       "| 2016                | Jan                 | 1                   | 02:30:00            | 68                  | Clear               | Clear               | NA                  | 68                  | 2015-12-31 13:30:00 | 2016-01-01          | 2016-01-01T02:30:00 | 2016-01-01 02:30:00 | 2                   | FALSE               | 2016-01-01 02:00:00 |\n",
       "\n"
      ],
      "text/plain": [
       "  year month mday time     temperature weather conditions events humidity\n",
       "1 2016 Jan   1    00:00:00 68          Clear   Clear      NA     68      \n",
       "2 2016 Jan   1    00:30:00 68          Clear   Clear      NA     68      \n",
       "3 2016 Jan   1    01:00:00 68          Clear   Clear      NA     73      \n",
       "4 2016 Jan   1    01:30:00 68          Clear   Clear      NA     68      \n",
       "5 2016 Jan   1    02:00:00 68          Clear   Clear      NA     68      \n",
       "6 2016 Jan   1    02:30:00 68          Clear   Clear      NA     68      \n",
       "  date_utc            date       datetime_string     datetime            hour\n",
       "1 2015-12-31 11:00:00 2016-01-01 2016-01-01T00:00:00 2016-01-01 00:00:00 0   \n",
       "2 2015-12-31 11:30:00 2016-01-01 2016-01-01T00:30:00 2016-01-01 00:30:00 0   \n",
       "3 2015-12-31 12:00:00 2016-01-01 2016-01-01T01:00:00 2016-01-01 01:00:00 1   \n",
       "4 2015-12-31 12:30:00 2016-01-01 2016-01-01T01:30:00 2016-01-01 01:30:00 1   \n",
       "5 2015-12-31 13:00:00 2016-01-01 2016-01-01T02:00:00 2016-01-01 02:00:00 2   \n",
       "6 2015-12-31 13:30:00 2016-01-01 2016-01-01T02:30:00 2016-01-01 02:30:00 2   \n",
       "  rainy day_hour           \n",
       "1 FALSE 2016-01-01 00:00:00\n",
       "2 FALSE 2016-01-01 00:00:00\n",
       "3 FALSE 2016-01-01 01:00:00\n",
       "4 FALSE 2016-01-01 01:00:00\n",
       "5 FALSE 2016-01-01 02:00:00\n",
       "6 FALSE 2016-01-01 02:00:00"
      ]
     },
     "metadata": {},
     "output_type": "display_data"
    }
   ],
   "source": [
    "head(akl_hourly)"
   ]
  },
  {
   "cell_type": "markdown",
   "metadata": {},
   "source": [
    "The `datetime` column we created represented local time in Auckland, NZ. I suspect this additional column, `date_utc` represents the observation time in UTC (the name seems a big clue). But does it really?"
   ]
  },
  {
   "cell_type": "code",
   "execution_count": 142,
   "metadata": {},
   "outputs": [
    {
     "data": {
      "text/plain": [
       "[1] \"2016-01-01 00:00:00 UTC\" \"2016-01-01 00:30:00 UTC\"\n",
       "[3] \"2016-01-01 01:00:00 UTC\" \"2016-01-01 01:30:00 UTC\"\n",
       "[5] \"2016-01-01 02:00:00 UTC\" \"2016-01-01 02:30:00 UTC\""
      ]
     },
     "metadata": {},
     "output_type": "display_data"
    }
   ],
   "source": [
    "# Examine datetime and date_utc columns\n",
    "head(akl_hourly$datetime)"
   ]
  },
  {
   "cell_type": "code",
   "execution_count": 143,
   "metadata": {},
   "outputs": [
    {
     "data": {
      "text/plain": [
       "[1] \"2015-12-31 11:00:00 UTC\" \"2015-12-31 11:30:00 UTC\"\n",
       "[3] \"2015-12-31 12:00:00 UTC\" \"2015-12-31 12:30:00 UTC\"\n",
       "[5] \"2015-12-31 13:00:00 UTC\" \"2015-12-31 13:30:00 UTC\""
      ]
     },
     "metadata": {},
     "output_type": "display_data"
    }
   ],
   "source": [
    "head(akl_hourly$date_utc)  "
   ]
  },
  {
   "cell_type": "code",
   "execution_count": 144,
   "metadata": {},
   "outputs": [
    {
     "data": {
      "text/plain": [
       "[1] \"2016-01-01 00:00:00 NZDT\" \"2016-01-01 00:30:00 NZDT\"\n",
       "[3] \"2016-01-01 01:00:00 NZDT\" \"2016-01-01 01:30:00 NZDT\"\n",
       "[5] \"2016-01-01 02:00:00 NZDT\" \"2016-01-01 02:30:00 NZDT\""
      ]
     },
     "metadata": {},
     "output_type": "display_data"
    }
   ],
   "source": [
    "# Force datetime to Pacific/Auckland\n",
    "akl_hourly <- akl_hourly %>%\n",
    "  mutate(\n",
    "    datetime = force_tz(datetime, tzone = \"Pacific/Auckland\"))\n",
    "\n",
    "# Reexamine datetime\n",
    "head(akl_hourly$datetime)"
   ]
  },
  {
   "cell_type": "code",
   "execution_count": 145,
   "metadata": {},
   "outputs": [
    {
     "data": {
      "text/plain": [
       "\n",
       "-82800      0   3600 \n",
       "     2  17450      2 "
      ]
     },
     "metadata": {},
     "output_type": "display_data"
    }
   ],
   "source": [
    "# Are datetime and date_utc the same moments\n",
    "table(akl_hourly$datetime - akl_hourly$date_utc)"
   ]
  },
  {
   "cell_type": "markdown",
   "metadata": {},
   "source": [
    "Looks like for 17,450 rows datetime and date_utc describe the same moment, but for 4 rows they are different. Can you guess which? Yup, the times where DST kicks in."
   ]
  },
  {
   "cell_type": "markdown",
   "metadata": {},
   "source": [
    "### Times without dates"
   ]
  },
  {
   "cell_type": "code",
   "execution_count": 146,
   "metadata": {},
   "outputs": [
    {
     "name": "stdout",
     "output_type": "stream",
     "text": [
      " 'hms' num [1:17454] 00:00:00 00:30:00 01:00:00 01:30:00 ...\n",
      " - attr(*, \"units\")= chr \"secs\"\n"
     ]
    }
   ],
   "source": [
    "# Examine structure of time column\n",
    "str(akl_hourly$time)"
   ]
  },
  {
   "cell_type": "code",
   "execution_count": 147,
   "metadata": {},
   "outputs": [
    {
     "data": {
      "text/plain": [
       "00:00:00\n",
       "00:30:00\n",
       "01:00:00\n",
       "01:30:00\n",
       "02:00:00\n",
       "02:30:00"
      ]
     },
     "metadata": {},
     "output_type": "display_data"
    }
   ],
   "source": [
    "# Examine head of time column\n",
    "head(akl_hourly$time)"
   ]
  },
  {
   "cell_type": "code",
   "execution_count": 148,
   "metadata": {},
   "outputs": [
    {
     "data": {
      "image/png": "[encoded data removed]",
      "text/plain": [
       "plot without title"
      ]
     },
     "metadata": {},
     "output_type": "display_data"
    }
   ],
   "source": [
    "# A plot using just time\n",
    "akl_hourly %>% \n",
    "    ggplot(aes(x = time, y = temperature)) +\n",
    "    geom_line(aes(group = make_date(year, month, mday)), alpha = 0.2)"
   ]
  },
  {
   "cell_type": "markdown",
   "metadata": {},
   "source": [
    "Using time without date is a great way to examine daily patterns."
   ]
  },
  {
   "cell_type": "markdown",
   "metadata": {},
   "source": [
    "## More on importing and exporting datetimes\n",
    "\n",
    "> ### Fast parsing\n",
    "- `parse_date_time()` can be slow because it's designed to be forgiving and flexible."
   ]
  },
  {
   "cell_type": "code",
   "execution_count": 152,
   "metadata": {},
   "outputs": [
    {
     "data": {
      "text/plain": [
       "[1] \"1997-06-16 03:00:00 EAT\""
      ]
     },
     "metadata": {},
     "output_type": "display_data"
    }
   ],
   "source": [
    "fastPOSIXct(\"1997-06-16\")"
   ]
  },
  {
   "cell_type": "markdown",
   "metadata": {},
   "source": [
    "> ### fast_strptime()"
   ]
  },
  {
   "cell_type": "code",
   "execution_count": 154,
   "metadata": {},
   "outputs": [
    {
     "data": {
      "text/plain": [
       "[1] \"1997-06-15 UTC\""
      ]
     },
     "metadata": {},
     "output_type": "display_data"
    }
   ],
   "source": [
    "yob_str <- \"1997-06-15\"\n",
    "parse_date_time(yob_str, order=\"ymd\")"
   ]
  },
  {
   "cell_type": "code",
   "execution_count": 155,
   "metadata": {},
   "outputs": [
    {
     "data": {
      "text/plain": [
       "[1] \"1997-06-15 UTC\""
      ]
     },
     "metadata": {},
     "output_type": "display_data"
    }
   ],
   "source": [
    "fast_strptime(yob_str, format = \"%Y-%m-%d\")"
   ]
  },
  {
   "cell_type": "markdown",
   "metadata": {},
   "source": [
    "> ### Exporting datetimes"
   ]
  },
  {
   "cell_type": "code",
   "execution_count": 162,
   "metadata": {},
   "outputs": [],
   "source": [
    "akl_hourly %>%\n",
    "    select(datetime) %>%\n",
    "    write_csv(\"datasets/tmp.csv\")"
   ]
  },
  {
   "cell_type": "markdown",
   "metadata": {},
   "source": [
    "> ### Formatting datetimes"
   ]
  },
  {
   "cell_type": "code",
   "execution_count": 163,
   "metadata": {},
   "outputs": [
    {
     "name": "stderr",
     "output_type": "stream",
     "text": [
      "Multiple formats matched: \"%A %B %d %Y\"(1), \"Sunday %Om %d %Y\"(1), \"Sunday %B %d %Y\"(1), \"%A %Om %d %Y\"(0)\n",
      "Using: \"%A %B %d %Y\"\n"
     ]
    }
   ],
   "source": [
    "yob_stamp <- stamp(\"Sunday June 15 1997\")"
   ]
  },
  {
   "cell_type": "code",
   "execution_count": 164,
   "metadata": {},
   "outputs": [
    {
     "data": {
      "text/html": [
       "'Sunday June 15 1997'"
      ],
      "text/latex": [
       "'Sunday June 15 1997'"
      ],
      "text/markdown": [
       "'Sunday June 15 1997'"
      ],
      "text/plain": [
       "[1] \"Sunday June 15 1997\""
      ]
     },
     "metadata": {},
     "output_type": "display_data"
    }
   ],
   "source": [
    "yob_stamp(ymd(\"1997-06-15\"))"
   ]
  },
  {
   "cell_type": "code",
   "execution_count": 166,
   "metadata": {},
   "outputs": [
    {
     "data": {
      "text/html": [
       "<pre class=language-r><code>function (x, locale = \"English_United States.1252\") \n",
       "{\n",
       "<span style=white-space:pre-wrap>    {</span>\n",
       "<span style=white-space:pre-wrap>        old_lc_time &lt;- Sys.getlocale(\"LC_TIME\")</span>\n",
       "<span style=white-space:pre-wrap>        if (old_lc_time != locale) {</span>\n",
       "<span style=white-space:pre-wrap>            on.exit(Sys.setlocale(\"LC_TIME\", old_lc_time))</span>\n",
       "<span style=white-space:pre-wrap>            Sys.setlocale(\"LC_TIME\", locale)</span>\n",
       "<span style=white-space:pre-wrap>        }</span>\n",
       "<span style=white-space:pre-wrap>    }</span>\n",
       "<span style=white-space:pre-wrap>    format(x, format = \"%A %B %d %Y\")</span>\n",
       "}</code></pre>"
      ],
      "text/latex": [
       "\\begin{minted}{r}\n",
       "function (x, locale = \"English\\_United States.1252\") \n",
       "\\{\n",
       "    \\{\n",
       "        old\\_lc\\_time <- Sys.getlocale(\"LC\\_TIME\")\n",
       "        if (old\\_lc\\_time != locale) \\{\n",
       "            on.exit(Sys.setlocale(\"LC\\_TIME\", old\\_lc\\_time))\n",
       "            Sys.setlocale(\"LC\\_TIME\", locale)\n",
       "        \\}\n",
       "    \\}\n",
       "    format(x, format = \"\\%A \\%B \\%d \\%Y\")\n",
       "\\}\n",
       "\\end{minted}"
      ],
      "text/markdown": [
       "```r\n",
       "function (x, locale = \"English_United States.1252\") \n",
       "{\n",
       "    {\n",
       "        old_lc_time <- Sys.getlocale(\"LC_TIME\")\n",
       "        if (old_lc_time != locale) {\n",
       "            on.exit(Sys.setlocale(\"LC_TIME\", old_lc_time))\n",
       "            Sys.setlocale(\"LC_TIME\", locale)\n",
       "        }\n",
       "    }\n",
       "    format(x, format = \"%A %B %d %Y\")\n",
       "}\n",
       "```"
      ],
      "text/plain": [
       "function (x, locale = \"English_United States.1252\") \n",
       "{\n",
       "    {\n",
       "        old_lc_time <- Sys.getlocale(\"LC_TIME\")\n",
       "        if (old_lc_time != locale) {\n",
       "            on.exit(Sys.setlocale(\"LC_TIME\", old_lc_time))\n",
       "            Sys.setlocale(\"LC_TIME\", locale)\n",
       "        }\n",
       "    }\n",
       "    format(x, format = \"%A %B %d %Y\")\n",
       "}\n",
       "<environment: 0x00000000083bbb08>"
      ]
     },
     "metadata": {},
     "output_type": "display_data"
    }
   ],
   "source": [
    "yob_stamp "
   ]
  },
  {
   "cell_type": "markdown",
   "metadata": {},
   "source": [
    "### Fast parsing with fasttime\n",
    "\n",
    "The fasttime package provides a single function `fastPOSIXct()`, designed to read in datetimes formatted according to ISO 8601. Because it only reads in one format, and doesn't have to guess a format, it is really fast!\n",
    "\n",
    "We'll see how fast by comparing how fast it reads in the dates from the Auckland hourly weather data (over 17,000 dates) to lubridates `ymd_hms()`."
   ]
  },
  {
   "cell_type": "code",
   "execution_count": 175,
   "metadata": {},
   "outputs": [
    {
     "name": "stdout",
     "output_type": "stream",
     "text": [
      " chr [1:17454] \"2016-01-01T00:00:00\" \"2016-01-01T00:30:00\" ...\n"
     ]
    }
   ],
   "source": [
    "# Examine structure of dates\n",
    "str(akl_hourly$datetime_string)"
   ]
  },
  {
   "cell_type": "code",
   "execution_count": 176,
   "metadata": {},
   "outputs": [
    {
     "name": "stdout",
     "output_type": "stream",
     "text": [
      " POSIXct[1:17454], format: \"2016-01-01 03:00:00\" \"2016-01-01 03:30:00\" \"2016-01-01 04:00:00\" ...\n"
     ]
    }
   ],
   "source": [
    "# Use fastPOSIXct() to parse dates\n",
    "fastPOSIXct(akl_hourly$datetime_string) %>% str()"
   ]
  },
  {
   "cell_type": "code",
   "execution_count": 177,
   "metadata": {},
   "outputs": [
    {
     "data": {
      "text/html": [
       "<table>\n",
       "<thead><tr><th scope=col>expr</th><th scope=col>time</th></tr></thead>\n",
       "<tbody>\n",
       "\t<tr><td>fasttime</td><td> 2455100</td></tr>\n",
       "\t<tr><td>ymd_hms </td><td>30602000</td></tr>\n",
       "\t<tr><td>fasttime</td><td> 2577700</td></tr>\n",
       "\t<tr><td>ymd_hms </td><td>31090200</td></tr>\n",
       "\t<tr><td>fasttime</td><td> 2762600</td></tr>\n",
       "\t<tr><td>fasttime</td><td> 2779400</td></tr>\n",
       "\t<tr><td>fasttime</td><td> 2796400</td></tr>\n",
       "\t<tr><td>fasttime</td><td> 2786900</td></tr>\n",
       "\t<tr><td>ymd_hms </td><td>35160800</td></tr>\n",
       "\t<tr><td>fasttime</td><td> 2590900</td></tr>\n",
       "\t<tr><td>ymd_hms </td><td>32037000</td></tr>\n",
       "\t<tr><td>ymd_hms </td><td>31251200</td></tr>\n",
       "\t<tr><td>ymd_hms </td><td>32154400</td></tr>\n",
       "\t<tr><td>fasttime</td><td> 2638200</td></tr>\n",
       "\t<tr><td>ymd_hms </td><td>32626700</td></tr>\n",
       "\t<tr><td>ymd_hms </td><td>31518000</td></tr>\n",
       "\t<tr><td>fasttime</td><td> 2517700</td></tr>\n",
       "\t<tr><td>ymd_hms </td><td>32616500</td></tr>\n",
       "\t<tr><td>fasttime</td><td> 2396500</td></tr>\n",
       "\t<tr><td>ymd_hms </td><td>33101100</td></tr>\n",
       "\t<tr><td>fasttime</td><td> 2503900</td></tr>\n",
       "\t<tr><td>fasttime</td><td> 2429800</td></tr>\n",
       "\t<tr><td>ymd_hms </td><td>38136000</td></tr>\n",
       "\t<tr><td>ymd_hms </td><td>28758100</td></tr>\n",
       "\t<tr><td>fasttime</td><td> 2131100</td></tr>\n",
       "\t<tr><td>ymd_hms </td><td>26896600</td></tr>\n",
       "\t<tr><td>fasttime</td><td> 2219700</td></tr>\n",
       "\t<tr><td>ymd_hms </td><td>26722900</td></tr>\n",
       "\t<tr><td>ymd_hms </td><td>26774200</td></tr>\n",
       "\t<tr><td>ymd_hms </td><td>28291400</td></tr>\n",
       "\t<tr><td>ymd_hms </td><td>35462800</td></tr>\n",
       "\t<tr><td>ymd_hms </td><td>35749400</td></tr>\n",
       "\t<tr><td>fasttime</td><td> 2591500</td></tr>\n",
       "\t<tr><td>fasttime</td><td> 2532400</td></tr>\n",
       "\t<tr><td>ymd_hms </td><td>32089700</td></tr>\n",
       "\t<tr><td>fasttime</td><td> 2776700</td></tr>\n",
       "\t<tr><td>fasttime</td><td> 2697700</td></tr>\n",
       "\t<tr><td>fasttime</td><td> 2550500</td></tr>\n",
       "\t<tr><td>ymd_hms </td><td>33218200</td></tr>\n",
       "\t<tr><td>fasttime</td><td> 2475800</td></tr>\n",
       "</tbody>\n",
       "</table>\n"
      ],
      "text/latex": [
       "\\begin{tabular}{r|ll}\n",
       " expr & time\\\\\n",
       "\\hline\n",
       "\t fasttime &  2455100\\\\\n",
       "\t ymd\\_hms  & 30602000  \\\\\n",
       "\t fasttime &  2577700\\\\\n",
       "\t ymd\\_hms  & 31090200  \\\\\n",
       "\t fasttime &  2762600\\\\\n",
       "\t fasttime &  2779400\\\\\n",
       "\t fasttime &  2796400\\\\\n",
       "\t fasttime &  2786900\\\\\n",
       "\t ymd\\_hms  & 35160800  \\\\\n",
       "\t fasttime &  2590900\\\\\n",
       "\t ymd\\_hms  & 32037000  \\\\\n",
       "\t ymd\\_hms  & 31251200  \\\\\n",
       "\t ymd\\_hms  & 32154400  \\\\\n",
       "\t fasttime &  2638200\\\\\n",
       "\t ymd\\_hms  & 32626700  \\\\\n",
       "\t ymd\\_hms  & 31518000  \\\\\n",
       "\t fasttime &  2517700\\\\\n",
       "\t ymd\\_hms  & 32616500  \\\\\n",
       "\t fasttime &  2396500\\\\\n",
       "\t ymd\\_hms  & 33101100  \\\\\n",
       "\t fasttime &  2503900\\\\\n",
       "\t fasttime &  2429800\\\\\n",
       "\t ymd\\_hms  & 38136000  \\\\\n",
       "\t ymd\\_hms  & 28758100  \\\\\n",
       "\t fasttime &  2131100\\\\\n",
       "\t ymd\\_hms  & 26896600  \\\\\n",
       "\t fasttime &  2219700\\\\\n",
       "\t ymd\\_hms  & 26722900  \\\\\n",
       "\t ymd\\_hms  & 26774200  \\\\\n",
       "\t ymd\\_hms  & 28291400  \\\\\n",
       "\t ymd\\_hms  & 35462800  \\\\\n",
       "\t ymd\\_hms  & 35749400  \\\\\n",
       "\t fasttime &  2591500\\\\\n",
       "\t fasttime &  2532400\\\\\n",
       "\t ymd\\_hms  & 32089700  \\\\\n",
       "\t fasttime &  2776700\\\\\n",
       "\t fasttime &  2697700\\\\\n",
       "\t fasttime &  2550500\\\\\n",
       "\t ymd\\_hms  & 33218200  \\\\\n",
       "\t fasttime &  2475800\\\\\n",
       "\\end{tabular}\n"
      ],
      "text/markdown": [
       "\n",
       "| expr | time |\n",
       "|---|---|\n",
       "| fasttime |  2455100 |\n",
       "| ymd_hms  | 30602000 |\n",
       "| fasttime |  2577700 |\n",
       "| ymd_hms  | 31090200 |\n",
       "| fasttime |  2762600 |\n",
       "| fasttime |  2779400 |\n",
       "| fasttime |  2796400 |\n",
       "| fasttime |  2786900 |\n",
       "| ymd_hms  | 35160800 |\n",
       "| fasttime |  2590900 |\n",
       "| ymd_hms  | 32037000 |\n",
       "| ymd_hms  | 31251200 |\n",
       "| ymd_hms  | 32154400 |\n",
       "| fasttime |  2638200 |\n",
       "| ymd_hms  | 32626700 |\n",
       "| ymd_hms  | 31518000 |\n",
       "| fasttime |  2517700 |\n",
       "| ymd_hms  | 32616500 |\n",
       "| fasttime |  2396500 |\n",
       "| ymd_hms  | 33101100 |\n",
       "| fasttime |  2503900 |\n",
       "| fasttime |  2429800 |\n",
       "| ymd_hms  | 38136000 |\n",
       "| ymd_hms  | 28758100 |\n",
       "| fasttime |  2131100 |\n",
       "| ymd_hms  | 26896600 |\n",
       "| fasttime |  2219700 |\n",
       "| ymd_hms  | 26722900 |\n",
       "| ymd_hms  | 26774200 |\n",
       "| ymd_hms  | 28291400 |\n",
       "| ymd_hms  | 35462800 |\n",
       "| ymd_hms  | 35749400 |\n",
       "| fasttime |  2591500 |\n",
       "| fasttime |  2532400 |\n",
       "| ymd_hms  | 32089700 |\n",
       "| fasttime |  2776700 |\n",
       "| fasttime |  2697700 |\n",
       "| fasttime |  2550500 |\n",
       "| ymd_hms  | 33218200 |\n",
       "| fasttime |  2475800 |\n",
       "\n"
      ],
      "text/plain": [
       "   expr     time    \n",
       "1  fasttime  2455100\n",
       "2  ymd_hms  30602000\n",
       "3  fasttime  2577700\n",
       "4  ymd_hms  31090200\n",
       "5  fasttime  2762600\n",
       "6  fasttime  2779400\n",
       "7  fasttime  2796400\n",
       "8  fasttime  2786900\n",
       "9  ymd_hms  35160800\n",
       "10 fasttime  2590900\n",
       "11 ymd_hms  32037000\n",
       "12 ymd_hms  31251200\n",
       "13 ymd_hms  32154400\n",
       "14 fasttime  2638200\n",
       "15 ymd_hms  32626700\n",
       "16 ymd_hms  31518000\n",
       "17 fasttime  2517700\n",
       "18 ymd_hms  32616500\n",
       "19 fasttime  2396500\n",
       "20 ymd_hms  33101100\n",
       "21 fasttime  2503900\n",
       "22 fasttime  2429800\n",
       "23 ymd_hms  38136000\n",
       "24 ymd_hms  28758100\n",
       "25 fasttime  2131100\n",
       "26 ymd_hms  26896600\n",
       "27 fasttime  2219700\n",
       "28 ymd_hms  26722900\n",
       "29 ymd_hms  26774200\n",
       "30 ymd_hms  28291400\n",
       "31 ymd_hms  35462800\n",
       "32 ymd_hms  35749400\n",
       "33 fasttime  2591500\n",
       "34 fasttime  2532400\n",
       "35 ymd_hms  32089700\n",
       "36 fasttime  2776700\n",
       "37 fasttime  2697700\n",
       "38 fasttime  2550500\n",
       "39 ymd_hms  33218200\n",
       "40 fasttime  2475800"
      ]
     },
     "metadata": {},
     "output_type": "display_data"
    }
   ],
   "source": [
    "# Compare speed of fastPOSIXct() to ymd_hms()\n",
    "microbenchmark(\n",
    "  ymd_hms = ymd_hms(akl_hourly$datetime_string),\n",
    "  fasttime = fastPOSIXct(akl_hourly$datetime_string),\n",
    "  times = 20)"
   ]
  },
  {
   "cell_type": "markdown",
   "metadata": {},
   "source": [
    "fasttime is about 20 times faster than ymd_hms()."
   ]
  },
  {
   "cell_type": "markdown",
   "metadata": {},
   "source": [
    "### Fast parsing with lubridate::fast_strptime\n",
    "\n",
    "lubridate provides its own fast datetime parser: `fast_strptime()`. Instead of taking an `order` argument like `parse_date_time()` it takes a `format` argument and the format must comply with the `strptime()` style."
   ]
  },
  {
   "cell_type": "code",
   "execution_count": 179,
   "metadata": {},
   "outputs": [
    {
     "data": {
      "text/html": [
       "<ol class=list-inline>\n",
       "\t<li>'2016-01-01T00:00:00'</li>\n",
       "\t<li>'2016-01-01T00:30:00'</li>\n",
       "\t<li>'2016-01-01T01:00:00'</li>\n",
       "\t<li>'2016-01-01T01:30:00'</li>\n",
       "\t<li>'2016-01-01T02:00:00'</li>\n",
       "\t<li>'2016-01-01T02:30:00'</li>\n",
       "</ol>\n"
      ],
      "text/latex": [
       "\\begin{enumerate*}\n",
       "\\item '2016-01-01T00:00:00'\n",
       "\\item '2016-01-01T00:30:00'\n",
       "\\item '2016-01-01T01:00:00'\n",
       "\\item '2016-01-01T01:30:00'\n",
       "\\item '2016-01-01T02:00:00'\n",
       "\\item '2016-01-01T02:30:00'\n",
       "\\end{enumerate*}\n"
      ],
      "text/markdown": [
       "1. '2016-01-01T00:00:00'\n",
       "2. '2016-01-01T00:30:00'\n",
       "3. '2016-01-01T01:00:00'\n",
       "4. '2016-01-01T01:30:00'\n",
       "5. '2016-01-01T02:00:00'\n",
       "6. '2016-01-01T02:30:00'\n",
       "\n",
       "\n"
      ],
      "text/plain": [
       "[1] \"2016-01-01T00:00:00\" \"2016-01-01T00:30:00\" \"2016-01-01T01:00:00\"\n",
       "[4] \"2016-01-01T01:30:00\" \"2016-01-01T02:00:00\" \"2016-01-01T02:30:00\""
      ]
     },
     "metadata": {},
     "output_type": "display_data"
    }
   ],
   "source": [
    "# Head of dates\n",
    "head(akl_hourly$datetime_string)"
   ]
  },
  {
   "cell_type": "code",
   "execution_count": 181,
   "metadata": {},
   "outputs": [
    {
     "name": "stdout",
     "output_type": "stream",
     "text": [
      " POSIXlt[1:17454], format: \"2016-01-01 00:00:00\" \"2016-01-01 00:30:00\" \"2016-01-01 01:00:00\" ...\n"
     ]
    }
   ],
   "source": [
    "# Parse dates with fast_strptime\n",
    "fast_strptime(akl_hourly$datetime_string, \n",
    "    format = \"%Y-%m-%dT%H:%M:%S\") %>% str()"
   ]
  },
  {
   "cell_type": "code",
   "execution_count": 182,
   "metadata": {},
   "outputs": [
    {
     "data": {
      "text/html": [
       "<table>\n",
       "<thead><tr><th scope=col>expr</th><th scope=col>time</th></tr></thead>\n",
       "<tbody>\n",
       "\t<tr><td>ymd_hms      </td><td>42620600     </td></tr>\n",
       "\t<tr><td>ymd_hms      </td><td>46698300     </td></tr>\n",
       "\t<tr><td>fast_strptime</td><td> 3006900     </td></tr>\n",
       "\t<tr><td>ymd_hms      </td><td>29005100     </td></tr>\n",
       "\t<tr><td>ymd_hms      </td><td>28695300     </td></tr>\n",
       "\t<tr><td>fasttime     </td><td> 2406000     </td></tr>\n",
       "\t<tr><td>fasttime     </td><td> 2340100     </td></tr>\n",
       "\t<tr><td>fasttime     </td><td> 2312100     </td></tr>\n",
       "\t<tr><td>fasttime     </td><td> 2310500     </td></tr>\n",
       "\t<tr><td>ymd_hms      </td><td>31183400     </td></tr>\n",
       "\t<tr><td>fast_strptime</td><td> 3118800     </td></tr>\n",
       "\t<tr><td>fasttime     </td><td> 2325100     </td></tr>\n",
       "\t<tr><td>ymd_hms      </td><td>29844300     </td></tr>\n",
       "\t<tr><td>fast_strptime</td><td> 3363600     </td></tr>\n",
       "\t<tr><td>fast_strptime</td><td> 3071200     </td></tr>\n",
       "\t<tr><td>ymd_hms      </td><td>30061000     </td></tr>\n",
       "\t<tr><td>fasttime     </td><td> 2251400     </td></tr>\n",
       "\t<tr><td>ymd_hms      </td><td>36800700     </td></tr>\n",
       "\t<tr><td>fast_strptime</td><td> 3555000     </td></tr>\n",
       "\t<tr><td>ymd_hms      </td><td>34068400     </td></tr>\n",
       "\t<tr><td>fasttime     </td><td> 2512300     </td></tr>\n",
       "\t<tr><td>fast_strptime</td><td> 3111700     </td></tr>\n",
       "\t<tr><td>fast_strptime</td><td> 3095400     </td></tr>\n",
       "\t<tr><td>fasttime     </td><td> 2264900     </td></tr>\n",
       "\t<tr><td>fast_strptime</td><td> 3090500     </td></tr>\n",
       "\t<tr><td>ymd_hms      </td><td>36769000     </td></tr>\n",
       "\t<tr><td>ymd_hms      </td><td>27374000     </td></tr>\n",
       "\t<tr><td>fast_strptime</td><td> 2777400     </td></tr>\n",
       "\t<tr><td>ymd_hms      </td><td>27985100     </td></tr>\n",
       "\t<tr><td>fasttime     </td><td> 2200400     </td></tr>\n",
       "\t<tr><td>fasttime     </td><td> 1994100     </td></tr>\n",
       "\t<tr><td>fast_strptime</td><td> 2602500     </td></tr>\n",
       "\t<tr><td>fast_strptime</td><td> 2617500     </td></tr>\n",
       "\t<tr><td>ymd_hms      </td><td>26029600     </td></tr>\n",
       "\t<tr><td>ymd_hms      </td><td>26985200     </td></tr>\n",
       "\t<tr><td>fast_strptime</td><td> 3005900     </td></tr>\n",
       "\t<tr><td>fasttime     </td><td> 2201400     </td></tr>\n",
       "\t<tr><td>fasttime     </td><td> 2131400     </td></tr>\n",
       "\t<tr><td>ymd_hms      </td><td>29039200     </td></tr>\n",
       "\t<tr><td>fasttime     </td><td> 2134500     </td></tr>\n",
       "\t<tr><td>fasttime     </td><td> 2064700     </td></tr>\n",
       "\t<tr><td>fast_strptime</td><td> 2821100     </td></tr>\n",
       "\t<tr><td>fasttime     </td><td> 2143200     </td></tr>\n",
       "\t<tr><td>fasttime     </td><td> 2044300     </td></tr>\n",
       "\t<tr><td>ymd_hms      </td><td>29941500     </td></tr>\n",
       "\t<tr><td>fast_strptime</td><td> 3029800     </td></tr>\n",
       "\t<tr><td>ymd_hms      </td><td>41443300     </td></tr>\n",
       "\t<tr><td>fasttime     </td><td> 2978200     </td></tr>\n",
       "\t<tr><td>fasttime     </td><td> 3032300     </td></tr>\n",
       "\t<tr><td>fast_strptime</td><td> 4292500     </td></tr>\n",
       "\t<tr><td>fast_strptime</td><td> 3543800     </td></tr>\n",
       "\t<tr><td>ymd_hms      </td><td>35316000     </td></tr>\n",
       "\t<tr><td>ymd_hms      </td><td>37035500     </td></tr>\n",
       "\t<tr><td>fast_strptime</td><td> 3009300     </td></tr>\n",
       "\t<tr><td>ymd_hms      </td><td>27633800     </td></tr>\n",
       "\t<tr><td>fasttime     </td><td> 2117500     </td></tr>\n",
       "\t<tr><td>fast_strptime</td><td> 2832600     </td></tr>\n",
       "\t<tr><td>fasttime     </td><td> 2035900     </td></tr>\n",
       "\t<tr><td>fast_strptime</td><td> 2714100     </td></tr>\n",
       "\t<tr><td>fast_strptime</td><td> 2799400     </td></tr>\n",
       "</tbody>\n",
       "</table>\n"
      ],
      "text/latex": [
       "\\begin{tabular}{r|ll}\n",
       " expr & time\\\\\n",
       "\\hline\n",
       "\t ymd\\_hms       & 42620600       \\\\\n",
       "\t ymd\\_hms       & 46698300       \\\\\n",
       "\t fast\\_strptime &  3006900       \\\\\n",
       "\t ymd\\_hms       & 29005100       \\\\\n",
       "\t ymd\\_hms       & 28695300       \\\\\n",
       "\t fasttime      &  2406000     \\\\\n",
       "\t fasttime      &  2340100     \\\\\n",
       "\t fasttime      &  2312100     \\\\\n",
       "\t fasttime      &  2310500     \\\\\n",
       "\t ymd\\_hms       & 31183400       \\\\\n",
       "\t fast\\_strptime &  3118800       \\\\\n",
       "\t fasttime      &  2325100     \\\\\n",
       "\t ymd\\_hms       & 29844300       \\\\\n",
       "\t fast\\_strptime &  3363600       \\\\\n",
       "\t fast\\_strptime &  3071200       \\\\\n",
       "\t ymd\\_hms       & 30061000       \\\\\n",
       "\t fasttime      &  2251400     \\\\\n",
       "\t ymd\\_hms       & 36800700       \\\\\n",
       "\t fast\\_strptime &  3555000       \\\\\n",
       "\t ymd\\_hms       & 34068400       \\\\\n",
       "\t fasttime      &  2512300     \\\\\n",
       "\t fast\\_strptime &  3111700       \\\\\n",
       "\t fast\\_strptime &  3095400       \\\\\n",
       "\t fasttime      &  2264900     \\\\\n",
       "\t fast\\_strptime &  3090500       \\\\\n",
       "\t ymd\\_hms       & 36769000       \\\\\n",
       "\t ymd\\_hms       & 27374000       \\\\\n",
       "\t fast\\_strptime &  2777400       \\\\\n",
       "\t ymd\\_hms       & 27985100       \\\\\n",
       "\t fasttime      &  2200400     \\\\\n",
       "\t fasttime      &  1994100     \\\\\n",
       "\t fast\\_strptime &  2602500       \\\\\n",
       "\t fast\\_strptime &  2617500       \\\\\n",
       "\t ymd\\_hms       & 26029600       \\\\\n",
       "\t ymd\\_hms       & 26985200       \\\\\n",
       "\t fast\\_strptime &  3005900       \\\\\n",
       "\t fasttime      &  2201400     \\\\\n",
       "\t fasttime      &  2131400     \\\\\n",
       "\t ymd\\_hms       & 29039200       \\\\\n",
       "\t fasttime      &  2134500     \\\\\n",
       "\t fasttime      &  2064700     \\\\\n",
       "\t fast\\_strptime &  2821100       \\\\\n",
       "\t fasttime      &  2143200     \\\\\n",
       "\t fasttime      &  2044300     \\\\\n",
       "\t ymd\\_hms       & 29941500       \\\\\n",
       "\t fast\\_strptime &  3029800       \\\\\n",
       "\t ymd\\_hms       & 41443300       \\\\\n",
       "\t fasttime      &  2978200     \\\\\n",
       "\t fasttime      &  3032300     \\\\\n",
       "\t fast\\_strptime &  4292500       \\\\\n",
       "\t fast\\_strptime &  3543800       \\\\\n",
       "\t ymd\\_hms       & 35316000       \\\\\n",
       "\t ymd\\_hms       & 37035500       \\\\\n",
       "\t fast\\_strptime &  3009300       \\\\\n",
       "\t ymd\\_hms       & 27633800       \\\\\n",
       "\t fasttime      &  2117500     \\\\\n",
       "\t fast\\_strptime &  2832600       \\\\\n",
       "\t fasttime      &  2035900     \\\\\n",
       "\t fast\\_strptime &  2714100       \\\\\n",
       "\t fast\\_strptime &  2799400       \\\\\n",
       "\\end{tabular}\n"
      ],
      "text/markdown": [
       "\n",
       "| expr | time |\n",
       "|---|---|\n",
       "| ymd_hms       | 42620600      |\n",
       "| ymd_hms       | 46698300      |\n",
       "| fast_strptime |  3006900      |\n",
       "| ymd_hms       | 29005100      |\n",
       "| ymd_hms       | 28695300      |\n",
       "| fasttime      |  2406000      |\n",
       "| fasttime      |  2340100      |\n",
       "| fasttime      |  2312100      |\n",
       "| fasttime      |  2310500      |\n",
       "| ymd_hms       | 31183400      |\n",
       "| fast_strptime |  3118800      |\n",
       "| fasttime      |  2325100      |\n",
       "| ymd_hms       | 29844300      |\n",
       "| fast_strptime |  3363600      |\n",
       "| fast_strptime |  3071200      |\n",
       "| ymd_hms       | 30061000      |\n",
       "| fasttime      |  2251400      |\n",
       "| ymd_hms       | 36800700      |\n",
       "| fast_strptime |  3555000      |\n",
       "| ymd_hms       | 34068400      |\n",
       "| fasttime      |  2512300      |\n",
       "| fast_strptime |  3111700      |\n",
       "| fast_strptime |  3095400      |\n",
       "| fasttime      |  2264900      |\n",
       "| fast_strptime |  3090500      |\n",
       "| ymd_hms       | 36769000      |\n",
       "| ymd_hms       | 27374000      |\n",
       "| fast_strptime |  2777400      |\n",
       "| ymd_hms       | 27985100      |\n",
       "| fasttime      |  2200400      |\n",
       "| fasttime      |  1994100      |\n",
       "| fast_strptime |  2602500      |\n",
       "| fast_strptime |  2617500      |\n",
       "| ymd_hms       | 26029600      |\n",
       "| ymd_hms       | 26985200      |\n",
       "| fast_strptime |  3005900      |\n",
       "| fasttime      |  2201400      |\n",
       "| fasttime      |  2131400      |\n",
       "| ymd_hms       | 29039200      |\n",
       "| fasttime      |  2134500      |\n",
       "| fasttime      |  2064700      |\n",
       "| fast_strptime |  2821100      |\n",
       "| fasttime      |  2143200      |\n",
       "| fasttime      |  2044300      |\n",
       "| ymd_hms       | 29941500      |\n",
       "| fast_strptime |  3029800      |\n",
       "| ymd_hms       | 41443300      |\n",
       "| fasttime      |  2978200      |\n",
       "| fasttime      |  3032300      |\n",
       "| fast_strptime |  4292500      |\n",
       "| fast_strptime |  3543800      |\n",
       "| ymd_hms       | 35316000      |\n",
       "| ymd_hms       | 37035500      |\n",
       "| fast_strptime |  3009300      |\n",
       "| ymd_hms       | 27633800      |\n",
       "| fasttime      |  2117500      |\n",
       "| fast_strptime |  2832600      |\n",
       "| fasttime      |  2035900      |\n",
       "| fast_strptime |  2714100      |\n",
       "| fast_strptime |  2799400      |\n",
       "\n"
      ],
      "text/plain": [
       "   expr          time    \n",
       "1  ymd_hms       42620600\n",
       "2  ymd_hms       46698300\n",
       "3  fast_strptime  3006900\n",
       "4  ymd_hms       29005100\n",
       "5  ymd_hms       28695300\n",
       "6  fasttime       2406000\n",
       "7  fasttime       2340100\n",
       "8  fasttime       2312100\n",
       "9  fasttime       2310500\n",
       "10 ymd_hms       31183400\n",
       "11 fast_strptime  3118800\n",
       "12 fasttime       2325100\n",
       "13 ymd_hms       29844300\n",
       "14 fast_strptime  3363600\n",
       "15 fast_strptime  3071200\n",
       "16 ymd_hms       30061000\n",
       "17 fasttime       2251400\n",
       "18 ymd_hms       36800700\n",
       "19 fast_strptime  3555000\n",
       "20 ymd_hms       34068400\n",
       "21 fasttime       2512300\n",
       "22 fast_strptime  3111700\n",
       "23 fast_strptime  3095400\n",
       "24 fasttime       2264900\n",
       "25 fast_strptime  3090500\n",
       "26 ymd_hms       36769000\n",
       "27 ymd_hms       27374000\n",
       "28 fast_strptime  2777400\n",
       "29 ymd_hms       27985100\n",
       "30 fasttime       2200400\n",
       "31 fasttime       1994100\n",
       "32 fast_strptime  2602500\n",
       "33 fast_strptime  2617500\n",
       "34 ymd_hms       26029600\n",
       "35 ymd_hms       26985200\n",
       "36 fast_strptime  3005900\n",
       "37 fasttime       2201400\n",
       "38 fasttime       2131400\n",
       "39 ymd_hms       29039200\n",
       "40 fasttime       2134500\n",
       "41 fasttime       2064700\n",
       "42 fast_strptime  2821100\n",
       "43 fasttime       2143200\n",
       "44 fasttime       2044300\n",
       "45 ymd_hms       29941500\n",
       "46 fast_strptime  3029800\n",
       "47 ymd_hms       41443300\n",
       "48 fasttime       2978200\n",
       "49 fasttime       3032300\n",
       "50 fast_strptime  4292500\n",
       "51 fast_strptime  3543800\n",
       "52 ymd_hms       35316000\n",
       "53 ymd_hms       37035500\n",
       "54 fast_strptime  3009300\n",
       "55 ymd_hms       27633800\n",
       "56 fasttime       2117500\n",
       "57 fast_strptime  2832600\n",
       "58 fasttime       2035900\n",
       "59 fast_strptime  2714100\n",
       "60 fast_strptime  2799400"
      ]
     },
     "metadata": {},
     "output_type": "display_data"
    }
   ],
   "source": [
    "# Comparse speed to ymd_hms() and fasttime\n",
    "microbenchmark(\n",
    "  ymd_hms = ymd_hms(akl_hourly$datetime_string),\n",
    "  fasttime = fastPOSIXct(akl_hourly$datetime_string),\n",
    "  fast_strptime = fast_strptime(akl_hourly$datetime_string, \n",
    "    format = \"%Y-%m-%dT%H:%M:%S\"),\n",
    "  times = 20)"
   ]
  },
  {
   "cell_type": "markdown",
   "metadata": {},
   "source": [
    "### Outputting pretty dates and times\n",
    "\n",
    "An easy way to output dates is to use the `stamp()` function in lubridate. `stamp()` takes a string which should be an example of how the date should be formatted, and returns a function that can be used to format dates."
   ]
  },
  {
   "cell_type": "code",
   "execution_count": 183,
   "metadata": {},
   "outputs": [
    {
     "name": "stderr",
     "output_type": "stream",
     "text": [
      "Multiple formats matched: \"%A, %b %d, %Y\"(1), \"Saturday, Jan %Om, %Y\"(1), \"Saturday, %Om %d, %Y\"(1), \"Saturday, %b %d, %Y\"(1), \"Saturday, Jan %m, %Y\"(1), \"%A, Jan %Om, %Y\"(0), \"%A, %Om %d, %Y\"(0), \"%A, Jan %m, %Y\"(0)\n",
      "Using: \"%A, %b %d, %Y\"\n"
     ]
    },
    {
     "data": {
      "text/html": [
       "<pre class=language-r><code>function (x, locale = \"English_United States.1252\") \n",
       "{\n",
       "<span style=white-space:pre-wrap>    {</span>\n",
       "<span style=white-space:pre-wrap>        old_lc_time &lt;- Sys.getlocale(\"LC_TIME\")</span>\n",
       "<span style=white-space:pre-wrap>        if (old_lc_time != locale) {</span>\n",
       "<span style=white-space:pre-wrap>            on.exit(Sys.setlocale(\"LC_TIME\", old_lc_time))</span>\n",
       "<span style=white-space:pre-wrap>            Sys.setlocale(\"LC_TIME\", locale)</span>\n",
       "<span style=white-space:pre-wrap>        }</span>\n",
       "<span style=white-space:pre-wrap>    }</span>\n",
       "<span style=white-space:pre-wrap>    format(x, format = \"%A, %b %d, %Y\")</span>\n",
       "}</code></pre>"
      ],
      "text/latex": [
       "\\begin{minted}{r}\n",
       "function (x, locale = \"English\\_United States.1252\") \n",
       "\\{\n",
       "    \\{\n",
       "        old\\_lc\\_time <- Sys.getlocale(\"LC\\_TIME\")\n",
       "        if (old\\_lc\\_time != locale) \\{\n",
       "            on.exit(Sys.setlocale(\"LC\\_TIME\", old\\_lc\\_time))\n",
       "            Sys.setlocale(\"LC\\_TIME\", locale)\n",
       "        \\}\n",
       "    \\}\n",
       "    format(x, format = \"\\%A, \\%b \\%d, \\%Y\")\n",
       "\\}\n",
       "\\end{minted}"
      ],
      "text/markdown": [
       "```r\n",
       "function (x, locale = \"English_United States.1252\") \n",
       "{\n",
       "    {\n",
       "        old_lc_time <- Sys.getlocale(\"LC_TIME\")\n",
       "        if (old_lc_time != locale) {\n",
       "            on.exit(Sys.setlocale(\"LC_TIME\", old_lc_time))\n",
       "            Sys.setlocale(\"LC_TIME\", locale)\n",
       "        }\n",
       "    }\n",
       "    format(x, format = \"%A, %b %d, %Y\")\n",
       "}\n",
       "```"
      ],
      "text/plain": [
       "function (x, locale = \"English_United States.1252\") \n",
       "{\n",
       "    {\n",
       "        old_lc_time <- Sys.getlocale(\"LC_TIME\")\n",
       "        if (old_lc_time != locale) {\n",
       "            on.exit(Sys.setlocale(\"LC_TIME\", old_lc_time))\n",
       "            Sys.setlocale(\"LC_TIME\", locale)\n",
       "        }\n",
       "    }\n",
       "    format(x, format = \"%A, %b %d, %Y\")\n",
       "}\n",
       "<environment: 0x000000003728c3d8>"
      ]
     },
     "metadata": {},
     "output_type": "display_data"
    }
   ],
   "source": [
    "# Create a stamp based on \"Saturday, Jan 1, 2000\"\n",
    "date_stamp <- stamp(\"Saturday, Jan 1, 2000\")\n",
    "\n",
    "# Print date_stamp\n",
    "date_stamp"
   ]
  },
  {
   "cell_type": "code",
   "execution_count": 184,
   "metadata": {},
   "outputs": [
    {
     "data": {
      "text/html": [
       "'Tuesday, Jul 14, 2020'"
      ],
      "text/latex": [
       "'Tuesday, Jul 14, 2020'"
      ],
      "text/markdown": [
       "'Tuesday, Jul 14, 2020'"
      ],
      "text/plain": [
       "[1] \"Tuesday, Jul 14, 2020\""
      ]
     },
     "metadata": {},
     "output_type": "display_data"
    }
   ],
   "source": [
    "# Call date_stamp on today()\n",
    "date_stamp(today())"
   ]
  },
  {
   "cell_type": "code",
   "execution_count": 185,
   "metadata": {},
   "outputs": [
    {
     "name": "stderr",
     "output_type": "stream",
     "text": [
      "Multiple formats matched: \"%Om/%d/%Y\"(1), \"%m/%d/%Y\"(1)\n",
      "Using: \"%Om/%d/%Y\"\n"
     ]
    },
    {
     "data": {
      "text/html": [
       "'07/14/2020'"
      ],
      "text/latex": [
       "'07/14/2020'"
      ],
      "text/markdown": [
       "'07/14/2020'"
      ],
      "text/plain": [
       "[1] \"07/14/2020\""
      ]
     },
     "metadata": {},
     "output_type": "display_data"
    }
   ],
   "source": [
    "# Create and call a stamp based on \"12/31/1999\"\n",
    "stamp(\"12/31/1999\")(today())"
   ]
  },
  {
   "cell_type": "code",
   "execution_count": 186,
   "metadata": {},
   "outputs": [],
   "source": [
    "finished = \"I finished 'Dates and Times in R' on Thursday, September 4, 2017!\""
   ]
  },
  {
   "cell_type": "code",
   "execution_count": 187,
   "metadata": {},
   "outputs": [
    {
     "name": "stderr",
     "output_type": "stream",
     "text": [
      "Multiple formats matched: \"I finished 'Dates and Times in R' on %A, %B %d, %Y!\"(1), \"I finished 'Dates and Times in R' on Thursday, September %Om, %Y!\"(1), \"I finished 'Dates and Times in R' on Thursday, %Om %d, %Y!\"(1), \"I finished 'Dates and Times in R' on Thursday, %B %d, %Y!\"(1), \"I finished 'Dates and Times in R' on Thursday, September %m, %Y!\"(1), \"I finished 'Dates and Times in R' on %A, September %Om, %Y!\"(0), \"I finished 'Dates and Times in R' on %A, %Om %d, %Y!\"(0), \"I finished 'Dates and Times in R' on %A, September %m, %Y!\"(0)\n",
      "Using: \"I finished 'Dates and Times in R' on %A, %B %d, %Y!\"\n"
     ]
    },
    {
     "data": {
      "text/html": [
       "'I finished \\'Dates and Times in R\\' on Tuesday, July 14, 2020!'"
      ],
      "text/latex": [
       "'I finished \\textbackslash{}'Dates and Times in R\\textbackslash{}' on Tuesday, July 14, 2020!'"
      ],
      "text/markdown": [
       "'I finished \\'Dates and Times in R\\' on Tuesday, July 14, 2020!'"
      ],
      "text/plain": [
       "[1] \"I finished 'Dates and Times in R' on Tuesday, July 14, 2020!\""
      ]
     },
     "metadata": {},
     "output_type": "display_data"
    }
   ],
   "source": [
    "# Use string finished for stamp()\n",
    "stamp(finished)(today())\n"
   ]
  },
  {
   "cell_type": "markdown",
   "metadata": {},
   "source": [
    "# Wrapping-up\n",
    "- Chapter 1: base R objects Date, POSIXct\n",
    "- Chapter 2: importing and manipulating datetimes\n",
    "- Chapter 3: arithmetic with datetimes, periods, durations andintervals\n",
    "- Chapter 4: time zones, fast parsing, outputting datetimes"
   ]
  },
  {
   "cell_type": "markdown",
   "metadata": {},
   "source": [
    "{{'source: [https://xkcd.com/1179](https://xkcd.com/1179)' | fndetail 1}}\n",
    "{{'Source: [Monarchs of England](https://en.wikipedia.org/wiki/List_of_monarchs_in_Britain_by_length_of_reign)' | fndetail 2}}\n",
    "{{'Source: [Halley's cometHalley'scomet:](https://en.wikipedia.org/wiki/Halley%27s_Comet#Apparitionshalleys#)' | fndetail 3}}"
   ]
  }
 ],
 "metadata": {
  "kernelspec": {
   "display_name": "R",
   "language": "R",
   "name": "ir"
  },
  "language_info": {
   "codemirror_mode": "r",
   "file_extension": ".r",
   "mimetype": "text/x-r-source",
   "name": "R",
   "pygments_lexer": "r",
   "version": "3.6.1"
  }
 },
 "nbformat": 4,
 "nbformat_minor": 4
}
