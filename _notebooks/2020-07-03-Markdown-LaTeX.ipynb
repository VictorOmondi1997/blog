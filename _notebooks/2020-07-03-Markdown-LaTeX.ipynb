{
  "nbformat": 4,
  "nbformat_minor": 0,
  "metadata": {
    "colab": {
      "name": "2020-07-03-Markdown_LaTeX_Medium.ipynb",
      "provenance": []
    },
    "kernelspec": {
      "name": "python3",
      "display_name": "Python 3"
    }
  },
  "cells": [
    {
      "cell_type": "markdown",
      "metadata": {
        "id": "y4diBHKAELsH",
        "colab_type": "text"
      },
      "source": [
        "# \"Write Markdown and LaTeX Math Equation in The Jupyter Notebook\"\n",
        "\n",
        "> How to write Markdown and Latex in Jupyter notebook [Read this article for more details.](https://towardsdatascience.com/write-markdown-latex-in-the-jupyter-notebook-10985edb91fd \"Medium\")\n",
        "\n",
        "- author: Victor Omondi\n",
        "- toc: true\n",
        "- comments: true\n",
        "- image: images/logo.png\n",
        "- categories: [latex, markdown]"
      ]
    },
    {
      "cell_type": "markdown",
      "metadata": {
        "id": "RMIcmfOxEr1I",
        "colab_type": "text"
      },
      "source": [
        "#Markdown\n"
      ]
    },
    {
      "cell_type": "markdown",
      "metadata": {
        "id": "q9AnessjErun",
        "colab_type": "text"
      },
      "source": [
        "## Headings\n",
        "\n",
        "``` python\n",
        "# Heading 1\n",
        "## Heading 2\n",
        "### Heading 3\n",
        "#### Heading 4\n",
        "##### Heading 5\n",
        "###### Heading 6\n",
        "```\n",
        "\n",
        "# Heading 1\n",
        "## Heading 2\n",
        "### Heading 3\n",
        "#### Heading 4\n",
        "##### Heading 5\n",
        "###### Heading 6"
      ]
    },
    {
      "cell_type": "markdown",
      "metadata": {
        "id": "Ti6TaA5lErsI",
        "colab_type": "text"
      },
      "source": [
        "## Paragraph\n",
        "\n",
        "```python\n",
        "This is a paragraph of text.   \n",
        "\n",
        "This is another paragraph of text.\n",
        "```\n",
        "\n",
        "This is a paragraph of text.   \n",
        "\n",
        "This is another paragraph of text."
      ]
    },
    {
      "cell_type": "markdown",
      "metadata": {
        "id": "QDvhBqZYErh5",
        "colab_type": "text"
      },
      "source": [
        "## Line breaks\n",
        "\n",
        "```python\n",
        "This is a text.     \n",
        "This is another text.\n",
        "```\n",
        "\n",
        "This is a text.     \n",
        "This is another text."
      ]
    },
    {
      "cell_type": "markdown",
      "metadata": {
        "id": "cJEt55GRErfd",
        "colab_type": "text"
      },
      "source": [
        "##Mark emphasis\n",
        "\n",
        "```python\n",
        "Emphasis, aka italics, with *asterisks* or _underscores_.\n",
        "\n",
        "Strong emphasis, aka bold, with **asterisks** or __underscores__.\n",
        "\n",
        "Combined emphasis with **asterisks and _underscores_**.\n",
        "\n",
        "Strikethrough uses two tildes ~ . ~~Scratch this.~~\n",
        "```\n",
        "\n",
        "Emphasis, aka italics, with *asterisks* or _underscores_.\n",
        "\n",
        "Strong emphasis, aka bold, with **asterisks** or __underscores__.\n",
        "\n",
        "Combined emphasis with **asterisks and _underscores_**.\n",
        "\n",
        "Strikethrough uses two tildes ~ . ~~Scratch this.~~"
      ]
    },
    {
      "cell_type": "markdown",
      "metadata": {
        "id": "8WHwnW5kEraB",
        "colab_type": "text"
      },
      "source": [
        "## Lists\n",
        "\n",
        "\n",
        "```\n",
        "1. Item 1\n",
        "2. Item 2 ( we can type 1. and the markdown will automatically numerate them) \n",
        "* First Item\n",
        "  * Nested item 1\n",
        "  * Nested item 2\n",
        "    1. Keep going\n",
        "    1. Yes\n",
        "  \n",
        "* Second Item\n",
        "- First Item\n",
        "- Second Item\n",
        "```\n",
        "\n",
        "1. Item 1\n",
        "2. Item 2 ( we can type 1. and the markdown will automatically numerate them) \n",
        "* First Item\n",
        "  * Nested item 1\n",
        "  * Nested item 2\n",
        "    1. Keep going\n",
        "    1. Yes\n",
        "  \n",
        "* Second Item\n",
        "- First Item\n",
        "- Second Item"
      ]
    },
    {
      "cell_type": "markdown",
      "metadata": {
        "id": "vwNK8mMSGfYZ",
        "colab_type": "text"
      },
      "source": [
        "## Links and Images\n",
        "\n",
        "```\n",
        "<!-- [Text](link) -->\n",
        "[Link Text](https://medium.com/@ahmedazizkhelifi \"Optional Title\")\n",
        "<!-- ![Alt Text](image path \"title\") -->\n",
        "![Alt Text](https://miro.medium.com/max/80/0*PRNVc7bjff0Jj1pm.png \"Optional Title\")\n",
        "<!-- [![Alt Text](image path \"title\")](link) -->\n",
        "[![Alt Text](https://miro.medium.com/max/80/0*PRNVc7bjff0Jj1pm.png \"Optional Title\")](https://medium.com/@ahmedazizkhelifi)\n",
        "```\n",
        "\n",
        "<!-- [Text](link) -->\n",
        "[Link Text](https://medium.com/@ahmedazizkhelifi \"Optional Title\")\n",
        "<!-- ![Alt Text](image path \"title\") -->\n",
        "![Alt Text](https://miro.medium.com/max/80/0*PRNVc7bjff0Jj1pm.png \"Optional Title\")\n",
        "<!-- [![Alt Text](image path \"title\")](link) -->\n",
        "[![Alt Text](https://miro.medium.com/max/80/0*PRNVc7bjff0Jj1pm.png \"Optional Title\")](https://medium.com/@ahmedazizkhelifi)"
      ]
    },
    {
      "cell_type": "markdown",
      "metadata": {
        "id": "dJ5GQ3YCGfQH",
        "colab_type": "text"
      },
      "source": [
        "## Horizontal Rule\n",
        "\n",
        "```\n",
        "Reading articles on Medium is awesome.\n",
        "\n",
        "---\n",
        "Sure !!\n",
        "```\n",
        "\n",
        "Reading articles on Medium is awesome.\n",
        "\n",
        "---\n",
        "Sure !!"
      ]
    },
    {
      "cell_type": "markdown",
      "metadata": {
        "id": "wDS958ruGfDl",
        "colab_type": "text"
      },
      "source": [
        "## Table\n",
        "\n",
        "```\n",
        "| Id | Label    | Price |\n",
        "|--- |----------| ------|\n",
        "| 01 | Markdown | \\$1600 |\n",
        "| 02 | is       |   \\$12 |\n",
        "| 03 | AWESOME  |  \\$999 |\n",
        "```\n",
        "\n",
        "| Id | Label    | Price |\n",
        "|--- |----------| ------|\n",
        "| 01 | Markdown | \\$1600 |\n",
        "| 02 | is       |   \\$12 |\n",
        "| 03 | AWESOME  |  \\$999 |"
      ]
    },
    {
      "cell_type": "markdown",
      "metadata": {
        "id": "MQrtBJ3KH1Nj",
        "colab_type": "text"
      },
      "source": [
        "## Code and Syntax Highlighting\n",
        "\n",
        "```\n",
        "```python\n",
        "def staySafe(Coronavirus)\n",
        "  if not home:\n",
        "    return home```\n",
        "```\n",
        "\n",
        "```python\n",
        "def staySafe(Coronavirus)\n",
        "  if not home:\n",
        "    return home\n",
        "```\n"
      ]
    },
    {
      "cell_type": "markdown",
      "metadata": {
        "id": "52zLR8keH1A4",
        "colab_type": "text"
      },
      "source": [
        "## Blockquotes\n",
        "\n",
        "```\n",
        "> This is a blockquote.\n",
        ">  \n",
        "> This is part of the same blockquote.\n",
        "\n",
        "Quote break\n",
        "> This is a new blockquote.\n",
        "```\n",
        "\n",
        "> This is a blockquote.\n",
        ">  \n",
        "> This is part of the same blockquote.\n",
        "\n",
        "Quote break\n",
        "> This is a new blockquote."
      ]
    },
    {
      "cell_type": "markdown",
      "metadata": {
        "id": "Frvm0wDOE4vh",
        "colab_type": "text"
      },
      "source": [
        "# LaTeX"
      ]
    },
    {
      "cell_type": "markdown",
      "metadata": {
        "id": "fiZwHP0czJyT",
        "colab_type": "text"
      },
      "source": [
        "To insert a mathematical formula we use the dollar symbol `$`, as follows:\n",
        "\n",
        "```\n",
        "Euler's identity: $ e^{i \\pi} + 1 = 0 $\n",
        "\n",
        "To isolate and center the formulas and enter in math display mode, we use 2 dollars symbol:\n",
        "$$\n",
        "...\n",
        "$$\n",
        "\n",
        "\n",
        "Euler's identity: $$ e^{i \\pi} + 1 = 0 $$\n",
        "```\n",
        "\n",
        "Euler's identity: $ e^{i \\pi} + 1 = 0 $\n",
        "\n",
        "To isolate and center the formulas and enter in math display mode, we use 2 dollars symbol:\n",
        "$$\n",
        "...\n",
        "$$\n",
        "\n",
        "\n",
        "Euler's identity: $$ e^{i \\pi} + 1 = 0 $$\n"
      ]
    },
    {
      "cell_type": "markdown",
      "metadata": {
        "id": "1v3l2nNmNN7_",
        "colab_type": "text"
      },
      "source": [
        "## Important Note\n",
        "```\n",
        "$$\n",
        "\\frac{arg 1}{arg 2} \\\\\n",
        "x^2\\\\\n",
        "e^{i\\pi}\\\\\n",
        "A_i\\\\\n",
        "B_{ij}\\\\\n",
        "\\sqrt[n]{arg}\t\n",
        "$$\n",
        "```\n",
        "\n",
        "$$\n",
        "\\frac{arg 1}{arg 2} \\\\\n",
        "x^2\\\\\n",
        "e^{i\\pi}\\\\\n",
        "A_i\\\\\n",
        "B_{ij}\\\\\n",
        "\\sqrt[n]{arg}\t\n",
        "$$"
      ]
    },
    {
      "cell_type": "markdown",
      "metadata": {
        "id": "NsUJ1M1aE9X1",
        "colab_type": "text"
      },
      "source": [
        "## Greek Letters:"
      ]
    },
    {
      "cell_type": "markdown",
      "metadata": {
        "id": "go3imAWqE9au",
        "colab_type": "text"
      },
      "source": [
        "```\n",
        "Given : $\\pi = 3.14$ , $\\alpha = \\frac{3\\pi}{4}\\, rad$\n",
        "$$\n",
        "\\omega = 2\\pi f \\\\\n",
        "f = \\frac{c}{\\lambda}\\\\\n",
        "\\lambda_0=\\theta^2+\\delta\\\\\n",
        "\\Delta\\lambda = \\frac{1}{\\lambda^2}\n",
        "$$\n",
        "```\n",
        "\n",
        "Given : $\\pi = 3.14$ , $\\alpha = \\frac{3\\pi}{4}\\, rad$\n",
        "$$\n",
        "\\omega = 2\\pi f \\\\\n",
        "f = \\frac{c}{\\lambda}\\\\\n",
        "\\lambda_0=\\theta^2+\\delta\\\\\n",
        "\\Delta\\lambda = \\frac{1}{\\lambda^2}\n",
        "$$"
      ]
    },
    {
      "cell_type": "markdown",
      "metadata": {
        "id": "VFaCoSXvS-_H",
        "colab_type": "text"
      },
      "source": [
        "### Important Note:\n",
        "\n",
        "```\n",
        "|Uppercase| LaTeX |Lowercase| LaTeX | \n",
        "|---------|-------|---------|-------|\n",
        "|$\\Delta$ |\\\\Delta|$\\delta$ |\\\\delta|\n",
        "|$\\Omega$ |\\\\Omega|$\\omega$ |\\\\omega|\n",
        "```\n",
        "\n",
        "|Uppercase| LaTeX |Lowercase| LaTeX | \n",
        "|---------|-------|---------|-------|\n",
        "|$\\Delta$ |\\\\Delta|$\\delta$ |\\\\delta|\n",
        "|$\\Omega$ |\\\\Omega|$\\omega$ |\\\\omega|"
      ]
    },
    {
      "cell_type": "markdown",
      "metadata": {
        "id": "3aD-y9kO523a",
        "colab_type": "text"
      },
      "source": [
        "# Roman Names:\n",
        "\n",
        "```\n",
        "$$\n",
        "\\sin(-\\alpha)=-\\sin(\\alpha)\\\\\n",
        "\\arccos(x)=\\arcsin(u)\\\\\n",
        "\\log_n(n)=1\\\\\n",
        "\\tan(x) = \\frac{\\sin(x)}{\\cos(x)}\n",
        "$$\n",
        "```\n",
        "\n",
        "$$\n",
        "\\sin(-\\alpha)=-\\sin(\\alpha)\\\\\n",
        "\\arccos(x)=\\arcsin(u)\\\\\n",
        "\\log_n(n)=1\\\\\n",
        "\\tan(x) = \\frac{\\sin(x)}{\\cos(x)}\n",
        "$$"
      ]
    },
    {
      "cell_type": "markdown",
      "metadata": {
        "id": "-888LBso8HS1",
        "colab_type": "text"
      },
      "source": [
        "# Other Symbols\n",
        "## Angles:\n",
        "\n",
        "```\n",
        "Left angle : $\\langle$\n",
        "\n",
        "Right angle : $\\rangle$\n",
        "\n",
        "Angle between two vectors u and v\t: $\\langle \\vec{u},\\vec{v}\\rangle$\t\n",
        "\n",
        "$$ \\vec{AB} \\, \\cdot \\, \\vec{CD} =0  \\Rightarrow  \\vec{AB} \\, \\perp\\, \\vec{CD}$$\n",
        "\n",
        "##Sets and logic\n",
        "$$\\mathbb{N} \\subset \\mathbb{Z} \\subset \\mathbb{D} \\subset \\mathbb{Q} \\subset \\mathbb{R} \\subset \\mathbb{C}$$\n",
        "```\n",
        "\n",
        "Left angle : $\\langle$\n",
        "\n",
        "Right angle : $\\rangle$\n",
        "\n",
        "Angle between two vectors u and v\t: $\\langle \\vec{u},\\vec{v}\\rangle$\t\n",
        "\n",
        "$$ \\vec{AB} \\, \\cdot \\, \\vec{CD} =0  \\Rightarrow  \\vec{AB} \\, \\perp\\, \\vec{CD}$$\n",
        "\n",
        "##Sets and logic\n",
        "$$\\mathbb{N} \\subset \\mathbb{Z} \\subset \\mathbb{D} \\subset \\mathbb{Q} \\subset \\mathbb{R} \\subset \\mathbb{C}$$"
      ]
    },
    {
      "cell_type": "markdown",
      "metadata": {
        "id": "XPXiLu3IE9gO",
        "colab_type": "text"
      },
      "source": [
        "# Vertical curly braces: \n",
        "\n",
        "```\n",
        "$$\n",
        "sign(x) = \\left\\{\n",
        "    \\begin{array}\\\\\n",
        "        1 & \\mbox{if } \\ x \\in \\mathbf{N}^* \\\\\n",
        "        0 & \\mbox{if } \\ x = 0 \\\\\n",
        "        -1 & \\mbox{else.}\n",
        "    \\end{array}\n",
        "\\right.\n",
        "$$\n",
        "\n",
        "\\\\\n",
        "\n",
        "$$\n",
        " \\left.\n",
        "    \\begin{array} \\\\\n",
        "        \\alpha^2 = \\sqrt5 \\\\\n",
        "        \\alpha \\geq 0 \n",
        "    \\end{array}\n",
        "\\right \\} \\alpha = 5 \n",
        "$$\n",
        "```\n",
        "\n",
        "$$\n",
        "sign(x) = \\left\\{\n",
        "    \\begin{array}\\\\\n",
        "        1 & \\mbox{if } \\ x \\in \\mathbf{N}^* \\\\\n",
        "        0 & \\mbox{if } \\ x = 0 \\\\\n",
        "        -1 & \\mbox{else.}\n",
        "    \\end{array}\n",
        "\\right.\n",
        "$$\n",
        "\n",
        "\\\\\n",
        "\n",
        "$$\n",
        " \\left.\n",
        "    \\begin{array} \\\\\n",
        "        \\alpha^2 = \\sqrt5 \\\\\n",
        "        \\alpha \\geq 0 \n",
        "    \\end{array}\n",
        "\\right \\} \\alpha = 5 \n",
        "$$"
      ]
    },
    {
      "cell_type": "markdown",
      "metadata": {
        "id": "xzu2CyGLE9iy",
        "colab_type": "text"
      },
      "source": [
        "# Horizontal curly braces `$\\underbrace{}$`\n",
        "\n",
        "# Horizontal curly braces $\\underbrace{}$\n",
        "\n",
        "```\n",
        "$$\n",
        "\\underbrace{\\ln \\left( \\frac{5}{6} \\right)}_{\\simeq -0.1823}\n",
        "< \\overbrace{\\exp (2)}^{\\simeq 7.3890}\n",
        "$$\n",
        "```"
      ]
    },
    {
      "cell_type": "markdown",
      "metadata": {
        "id": "S06VqebHE9mE",
        "colab_type": "text"
      },
      "source": [
        "#Derivate \n",
        "\n",
        "```\n",
        "First order derivative : $$f'(x)$$ \n",
        "K-th order derivative  : $$f^{(k)}(x)$$\n",
        "Partial firt order derivative\t: $$\\frac{\\partial f}{\\partial x}$$\n",
        "Partial k-th order derivative\t: $$\\frac{\\partial^{k} f}{\\partial x^k}$$\n",
        "```\n",
        "\n",
        "First order derivative : $$f'(x)$$ \n",
        "K-th order derivative  : $$f^{(k)}(x)$$\n",
        "Partial firt order derivative\t: $$\\frac{\\partial f}{\\partial x}$$\n",
        "Partial k-th order derivative\t: $$\\frac{\\partial^{k} f}{\\partial x^k}$$\n",
        "\n"
      ]
    },
    {
      "cell_type": "markdown",
      "metadata": {
        "id": "9eGgqyQ4E9oC",
        "colab_type": "text"
      },
      "source": [
        "# Limit `$\\lim$`\n",
        "\n",
        "#Limit $\\lim$\n",
        "\n",
        "```\n",
        "Limit at plus infinity\t: $$\\lim_{x \\to +\\infty} f(x)$$ \n",
        "Limit at minus infinity\t: $$\\lim_{x \\to -\\infty} f(x)$$\t\n",
        "Limit at $\\alpha$  : $$\\lim_{x \\to \\alpha} f(x)$$\n",
        "\n",
        "Max : $$\\max_{x \\in [a,b]}f(x)$$\t\n",
        "Min : $$\\min_{x \\in [\\alpha,\\beta]}f(x)$$\t\n",
        "Sup : $$\\sup_{x \\in \\mathbb{R}}f(x)$$\t\n",
        "Inf : $$\\inf_{x > s}f(x)$$\n",
        "```\n",
        "\n",
        "Limit at plus infinity\t: $$\\lim_{x \\to +\\infty} f(x)$$ \n",
        "Limit at minus infinity\t: $$\\lim_{x \\to -\\infty} f(x)$$\t\n",
        "Limit at $\\alpha$  : $$\\lim_{x \\to \\alpha} f(x)$$\n",
        "\n",
        "Max : $$\\max_{x \\in [a,b]}f(x)$$\t\n",
        "Min : $$\\min_{x \\in [\\alpha,\\beta]}f(x)$$\t\n",
        "Sup : $$\\sup_{x \\in \\mathbb{R}}f(x)$$\t\n",
        "Inf : $$\\inf_{x > s}f(x)$$\t\n",
        "\n"
      ]
    },
    {
      "cell_type": "markdown",
      "metadata": {
        "id": "m6Q0JcCYE9qm",
        "colab_type": "text"
      },
      "source": [
        "# Sum `$\\sum$`\n",
        "\n",
        "#Sum $\\sum$\n",
        "\n",
        "```\n",
        "Sum from 0 to +inf:\n",
        "\n",
        "$$\\sum_{j=0}^{+\\infty} A_{j}$$\n",
        "\n",
        "Double sum:\n",
        "$$\\sum^k_{i=1}\\sum^{l+1}_{j=1}\\,A_i A_j$$\t\n",
        "\n",
        "\n",
        "Taylor expansion of $e^x$:\n",
        "$$ e^x  = \\sum_{k=0}^{n}\\, \\frac{x^k}{k!} + o(x^n) $$ \n",
        "```\n",
        "\n",
        "Sum from 0 to +inf:\n",
        "\n",
        "$$\\sum_{j=0}^{+\\infty} A_{j}$$\n",
        "\n",
        "Double sum:\n",
        "$$\\sum^k_{i=1}\\sum^{l+1}_{j=1}\\,A_i A_j$$\t\n",
        "\n",
        "\n",
        "Taylor expansion of $e^x$:\n",
        "$$ e^x  = \\sum_{k=0}^{n}\\, \\frac{x^k}{k!} + o(x^n) $$\n",
        "\n"
      ]
    },
    {
      "cell_type": "markdown",
      "metadata": {
        "id": "twn8CTHSE9tH",
        "colab_type": "text"
      },
      "source": [
        "# Product `$\\prod$`\n",
        "\n",
        "#Product $\\prod$\n",
        "\n",
        "```\n",
        "Product:\n",
        "$$\\prod_{j=1}^k A_{\\alpha_j}$$\n",
        "Double product:\n",
        "$$\\prod^k_{i=1}\\prod^l_{j=1}\\,A_i A_j$$\t\n",
        "```\n",
        "\n",
        "Product:\n",
        "$$\\prod_{j=1}^k A_{\\alpha_j}$$\n",
        "Double product:\n",
        "$$\\prod^k_{i=1}\\prod^l_{j=1}\\,A_i A_j$$"
      ]
    },
    {
      "cell_type": "markdown",
      "metadata": {
        "id": "aYWkttHLE9vs",
        "colab_type": "text"
      },
      "source": [
        "# Integral : `$\\int$`\n",
        "\n",
        "# Integral : $\\int$\n",
        "\n",
        "```\n",
        "Simple integral:\n",
        "$$\\int_{a}^b f(x)dx$$\n",
        "\n",
        "Double integral:\n",
        "$$\\int_{a}^b\\int_{c}^d f(x,y)\\,dxdy$$\t\n",
        "\n",
        "Triple integral:\n",
        "$$\\iiint$$\t\n",
        "\n",
        "Quadruple integral:\n",
        "$$\\iiiint$$\t\n",
        "\n",
        "Multiple integral :\n",
        "$$\\idotsint$$\n",
        "\n",
        "Contour integral:\n",
        "$$\\oint$$\t\n",
        "```\n",
        "\n",
        "Simple integral:\n",
        "$$\\int_{a}^b f(x)dx$$\n",
        "\n",
        "Double integral:\n",
        "$$\\int_{a}^b\\int_{c}^d f(x,y)\\,dxdy$$\t\n",
        "\n",
        "Triple integral:\n",
        "$$\\iiint$$\t\n",
        "\n",
        "Quadruple integral:\n",
        "$$\\iiiint$$\t\n",
        "\n",
        "Multiple integral :\n",
        "$$\\idotsint$$\n",
        "\n",
        "Contour integral:\n",
        "$$\\oint$$\t\n",
        "\n",
        "\n",
        "\n"
      ]
    },
    {
      "cell_type": "markdown",
      "metadata": {
        "id": "z3qGgxul048v",
        "colab_type": "text"
      },
      "source": [
        "# Matrix \n",
        "\n",
        "```\n",
        "Plain:\n",
        "\n",
        "\\begin{matrix}\n",
        "1 & 2 & 3\\\\\n",
        "a & b & c\n",
        "\\end{matrix}\n",
        "\n",
        "Round brackets:\n",
        "\\begin{pmatrix}\n",
        "1 & 2 & 3\\\\\n",
        "a & b & c\n",
        "\\end{pmatrix}\n",
        "\n",
        "Curly brackets:\n",
        "\\begin{Bmatrix}\n",
        "1 & 2 & 3\\\\\n",
        "a & b & c\n",
        "\\end{Bmatrix}\t\n",
        "\n",
        "Pipes:\n",
        "\\begin{vmatrix}\n",
        "1 & 2 & 3\\\\\n",
        "a & b & c\n",
        "\\end{vmatrix}\n",
        "\n",
        "Double pipes\n",
        "\\begin{Vmatrix}\n",
        "1 & 2 & 3\\\\\n",
        "a & b & c\n",
        "\\end{Vmatrix}\n",
        "```\n",
        "\n",
        "Plain:\n",
        "\n",
        "\\begin{matrix}\n",
        "1 & 2 & 3\\\\\n",
        "a & b & c\n",
        "\\end{matrix}\n",
        "\n",
        "Round brackets:\n",
        "\\begin{pmatrix}\n",
        "1 & 2 & 3\\\\\n",
        "a & b & c\n",
        "\\end{pmatrix}\n",
        "\n",
        "Curly brackets:\n",
        "\\begin{Bmatrix}\n",
        "1 & 2 & 3\\\\\n",
        "a & b & c\n",
        "\\end{Bmatrix}\t\n",
        "\n",
        "Pipes:\n",
        "\\begin{vmatrix}\n",
        "1 & 2 & 3\\\\\n",
        "a & b & c\n",
        "\\end{vmatrix}"
      ]
    }
  ]
}