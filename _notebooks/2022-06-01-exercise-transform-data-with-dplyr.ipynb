{
  "cells": [
    {
      "cell_type": "markdown",
      "source": [
        "# Transform data by using dplyr \n",
        "> Some key things of tranforming data using dplr and tidyverse library\n",
        "\n",
        "-author:Victor Omondi\n",
        "-toc:True\n",
        "-badges:True\n",
        "-comments:True\n",
        "\n",
        "## Explore data by using R\n",
        "\n",
        "As a data scientist, your role is principally to explore, analyze, and visualize data. There's a wide range of tools and programming languages that you can use to do this. One of the most popular approaches is to use Jupyter notebooks, like this one, and the R language.\n",
        "\n",
        "R is a flexible, intuitive, and elegant programming language that's used in a wide range of industries, from banking to insurance, pharmaceutical, genetics, telecommunications, marketing, and healthcare. We think R is a great place to start your data-science adventure for the following reasons:\n",
        "\n",
        "- It's natively designed to support data science.\n",
        "\n",
        "- The diverse and welcoming R community. Just to name a few: [R-Ladies](http://r-ladies.org/), [Minority in R](https://medium.com/@doritolay/introducing-mir-a-community-for-underrepresented-users-of-r-7560def7d861), and [the \\#rstats twitter community](https://twitter.com/search?q=%23rstats).\n",
        "\n",
        "- R has a massive set of packages for data wrangling, statistical modeling, and machine learning. If you get stuck on a problem, there's a high likelihood that someone has already resolved it and you can learn from or build on their work.\n",
        "\n",
        "In this notebook, you'll explore some of these packages and apply basic techniques to analyze data. This exercise isn't intended to be a comprehensive R programming exercise or even a deep dive into data analysis. Rather, it's intended as a crash course in some of the common ways in which data scientists use R to work with data.\n",
        "\n",
        "> **Note**:\n",
        "> If you've never used the Jupyter notebooks environment before, here are a few things you should be aware of:\n",
        ">\n",
        "> - Notebooks are made up of *cells*. Some cells, such as this one, contain *Markdown* text, and others, such as the next one, contain code.\n",
        "> - You can run each code cell by using the **Run** button. The **Run** button is displayed when you hover over the cell.\n",
        "> - The output from each code cell is displayed immediately below the cell.\n",
        "> - Even though the code cells can be run individually, some variables that are used in the code are global to the notebook. This means that you should run all of the code cells *in order*. There might be dependencies between code cells, so if you skip a cell, subsequent cells might not run correctly.\n",
        "\n",
        "### Tibbles\n",
        "\n",
        "Tibbles, or data frames, are both one of the most important concepts in R and one of the most common and useful storage structures for data analysis in R. As such, it's a good idea to start with learning and working with tibbles, because it immediately pays off in both data transformation and visualization. \n",
        "\n",
        "You'll work through other data structures in R as you progress through the course.\n",
        "\n",
        "Tibbles are provided by the tibble package, which is part of the core tidyverse. So, let's take a trip into the tidyverse!\n"
      ],
      "metadata": {}
    },
    {
      "cell_type": "code",
      "source": [
        "# Load the packages in the tidyverse into the current R session\n",
        "library (tidyverse)\n"
      ],
      "outputs": [
        {
          "output_type": "stream",
          "name": "stderr",
          "text": "── \u001b[1mAttaching packages\u001b[22m ─────────────────────────────────────── tidyverse 1.3.1 ──\n\n\u001b[32m✔\u001b[39m \u001b[34mggplot2\u001b[39m 3.3.5     \u001b[32m✔\u001b[39m \u001b[34mpurrr  \u001b[39m 0.3.4\n\u001b[32m✔\u001b[39m \u001b[34mtibble \u001b[39m 3.1.6     \u001b[32m✔\u001b[39m \u001b[34mdplyr  \u001b[39m 1.0.8\n\u001b[32m✔\u001b[39m \u001b[34mtidyr  \u001b[39m 1.2.0     \u001b[32m✔\u001b[39m \u001b[34mstringr\u001b[39m 1.4.0\n\u001b[32m✔\u001b[39m \u001b[34mreadr  \u001b[39m 2.1.2     \u001b[32m✔\u001b[39m \u001b[34mforcats\u001b[39m 0.5.1\n\n── \u001b[1mConflicts\u001b[22m ────────────────────────────────────────── tidyverse_conflicts() ──\n\u001b[31m✖\u001b[39m \u001b[34mdplyr\u001b[39m::\u001b[32mfilter()\u001b[39m masks \u001b[34mstats\u001b[39m::filter()\n\u001b[31m✖\u001b[39m \u001b[34mdplyr\u001b[39m::\u001b[32mlag()\u001b[39m    masks \u001b[34mstats\u001b[39m::lag()\n\n"
        }
      ],
      "execution_count": 1,
      "metadata": {}
    },
    {
      "cell_type": "markdown",
      "source": [
        "From the startup message, you can see that you've loaded or attached a bunch of packages with the tibble included. The message also shows *Conflicts*, which are functions from the tidyverse that conflict with other functions in base R or other packages you might have loaded. Don't worry about these for now.\n",
        "\n",
        "Good job! This means that you can now create your first tibble of student data by using `tibble()`, as shown in the following code:\n"
      ],
      "metadata": {}
    },
    {
      "cell_type": "code",
      "source": [
        "# Build a tibble of student data\n",
        "df_students <- tibble(\n",
        "  \n",
        "  # Student names\n",
        "  name = c('Dan', 'Joann', 'Pedro', 'Rosie', 'Ethan', 'Vicky',\n",
        "           'Frederic', 'Jimmie', 'Rhonda', 'Giovanni',\n",
        "           'Francesca', 'Rajab', 'Naiyana', 'Kian', 'Jenny',\n",
        "           'Jakeem','Helena','Ismat','Anila','Skye','Daniel',\n",
        "           'Aisha'),\n",
        "  \n",
        "  # Study hours\n",
        "  study_hours = c(10.0, 11.5, 9.0, 16.0, 9.25, 1.0, 11.5, 9.0,\n",
        "                 8.5, 14.5, 15.5, 13.75, 9.0, 8.0, 15.5, 8.0,\n",
        "                 9.0, 6.0, 10.0, 12.0, 12.5, 12.0),\n",
        "  \n",
        "  # Grades\n",
        "  grade = c(50, 50, 47, 97, 49, 3, 53, 42, 26,\n",
        "             74, 82, 62, 37, 15, 70, 27, 36, 35,\n",
        "             48, 52, 63, 64)\n",
        ")\n",
        "\n",
        "# Print the tibble\n",
        "df_students\n"
      ],
      "outputs": [
        {
          "output_type": "display_data",
          "data": {
            "text/html": "<table class=\"dataframe\">\n<caption>A tibble: 22 × 3</caption>\n<thead>\n\t<tr><th scope=col>name</th><th scope=col>study_hours</th><th scope=col>grade</th></tr>\n\t<tr><th scope=col>&lt;chr&gt;</th><th scope=col>&lt;dbl&gt;</th><th scope=col>&lt;dbl&gt;</th></tr>\n</thead>\n<tbody>\n\t<tr><td>Dan      </td><td>10.00</td><td>50</td></tr>\n\t<tr><td>Joann    </td><td>11.50</td><td>50</td></tr>\n\t<tr><td>Pedro    </td><td> 9.00</td><td>47</td></tr>\n\t<tr><td>Rosie    </td><td>16.00</td><td>97</td></tr>\n\t<tr><td>Ethan    </td><td> 9.25</td><td>49</td></tr>\n\t<tr><td>Vicky    </td><td> 1.00</td><td> 3</td></tr>\n\t<tr><td>Frederic </td><td>11.50</td><td>53</td></tr>\n\t<tr><td>Jimmie   </td><td> 9.00</td><td>42</td></tr>\n\t<tr><td>Rhonda   </td><td> 8.50</td><td>26</td></tr>\n\t<tr><td>Giovanni </td><td>14.50</td><td>74</td></tr>\n\t<tr><td>Francesca</td><td>15.50</td><td>82</td></tr>\n\t<tr><td>Rajab    </td><td>13.75</td><td>62</td></tr>\n\t<tr><td>Naiyana  </td><td> 9.00</td><td>37</td></tr>\n\t<tr><td>Kian     </td><td> 8.00</td><td>15</td></tr>\n\t<tr><td>Jenny    </td><td>15.50</td><td>70</td></tr>\n\t<tr><td>Jakeem   </td><td> 8.00</td><td>27</td></tr>\n\t<tr><td>Helena   </td><td> 9.00</td><td>36</td></tr>\n\t<tr><td>Ismat    </td><td> 6.00</td><td>35</td></tr>\n\t<tr><td>Anila    </td><td>10.00</td><td>48</td></tr>\n\t<tr><td>Skye     </td><td>12.00</td><td>52</td></tr>\n\t<tr><td>Daniel   </td><td>12.50</td><td>63</td></tr>\n\t<tr><td>Aisha    </td><td>12.00</td><td>64</td></tr>\n</tbody>\n</table>\n",
            "text/markdown": "\nA tibble: 22 × 3\n\n| name &lt;chr&gt; | study_hours &lt;dbl&gt; | grade &lt;dbl&gt; |\n|---|---|---|\n| Dan       | 10.00 | 50 |\n| Joann     | 11.50 | 50 |\n| Pedro     |  9.00 | 47 |\n| Rosie     | 16.00 | 97 |\n| Ethan     |  9.25 | 49 |\n| Vicky     |  1.00 |  3 |\n| Frederic  | 11.50 | 53 |\n| Jimmie    |  9.00 | 42 |\n| Rhonda    |  8.50 | 26 |\n| Giovanni  | 14.50 | 74 |\n| Francesca | 15.50 | 82 |\n| Rajab     | 13.75 | 62 |\n| Naiyana   |  9.00 | 37 |\n| Kian      |  8.00 | 15 |\n| Jenny     | 15.50 | 70 |\n| Jakeem    |  8.00 | 27 |\n| Helena    |  9.00 | 36 |\n| Ismat     |  6.00 | 35 |\n| Anila     | 10.00 | 48 |\n| Skye      | 12.00 | 52 |\n| Daniel    | 12.50 | 63 |\n| Aisha     | 12.00 | 64 |\n\n",
            "text/latex": "A tibble: 22 × 3\n\\begin{tabular}{lll}\n name & study\\_hours & grade\\\\\n <chr> & <dbl> & <dbl>\\\\\n\\hline\n\t Dan       & 10.00 & 50\\\\\n\t Joann     & 11.50 & 50\\\\\n\t Pedro     &  9.00 & 47\\\\\n\t Rosie     & 16.00 & 97\\\\\n\t Ethan     &  9.25 & 49\\\\\n\t Vicky     &  1.00 &  3\\\\\n\t Frederic  & 11.50 & 53\\\\\n\t Jimmie    &  9.00 & 42\\\\\n\t Rhonda    &  8.50 & 26\\\\\n\t Giovanni  & 14.50 & 74\\\\\n\t Francesca & 15.50 & 82\\\\\n\t Rajab     & 13.75 & 62\\\\\n\t Naiyana   &  9.00 & 37\\\\\n\t Kian      &  8.00 & 15\\\\\n\t Jenny     & 15.50 & 70\\\\\n\t Jakeem    &  8.00 & 27\\\\\n\t Helena    &  9.00 & 36\\\\\n\t Ismat     &  6.00 & 35\\\\\n\t Anila     & 10.00 & 48\\\\\n\t Skye      & 12.00 & 52\\\\\n\t Daniel    & 12.50 & 63\\\\\n\t Aisha     & 12.00 & 64\\\\\n\\end{tabular}\n",
            "text/plain": "   name      study_hours grade\n1  Dan       10.00       50   \n2  Joann     11.50       50   \n3  Pedro      9.00       47   \n4  Rosie     16.00       97   \n5  Ethan      9.25       49   \n6  Vicky      1.00        3   \n7  Frederic  11.50       53   \n8  Jimmie     9.00       42   \n9  Rhonda     8.50       26   \n10 Giovanni  14.50       74   \n11 Francesca 15.50       82   \n12 Rajab     13.75       62   \n13 Naiyana    9.00       37   \n14 Kian       8.00       15   \n15 Jenny     15.50       70   \n16 Jakeem     8.00       27   \n17 Helena     9.00       36   \n18 Ismat      6.00       35   \n19 Anila     10.00       48   \n20 Skye      12.00       52   \n21 Daniel    12.50       63   \n22 Aisha     12.00       64   "
          },
          "metadata": {}
        }
      ],
      "execution_count": 2,
      "metadata": {}
    },
    {
      "cell_type": "markdown",
      "source": [
        "Yes! There goes your first tibble. You might have noticed that you created the tibble from individual elements: `name`, `study_hours`, and `grade`. These elements are called `vectors`, and you create them by using `c()`, which is short for `combine`. The length of each vector in a tibble must be the same, a property that gives tibbles their rectangular structure.\n",
        "\n",
        "You might also have noticed other abbreviations below the column names. These abbreviations describe the type of column, for example:\n",
        "\n",
        "-   `chr` stands for character vectors, or strings.\n",
        "\n",
        "-   `dbl` stands for doubles, or real numbers that might have a floating point standard.\n",
        "\n",
        "You'll encounter more abbreviations as you progress through this adventure.\n",
        "\n",
        "### Load a data frame from a file\n",
        "\n",
        "We constructed a data frame from some existing vectors, which we typed by hand. However, typing them manually could invite typos and other errors. In many real-world scenarios, data is loaded from sources such as files. You can then ask R to read the file and store the contents as an object.\n",
        "\n",
        "Let's replace the data frame of student grades with the contents of a CSV file.\n"
      ],
      "metadata": {}
    },
    {
      "cell_type": "code",
      "source": [
        "# Read a CSV file into a tibble\n",
        "students <- read_csv(file = \"https://raw.githubusercontent.com/MicrosoftDocs/ml-basics/master/data/grades.csv\")\n",
        "\n",
        "# Print the first 10 rows of the data\n",
        "slice_head(students, n = 10)\n"
      ],
      "outputs": [
        {
          "output_type": "stream",
          "name": "stderr",
          "text": "\u001b[1mRows: \u001b[22m\u001b[34m24\u001b[39m \u001b[1mColumns: \u001b[22m\u001b[34m3\u001b[39m\n\u001b[36m──\u001b[39m \u001b[1mColumn specification\u001b[22m \u001b[36m────────────────────────────────────────────────────────\u001b[39m\n\u001b[1mDelimiter:\u001b[22m \",\"\n\u001b[31mchr\u001b[39m (1): Name\n\u001b[32mdbl\u001b[39m (2): StudyHours, Grade\n\n\u001b[36mℹ\u001b[39m Use `spec()` to retrieve the full column specification for this data.\n\u001b[36mℹ\u001b[39m Specify the column types or set `show_col_types = FALSE` to quiet this message.\n"
        },
        {
          "output_type": "display_data",
          "data": {
            "text/html": "<table class=\"dataframe\">\n<caption>A spec_tbl_df: 10 × 3</caption>\n<thead>\n\t<tr><th scope=col>Name</th><th scope=col>StudyHours</th><th scope=col>Grade</th></tr>\n\t<tr><th scope=col>&lt;chr&gt;</th><th scope=col>&lt;dbl&gt;</th><th scope=col>&lt;dbl&gt;</th></tr>\n</thead>\n<tbody>\n\t<tr><td>Dan     </td><td>10.00</td><td>50</td></tr>\n\t<tr><td>Joann   </td><td>11.50</td><td>50</td></tr>\n\t<tr><td>Pedro   </td><td> 9.00</td><td>47</td></tr>\n\t<tr><td>Rosie   </td><td>16.00</td><td>97</td></tr>\n\t<tr><td>Ethan   </td><td> 9.25</td><td>49</td></tr>\n\t<tr><td>Vicky   </td><td> 1.00</td><td> 3</td></tr>\n\t<tr><td>Frederic</td><td>11.50</td><td>53</td></tr>\n\t<tr><td>Jimmie  </td><td> 9.00</td><td>42</td></tr>\n\t<tr><td>Rhonda  </td><td> 8.50</td><td>26</td></tr>\n\t<tr><td>Giovanni</td><td>14.50</td><td>74</td></tr>\n</tbody>\n</table>\n",
            "text/markdown": "\nA spec_tbl_df: 10 × 3\n\n| Name &lt;chr&gt; | StudyHours &lt;dbl&gt; | Grade &lt;dbl&gt; |\n|---|---|---|\n| Dan      | 10.00 | 50 |\n| Joann    | 11.50 | 50 |\n| Pedro    |  9.00 | 47 |\n| Rosie    | 16.00 | 97 |\n| Ethan    |  9.25 | 49 |\n| Vicky    |  1.00 |  3 |\n| Frederic | 11.50 | 53 |\n| Jimmie   |  9.00 | 42 |\n| Rhonda   |  8.50 | 26 |\n| Giovanni | 14.50 | 74 |\n\n",
            "text/latex": "A spec\\_tbl\\_df: 10 × 3\n\\begin{tabular}{lll}\n Name & StudyHours & Grade\\\\\n <chr> & <dbl> & <dbl>\\\\\n\\hline\n\t Dan      & 10.00 & 50\\\\\n\t Joann    & 11.50 & 50\\\\\n\t Pedro    &  9.00 & 47\\\\\n\t Rosie    & 16.00 & 97\\\\\n\t Ethan    &  9.25 & 49\\\\\n\t Vicky    &  1.00 &  3\\\\\n\t Frederic & 11.50 & 53\\\\\n\t Jimmie   &  9.00 & 42\\\\\n\t Rhonda   &  8.50 & 26\\\\\n\t Giovanni & 14.50 & 74\\\\\n\\end{tabular}\n",
            "text/plain": "   Name     StudyHours Grade\n1  Dan      10.00      50   \n2  Joann    11.50      50   \n3  Pedro     9.00      47   \n4  Rosie    16.00      97   \n5  Ethan     9.25      49   \n6  Vicky     1.00       3   \n7  Frederic 11.50      53   \n8  Jimmie    9.00      42   \n9  Rhonda    8.50      26   \n10 Giovanni 14.50      74   "
          },
          "metadata": {}
        }
      ],
      "execution_count": 3,
      "metadata": {}
    },
    {
      "cell_type": "markdown",
      "source": [
        "You use `read_csv()` to import a CSV file into a tibble. With `slice_head(),` you can return the first `n` rows of a tibble.\n",
        "\n",
        "slice_head() is actually a variant of the function `slice`. By using slice(), you can select rows based on their integer location. If you want to narrow down to rows at integer positions 5 to 10, here's one way to do it:\n"
      ],
      "metadata": {}
    },
    {
      "cell_type": "code",
      "source": [
        "slice(students, n = 5:10)\n",
        "\n"
      ],
      "outputs": [
        {
          "output_type": "display_data",
          "data": {
            "text/html": "<table class=\"dataframe\">\n<caption>A spec_tbl_df: 6 × 3</caption>\n<thead>\n\t<tr><th scope=col>Name</th><th scope=col>StudyHours</th><th scope=col>Grade</th></tr>\n\t<tr><th scope=col>&lt;chr&gt;</th><th scope=col>&lt;dbl&gt;</th><th scope=col>&lt;dbl&gt;</th></tr>\n</thead>\n<tbody>\n\t<tr><td>Ethan   </td><td> 9.25</td><td>49</td></tr>\n\t<tr><td>Vicky   </td><td> 1.00</td><td> 3</td></tr>\n\t<tr><td>Frederic</td><td>11.50</td><td>53</td></tr>\n\t<tr><td>Jimmie  </td><td> 9.00</td><td>42</td></tr>\n\t<tr><td>Rhonda  </td><td> 8.50</td><td>26</td></tr>\n\t<tr><td>Giovanni</td><td>14.50</td><td>74</td></tr>\n</tbody>\n</table>\n",
            "text/markdown": "\nA spec_tbl_df: 6 × 3\n\n| Name &lt;chr&gt; | StudyHours &lt;dbl&gt; | Grade &lt;dbl&gt; |\n|---|---|---|\n| Ethan    |  9.25 | 49 |\n| Vicky    |  1.00 |  3 |\n| Frederic | 11.50 | 53 |\n| Jimmie   |  9.00 | 42 |\n| Rhonda   |  8.50 | 26 |\n| Giovanni | 14.50 | 74 |\n\n",
            "text/latex": "A spec\\_tbl\\_df: 6 × 3\n\\begin{tabular}{lll}\n Name & StudyHours & Grade\\\\\n <chr> & <dbl> & <dbl>\\\\\n\\hline\n\t Ethan    &  9.25 & 49\\\\\n\t Vicky    &  1.00 &  3\\\\\n\t Frederic & 11.50 & 53\\\\\n\t Jimmie   &  9.00 & 42\\\\\n\t Rhonda   &  8.50 & 26\\\\\n\t Giovanni & 14.50 & 74\\\\\n\\end{tabular}\n",
            "text/plain": "  Name     StudyHours Grade\n1 Ethan     9.25      49   \n2 Vicky     1.00       3   \n3 Frederic 11.50      53   \n4 Jimmie    9.00      42   \n5 Rhonda    8.50      26   \n6 Giovanni 14.50      74   "
          },
          "metadata": {}
        }
      ],
      "execution_count": 4,
      "metadata": {}
    },
    {
      "cell_type": "markdown",
      "source": [
        "> Indexing in R starts at `1`.\n",
        "\n",
        "### Explore tibbles by using dplyr\n",
        "\n",
        "Now that you have some data, you can begin to solve some of the common data manipulation challenges:\n",
        "\n",
        "#### Filter rows by using dplyr::filter()\n",
        "\n",
        "The `filter()` function is used to create a subset of the original data, which contains rows that satisfy your conditions.\n",
        "\n",
        "Let's say you're particularly interested in focusing on `Jenny`'s performance. To do so, you filter the *students* data to keep only rows where the entry for *Name* exactly matches *\"Jenny\"*.\n"
      ],
      "metadata": {}
    },
    {
      "cell_type": "code",
      "source": [
        "filter(students, Name == \"Jenny\")\n",
        "\n"
      ],
      "outputs": [
        {
          "output_type": "display_data",
          "data": {
            "text/html": "<table class=\"dataframe\">\n<caption>A spec_tbl_df: 1 × 3</caption>\n<thead>\n\t<tr><th scope=col>Name</th><th scope=col>StudyHours</th><th scope=col>Grade</th></tr>\n\t<tr><th scope=col>&lt;chr&gt;</th><th scope=col>&lt;dbl&gt;</th><th scope=col>&lt;dbl&gt;</th></tr>\n</thead>\n<tbody>\n\t<tr><td>Jenny</td><td>15.5</td><td>70</td></tr>\n</tbody>\n</table>\n",
            "text/markdown": "\nA spec_tbl_df: 1 × 3\n\n| Name &lt;chr&gt; | StudyHours &lt;dbl&gt; | Grade &lt;dbl&gt; |\n|---|---|---|\n| Jenny | 15.5 | 70 |\n\n",
            "text/latex": "A spec\\_tbl\\_df: 1 × 3\n\\begin{tabular}{lll}\n Name & StudyHours & Grade\\\\\n <chr> & <dbl> & <dbl>\\\\\n\\hline\n\t Jenny & 15.5 & 70\\\\\n\\end{tabular}\n",
            "text/plain": "  Name  StudyHours Grade\n1 Jenny 15.5       70   "
          },
          "metadata": {}
        }
      ],
      "execution_count": 5,
      "metadata": {}
    },
    {
      "cell_type": "markdown",
      "source": [
        "Perhaps you also want to focus on Giovanni's performance. This means that you want to keep rows where the name matches Jenny *or* Giovanni. You can approach the problem by using the `%in%` operator, followed by a vector of values to look for a match, as shown here:\n",
        "\n"
      ],
      "metadata": {}
    },
    {
      "cell_type": "code",
      "source": [
        "filter(students, Name %in% c(\"Jenny\", \"Giovanni\"))\n",
        "\n"
      ],
      "outputs": [
        {
          "output_type": "display_data",
          "data": {
            "text/html": "<table class=\"dataframe\">\n<caption>A spec_tbl_df: 2 × 3</caption>\n<thead>\n\t<tr><th scope=col>Name</th><th scope=col>StudyHours</th><th scope=col>Grade</th></tr>\n\t<tr><th scope=col>&lt;chr&gt;</th><th scope=col>&lt;dbl&gt;</th><th scope=col>&lt;dbl&gt;</th></tr>\n</thead>\n<tbody>\n\t<tr><td>Giovanni</td><td>14.5</td><td>74</td></tr>\n\t<tr><td>Jenny   </td><td>15.5</td><td>70</td></tr>\n</tbody>\n</table>\n",
            "text/markdown": "\nA spec_tbl_df: 2 × 3\n\n| Name &lt;chr&gt; | StudyHours &lt;dbl&gt; | Grade &lt;dbl&gt; |\n|---|---|---|\n| Giovanni | 14.5 | 74 |\n| Jenny    | 15.5 | 70 |\n\n",
            "text/latex": "A spec\\_tbl\\_df: 2 × 3\n\\begin{tabular}{lll}\n Name & StudyHours & Grade\\\\\n <chr> & <dbl> & <dbl>\\\\\n\\hline\n\t Giovanni & 14.5 & 74\\\\\n\t Jenny    & 15.5 & 70\\\\\n\\end{tabular}\n",
            "text/plain": "  Name     StudyHours Grade\n1 Giovanni 14.5       74   \n2 Jenny    15.5       70   "
          },
          "metadata": {}
        }
      ],
      "execution_count": 6,
      "metadata": {}
    },
    {
      "cell_type": "markdown",
      "source": [
        "Here, you're asking filter() to select all rows where the observations in the Name column match those provided in the vector of values.\n",
        "\n",
        "Sometimes, you want to retain rows whose conditions are met in multiple columns. Let's say you want to find the students who studied for more than 12 hours *and* got a grade of more than 80. In this case, a row should be retained only if both of those conditions are met. \n",
        "\n",
        "You can express an *and* statement within filter() in either of the following ways:\n",
        "\n",
        "- By using a comma between conditions:\n"
      ],
      "metadata": {}
    },
    {
      "cell_type": "code",
      "source": [
        "filter(students, StudyHours > 12, Grade > 80)\n",
        "\n"
      ],
      "outputs": [
        {
          "output_type": "display_data",
          "data": {
            "text/html": "<table class=\"dataframe\">\n<caption>A spec_tbl_df: 2 × 3</caption>\n<thead>\n\t<tr><th scope=col>Name</th><th scope=col>StudyHours</th><th scope=col>Grade</th></tr>\n\t<tr><th scope=col>&lt;chr&gt;</th><th scope=col>&lt;dbl&gt;</th><th scope=col>&lt;dbl&gt;</th></tr>\n</thead>\n<tbody>\n\t<tr><td>Rosie    </td><td>16.0</td><td>97</td></tr>\n\t<tr><td>Francesca</td><td>15.5</td><td>82</td></tr>\n</tbody>\n</table>\n",
            "text/markdown": "\nA spec_tbl_df: 2 × 3\n\n| Name &lt;chr&gt; | StudyHours &lt;dbl&gt; | Grade &lt;dbl&gt; |\n|---|---|---|\n| Rosie     | 16.0 | 97 |\n| Francesca | 15.5 | 82 |\n\n",
            "text/latex": "A spec\\_tbl\\_df: 2 × 3\n\\begin{tabular}{lll}\n Name & StudyHours & Grade\\\\\n <chr> & <dbl> & <dbl>\\\\\n\\hline\n\t Rosie     & 16.0 & 97\\\\\n\t Francesca & 15.5 & 82\\\\\n\\end{tabular}\n",
            "text/plain": "  Name      StudyHours Grade\n1 Rosie     16.0       97   \n2 Francesca 15.5       82   "
          },
          "metadata": {}
        }
      ],
      "execution_count": 7,
      "metadata": {}
    },
    {
      "cell_type": "markdown",
      "source": [
        "- By using an ampersand (&) between conditions:\n",
        "\n"
      ],
      "metadata": {}
    },
    {
      "cell_type": "code",
      "source": [
        "filter(students, StudyHours > 12 & Grade > 80)\n",
        "\n"
      ],
      "outputs": [
        {
          "output_type": "display_data",
          "data": {
            "text/html": "<table class=\"dataframe\">\n<caption>A spec_tbl_df: 2 × 3</caption>\n<thead>\n\t<tr><th scope=col>Name</th><th scope=col>StudyHours</th><th scope=col>Grade</th></tr>\n\t<tr><th scope=col>&lt;chr&gt;</th><th scope=col>&lt;dbl&gt;</th><th scope=col>&lt;dbl&gt;</th></tr>\n</thead>\n<tbody>\n\t<tr><td>Rosie    </td><td>16.0</td><td>97</td></tr>\n\t<tr><td>Francesca</td><td>15.5</td><td>82</td></tr>\n</tbody>\n</table>\n",
            "text/markdown": "\nA spec_tbl_df: 2 × 3\n\n| Name &lt;chr&gt; | StudyHours &lt;dbl&gt; | Grade &lt;dbl&gt; |\n|---|---|---|\n| Rosie     | 16.0 | 97 |\n| Francesca | 15.5 | 82 |\n\n",
            "text/latex": "A spec\\_tbl\\_df: 2 × 3\n\\begin{tabular}{lll}\n Name & StudyHours & Grade\\\\\n <chr> & <dbl> & <dbl>\\\\\n\\hline\n\t Rosie     & 16.0 & 97\\\\\n\t Francesca & 15.5 & 82\\\\\n\\end{tabular}\n",
            "text/plain": "  Name      StudyHours Grade\n1 Rosie     16.0       97   \n2 Francesca 15.5       82   "
          },
          "metadata": {}
        }
      ],
      "execution_count": 8,
      "metadata": {}
    },
    {
      "cell_type": "markdown",
      "source": [
        "#### About the pipe operator (%\\>%)\n",
        "\n",
        "The pipe operator (`%>%`) is used to perform operations in logical sequence by passing an object forward into a function or call expression. You can think of the pipe operator as saying \"and then\" in your code.\n",
        "\n",
        "The pipe operator is one of the functions in R that will really help you to work intuitively with the data, by enabling you to translate what you have in mind to actual code.\n",
        "\n",
        "For example, let's say you want to filter for the student named Bill. You can think of it like this:\n",
        "\n",
        "You're telling R to take the *students* data frame *and then* *filter* the rows that contain the name **Bill**. This can be translated into code like this:\n"
      ],
      "metadata": {}
    },
    {
      "cell_type": "code",
      "source": [
        "# Take the students data frame AND THEN filter for the Name \"Bill\"\n",
        "students %>% \n",
        "  filter(Name == \"Bill\")\n"
      ],
      "outputs": [
        {
          "output_type": "display_data",
          "data": {
            "text/html": "<table class=\"dataframe\">\n<caption>A spec_tbl_df: 1 × 3</caption>\n<thead>\n\t<tr><th scope=col>Name</th><th scope=col>StudyHours</th><th scope=col>Grade</th></tr>\n\t<tr><th scope=col>&lt;chr&gt;</th><th scope=col>&lt;dbl&gt;</th><th scope=col>&lt;dbl&gt;</th></tr>\n</thead>\n<tbody>\n\t<tr><td>Bill</td><td>8</td><td>NA</td></tr>\n</tbody>\n</table>\n",
            "text/markdown": "\nA spec_tbl_df: 1 × 3\n\n| Name &lt;chr&gt; | StudyHours &lt;dbl&gt; | Grade &lt;dbl&gt; |\n|---|---|---|\n| Bill | 8 | NA |\n\n",
            "text/latex": "A spec\\_tbl\\_df: 1 × 3\n\\begin{tabular}{lll}\n Name & StudyHours & Grade\\\\\n <chr> & <dbl> & <dbl>\\\\\n\\hline\n\t Bill & 8 & NA\\\\\n\\end{tabular}\n",
            "text/plain": "  Name StudyHours Grade\n1 Bill 8          NA   "
          },
          "metadata": {}
        }
      ],
      "execution_count": 9,
      "metadata": {}
    },
    {
      "cell_type": "markdown",
      "source": [
        "Such a superpower, right?\n",
        "\n",
        "Look at what's displayed for Bill's grade: `NA`. This brings us to the next adventure.\n",
        "\n",
        "#### Handling missing values\n",
        "\n",
        "One of the most common issues that data scientists deal with is incomplete or missing data. R represents missing, or unknown values, with special sentinel value: `NA` (Not Available).\n",
        "\n",
        "So how would you know that the data frame contains missing values?\n",
        "\n",
        "- One way to quickly investigate whether your data contains any `NA`s is to use the function `anyNA,` which returns `TRUE` or `FALSE`.\n"
      ],
      "metadata": {}
    },
    {
      "cell_type": "code",
      "source": [
        "anyNA(students)\n",
        "\n"
      ],
      "outputs": [
        {
          "output_type": "display_data",
          "data": {
            "text/html": "TRUE",
            "text/markdown": "TRUE",
            "text/latex": "TRUE",
            "text/plain": "[1] TRUE"
          },
          "metadata": {}
        }
      ],
      "execution_count": 10,
      "metadata": {}
    },
    {
      "cell_type": "markdown",
      "source": [
        "- Another way is to use the function `is.na()`, which indicates which individual elements are missing by displaying a logical `TRUE`.\n"
      ],
      "metadata": {}
    },
    {
      "cell_type": "code",
      "source": [
        "is.na(students)\n",
        "\n"
      ],
      "outputs": [
        {
          "output_type": "display_data",
          "data": {
            "text/html": "<table class=\"dataframe\">\n<caption>A matrix: 24 × 3 of type lgl</caption>\n<thead>\n\t<tr><th scope=col>Name</th><th scope=col>StudyHours</th><th scope=col>Grade</th></tr>\n</thead>\n<tbody>\n\t<tr><td>FALSE</td><td>FALSE</td><td>FALSE</td></tr>\n\t<tr><td>FALSE</td><td>FALSE</td><td>FALSE</td></tr>\n\t<tr><td>FALSE</td><td>FALSE</td><td>FALSE</td></tr>\n\t<tr><td>FALSE</td><td>FALSE</td><td>FALSE</td></tr>\n\t<tr><td>FALSE</td><td>FALSE</td><td>FALSE</td></tr>\n\t<tr><td>FALSE</td><td>FALSE</td><td>FALSE</td></tr>\n\t<tr><td>FALSE</td><td>FALSE</td><td>FALSE</td></tr>\n\t<tr><td>FALSE</td><td>FALSE</td><td>FALSE</td></tr>\n\t<tr><td>FALSE</td><td>FALSE</td><td>FALSE</td></tr>\n\t<tr><td>FALSE</td><td>FALSE</td><td>FALSE</td></tr>\n\t<tr><td>FALSE</td><td>FALSE</td><td>FALSE</td></tr>\n\t<tr><td>FALSE</td><td>FALSE</td><td>FALSE</td></tr>\n\t<tr><td>FALSE</td><td>FALSE</td><td>FALSE</td></tr>\n\t<tr><td>FALSE</td><td>FALSE</td><td>FALSE</td></tr>\n\t<tr><td>FALSE</td><td>FALSE</td><td>FALSE</td></tr>\n\t<tr><td>FALSE</td><td>FALSE</td><td>FALSE</td></tr>\n\t<tr><td>FALSE</td><td>FALSE</td><td>FALSE</td></tr>\n\t<tr><td>FALSE</td><td>FALSE</td><td>FALSE</td></tr>\n\t<tr><td>FALSE</td><td>FALSE</td><td>FALSE</td></tr>\n\t<tr><td>FALSE</td><td>FALSE</td><td>FALSE</td></tr>\n\t<tr><td>FALSE</td><td>FALSE</td><td>FALSE</td></tr>\n\t<tr><td>FALSE</td><td>FALSE</td><td>FALSE</td></tr>\n\t<tr><td>FALSE</td><td>FALSE</td><td> TRUE</td></tr>\n\t<tr><td>FALSE</td><td> TRUE</td><td> TRUE</td></tr>\n</tbody>\n</table>\n",
            "text/markdown": "\nA matrix: 24 × 3 of type lgl\n\n| Name | StudyHours | Grade |\n|---|---|---|\n| FALSE | FALSE | FALSE |\n| FALSE | FALSE | FALSE |\n| FALSE | FALSE | FALSE |\n| FALSE | FALSE | FALSE |\n| FALSE | FALSE | FALSE |\n| FALSE | FALSE | FALSE |\n| FALSE | FALSE | FALSE |\n| FALSE | FALSE | FALSE |\n| FALSE | FALSE | FALSE |\n| FALSE | FALSE | FALSE |\n| FALSE | FALSE | FALSE |\n| FALSE | FALSE | FALSE |\n| FALSE | FALSE | FALSE |\n| FALSE | FALSE | FALSE |\n| FALSE | FALSE | FALSE |\n| FALSE | FALSE | FALSE |\n| FALSE | FALSE | FALSE |\n| FALSE | FALSE | FALSE |\n| FALSE | FALSE | FALSE |\n| FALSE | FALSE | FALSE |\n| FALSE | FALSE | FALSE |\n| FALSE | FALSE | FALSE |\n| FALSE | FALSE |  TRUE |\n| FALSE |  TRUE |  TRUE |\n\n",
            "text/latex": "A matrix: 24 × 3 of type lgl\n\\begin{tabular}{lll}\n Name & StudyHours & Grade\\\\\n\\hline\n\t FALSE & FALSE & FALSE\\\\\n\t FALSE & FALSE & FALSE\\\\\n\t FALSE & FALSE & FALSE\\\\\n\t FALSE & FALSE & FALSE\\\\\n\t FALSE & FALSE & FALSE\\\\\n\t FALSE & FALSE & FALSE\\\\\n\t FALSE & FALSE & FALSE\\\\\n\t FALSE & FALSE & FALSE\\\\\n\t FALSE & FALSE & FALSE\\\\\n\t FALSE & FALSE & FALSE\\\\\n\t FALSE & FALSE & FALSE\\\\\n\t FALSE & FALSE & FALSE\\\\\n\t FALSE & FALSE & FALSE\\\\\n\t FALSE & FALSE & FALSE\\\\\n\t FALSE & FALSE & FALSE\\\\\n\t FALSE & FALSE & FALSE\\\\\n\t FALSE & FALSE & FALSE\\\\\n\t FALSE & FALSE & FALSE\\\\\n\t FALSE & FALSE & FALSE\\\\\n\t FALSE & FALSE & FALSE\\\\\n\t FALSE & FALSE & FALSE\\\\\n\t FALSE & FALSE & FALSE\\\\\n\t FALSE & FALSE &  TRUE\\\\\n\t FALSE &  TRUE &  TRUE\\\\\n\\end{tabular}\n",
            "text/plain": "      Name  StudyHours Grade\n [1,] FALSE FALSE      FALSE\n [2,] FALSE FALSE      FALSE\n [3,] FALSE FALSE      FALSE\n [4,] FALSE FALSE      FALSE\n [5,] FALSE FALSE      FALSE\n [6,] FALSE FALSE      FALSE\n [7,] FALSE FALSE      FALSE\n [8,] FALSE FALSE      FALSE\n [9,] FALSE FALSE      FALSE\n[10,] FALSE FALSE      FALSE\n[11,] FALSE FALSE      FALSE\n[12,] FALSE FALSE      FALSE\n[13,] FALSE FALSE      FALSE\n[14,] FALSE FALSE      FALSE\n[15,] FALSE FALSE      FALSE\n[16,] FALSE FALSE      FALSE\n[17,] FALSE FALSE      FALSE\n[18,] FALSE FALSE      FALSE\n[19,] FALSE FALSE      FALSE\n[20,] FALSE FALSE      FALSE\n[21,] FALSE FALSE      FALSE\n[22,] FALSE FALSE      FALSE\n[23,] FALSE FALSE       TRUE\n[24,] FALSE  TRUE       TRUE"
          },
          "metadata": {}
        }
      ],
      "execution_count": 11,
      "metadata": {}
    },
    {
      "cell_type": "markdown",
      "source": [
        "Okay, this gets the job done.\n",
        "\n",
        "But with a larger data frame, you would find it inefficient and practically impossible to review each row and column individually.\n",
        "\n",
        "-   Another more intuitive way would be to get the sum of missing values for each column, like this:\n"
      ],
      "metadata": {}
    },
    {
      "cell_type": "code",
      "source": [
        "colSums(is.na(students))\n",
        "\n"
      ],
      "outputs": [
        {
          "output_type": "display_data",
          "data": {
            "text/html": "<style>\n.dl-inline {width: auto; margin:0; padding: 0}\n.dl-inline>dt, .dl-inline>dd {float: none; width: auto; display: inline-block}\n.dl-inline>dt::after {content: \":\\0020\"; padding-right: .5ex}\n.dl-inline>dt:not(:first-of-type) {padding-left: .5ex}\n</style><dl class=dl-inline><dt>Name</dt><dd>0</dd><dt>StudyHours</dt><dd>1</dd><dt>Grade</dt><dd>2</dd></dl>\n",
            "text/markdown": "Name\n:   0StudyHours\n:   1Grade\n:   2\n\n",
            "text/latex": "\\begin{description*}\n\\item[Name] 0\n\\item[StudyHours] 1\n\\item[Grade] 2\n\\end{description*}\n",
            "text/plain": "      Name StudyHours      Grade \n         0          1          2 "
          },
          "metadata": {}
        }
      ],
      "execution_count": 12,
      "metadata": {}
    },
    {
      "cell_type": "markdown",
      "source": [
        "So now you know that there's `one` missing value in the **StudyHours** column, and `two` missing values in the **Grade** column.\n",
        "\n",
        "You can also get the sum of missing values for each row, which could be more useful because `filter` is primarily used to subset rows.\n"
      ],
      "metadata": {}
    },
    {
      "cell_type": "code",
      "source": [
        "rowSums(is.na(students))\n",
        "\n"
      ],
      "outputs": [
        {
          "output_type": "display_data",
          "data": {
            "text/html": "<style>\n.list-inline {list-style: none; margin:0; padding: 0}\n.list-inline>li {display: inline-block}\n.list-inline>li:not(:last-child)::after {content: \"\\00b7\"; padding: 0 .5ex}\n</style>\n<ol class=list-inline><li>0</li><li>0</li><li>0</li><li>0</li><li>0</li><li>0</li><li>0</li><li>0</li><li>0</li><li>0</li><li>0</li><li>0</li><li>0</li><li>0</li><li>0</li><li>0</li><li>0</li><li>0</li><li>0</li><li>0</li><li>0</li><li>0</li><li>1</li><li>2</li></ol>\n",
            "text/markdown": "1. 0\n2. 0\n3. 0\n4. 0\n5. 0\n6. 0\n7. 0\n8. 0\n9. 0\n10. 0\n11. 0\n12. 0\n13. 0\n14. 0\n15. 0\n16. 0\n17. 0\n18. 0\n19. 0\n20. 0\n21. 0\n22. 0\n23. 1\n24. 2\n\n\n",
            "text/latex": "\\begin{enumerate*}\n\\item 0\n\\item 0\n\\item 0\n\\item 0\n\\item 0\n\\item 0\n\\item 0\n\\item 0\n\\item 0\n\\item 0\n\\item 0\n\\item 0\n\\item 0\n\\item 0\n\\item 0\n\\item 0\n\\item 0\n\\item 0\n\\item 0\n\\item 0\n\\item 0\n\\item 0\n\\item 1\n\\item 2\n\\end{enumerate*}\n",
            "text/plain": " [1] 0 0 0 0 0 0 0 0 0 0 0 0 0 0 0 0 0 0 0 0 0 0 1 2"
          },
          "metadata": {}
        }
      ],
      "execution_count": 13,
      "metadata": {}
    },
    {
      "cell_type": "markdown",
      "source": [
        "This tells you that the last row has two NAs and the second last row has one missing value. \n",
        "\n",
        "Great! This means that you can tell R to *filter* the rows where the sum of NAs is greater than 0:\n",
        "\n"
      ],
      "metadata": {}
    },
    {
      "cell_type": "code",
      "source": [
        "students %>% \n",
        "  filter(rowSums(is.na(students)) > 0)\n"
      ],
      "outputs": [
        {
          "output_type": "display_data",
          "data": {
            "text/html": "<table class=\"dataframe\">\n<caption>A spec_tbl_df: 2 × 3</caption>\n<thead>\n\t<tr><th scope=col>Name</th><th scope=col>StudyHours</th><th scope=col>Grade</th></tr>\n\t<tr><th scope=col>&lt;chr&gt;</th><th scope=col>&lt;dbl&gt;</th><th scope=col>&lt;dbl&gt;</th></tr>\n</thead>\n<tbody>\n\t<tr><td>Bill</td><td> 8</td><td>NA</td></tr>\n\t<tr><td>Ted </td><td>NA</td><td>NA</td></tr>\n</tbody>\n</table>\n",
            "text/markdown": "\nA spec_tbl_df: 2 × 3\n\n| Name &lt;chr&gt; | StudyHours &lt;dbl&gt; | Grade &lt;dbl&gt; |\n|---|---|---|\n| Bill |  8 | NA |\n| Ted  | NA | NA |\n\n",
            "text/latex": "A spec\\_tbl\\_df: 2 × 3\n\\begin{tabular}{lll}\n Name & StudyHours & Grade\\\\\n <chr> & <dbl> & <dbl>\\\\\n\\hline\n\t Bill &  8 & NA\\\\\n\t Ted  & NA & NA\\\\\n\\end{tabular}\n",
            "text/plain": "  Name StudyHours Grade\n1 Bill  8         NA   \n2 Ted  NA         NA   "
          },
          "metadata": {}
        }
      ],
      "execution_count": 14,
      "metadata": {}
    },
    {
      "cell_type": "markdown",
      "source": [
        "Now that you've found the missing values, what can you do about them?\n",
        "\n",
        "One common approach is to *impute* replacement values. For example, if the number of study hours is missing, you can assume that the student studied for an average amount of time and replace the missing value with the mean study hours. This raises the question, how do you modify existing columns?\n",
        "\n",
        "#### Create and modify columns by using dplyr::mutate()\n",
        "\n",
        "You can use `mutate()` to add or modify columns and preserve existing ones. Here's how to replace the missing values found in the **StudyHours** column with the mean study hours:\n"
      ],
      "metadata": {}
    },
    {
      "cell_type": "code",
      "source": [
        "# Replace NA in column StudyHours with the mean study hours\n",
        "students <- students %>% \n",
        "  mutate(StudyHours = replace_na(StudyHours, mean(StudyHours, na.rm = TRUE)))\n",
        "\n",
        "# Print the data frame\n",
        "students\n"
      ],
      "outputs": [
        {
          "output_type": "display_data",
          "data": {
            "text/html": "<table class=\"dataframe\">\n<caption>A tibble: 24 × 3</caption>\n<thead>\n\t<tr><th scope=col>Name</th><th scope=col>StudyHours</th><th scope=col>Grade</th></tr>\n\t<tr><th scope=col>&lt;chr&gt;</th><th scope=col>&lt;dbl&gt;</th><th scope=col>&lt;dbl&gt;</th></tr>\n</thead>\n<tbody>\n\t<tr><td>Dan      </td><td>10.00000</td><td>50</td></tr>\n\t<tr><td>Joann    </td><td>11.50000</td><td>50</td></tr>\n\t<tr><td>Pedro    </td><td> 9.00000</td><td>47</td></tr>\n\t<tr><td>Rosie    </td><td>16.00000</td><td>97</td></tr>\n\t<tr><td>Ethan    </td><td> 9.25000</td><td>49</td></tr>\n\t<tr><td>Vicky    </td><td> 1.00000</td><td> 3</td></tr>\n\t<tr><td>Frederic </td><td>11.50000</td><td>53</td></tr>\n\t<tr><td>Jimmie   </td><td> 9.00000</td><td>42</td></tr>\n\t<tr><td>Rhonda   </td><td> 8.50000</td><td>26</td></tr>\n\t<tr><td>Giovanni </td><td>14.50000</td><td>74</td></tr>\n\t<tr><td>Francesca</td><td>15.50000</td><td>82</td></tr>\n\t<tr><td>Rajab    </td><td>13.75000</td><td>62</td></tr>\n\t<tr><td>Naiyana  </td><td> 9.00000</td><td>37</td></tr>\n\t<tr><td>Kian     </td><td> 8.00000</td><td>15</td></tr>\n\t<tr><td>Jenny    </td><td>15.50000</td><td>70</td></tr>\n\t<tr><td>Jakeem   </td><td> 8.00000</td><td>27</td></tr>\n\t<tr><td>Helena   </td><td> 9.00000</td><td>36</td></tr>\n\t<tr><td>Ismat    </td><td> 6.00000</td><td>35</td></tr>\n\t<tr><td>Anila    </td><td>10.00000</td><td>48</td></tr>\n\t<tr><td>Skye     </td><td>12.00000</td><td>52</td></tr>\n\t<tr><td>Daniel   </td><td>12.50000</td><td>63</td></tr>\n\t<tr><td>Aisha    </td><td>12.00000</td><td>64</td></tr>\n\t<tr><td>Bill     </td><td> 8.00000</td><td>NA</td></tr>\n\t<tr><td>Ted      </td><td>10.41304</td><td>NA</td></tr>\n</tbody>\n</table>\n",
            "text/markdown": "\nA tibble: 24 × 3\n\n| Name &lt;chr&gt; | StudyHours &lt;dbl&gt; | Grade &lt;dbl&gt; |\n|---|---|---|\n| Dan       | 10.00000 | 50 |\n| Joann     | 11.50000 | 50 |\n| Pedro     |  9.00000 | 47 |\n| Rosie     | 16.00000 | 97 |\n| Ethan     |  9.25000 | 49 |\n| Vicky     |  1.00000 |  3 |\n| Frederic  | 11.50000 | 53 |\n| Jimmie    |  9.00000 | 42 |\n| Rhonda    |  8.50000 | 26 |\n| Giovanni  | 14.50000 | 74 |\n| Francesca | 15.50000 | 82 |\n| Rajab     | 13.75000 | 62 |\n| Naiyana   |  9.00000 | 37 |\n| Kian      |  8.00000 | 15 |\n| Jenny     | 15.50000 | 70 |\n| Jakeem    |  8.00000 | 27 |\n| Helena    |  9.00000 | 36 |\n| Ismat     |  6.00000 | 35 |\n| Anila     | 10.00000 | 48 |\n| Skye      | 12.00000 | 52 |\n| Daniel    | 12.50000 | 63 |\n| Aisha     | 12.00000 | 64 |\n| Bill      |  8.00000 | NA |\n| Ted       | 10.41304 | NA |\n\n",
            "text/latex": "A tibble: 24 × 3\n\\begin{tabular}{lll}\n Name & StudyHours & Grade\\\\\n <chr> & <dbl> & <dbl>\\\\\n\\hline\n\t Dan       & 10.00000 & 50\\\\\n\t Joann     & 11.50000 & 50\\\\\n\t Pedro     &  9.00000 & 47\\\\\n\t Rosie     & 16.00000 & 97\\\\\n\t Ethan     &  9.25000 & 49\\\\\n\t Vicky     &  1.00000 &  3\\\\\n\t Frederic  & 11.50000 & 53\\\\\n\t Jimmie    &  9.00000 & 42\\\\\n\t Rhonda    &  8.50000 & 26\\\\\n\t Giovanni  & 14.50000 & 74\\\\\n\t Francesca & 15.50000 & 82\\\\\n\t Rajab     & 13.75000 & 62\\\\\n\t Naiyana   &  9.00000 & 37\\\\\n\t Kian      &  8.00000 & 15\\\\\n\t Jenny     & 15.50000 & 70\\\\\n\t Jakeem    &  8.00000 & 27\\\\\n\t Helena    &  9.00000 & 36\\\\\n\t Ismat     &  6.00000 & 35\\\\\n\t Anila     & 10.00000 & 48\\\\\n\t Skye      & 12.00000 & 52\\\\\n\t Daniel    & 12.50000 & 63\\\\\n\t Aisha     & 12.00000 & 64\\\\\n\t Bill      &  8.00000 & NA\\\\\n\t Ted       & 10.41304 & NA\\\\\n\\end{tabular}\n",
            "text/plain": "   Name      StudyHours Grade\n1  Dan       10.00000   50   \n2  Joann     11.50000   50   \n3  Pedro      9.00000   47   \n4  Rosie     16.00000   97   \n5  Ethan      9.25000   49   \n6  Vicky      1.00000    3   \n7  Frederic  11.50000   53   \n8  Jimmie     9.00000   42   \n9  Rhonda     8.50000   26   \n10 Giovanni  14.50000   74   \n11 Francesca 15.50000   82   \n12 Rajab     13.75000   62   \n13 Naiyana    9.00000   37   \n14 Kian       8.00000   15   \n15 Jenny     15.50000   70   \n16 Jakeem     8.00000   27   \n17 Helena     9.00000   36   \n18 Ismat      6.00000   35   \n19 Anila     10.00000   48   \n20 Skye      12.00000   52   \n21 Daniel    12.50000   63   \n22 Aisha     12.00000   64   \n23 Bill       8.00000   NA   \n24 Ted       10.41304   NA   "
          },
          "metadata": {}
        }
      ],
      "execution_count": 15,
      "metadata": {}
    },
    {
      "cell_type": "markdown",
      "source": [
        "> `na.rm = TRUE` argument is added to exclude missing values\n",
        "\n",
        "Awesome! You have just replaced the missing value in the StudyHour column with the mean study hours. In the process, you have also learned a new function: `replace_na()`. `tidyr::replace_na` replaces missing values with specified values.\n",
        "\n",
        "> [*`tidyr`*](https://tidyr.tidyverse.org/index.html) *is a part of the tidyverse, and its role is to help you tidy up messy data.*\n",
        "\n",
        "Alternatively, it might be important to ensure that you use only data that you know to be absolutely correct. So let's drop rows that contain missing values by using `tidyr::drop_na` function.\n"
      ],
      "metadata": {}
    },
    {
      "cell_type": "code",
      "source": [
        "# Drop NAs from our tibble\n",
        "students <- students %>% \n",
        "  drop_na()\n",
        "\n",
        "# Print tibble\n",
        "students\n"
      ],
      "outputs": [
        {
          "output_type": "display_data",
          "data": {
            "text/html": "<table class=\"dataframe\">\n<caption>A tibble: 22 × 3</caption>\n<thead>\n\t<tr><th scope=col>Name</th><th scope=col>StudyHours</th><th scope=col>Grade</th></tr>\n\t<tr><th scope=col>&lt;chr&gt;</th><th scope=col>&lt;dbl&gt;</th><th scope=col>&lt;dbl&gt;</th></tr>\n</thead>\n<tbody>\n\t<tr><td>Dan      </td><td>10.00</td><td>50</td></tr>\n\t<tr><td>Joann    </td><td>11.50</td><td>50</td></tr>\n\t<tr><td>Pedro    </td><td> 9.00</td><td>47</td></tr>\n\t<tr><td>Rosie    </td><td>16.00</td><td>97</td></tr>\n\t<tr><td>Ethan    </td><td> 9.25</td><td>49</td></tr>\n\t<tr><td>Vicky    </td><td> 1.00</td><td> 3</td></tr>\n\t<tr><td>Frederic </td><td>11.50</td><td>53</td></tr>\n\t<tr><td>Jimmie   </td><td> 9.00</td><td>42</td></tr>\n\t<tr><td>Rhonda   </td><td> 8.50</td><td>26</td></tr>\n\t<tr><td>Giovanni </td><td>14.50</td><td>74</td></tr>\n\t<tr><td>Francesca</td><td>15.50</td><td>82</td></tr>\n\t<tr><td>Rajab    </td><td>13.75</td><td>62</td></tr>\n\t<tr><td>Naiyana  </td><td> 9.00</td><td>37</td></tr>\n\t<tr><td>Kian     </td><td> 8.00</td><td>15</td></tr>\n\t<tr><td>Jenny    </td><td>15.50</td><td>70</td></tr>\n\t<tr><td>Jakeem   </td><td> 8.00</td><td>27</td></tr>\n\t<tr><td>Helena   </td><td> 9.00</td><td>36</td></tr>\n\t<tr><td>Ismat    </td><td> 6.00</td><td>35</td></tr>\n\t<tr><td>Anila    </td><td>10.00</td><td>48</td></tr>\n\t<tr><td>Skye     </td><td>12.00</td><td>52</td></tr>\n\t<tr><td>Daniel   </td><td>12.50</td><td>63</td></tr>\n\t<tr><td>Aisha    </td><td>12.00</td><td>64</td></tr>\n</tbody>\n</table>\n",
            "text/markdown": "\nA tibble: 22 × 3\n\n| Name &lt;chr&gt; | StudyHours &lt;dbl&gt; | Grade &lt;dbl&gt; |\n|---|---|---|\n| Dan       | 10.00 | 50 |\n| Joann     | 11.50 | 50 |\n| Pedro     |  9.00 | 47 |\n| Rosie     | 16.00 | 97 |\n| Ethan     |  9.25 | 49 |\n| Vicky     |  1.00 |  3 |\n| Frederic  | 11.50 | 53 |\n| Jimmie    |  9.00 | 42 |\n| Rhonda    |  8.50 | 26 |\n| Giovanni  | 14.50 | 74 |\n| Francesca | 15.50 | 82 |\n| Rajab     | 13.75 | 62 |\n| Naiyana   |  9.00 | 37 |\n| Kian      |  8.00 | 15 |\n| Jenny     | 15.50 | 70 |\n| Jakeem    |  8.00 | 27 |\n| Helena    |  9.00 | 36 |\n| Ismat     |  6.00 | 35 |\n| Anila     | 10.00 | 48 |\n| Skye      | 12.00 | 52 |\n| Daniel    | 12.50 | 63 |\n| Aisha     | 12.00 | 64 |\n\n",
            "text/latex": "A tibble: 22 × 3\n\\begin{tabular}{lll}\n Name & StudyHours & Grade\\\\\n <chr> & <dbl> & <dbl>\\\\\n\\hline\n\t Dan       & 10.00 & 50\\\\\n\t Joann     & 11.50 & 50\\\\\n\t Pedro     &  9.00 & 47\\\\\n\t Rosie     & 16.00 & 97\\\\\n\t Ethan     &  9.25 & 49\\\\\n\t Vicky     &  1.00 &  3\\\\\n\t Frederic  & 11.50 & 53\\\\\n\t Jimmie    &  9.00 & 42\\\\\n\t Rhonda    &  8.50 & 26\\\\\n\t Giovanni  & 14.50 & 74\\\\\n\t Francesca & 15.50 & 82\\\\\n\t Rajab     & 13.75 & 62\\\\\n\t Naiyana   &  9.00 & 37\\\\\n\t Kian      &  8.00 & 15\\\\\n\t Jenny     & 15.50 & 70\\\\\n\t Jakeem    &  8.00 & 27\\\\\n\t Helena    &  9.00 & 36\\\\\n\t Ismat     &  6.00 & 35\\\\\n\t Anila     & 10.00 & 48\\\\\n\t Skye      & 12.00 & 52\\\\\n\t Daniel    & 12.50 & 63\\\\\n\t Aisha     & 12.00 & 64\\\\\n\\end{tabular}\n",
            "text/plain": "   Name      StudyHours Grade\n1  Dan       10.00      50   \n2  Joann     11.50      50   \n3  Pedro      9.00      47   \n4  Rosie     16.00      97   \n5  Ethan      9.25      49   \n6  Vicky      1.00       3   \n7  Frederic  11.50      53   \n8  Jimmie     9.00      42   \n9  Rhonda     8.50      26   \n10 Giovanni  14.50      74   \n11 Francesca 15.50      82   \n12 Rajab     13.75      62   \n13 Naiyana    9.00      37   \n14 Kian       8.00      15   \n15 Jenny     15.50      70   \n16 Jakeem     8.00      27   \n17 Helena     9.00      36   \n18 Ismat      6.00      35   \n19 Anila     10.00      48   \n20 Skye      12.00      52   \n21 Daniel    12.50      63   \n22 Aisha     12.00      64   "
          },
          "metadata": {}
        }
      ],
      "execution_count": 16,
      "metadata": {}
    },
    {
      "cell_type": "markdown",
      "source": [
        "Double-check to ensure that you have no more missing values:\n",
        "\n"
      ],
      "metadata": {}
    },
    {
      "cell_type": "code",
      "source": [
        "anyNA(students)\n",
        "\n"
      ],
      "outputs": [
        {
          "output_type": "display_data",
          "data": {
            "text/html": "FALSE",
            "text/markdown": "FALSE",
            "text/latex": "FALSE",
            "text/plain": "[1] FALSE"
          },
          "metadata": {}
        }
      ],
      "execution_count": 17,
      "metadata": {}
    },
    {
      "cell_type": "markdown",
      "source": [
        "Now that you've cleaned up the missing values, you're ready to do more meaningful data exploration. Start by comparing the mean study hours and grades. This requires you to extract the numeric values of the individual column and pass them to the `mean()` function. `$` and `dplyr::pull()` do exactly this.\n",
        "\n"
      ],
      "metadata": {}
    },
    {
      "cell_type": "code",
      "source": [
        "# Get the mean study hours using the accessor `$`\n",
        "mean_study <- mean(students$StudyHours)\n",
        "\n",
        "# Get the mean grade using dplyr::pull\n",
        "mean_grade <- students %>% \n",
        "  pull(Grade) %>% \n",
        "  mean()\n",
        "\n",
        "# Print the mean study hours and mean grade\n",
        "cat(\n",
        "  'Average weekly study hours: ', round(mean_study, 2),\n",
        "   '\\nAverage grade: ', round(mean_grade, 2)\n",
        ")\n"
      ],
      "outputs": [
        {
          "output_type": "stream",
          "name": "stdout",
          "text": "Average weekly study hours:  10.52 \nAverage grade:  49.18"
        }
      ],
      "execution_count": 18,
      "metadata": {}
    },
    {
      "cell_type": "markdown",
      "source": [
        "With this information, you might want to filter the data frame to find only the students who studied for more than the average number of hours.\n",
        "\n"
      ],
      "metadata": {}
    },
    {
      "cell_type": "code",
      "source": [
        "# Get students who studied for more than the average number of hours\n",
        "students %>% \n",
        "  filter(StudyHours > mean_study)\n"
      ],
      "outputs": [
        {
          "output_type": "display_data",
          "data": {
            "text/html": "<table class=\"dataframe\">\n<caption>A tibble: 10 × 3</caption>\n<thead>\n\t<tr><th scope=col>Name</th><th scope=col>StudyHours</th><th scope=col>Grade</th></tr>\n\t<tr><th scope=col>&lt;chr&gt;</th><th scope=col>&lt;dbl&gt;</th><th scope=col>&lt;dbl&gt;</th></tr>\n</thead>\n<tbody>\n\t<tr><td>Joann    </td><td>11.50</td><td>50</td></tr>\n\t<tr><td>Rosie    </td><td>16.00</td><td>97</td></tr>\n\t<tr><td>Frederic </td><td>11.50</td><td>53</td></tr>\n\t<tr><td>Giovanni </td><td>14.50</td><td>74</td></tr>\n\t<tr><td>Francesca</td><td>15.50</td><td>82</td></tr>\n\t<tr><td>Rajab    </td><td>13.75</td><td>62</td></tr>\n\t<tr><td>Jenny    </td><td>15.50</td><td>70</td></tr>\n\t<tr><td>Skye     </td><td>12.00</td><td>52</td></tr>\n\t<tr><td>Daniel   </td><td>12.50</td><td>63</td></tr>\n\t<tr><td>Aisha    </td><td>12.00</td><td>64</td></tr>\n</tbody>\n</table>\n",
            "text/markdown": "\nA tibble: 10 × 3\n\n| Name &lt;chr&gt; | StudyHours &lt;dbl&gt; | Grade &lt;dbl&gt; |\n|---|---|---|\n| Joann     | 11.50 | 50 |\n| Rosie     | 16.00 | 97 |\n| Frederic  | 11.50 | 53 |\n| Giovanni  | 14.50 | 74 |\n| Francesca | 15.50 | 82 |\n| Rajab     | 13.75 | 62 |\n| Jenny     | 15.50 | 70 |\n| Skye      | 12.00 | 52 |\n| Daniel    | 12.50 | 63 |\n| Aisha     | 12.00 | 64 |\n\n",
            "text/latex": "A tibble: 10 × 3\n\\begin{tabular}{lll}\n Name & StudyHours & Grade\\\\\n <chr> & <dbl> & <dbl>\\\\\n\\hline\n\t Joann     & 11.50 & 50\\\\\n\t Rosie     & 16.00 & 97\\\\\n\t Frederic  & 11.50 & 53\\\\\n\t Giovanni  & 14.50 & 74\\\\\n\t Francesca & 15.50 & 82\\\\\n\t Rajab     & 13.75 & 62\\\\\n\t Jenny     & 15.50 & 70\\\\\n\t Skye      & 12.00 & 52\\\\\n\t Daniel    & 12.50 & 63\\\\\n\t Aisha     & 12.00 & 64\\\\\n\\end{tabular}\n",
            "text/plain": "   Name      StudyHours Grade\n1  Joann     11.50      50   \n2  Rosie     16.00      97   \n3  Frederic  11.50      53   \n4  Giovanni  14.50      74   \n5  Francesca 15.50      82   \n6  Rajab     13.75      62   \n7  Jenny     15.50      70   \n8  Skye      12.00      52   \n9  Daniel    12.50      63   \n10 Aisha     12.00      64   "
          },
          "metadata": {}
        }
      ],
      "execution_count": 19,
      "metadata": {}
    },
    {
      "cell_type": "markdown",
      "source": [
        "Note that the filtered result retained the attributes of the original tibble and is itself a tibble, so you can work with its rows and columns as you would with any other tibble.\n",
        "\n",
        "For example, how about finding the average grade for students who spent more than the average amount of study time.\n"
      ],
      "metadata": {}
    },
    {
      "cell_type": "code",
      "source": [
        "# Mean grade of students who studied more than average hours\n",
        "students %>% \n",
        "  filter(StudyHours > mean_study) %>% \n",
        "  pull(Grade) %>% \n",
        "  mean()\n"
      ],
      "outputs": [
        {
          "output_type": "display_data",
          "data": {
            "text/html": "66.7",
            "text/markdown": "66.7",
            "text/latex": "66.7",
            "text/plain": "[1] 66.7"
          },
          "metadata": {}
        }
      ],
      "execution_count": 20,
      "metadata": {}
    },
    {
      "cell_type": "markdown",
      "source": [
        "Let's assume that the passing grade for the course is 60.\n",
        "\n",
        "You can use that information to add a new column to the data frame, indicating whether each student passed (TRUE/FALSE). Again, this calls for using `dplyr::mutate()`. Earlier, you saw how to use mutate to modify existing columns. You'll now use mutate to add a new column.\n",
        "\n",
        "The general structure of adding new columns is basically the same as before:\n",
        "\n",
        "`df %>% mutate(new_column_name = what_it_contains)`\n",
        "\n",
        "Let's go forth and mutate!\n"
      ],
      "metadata": {}
    },
    {
      "cell_type": "code",
      "source": [
        "# TRUE/FALSE column based on whether student passed or not\n",
        "students <- students %>% \n",
        "                  mutate(Pass = Grade >= 60)\n",
        "\n",
        "# Print data frame\n",
        "students\n"
      ],
      "outputs": [
        {
          "output_type": "display_data",
          "data": {
            "text/html": "<table class=\"dataframe\">\n<caption>A tibble: 22 × 4</caption>\n<thead>\n\t<tr><th scope=col>Name</th><th scope=col>StudyHours</th><th scope=col>Grade</th><th scope=col>Pass</th></tr>\n\t<tr><th scope=col>&lt;chr&gt;</th><th scope=col>&lt;dbl&gt;</th><th scope=col>&lt;dbl&gt;</th><th scope=col>&lt;lgl&gt;</th></tr>\n</thead>\n<tbody>\n\t<tr><td>Dan      </td><td>10.00</td><td>50</td><td>FALSE</td></tr>\n\t<tr><td>Joann    </td><td>11.50</td><td>50</td><td>FALSE</td></tr>\n\t<tr><td>Pedro    </td><td> 9.00</td><td>47</td><td>FALSE</td></tr>\n\t<tr><td>Rosie    </td><td>16.00</td><td>97</td><td> TRUE</td></tr>\n\t<tr><td>Ethan    </td><td> 9.25</td><td>49</td><td>FALSE</td></tr>\n\t<tr><td>Vicky    </td><td> 1.00</td><td> 3</td><td>FALSE</td></tr>\n\t<tr><td>Frederic </td><td>11.50</td><td>53</td><td>FALSE</td></tr>\n\t<tr><td>Jimmie   </td><td> 9.00</td><td>42</td><td>FALSE</td></tr>\n\t<tr><td>Rhonda   </td><td> 8.50</td><td>26</td><td>FALSE</td></tr>\n\t<tr><td>Giovanni </td><td>14.50</td><td>74</td><td> TRUE</td></tr>\n\t<tr><td>Francesca</td><td>15.50</td><td>82</td><td> TRUE</td></tr>\n\t<tr><td>Rajab    </td><td>13.75</td><td>62</td><td> TRUE</td></tr>\n\t<tr><td>Naiyana  </td><td> 9.00</td><td>37</td><td>FALSE</td></tr>\n\t<tr><td>Kian     </td><td> 8.00</td><td>15</td><td>FALSE</td></tr>\n\t<tr><td>Jenny    </td><td>15.50</td><td>70</td><td> TRUE</td></tr>\n\t<tr><td>Jakeem   </td><td> 8.00</td><td>27</td><td>FALSE</td></tr>\n\t<tr><td>Helena   </td><td> 9.00</td><td>36</td><td>FALSE</td></tr>\n\t<tr><td>Ismat    </td><td> 6.00</td><td>35</td><td>FALSE</td></tr>\n\t<tr><td>Anila    </td><td>10.00</td><td>48</td><td>FALSE</td></tr>\n\t<tr><td>Skye     </td><td>12.00</td><td>52</td><td>FALSE</td></tr>\n\t<tr><td>Daniel   </td><td>12.50</td><td>63</td><td> TRUE</td></tr>\n\t<tr><td>Aisha    </td><td>12.00</td><td>64</td><td> TRUE</td></tr>\n</tbody>\n</table>\n",
            "text/markdown": "\nA tibble: 22 × 4\n\n| Name &lt;chr&gt; | StudyHours &lt;dbl&gt; | Grade &lt;dbl&gt; | Pass &lt;lgl&gt; |\n|---|---|---|---|\n| Dan       | 10.00 | 50 | FALSE |\n| Joann     | 11.50 | 50 | FALSE |\n| Pedro     |  9.00 | 47 | FALSE |\n| Rosie     | 16.00 | 97 |  TRUE |\n| Ethan     |  9.25 | 49 | FALSE |\n| Vicky     |  1.00 |  3 | FALSE |\n| Frederic  | 11.50 | 53 | FALSE |\n| Jimmie    |  9.00 | 42 | FALSE |\n| Rhonda    |  8.50 | 26 | FALSE |\n| Giovanni  | 14.50 | 74 |  TRUE |\n| Francesca | 15.50 | 82 |  TRUE |\n| Rajab     | 13.75 | 62 |  TRUE |\n| Naiyana   |  9.00 | 37 | FALSE |\n| Kian      |  8.00 | 15 | FALSE |\n| Jenny     | 15.50 | 70 |  TRUE |\n| Jakeem    |  8.00 | 27 | FALSE |\n| Helena    |  9.00 | 36 | FALSE |\n| Ismat     |  6.00 | 35 | FALSE |\n| Anila     | 10.00 | 48 | FALSE |\n| Skye      | 12.00 | 52 | FALSE |\n| Daniel    | 12.50 | 63 |  TRUE |\n| Aisha     | 12.00 | 64 |  TRUE |\n\n",
            "text/latex": "A tibble: 22 × 4\n\\begin{tabular}{llll}\n Name & StudyHours & Grade & Pass\\\\\n <chr> & <dbl> & <dbl> & <lgl>\\\\\n\\hline\n\t Dan       & 10.00 & 50 & FALSE\\\\\n\t Joann     & 11.50 & 50 & FALSE\\\\\n\t Pedro     &  9.00 & 47 & FALSE\\\\\n\t Rosie     & 16.00 & 97 &  TRUE\\\\\n\t Ethan     &  9.25 & 49 & FALSE\\\\\n\t Vicky     &  1.00 &  3 & FALSE\\\\\n\t Frederic  & 11.50 & 53 & FALSE\\\\\n\t Jimmie    &  9.00 & 42 & FALSE\\\\\n\t Rhonda    &  8.50 & 26 & FALSE\\\\\n\t Giovanni  & 14.50 & 74 &  TRUE\\\\\n\t Francesca & 15.50 & 82 &  TRUE\\\\\n\t Rajab     & 13.75 & 62 &  TRUE\\\\\n\t Naiyana   &  9.00 & 37 & FALSE\\\\\n\t Kian      &  8.00 & 15 & FALSE\\\\\n\t Jenny     & 15.50 & 70 &  TRUE\\\\\n\t Jakeem    &  8.00 & 27 & FALSE\\\\\n\t Helena    &  9.00 & 36 & FALSE\\\\\n\t Ismat     &  6.00 & 35 & FALSE\\\\\n\t Anila     & 10.00 & 48 & FALSE\\\\\n\t Skye      & 12.00 & 52 & FALSE\\\\\n\t Daniel    & 12.50 & 63 &  TRUE\\\\\n\t Aisha     & 12.00 & 64 &  TRUE\\\\\n\\end{tabular}\n",
            "text/plain": "   Name      StudyHours Grade Pass \n1  Dan       10.00      50    FALSE\n2  Joann     11.50      50    FALSE\n3  Pedro      9.00      47    FALSE\n4  Rosie     16.00      97     TRUE\n5  Ethan      9.25      49    FALSE\n6  Vicky      1.00       3    FALSE\n7  Frederic  11.50      53    FALSE\n8  Jimmie     9.00      42    FALSE\n9  Rhonda     8.50      26    FALSE\n10 Giovanni  14.50      74     TRUE\n11 Francesca 15.50      82     TRUE\n12 Rajab     13.75      62     TRUE\n13 Naiyana    9.00      37    FALSE\n14 Kian       8.00      15    FALSE\n15 Jenny     15.50      70     TRUE\n16 Jakeem     8.00      27    FALSE\n17 Helena     9.00      36    FALSE\n18 Ismat      6.00      35    FALSE\n19 Anila     10.00      48    FALSE\n20 Skye      12.00      52    FALSE\n21 Daniel    12.50      63     TRUE\n22 Aisha     12.00      64     TRUE"
          },
          "metadata": {}
        }
      ],
      "execution_count": 21,
      "metadata": {}
    },
    {
      "cell_type": "markdown",
      "source": [
        "You've now added a column **Pass** of type `lgl`.\n",
        "\n",
        "-   `lgl` stands for logical, vectors that contain only `TRUE` or `FALSE`.\n",
        "\n",
        "#### Grouped summaries\n",
        "\n",
        "Data frames are designed for rectangular data, and you can use them to perform many of the kinds of data analytics operations that you can do in a relational database, such as grouping and aggregating tables of data. In R, you achieve this by using `dplyr::group_by() %>% summarize()`.\n",
        "\n",
        "-   `dplyr::group_by()` changes the unit of analysis from the complete dataset to individual groups.\n",
        "\n",
        "-   `dplyr::summarize()` creates a new data frame for summary statistics that you've specified.\n",
        "\n",
        "For example, you can use `dplyr::group_by() %>% summarize()` to group the student data into groups based on the **Pass** column, and then you can find the mean study time and grade for the groups of students who passed and failed the course.\n"
      ],
      "metadata": {}
    },
    {
      "cell_type": "code",
      "source": [
        "# Mean study time and grade for students who passed or failed the course\n",
        "students %>% \n",
        "  group_by(Pass) %>% \n",
        "  summarise(mean_study = mean(StudyHours), mean_grade = mean(Grade))\n"
      ],
      "outputs": [
        {
          "output_type": "display_data",
          "data": {
            "text/html": "<table class=\"dataframe\">\n<caption>A tibble: 2 × 3</caption>\n<thead>\n\t<tr><th scope=col>Pass</th><th scope=col>mean_study</th><th scope=col>mean_grade</th></tr>\n\t<tr><th scope=col>&lt;lgl&gt;</th><th scope=col>&lt;dbl&gt;</th><th scope=col>&lt;dbl&gt;</th></tr>\n</thead>\n<tbody>\n\t<tr><td>FALSE</td><td> 8.783333</td><td>38.00000</td></tr>\n\t<tr><td> TRUE</td><td>14.250000</td><td>73.14286</td></tr>\n</tbody>\n</table>\n",
            "text/markdown": "\nA tibble: 2 × 3\n\n| Pass &lt;lgl&gt; | mean_study &lt;dbl&gt; | mean_grade &lt;dbl&gt; |\n|---|---|---|\n| FALSE |  8.783333 | 38.00000 |\n|  TRUE | 14.250000 | 73.14286 |\n\n",
            "text/latex": "A tibble: 2 × 3\n\\begin{tabular}{lll}\n Pass & mean\\_study & mean\\_grade\\\\\n <lgl> & <dbl> & <dbl>\\\\\n\\hline\n\t FALSE &  8.783333 & 38.00000\\\\\n\t  TRUE & 14.250000 & 73.14286\\\\\n\\end{tabular}\n",
            "text/plain": "  Pass  mean_study mean_grade\n1 FALSE  8.783333  38.00000  \n2  TRUE 14.250000  73.14286  "
          },
          "metadata": {}
        }
      ],
      "execution_count": 22,
      "metadata": {}
    },
    {
      "cell_type": "markdown",
      "source": [
        "Let's say that you have many numeric columns and still want to apply the `mean` function across them.\n",
        "\n",
        "With `dplyr::across`, it's easy to apply a function across multiple columns. To demonstrate, let's apply `across` to the preceding example.\n"
      ],
      "metadata": {}
    },
    {
      "cell_type": "code",
      "source": [
        "# Mean study time and grade for students who passed or failed the course\n",
        "students %>% \n",
        "  group_by(Pass) %>% \n",
        "  summarise(across(where(is.numeric), mean))\n",
        "  \n"
      ],
      "outputs": [
        {
          "output_type": "display_data",
          "data": {
            "text/html": "<table class=\"dataframe\">\n<caption>A tibble: 2 × 3</caption>\n<thead>\n\t<tr><th scope=col>Pass</th><th scope=col>StudyHours</th><th scope=col>Grade</th></tr>\n\t<tr><th scope=col>&lt;lgl&gt;</th><th scope=col>&lt;dbl&gt;</th><th scope=col>&lt;dbl&gt;</th></tr>\n</thead>\n<tbody>\n\t<tr><td>FALSE</td><td> 8.783333</td><td>38.00000</td></tr>\n\t<tr><td> TRUE</td><td>14.250000</td><td>73.14286</td></tr>\n</tbody>\n</table>\n",
            "text/markdown": "\nA tibble: 2 × 3\n\n| Pass &lt;lgl&gt; | StudyHours &lt;dbl&gt; | Grade &lt;dbl&gt; |\n|---|---|---|\n| FALSE |  8.783333 | 38.00000 |\n|  TRUE | 14.250000 | 73.14286 |\n\n",
            "text/latex": "A tibble: 2 × 3\n\\begin{tabular}{lll}\n Pass & StudyHours & Grade\\\\\n <lgl> & <dbl> & <dbl>\\\\\n\\hline\n\t FALSE &  8.783333 & 38.00000\\\\\n\t  TRUE & 14.250000 & 73.14286\\\\\n\\end{tabular}\n",
            "text/plain": "  Pass  StudyHours Grade   \n1 FALSE  8.783333  38.00000\n2  TRUE 14.250000  73.14286"
          },
          "metadata": {}
        }
      ],
      "execution_count": 23,
      "metadata": {}
    },
    {
      "cell_type": "markdown",
      "source": [
        "What if you want to determine how many students passed or failed? You would have to group your data based on the `Pass` column and then do a tally for each group. `dplyr::count()` wraps all this to give you a nice grouped count like this:\n",
        "\n"
      ],
      "metadata": {}
    },
    {
      "cell_type": "code",
      "source": [
        "# Grouped count for Pass column\n",
        "students %>% \n",
        "  count(Pass)\n"
      ],
      "outputs": [
        {
          "output_type": "display_data",
          "data": {
            "text/html": "<table class=\"dataframe\">\n<caption>A tibble: 2 × 2</caption>\n<thead>\n\t<tr><th scope=col>Pass</th><th scope=col>n</th></tr>\n\t<tr><th scope=col>&lt;lgl&gt;</th><th scope=col>&lt;int&gt;</th></tr>\n</thead>\n<tbody>\n\t<tr><td>FALSE</td><td>15</td></tr>\n\t<tr><td> TRUE</td><td> 7</td></tr>\n</tbody>\n</table>\n",
            "text/markdown": "\nA tibble: 2 × 2\n\n| Pass &lt;lgl&gt; | n &lt;int&gt; |\n|---|---|\n| FALSE | 15 |\n|  TRUE |  7 |\n\n",
            "text/latex": "A tibble: 2 × 2\n\\begin{tabular}{ll}\n Pass & n\\\\\n <lgl> & <int>\\\\\n\\hline\n\t FALSE & 15\\\\\n\t  TRUE &  7\\\\\n\\end{tabular}\n",
            "text/plain": "  Pass  n \n1 FALSE 15\n2  TRUE  7"
          },
          "metadata": {}
        }
      ],
      "execution_count": 24,
      "metadata": {}
    },
    {
      "cell_type": "markdown",
      "source": [
        "Pretty succinct, right?\n",
        "\n",
        "#### Select columns with dplyr::select()\n",
        "\n",
        "You might occasionally be faced with datasets with hundreds of columns, in which case you might want to narrow down to some columns of interest. By using `select()`, you can pick or exclude columns in a data frame.\n",
        "\n",
        "Let's say you want to pick only the **Name** and **StudyHours** columns. Here's how you would approach the problem:\n"
      ],
      "metadata": {}
    },
    {
      "cell_type": "code",
      "source": [
        "# Select the Name and StudyHours  column\n",
        "students %>% \n",
        "  select(Name, StudyHours)\n"
      ],
      "outputs": [
        {
          "output_type": "display_data",
          "data": {
            "text/html": "<table class=\"dataframe\">\n<caption>A tibble: 22 × 2</caption>\n<thead>\n\t<tr><th scope=col>Name</th><th scope=col>StudyHours</th></tr>\n\t<tr><th scope=col>&lt;chr&gt;</th><th scope=col>&lt;dbl&gt;</th></tr>\n</thead>\n<tbody>\n\t<tr><td>Dan      </td><td>10.00</td></tr>\n\t<tr><td>Joann    </td><td>11.50</td></tr>\n\t<tr><td>Pedro    </td><td> 9.00</td></tr>\n\t<tr><td>Rosie    </td><td>16.00</td></tr>\n\t<tr><td>Ethan    </td><td> 9.25</td></tr>\n\t<tr><td>Vicky    </td><td> 1.00</td></tr>\n\t<tr><td>Frederic </td><td>11.50</td></tr>\n\t<tr><td>Jimmie   </td><td> 9.00</td></tr>\n\t<tr><td>Rhonda   </td><td> 8.50</td></tr>\n\t<tr><td>Giovanni </td><td>14.50</td></tr>\n\t<tr><td>Francesca</td><td>15.50</td></tr>\n\t<tr><td>Rajab    </td><td>13.75</td></tr>\n\t<tr><td>Naiyana  </td><td> 9.00</td></tr>\n\t<tr><td>Kian     </td><td> 8.00</td></tr>\n\t<tr><td>Jenny    </td><td>15.50</td></tr>\n\t<tr><td>Jakeem   </td><td> 8.00</td></tr>\n\t<tr><td>Helena   </td><td> 9.00</td></tr>\n\t<tr><td>Ismat    </td><td> 6.00</td></tr>\n\t<tr><td>Anila    </td><td>10.00</td></tr>\n\t<tr><td>Skye     </td><td>12.00</td></tr>\n\t<tr><td>Daniel   </td><td>12.50</td></tr>\n\t<tr><td>Aisha    </td><td>12.00</td></tr>\n</tbody>\n</table>\n",
            "text/markdown": "\nA tibble: 22 × 2\n\n| Name &lt;chr&gt; | StudyHours &lt;dbl&gt; |\n|---|---|\n| Dan       | 10.00 |\n| Joann     | 11.50 |\n| Pedro     |  9.00 |\n| Rosie     | 16.00 |\n| Ethan     |  9.25 |\n| Vicky     |  1.00 |\n| Frederic  | 11.50 |\n| Jimmie    |  9.00 |\n| Rhonda    |  8.50 |\n| Giovanni  | 14.50 |\n| Francesca | 15.50 |\n| Rajab     | 13.75 |\n| Naiyana   |  9.00 |\n| Kian      |  8.00 |\n| Jenny     | 15.50 |\n| Jakeem    |  8.00 |\n| Helena    |  9.00 |\n| Ismat     |  6.00 |\n| Anila     | 10.00 |\n| Skye      | 12.00 |\n| Daniel    | 12.50 |\n| Aisha     | 12.00 |\n\n",
            "text/latex": "A tibble: 22 × 2\n\\begin{tabular}{ll}\n Name & StudyHours\\\\\n <chr> & <dbl>\\\\\n\\hline\n\t Dan       & 10.00\\\\\n\t Joann     & 11.50\\\\\n\t Pedro     &  9.00\\\\\n\t Rosie     & 16.00\\\\\n\t Ethan     &  9.25\\\\\n\t Vicky     &  1.00\\\\\n\t Frederic  & 11.50\\\\\n\t Jimmie    &  9.00\\\\\n\t Rhonda    &  8.50\\\\\n\t Giovanni  & 14.50\\\\\n\t Francesca & 15.50\\\\\n\t Rajab     & 13.75\\\\\n\t Naiyana   &  9.00\\\\\n\t Kian      &  8.00\\\\\n\t Jenny     & 15.50\\\\\n\t Jakeem    &  8.00\\\\\n\t Helena    &  9.00\\\\\n\t Ismat     &  6.00\\\\\n\t Anila     & 10.00\\\\\n\t Skye      & 12.00\\\\\n\t Daniel    & 12.50\\\\\n\t Aisha     & 12.00\\\\\n\\end{tabular}\n",
            "text/plain": "   Name      StudyHours\n1  Dan       10.00     \n2  Joann     11.50     \n3  Pedro      9.00     \n4  Rosie     16.00     \n5  Ethan      9.25     \n6  Vicky      1.00     \n7  Frederic  11.50     \n8  Jimmie     9.00     \n9  Rhonda     8.50     \n10 Giovanni  14.50     \n11 Francesca 15.50     \n12 Rajab     13.75     \n13 Naiyana    9.00     \n14 Kian       8.00     \n15 Jenny     15.50     \n16 Jakeem     8.00     \n17 Helena     9.00     \n18 Ismat      6.00     \n19 Anila     10.00     \n20 Skye      12.00     \n21 Daniel    12.50     \n22 Aisha     12.00     "
          },
          "metadata": {}
        }
      ],
      "execution_count": 25,
      "metadata": {}
    },
    {
      "cell_type": "markdown",
      "source": [
        "In some scenarios, it might be more convenient to drop a specific column rather than select all the other columns. You do this by using the `!` operator.\n",
        "\n",
        "For example, let's keep all but the **StudyHours** column:\n"
      ],
      "metadata": {}
    },
    {
      "cell_type": "code",
      "source": [
        "# Keep all columns except the StudyHours column\n",
        "select(students, !StudyHours)\n"
      ],
      "outputs": [
        {
          "output_type": "display_data",
          "data": {
            "text/html": "<table class=\"dataframe\">\n<caption>A tibble: 22 × 3</caption>\n<thead>\n\t<tr><th scope=col>Name</th><th scope=col>Grade</th><th scope=col>Pass</th></tr>\n\t<tr><th scope=col>&lt;chr&gt;</th><th scope=col>&lt;dbl&gt;</th><th scope=col>&lt;lgl&gt;</th></tr>\n</thead>\n<tbody>\n\t<tr><td>Dan      </td><td>50</td><td>FALSE</td></tr>\n\t<tr><td>Joann    </td><td>50</td><td>FALSE</td></tr>\n\t<tr><td>Pedro    </td><td>47</td><td>FALSE</td></tr>\n\t<tr><td>Rosie    </td><td>97</td><td> TRUE</td></tr>\n\t<tr><td>Ethan    </td><td>49</td><td>FALSE</td></tr>\n\t<tr><td>Vicky    </td><td> 3</td><td>FALSE</td></tr>\n\t<tr><td>Frederic </td><td>53</td><td>FALSE</td></tr>\n\t<tr><td>Jimmie   </td><td>42</td><td>FALSE</td></tr>\n\t<tr><td>Rhonda   </td><td>26</td><td>FALSE</td></tr>\n\t<tr><td>Giovanni </td><td>74</td><td> TRUE</td></tr>\n\t<tr><td>Francesca</td><td>82</td><td> TRUE</td></tr>\n\t<tr><td>Rajab    </td><td>62</td><td> TRUE</td></tr>\n\t<tr><td>Naiyana  </td><td>37</td><td>FALSE</td></tr>\n\t<tr><td>Kian     </td><td>15</td><td>FALSE</td></tr>\n\t<tr><td>Jenny    </td><td>70</td><td> TRUE</td></tr>\n\t<tr><td>Jakeem   </td><td>27</td><td>FALSE</td></tr>\n\t<tr><td>Helena   </td><td>36</td><td>FALSE</td></tr>\n\t<tr><td>Ismat    </td><td>35</td><td>FALSE</td></tr>\n\t<tr><td>Anila    </td><td>48</td><td>FALSE</td></tr>\n\t<tr><td>Skye     </td><td>52</td><td>FALSE</td></tr>\n\t<tr><td>Daniel   </td><td>63</td><td> TRUE</td></tr>\n\t<tr><td>Aisha    </td><td>64</td><td> TRUE</td></tr>\n</tbody>\n</table>\n",
            "text/markdown": "\nA tibble: 22 × 3\n\n| Name &lt;chr&gt; | Grade &lt;dbl&gt; | Pass &lt;lgl&gt; |\n|---|---|---|\n| Dan       | 50 | FALSE |\n| Joann     | 50 | FALSE |\n| Pedro     | 47 | FALSE |\n| Rosie     | 97 |  TRUE |\n| Ethan     | 49 | FALSE |\n| Vicky     |  3 | FALSE |\n| Frederic  | 53 | FALSE |\n| Jimmie    | 42 | FALSE |\n| Rhonda    | 26 | FALSE |\n| Giovanni  | 74 |  TRUE |\n| Francesca | 82 |  TRUE |\n| Rajab     | 62 |  TRUE |\n| Naiyana   | 37 | FALSE |\n| Kian      | 15 | FALSE |\n| Jenny     | 70 |  TRUE |\n| Jakeem    | 27 | FALSE |\n| Helena    | 36 | FALSE |\n| Ismat     | 35 | FALSE |\n| Anila     | 48 | FALSE |\n| Skye      | 52 | FALSE |\n| Daniel    | 63 |  TRUE |\n| Aisha     | 64 |  TRUE |\n\n",
            "text/latex": "A tibble: 22 × 3\n\\begin{tabular}{lll}\n Name & Grade & Pass\\\\\n <chr> & <dbl> & <lgl>\\\\\n\\hline\n\t Dan       & 50 & FALSE\\\\\n\t Joann     & 50 & FALSE\\\\\n\t Pedro     & 47 & FALSE\\\\\n\t Rosie     & 97 &  TRUE\\\\\n\t Ethan     & 49 & FALSE\\\\\n\t Vicky     &  3 & FALSE\\\\\n\t Frederic  & 53 & FALSE\\\\\n\t Jimmie    & 42 & FALSE\\\\\n\t Rhonda    & 26 & FALSE\\\\\n\t Giovanni  & 74 &  TRUE\\\\\n\t Francesca & 82 &  TRUE\\\\\n\t Rajab     & 62 &  TRUE\\\\\n\t Naiyana   & 37 & FALSE\\\\\n\t Kian      & 15 & FALSE\\\\\n\t Jenny     & 70 &  TRUE\\\\\n\t Jakeem    & 27 & FALSE\\\\\n\t Helena    & 36 & FALSE\\\\\n\t Ismat     & 35 & FALSE\\\\\n\t Anila     & 48 & FALSE\\\\\n\t Skye      & 52 & FALSE\\\\\n\t Daniel    & 63 &  TRUE\\\\\n\t Aisha     & 64 &  TRUE\\\\\n\\end{tabular}\n",
            "text/plain": "   Name      Grade Pass \n1  Dan       50    FALSE\n2  Joann     50    FALSE\n3  Pedro     47    FALSE\n4  Rosie     97     TRUE\n5  Ethan     49    FALSE\n6  Vicky      3    FALSE\n7  Frederic  53    FALSE\n8  Jimmie    42    FALSE\n9  Rhonda    26    FALSE\n10 Giovanni  74     TRUE\n11 Francesca 82     TRUE\n12 Rajab     62     TRUE\n13 Naiyana   37    FALSE\n14 Kian      15    FALSE\n15 Jenny     70     TRUE\n16 Jakeem    27    FALSE\n17 Helena    36    FALSE\n18 Ismat     35    FALSE\n19 Anila     48    FALSE\n20 Skye      52    FALSE\n21 Daniel    63     TRUE\n22 Aisha     64     TRUE"
          },
          "metadata": {}
        }
      ],
      "execution_count": 26,
      "metadata": {}
    },
    {
      "cell_type": "markdown",
      "source": [
        "Good job!\n",
        "\n",
        "`select` also has a number of helpers that allow you to select variables based on their properties. For example, you might be interested only in columns where the observations are *numeric*. Here's how to do it:\n"
      ],
      "metadata": {}
    },
    {
      "cell_type": "code",
      "source": [
        "# Select numeric columns\n",
        "students %>% \n",
        "  select(where(is.numeric))\n"
      ],
      "outputs": [
        {
          "output_type": "display_data",
          "data": {
            "text/html": "<table class=\"dataframe\">\n<caption>A tibble: 22 × 2</caption>\n<thead>\n\t<tr><th scope=col>StudyHours</th><th scope=col>Grade</th></tr>\n\t<tr><th scope=col>&lt;dbl&gt;</th><th scope=col>&lt;dbl&gt;</th></tr>\n</thead>\n<tbody>\n\t<tr><td>10.00</td><td>50</td></tr>\n\t<tr><td>11.50</td><td>50</td></tr>\n\t<tr><td> 9.00</td><td>47</td></tr>\n\t<tr><td>16.00</td><td>97</td></tr>\n\t<tr><td> 9.25</td><td>49</td></tr>\n\t<tr><td> 1.00</td><td> 3</td></tr>\n\t<tr><td>11.50</td><td>53</td></tr>\n\t<tr><td> 9.00</td><td>42</td></tr>\n\t<tr><td> 8.50</td><td>26</td></tr>\n\t<tr><td>14.50</td><td>74</td></tr>\n\t<tr><td>15.50</td><td>82</td></tr>\n\t<tr><td>13.75</td><td>62</td></tr>\n\t<tr><td> 9.00</td><td>37</td></tr>\n\t<tr><td> 8.00</td><td>15</td></tr>\n\t<tr><td>15.50</td><td>70</td></tr>\n\t<tr><td> 8.00</td><td>27</td></tr>\n\t<tr><td> 9.00</td><td>36</td></tr>\n\t<tr><td> 6.00</td><td>35</td></tr>\n\t<tr><td>10.00</td><td>48</td></tr>\n\t<tr><td>12.00</td><td>52</td></tr>\n\t<tr><td>12.50</td><td>63</td></tr>\n\t<tr><td>12.00</td><td>64</td></tr>\n</tbody>\n</table>\n",
            "text/markdown": "\nA tibble: 22 × 2\n\n| StudyHours &lt;dbl&gt; | Grade &lt;dbl&gt; |\n|---|---|\n| 10.00 | 50 |\n| 11.50 | 50 |\n|  9.00 | 47 |\n| 16.00 | 97 |\n|  9.25 | 49 |\n|  1.00 |  3 |\n| 11.50 | 53 |\n|  9.00 | 42 |\n|  8.50 | 26 |\n| 14.50 | 74 |\n| 15.50 | 82 |\n| 13.75 | 62 |\n|  9.00 | 37 |\n|  8.00 | 15 |\n| 15.50 | 70 |\n|  8.00 | 27 |\n|  9.00 | 36 |\n|  6.00 | 35 |\n| 10.00 | 48 |\n| 12.00 | 52 |\n| 12.50 | 63 |\n| 12.00 | 64 |\n\n",
            "text/latex": "A tibble: 22 × 2\n\\begin{tabular}{ll}\n StudyHours & Grade\\\\\n <dbl> & <dbl>\\\\\n\\hline\n\t 10.00 & 50\\\\\n\t 11.50 & 50\\\\\n\t  9.00 & 47\\\\\n\t 16.00 & 97\\\\\n\t  9.25 & 49\\\\\n\t  1.00 &  3\\\\\n\t 11.50 & 53\\\\\n\t  9.00 & 42\\\\\n\t  8.50 & 26\\\\\n\t 14.50 & 74\\\\\n\t 15.50 & 82\\\\\n\t 13.75 & 62\\\\\n\t  9.00 & 37\\\\\n\t  8.00 & 15\\\\\n\t 15.50 & 70\\\\\n\t  8.00 & 27\\\\\n\t  9.00 & 36\\\\\n\t  6.00 & 35\\\\\n\t 10.00 & 48\\\\\n\t 12.00 & 52\\\\\n\t 12.50 & 63\\\\\n\t 12.00 & 64\\\\\n\\end{tabular}\n",
            "text/plain": "   StudyHours Grade\n1  10.00      50   \n2  11.50      50   \n3   9.00      47   \n4  16.00      97   \n5   9.25      49   \n6   1.00       3   \n7  11.50      53   \n8   9.00      42   \n9   8.50      26   \n10 14.50      74   \n11 15.50      82   \n12 13.75      62   \n13  9.00      37   \n14  8.00      15   \n15 15.50      70   \n16  8.00      27   \n17  9.00      36   \n18  6.00      35   \n19 10.00      48   \n20 12.00      52   \n21 12.50      63   \n22 12.00      64   "
          },
          "metadata": {}
        }
      ],
      "execution_count": 27,
      "metadata": {}
    },
    {
      "cell_type": "markdown",
      "source": [
        "`select()` can make working with datasets with many variables more manageable.\n",
        "\n",
        "#### Order rows by using dplyr::arrange()\n",
        "\n",
        "Let's wrap up this adventure by sorting the student data by Grade, in descending order, and then assigning the resulting sorted data frame to the variable name *students_sorted*.\n",
        "\n",
        "To do this, you'll need to reach into dplyr and take one more verb: `arrange()`, which orders the rows of a data frame by column values.\n"
      ],
      "metadata": {}
    },
    {
      "cell_type": "code",
      "source": [
        "# Create a data frame with the data sorted by Grade (descending)\n",
        "students_sorted <- students %>%\n",
        "  # Sort by descending order\n",
        "  arrange(desc(Grade))\n",
        "\n",
        "# Print data frame\n",
        "students_sorted\n"
      ],
      "outputs": [
        {
          "output_type": "display_data",
          "data": {
            "text/html": "<table class=\"dataframe\">\n<caption>A tibble: 22 × 4</caption>\n<thead>\n\t<tr><th scope=col>Name</th><th scope=col>StudyHours</th><th scope=col>Grade</th><th scope=col>Pass</th></tr>\n\t<tr><th scope=col>&lt;chr&gt;</th><th scope=col>&lt;dbl&gt;</th><th scope=col>&lt;dbl&gt;</th><th scope=col>&lt;lgl&gt;</th></tr>\n</thead>\n<tbody>\n\t<tr><td>Rosie    </td><td>16.00</td><td>97</td><td> TRUE</td></tr>\n\t<tr><td>Francesca</td><td>15.50</td><td>82</td><td> TRUE</td></tr>\n\t<tr><td>Giovanni </td><td>14.50</td><td>74</td><td> TRUE</td></tr>\n\t<tr><td>Jenny    </td><td>15.50</td><td>70</td><td> TRUE</td></tr>\n\t<tr><td>Aisha    </td><td>12.00</td><td>64</td><td> TRUE</td></tr>\n\t<tr><td>Daniel   </td><td>12.50</td><td>63</td><td> TRUE</td></tr>\n\t<tr><td>Rajab    </td><td>13.75</td><td>62</td><td> TRUE</td></tr>\n\t<tr><td>Frederic </td><td>11.50</td><td>53</td><td>FALSE</td></tr>\n\t<tr><td>Skye     </td><td>12.00</td><td>52</td><td>FALSE</td></tr>\n\t<tr><td>Dan      </td><td>10.00</td><td>50</td><td>FALSE</td></tr>\n\t<tr><td>Joann    </td><td>11.50</td><td>50</td><td>FALSE</td></tr>\n\t<tr><td>Ethan    </td><td> 9.25</td><td>49</td><td>FALSE</td></tr>\n\t<tr><td>Anila    </td><td>10.00</td><td>48</td><td>FALSE</td></tr>\n\t<tr><td>Pedro    </td><td> 9.00</td><td>47</td><td>FALSE</td></tr>\n\t<tr><td>Jimmie   </td><td> 9.00</td><td>42</td><td>FALSE</td></tr>\n\t<tr><td>Naiyana  </td><td> 9.00</td><td>37</td><td>FALSE</td></tr>\n\t<tr><td>Helena   </td><td> 9.00</td><td>36</td><td>FALSE</td></tr>\n\t<tr><td>Ismat    </td><td> 6.00</td><td>35</td><td>FALSE</td></tr>\n\t<tr><td>Jakeem   </td><td> 8.00</td><td>27</td><td>FALSE</td></tr>\n\t<tr><td>Rhonda   </td><td> 8.50</td><td>26</td><td>FALSE</td></tr>\n\t<tr><td>Kian     </td><td> 8.00</td><td>15</td><td>FALSE</td></tr>\n\t<tr><td>Vicky    </td><td> 1.00</td><td> 3</td><td>FALSE</td></tr>\n</tbody>\n</table>\n",
            "text/markdown": "\nA tibble: 22 × 4\n\n| Name &lt;chr&gt; | StudyHours &lt;dbl&gt; | Grade &lt;dbl&gt; | Pass &lt;lgl&gt; |\n|---|---|---|---|\n| Rosie     | 16.00 | 97 |  TRUE |\n| Francesca | 15.50 | 82 |  TRUE |\n| Giovanni  | 14.50 | 74 |  TRUE |\n| Jenny     | 15.50 | 70 |  TRUE |\n| Aisha     | 12.00 | 64 |  TRUE |\n| Daniel    | 12.50 | 63 |  TRUE |\n| Rajab     | 13.75 | 62 |  TRUE |\n| Frederic  | 11.50 | 53 | FALSE |\n| Skye      | 12.00 | 52 | FALSE |\n| Dan       | 10.00 | 50 | FALSE |\n| Joann     | 11.50 | 50 | FALSE |\n| Ethan     |  9.25 | 49 | FALSE |\n| Anila     | 10.00 | 48 | FALSE |\n| Pedro     |  9.00 | 47 | FALSE |\n| Jimmie    |  9.00 | 42 | FALSE |\n| Naiyana   |  9.00 | 37 | FALSE |\n| Helena    |  9.00 | 36 | FALSE |\n| Ismat     |  6.00 | 35 | FALSE |\n| Jakeem    |  8.00 | 27 | FALSE |\n| Rhonda    |  8.50 | 26 | FALSE |\n| Kian      |  8.00 | 15 | FALSE |\n| Vicky     |  1.00 |  3 | FALSE |\n\n",
            "text/latex": "A tibble: 22 × 4\n\\begin{tabular}{llll}\n Name & StudyHours & Grade & Pass\\\\\n <chr> & <dbl> & <dbl> & <lgl>\\\\\n\\hline\n\t Rosie     & 16.00 & 97 &  TRUE\\\\\n\t Francesca & 15.50 & 82 &  TRUE\\\\\n\t Giovanni  & 14.50 & 74 &  TRUE\\\\\n\t Jenny     & 15.50 & 70 &  TRUE\\\\\n\t Aisha     & 12.00 & 64 &  TRUE\\\\\n\t Daniel    & 12.50 & 63 &  TRUE\\\\\n\t Rajab     & 13.75 & 62 &  TRUE\\\\\n\t Frederic  & 11.50 & 53 & FALSE\\\\\n\t Skye      & 12.00 & 52 & FALSE\\\\\n\t Dan       & 10.00 & 50 & FALSE\\\\\n\t Joann     & 11.50 & 50 & FALSE\\\\\n\t Ethan     &  9.25 & 49 & FALSE\\\\\n\t Anila     & 10.00 & 48 & FALSE\\\\\n\t Pedro     &  9.00 & 47 & FALSE\\\\\n\t Jimmie    &  9.00 & 42 & FALSE\\\\\n\t Naiyana   &  9.00 & 37 & FALSE\\\\\n\t Helena    &  9.00 & 36 & FALSE\\\\\n\t Ismat     &  6.00 & 35 & FALSE\\\\\n\t Jakeem    &  8.00 & 27 & FALSE\\\\\n\t Rhonda    &  8.50 & 26 & FALSE\\\\\n\t Kian      &  8.00 & 15 & FALSE\\\\\n\t Vicky     &  1.00 &  3 & FALSE\\\\\n\\end{tabular}\n",
            "text/plain": "   Name      StudyHours Grade Pass \n1  Rosie     16.00      97     TRUE\n2  Francesca 15.50      82     TRUE\n3  Giovanni  14.50      74     TRUE\n4  Jenny     15.50      70     TRUE\n5  Aisha     12.00      64     TRUE\n6  Daniel    12.50      63     TRUE\n7  Rajab     13.75      62     TRUE\n8  Frederic  11.50      53    FALSE\n9  Skye      12.00      52    FALSE\n10 Dan       10.00      50    FALSE\n11 Joann     11.50      50    FALSE\n12 Ethan      9.25      49    FALSE\n13 Anila     10.00      48    FALSE\n14 Pedro      9.00      47    FALSE\n15 Jimmie     9.00      42    FALSE\n16 Naiyana    9.00      37    FALSE\n17 Helena     9.00      36    FALSE\n18 Ismat      6.00      35    FALSE\n19 Jakeem     8.00      27    FALSE\n20 Rhonda     8.50      26    FALSE\n21 Kian       8.00      15    FALSE\n22 Vicky      1.00       3    FALSE"
          },
          "metadata": {}
        }
      ],
      "execution_count": 28,
      "metadata": {}
    },
    {
      "cell_type": "markdown",
      "source": [
        "> To get help on any function (`arrange()`, for example), run the following command:\n",
        ">\n",
        "> `?arrange`\n",
        "\n",
        "## Summary\n",
        "\n",
        "That's it for now!\n",
        "\n",
        "It's rare in large, complex projects that data scientists manage to arrange their data as precisely as they'd like.\n",
        "\n",
        "Fortunately, dplyr provides simple `verbs`, or functions that correspond to the most common data manipulation tasks, to help you translate your thoughts into code.\n",
        "\n",
        "By using the six verbs that learned in this exercise (`filter`, `arrange`, `select`, `mutate`, `group_by`, and `summarise`), you're well on your way to solving the vast majority of data manipulation challenges.\n",
        "\n",
        "In your next workbook, you'll look at how to create graphs and explore data in additional interesting ways.\n",
        "\n",
        "## Further reading\n",
        "\n",
        "To learn more about the R packages you explored in this notebook, see:\n",
        "\n",
        "-   [Tidyverse packages](https://www.tidyverse.org/packages/)\n"
      ],
      "metadata": {}
    }
  ],
  "metadata": {
    "anaconda-cloud": "",
    "kernelspec": {
      "name": "ir",
      "language": "R",
      "display_name": "R"
    },
    "language_info": {
      "name": "R",
      "codemirror_mode": "r",
      "pygments_lexer": "r",
      "mimetype": "text/x-r-source",
      "file_extension": ".r",
      "version": "4.1.3"
    },
    "kernel_info": {
      "name": "ir"
    },
    "nteract": {
      "version": "nteract-front-end@1.0.0"
    }
  },
  "nbformat": 4,
  "nbformat_minor": 1
}