{
 "cells": [
  {
   "cell_type": "markdown",
   "metadata": {},
   "source": [
    "# Analyzing Hacker News Dataset\n",
    "\n",
    "- author: Victor Omondi\n",
    "- toc: true\n",
    "- comments: true\n",
    "- categories: [data-analysis, hacker-news]\n",
    "- image: images/ahnd-shield.gif\n",
    "\n",
    "![Hacker News](https://s3.amazonaws.com/dq-content/354/hacker_news.jpg)\n",
    "\n",
    "# Introduction\n",
    "\n",
    "## About Hacker News\n",
    "\n",
    "Hacker News is a site started by the startup incubator [Y Combinator](https://www.ycombinator.com/), where user-submitted stories (known as \"stories\") are voted and commented upon, similar to reddit. Hacker News is extremely popular in technology and startup circles; stories that make it to the top of Hacker News' listings can get hundreds of thousands of visitors.\n",
    "\n",
    "## The dataset\n",
    "\n",
    "The dataset we will be working with is based off this [CSV](https://www.kaggle.com/hacker-news/hacker-news-posts) of Hacker News stories from September 2015 to September 2016. The columns in the dataset are explained below:\n",
    "\n",
    "* `id`: The unique identifier from Hacker News for the story\n",
    "* `title`: The title of the story\n",
    "* `url`: The URL that the stories links to, if the story has a URL\n",
    "* `num_points`: The number of points the story acquired, calculated as the total number of upvotes minus the total number of downvotes\n",
    "* `num_comments`: The number of comments that were made on the story\n",
    "* `author`: The username of the person who submitted the story\n",
    "* `created_at`: The date and time at which the story was submitted\n",
    "\n",
    "For analysis purposes, we have reduced the dataset from the almost 300,000 rows in its original form to approximately 20,000 rows by removing all submissions that did not receive any comments, and then randomly sampling from the remaining submissions.\n",
    "\n",
    "Let's start by reading our Hacker News dataset into a pandas dataframe.\n",
    "\n",
    "# Import Libraries"
   ]
  },
  {
   "cell_type": "code",
   "execution_count": 1,
   "metadata": {},
   "outputs": [],
   "source": [
    "import pandas as pd\n",
    "import re"
   ]
  },
  {
   "cell_type": "markdown",
   "metadata": {},
   "source": [
    "# Read the Dataset"
   ]
  },
  {
   "cell_type": "code",
   "execution_count": 2,
   "metadata": {},
   "outputs": [
    {
     "data": {
      "text/html": [
       "<div>\n",
       "<style scoped>\n",
       "    .dataframe tbody tr th:only-of-type {\n",
       "        vertical-align: middle;\n",
       "    }\n",
       "\n",
       "    .dataframe tbody tr th {\n",
       "        vertical-align: top;\n",
       "    }\n",
       "\n",
       "    .dataframe thead th {\n",
       "        text-align: right;\n",
       "    }\n",
       "</style>\n",
       "<table border=\"1\" class=\"dataframe\">\n",
       "  <thead>\n",
       "    <tr style=\"text-align: right;\">\n",
       "      <th></th>\n",
       "      <th>id</th>\n",
       "      <th>title</th>\n",
       "      <th>url</th>\n",
       "      <th>num_points</th>\n",
       "      <th>num_comments</th>\n",
       "      <th>author</th>\n",
       "      <th>created_at</th>\n",
       "    </tr>\n",
       "  </thead>\n",
       "  <tbody>\n",
       "    <tr>\n",
       "      <th>0</th>\n",
       "      <td>12224879</td>\n",
       "      <td>Interactive Dynamic Video</td>\n",
       "      <td>http://www.interactivedynamicvideo.com/</td>\n",
       "      <td>386</td>\n",
       "      <td>52</td>\n",
       "      <td>ne0phyte</td>\n",
       "      <td>8/4/2016 11:52</td>\n",
       "    </tr>\n",
       "    <tr>\n",
       "      <th>1</th>\n",
       "      <td>11964716</td>\n",
       "      <td>Florida DJs May Face Felony for April Fools' W...</td>\n",
       "      <td>http://www.thewire.com/entertainment/2013/04/f...</td>\n",
       "      <td>2</td>\n",
       "      <td>1</td>\n",
       "      <td>vezycash</td>\n",
       "      <td>6/23/2016 22:20</td>\n",
       "    </tr>\n",
       "    <tr>\n",
       "      <th>2</th>\n",
       "      <td>11919867</td>\n",
       "      <td>Technology ventures: From Idea to Enterprise</td>\n",
       "      <td>https://www.amazon.com/Technology-Ventures-Ent...</td>\n",
       "      <td>3</td>\n",
       "      <td>1</td>\n",
       "      <td>hswarna</td>\n",
       "      <td>6/17/2016 0:01</td>\n",
       "    </tr>\n",
       "    <tr>\n",
       "      <th>3</th>\n",
       "      <td>10301696</td>\n",
       "      <td>Note by Note: The Making of Steinway L1037 (2007)</td>\n",
       "      <td>http://www.nytimes.com/2007/11/07/movies/07ste...</td>\n",
       "      <td>8</td>\n",
       "      <td>2</td>\n",
       "      <td>walterbell</td>\n",
       "      <td>9/30/2015 4:12</td>\n",
       "    </tr>\n",
       "    <tr>\n",
       "      <th>4</th>\n",
       "      <td>10482257</td>\n",
       "      <td>Title II kills investment? Comcast and other I...</td>\n",
       "      <td>http://arstechnica.com/business/2015/10/comcas...</td>\n",
       "      <td>53</td>\n",
       "      <td>22</td>\n",
       "      <td>Deinos</td>\n",
       "      <td>10/31/2015 9:48</td>\n",
       "    </tr>\n",
       "  </tbody>\n",
       "</table>\n",
       "</div>"
      ],
      "text/plain": [
       "         id                                              title  \\\n",
       "0  12224879                          Interactive Dynamic Video   \n",
       "1  11964716  Florida DJs May Face Felony for April Fools' W...   \n",
       "2  11919867       Technology ventures: From Idea to Enterprise   \n",
       "3  10301696  Note by Note: The Making of Steinway L1037 (2007)   \n",
       "4  10482257  Title II kills investment? Comcast and other I...   \n",
       "\n",
       "                                                 url  num_points  \\\n",
       "0            http://www.interactivedynamicvideo.com/         386   \n",
       "1  http://www.thewire.com/entertainment/2013/04/f...           2   \n",
       "2  https://www.amazon.com/Technology-Ventures-Ent...           3   \n",
       "3  http://www.nytimes.com/2007/11/07/movies/07ste...           8   \n",
       "4  http://arstechnica.com/business/2015/10/comcas...          53   \n",
       "\n",
       "   num_comments      author       created_at  \n",
       "0            52    ne0phyte   8/4/2016 11:52  \n",
       "1             1    vezycash  6/23/2016 22:20  \n",
       "2             1     hswarna   6/17/2016 0:01  \n",
       "3             2  walterbell   9/30/2015 4:12  \n",
       "4            22      Deinos  10/31/2015 9:48  "
      ]
     },
     "execution_count": 2,
     "metadata": {},
     "output_type": "execute_result"
    }
   ],
   "source": [
    "hn = pd.read_csv('../hacker_news.csv')\n",
    "hn.head()"
   ]
  },
  {
   "cell_type": "markdown",
   "metadata": {},
   "source": [
    "## Dataset Shape"
   ]
  },
  {
   "cell_type": "code",
   "execution_count": 3,
   "metadata": {},
   "outputs": [
    {
     "data": {
      "text/plain": [
       "(20099, 7)"
      ]
     },
     "execution_count": 3,
     "metadata": {},
     "output_type": "execute_result"
    }
   ],
   "source": [
    "hn.shape"
   ]
  },
  {
   "cell_type": "code",
   "execution_count": 4,
   "metadata": {},
   "outputs": [
    {
     "name": "stdout",
     "output_type": "stream",
     "text": [
      "<class 'pandas.core.frame.DataFrame'>\n",
      "RangeIndex: 20099 entries, 0 to 20098\n",
      "Data columns (total 7 columns):\n",
      " #   Column        Non-Null Count  Dtype \n",
      "---  ------        --------------  ----- \n",
      " 0   id            20099 non-null  int64 \n",
      " 1   title         20099 non-null  object\n",
      " 2   url           17659 non-null  object\n",
      " 3   num_points    20099 non-null  int64 \n",
      " 4   num_comments  20099 non-null  int64 \n",
      " 5   author        20099 non-null  object\n",
      " 6   created_at    20099 non-null  object\n",
      "dtypes: int64(3), object(4)\n",
      "memory usage: 1.1+ MB\n"
     ]
    }
   ],
   "source": [
    "hn.info()"
   ]
  },
  {
   "cell_type": "code",
   "execution_count": 5,
   "metadata": {},
   "outputs": [
    {
     "data": {
      "text/plain": [
       "id                 0\n",
       "title              0\n",
       "url             2440\n",
       "num_points         0\n",
       "num_comments       0\n",
       "author             0\n",
       "created_at         0\n",
       "dtype: int64"
      ]
     },
     "execution_count": 5,
     "metadata": {},
     "output_type": "execute_result"
    }
   ],
   "source": [
    "hn.isnull().sum()"
   ]
  },
  {
   "cell_type": "code",
   "execution_count": 6,
   "metadata": {},
   "outputs": [
    {
     "data": {
      "text/html": [
       "<div>\n",
       "<style scoped>\n",
       "    .dataframe tbody tr th:only-of-type {\n",
       "        vertical-align: middle;\n",
       "    }\n",
       "\n",
       "    .dataframe tbody tr th {\n",
       "        vertical-align: top;\n",
       "    }\n",
       "\n",
       "    .dataframe thead th {\n",
       "        text-align: right;\n",
       "    }\n",
       "</style>\n",
       "<table border=\"1\" class=\"dataframe\">\n",
       "  <thead>\n",
       "    <tr style=\"text-align: right;\">\n",
       "      <th></th>\n",
       "      <th>count</th>\n",
       "      <th>mean</th>\n",
       "      <th>std</th>\n",
       "      <th>min</th>\n",
       "      <th>25%</th>\n",
       "      <th>50%</th>\n",
       "      <th>75%</th>\n",
       "      <th>max</th>\n",
       "    </tr>\n",
       "  </thead>\n",
       "  <tbody>\n",
       "    <tr>\n",
       "      <th>id</th>\n",
       "      <td>20099.0</td>\n",
       "      <td>1.131755e+07</td>\n",
       "      <td>696453.087424</td>\n",
       "      <td>10176908.0</td>\n",
       "      <td>10701720.0</td>\n",
       "      <td>11284523.0</td>\n",
       "      <td>11926127.0</td>\n",
       "      <td>12578975.0</td>\n",
       "    </tr>\n",
       "    <tr>\n",
       "      <th>num_points</th>\n",
       "      <td>20099.0</td>\n",
       "      <td>5.029663e+01</td>\n",
       "      <td>107.110322</td>\n",
       "      <td>1.0</td>\n",
       "      <td>3.0</td>\n",
       "      <td>9.0</td>\n",
       "      <td>54.0</td>\n",
       "      <td>2553.0</td>\n",
       "    </tr>\n",
       "    <tr>\n",
       "      <th>num_comments</th>\n",
       "      <td>20099.0</td>\n",
       "      <td>2.480303e+01</td>\n",
       "      <td>56.108639</td>\n",
       "      <td>1.0</td>\n",
       "      <td>1.0</td>\n",
       "      <td>3.0</td>\n",
       "      <td>21.0</td>\n",
       "      <td>1733.0</td>\n",
       "    </tr>\n",
       "  </tbody>\n",
       "</table>\n",
       "</div>"
      ],
      "text/plain": [
       "                count          mean            std         min         25%  \\\n",
       "id            20099.0  1.131755e+07  696453.087424  10176908.0  10701720.0   \n",
       "num_points    20099.0  5.029663e+01     107.110322         1.0         3.0   \n",
       "num_comments  20099.0  2.480303e+01      56.108639         1.0         1.0   \n",
       "\n",
       "                     50%         75%         max  \n",
       "id            11284523.0  11926127.0  12578975.0  \n",
       "num_points           9.0        54.0      2553.0  \n",
       "num_comments         3.0        21.0      1733.0  "
      ]
     },
     "execution_count": 6,
     "metadata": {},
     "output_type": "execute_result"
    }
   ],
   "source": [
    "hn.describe().T"
   ]
  },
  {
   "cell_type": "markdown",
   "metadata": {},
   "source": [
    "# how many times is Python mentioned in the title of stories in our Hacker News dataset."
   ]
  },
  {
   "cell_type": "code",
   "execution_count": 7,
   "metadata": {},
   "outputs": [
    {
     "data": {
      "text/plain": [
       "160"
      ]
     },
     "execution_count": 7,
     "metadata": {},
     "output_type": "execute_result"
    }
   ],
   "source": [
    "len([title for title in hn.title.to_list() if re.search('[Pp]ython', title)])"
   ]
  },
  {
   "cell_type": "code",
   "execution_count": 8,
   "metadata": {},
   "outputs": [
    {
     "data": {
      "text/plain": [
       "160"
      ]
     },
     "execution_count": 8,
     "metadata": {},
     "output_type": "execute_result"
    }
   ],
   "source": [
    "hn.title.str.contains('[Pp]ython').sum()"
   ]
  },
  {
   "cell_type": "markdown",
   "metadata": {},
   "source": [
    "# Titles that mention the programming language Ruby"
   ]
  },
  {
   "cell_type": "code",
   "execution_count": 9,
   "metadata": {},
   "outputs": [
    {
     "data": {
      "text/plain": [
       "190                     Ruby on Google AppEngine Goes Beta\n",
       "484           Related: Pure Ruby Relational Algebra Engine\n",
       "1388     Show HN: HTTPalooza  Ruby's greatest HTTP clie...\n",
       "1949     Rewriting a Ruby C Extension in Rust: How a Na...\n",
       "2022     Show HN: CrashBreak  Reproduce exceptions as f...\n",
       "2163                   Ruby 2.3 Is Only 4% Faster than 2.2\n",
       "2306     Websocket Shootout: Clojure, C++, Elixir, Go, ...\n",
       "2620                       Why Startups Use Ruby on Rails?\n",
       "2645     Ask HN: Should I continue working a Ruby gem f...\n",
       "3290     Ruby on Rails and the importance of being stup...\n",
       "3749     Telegram.org Bot Platform Webhooks Server, for...\n",
       "3874     Warp Directory (wd) unix command line tool for...\n",
       "4026     OS X 10.11 Ruby / Rails users can install ther...\n",
       "4163     Charles Nutter of JRuby Banned by Rubinius for...\n",
       "4602     Quiz: Ruby or Rails? Matz and DHH were not abl...\n",
       "5832     Show HN: An experimental Python to C#/Go/Ruby/...\n",
       "6180     Shrine  A new solution for handling file uploa...\n",
       "7171     JRuby+Truffle: Why its important to optimise t...\n",
       "7235                                        Ruby or Rails?\n",
       "7671                    How I hunted the most odd ruby bug\n",
       "7776     Elixir obsoletes Ruby, Erlang and Clojure in o...\n",
       "7870                            Elixir and Ruby Comparison\n",
       "8502     Show HN: Di-ary  a math note-taking app built ...\n",
       "10212               Ruby has been fast enough for 13 years\n",
       "11060    Show HN: VeryAnts: Probabilistic Integer Arith...\n",
       "11534                             The Ruby Code of Conduct\n",
       "11622    FasterPath: Faster Pathname Handling for Ruby ...\n",
       "12061       Ask HN: What's your favorite ruby HTTP client?\n",
       "12091    Show HN: Automated Bundle Update with Descript...\n",
       "12114                                         Awesome Ruby\n",
       "12543    Ruby Bug: SecureRandom should try /dev/urandom...\n",
       "12987    Show HN: Klipse  code evaluator pluggable on a...\n",
       "13550    Matz: I cannot accept the CoC for the Ruby com...\n",
       "13650                  Programs that rewrite Ruby programs\n",
       "14798                  Ruby Wrapper for Telegram's Bot API\n",
       "14980                    A Ruby gem for genetic algorithms\n",
       "16093                          Master Ruby Web APIs Is Out\n",
       "16149         Ruru: native Ruby extensions written in Rust\n",
       "16327                   Make Ruby Great Again [transcript]\n",
       "16422                                 Object Oriented Ruby\n",
       "16536                           Ruby Deoptimization Engine\n",
       "16875                         Video: Make Ruby Great Again\n",
       "17072    A coupon/deals site built using Roda gem for Ruby\n",
       "17510                        Table Flip on Ruby Exceptions\n",
       "18877    Using Rust with Ruby, a Deep Dive with Yehuda ...\n",
       "19077                           Python is Better than Ruby\n",
       "19224                    Modern concurrency tools for Ruby\n",
       "19743    Using a Neural Network to Train a Ruby Twitter...\n",
       "Name: title, dtype: object"
      ]
     },
     "execution_count": 9,
     "metadata": {},
     "output_type": "execute_result"
    }
   ],
   "source": [
    "hn.title[hn.title.str.contains('[Rr]uby')]"
   ]
  },
  {
   "cell_type": "markdown",
   "metadata": {},
   "source": [
    "# how many titles in our dataset mention email or e-mail"
   ]
  },
  {
   "cell_type": "code",
   "execution_count": 10,
   "metadata": {},
   "outputs": [
    {
     "data": {
      "text/plain": [
       "119      Show HN: Send an email from your shell to your...\n",
       "313          Disposable emails for safe spam free shopping\n",
       "1361     Ask HN: Doing cold emails? helps us prove this...\n",
       "1750     Protect yourself from spam, bots and phishing ...\n",
       "2421                    Ashley Madison hack treating email\n",
       "                               ...                        \n",
       "18098    House panel looking into Reddit post about Cli...\n",
       "18583    Mailgen  Generates clean, responsive HTML for ...\n",
       "18847    Show HN: Crisp iOS keyboard for email and text...\n",
       "19303    Ask HN: Why big email providers don't sign the...\n",
       "19446    Tell HN: Secure email provider Riseup will run...\n",
       "Name: title, Length: 86, dtype: object"
      ]
     },
     "execution_count": 10,
     "metadata": {},
     "output_type": "execute_result"
    }
   ],
   "source": [
    "hn.title[hn.title.str.contains('e-?mail')]"
   ]
  },
  {
   "cell_type": "markdown",
   "metadata": {},
   "source": [
    "#  how many titles in our dataset have tags?"
   ]
  },
  {
   "cell_type": "code",
   "execution_count": 11,
   "metadata": {},
   "outputs": [
    {
     "data": {
      "text/plain": [
       "66       Analysis of 114 propaganda sources from ISIS, ...\n",
       "100      Munich Gunman Got Weapon from the Darknet [Ger...\n",
       "159           File indexing and searching for Plan 9 [pdf]\n",
       "162      Attack on Kunduz Trauma Centre, Afghanistan  I...\n",
       "195                 [Beta] Speedtest.net  HTML5 Speed Test\n",
       "                               ...                        \n",
       "19763    TSA can now force you to go through body scann...\n",
       "19867                       Using Pony for Fintech [video]\n",
       "19947                                Swift Reversing [pdf]\n",
       "19979    WSJ/Dowjones Announce Unauthorized Access Betw...\n",
       "20089    Users Really Do Plug in USB Drives They Find [...\n",
       "Name: title, Length: 444, dtype: object"
      ]
     },
     "execution_count": 11,
     "metadata": {},
     "output_type": "execute_result"
    }
   ],
   "source": [
    "hn.title[hn.title.str.contains('\\[\\w+\\]')]"
   ]
  },
  {
   "cell_type": "markdown",
   "metadata": {},
   "source": [
    " we were able to calculate that 444 of the 20,100 Hacker News stories in our dataset contain tags. What if we wanted to find out what the text of these tags were, and how many of each are in the dataset? In order to do this, we'll need to use capture groups.\n",
    " \n",
    " # extract all of the tags from the Hacker News titles and build a frequency table of those tags."
   ]
  },
  {
   "cell_type": "code",
   "execution_count": 12,
   "metadata": {},
   "outputs": [
    {
     "data": {
      "text/plain": [
       "pdf       276\n",
       "video     111\n",
       "2015        3\n",
       "audio       3\n",
       "slides      2\n",
       "Name: 0, dtype: int64"
      ]
     },
     "execution_count": 12,
     "metadata": {},
     "output_type": "execute_result"
    }
   ],
   "source": [
    "hn['title'].str.extract(r'\\[(\\w+)\\]')[0].value_counts().head()"
   ]
  },
  {
   "cell_type": "code",
   "execution_count": 13,
   "metadata": {},
   "outputs": [],
   "source": [
    "def first_10_matches(pattern):\n",
    "    \"\"\"\n",
    "    Return the story titles that match\n",
    "    the provided regular expression\n",
    "    \"\"\"\n",
    "    return titles[titles.str.contains(pattern)]"
   ]
  },
  {
   "cell_type": "markdown",
   "metadata": {},
   "source": [
    "# Titles that contain Java"
   ]
  },
  {
   "cell_type": "code",
   "execution_count": 14,
   "metadata": {},
   "outputs": [
    {
     "data": {
      "text/plain": [
       "436      Unikernel Power Comes to Java, Node.js, Go, an...\n",
       "811      Ask HN: Are there any projects or compilers wh...\n",
       "1840                     Adopting RxJava on the Airbnb App\n",
       "1972           Node.js vs. Java: Which Is Faster for APIs?\n",
       "2093                     Java EE and Microservices in 2016\n",
       "2367     Code that is valid in both PHP and Java, and p...\n",
       "2493     Ask HN: I've been a java dev for a couple of y...\n",
       "2751                 Eventsourcing for Java 0.4.0 released\n",
       "2910                 2016 JavaOne Intel Keynote  32mn Talk\n",
       "3452     What are the Differences Between Java Platform...\n",
       "4273      Ask HN: Is Bloch's Effective Java Still Current?\n",
       "4624     Oracle Discloses Critical Java Vulnerability i...\n",
       "5461                        Lambdas (in Java 8) Screencast\n",
       "5847     IntelliJ IDEA and the whole IntelliJ platform ...\n",
       "5947                                        JavaFX is dead\n",
       "6268             Oracle deprecating Java applets in Java 9\n",
       "7436     Forget Guava: 5 Google Libraries Java Develope...\n",
       "7481     Ask HN: Beside Java what languages have a stro...\n",
       "8100        Advantages of Functional Programming in Java 8\n",
       "8135     Show HN: Rogue AI Dungeon, javacript bot scrip...\n",
       "8447                  Show HN: Java multicore intelligence\n",
       "8487     Why IntelliJ IDEA is hailed as the most friend...\n",
       "8984     Ask HN: Should Learn/switch to JavaScript Prog...\n",
       "8987     Last-khajiit/vkb: Java bot for vk.com competit...\n",
       "10529             Angular 2 coming to Java, Python and PHP\n",
       "11454    Ask HN: Java or .NET for a new big enterprise ...\n",
       "11902                         The Java Deserialization Bug\n",
       "12382          Ask HN: Why does Java continue to dominate?\n",
       "12582    Java Memory Model Examples: Good, Bad and Ugly...\n",
       "12711    Oracle seeks $9.3B for Googles use of Java in ...\n",
       "13048        A high performance caching library for Java 8\n",
       "13105    Show HN: Backblaze-b2 is a simple java library...\n",
       "13150             Java Tops TIOBE's Popular-Languages List\n",
       "13170    Show HN: Tablesaw: A Java data-frame for 500M-...\n",
       "13272      Java StringBuffer and StringBuilder performance\n",
       "13620    1M Java questions have now been asked on Stack...\n",
       "13839        Ask HN: Hosting a Java Spring web application\n",
       "13843                                 Var and val in Java?\n",
       "13844               Answerz.com  Java and J2ee Programming\n",
       "13930     Java 8s new Optional type doesn't solve anything\n",
       "13934    Java 6 vs. Java 7 vs. Java 8 between 2013  201...\n",
       "15257                       Oracle and the fall of Java EE\n",
       "15868                 Java generics never cease to impress\n",
       "16023    Will you use ReactJS with a REST service inste...\n",
       "16932       Swift versus Java: the bitset performance test\n",
       "16948          Show HN: Bt  0-hassle BitTorrent for Java 8\n",
       "17579                Java Lazy Streamed Zip Implementation\n",
       "18407    Show HN: Scala idioms in Java: cases, patterns...\n",
       "19481    Show HN: Adding List Comprehension in Java - E...\n",
       "19735          Java Named Top Programming Language of 2015\n",
       "Name: title, dtype: object"
      ]
     },
     "execution_count": 14,
     "metadata": {},
     "output_type": "execute_result"
    }
   ],
   "source": [
    "hn.title[hn.title.str.contains(r'[Jj]ava[^Ss]')]"
   ]
  },
  {
   "cell_type": "code",
   "execution_count": 15,
   "metadata": {},
   "outputs": [
    {
     "data": {
      "text/plain": [
       "436      Unikernel Power Comes to Java, Node.js, Go, an...\n",
       "811      Ask HN: Are there any projects or compilers wh...\n",
       "1023                          Pippo  Web framework in Java\n",
       "1972           Node.js vs. Java: Which Is Faster for APIs?\n",
       "2093                     Java EE and Microservices in 2016\n",
       "2367     Code that is valid in both PHP and Java, and p...\n",
       "2493     Ask HN: I've been a java dev for a couple of y...\n",
       "2751                 Eventsourcing for Java 0.4.0 released\n",
       "3228                               Comparing Rust and Java\n",
       "3452     What are the Differences Between Java Platform...\n",
       "3627                     Friends don't let friends do Java\n",
       "4273      Ask HN: Is Bloch's Effective Java Still Current?\n",
       "4624     Oracle Discloses Critical Java Vulnerability i...\n",
       "5461                        Lambdas (in Java 8) Screencast\n",
       "5847     IntelliJ IDEA and the whole IntelliJ platform ...\n",
       "6268             Oracle deprecating Java applets in Java 9\n",
       "7436     Forget Guava: 5 Google Libraries Java Develope...\n",
       "7481     Ask HN: Beside Java what languages have a stro...\n",
       "7686             Insider: Oracle has lost interest in Java\n",
       "8100        Advantages of Functional Programming in Java 8\n",
       "8447                  Show HN: Java multicore intelligence\n",
       "8487     Why IntelliJ IDEA is hailed as the most friend...\n",
       "8984     Ask HN: Should Learn/switch to JavaScript Prog...\n",
       "8987     Last-khajiit/vkb: Java bot for vk.com competit...\n",
       "10529             Angular 2 coming to Java, Python and PHP\n",
       "11454    Ask HN: Java or .NET for a new big enterprise ...\n",
       "11902                         The Java Deserialization Bug\n",
       "12382          Ask HN: Why does Java continue to dominate?\n",
       "12582    Java Memory Model Examples: Good, Bad and Ugly...\n",
       "12711    Oracle seeks $9.3B for Googles use of Java in ...\n",
       "12730                              Show HN: Shazam in Java\n",
       "13048        A high performance caching library for Java 8\n",
       "13105    Show HN: Backblaze-b2 is a simple java library...\n",
       "13150             Java Tops TIOBE's Popular-Languages List\n",
       "13170    Show HN: Tablesaw: A Java data-frame for 500M-...\n",
       "13272      Java StringBuffer and StringBuilder performance\n",
       "13620    1M Java questions have now been asked on Stack...\n",
       "13839        Ask HN: Hosting a Java Spring web application\n",
       "13843                                 Var and val in Java?\n",
       "13844               Answerz.com  Java and J2ee Programming\n",
       "13930     Java 8s new Optional type doesn't solve anything\n",
       "13934    Java 6 vs. Java 7 vs. Java 8 between 2013  201...\n",
       "14393              JavaScript is immature compared to Java\n",
       "14847    Show HN: TurboRLE: Bringing Turbo Run Length E...\n",
       "15257                       Oracle and the fall of Java EE\n",
       "15868                 Java generics never cease to impress\n",
       "16023    Will you use ReactJS with a REST service inste...\n",
       "16932       Swift versus Java: the bitset performance test\n",
       "16948          Show HN: Bt  0-hassle BitTorrent for Java 8\n",
       "17458                            Super Mario clone in Java\n",
       "17579                Java Lazy Streamed Zip Implementation\n",
       "18407    Show HN: Scala idioms in Java: cases, patterns...\n",
       "19481    Show HN: Adding List Comprehension in Java - E...\n",
       "19735          Java Named Top Programming Language of 2015\n",
       "Name: title, dtype: object"
      ]
     },
     "execution_count": 15,
     "metadata": {},
     "output_type": "execute_result"
    }
   ],
   "source": [
    "hn.title[hn.title.str.contains(r'\\b[Jj]ava\\b')]"
   ]
  },
  {
   "cell_type": "markdown",
   "metadata": {},
   "source": [
    "# how many titles have tags at the start versus the end of the story title in our Hacker News dataset."
   ]
  },
  {
   "cell_type": "code",
   "execution_count": 16,
   "metadata": {},
   "outputs": [
    {
     "data": {
      "text/plain": [
       "15"
      ]
     },
     "execution_count": 16,
     "metadata": {},
     "output_type": "execute_result"
    }
   ],
   "source": [
    "hn.title.str.contains(r'^\\[\\w+\\]').sum()"
   ]
  },
  {
   "cell_type": "code",
   "execution_count": 17,
   "metadata": {},
   "outputs": [
    {
     "data": {
      "text/plain": [
       "417"
      ]
     },
     "execution_count": 17,
     "metadata": {},
     "output_type": "execute_result"
    }
   ],
   "source": [
    "hn.title.str.contains(r'\\[\\w+\\]$').sum()"
   ]
  },
  {
   "cell_type": "markdown",
   "metadata": {},
   "source": [
    "# count the number of times that email is mentioned in story titles. "
   ]
  },
  {
   "cell_type": "code",
   "execution_count": 18,
   "metadata": {},
   "outputs": [
    {
     "data": {
      "text/plain": [
       "141"
      ]
     },
     "execution_count": 18,
     "metadata": {},
     "output_type": "execute_result"
    }
   ],
   "source": [
    "hn.title.str.contains(r'\\be\\-?\\s?mails?\\b', flags=re.I).sum()"
   ]
  },
  {
   "cell_type": "markdown",
   "metadata": {},
   "source": [
    "We'll continue to analyze and count mentions of different programming languages in the dataset, and then we'll finish by extracting the different components of the URLs submitted to Hacker News.\n",
    "\n",
    "# count the number of times that sql is mentioned in story titles."
   ]
  },
  {
   "cell_type": "code",
   "execution_count": 19,
   "metadata": {},
   "outputs": [
    {
     "data": {
      "text/plain": [
       "108"
      ]
     },
     "execution_count": 19,
     "metadata": {},
     "output_type": "execute_result"
    }
   ],
   "source": [
    "hn.title.str.contains(r'sql', flags=re.I).sum()"
   ]
  },
  {
   "cell_type": "code",
   "execution_count": 20,
   "metadata": {},
   "outputs": [
    {
     "data": {
      "text/html": [
       "<div>\n",
       "<style scoped>\n",
       "    .dataframe tbody tr th:only-of-type {\n",
       "        vertical-align: middle;\n",
       "    }\n",
       "\n",
       "    .dataframe tbody tr th {\n",
       "        vertical-align: top;\n",
       "    }\n",
       "\n",
       "    .dataframe thead th {\n",
       "        text-align: right;\n",
       "    }\n",
       "</style>\n",
       "<table border=\"1\" class=\"dataframe\">\n",
       "  <thead>\n",
       "    <tr style=\"text-align: right;\">\n",
       "      <th></th>\n",
       "      <th>num_comments</th>\n",
       "    </tr>\n",
       "    <tr>\n",
       "      <th>flavor</th>\n",
       "      <th></th>\n",
       "    </tr>\n",
       "  </thead>\n",
       "  <tbody>\n",
       "    <tr>\n",
       "      <th>cloudsql</th>\n",
       "      <td>5.000000</td>\n",
       "    </tr>\n",
       "    <tr>\n",
       "      <th>memsql</th>\n",
       "      <td>14.000000</td>\n",
       "    </tr>\n",
       "    <tr>\n",
       "      <th>mysql</th>\n",
       "      <td>12.230769</td>\n",
       "    </tr>\n",
       "    <tr>\n",
       "      <th>nosql</th>\n",
       "      <td>14.529412</td>\n",
       "    </tr>\n",
       "    <tr>\n",
       "      <th>postgresql</th>\n",
       "      <td>25.962963</td>\n",
       "    </tr>\n",
       "    <tr>\n",
       "      <th>sparksql</th>\n",
       "      <td>1.000000</td>\n",
       "    </tr>\n",
       "  </tbody>\n",
       "</table>\n",
       "</div>"
      ],
      "text/plain": [
       "            num_comments\n",
       "flavor                  \n",
       "cloudsql        5.000000\n",
       "memsql         14.000000\n",
       "mysql          12.230769\n",
       "nosql          14.529412\n",
       "postgresql     25.962963\n",
       "sparksql        1.000000"
      ]
     },
     "execution_count": 20,
     "metadata": {},
     "output_type": "execute_result"
    }
   ],
   "source": [
    "hn_sql = hn[hn.title.str.contains(r'\\w+sql', flags=re.I)].copy()\n",
    "hn_sql['flavor'] = hn['title'].str.extract(r'(\\w+sql)', flags=re.I)[0].str.lower()\n",
    "sql_pivot = hn_sql.pivot_table(index='flavor', values='num_comments')\n",
    "sql_pivot"
   ]
  },
  {
   "cell_type": "markdown",
   "metadata": {},
   "source": [
    "# version of Python that is mentioned most often in our dataset"
   ]
  },
  {
   "cell_type": "code",
   "execution_count": 21,
   "metadata": {},
   "outputs": [
    {
     "data": {
      "text/plain": [
       "{'3': 10,\n",
       " '2': 3,\n",
       " '3.5': 3,\n",
       " '3.6': 2,\n",
       " '2.7': 1,\n",
       " '8': 1,\n",
       " '1.5': 1,\n",
       " '3.5.0': 1,\n",
       " '4': 1}"
      ]
     },
     "execution_count": 21,
     "metadata": {},
     "output_type": "execute_result"
    }
   ],
   "source": [
    "hn.title.str.extract(r'python ([\\d\\.]+)', flags=re.I)[0].value_counts().to_dict()"
   ]
  },
  {
   "cell_type": "markdown",
   "metadata": {},
   "source": [
    "# C programming titles"
   ]
  },
  {
   "cell_type": "code",
   "execution_count": 22,
   "metadata": {},
   "outputs": [
    {
     "data": {
      "text/plain": [
       "221                   MemSQL (YC W11) Raises $36M Series C\n",
       "365                       The new C standards are worth it\n",
       "444            Moz raises $10m Series C from Foundry Group\n",
       "521           Fuchsia: Micro kernel written in C by Google\n",
       "1307             Show HN: Yupp, yet another C preprocessor\n",
       "                               ...                        \n",
       "18549            Show HN: An awesome C library for Windows\n",
       "18649                 Python vs. C/C++ in embedded systems\n",
       "18689                    Philz Coffee raises $45M Series C\n",
       "19151                      Ask HN: How to learn C in 2016?\n",
       "19933    Lightweight C library to parse NMEA 0183 sente...\n",
       "Name: title, Length: 105, dtype: object"
      ]
     },
     "execution_count": 22,
     "metadata": {},
     "output_type": "execute_result"
    }
   ],
   "source": [
    "hn.title[hn.title.str.contains(r'(?!<series)\\bc\\b(?![\\.\\+])', flags=re.I)]"
   ]
  },
  {
   "cell_type": "markdown",
   "metadata": {},
   "source": [
    "# make all the different variations of \"email\" in the dataset uniform."
   ]
  },
  {
   "cell_type": "code",
   "execution_count": 24,
   "metadata": {},
   "outputs": [
    {
     "data": {
      "text/plain": [
       "119      Show HN: Send an email from your shell to your...\n",
       "161      Computer Specialist Who Deleted Clinton emails...\n",
       "174                                        email Apps Suck\n",
       "261      emails Show Unqualified Clinton Foundation Don...\n",
       "313          Disposable emails for safe spam free shopping\n",
       "                               ...                        \n",
       "19303    Ask HN: Why big email providers don't sign the...\n",
       "19395    I used HTML email when applying for jobs, here...\n",
       "19446    Tell HN: Secure email provider Riseup will run...\n",
       "19838                       Petition to Open Sourcemailbox\n",
       "19905    Gmail Will Soon Warn Users When emails Arrive ...\n",
       "Name: title, Length: 151, dtype: object"
      ]
     },
     "execution_count": 24,
     "metadata": {},
     "output_type": "execute_result"
    }
   ],
   "source": [
    "hn['title'] = hn.title.str.replace(r'e[\\-\\s]?mail','email', flags=re.I)\n",
    "hn.title[hn.title.str.contains('email')]"
   ]
  },
  {
   "cell_type": "markdown",
   "metadata": {},
   "source": [
    "#  extract components of URLs from our dataset.\n",
    "\n",
    "most stories on Hacker News contain a link to an external resource. Once we have extracted the domains, we will be building a frequency table so we can determine the most popular domains. There are over 7,000 unique domains in our dataset, so to make the frequency table easier to analyze, we'll look at only the top 20 domains"
   ]
  },
  {
   "cell_type": "code",
   "execution_count": 26,
   "metadata": {
    "scrolled": true
   },
   "outputs": [
    {
     "data": {
      "text/plain": [
       "github.com                1008\n",
       "medium.com                 825\n",
       "www.nytimes.com            525\n",
       "www.theguardian.com        248\n",
       "techcrunch.com             245\n",
       "                          ... \n",
       "pss-camera.appspot.com       1\n",
       "www.mrrrgn.com               1\n",
       "ams-ix.net                   1\n",
       "www.codeshare.co.uk          1\n",
       "lambdaschool.com             1\n",
       "Name: 0, Length: 7251, dtype: int64"
      ]
     },
     "execution_count": 26,
     "metadata": {},
     "output_type": "execute_result"
    }
   ],
   "source": [
    "hn.url.str.extract(r'https?://([\\w\\-\\.]+)', flags=re.I)[0].value_counts()"
   ]
  },
  {
   "cell_type": "code",
   "execution_count": 28,
   "metadata": {},
   "outputs": [
    {
     "data": {
      "text/html": [
       "<div>\n",
       "<style scoped>\n",
       "    .dataframe tbody tr th:only-of-type {\n",
       "        vertical-align: middle;\n",
       "    }\n",
       "\n",
       "    .dataframe tbody tr th {\n",
       "        vertical-align: top;\n",
       "    }\n",
       "\n",
       "    .dataframe thead th {\n",
       "        text-align: right;\n",
       "    }\n",
       "</style>\n",
       "<table border=\"1\" class=\"dataframe\">\n",
       "  <thead>\n",
       "    <tr style=\"text-align: right;\">\n",
       "      <th></th>\n",
       "      <th>protocol</th>\n",
       "      <th>domain</th>\n",
       "      <th>path</th>\n",
       "    </tr>\n",
       "  </thead>\n",
       "  <tbody>\n",
       "    <tr>\n",
       "      <th>0</th>\n",
       "      <td>http://www.interactivedynamicvideo.com/</td>\n",
       "      <td>www.interactivedynamicvideo.com</td>\n",
       "      <td></td>\n",
       "    </tr>\n",
       "    <tr>\n",
       "      <th>1</th>\n",
       "      <td>http://www.thewire.com/entertainment/2013/04/f...</td>\n",
       "      <td>www.thewire.com</td>\n",
       "      <td>entertainment/2013/04/florida-djs-april-fools-...</td>\n",
       "    </tr>\n",
       "    <tr>\n",
       "      <th>2</th>\n",
       "      <td>https://www.amazon.com/Technology-Ventures-Ent...</td>\n",
       "      <td>www.amazon.com</td>\n",
       "      <td>Technology-Ventures-Enterprise-Thomas-Byers/dp...</td>\n",
       "    </tr>\n",
       "    <tr>\n",
       "      <th>3</th>\n",
       "      <td>http://www.nytimes.com/2007/11/07/movies/07ste...</td>\n",
       "      <td>www.nytimes.com</td>\n",
       "      <td>2007/11/07/movies/07stein.html?_r=0</td>\n",
       "    </tr>\n",
       "    <tr>\n",
       "      <th>4</th>\n",
       "      <td>http://arstechnica.com/business/2015/10/comcas...</td>\n",
       "      <td>arstechnica.com</td>\n",
       "      <td>business/2015/10/comcast-and-other-isps-boost-...</td>\n",
       "    </tr>\n",
       "  </tbody>\n",
       "</table>\n",
       "</div>"
      ],
      "text/plain": [
       "                                            protocol  \\\n",
       "0            http://www.interactivedynamicvideo.com/   \n",
       "1  http://www.thewire.com/entertainment/2013/04/f...   \n",
       "2  https://www.amazon.com/Technology-Ventures-Ent...   \n",
       "3  http://www.nytimes.com/2007/11/07/movies/07ste...   \n",
       "4  http://arstechnica.com/business/2015/10/comcas...   \n",
       "\n",
       "                            domain  \\\n",
       "0  www.interactivedynamicvideo.com   \n",
       "1                  www.thewire.com   \n",
       "2                   www.amazon.com   \n",
       "3                  www.nytimes.com   \n",
       "4                  arstechnica.com   \n",
       "\n",
       "                                                path  \n",
       "0                                                     \n",
       "1  entertainment/2013/04/florida-djs-april-fools-...  \n",
       "2  Technology-Ventures-Enterprise-Thomas-Byers/dp...  \n",
       "3                2007/11/07/movies/07stein.html?_r=0  \n",
       "4  business/2015/10/comcast-and-other-isps-boost-...  "
      ]
     },
     "execution_count": 28,
     "metadata": {},
     "output_type": "execute_result"
    }
   ],
   "source": [
    "hn_urls=hn.url.str.extract(r'(?P<protocol>\\w+://(?P<domain>[\\w\\.\\-]+)/?(?P<path>.*))', flags=re.I)\n",
    "hn_urls.head()"
   ]
  },
  {
   "cell_type": "code",
   "execution_count": 30,
   "metadata": {},
   "outputs": [
    {
     "data": {
      "text/plain": [
       "github.com                1008\n",
       "medium.com                 825\n",
       "www.nytimes.com            525\n",
       "www.theguardian.com        248\n",
       "techcrunch.com             245\n",
       "                          ... \n",
       "pss-camera.appspot.com       1\n",
       "www.mrrrgn.com               1\n",
       "ams-ix.net                   1\n",
       "www.codeshare.co.uk          1\n",
       "lambdaschool.com             1\n",
       "Name: domain, Length: 7251, dtype: int64"
      ]
     },
     "execution_count": 30,
     "metadata": {},
     "output_type": "execute_result"
    }
   ],
   "source": [
    "hn_urls.domain.value_counts()"
   ]
  }
 ],
 "metadata": {
  "kernelspec": {
   "display_name": "Python 3",
   "language": "python",
   "name": "python3"
  },
  "language_info": {
   "codemirror_mode": {
    "name": "ipython",
    "version": 3
   },
   "file_extension": ".py",
   "mimetype": "text/x-python",
   "name": "python",
   "nbconvert_exporter": "python",
   "pygments_lexer": "ipython3",
   "version": "3.6.5"
  }
 },
 "nbformat": 4,
 "nbformat_minor": 4
}
